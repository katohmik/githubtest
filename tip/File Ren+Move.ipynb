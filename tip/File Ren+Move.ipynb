{
 "cells": [
  {
   "cell_type": "code",
   "execution_count": 5,
   "id": "ce47d9c2",
   "metadata": {},
   "outputs": [],
   "source": [
    "import os\n",
    "import shutil\n",
    "\n",
    "def rename_files(folder_path, starting_number):\n",
    "    file_list = os.listdir(folder_path)\n",
    "    file_list.sort()  # 파일을 오름차순으로 정렬합니다.\n",
    "\n",
    "    for i, filename in enumerate(file_list, starting_number):\n",
    "        old_path = os.path.join(folder_path, filename)\n",
    "        new_filename = f\"{i:05d}.jpg\"\n",
    "        new_path = os.path.join(folder_path, new_filename)\n",
    "        os.rename(old_path, new_path)\n",
    "\n",
    "# 첫 번째 폴더와 두 번째 폴더의 경로를 설정합니다.\n",
    "folder1_path = \"C:\\\\katohmik13\\\\final\\\\검수\\\\등심스테이크\\\\image\"\n",
    "folder2_path = \"C:\\\\katohmik13\\\\final\\\\검수\\\\안심스테이크\\\\image\"\n",
    "\n",
    "# 두 번째 폴더의 파일에 대한 시작 번호를 설정합니다.\n",
    "starting_number = 10001\n",
    "\n",
    "# 두 번째 폴더의 파일명을 변경합니다.\n",
    "rename_files(folder2_path, starting_number)\n",
    "\n",
    "# 두 번째 폴더의 파일을 첫 번째 폴더로 이동합니다.\n",
    "for filename in os.listdir(folder2_path):\n",
    "    src_path = os.path.join(folder2_path, filename)\n",
    "    dst_path = os.path.join(folder1_path, filename)\n",
    "    shutil.move(src_path, dst_path)"
   ]
  },
  {
   "cell_type": "code",
   "execution_count": 6,
   "id": "5f9a34d5",
   "metadata": {},
   "outputs": [],
   "source": [
    "# 파일 이름을 00001부터 재정렬하기.\n",
    "import os\n",
    "\n",
    "folder1_path = \"C:\\\\katohmik13\\\\final\\\\검수\\\\등심스테이크\\\\image\"\n",
    "\n",
    "# 폴더 내의 파일들을 정렬된 리스트로 가져옵니다.\n",
    "file_list = os.listdir(folder1_path)\n",
    "file_list.sort()\n",
    "\n",
    "# 새로운 이름으로 파일들의 이름을 변경합니다.\n",
    "for i, filename in enumerate(file_list, start=1):\n",
    "    file_extension = os.path.splitext(filename)[1]  # 파일 확장자 가져오기\n",
    "    new_filename = f\"{i:05d}{file_extension}\"\n",
    "    old_path = os.path.join(folder1_path, filename)\n",
    "    new_path = os.path.join(folder1_path, new_filename)\n",
    "    os.rename(old_path, new_path)"
   ]
  },
  {
   "cell_type": "code",
   "execution_count": null,
   "id": "0c31cf00",
   "metadata": {},
   "outputs": [],
   "source": []
  }
 ],
 "metadata": {
  "kernelspec": {
   "display_name": "Python 3 (ipykernel)",
   "language": "python",
   "name": "python3"
  },
  "language_info": {
   "codemirror_mode": {
    "name": "ipython",
    "version": 3
   },
   "file_extension": ".py",
   "mimetype": "text/x-python",
   "name": "python",
   "nbconvert_exporter": "python",
   "pygments_lexer": "ipython3",
   "version": "3.9.13"
  }
 },
 "nbformat": 4,
 "nbformat_minor": 5
}
