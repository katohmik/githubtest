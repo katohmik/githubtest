{
 "cells": [
  {
   "cell_type": "markdown",
   "id": "b3f2c557",
   "metadata": {},
   "source": [
    "## 1. 변수(variable)\n",
    "\n",
    "- 임시 기억(저장) 장소(공간) (주기억장치에 잠깐 보관)(램)(휘발성)\n",
    "\n",
    "## 2. 변수의 특징\n",
    "- 묵시적 선언\n",
    "- 동적 바인딩\n",
    "- immutable(불변성)"
   ]
  },
  {
   "cell_type": "markdown",
   "id": "d162ee45",
   "metadata": {},
   "source": [
    "## 3. 자료형(Data Type)\n",
    "\n",
    "### (1) 기본(단순) 자료형\n",
    "\n",
    "- 데이터를 하나만 저장 가능\n",
    "    - int\n",
    "    - float\n",
    "    - str\n",
    "    - bool\n",
    "    \n",
    "    1) int, float\n",
    "    \n",
    "<class 'int'>\n",
    "<class 'float'>\n",
    "\n",
    "    2) str\n",
    "   "
   ]
  },
  {
   "cell_type": "markdown",
   "id": "87bd6066",
   "metadata": {},
   "source": [
    "#### 문자열저장\n",
    "\n"
   ]
  },
  {
   "cell_type": "code",
   "execution_count": 2,
   "id": "43844895",
   "metadata": {},
   "outputs": [
    {
     "name": "stdout",
     "output_type": "stream",
     "text": [
      "<class 'str'>\n",
      "<class 'str'>\n",
      "<class 'str'>\n",
      "제 이름은 \"홍길동\"입니다\n",
      "제 이름은 \"홍길동\"입니다.\n",
      "만나서 반갑습니다.\n"
     ]
    }
   ],
   "source": [
    "i = '10'\n",
    "print(type(i))\n",
    "\n",
    "i = '안녕하세요'\n",
    "print(type(i))\n",
    "\n",
    "i = '제 이름은 \"홍길동\"입니다'\n",
    "print(type(i))\n",
    "print(i)\n",
    "\n",
    "i = '''제 이름은 \"홍길동\"입니다.\n",
    "만나서 반갑습니다.'''\n",
    "print(i)\n"
   ]
  },
  {
   "cell_type": "code",
   "execution_count": 15,
   "id": "80c14ffd",
   "metadata": {},
   "outputs": [
    {
     "name": "stdout",
     "output_type": "stream",
     "text": [
      "이것은 파이썬입니다. \n",
      "열심히 공부합시다\n",
      "이것은 파이썬입니다. \t열심히 공부합시다\n",
      "\\t는 탭키 기능입니다.\n",
      "\"제 이름은 '홍길동'입니다.\"\n"
     ]
    }
   ],
   "source": [
    "##### 특수 문자(제어 문자) : \\문자, escape문자(\\)\n",
    "\n",
    "a = '이것은 파이썬입니다. \\n열심히 공부합시다'\n",
    "print(a)\n",
    "\n",
    "\n",
    "a = '이것은 파이썬입니다. \\t열심히 공부합시다'\n",
    "print(a)\n",
    "\n",
    "# \"\\t는 탭키 기능입니다.\"를 출력\n",
    "a= \"\\\\t는 탭키 기능입니다.\"\n",
    "print(a)\n",
    "\n",
    "# \"제 이름은 '홍길동'입니다.\"를 출력\n",
    "b = \"\\\"제 이름은 '홍길동'입니다.\\\"\"\n",
    "print(b)"
   ]
  },
  {
   "cell_type": "code",
   "execution_count": 16,
   "id": "c7be2e14",
   "metadata": {},
   "outputs": [
    {
     "name": "stdout",
     "output_type": "stream",
     "text": [
      "4\n"
     ]
    }
   ],
   "source": [
    "##### #를 줄바꾸믜 용도로도 사용(파이썬의 특징)\n",
    "a = 2 + 10 - 5 \\\n",
    "* 3 + 7\n",
    "print(a)"
   ]
  },
  {
   "cell_type": "code",
   "execution_count": 20,
   "id": "98b7367c",
   "metadata": {},
   "outputs": [
    {
     "name": "stdout",
     "output_type": "stream",
     "text": [
      "python is fun and great\n",
      "python  is fun  and great\n"
     ]
    }
   ],
   "source": [
    "##### 문자열 연결\n",
    "a = \"python\"\n",
    "b = \" is fun\"\n",
    "c = \" and great\"\n",
    "\n",
    "print(a + b + c)\n",
    "print(a, b, c)"
   ]
  },
  {
   "cell_type": "code",
   "execution_count": 21,
   "id": "914f3b51",
   "metadata": {},
   "outputs": [
    {
     "name": "stdout",
     "output_type": "stream",
     "text": [
      "pythonpythonpython\n"
     ]
    }
   ],
   "source": [
    "##### 문자열을 반복\n",
    "\n",
    "print(a * 3)"
   ]
  },
  {
   "cell_type": "code",
   "execution_count": 3,
   "id": "febcb9d1",
   "metadata": {},
   "outputs": [
    {
     "name": "stdout",
     "output_type": "stream",
     "text": [
      "6\n"
     ]
    }
   ],
   "source": [
    "##### 문자열의 길이\n",
    "a = \"python\"\n",
    "print(len(a))"
   ]
  },
  {
   "cell_type": "code",
   "execution_count": 8,
   "id": "5ecdb42e",
   "metadata": {},
   "outputs": [
    {
     "name": "stdout",
     "output_type": "stream",
     "text": [
      "Life is too short. You need python\n",
      "e o\n",
      "----------------\n",
      "n\n",
      "o\n",
      "----------------\n",
      "n\n",
      "h\n"
     ]
    }
   ],
   "source": [
    "##### 인덱싱(indexing) : 원하는 문자에 접근할 수 있는 방법을 제공\n",
    "인덱스를 이용하면 []대괄호 사용\n",
    "\n",
    "a = \"Life is too short. You need python\"\n",
    "print(a)\n",
    "print(a[3],a[10])\n",
    "\n",
    "print(\"----------------\")\n",
    "print(a[len(a)-1])\n",
    "print(a[len(a)-2])\n",
    "\n",
    "print(\"----------------\")\n",
    "print(a[-1])\n",
    "print(a[-3])\n"
   ]
  },
  {
   "cell_type": "code",
   "execution_count": 15,
   "id": "fba4aa82",
   "metadata": {},
   "outputs": [
    {
     "name": "stdout",
     "output_type": "stream",
     "text": [
      "Life i\n",
      "Life i\n",
      "Life is too short. You need python\n",
      "You need\n",
      "----------------\n",
      "Life is too short. You need python\n",
      "Lf stosot o edpto\n",
      "Lesosr ue tn\n"
     ]
    }
   ],
   "source": [
    "##### 슬라이싱(Slicing) ->  [시작위치 : 끝위치 : 간격] 끝 위치는 -1되서 나오는 것을 잊지 말것. 파이썬 외에도 대부분 이렇다.\n",
    "\n",
    "print(a[0 : 6])\n",
    "print(a[ : 6])\n",
    "print(a[ : ])\n",
    "print(a[19 : -7])\n",
    "\n",
    "print(\"----------------\")\n",
    "\n",
    "print(a[ : : 1])\n",
    "print(a[ : : 2])\n",
    "print(a[ : : 3])"
   ]
  },
  {
   "cell_type": "code",
   "execution_count": 38,
   "id": "75214f96",
   "metadata": {},
   "outputs": [
    {
     "name": "stdout",
     "output_type": "stream",
     "text": [
      "현재 온도는 18도 입니다.\n",
      "현재 온도는 18도 입니다. 그리고 오늘 날씨는 맑음입니다.\n",
      "나눗셈의 결과 : 3 / 5 = 0.60입니다\n",
      "-------------------------------------------\n",
      "나눗셈의 결과 : 3 / 5 = 0.6\n",
      "나눗셈의 결과 : 3 / 5 = 0.6\n",
      "나눗셈의 결과 : 3 / 5 = 0.6\n",
      "나눗셈       의 결과 : 3 / 5 = 0.6\n",
      "나눗셈       의 결과 : 3 / 5 = 0.6\n",
      "       나눗셈의 결과 : 3 / 5 = 0.6\n",
      "*******나눗셈의 결과 : 3 / 5 = 0.6\n"
     ]
    }
   ],
   "source": [
    "#####  문자열 포맷팅 : %, format()\n",
    "\n",
    "### %를 이용하는 방법\n",
    "print(\"현재 온도는 18도 입니다.\")\n",
    "print(\"현재 온도는 %d도 입니다. 그리고 오늘 날씨는 %s입니다.\" % (18, \"맑음\"))\n",
    "\n",
    "# 나눗셈의 결과 : 3 / 5 = 0.6 입니다\n",
    "print(\"%s의 결과 : %d %c %d = %.2f입니다\" % (\"나눗셈\", 3, \"/\", 5, 0.6))\n",
    "\n",
    "print(\"-------------------------------------------\")\n",
    "\n",
    "### format()을 이용하는 방법\n",
    "print(\"{}의 결과 : {} {} {} = {}\".format(\"나눗셈\", 3, \"/\", 5, (3/5)))\n",
    "print(\"{3}의 결과 : {0} {1} {2} = {4}\".format( 3, \"/\", 5, \"나눗셈\", (3/5)))\n",
    "print(\"{title}의 결과 : {n1} {op} {n2} = {result}\".format(n1=3, op=\"/\", n2=5, title=\"나눗셈\", result=(3/5)))\n",
    "print(\"{3:10}의 결과 : {0} {1} {2} = {4}\".format( 3, \"/\", 5, \"나눗셈\", (3/5)))\n",
    "print(\"{3:<10}의 결과 : {0} {1} {2} = {4}\".format( 3, \"/\", 5, \"나눗셈\", (3/5)))\n",
    "print(\"{3:>10}의 결과 : {0} {1} {2} = {4}\".format( 3, \"/\", 5, \"나눗셈\", (3/5)))\n",
    "print(\"{3:*>10}의 결과 : {0} {1} {2} = {4}\".format( 3, \"/\", 5, \"나눗셈\", (3/5)))"
   ]
  },
  {
   "cell_type": "code",
   "execution_count": 31,
   "id": "8e78083c",
   "metadata": {},
   "outputs": [
    {
     "data": {
      "text/plain": [
       "1"
      ]
     },
     "execution_count": 31,
     "metadata": {},
     "output_type": "execute_result"
    }
   ],
   "source": [
    "\"abced\".count(\"e\")"
   ]
  },
  {
   "cell_type": "code",
   "execution_count": 41,
   "id": "2965665e",
   "metadata": {},
   "outputs": [
    {
     "name": "stdout",
     "output_type": "stream",
     "text": [
      "2030761568848\n",
      "2030761568880\n",
      "2030761568848\n",
      "2030761568848\n"
     ]
    }
   ],
   "source": [
    "i = 10\n",
    "print(id(i))\n",
    "\n",
    "\n",
    "i = 11\n",
    "print(id(i))\n",
    "\n",
    "\n",
    "i = 10\n",
    "\n",
    "print(id(i))\n",
    "\n",
    "\n",
    "j = i\n",
    "print(id(j))"
   ]
  },
  {
   "cell_type": "markdown",
   "id": "d9fa0f9e",
   "metadata": {},
   "source": [
    "10이라는 값을 가진 어떠한 주소에서 10을 가져오는 것. \n",
    "i의 결과가 10에서 11로 바뀌면서 10이라는 값이 저장되어 있던 공간(주소가 가르키는)이 Garbage가 되어버림\n",
    "또 다른 10의 값을 불러오면 첫 위의 10의 주소가 아니라 새로운 주소에 위치한 10번이 나타나는 것임.(또한 11의 값 역시 garbege가 되버림)\n",
    "이렇게되면 j에게는 i라는 것 값이 저장되어 있는 주소를 불러옴(그리고 i는 다시 i가 가르키는 주소를 통해 값을 가져옴)\n",
    "\n",
    "이러한 garbage가 쌓이면 프로그램이 자동으로 가비지를 청소함(GC : garbege collection)\n",
    "\n",
    "id함수로 보여지는 것과는 다름"
   ]
  },
  {
   "cell_type": "code",
   "execution_count": 44,
   "id": "7632b782",
   "metadata": {},
   "outputs": [
    {
     "name": "stdout",
     "output_type": "stream",
     "text": [
      "pithon\n"
     ]
    },
    {
     "data": {
      "text/plain": [
       "'python'"
      ]
     },
     "execution_count": 44,
     "metadata": {},
     "output_type": "execute_result"
    }
   ],
   "source": [
    "##### 불변성\n",
    "\n",
    "a = \"pithon\"\n",
    "print(a)\n",
    "\n",
    "\"a[1] = 'y' 기본 자료형은 값을 바꿀 수 없다.\"\n",
    "a[0] + 'y' + a[2:]"
   ]
  },
  {
   "cell_type": "code",
   "execution_count": 46,
   "id": "04666c3a",
   "metadata": {},
   "outputs": [
    {
     "name": "stdout",
     "output_type": "stream",
     "text": [
      "<class 'int'>\n",
      "<class 'float'>\n",
      "10.0 <class 'float'>\n",
      "<class 'int'>\n"
     ]
    }
   ],
   "source": [
    "i = 10\n",
    "print(type(i))\n",
    "\n",
    "i = 3.14\n",
    "print(type(i))\n",
    "\n",
    "i = float(10)\n",
    "print(i,type(i))\n",
    "\n",
    "i = int(3.14)\n",
    "print(type(i))"
   ]
  },
  {
   "cell_type": "code",
   "execution_count": 49,
   "id": "00b93682",
   "metadata": {},
   "outputs": [
    {
     "name": "stdout",
     "output_type": "stream",
     "text": [
      "<class 'bool'>\n",
      "--------------------------------------------\n",
      "True True True False\n",
      "True True False True False\n"
     ]
    }
   ],
   "source": [
    "i = True\n",
    "print(type(i))\n",
    "\n",
    "print('--------------------------------------------')\n",
    "\n",
    "print(bool(10),bool(3.14),bool(-2), bool(0))\n",
    "print(bool('가'),bool('가나다'),bool(\"\"), bool(\" \"), bool(None))"
   ]
  },
  {
   "cell_type": "markdown",
   "id": "435688d3",
   "metadata": {},
   "source": [
    "### (2) 집합(군집, 묶음) 자료형\n",
    "\n",
    "- 여러 개의 데이터를 모아서 저장\n",
    "\n",
    "    - list\n",
    "    - tuple\n",
    "    - dict\n",
    "    - set"
   ]
  },
  {
   "cell_type": "markdown",
   "id": "395b4010",
   "metadata": {},
   "source": [
    "#### 1) list\n",
    "\n",
    "- \"[]\" 사용\n",
    "- 임의의 객체를 순차적으로 저장하는 집합적 자료형(Sequence Data)\n",
    "- 인덱스 사용\n",
    "- mutable"
   ]
  },
  {
   "cell_type": "code",
   "execution_count": 51,
   "id": "815c91c2",
   "metadata": {},
   "outputs": [
    {
     "name": "stdout",
     "output_type": "stream",
     "text": [
      "10 11 11\n",
      "10 11 12\n"
     ]
    }
   ],
   "source": [
    "a = 10\n",
    "b = 11\n",
    "c = 11\n",
    "print(a,b,c)\n",
    "a, b, c = 10, 11, 12\n",
    "print(a, b, c)"
   ]
  },
  {
   "cell_type": "code",
   "execution_count": 54,
   "id": "de616748",
   "metadata": {},
   "outputs": [
    {
     "name": "stdout",
     "output_type": "stream",
     "text": [
      "[10, 11, 12]\n",
      "<class 'list'>\n",
      "10 11 12\n"
     ]
    }
   ],
   "source": [
    "a = [10, 11, 12]\n",
    "print(a)\n",
    "print(type(a))\n",
    "print(a[0],a[1],a[2])"
   ]
  },
  {
   "cell_type": "code",
   "execution_count": 55,
   "id": "7eb6fc52",
   "metadata": {},
   "outputs": [
    {
     "name": "stdout",
     "output_type": "stream",
     "text": [
      "['james', 178, 3.14, True]\n"
     ]
    }
   ],
   "source": [
    "b = [\"james\", 178, 3.14, True]\n",
    "print(b)"
   ]
  },
  {
   "cell_type": "code",
   "execution_count": 58,
   "id": "4c288cc6",
   "metadata": {},
   "outputs": [
    {
     "name": "stdout",
     "output_type": "stream",
     "text": [
      "['james', 180, 3.14, True]\n"
     ]
    }
   ],
   "source": [
    "b[1] = 180                             \n",
    "print(b)"
   ]
  },
  {
   "cell_type": "markdown",
   "id": "4dab75b5",
   "metadata": {},
   "source": [
    "\"list는 이런식으로 수정이 가능하다!\""
   ]
  },
  {
   "cell_type": "code",
   "execution_count": 60,
   "id": "6b692835",
   "metadata": {},
   "outputs": [
    {
     "name": "stdout",
     "output_type": "stream",
     "text": [
      "[1, 2, 3, '가', 3.14, ['a', 'b', 'c']]\n",
      "3.14\n",
      "1\n",
      "a\n",
      "b\n"
     ]
    }
   ],
   "source": [
    "a = [1, 2, 3, \"가\", 3.14, [\"a\", \"b\", \"c\"]]\n",
    "print(a)\n",
    "print(a[4])\n",
    "print(a[0])\n",
    "print(a[5][0])\n",
    "print(a[-1][-2])"
   ]
  },
  {
   "cell_type": "code",
   "execution_count": 66,
   "id": "92133720",
   "metadata": {},
   "outputs": [
    {
     "name": "stdout",
     "output_type": "stream",
     "text": [
      "[1, 2, 3, 4, 5]\n",
      "[100, 2, 3, 4, 5]\n",
      "-------------------------------------\n",
      "[100, 2, 3, 4, 5]\n",
      "-------------------------------------\n",
      "[100, 2, 3, 4, 5]\n"
     ]
    }
   ],
   "source": [
    "#### 얕은 복사(swallow copy), 깊은 복사(deep copy)\n",
    "\n",
    "a = [1, 2, 3, 4, 5]\n",
    "\n",
    "print(a)\n",
    "\n",
    "b = a\n",
    "b[0] = 100\n",
    "print(a)\n",
    "\n",
    "print(\"-------------------------------------\")\n",
    "\n",
    "c = a[0:5]\n",
    "c[0] = 1000\n",
    "print(a)\n",
    "\n",
    "print(\"-------------------------------------\")\n",
    "\n",
    "d = a.copy()\n",
    "d[0] = 1000\n",
    "print(a)"
   ]
  },
  {
   "cell_type": "markdown",
   "id": "46d4ea9b",
   "metadata": {},
   "source": [
    "리스트의 주소만 가져온 위의 경우 a[0]의 값까지 바뀌었지만, 슬라이싱으로 값을 가져온 아래의 경우 a[0]의 값이 변하지 않았다.\n",
    "\n",
    "copy함수의 경우도 deep copy이다."
   ]
  },
  {
   "cell_type": "code",
   "execution_count": 75,
   "id": "312b8451",
   "metadata": {},
   "outputs": [
    {
     "name": "stdout",
     "output_type": "stream",
     "text": [
      "<class 'list'>\n",
      "----------------------------------------\n",
      "['1', '0', '0']\n",
      "[0, 1, 2, 3, 4, 5, 6, 7, 8, 9]\n"
     ]
    }
   ],
   "source": [
    "##### 리스트 생성\n",
    "\n",
    "### 선언(준비)\n",
    "a = []\n",
    "b = list()\n",
    "\n",
    "print(type(a))\n",
    "\n",
    "print(\"----------------------------------------\")\n",
    "\n",
    "### 초기화\n",
    "a = [0, 1, 2, 3, 4]\n",
    "a = list([0, 1, 2, 3, 4])\n",
    "a = list([10])\n",
    "a = list(\"100\")\n",
    "print(a)\n",
    "\n",
    "print(list(range(10))) # range(0,10), range(0, 10, 1)"
   ]
  },
  {
   "cell_type": "code",
   "execution_count": 81,
   "id": "a5c38b83",
   "metadata": {},
   "outputs": [
    {
     "name": "stdout",
     "output_type": "stream",
     "text": [
      "[1, 2, 3, 4, 5, 6]\n",
      "[1, 2, 3, 1, 2, 3, 1, 2, 3]\n",
      "2hi\n"
     ]
    }
   ],
   "source": [
    "a = [1, 2, 3]\n",
    "b = [4, 5, 6]\n",
    "print(a+b)\n",
    "print(a*3)\n",
    "\n",
    "print(str(a[1]) + \"hi\")\n"
   ]
  },
  {
   "cell_type": "code",
   "execution_count": 87,
   "id": "6879cd66",
   "metadata": {},
   "outputs": [
    {
     "name": "stdout",
     "output_type": "stream",
     "text": [
      "[1, 2, 3, 4]\n",
      "[4, 3, 2, 1]\n"
     ]
    }
   ],
   "source": [
    "##### 정렬 기능\n",
    "\n",
    "a = [1, 4, 3, 2]\n",
    "#dir(a)\n",
    "a.sort()   # 정렬된 값을 보여주고, 값자체의 위치도 정렬시킴\n",
    "print(a)\n",
    "a.reverse()\n",
    "print(a)"
   ]
  },
  {
   "cell_type": "code",
   "execution_count": 89,
   "id": "16458a9e",
   "metadata": {},
   "outputs": [
    {
     "name": "stdout",
     "output_type": "stream",
     "text": [
      "[1, 2, 3, 4]\n",
      "[1, 4, 3, 2]\n"
     ]
    }
   ],
   "source": [
    "a = [1, 4, 3, 2]\n",
    "print(sorted(a))  #sorted는 정렬된 값만 보여주고, 값자체의 위치를 바꾸진 않음(원본의 순서는 그대로).\n",
    "print(a)"
   ]
  },
  {
   "cell_type": "code",
   "execution_count": 96,
   "id": "fbdba54e",
   "metadata": {},
   "outputs": [
    {
     "name": "stdout",
     "output_type": "stream",
     "text": [
      "[1, 1.5, 2, 3]\n",
      "[1, 1.5, 2, 3, 4]\n",
      "[1, 1.5, 2, 3, 4, [5, 6]]\n",
      "[1, 1.5, 2, 3, 4, [5, 6], 7]\n",
      "[1, 1.5, 2, 3, 4, [5, 6], 7, 8, 9]\n"
     ]
    }
   ],
   "source": [
    "##### 추가하기 : insert(), append(), extend()\n",
    "\n",
    "a = [1, 2, 3]\n",
    "\n",
    "a.insert(1, 1.5)  #insert(a,b) a는 위치, b는 값\n",
    "print(a)\n",
    "\n",
    "a.append(4) #append()는 맨뒤에 추가되고, 여러개 추가시 대괄호로 한덩어리로 추가됨\n",
    "print(a)\n",
    "a.append([5, 6])\n",
    "print(a)\n",
    "\n",
    "a.extend([7]) #하나를 추가하더라도 반드시 []로 묶어줘야함\n",
    "print(a)\n",
    "a.extend([8,9]) # []로 여러개를 묶어도 []없이 값이 나옴\n",
    "print(a)"
   ]
  },
  {
   "cell_type": "code",
   "execution_count": 103,
   "id": "5a143bc4",
   "metadata": {},
   "outputs": [
    {
     "name": "stdout",
     "output_type": "stream",
     "text": [
      "[1, 1, 2, 3]\n",
      "[1, 2, 1, 2, 3]\n",
      "[1, 2, 3, 1, 3]\n",
      "[1, 1, 2, 3]\n"
     ]
    }
   ],
   "source": [
    "##### 제거하기\n",
    "\n",
    "### 범위를 지정(slicing)해서 제거\n",
    "\n",
    "a = [1, 2, 3, 1, 2, 3]\n",
    "a[1:3] = []\n",
    "print(a)\n",
    "\n",
    "### 값을 찾아서 삭제\n",
    "a = [1, 2, 3, 1, 2, 3]  # 특정 값을 찾아서(왼쪽에서부터) 있으면 나온 첫번째 값을 삭제\n",
    "a.remove(3)\n",
    "print(a)\n",
    "\n",
    "### del\n",
    "a = [1, 2, 3, 1, 2, 3]\n",
    "del a[4]\n",
    "print(a)\n",
    "\n",
    "a = [1,2,3,1,2,3]\n",
    "del a[1:3]\n",
    "print(a)\n",
    "\n",
    "del a"
   ]
  },
  {
   "cell_type": "code",
   "execution_count": null,
   "id": "9243672c",
   "metadata": {},
   "outputs": [],
   "source": [
    "# stack = 수시로 지웠다 썻다 가능한 저장공간, Queue와 stack이 비슷함, heap = 값이 바뀌지 않는 안전한 공간, 69~70p"
   ]
  },
  {
   "cell_type": "code",
   "execution_count": 108,
   "id": "42f67025",
   "metadata": {},
   "outputs": [
    {
     "name": "stdout",
     "output_type": "stream",
     "text": [
      "[10, 20]\n",
      "30\n"
     ]
    }
   ],
   "source": [
    "### stack\n",
    "a = [10, 20, 30]\n",
    "\n",
    "b = a.pop()\n",
    "print(a)\n",
    "print(b)"
   ]
  },
  {
   "cell_type": "code",
   "execution_count": 7,
   "id": "f42a07ed",
   "metadata": {},
   "outputs": [
    {
     "name": "stdout",
     "output_type": "stream",
     "text": [
      "3\n",
      "2\n",
      "1\n",
      "0\n"
     ]
    }
   ],
   "source": [
    "##### 검색 기능 : index()\n",
    "a = [1,2 ,3, 4, 5]\n",
    "print(a.index(4))\n",
    "print(a.index(3))\n",
    "print(a.index(2))\n",
    "print(a.index(1))\n",
    "\n"
   ]
  },
  {
   "cell_type": "markdown",
   "id": "75ee5d33",
   "metadata": {},
   "source": [
    "#### tuple\n",
    "\n",
    "- \"( )\" 소괄호 사용\n",
    "- immutable : 집합자료형 중에 유일하게 수정불가능하도록 설정되어 있음."
   ]
  },
  {
   "cell_type": "code",
   "execution_count": 120,
   "id": "c1a0483a",
   "metadata": {},
   "outputs": [
    {
     "name": "stdout",
     "output_type": "stream",
     "text": [
      "('a', 'b', 'c', 'd', 'c')\n",
      "<class 'tuple'>\n",
      "['a', 'x', 'c', 'd', 'c']\n",
      "('a', 'x', 'c', 'd', 'c')\n",
      "<class 'tuple'>\n"
     ]
    }
   ],
   "source": [
    "##### immutable\n",
    "\n",
    "a = (\"a\", \"b\", \"c\", \"d\", \"c\")\n",
    "print(a)\n",
    "print(type(a))\n",
    "dir(a)\n",
    "\n",
    "#a[1] = 'x' 튜플은 수정 불가능\n",
    "b = list(a) # 수정 가능한 리스트로 변경 후 수정\n",
    "b[1] =  'x'\n",
    "print(b)\n",
    "\n",
    "a=tuple(b) # 튜플로 다시 바꿔주고 보호\n",
    "print(a)\n",
    "print(type(a))"
   ]
  },
  {
   "cell_type": "code",
   "execution_count": 123,
   "id": "d6e673e7",
   "metadata": {},
   "outputs": [
    {
     "name": "stdout",
     "output_type": "stream",
     "text": [
      "(10, 20, 30)\n",
      "10 20 30\n"
     ]
    }
   ],
   "source": [
    "##### Packing & Unpacking -> 패킹 언패킹이라는 언급이 나오면 튜플을 떠올릴 것!\n",
    "\n",
    "a = 10, 20, 30  # Packing\n",
    "print(a)\n",
    "\n",
    "a1, a2, a3 = a[0], a[1], a[2]\n",
    "a1, a2, a3 = a # Unpacking\n",
    "print(a1,a2, a3)"
   ]
  },
  {
   "cell_type": "markdown",
   "id": "2cdfd4d3",
   "metadata": {},
   "source": [
    "#### 3) dict \n",
    "p.74\n",
    "\n",
    "- 순서가 없다 -> 속도가 매우 빠르다\n",
    "- 키(key)를 이용해서 접근\n",
    "- {키 : 값}\n",
    "- 검색을 위해서 쓰는 것이 가장 좋음"
   ]
  },
  {
   "cell_type": "code",
   "execution_count": 1,
   "id": "39b37490",
   "metadata": {},
   "outputs": [
    {
     "name": "stdout",
     "output_type": "stream",
     "text": [
      "{'name': '홍길동', 'tel': '111-1111', 'age': 20}\n",
      "<class 'dict'>\n"
     ]
    }
   ],
   "source": [
    "a = {'name' : '홍길동', \"tel\" : \"111-1111\", \"age\" : 20}\n",
    "print(a)\n",
    "print(type(a))"
   ]
  },
  {
   "cell_type": "code",
   "execution_count": 2,
   "id": "33c30ec3",
   "metadata": {},
   "outputs": [
    {
     "name": "stdout",
     "output_type": "stream",
     "text": [
      "dict_keys(['name', 'tel', 'age'])\n",
      "dict_values(['홍길동', '111-1111', 20])\n",
      "dict_items([('name', '홍길동'), ('tel', '111-1111'), ('age', 20)])\n"
     ]
    }
   ],
   "source": [
    "print(a.keys())\n",
    "print(a.values())\n",
    "print(a.items())  #items() : 키와 값을 튜플로 묶어준 후 값들을 리스트로 가져옴."
   ]
  },
  {
   "cell_type": "code",
   "execution_count": 3,
   "id": "58960a1d",
   "metadata": {},
   "outputs": [
    {
     "name": "stdout",
     "output_type": "stream",
     "text": [
      "{'name': '임꺽정', 'tel': '111-1111', 'age': 20}\n"
     ]
    }
   ],
   "source": [
    "#### 수정\n",
    "a[\"name\"] = \"임꺽정\"\n",
    "print(a)"
   ]
  },
  {
   "cell_type": "code",
   "execution_count": 4,
   "id": "516733f3",
   "metadata": {},
   "outputs": [
    {
     "name": "stdout",
     "output_type": "stream",
     "text": [
      "{'name': '임꺽정', 'tel': '111-1111', 'age': 20, 'hobbies': ['낚시', '독서', '등산']}\n"
     ]
    }
   ],
   "source": [
    "##### 추가 \n",
    "a[\"hobbies\"] = [\"낚시\",\"독서\",\"등산\"] #없으면 만들어서 추가해버림, 있으면 수정\n",
    "print(a)"
   ]
  },
  {
   "cell_type": "code",
   "execution_count": 5,
   "id": "288c161d",
   "metadata": {},
   "outputs": [
    {
     "name": "stdout",
     "output_type": "stream",
     "text": [
      "{'name': '임꺽정', 'age': 20, 'hobbies': ['낚시', '독서', '등산']}\n"
     ]
    }
   ],
   "source": [
    "#### 삭제\n",
    "del a[\"tel\"]\n",
    "print(a)"
   ]
  },
  {
   "cell_type": "code",
   "execution_count": 6,
   "id": "09640eaf",
   "metadata": {},
   "outputs": [
    {
     "name": "stdout",
     "output_type": "stream",
     "text": [
      "{}\n"
     ]
    }
   ],
   "source": [
    "### 모두 삭제(변수는 남겨둠, 변수도 지우고 싶으면 del)\n",
    "a.clear()\n",
    "print(a)\n",
    "del a"
   ]
  },
  {
   "cell_type": "code",
   "execution_count": 138,
   "id": "b45bf8a1",
   "metadata": {},
   "outputs": [
    {
     "name": "stdout",
     "output_type": "stream",
     "text": [
      "홍길동\n",
      "홍길동\n",
      "독서\n"
     ]
    }
   ],
   "source": [
    "##### 데이터 가져오기\n",
    "a = {'name' : '홍길동', \"tel\" : \"111-1111\", \"age\" : 20 }\n",
    "\n",
    "print(a[\"name\"])\n",
    "print(a.get(\"name\"))\n",
    "\n",
    "#print(a[\"hobby\"]) #저장할 때는 없는 것을 바로 등록 가능하나 없는 것을 가져올 수는 없음\n",
    "print(a.get(\"hobby\", \"독서\"))   #get을 쓸 경우, 값이 없더라도 default로 바로 지정하여 가져올 수 있음."
   ]
  },
  {
   "cell_type": "markdown",
   "id": "348905ef",
   "metadata": {},
   "source": [
    "#### 4) Set\n",
    "p72"
   ]
  },
  {
   "cell_type": "code",
   "execution_count": 139,
   "id": "528f6cbf",
   "metadata": {},
   "outputs": [
    {
     "name": "stdout",
     "output_type": "stream",
     "text": [
      "{1, 2, 3, 4, 5}\n",
      "<class 'set'>\n"
     ]
    }
   ],
   "source": [
    "a = {1,2,3,4,5,4,2,4} #중복을 제거할 떄 가장 많이 사용함\n",
    "\n",
    "print(a)\n",
    "print(type(a))\n",
    "#printa"
   ]
  },
  {
   "cell_type": "code",
   "execution_count": 140,
   "id": "49b5093d",
   "metadata": {},
   "outputs": [
    {
     "name": "stdout",
     "output_type": "stream",
     "text": [
      "1\n"
     ]
    }
   ],
   "source": [
    "b=list(a)\n",
    "print(b[0])"
   ]
  },
  {
   "cell_type": "code",
   "execution_count": 141,
   "id": "34f3e4d2",
   "metadata": {},
   "outputs": [
    {
     "name": "stdout",
     "output_type": "stream",
     "text": [
      "[1, 2, 3, 4, 4, 5, 2]\n",
      "{1, 2, 3, 4, 5}\n",
      "[1, 2, 3, 4, 5]\n"
     ]
    }
   ],
   "source": [
    "a = [1, 2, 3, 4, 4, 5, 2]\n",
    "print(a)\n",
    "\n",
    "b = set(a)\n",
    "print(b)\n",
    "\n",
    "a = list(b)\n",
    "print(a)"
   ]
  },
  {
   "cell_type": "code",
   "execution_count": 144,
   "id": "e0e73fce",
   "metadata": {},
   "outputs": [
    {
     "data": {
      "text/plain": [
       "['False',\n",
       " 'None',\n",
       " 'True',\n",
       " '__peg_parser__',\n",
       " 'and',\n",
       " 'as',\n",
       " 'assert',\n",
       " 'async',\n",
       " 'await',\n",
       " 'break',\n",
       " 'class',\n",
       " 'continue',\n",
       " 'def',\n",
       " 'del',\n",
       " 'elif',\n",
       " 'else',\n",
       " 'except',\n",
       " 'finally',\n",
       " 'for',\n",
       " 'from',\n",
       " 'global',\n",
       " 'if',\n",
       " 'import',\n",
       " 'in',\n",
       " 'is',\n",
       " 'lambda',\n",
       " 'nonlocal',\n",
       " 'not',\n",
       " 'or',\n",
       " 'pass',\n",
       " 'raise',\n",
       " 'return',\n",
       " 'try',\n",
       " 'while',\n",
       " 'with',\n",
       " 'yield']"
      ]
     },
     "execution_count": 144,
     "metadata": {},
     "output_type": "execute_result"
    }
   ],
   "source": [
    "import keyword\n",
    "keyword.kwlist"
   ]
  },
  {
   "cell_type": "code",
   "execution_count": 158,
   "id": "6baab952",
   "metadata": {},
   "outputs": [
    {
     "name": "stdout",
     "output_type": "stream",
     "text": [
      "1 2 3\n",
      "123.45678\n",
      "     123.5\n",
      "    123.46\n",
      "  123\n"
     ]
    }
   ],
   "source": [
    "print(1,2, end = ' ')\n",
    "print(3)\n",
    "print(format(123.45678, '1'))\n",
    "print(format(123.45678, '10.1f'))\n",
    "print(format(123.45678, '10.2f'))\n",
    "print(format(123, '5d'))"
   ]
  },
  {
   "cell_type": "markdown",
   "id": "3657db42",
   "metadata": {},
   "source": [
    "# 4.연산자\n",
    "\n",
    "### (1) 치환(활당) 연산자\n",
    "\n",
    "- 복합 치환 연산자 : += *= /= -= ...\n"
   ]
  },
  {
   "cell_type": "code",
   "execution_count": 11,
   "id": "4c9d85e9",
   "metadata": {},
   "outputs": [
    {
     "name": "stdout",
     "output_type": "stream",
     "text": [
      "7\n",
      "15\n",
      "27\n"
     ]
    }
   ],
   "source": [
    "a = 10\n",
    "a = 5\n",
    "a = 7\n",
    "print(a)\n",
    "\n",
    "a = 10\n",
    "a += 3  # a = a + 3\n",
    "a += 2  # a = a + 2\n",
    "print(a)\n",
    "\n",
    "b = 3\n",
    "a= b ** 3\n",
    "print(a)"
   ]
  },
  {
   "cell_type": "markdown",
   "id": "3d8abd8d",
   "metadata": {},
   "source": [
    "### (2) 검색 연산자 : in"
   ]
  },
  {
   "cell_type": "code",
   "execution_count": 8,
   "id": "e0ca79f5",
   "metadata": {},
   "outputs": [
    {
     "name": "stdout",
     "output_type": "stream",
     "text": [
      "3\n",
      "True\n",
      "False\n",
      "True\n"
     ]
    }
   ],
   "source": [
    "a = [1, 2, 3, 4, 5] #index는 위치까지 알려주지만, in은 단순하게 있냐 없냐만 파악하기에 매우 유용함\n",
    "\n",
    "print(a.index(4))\n",
    "print(4 in a)\n",
    "print(7 in a)\n",
    "print(7 not in a)"
   ]
  }
 ],
 "metadata": {
  "kernelspec": {
   "display_name": "Python 3 (ipykernel)",
   "language": "python",
   "name": "python3"
  },
  "language_info": {
   "codemirror_mode": {
    "name": "ipython",
    "version": 3
   },
   "file_extension": ".py",
   "mimetype": "text/x-python",
   "name": "python",
   "nbconvert_exporter": "python",
   "pygments_lexer": "ipython3",
   "version": "3.9.13"
  }
 },
 "nbformat": 4,
 "nbformat_minor": 5
}
