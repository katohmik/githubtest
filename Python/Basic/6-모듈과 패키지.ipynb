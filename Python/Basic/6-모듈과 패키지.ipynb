{
 "cells": [
  {
   "cell_type": "markdown",
   "id": "e6a49aeb",
   "metadata": {},
   "source": [
    "# 1. 모듈(Module)\n",
    "\n",
    "137p\n",
    "\n",
    "### 1-1. 정의\n",
    "\n",
    "- 비슷하거나 관련된 일을 하는 함수, 클래스, 상수값들을 모아서 하나의 파일에 저장하고 추후에 재사용하기 위한 목적\n",
    "- 하나의 .py파일\n",
    "\n",
    "### 1-2. 모듈의 종류\n",
    "   \n",
    "- 사용자 정의 모듈 : 사용자가 직접 정의해서 사용하는 모듈\n",
    "- 표준 모듈 : 파이썬에서 기본 제공하는 모듈\n",
    "- 서드 파티 모듈 : 외부에서 제공하는 모듈\n",
    "\n",
    "           - 파이썬 표줄 모듈에 모든 기능이 있지 않음\n",
    "           - 서드 파티 모듈을 이용해 고급 프로그래밍 가능\n",
    "           - 게임 개발을 위한 pygame, 데이터베이스 기능의 SQLAIchemy, 데이터 분석 기능의 Numpy\n",
    "     \n",
    "     \n",
    "        - 사용자 정의 모듈\n",
    "            - 사용자가 사용할 모듈을 직접 정의\n",
    "            - 모듈 이름으로 파일명을 사용\n",
    "            \n",
    "            - iPython 내장 매직 명령어(magic command) 사용\n",
    "                - %%writefile : 셀의 코드를 .py 파이썬 코드 파일로 저장\n",
    "                - %load : 파이썬 코드 파일 불러오기\n",
    "                - %run : 파이썬 코드 파일 실행\n",
    "\n",
    "\n",
    "### 1-3. 선언방법\n",
    "\n",
    "- import 모듈명                                         (모듈 전체를 불러옴)\n",
    "- import 모듈명 as 별명 \n",
    "- from 모듈명                                            (내가 원하는 것만 불러올 수 있음)\n",
    "- from 모듈명 import 클래스, 함수, 상수\n",
    "- from 모듈명 import *\n",
    "- from 모듈명 import 이름 as 별명\n",
    "\n",
    "### 1-4. 모듈의 속성\n",
    "    \n",
    "    - 단순성(Simplicity)\n",
    "        - 전체 문제에 초점을 맞추기보다는 문제의 상대적으로 작은 부분에만 초점을 맞춤\n",
    "        - 단일 모듈로 작업할 수 있는 작은 도메인\n",
    "        - 개발이 쉬우며 오류 발생이 적음\n",
    "        \n",
    "    - 유지보수성(Maintainability)\n",
    "        - 일반적으로 모듈은 서로 다른 문제 영역간에 논리적 경계를 설정하도록 설계\n",
    "        - 상호 의존성을 최소화하는 방식으로 모듈을 작성하여 단일 모듈을 수정하면 프로그램의 다른 부분에 영향일 미칠 가능성이 줄어듬\n",
    "        - 모듈 외부의 응용 프로그램에 대해 전혀 알지 못해소 모듈을 변경할 수 있음\n",
    "        - 개발팀이 대규모 응용 프로그램에서 공동으로 작업 할 수 있음\n",
    "        \n",
    "    - 재사용성(Reusability)\n",
    "        - 단일 모듈에서 정의된 기능은 응용 프로그램의 다른 부분에서 (적절히 정의된 인터페이스를 통해) 쉽게 재사용 가능\n",
    "        - 중복 코드를 만들 필요가 없음\n",
    "    \n",
    "    - 범위 지정(Scoping)\n",
    "        - 일반적으로 모듈은 프로그램의 여러 영역에서 식별자 간의 충돌을 피하는 데 도움이 되는 별도의 네임 스페이스를 정의\n",
    "        \n"
   ]
  },
  {
   "cell_type": "code",
   "execution_count": null,
   "id": "02a87893",
   "metadata": {},
   "outputs": [],
   "source": [
    "class Calculator:\n",
    "    first = 0\n",
    "    second = 0\n",
    "    \n",
    "    def __init__(self, first=None, second=None):\n",
    "        self.first = first\n",
    "        self.second = second\n",
    "        \n",
    "    def setData(self, first=None, second=None):\n",
    "        self.first = first\n",
    "        self.second = second\n",
    "        \n",
    "    def sum(self):\n",
    "        return self.first + self.second\n",
    "    \n",
    "    def div(self):\n",
    "        return self.first / self.second\n",
    "    \n",
    "    def mul(self):\n",
    "        return self.first * self.second\n",
    "    \n",
    "    def sub(self):\n",
    "        return self.first - self.second"
   ]
  },
  {
   "cell_type": "code",
   "execution_count": null,
   "id": "3feb65c6",
   "metadata": {},
   "outputs": [],
   "source": [
    "import mymodule\n",
    "\n",
    "\n",
    "print(mymodule.sum(10,20))\n",
    "mymodule.info(80, 170, \"홍길동\", tel=\"111-1111\", addr=\"서울\")\n",
    "print(mymodule.COMPANY)\n",
    "cal = mymodule.Calculator(10, 20)\n",
    "print(cal.mul())\n"
   ]
  },
  {
   "cell_type": "code",
   "execution_count": null,
   "id": "ddaa9dae",
   "metadata": {},
   "outputs": [],
   "source": [
    "import mymodule as my\n",
    "\n",
    "print(mymodule.sum(10,20))\n",
    "mymodule.info(80, 170, \"홍길동\", tel=\"111-1111\", addr=\"서울\")\n",
    "print(mymodule.COMPANY)\n",
    "cal = mymodule.Calculator(10, 20)\n",
    "print(cal.mul())"
   ]
  },
  {
   "cell_type": "code",
   "execution_count": null,
   "id": "84404b42",
   "metadata": {},
   "outputs": [],
   "source": [
    "from mymodule import info, COMPANY, Calculator\n",
    "\n",
    "print(mymodule.sum(10,20))\n",
    "mymodule.info(80, 170, \"홍길동\", tel=\"111-1111\", addr=\"서울\")\n",
    "print(mymodule.COMPANY)\n",
    "cal = mymodule.Calculator(10, 20)\n",
    "print(cal.mul())"
   ]
  },
  {
   "cell_type": "code",
   "execution_count": null,
   "id": "c80167dc",
   "metadata": {},
   "outputs": [],
   "source": [
    "from mymodule import *\n",
    "\n",
    "print(mymodule.sum(10,20))\n",
    "mymodule.info(80, 170, \"홍길동\", tel=\"111-1111\", addr=\"서울\")\n",
    "print(mymodule.COMPANY)\n",
    "cal = mymodule.Calculator(10, 20)\n",
    "print(cal.mul())"
   ]
  },
  {
   "cell_type": "code",
   "execution_count": null,
   "id": "feb7bae5",
   "metadata": {},
   "outputs": [],
   "source": [
    "from mymodule import info, COMPANY as COM, Calculator as Calc\n",
    "\n",
    "print(COM)\n",
    "cal = Calc(10, 20)\n",
    "print(cal.mul())"
   ]
  },
  {
   "cell_type": "markdown",
   "id": "a09fa809",
   "metadata": {},
   "source": [
    "### 1-4. 모듈 참조 경로\n",
    "\n",
    "- 현재 위치(같은 경로)\n",
    "- 기존 path\n",
    "- sys모듈을 이용해서 path 경로 추가(임시)\n",
    "    - sys.path.append(\"경로\")\n",
    "- windows의 환경변수 pythpath 추가(영구)"
   ]
  },
  {
   "cell_type": "code",
   "execution_count": null,
   "id": "21a3165f",
   "metadata": {},
   "outputs": [],
   "source": [
    "import sys\n",
    "print(sys.path)\n",
    "print(type(sys.path))\n",
    "\n",
    "sys.path.append(\"C:\\\\kimhotak13\\\\PythonWork\\\\mylib\") # 경로를 적을 땐 \\\\로 \\를 하나씩 추가하거나 \\를 지우고 /로 할 것\n",
    "print(sys.path)"
   ]
  },
  {
   "cell_type": "markdown",
   "id": "45e6ef36",
   "metadata": {},
   "source": [
    "# 2. 패키지\n",
    "\n",
    "- 여러 모듈을 모아놓은 폴더\n",
    "---\n",
    "\n",
    "### 실습 환경\n",
    "\n",
    "        game\n",
    "            sound\n",
    "                echo.py\n",
    "            graphic\n",
    "                screen.py\n",
    "            "
   ]
  },
  {
   "cell_type": "code",
   "execution_count": null,
   "id": "05af1cbc",
   "metadata": {},
   "outputs": [],
   "source": [
    "### 이후 실습은 파이참에서!"
   ]
  },
  {
   "cell_type": "code",
   "execution_count": null,
   "id": "ba8dfef5",
   "metadata": {},
   "outputs": [],
   "source": [
    "import sys\n",
    "sys.path.append(\"C:\\\\kimhotak13\\\\PythonWork\\\\mylib\")\n",
    "\n",
    "import game.sound.echo\n",
    "\n",
    "print(\"게임 프로그램 시작\")"
   ]
  },
  {
   "cell_type": "code",
   "execution_count": null,
   "id": "89a92d5b",
   "metadata": {},
   "outputs": [],
   "source": [
    "import sys\n",
    "\n",
    "sys.path.append(\"C:\\\\kimhotak13\\\\PythonWork\\\\mylib\")\n",
    "\n",
    "\n",
    "import game.sound.echo as echo\n",
    "import game.graphic.screen as screen\n",
    "\n",
    "\n",
    "\n",
    "def main():\n",
    "\n",
    "    print(\"에코 출력 :\")\n",
    "    echo.echo_test()\n",
    "\n",
    "    print(\"영상 출력 :\")\n",
    "    screen.screen_test()\n",
    "\n",
    "if __name__ == \"__main__\":\n",
    "    print(\"게임 프로그램 시작\")\n",
    "    main()\n",
    "\n",
    "#print(__name__)\n",
    "\n",
    "#print(screen.__name__)"
   ]
  },
  {
   "cell_type": "code",
   "execution_count": 60,
   "id": "d8c7336c",
   "metadata": {},
   "outputs": [
    {
     "name": "stderr",
     "output_type": "stream",
     "text": [
      "하위 디렉터리 또는 파일 package이(가) 이미 있습니다.\n",
      "명령 구문이 올바르지 않습니다.\n",
      "명령 구문이 올바르지 않습니다.\n",
      "명령 구문이 올바르지 않습니다.\n"
     ]
    }
   ],
   "source": [
    "!mkdir package\n",
    "!mkdir package/sub_package_1\n",
    "!mkdir package/sub_package_2\n",
    "!mkdir package/sub_package_3"
   ]
  },
  {
   "cell_type": "code",
   "execution_count": 61,
   "id": "86e7f1b6",
   "metadata": {},
   "outputs": [
    {
     "name": "stderr",
     "output_type": "stream",
     "text": [
      "'ls'은(는) 내부 또는 외부 명령, 실행할 수 있는 프로그램, 또는\n",
      "배치 파일이 아닙니다.\n"
     ]
    }
   ],
   "source": [
    "!ls package"
   ]
  },
  {
   "cell_type": "code",
   "execution_count": null,
   "id": "efd4000d",
   "metadata": {},
   "outputs": [],
   "source": [
    "%%writefile Module.py\n",
    "def func1():\n",
    "    print(\"Module.py: func1()\")\n",
    "    \n",
    "def func2():\n",
    "    print(\"Module.py: func2()\")\n",
    "    \n",
    "def func3():\n",
    "    print(\"Module.py: func3()\")"
   ]
  },
  {
   "cell_type": "code",
   "execution_count": null,
   "id": "b782c55b",
   "metadata": {},
   "outputs": [],
   "source": [
    "# %load Module.py\n",
    "def func1():\n",
    "    print(\"Module.py: func1()\")\n",
    "    \n",
    "def func2():\n",
    "    print(\"Module.py: func2()\")\n",
    "    \n",
    "def func3():\n",
    "    print(\"Module.py: func3()\")\n"
   ]
  },
  {
   "cell_type": "code",
   "execution_count": null,
   "id": "98a4c74a",
   "metadata": {},
   "outputs": [],
   "source": [
    "%run Module.py"
   ]
  },
  {
   "cell_type": "code",
   "execution_count": null,
   "id": "8532fdba",
   "metadata": {},
   "outputs": [],
   "source": [
    "import Module\n",
    "Module.func1()\n",
    "Module.func2()\n",
    "Module.func3()"
   ]
  },
  {
   "cell_type": "code",
   "execution_count": 3,
   "id": "9f8f7ac6",
   "metadata": {},
   "outputs": [
    {
     "name": "stdout",
     "output_type": "stream",
     "text": [
      "Overwriting Calculator1.py\n"
     ]
    }
   ],
   "source": [
    "%%writefile Calculator1.py\n",
    "def add(a, b):\n",
    "    return a + b\n",
    "    \n",
    "def sub(a, b):\n",
    "    return a - b\n",
    "\n",
    "def mul(a, b):\n",
    "    return a * b\n",
    "    \n",
    "def div(a, b):\n",
    "    return a / b\n",
    "    \n",
    "def mod(a, b):\n",
    "    return a % b"
   ]
  },
  {
   "cell_type": "code",
   "execution_count": 4,
   "id": "00014335",
   "metadata": {},
   "outputs": [
    {
     "name": "stdout",
     "output_type": "stream",
     "text": [
      "8\n",
      "-2\n",
      "15\n",
      "0.6\n",
      "3\n"
     ]
    }
   ],
   "source": [
    "from Calculator1 import *\n",
    "\n",
    "print(add(3, 5))\n",
    "print(sub(3, 5))\n",
    "print(mul(3, 5))\n",
    "print(div(3, 5))\n",
    "print(mod(3, 5))"
   ]
  },
  {
   "cell_type": "code",
   "execution_count": 5,
   "id": "862738d9",
   "metadata": {},
   "outputs": [
    {
     "name": "stdout",
     "output_type": "stream",
     "text": [
      "('_abc', '_ast', '_bisect', '_blake2', '_codecs', '_codecs_cn', '_codecs_hk', '_codecs_iso2022', '_codecs_jp', '_codecs_kr', '_codecs_tw', '_collections', '_contextvars', '_csv', '_datetime', '_functools', '_heapq', '_imp', '_io', '_json', '_locale', '_lsprof', '_md5', '_multibytecodec', '_opcode', '_operator', '_peg_parser', '_pickle', '_random', '_sha1', '_sha256', '_sha3', '_sha512', '_signal', '_sre', '_stat', '_statistics', '_string', '_struct', '_symtable', '_thread', '_tracemalloc', '_warnings', '_weakref', '_winapi', '_xxsubinterpreters', 'array', 'atexit', 'audioop', 'binascii', 'builtins', 'cmath', 'errno', 'faulthandler', 'gc', 'itertools', 'marshal', 'math', 'mmap', 'msvcrt', 'nt', 'parser', 'sys', 'time', 'winreg', 'xxsubtype', 'zlib')\n"
     ]
    }
   ],
   "source": [
    "import sys\n",
    "print(sys.builtin_module_names)"
   ]
  },
  {
   "cell_type": "code",
   "execution_count": 6,
   "id": "f6c2a731",
   "metadata": {},
   "outputs": [
    {
     "name": "stdout",
     "output_type": "stream",
     "text": [
      "['ArithmeticError', 'AssertionError', 'AttributeError', 'BaseException', 'BlockingIOError', 'BrokenPipeError', 'BufferError', 'BytesWarning', 'ChildProcessError', 'ConnectionAbortedError', 'ConnectionError', 'ConnectionRefusedError', 'ConnectionResetError', 'DeprecationWarning', 'EOFError', 'Ellipsis', 'EnvironmentError', 'Exception', 'False', 'FileExistsError', 'FileNotFoundError', 'FloatingPointError', 'FutureWarning', 'GeneratorExit', 'IOError', 'ImportError', 'ImportWarning', 'IndentationError', 'IndexError', 'InterruptedError', 'IsADirectoryError', 'KeyError', 'KeyboardInterrupt', 'LookupError', 'MemoryError', 'ModuleNotFoundError', 'NameError', 'None', 'NotADirectoryError', 'NotImplemented', 'NotImplementedError', 'OSError', 'OverflowError', 'PendingDeprecationWarning', 'PermissionError', 'ProcessLookupError', 'RecursionError', 'ReferenceError', 'ResourceWarning', 'RuntimeError', 'RuntimeWarning', 'StopAsyncIteration', 'StopIteration', 'SyntaxError', 'SyntaxWarning', 'SystemError', 'SystemExit', 'TabError', 'TimeoutError', 'True', 'TypeError', 'UnboundLocalError', 'UnicodeDecodeError', 'UnicodeEncodeError', 'UnicodeError', 'UnicodeTranslateError', 'UnicodeWarning', 'UserWarning', 'ValueError', 'Warning', 'WindowsError', 'ZeroDivisionError', '__IPYTHON__', '__build_class__', '__debug__', '__doc__', '__import__', '__loader__', '__name__', '__package__', '__spec__', 'abs', 'all', 'any', 'ascii', 'bin', 'bool', 'breakpoint', 'bytearray', 'bytes', 'callable', 'chr', 'classmethod', 'compile', 'complex', 'copyright', 'credits', 'delattr', 'dict', 'dir', 'display', 'divmod', 'enumerate', 'eval', 'exec', 'execfile', 'filter', 'float', 'format', 'frozenset', 'get_ipython', 'getattr', 'globals', 'hasattr', 'hash', 'help', 'hex', 'id', 'input', 'int', 'isinstance', 'issubclass', 'iter', 'len', 'license', 'list', 'locals', 'map', 'max', 'memoryview', 'min', 'next', 'object', 'oct', 'open', 'ord', 'pow', 'print', 'property', 'range', 'repr', 'reversed', 'round', 'runfile', 'set', 'setattr', 'slice', 'sorted', 'staticmethod', 'str', 'sum', 'super', 'tuple', 'type', 'vars', 'zip']\n"
     ]
    }
   ],
   "source": [
    "print(dir(__builtins__))"
   ]
  },
  {
   "cell_type": "markdown",
   "id": "155960fe",
   "metadata": {},
   "source": [
    "###  시간 모듈"
   ]
  },
  {
   "cell_type": "code",
   "execution_count": 15,
   "id": "9818b9d6",
   "metadata": {},
   "outputs": [
    {
     "name": "stdout",
     "output_type": "stream",
     "text": [
      "['_STRUCT_TM_ITEMS', '__doc__', '__loader__', '__name__', '__package__', '__spec__', 'altzone', 'asctime', 'ctime', 'daylight', 'get_clock_info', 'gmtime', 'localtime', 'mktime', 'monotonic', 'monotonic_ns', 'perf_counter', 'perf_counter_ns', 'process_time', 'process_time_ns', 'sleep', 'strftime', 'strptime', 'struct_time', 'thread_time', 'thread_time_ns', 'time', 'time_ns', 'timezone', 'tzname']\n",
      "<module 'time' (built-in)>\n",
      "1678632214.4599183\n",
      "1678632214.4599183\n",
      "1678632214.4599183\n",
      "time.struct_time(tm_year=2023, tm_mon=3, tm_mday=12, tm_hour=14, tm_min=43, tm_sec=34, tm_wday=6, tm_yday=71, tm_isdst=0)\n",
      "2023 년 3 월 12 일\n",
      "14시 43분 34분\n"
     ]
    }
   ],
   "source": [
    "import time\n",
    "print(dir(time))\n",
    "print(time)\n",
    "print(time.time()) # 기준이 되는 날짜에서 얼만큼 걸렸는지 확인\n",
    "print(time.time())\n",
    "print(time.time())\n",
    "\n",
    "now = time.gmtime(time.time())\n",
    "print(now)\n",
    "\n",
    "year = str(now.tm_year)\n",
    "month = str(now.tm_mon)\n",
    "day = str(now.tm_mday)\n",
    "print(year, \"년\", month, \"월\", day, \"일\")\n",
    "\n",
    "\n",
    "hour = str(now.tm_hour)\n",
    "minute = str(now.tm_min)\n",
    "sec = str(now.tm_sec)\n",
    "print(hour + \"시\", minute + \"분\", sec + \"분\")"
   ]
  },
  {
   "cell_type": "code",
   "execution_count": 17,
   "id": "1d3cc4fa",
   "metadata": {},
   "outputs": [],
   "source": [
    "# 날짜시간 모듈 datetime의 date 클래스 예제"
   ]
  },
  {
   "cell_type": "code",
   "execution_count": 20,
   "id": "14858d64",
   "metadata": {},
   "outputs": [
    {
     "name": "stdout",
     "output_type": "stream",
     "text": [
      "<class 'datetime.date'>\n",
      "2000-01-01\n",
      "2010-01-01\n",
      "2023-03-12\n",
      "2023년 3월 12일 일요일\n"
     ]
    }
   ],
   "source": [
    "from datetime import date\n",
    "print(date)\n",
    "print(date(2000, 1, 1))\n",
    "print(date(year = 2010, month = 1, day = 1))\n",
    "print(date.today())\n",
    "\n",
    "today = date.today()\n",
    "year = str(today.year)\n",
    "month = str(today.month)\n",
    "day = str(today.day)\n",
    "weekday = \"월화수목금토일\"[today.weekday()]\n",
    "print(year + \"년\", month + \"월\", day + \"일\", weekday + \"요일\")"
   ]
  },
  {
   "cell_type": "code",
   "execution_count": 21,
   "id": "8fd353b7",
   "metadata": {},
   "outputs": [],
   "source": [
    "# 날짜시간 모듈 datetime의 time 클래스 예제"
   ]
  },
  {
   "cell_type": "code",
   "execution_count": 28,
   "id": "221a52c2",
   "metadata": {},
   "outputs": [
    {
     "name": "stdout",
     "output_type": "stream",
     "text": [
      "<class 'datetime.time'>\n",
      "12:00:00\n",
      "14:30:00\n",
      "16:30:45\n",
      "18:00:15.010000\n",
      "20시 40분 15초 20000마이크로초\n"
     ]
    }
   ],
   "source": [
    "from datetime import time\n",
    "print(time)\n",
    "print(time(12, 0))\n",
    "print(time(14, 30))\n",
    "print(time(16, 30, 45))\n",
    "print(time(18, 0, 15, 10000))\n",
    "\n",
    "now = time(20, 40, 15, 20000)\n",
    "hour = str(now.hour)\n",
    "minute = str(now.minute)\n",
    "sec = str(now.second)\n",
    "msec = str(now.microsecond)\n",
    "print(hour + \"시\", minute + \"분\", sec + \"초\", msec + \"마이크로초\")"
   ]
  },
  {
   "cell_type": "markdown",
   "id": "01181435",
   "metadata": {},
   "source": [
    "- 날짜시간 모듈 datetime의 datetime 클래스 예제\n",
    "- 날짜시간을 문자열로 표현하기 위한 strtime() 메소드 예제\n",
    "    - %Y 년(YYYY)\n",
    "    - %y 년(YY)\n",
    "    - %m 월(mm)\n",
    "    - %d 일(dd)\n",
    "    - %A 요일\n",
    "    - %H 시(24)\n",
    "    - %I 시(12)\n",
    "    - %p AM, PM\n",
    "    - %M 분(MM)\n",
    "    - %s 초(ss)\n",
    "    - %f 마이크로초"
   ]
  },
  {
   "cell_type": "code",
   "execution_count": 40,
   "id": "3974f04a",
   "metadata": {},
   "outputs": [
    {
     "name": "stdout",
     "output_type": "stream",
     "text": [
      "<class 'datetime.datetime'>\n",
      "2020-01-01 00:00:00\n",
      "2020-01-01 01:15:45\n",
      "2023-03-12 23:59:52.444742\n",
      "2023년 03월 12일 23시 59분 52초\n",
      "23/03/12 PM 11:59:52:444742\n"
     ]
    }
   ],
   "source": [
    "from datetime import datetime\n",
    "print(datetime)\n",
    "print(datetime(2020, 1, 1))\n",
    "print(datetime(2020, 1, 1, 1, 15, 45))\n",
    "print(datetime.now())\n",
    "\n",
    "now = datetime.now()\n",
    "print(now.strftime('%Y년 %m월 %d일 %H시 %M분 %S초'))\n",
    "print(now.strftime('%y/%m/%d %p %I:%M:%S:%f'))"
   ]
  },
  {
   "cell_type": "code",
   "execution_count": 41,
   "id": "f5e6a9cb",
   "metadata": {},
   "outputs": [],
   "source": [
    "### 태어난 지 몇일이 되었는가?"
   ]
  },
  {
   "cell_type": "code",
   "execution_count": 42,
   "id": "e38ebae2",
   "metadata": {},
   "outputs": [
    {
     "name": "stdout",
     "output_type": "stream",
     "text": [
      "8472\n"
     ]
    }
   ],
   "source": [
    "from datetime import date\n",
    "birthday = date(2000, 1, 1)\n",
    "today = date.today()\n",
    "day = today - birthday\n",
    "print(day.days)"
   ]
  },
  {
   "cell_type": "markdown",
   "id": "bbe4dff5",
   "metadata": {},
   "source": [
    "### 수학모듈"
   ]
  },
  {
   "cell_type": "code",
   "execution_count": 43,
   "id": "9ab5e048",
   "metadata": {},
   "outputs": [
    {
     "name": "stdout",
     "output_type": "stream",
     "text": [
      "['__doc__', '__loader__', '__name__', '__package__', '__spec__', 'acos', 'acosh', 'asin', 'asinh', 'atan', 'atan2', 'atanh', 'ceil', 'comb', 'copysign', 'cos', 'cosh', 'degrees', 'dist', 'e', 'erf', 'erfc', 'exp', 'expm1', 'fabs', 'factorial', 'floor', 'fmod', 'frexp', 'fsum', 'gamma', 'gcd', 'hypot', 'inf', 'isclose', 'isfinite', 'isinf', 'isnan', 'isqrt', 'lcm', 'ldexp', 'lgamma', 'log', 'log10', 'log1p', 'log2', 'modf', 'nan', 'nextafter', 'perm', 'pi', 'pow', 'prod', 'radians', 'remainder', 'sin', 'sinh', 'sqrt', 'tan', 'tanh', 'tau', 'trunc', 'ulp']\n"
     ]
    }
   ],
   "source": [
    "import math\n",
    "print(dir(math))"
   ]
  },
  {
   "cell_type": "markdown",
   "id": "4b240d99",
   "metadata": {},
   "source": [
    "### 통계모듈"
   ]
  },
  {
   "cell_type": "markdown",
   "id": "a54ba177",
   "metadata": {},
   "source": [
    "나중에 정리할게..."
   ]
  },
  {
   "cell_type": "markdown",
   "id": "44c17623",
   "metadata": {},
   "source": [
    "### 랜덤모듈\n",
    "\n",
    " - 랜덤 모듈을 사용하기 위해서는 import random 필요\n",
    "     - random.random() : 0.0 ~ 1.0 미만의 실수값 반환\n",
    "     - random.randint(1, 10) : 1 ~ 10 사이의 정수 반환\n",
    "     - random.randrange(0, 10, 2) : 0 ~ 10 미만의 2의 배수만 반환\n",
    "     - random.choice() : 자료형 변수에서 임의의 값 반환\n",
    "     - random.sample() : 자료형 변수에서 필요한 개수만큼 반환\n",
    "     - random.shuffle() : 자료형 변수 내용을 랜덤으로 셔플"
   ]
  },
  {
   "cell_type": "code",
   "execution_count": 46,
   "id": "0caeac6f",
   "metadata": {},
   "outputs": [
    {
     "name": "stdout",
     "output_type": "stream",
     "text": [
      "0.564877085846333\n",
      "9\n",
      "0\n"
     ]
    }
   ],
   "source": [
    "import random\n",
    "print(random.random())\n",
    "print(random.randint(1,10))\n",
    "print(random.randrange(0,10,2))"
   ]
  },
  {
   "cell_type": "code",
   "execution_count": 52,
   "id": "6d944898",
   "metadata": {},
   "outputs": [
    {
     "name": "stdout",
     "output_type": "stream",
     "text": [
      "[10, 20, 30, 40, 50]\n",
      "10\n",
      "[50, 40]\n",
      "[40, 50, 30, 20, 10]\n"
     ]
    }
   ],
   "source": [
    "li = [10, 20, 30, 40, 50]\n",
    "print(li)\n",
    "print(random.choice(li))\n",
    "print(random.sample(li,2))\n",
    "random.shuffle(li)\n",
    "print(li)"
   ]
  },
  {
   "cell_type": "markdown",
   "id": "83d16f8f",
   "metadata": {},
   "source": [
    "##### 네임 스페이스\n",
    "    - 모듈 호출의 범위 지정\n",
    "    - 모듈 이름에 alias를 생성하여 모듈의 이름을 바꿔 사용"
   ]
  },
  {
   "cell_type": "code",
   "execution_count": 53,
   "id": "631e4dac",
   "metadata": {},
   "outputs": [
    {
     "name": "stdout",
     "output_type": "stream",
     "text": [
      "0.9423104285256583\n",
      "0\n"
     ]
    }
   ],
   "source": [
    "import random as rd\n",
    "\n",
    "print(rd.random())\n",
    "print(rd.randrange(0,10,2))"
   ]
  },
  {
   "cell_type": "code",
   "execution_count": 1,
   "id": "b70c53a2",
   "metadata": {},
   "outputs": [
    {
     "name": "stdout",
     "output_type": "stream",
     "text": [
      "0.06330584917758675\n",
      "6\n"
     ]
    }
   ],
   "source": [
    "from random import random, randrange\n",
    "\n",
    "print(random())\n",
    "print(randrange(0,10,2))"
   ]
  },
  {
   "cell_type": "code",
   "execution_count": 58,
   "id": "7d804613",
   "metadata": {},
   "outputs": [],
   "source": [
    "from random import * # 모듈 안에 다 가져와"
   ]
  },
  {
   "cell_type": "code",
   "execution_count": 12,
   "id": "97f014ec",
   "metadata": {},
   "outputs": [
    {
     "name": "stdout",
     "output_type": "stream",
     "text": [
      "고객 관리 프로그램\n",
      "====================\n",
      "1.고객 리스트 출력\n",
      "2.고객 추가\n",
      "3.고객 삭제\n",
      "4.정보 변경\n",
      "9.종료\n",
      "메뉴를 선택: 2\n",
      "고객 이름 입력: k\n",
      "전화번호 입력: 1\n",
      "주소 입력: 1\n",
      "고객 관리 프로그램\n",
      "====================\n",
      "1.고객 리스트 출력\n",
      "2.고객 추가\n",
      "3.고객 삭제\n",
      "4.정보 변경\n",
      "9.종료\n",
      "메뉴를 선택: 1\n",
      "고객 리스트:\n",
      "{'이름': 'k', '전화번호': '1', '주소': '1'}\n",
      "고객 관리 프로그램\n",
      "====================\n",
      "1.고객 리스트 출력\n",
      "2.고객 추가\n",
      "3.고객 삭제\n",
      "4.정보 변경\n",
      "9.종료\n",
      "메뉴를 선택: 4\n",
      "변경할 고객 이름 입력\n",
      "이름: k\n",
      "변경 내용 선택 [1.이름, 2.전화번호, 3.주소]: 1\n",
      "정보 입력: u\n",
      "고객 관리 프로그램\n",
      "====================\n",
      "1.고객 리스트 출력\n",
      "2.고객 추가\n",
      "3.고객 삭제\n",
      "4.정보 변경\n",
      "9.종료\n",
      "메뉴를 선택: 1\n",
      "고객 리스트:\n",
      "{'이름': 'u', '전화번호': '1', '주소': '1'}\n",
      "고객 관리 프로그램\n",
      "====================\n",
      "1.고객 리스트 출력\n",
      "2.고객 추가\n",
      "3.고객 삭제\n",
      "4.정보 변경\n",
      "9.종료\n",
      "메뉴를 선택: 3\n",
      "삭제할 고객 이름 입력\n",
      "이름: u\n",
      "고객 관리 프로그램\n",
      "====================\n",
      "1.고객 리스트 출력\n",
      "2.고객 추가\n",
      "3.고객 삭제\n",
      "4.정보 변경\n",
      "9.종료\n",
      "메뉴를 선택: 1\n",
      "고객 리스트:\n",
      "고객 관리 프로그램\n",
      "====================\n",
      "1.고객 리스트 출력\n",
      "2.고객 추가\n",
      "3.고객 삭제\n",
      "4.정보 변경\n",
      "9.종료\n",
      "메뉴를 선택: 9\n",
      "프로그램 종료\n"
     ]
    }
   ],
   "source": [
    "class file:\n",
    "    cs_ls = []\n",
    "\n",
    "    def outcsv(self):\n",
    "        f = open(\"customlist.csv\", \"w\", encoding=\"utf-8\")\n",
    "        for idx, row in enumerate(self.cs_ls, 1):\n",
    "            f.write(str(idx) + \", \" + str(\",\".join([j for j in row.values()]) + \"\\n\"))\n",
    "        f.close()\n",
    "\n",
    "\n",
    "class csProgram(file):\n",
    "\n",
    "    def screen(self):\n",
    "        print(\"고객 관리 프로그램\")\n",
    "        print(\"====================\")\n",
    "        print(\"1.고객 리스트 출력\")\n",
    "        print(\"2.고객 추가\")\n",
    "        print(\"3.고객 삭제\")\n",
    "        print(\"4.정보 변경\")\n",
    "        print(\"9.종료\")\n",
    "\n",
    "    def choice(self):\n",
    "        self.no = input(\"메뉴를 선택: \")\n",
    "\n",
    "    def incor(self):\n",
    "        print(\"잘못 입력 하셨습니다.\")\n",
    "\n",
    "    def confime(self):\n",
    "        print(\"고객 리스트:\")\n",
    "        for customer in self.cs_ls:\n",
    "            print(customer)\n",
    "\n",
    "    def newdata(self):\n",
    "        new_customer = {}\n",
    "        new_customer['이름'] = input(\"고객 이름 입력: \")\n",
    "        new_customer['전화번호'] = input(\"전화번호 입력: \")\n",
    "        new_customer['주소'] = input(\"주소 입력: \")\n",
    "        self.cs_ls.append(new_customer)\n",
    "\n",
    "    def find(self):\n",
    "        self.name = input(\"이름: \")\n",
    "\n",
    "    def deldata(self):\n",
    "        print(\"삭제할 고객 이름 입력\")\n",
    "        self.find()\n",
    "        found = False\n",
    "        for customer in self.cs_ls:\n",
    "            if customer['이름'] == self.name:\n",
    "                self.cs_ls.remove(customer)\n",
    "                found = True\n",
    "        if not found:\n",
    "            print(\"고객을 찾을 수 없습니다.\")\n",
    "\n",
    "    def m_data(self):\n",
    "        print(\"변경할 고객 이름 입력\")\n",
    "        self.find()\n",
    "        found = False\n",
    "        for customer in self.cs_ls:\n",
    "            if customer['이름'] == self.name:\n",
    "                found = True\n",
    "                while True:\n",
    "                    self.col = input(\"변경 내용 선택 [1.이름, 2.전화번호, 3.주소]: \")\n",
    "                    if self.col.isdigit() and int(self.col) in [1, 2, 3]:\n",
    "                        self.data = input(\"정보 입력: \")\n",
    "                        if int(self.col) == 1:\n",
    "                            customer['이름'] = self.data\n",
    "                        elif int(self.col) == 2:\n",
    "                            customer['전화번호'] = self.data\n",
    "                        elif int(self.col) == 3:\n",
    "                            customer['주소'] = self.data\n",
    "                        break\n",
    "                    else:\n",
    "                        self.incor()\n",
    "        if not found:\n",
    "            print(\"고객을 찾을 수 없습니다.\")\n",
    "\n",
    "    def op(self):\n",
    "        while True:\n",
    "            self.screen()\n",
    "            self.choice()\n",
    "            if self.no == '9':\n",
    "                self.outcsv()\n",
    "                print(\"프로그램 종료\")\n",
    "                break\n",
    "            elif self.no == '2':\n",
    "                self.newdata()\n",
    "            elif self.no == '1':\n",
    "                self.confime()\n",
    "            elif self.no == '3':\n",
    "                self.deldata()\n",
    "            elif self.no == '4':\n",
    "                self.m_data()\n",
    "            else:\n",
    "                self.incor()\n",
    "\n",
    "\n",
    "cs = csProgram()\n",
    "cs.op()"
   ]
  },
  {
   "cell_type": "code",
   "execution_count": null,
   "id": "841dfa2a",
   "metadata": {},
   "outputs": [],
   "source": []
  }
 ],
 "metadata": {
  "kernelspec": {
   "display_name": "Python 3 (ipykernel)",
   "language": "python",
   "name": "python3"
  },
  "language_info": {
   "codemirror_mode": {
    "name": "ipython",
    "version": 3
   },
   "file_extension": ".py",
   "mimetype": "text/x-python",
   "name": "python",
   "nbconvert_exporter": "python",
   "pygments_lexer": "ipython3",
   "version": "3.9.13"
  }
 },
 "nbformat": 4,
 "nbformat_minor": 5
}
