{
 "cells": [
  {
   "cell_type": "markdown",
   "id": "29341ef7",
   "metadata": {},
   "source": [
    "## 1. 예외처리를 하는 이유\n",
    "\n",
    "- 자연스러운 예외 메세지를 출력하기 위한 이유\n",
    "- 프로그램의 비정상적인 종료를 방지하기 위해서"
   ]
  },
  {
   "cell_type": "markdown",
   "id": "4d3f7a6f",
   "metadata": {},
   "source": [
    "## 2. 문법\n",
    "\n",
    "190p\n",
    "\n",
    "    try:\n",
    "        코드\n",
    "        ...\n",
    "        \n",
    "    except 예외처리클래스 [as 변수]:\n",
    "        코드\n",
    "        ...\n",
    "        \n",
    "    -----------------------------------------------------\n",
    "    try:\n",
    "        코드\n",
    "        ...\n",
    "        \n",
    "    except 예외처리클래스 [as 변수]:\n",
    "        코드\n",
    "        ...\n",
    "    [else:\n",
    "        코드\n",
    "        ...]\n",
    "        \n",
    "    [finally:\n",
    "        코드 (예외 발생과는 무관하게 무조건(반드시) 실행\n",
    "        ...]\n",
    "   \n",
    "\n",
    "\n",
    "    https://docs.python.org/3/tutorial/errors.html?highlight=error"
   ]
  },
  {
   "cell_type": "code",
   "execution_count": null,
   "id": "e0aca0d6",
   "metadata": {},
   "outputs": [],
   "source": [
    "def test(num):\n",
    "    try:\n",
    "        result = 10/num\n",
    "        print(result)\n",
    "    except: \n",
    "        print(\"오류 발생\")\n",
    "    \n",
    "    print(\"나머지 코드 실행~\")\n",
    "    \n",
    "#########################################\n",
    "\n",
    "\n",
    "test(2)\n",
    "test(5)\n",
    "test(0)  #0으로 나누기 때문에 에러발생 # 이러한 에러 메세지를 민간 사용자에게 보여주면 안된다.\n",
    "\n",
    "#실제 오류가 발생하면 시스템이 모두 관할하는데, 시스템에 에러가 도달하기 전에 낚아채서 내가 처리할 수 있게끔 해주는 원리\n"
   ]
  },
  {
   "cell_type": "code",
   "execution_count": null,
   "id": "327f450c",
   "metadata": {},
   "outputs": [],
   "source": [
    "def test(num):\n",
    "    try:\n",
    "        result = 10/num\n",
    "        print(result)\n",
    "        \n",
    "        arr = [0, 1, 2]\n",
    "        print(arr[num])\n",
    "        \n",
    "    except ZeroDivisionError as err: #변수명이 필요하지 않다면 (as err) 이부분은 생략가능\n",
    "        print(\"0으로 나누면 안됩니다 :\", err )\n",
    "    except IndexError as err:\n",
    "        print(\"인덱스 범위를 벗어났습니다. :\", err) # 에러 메세지의 원본이 필요하다면 print의 끝에 , err를 쓰는 것으로 가져올 수 있음\n",
    "    \n",
    "    print(\"나머지 코드 실행~\") #에러가 발생하든 안하든 실행하겠다~~~~~ 밑에 else:랑 비교할 것\n",
    "    \n",
    "test(1)\n",
    "test(2)\n",
    "test(3)  \n",
    "\n",
    "#실제 오류가 발생하면 시스템이 모두 관할하는데, 시스템에 에러가 도달하기 전에 낚아채서 내가 처리할 수 있게끔 해주는 원리"
   ]
  },
  {
   "cell_type": "code",
   "execution_count": null,
   "id": "d5eca454",
   "metadata": {},
   "outputs": [],
   "source": [
    "def test(num):\n",
    "    try:\n",
    "        result = 10/num\n",
    "        print(result)\n",
    "        \n",
    "        arr = [0, 1, 2]\n",
    "        print(arr[num])\n",
    "        \n",
    "    except (ZeroDivisionError, IndexError): #비슷하거나 관련있는 것들을 한번에 묶어줄 수 있음.\n",
    "        print(\"0으로 나누거나 인덱스를 잘못 사용했습니다\")\n",
    "        \n",
    "    except:\n",
    "        print(\"일반 오류\")\n",
    "        \n",
    "    else:\n",
    "        print(\"나머지 코드 실행~\") #에러가 발생 안했을 때만 사용하겠다~~~\n",
    "    \n",
    "    \n",
    "test(1)\n",
    "test(2)\n",
    "test(3)  "
   ]
  },
  {
   "cell_type": "code",
   "execution_count": 15,
   "id": "331b5a42",
   "metadata": {},
   "outputs": [
    {
     "name": "stdout",
     "output_type": "stream",
     "text": [
      "10.0\n",
      "1\n",
      "파일을 찾을 수 없다.: [Errno 2] No such file or directory: 'xyz.txt'\n",
      "여기는 무조건 코드가 실행됨\n",
      "나머지 코드 실행\n"
     ]
    }
   ],
   "source": [
    "def test(num):\n",
    "    f = None # f가 지역변수이기에 생긴 오류를 해결하기 위해서 def 안에 지정해둠(def 밖에다 만들면 전역변수가 되어버림)\n",
    "    \n",
    "    try:\n",
    "        result = 10/num\n",
    "        print(result)\n",
    "        \n",
    "        arr = [0, 1, 2]\n",
    "        print(arr[num])\n",
    "        \n",
    "        f = open(\"xyz.txt\", \"r\") # f는 try안에 있는 지역변수이기에 밑의 if f != None:에서 오류가 발생했따.\n",
    "      \n",
    "        \n",
    "    except ZeroDivisionError as err:\n",
    "        print(\"0으로 나누면 안됩니다 :\", err )\n",
    "        return #중간에 리턴을 넣어줌으로서 함수를 종료시켜버림.\n",
    "    \n",
    "    except IndexError as err:\n",
    "        print(\"인덱스 범위를 벗어났습니다. :\", err) \n",
    "        return\n",
    "    \n",
    "    except FileNotFoundError as err:\n",
    "        print(\"파일을 찾을 수 없다.:\", err)\n",
    "        #return\n",
    "    \n",
    "    finally: #매우 강력한 기능. 위에서 return을 적었음에도 실행되었음.\n",
    "        print(\"여기는 무조건 코드가 실행됨\")\n",
    "        if f != None:\n",
    "            f.close() #finally는 무조건 실행이 되니까, f.close()를 finally에 달아서 써주면 안전하다.\n",
    "        \n",
    "    print(\"나머지 코드 실행\")\n",
    "        \n",
    "#####################################\n",
    "        \n",
    "\n",
    "test(1)"
   ]
  },
  {
   "cell_type": "markdown",
   "id": "343fa344",
   "metadata": {},
   "source": [
    "## 3. traceback"
   ]
  },
  {
   "cell_type": "code",
   "execution_count": 22,
   "id": "066f587b",
   "metadata": {},
   "outputs": [
    {
     "name": "stdout",
     "output_type": "stream",
     "text": [
      "에러 원인 : division by zero\n"
     ]
    },
    {
     "name": "stderr",
     "output_type": "stream",
     "text": [
      "Traceback (most recent call last):\n",
      "  File \"C:\\Users\\acorn\\AppData\\Local\\Temp\\ipykernel_10312\\438679940.py\", line 5, in first\n",
      "    a = 10/0\n",
      "ZeroDivisionError: division by zero\n"
     ]
    }
   ],
   "source": [
    "import traceback\n",
    "\n",
    "def first():\n",
    "    try:\n",
    "        a = 10/0\n",
    "        print(a)\n",
    "    except ZeroDivisionError as e:\n",
    "        print(\"에러 원인 :\", e)\n",
    "        traceback.print_exc()\n",
    "        \n",
    "def second():\n",
    "    first()\n",
    "    \n",
    "def third():\n",
    "    second()\n",
    "\n",
    "###########################\n",
    "\n",
    "third()"
   ]
  },
  {
   "cell_type": "markdown",
   "id": "95836444",
   "metadata": {},
   "source": [
    "## 4. 예외를 일부러 발생 :  raise"
   ]
  },
  {
   "cell_type": "code",
   "execution_count": 26,
   "id": "204d573f",
   "metadata": {},
   "outputs": [
    {
     "name": "stdout",
     "output_type": "stream",
     "text": [
      "2.0\n",
      "에러원인 :  \n"
     ]
    }
   ],
   "source": [
    "def test():\n",
    "    try:\n",
    "        a = 10/5\n",
    "        print(a)\n",
    "        raise ZeroDivisionError # 일부로 에러를 유도하고 직접 잡아냄    \n",
    "    except ZeroDivisionError as e:\n",
    "        print(\"에러원인 : \",e)\n",
    "        \n",
    "test()"
   ]
  },
  {
   "cell_type": "markdown",
   "id": "3c958ef2",
   "metadata": {},
   "source": [
    "## 5. 예외 클래스를 만들기"
   ]
  },
  {
   "cell_type": "code",
   "execution_count": 31,
   "id": "f5616472",
   "metadata": {},
   "outputs": [
    {
     "name": "stdout",
     "output_type": "stream",
     "text": [
      "5.0\n",
      "음수로 나눌 수 없다\n"
     ]
    }
   ],
   "source": [
    "class NegativeDivideError(Exception):\n",
    "    pass\n",
    "\n",
    "def positiveDivide(n1, n2):\n",
    "    if n2 <0:\n",
    "        raise NegativeDivideError\n",
    "        \n",
    "    return n1/n2\n",
    "\n",
    "#####################\n",
    "try:\n",
    "    result = positiveDivide(10,2)\n",
    "    print(result)\n",
    "    \n",
    "    result = positiveDivide(10,-2)\n",
    "    print(result)\n",
    "    \n",
    "except NegativeDivideError:\n",
    "    print(\"음수로 나눌 수 없다\")"
   ]
  }
 ],
 "metadata": {
  "kernelspec": {
   "display_name": "Python 3 (ipykernel)",
   "language": "python",
   "name": "python3"
  },
  "language_info": {
   "codemirror_mode": {
    "name": "ipython",
    "version": 3
   },
   "file_extension": ".py",
   "mimetype": "text/x-python",
   "name": "python",
   "nbconvert_exporter": "python",
   "pygments_lexer": "ipython3",
   "version": "3.9.13"
  }
 },
 "nbformat": 4,
 "nbformat_minor": 5
}
