{
 "cells": [
  {
   "cell_type": "markdown",
   "id": "43fe45bc",
   "metadata": {},
   "source": [
    "# 1. 입력기능"
   ]
  },
  {
   "cell_type": "code",
   "execution_count": null,
   "id": "aacf17cb",
   "metadata": {},
   "outputs": [],
   "source": [
    "name = input(\"당신의 이름은?\")\n",
    "print(\"안녕하세요! {}님 반갑습니다.\".format(name))"
   ]
  },
  {
   "cell_type": "code",
   "execution_count": null,
   "id": "010a3274",
   "metadata": {},
   "outputs": [],
   "source": [
    "num1 = input(\"첫번째 숫자 입력 : \")\n",
    "num2 = input(\"두번째 숫자 입력 : \")\n",
    "\n",
    "print(\"결과는 {}이다.\".format(num1 + num2))\n",
    "\n",
    "\n",
    "\n",
    "num1 = int(input(\"첫번째 숫자 입력 : \"))\n",
    "num2 = int(input(\"두번째 숫자 입력 : \"))\n",
    "\n",
    "print(\"결과는 {}이다.\".format(num1 + num2))"
   ]
  },
  {
   "cell_type": "markdown",
   "id": "05aa6c41",
   "metadata": {},
   "source": [
    "# 2. 조건문"
   ]
  },
  {
   "cell_type": "markdown",
   "id": "b3f0307d",
   "metadata": {},
   "source": [
    "- 1형식\n",
    "\n",
    "        if 조건식:\n",
    "            문장\n",
    "            ...\n",
    "            \n",
    "        if 조건식 : 문장\n",
    "        "
   ]
  },
  {
   "cell_type": "code",
   "execution_count": null,
   "id": "c4a200ea",
   "metadata": {},
   "outputs": [],
   "source": [
    "# 입력받은 값이 짝수인지를 구별하는 프로그램 작성"
   ]
  },
  {
   "cell_type": "code",
   "execution_count": null,
   "id": "b049e14b",
   "metadata": {},
   "outputs": [],
   "source": [
    "num = int(input(\"숫자를 입력해\"))\n",
    "\n",
    "if num % 2 == 0:\n",
    "    print(\"짝수입니다\")  #코드블럭(:)안에서는 반드시 들여쓰기 해야함\n",
    "if num % 2 != 0:\n",
    "    print(\"홀수입니다\")"
   ]
  },
  {
   "cell_type": "markdown",
   "id": "49014a8a",
   "metadata": {},
   "source": [
    "- 2형식\n",
    "\n",
    "        if 조건문:\n",
    "            문장\n",
    "            ...\n",
    "        else:"
   ]
  },
  {
   "cell_type": "code",
   "execution_count": null,
   "id": "efdb460e",
   "metadata": {},
   "outputs": [],
   "source": [
    "num = int(input(\"숫자를 입력해\"))\n",
    "\n",
    "if num % 2 == 0:\n",
    "    print(\"짝수입니다\")\n",
    "else:\n",
    "    print(\"홀수입니다\")"
   ]
  },
  {
   "cell_type": "code",
   "execution_count": null,
   "id": "caa05b65",
   "metadata": {},
   "outputs": [],
   "source": [
    "# 입력받은 값이 a, b, c, d이면 \"정답\"이라고 출력\n",
    "# 그렇지 않으면 \"오답\"이라고 출력"
   ]
  },
  {
   "cell_type": "code",
   "execution_count": null,
   "id": "533f0a73",
   "metadata": {},
   "outputs": [],
   "source": [
    "answer = input(\"답을 적으시오:\")\n",
    "\n",
    "if answer == 'a' or answer == 'b' or answer == 'c' or answer == 'd':\n",
    "    print(\"정답\")\n",
    "else:\n",
    "    print(\"오답\")\n",
    "\n",
    "    #---------------------------------------------\n",
    "\n",
    "answer = input(\"답을 적으시오:\")\n",
    "\n",
    "if answer == [\"a\", \"b\", \"c\", \"d\"]:\n",
    "    print(\"정답\")\n",
    "else:\n",
    "    print(\"오답\")\n",
    "    \n",
    "    #-----------------------------------------------\n",
    "    \n",
    "answer = input(\"입력해주세요:\")\n",
    "\n",
    "correct = [\"a\", \"b\", \"c\", \"d\"]\n",
    "if correct.count(answer) > 0:\n",
    "    print(\"정답\")\n",
    "else:\n",
    "    print(\"오답\")\n",
    "    \n",
    "    #-------------------------------------------------\n",
    "\n",
    "answer = input(\"입력\")\n",
    "\n",
    "if answer >= \"a\" and answer <= \"d\":\n",
    "    print(\"정답\")\n",
    "else:\n",
    "    print(\"오답\")"
   ]
  },
  {
   "cell_type": "markdown",
   "id": "aede6cd0",
   "metadata": {},
   "source": [
    "- 3형식\n",
    "\n",
    "        if 조건문:\n",
    "            문장\n",
    "            ...\n",
    "        elif:\n",
    "            문장\n",
    "            ....\n",
    "        elif:\n",
    "            문장\n",
    "            ....\n",
    "        [else]\n",
    "            문장\n",
    "            ....\n",
    "      \n",
    "               "
   ]
  },
  {
   "cell_type": "code",
   "execution_count": null,
   "id": "53824c46",
   "metadata": {},
   "outputs": [],
   "source": [
    "avg = 78\n",
    "\n",
    "if avg >= 90:\n",
    "    print(\"A\")\n",
    "elif avg >= 80:\n",
    "    print(\"B\")\n",
    "elif avg >= 70:\n",
    "    print(\"C\")\n",
    "elif avg >= 60:\n",
    "    print(\"D\")\n",
    "else:\n",
    "    print(\"F\")"
   ]
  },
  {
   "cell_type": "code",
   "execution_count": null,
   "id": "083c4887",
   "metadata": {},
   "outputs": [],
   "source": [
    "\"\"\"\n",
    "전자 계산기 프로그램(사칙연산)\n",
    "----------\n",
    "연산자 : +\n",
    "숫자1 : 10\n",
    "숫자2 : 5\n",
    "결과 : 10 + 5 = 15\n",
    "\"\"\"\n",
    "\n",
    "op = input('연산자(+,-,*,/ only)  : ')\n",
    "num1 = int(input('숫자1 : '))\n",
    "num2 = int(input('숫자2 : '))\n",
    "\n",
    "if op == '+' :\n",
    "    result = num1 + num2\n",
    "elif op == '*' : \n",
    "    result = num1 * num2\n",
    "elif op == '-' :\n",
    "    result = num1 - num2\n",
    "elif op == '/' : \n",
    "    result = num1 / num2\n",
    "    \n",
    "print('\\n결과 : {} {} {} = {}'.format(num1,op,num2, result) )"
   ]
  },
  {
   "cell_type": "markdown",
   "id": "da700a71",
   "metadata": {},
   "source": [
    "- 중첩 if문"
   ]
  },
  {
   "cell_type": "code",
   "execution_count": null,
   "id": "5c2e5889",
   "metadata": {},
   "outputs": [],
   "source": [
    "a, b, c = 8, 10, 3\n",
    "\n",
    "if a > b:\n",
    "    if a > c:\n",
    "        print(\"a가 제일 크다\")\n",
    "    else:\n",
    "        print(\"c가 제일 크다\")\n",
    "else:\n",
    "    if b > c:\n",
    "        print(\"b가 제일 크다\")\n",
    "    else:\n",
    "        print(\"c가 제일 크다\")\n",
    "    "
   ]
  },
  {
   "cell_type": "code",
   "execution_count": null,
   "id": "08311c61",
   "metadata": {},
   "outputs": [],
   "source": [
    "id = input(\"ID : \")  # id는 tiger\n",
    "pw = input(\"Password : \") # password는 1111이라고 가정\n",
    "\n",
    "if id != \"tiger\":\n",
    "    if pw != \"1111\" :\n",
    "        print(\"ID와 비밀번호가 일치하지 않습니다.\")\n",
    "    else:\n",
    "        print(\"존재하지 않는 ID입니다\")\n",
    "else:\n",
    "    if pw != \"1111\":\n",
    "        print(\"비밀번호가 일치하지 않습니다\")\n",
    "    else:\n",
    "        print(\"로그인 되었습니다\")\n",
    "    "
   ]
  },
  {
   "cell_type": "markdown",
   "id": "68336efb",
   "metadata": {},
   "source": [
    "- 삼항 연산자\n",
    "\n",
    "          참일 때 결과 if 조건문 else 거짓일 때 결과"
   ]
  },
  {
   "cell_type": "code",
   "execution_count": null,
   "id": "93c17bb1",
   "metadata": {},
   "outputs": [],
   "source": [
    "##### 가위바위보 게임\n",
    "\n",
    "\"\"\"\n",
    "\n",
    "(가위, 바위, 보) 중에서 하나를 입력 : 가위\n",
    "컴퓨터 : 보, 게이머 : 가위\n",
    "결과 : 게이머 승\n",
    "\n",
    "\"\"\"\n",
    "#반복없는 가위바위보\n",
    "import random\n",
    "\n",
    "rule = ['가위', '바위', '보']\n",
    "ran = random.randint(0,2)\n",
    "com = rule[ran]\n",
    "use = input('가위, 바위, 보중에 고르시오. : ')\n",
    "\n",
    "\n",
    "if use != com:\n",
    "    \n",
    "    if use == \"가위\":\n",
    "        if com == \"바위\":\n",
    "            result = \"컴퓨터 승리\"\n",
    "        elif com == \"보\":\n",
    "            result = \"사용자 승리\"\n",
    "            \n",
    "    elif use == \"보\":\n",
    "        if com == \"가위\":\n",
    "            result = \"컴퓨터 승리\"\n",
    "        elif com == \"바위\":\n",
    "            result = \"사용자 승리\"\n",
    "            \n",
    "    elif use == '바위':\n",
    "        if com == '보':\n",
    "            result = \"컴퓨터 승리\"\n",
    "        elif com == '가위':\n",
    "            result = \"사용자 승리\"\n",
    "            \n",
    "elif use == com:\n",
    "    \n",
    "    result = \"비겼다\"\n",
    "    \n",
    "print(\"use는{}, com은{}, 그래서 결과는 {}\".format(use, com, result))  \n",
    "\n",
    "\n",
    "\n"
   ]
  },
  {
   "cell_type": "code",
   "execution_count": null,
   "id": "61079f65",
   "metadata": {},
   "outputs": [],
   "source": [
    "import random\n",
    "\n",
    "rand = random.randint(0,2)\n",
    "print(rand)"
   ]
  },
  {
   "cell_type": "markdown",
   "id": "a3b51ada",
   "metadata": {},
   "source": [
    "# 3. 반복문\n",
    "- while\n",
    "- for"
   ]
  },
  {
   "cell_type": "markdown",
   "id": "2a215a20",
   "metadata": {},
   "source": [
    "### (1) while\n",
    "                        # 무한반복 - 서버\n",
    "                        # 반복횟수 - 정확히 일치해야함\n",
    "                        # 위의 2가지 모두 주의\n",
    "                        # 초기화, 조건식, 카운팅 3가지를 조심하자\n",
    "                       \n",
    "\n",
    "             while 조건식 : \n",
    "                 문장\n",
    "                 ....\n",
    "                 "
   ]
  },
  {
   "cell_type": "code",
   "execution_count": null,
   "id": "1bb1c4d6",
   "metadata": {},
   "outputs": [],
   "source": [
    "#iterable\n",
    "print(\"**********\")\n",
    "print('*' * 10)\n",
    "\n",
    "cnt = 0  #초기화 해야함\n",
    "while cnt <10:\n",
    "    print(\"*\")\n",
    "    cnt += 1\n",
    "    \n",
    "cnt = 0  \n",
    "while cnt <10:\n",
    "    print(\"*\", end=\"\")\n",
    "    cnt += 1"
   ]
  },
  {
   "cell_type": "code",
   "execution_count": null,
   "id": "d15120bb",
   "metadata": {},
   "outputs": [],
   "source": [
    "# 1부터 10까지의 합계\n",
    "\n",
    "cnt = 0\n",
    "sum = 0\n",
    "\n",
    "while cnt <= 10:\n",
    "    sum = sum + cnt # sum += cnt\n",
    "    cnt = cnt + 1   # cnt += 1\n",
    "\n",
    "print(sum)\n"
   ]
  },
  {
   "cell_type": "code",
   "execution_count": null,
   "id": "69436852",
   "metadata": {},
   "outputs": [],
   "source": [
    "# 2의 10승 : 1024\n",
    "\n",
    "cnt = 0\n",
    "sum = 1\n",
    "\n",
    "while cnt < 10:\n",
    "    sum *= 2   # sum = sum * 2\n",
    "    cnt += 1   # cnt = cnt + 1\n",
    "    \n",
    "print(sum)"
   ]
  },
  {
   "cell_type": "markdown",
   "id": "0737f5d2",
   "metadata": {},
   "source": [
    "### (2) for\n",
    "\n",
    "         for 변수, in 집합자료형:\n",
    "             문장\n",
    "             ....\n",
    "             "
   ]
  },
  {
   "cell_type": "code",
   "execution_count": null,
   "id": "1b319a4b",
   "metadata": {},
   "outputs": [],
   "source": [
    "data = [10, 20, \"홍길동\", 3.13, True]\n",
    "\n",
    "cnt = 0\n",
    "while cnt < len(data):\n",
    "    print(data[cnt])\n",
    "    cnt += 1"
   ]
  },
  {
   "cell_type": "code",
   "execution_count": null,
   "id": "fb684e00",
   "metadata": {},
   "outputs": [],
   "source": [
    "data = [10, 20, \"홍길동\", 3.13, True]\n",
    "\n",
    "for i in data:           #i(변수)가 반복가능한 객체(data)에서 나올 때 까지 반복(가능한 요소 수만큼)\n",
    "    print(i)\n",
    "    \n",
    "for i in range(10):\n",
    "    print(\"*\", end=\"\")"
   ]
  },
  {
   "cell_type": "code",
   "execution_count": null,
   "id": "5e632bff",
   "metadata": {},
   "outputs": [],
   "source": [
    "##### 합계 구하기\n",
    "\n",
    "data = [8, 5, 6, 7, 9]\n",
    "\n",
    "sum = 0\n",
    "cnt = 0\n",
    "while cnt < len(data):\n",
    "    sum += data[cnt]\n",
    "    cnt +=1\n",
    "    \n",
    "print(sum)"
   ]
  },
  {
   "cell_type": "code",
   "execution_count": null,
   "id": "8c601dd4",
   "metadata": {},
   "outputs": [],
   "source": [
    "data = [8, 5, 6, 7, 9]\n",
    "\n",
    "s = 0\n",
    "for i in data:\n",
    "    s += i\n",
    "    print(i,s)   # 연산과정 학인하고 싶을 때 들여써서 입력\n",
    "print(s)\n"
   ]
  },
  {
   "cell_type": "code",
   "execution_count": 15,
   "id": "ea03ccbf",
   "metadata": {},
   "outputs": [
    {
     "name": "stdout",
     "output_type": "stream",
     "text": [
      "golf\n",
      "good\n",
      "sort\n",
      "---------------------------------------------------------------------------\n",
      "golf\n",
      "good\n",
      "sort\n"
     ]
    }
   ],
   "source": [
    "##### 문자열들 중에서 길이가 4글자인 것들만 출력\n",
    "data = [\"banana\", \"bravo\", \"golf\", \"piano\", \"chart\", \"integer\", \"good\", \"sort\"]\n",
    "\n",
    "cnt = 0\n",
    "cl = 0\n",
    "while cnt < len(data):\n",
    "    if len(data[cl]) == 4:\n",
    "        print(data[cl])\n",
    "    cl +=1\n",
    "    cnt +=1\n",
    "\n",
    "print(\"---------------------------------------------------------------------------\")\n",
    "    \n",
    "data = [\"banana\", \"bravo\", \"golf\", \"piano\", \"chart\", \"integer\", \"good\", \"sort\"]\n",
    "\n",
    "cnt = 0\n",
    "while cnt < len(data):\n",
    "    if len(data[cnt]) == 4:\n",
    "        print(data[cnt])\n",
    "    else:\n",
    "        pass\n",
    "    cnt +=1\n",
    "\n"
   ]
  },
  {
   "cell_type": "code",
   "execution_count": null,
   "id": "d3a81263",
   "metadata": {},
   "outputs": [],
   "source": [
    "data = [8, 5, 6, 7, 9]\n",
    "print(max(data))"
   ]
  },
  {
   "cell_type": "code",
   "execution_count": 20,
   "id": "48be677b",
   "metadata": {},
   "outputs": [
    {
     "name": "stdout",
     "output_type": "stream",
     "text": [
      "9\n",
      "----------------\n",
      "5\n"
     ]
    }
   ],
   "source": [
    "##### 최대값 구하기\n",
    "\n",
    "\n",
    "data=[8,5,6,7,9]\n",
    "result=0\n",
    "\n",
    "for i in data:\n",
    "    if i > result:\n",
    "        result = i\n",
    "    else:\n",
    "        pass\n",
    "    \n",
    "print(result)\n",
    "\n",
    "print(\"----------------\")\n",
    "\n",
    "print(min(data))"
   ]
  },
  {
   "cell_type": "code",
   "execution_count": null,
   "id": "aeb851b1",
   "metadata": {},
   "outputs": [],
   "source": [
    "for i in range(2, 10):          #각 수의 배수 구하기 #구구단\n",
    "    for j in range(1, 10):\n",
    "        print(i*j, end=\" \")\n",
    "    print('')"
   ]
  },
  {
   "cell_type": "code",
   "execution_count": null,
   "id": "3d3a9bc4",
   "metadata": {},
   "outputs": [],
   "source": [
    "a = list(range(1,7))\n",
    "print(a)\n",
    "\n",
    "\n",
    "result = [num * 3 for num in a if num % 2 == 0]\n",
    "\n",
    "\n",
    "for num in a:\n",
    "    if num%2 == 0:\n",
    "        result.append(num*3)\n",
    "print(result)\n"
   ]
  },
  {
   "cell_type": "code",
   "execution_count": null,
   "id": "6430f2b1",
   "metadata": {},
   "outputs": [],
   "source": [
    "#### 리스트 컴프리헨션\n",
    "result = [x*y for x in range(2,10) for y in range(1,10)]\n",
    "print(result)\n",
    "\n",
    "result = []\n",
    "for x in range(2, 10):\n",
    "    for y in range(1,10):\n",
    "        result.append(x*y)\n",
    "        \n",
    "print(result)"
   ]
  },
  {
   "cell_type": "code",
   "execution_count": null,
   "id": "33c11bbd",
   "metadata": {},
   "outputs": [],
   "source": [
    "### 범위 내의 홀수 짝수 리스트로 만들기\n",
    "\n",
    "\n",
    "a = range(1,10)\n",
    "x = [ num *1 for num in a if num % 2 == 0]\n",
    "y = [ num *1 for num in a if num % 2 == 1]\n",
    "print(x)\n",
    "print(y)"
   ]
  },
  {
   "cell_type": "markdown",
   "id": "5769ee13",
   "metadata": {},
   "source": [
    "FuzzBuzz 예제\n",
    "- 1부터 100까지 출력\n",
    "- 3의 배수일 경우 숫자를 출력하지 않고 \"Fizz\"를 출력\n",
    "- 5의 배수일 경우 숫자를 출력하지 않고 \"Buzz\"를 출력\n",
    "- 3의 배수이면서 5의 배수인 경우 \"FizzBuzz\"를 출력"
   ]
  },
  {
   "cell_type": "code",
   "execution_count": null,
   "id": "84ca84a8",
   "metadata": {},
   "outputs": [],
   "source": [
    "for i in range(1,101):\n",
    "    if i%3 == 0:\n",
    "        if i%15 !=0:\n",
    "            print(\"Fizz\")\n",
    "        if i%15 ==0:\n",
    "            print(\"FizzBuzz\")\n",
    "        \n",
    "    elif i%5 == 0:\n",
    "        if i%15 !=0:\n",
    "            print(\"Buzz\")\n",
    "        if i%15 ==0:\n",
    "            print(\"FizzBuzz\")\n",
    "    else:\n",
    "        print(i)"
   ]
  },
  {
   "cell_type": "markdown",
   "id": "afb09244",
   "metadata": {},
   "source": [
    "### (3) 반복문 강제 종료\n",
    "\n",
    "- break : 완전 종료\n",
    "- continue : 일시 종료"
   ]
  },
  {
   "cell_type": "code",
   "execution_count": null,
   "id": "198b350f",
   "metadata": {},
   "outputs": [],
   "source": [
    "for i in range(10):\n",
    "    if i == 5:\n",
    "        break   # 5에서 실행을 완전히 정지함\n",
    "        \n",
    "    print(i)"
   ]
  },
  {
   "cell_type": "code",
   "execution_count": null,
   "id": "fed833f2",
   "metadata": {},
   "outputs": [],
   "source": [
    "for i in range(10):\n",
    "    if i == 5:\n",
    "        continue      # 5만 멈춰서 피하고, 다시 남은걸 반복실행함\n",
    "        \n",
    "    print(i)"
   ]
  },
  {
   "cell_type": "code",
   "execution_count": null,
   "id": "59b8bf7d",
   "metadata": {},
   "outputs": [],
   "source": [
    "cnt = 0\n",
    "\n",
    "while True: #while 1: 과 똑같음\n",
    "    if cnt == 20:\n",
    "        break\n",
    "    print(\"*\", end=\"\")\n",
    "    cnt +=1\n",
    "    "
   ]
  },
  {
   "cell_type": "markdown",
   "id": "45d7523b",
   "metadata": {},
   "source": [
    "### 예제1 : 전자계산기 업그레이드\n",
    "\n",
    "- 계속 반복돌면서 계산할 수 있는 프로그램으로 업그레이드\n",
    "- 끝나는 조건은 연산자에 \"x\"를 입력하면 종료\n",
    "\n",
    "\n",
    "\n"
   ]
  },
  {
   "cell_type": "code",
   "execution_count": null,
   "id": "59eab81f",
   "metadata": {
    "scrolled": true
   },
   "outputs": [],
   "source": [
    "\"\"\"\n",
    "전자 계산기 프로그램(사칙연산)\n",
    "----------\n",
    "연산자 : +\n",
    "숫자1 : 10\n",
    "숫자2 : 5\n",
    "결과 : 10 + 5 = 15\n",
    "\"\"\"\n",
    "\n",
    "\n",
    "while True:\n",
    "    op = input('연산자  : ')\n",
    "    num1 = int(input('숫자1 : '))\n",
    "    num2 = int(input('숫자2 : '))\n",
    "    if op == 'x':\n",
    "        break\n",
    "        result = 0\n",
    "    if op == '+' :\n",
    "        result = num1 + num2\n",
    "    elif op == '*' : \n",
    "        result = num1 * num2\n",
    "    elif op == '-' :\n",
    "        result = num1 - num2\n",
    "    elif op == '/' : \n",
    "        result = num1 / num2\n",
    "\n",
    "    print('\\n결과 : {} {} {} = {}'.format(num1,op,num2, result) )"
   ]
  },
  {
   "cell_type": "markdown",
   "id": "5def058b",
   "metadata": {},
   "source": [
    "### 예제2 : 가위 바위 보 게임 업그레이드\n",
    "\n",
    "- 반복문을 이용하여 계속 게임을 할 수 있도록 업그레이드\n",
    "- 끝나는 조건은 'x'나 'q'를 입력하면 종료\n",
    "- 끝날 때 결과에 ?승 ?패를 출력\n"
   ]
  },
  {
   "cell_type": "code",
   "execution_count": null,
   "id": "8a32d289",
   "metadata": {},
   "outputs": [],
   "source": [
    "#반복문을 이용하여 계속 게임을 할 수 있도록 업그레이드\n",
    "#끝나는 조건은 'x'나 'q'를 입력하면 종료\n",
    "#끝날 때 결과에 ?승 ?패를 출력\n",
    "\n",
    "import random\n",
    "\n",
    "\n",
    "comwin = 0\n",
    "userwin = 0\n",
    "while True:\n",
    "    rule = ['가위', '바위', '보']\n",
    "    ran = random.randint(0,2)\n",
    "    com = rule[ran]\n",
    "    use = input('가위, 바위, 보중에 고르시오. : ')\n",
    "    \n",
    "    \n",
    "    if use == \"x\":\n",
    "        print(\"총 전적 use는{}승{}패, com은{}승{}패, 수고하셨습니다\".format(userwin, comwin, comwin, userwin))\n",
    "        break\n",
    "\n",
    "    if use != com:\n",
    "        \n",
    "        if use == \"가위\":\n",
    "            if com == \"바위\":\n",
    "                result = \"컴퓨터 승리\"\n",
    "                comwin += 1\n",
    "            elif com == \"보\":\n",
    "                result = \"사용자 승리\"\n",
    "                userwin += 1\n",
    "            \n",
    "        elif use == \"보\":\n",
    "            if com == \"가위\":\n",
    "                result = \"컴퓨터 승리\"\n",
    "                comwin += 1\n",
    "            elif com == \"바위\":\n",
    "                result = \"사용자 승리\"\n",
    "                userwin += 1\n",
    "            \n",
    "        elif use == '바위':\n",
    "            if com == '보':\n",
    "                result = \"컴퓨터 승리\"\n",
    "                comwin += 1\n",
    "            elif com == '가위':\n",
    "                result = \"사용자 승리\"\n",
    "                userwin += 1\n",
    "            \n",
    "    elif use == com:\n",
    "        result = \"비겼다\"\n",
    "    \n",
    "    print(\"user는{}, com은{}, 그래서 결과는 {}\".format(use, com, result))  "
   ]
  },
  {
   "cell_type": "markdown",
   "id": "e39f80e5",
   "metadata": {},
   "source": [
    "### 예제3 : 숫자를 입력받은 후 짝수의 합과 홀수의 합을 출력\n",
    "\n",
    "- '0'을 입력하면 종료\n",
    "- 예시\n",
    "    숫자1: 10\n",
    "    숫자2: 7\n",
    "    숫자3: 29\n",
    "    ...\n",
    "    숫자n : 0\n",
    "    \n",
    "    짝수의 합 : ?\n",
    "    홀수의 합 : ?\n",
    "    "
   ]
  },
  {
   "cell_type": "code",
   "execution_count": null,
   "id": "a1990b2c",
   "metadata": {},
   "outputs": [],
   "source": [
    "\n",
    "evan = 0\n",
    "card = 0\n",
    " \n",
    "while True:\n",
    "    num = int(input(\"숫자를 입력하세요 :\",)) \n",
    "    if num == 0:\n",
    "        break\n",
    "        print(\"종료합니다\")\n",
    "        print(\"짝수의 합 :\", )\n",
    "        print(\"홀수의 합 :\", )\n",
    "\n",
    "    if num != 0:\n",
    "        if num % 2 == 0:\n",
    "            card += num\n",
    "        \n",
    "        if num % 2 == 1:\n",
    "            evan += num\n",
    "        \n",
    "print(\"짝수의 합 :\", card)\n",
    "print(\"홀수의 합 :\", evan)\n"
   ]
  },
  {
   "cell_type": "markdown",
   "id": "a7b5fa14",
   "metadata": {},
   "source": [
    "### 예제4 : 숫자 맞추기 게임(1부터 100사이의 숫자를 맞추기)\n",
    "- 예시\n",
    "    예를 들어 컴퓨터가 89라는 값을 선택했을 때\n",
    "    \n",
    "    숫자 : 10\n",
    "    결과 : 너무 작습니다\n",
    "    ....\n",
    "    결과 : 89\n",
    "    정답입니다. 총 시도횟수는 ?번입니다."
   ]
  },
  {
   "cell_type": "code",
   "execution_count": null,
   "id": "0deb1a2c",
   "metadata": {},
   "outputs": [],
   "source": [
    "import random\n",
    "\n",
    "rand = random.randint(1,100)\n",
    "print(rand)\n",
    "\n",
    "\n",
    "cnt = 0\n",
    "while True:\n",
    "    chn = int(input(\"숫자를 선택하세요 : \",))\n",
    "    cnt += 1\n",
    "    if rand == chn:\n",
    "        print(\"정답입니다\")\n",
    "        print(\"총 시도횟수는 {}번입니다.\".format(cnt))\n",
    "        break\n",
    "        \n",
    "    if rand != chn:\n",
    "        if 30 >= rand - chn > 0:\n",
    "            print(\"작습니다\")\n",
    "        elif -30 <= rand - chn < 0:\n",
    "            print(\"큽니다\")\n",
    "        elif rand - chn > 30:\n",
    "            print(\"매우 작습니다\")\n",
    "        elif rand - chn < -30:\n",
    "            print(\"매우 큽니다\")"
   ]
  },
  {
   "cell_type": "markdown",
   "id": "a58d05fd",
   "metadata": {},
   "source": [
    "### 예제5 : 임의의 수 5개를 입력 받아 그 중에서 가장 큰 수와 작은 수를 출력\n"
   ]
  },
  {
   "cell_type": "code",
   "execution_count": 9,
   "id": "e7a31444",
   "metadata": {},
   "outputs": [
    {
     "name": "stdout",
     "output_type": "stream",
     "text": [
      "아무 숫자나 입력해주세요8\n",
      "아무 숫자나 입력해주세요7\n",
      "아무 숫자나 입력해주세요96\n",
      "아무 숫자나 입력해주세요1\n",
      "아무 숫자나 입력해주세요2\n",
      "96\n",
      "1\n"
     ]
    }
   ],
   "source": [
    "import random\n",
    "\n",
    "insert_num = []\n",
    "insert_num.append(input(\"아무 숫자나 입력해주세요\"))\n",
    "insert_num.append(input(\"아무 숫자나 입력해주세요\"))\n",
    "insert_num.append(input(\"아무 숫자나 입력해주세요\"))\n",
    "insert_num.append(input(\"아무 숫자나 입력해주세요\"))\n",
    "insert_num.append(input(\"아무 숫자나 입력해주세요\"))\n",
    "\n",
    "print(max(insert_num))\n",
    "print(min(insert_num))\n"
   ]
  },
  {
   "cell_type": "code",
   "execution_count": 15,
   "id": "fb1fbe5c",
   "metadata": {},
   "outputs": [
    {
     "name": "stdout",
     "output_type": "stream",
     "text": [
      "숫자를 입력하세요 [1/5] :1\n",
      "숫자를 입력하세요 [2/5] :50\n",
      "숫자를 입력하세요 [3/5] :4\n",
      "숫자를 입력하세요 [4/5] :60\n",
      "숫자를 입력하세요 [5/5] :2\n",
      "\n",
      " 가장 큰 숫자는 60이고 가장 작은 숫자는 1입니다.\n"
     ]
    }
   ],
   "source": [
    "import random\n",
    "insert_data = []\n",
    "while len(insert_data) < 5:\n",
    "    input_number = input(\"숫자를 입력하세요 [{}/5] :\".format(len(insert_data)+1))\n",
    "    insert_data.append(int(input_number))\n",
    "    \n",
    "max_data = 0\n",
    "min_data = 1000000\n",
    "for val in insert_data:\n",
    "    if max_data < val:\n",
    "        max_data = val\n",
    "    if min_data > val:\n",
    "        min_data = val\n",
    "        \n",
    "print(\"\\n 가장 큰 숫자는 {}이고 가장 작은 숫자는 {}입니다.\".format(max_data,min_data))"
   ]
  },
  {
   "cell_type": "markdown",
   "id": "b4935c59",
   "metadata": {},
   "source": [
    "### 예제6. 고객관리 프로그램\n",
    " - 리스트를 이용\n",
    " \n"
   ]
  },
  {
   "cell_type": "code",
   "execution_count": null,
   "id": "8a46e910",
   "metadata": {},
   "outputs": [],
   "source": [
    "custom_list = []\n",
    "\n",
    "while True:\n",
    "    print(\"고객 관리 프로그램\")\n",
    "    print(\"====================\")\n",
    "    print(\"1.고객 리스트 출력\")\n",
    "    print(\"2.고객 추가\")\n",
    "    print(\"3.고객 삭제\")\n",
    "    print(\"4.이름 변경\")\n",
    "    print(\"9.종료\")\n",
    "    \n",
    "    no = input(\"메뉴를 선택 : \")\n",
    "    \n",
    "    if no == \"9\":\n",
    "        break\n",
    "    \n",
    "    if no == \"2\":\n",
    "        custom_list.append(input(\"추가할 이름을 입력 : \"))\n",
    "        # name = input(\"추가할 이름 입력 :\")\n",
    "        # custom_list.append(input(\"추가할 이름을 입력 : \"))\n",
    "        # name을 또 다른 곳에 쓸 일이 있다면 이렇게!\n",
    "        \n",
    "    if no == \"1\":\n",
    "        print(\"고객 리스트 :\", custom_list)\n",
    "    \n",
    "    if no == \"3\":\n",
    "        custom_list.remove(input(\"삭제할 이름 : \"))\n",
    "        \n",
    " \n",
    "    \n",
    "    if no == \"4\":\n",
    "        name = input(\"변경할 이름 입력 : \")\n",
    "        for i in range(len(custom_list)):\n",
    "            if custom_list[i] == name:\n",
    "                custom_list[i] = input(\"변경하고 싶은 이름 : \")\n",
    "                break\n",
    "        \n",
    "        \n",
    "        print(\"\\n\\n\\n\")"
   ]
  },
  {
   "cell_type": "markdown",
   "id": "c37ce60f",
   "metadata": {},
   "source": [
    "## (4) 반복문의 중첩"
   ]
  },
  {
   "cell_type": "code",
   "execution_count": null,
   "id": "3fd41dbc",
   "metadata": {},
   "outputs": [],
   "source": [
    "\"\"\"\n",
    "**********\n",
    "**********\n",
    "**********\n",
    "**********\n",
    "\n",
    "\"\"\"\n",
    "\n",
    "for i in range(3):\n",
    "    for j in range(10):\n",
    "        print(\"*\", end=\"\")\n",
    "    print()"
   ]
  },
  {
   "cell_type": "code",
   "execution_count": null,
   "id": "938d49fc",
   "metadata": {},
   "outputs": [],
   "source": [
    "\n",
    "for i in range(1, 6):\n",
    "    for j in range(i):\n",
    "        print(\"*\", end=\"\")\n",
    "    print()\n",
    "    \n",
    "for i in range(6, 1):\n",
    "    for j in range(i):\n",
    "        print(\"*\", end=\"\")\n",
    "    print()"
   ]
  },
  {
   "cell_type": "code",
   "execution_count": 22,
   "id": "e8798331",
   "metadata": {},
   "outputs": [
    {
     "name": "stdout",
     "output_type": "stream",
     "text": [
      "    *\n",
      "   ***\n",
      "  *****\n",
      " *******\n",
      "*********\n",
      "    *\n",
      "   ***\n",
      "  *****\n",
      " *******\n",
      "*********\n",
      "    *\n",
      "   ***\n",
      "  *****\n",
      " *******\n",
      "*********\n"
     ]
    }
   ],
   "source": [
    "# 정삼각형 별 그리기\n",
    "\n",
    "\"\"\"\n",
    "     *\n",
    "    ***\n",
    "   *****\n",
    "  *******\n",
    " *********\n",
    " \n",
    "\"\"\"\n",
    "\n",
    "rows = 5\n",
    "\n",
    "# for문 사용하지 않는 방법\n",
    "for i in range(1, (rows*2), 2):\n",
    "    print(\" \" * (rows-(i//2+1)), end=\"\")\n",
    "    print(\"*\" * i)\n",
    "    \n",
    "for i in range(1, row+1):\n",
    "    print(' ' * (rows-i), end = \"\")\n",
    "    print('*' * (i*2-1))\n",
    "    \n",
    "\n",
    "    \n",
    "\n",
    "# for문 사용하는 방법\n",
    "\n",
    "for i in range(1, rows+1):\n",
    "    for j in range(rows-i):\n",
    "        print(' ', end = \"\")\n",
    "    for k in range(i*2-1):\n",
    "        print('*', end = \"\")\n",
    "    print()"
   ]
  },
  {
   "cell_type": "code",
   "execution_count": 5,
   "id": "400e3ef6",
   "metadata": {},
   "outputs": [
    {
     "name": "stdout",
     "output_type": "stream",
     "text": [
      "숫자를 입력하세요: 1\n",
      "1 는 있어요\n"
     ]
    }
   ],
   "source": [
    "####예제4-1\n",
    "\n",
    "def checkfunc(number, t_list):\n",
    "        if number in t_list:\n",
    "            return True\n",
    "        else:  \n",
    "            return False\n",
    "\n",
    "datas = [1, 3, 4, 7, 9, 2, 4, 6]\n",
    "c_number = int(input(\"숫자를 입력하세요: \"))\n",
    "checkfunc(c_number, datas)\n",
    "if checkfunc(c_number, datas):\n",
    "    print(\"{}는 있어요\".format(c_number))\n",
    "else:\n",
    "    print(\"{}는 없어요\".format(c_number))\n",
    "    "
   ]
  },
  {
   "cell_type": "code",
   "execution_count": 6,
   "id": "8a666915",
   "metadata": {},
   "outputs": [
    {
     "name": "stdout",
     "output_type": "stream",
     "text": [
      "2 : 있어요.\n",
      "8 : 없어요.\n"
     ]
    }
   ],
   "source": [
    "#연습문제 4-1\n",
    "datas=[1,3,5,7,9,2,4,6]\n",
    "\n",
    "def checkfunc(subject,num):\n",
    "    if (num in subject)==True:\n",
    "        print(num,\": 있어요.\")\n",
    "    if (num in subject)==False:\n",
    "        print(num,\": 없어요.\")\n",
    "        \n",
    "\n",
    "checkfunc(datas,2)\n",
    "checkfunc(datas,8)\n"
   ]
  },
  {
   "cell_type": "markdown",
   "id": "e95ba724",
   "metadata": {},
   "source": [
    "### (5) List Comprehension\n",
    "p99\n"
   ]
  },
  {
   "cell_type": "code",
   "execution_count": 1,
   "id": "d38cbc3b",
   "metadata": {},
   "outputs": [
    {
     "name": "stdout",
     "output_type": "stream",
     "text": [
      "[0, 1, 2, 3, 4, 5, 6, 7, 8, 9]\n"
     ]
    }
   ],
   "source": [
    "# [0 ~ 9]\n",
    "#일반적인 반복문의 경우 아래와 같은 형태\n",
    "result = []\n",
    "for i in range(10):\n",
    "    result.append(i)\n",
    "    \n",
    "print(result)"
   ]
  },
  {
   "cell_type": "code",
   "execution_count": 2,
   "id": "d2cb8cc9",
   "metadata": {},
   "outputs": [
    {
     "name": "stdout",
     "output_type": "stream",
     "text": [
      "[0, 1, 2, 3, 4, 5, 6, 7, 8, 9]\n"
     ]
    }
   ],
   "source": [
    "result = [i for i in range(10)] #리스트 안에 반복문을 집어 넣어서 코드를 단축함 #파이써닉 코드라고 불림\n",
    "print(result) # 맽앞의 i가 들어간 위치는 append가 들어가있다고 생각"
   ]
  },
  {
   "cell_type": "code",
   "execution_count": 3,
   "id": "19320cde",
   "metadata": {},
   "outputs": [
    {
     "name": "stdout",
     "output_type": "stream",
     "text": [
      "[0, 2, 4, 6, 8]\n"
     ]
    }
   ],
   "source": [
    "result = []\n",
    "for i in range(10):\n",
    "    if i%2 == 0:\n",
    "        result.append(i)\n",
    "    \n",
    "print(result)"
   ]
  },
  {
   "cell_type": "code",
   "execution_count": null,
   "id": "ccd9633f",
   "metadata": {},
   "outputs": [],
   "source": [
    "result = [ i for i in range(10) if i%2 == 0 ]\n",
    "print(result)"
   ]
  },
  {
   "cell_type": "code",
   "execution_count": null,
   "id": "88dc41d6",
   "metadata": {},
   "outputs": [],
   "source": [
    "c1 = [\"A\", \"B\", \"C\"]\n",
    "c2 = [\"D\", \"E\", \"A\"]"
   ]
  },
  {
   "cell_type": "code",
   "execution_count": null,
   "id": "b0ab4fde",
   "metadata": {},
   "outputs": [],
   "source": [
    "# [\"AD\", \"AE\", \"AA\", \"BE\", \"BE\", \"BA\", \"CD\", \"CE\", \"CA\"]가 되도록 반복문을 작성해라."
   ]
  },
  {
   "cell_type": "code",
   "execution_count": null,
   "id": "8b996cf3",
   "metadata": {},
   "outputs": [],
   "source": [
    "c1 = [\"A\", \"B\", \"C\"]\n",
    "c2 = [\"D\", \"E\", \"A\"]\n",
    "\n",
    "result = []\n",
    "for row in c1:\n",
    "    for col in c2:\n",
    "       result.append(row + col) # row + col을 첫자리에 넣어준다!! 위의 append가 들어가있다고 생각한 자리의 i 자리에\n",
    "print(result)\n",
    "\n",
    "result = [row+col for row in c1 for col in c2]\n",
    "print(result)"
   ]
  },
  {
   "cell_type": "code",
   "execution_count": 27,
   "id": "80bbdd2d",
   "metadata": {},
   "outputs": [
    {
     "name": "stdout",
     "output_type": "stream",
     "text": [
      "['AD', 'AE', 'BD', 'BE', 'BA', 'CD', 'CE', 'CA']\n",
      "['AD', 'AE', 'BD', 'BE', 'BA', 'CD', 'CE', 'CA']\n",
      "['AD', 'AE', 'BD', 'BE', 'BA', 'CD', 'CE', 'CA']\n",
      "['AD', 'AE', 'BD', 'BE', 'BA', 'CD', 'CE', 'CA']\n",
      "-------------------------------------------------------------\n",
      "['AD', 'AE', 'BD', 'BE', 'BA', 'CD', 'CE', 'CA']\n"
     ]
    }
   ],
   "source": [
    "# [\"AD\", \"AE\", \"BE\", \"BE\", \"BA\", \"CD\", \"CE\", \"CA\"] : 중복제거\n",
    "\n",
    "c1 = [\"A\", \"B\", \"C\"]\n",
    "c2 = [\"D\", \"E\", \"A\"]\n",
    "\n",
    "result = []\n",
    "for row in c1:\n",
    "    for col in c2:\n",
    "        if row == col:\n",
    "            continue\n",
    "        if row != col:\n",
    "            result.append(row + col) \n",
    "   \n",
    "print(result)\n",
    "\n",
    "# [\"AD\", \"AE\", \"AA\", \"BD\", \"BE\", \"BA\", \"CD\", \"CE\", \"CA\"] : 중복문자 제거(AA)\n",
    "\n",
    "c1 = [\"A\", \"B\", \"C\"]\n",
    "c2 = [\"D\", \"E\", \"A\"]\n",
    "\n",
    "result = []\n",
    "\n",
    "for row in c1:\n",
    "    for col in c2:\n",
    "        result.append(row + col)\n",
    "        if \"AA\" in result:\n",
    "            result.remove(\"AA\")\n",
    "print(result)\n",
    "\n",
    "result = [row + col for row in c1 for col in c2 if \"AA\" not in row + col] \n",
    "print(result)\n",
    "\n",
    "# ['AD', 'AE', 'BD',...,'CE', 'CA'] : 중복문자제거(AA) #\n",
    "# 이중for문이용\n",
    "list_1 = []\n",
    "\n",
    "for i in c1:\n",
    "    for j in c2:\n",
    "        if i != j:\n",
    "            list_1.append(i+j)\n",
    "print(list_1)\n",
    "\n",
    "print(\"-------------------------------------------------------------\")\n",
    "# list comprehension 이용\n",
    "list_2 = [ i+j for i in c1 for j in c2 if i != j ]\n",
    "print(list_2)\n"
   ]
  },
  {
   "cell_type": "code",
   "execution_count": null,
   "id": "cc7c596a",
   "metadata": {},
   "outputs": [],
   "source": [
    "# [[\"AD\", \"AE\", \"AA\"], [\"BD\", \"BE\", \"BA\"], [\"CD\", \"CE\", \"CA\"]]로 묶어보시오"
   ]
  },
  {
   "cell_type": "code",
   "execution_count": 29,
   "id": "66fc9095",
   "metadata": {},
   "outputs": [
    {
     "name": "stdout",
     "output_type": "stream",
     "text": [
      "[['AD', 'AE', 'AA'], ['BD', 'BE', 'BA'], ['CD', 'CE', 'CA']]\n",
      "--------------------------------------------------\n",
      "[['AD', 'AE', 'AA'], ['BD', 'BE', 'BA'], ['CD', 'CE', 'CA']]\n",
      "-------------------------------------------------------------\n",
      "[['AD', 'AE', 'AA'], ['BD', 'BE', 'BA'], ['CD', 'CE', 'CA']]\n",
      "-------------------------------------------------------------\n",
      "[['AD', 'AE', 'AA'], ['BD', 'BE', 'BA'], ['CD', 'CE', 'CA']]\n"
     ]
    }
   ],
   "source": [
    "\n",
    "c1 = [\"A\", \"B\", \"C\"]\n",
    "c2 = [\"D\", \"E\", \"A\"]\n",
    "\n",
    "result_t = []\n",
    "result1 = []\n",
    "result2 = []\n",
    "result3 = []\n",
    "\n",
    "for row in c1:\n",
    "    for col in c2:\n",
    "        if \"A\" in row:\n",
    "            result1.append(row + col)\n",
    "        elif \"B\" in row:\n",
    "            result2.append(row + col)\n",
    "        else :\n",
    "            result3.append(row + col)\n",
    "    result_t = [result1, result2, result3]\n",
    "    \n",
    "print(result_t)\n",
    "\n",
    "\n",
    "\n",
    "print(\"--------------------------------------------------\")\n",
    "\n",
    "\n",
    "\n",
    "c1 = [\"A\", \"B\", \"C\"]\n",
    "c2 = [\"D\", \"E\", \"A\"]\n",
    "\n",
    "result1 = [row + col for row in c1 for col in c2 if \"A\" in row]\n",
    "result2 = [row + col for row in c1 for col in c2 if \"B\" in row]\n",
    "result3 = [row + col for row in c1 for col in c2 if \"C\" in row]\n",
    "\n",
    "result = [result1, result2, result3]\n",
    "\n",
    "print(result)\n",
    "\n",
    "print(\"-------------------------------------------------------------\")\n",
    "\n",
    "#  [ ['AD', 'AE', 'AA'], ['BD', 'BE', 'BA'], ['CD', 'CE', 'CA'] ] #\n",
    "# 이중for문이용\n",
    "c1 = ['A', 'B', 'C']\n",
    "c2 = ['D', 'E', 'A']\n",
    "\n",
    "lista = []\n",
    "\n",
    "for i in c1:\n",
    "    listb = []\n",
    "    for j in c2:\n",
    "        listb.append(i+j)\n",
    "    lista.append(listb)\n",
    "\n",
    "print(lista)\n",
    "\n",
    "print(\"-------------------------------------------------------------\")\n",
    "# list comprehension 이용\n",
    "listc = [ [ j+i for i in c2 ] for j in c1 ]  # 중첩 list comprehension\n",
    "\n",
    "print(listc)\n",
    "\n"
   ]
  },
  {
   "cell_type": "code",
   "execution_count": 31,
   "id": "1389e44d",
   "metadata": {},
   "outputs": [
    {
     "data": {
      "text/plain": [
       "'\\n[\"Some\", \"some\", 4]\\n[\"Wheere\", \"where\", 5]\\n[\"Over\", \"over\", 4]\\n[\"the\",  \"the\", 3]\\n[\"Rainbow\", \"rainbow\", 7]\\n...\\n\\n\\n'"
      ]
     },
     "execution_count": 31,
     "metadata": {},
     "output_type": "execute_result"
    }
   ],
   "source": [
    "# 문자열 함수에서 split\n",
    "words = \"Some Where Over the Rainbow Way Up high\"\n",
    "\n",
    "\"\"\"\n",
    "[\"Some\", \"some\", 4]\n",
    "[\"Wheere\", \"where\", 5]\n",
    "[\"Over\", \"over\", 4]\n",
    "[\"the\",  \"the\", 3]\n",
    "[\"Rainbow\", \"rainbow\", 7]\n",
    "...\n",
    "\n",
    "\n",
    "\"\"\""
   ]
  },
  {
   "cell_type": "code",
   "execution_count": 1,
   "id": "fe14e7bf",
   "metadata": {},
   "outputs": [
    {
     "name": "stdout",
     "output_type": "stream",
     "text": [
      "Some Where Over the Rainbow Way Up high\n",
      "['Some', 'Where', 'Over', 'the', 'Rainbow', 'Way', 'Up', 'high']\n",
      "Some\n",
      "some\n",
      "4\n",
      "Some some 4\n",
      "Where where 5\n",
      "Over over 4\n",
      "the the 3\n",
      "Rainbow rainbow 7\n",
      "Way way 3\n",
      "Up up 2\n",
      "high high 4\n"
     ]
    }
   ],
   "source": [
    "words = \"Some Where Over the Rainbow Way Up high\"\n",
    "\n",
    "result = []\n",
    "print(words)\n",
    "swo = words.split(' ')\n",
    "list_swo = list(swo)\n",
    "print(list_swo)\n",
    "print(swo[0])\n",
    "print(swo[0].lower())\n",
    "print(len(swo[0]))\n",
    "\n",
    "\n",
    "a = 0\n",
    "while a < len(list_swo):\n",
    "    print(list_swo[a], list_swo[a].lower(), len(list_swo[a]))\n",
    "    a = a + 1\n"
   ]
  },
  {
   "cell_type": "code",
   "execution_count": 4,
   "id": "06e48cf4",
   "metadata": {},
   "outputs": [
    {
     "name": "stdout",
     "output_type": "stream",
     "text": [
      "['SOME', 'some', 4]\n",
      "['WHERE', 'where', 5]\n",
      "['OVER', 'over', 4]\n",
      "['THE', 'the', 3]\n",
      "['RAINBOW', 'rainbow', 7]\n",
      "['WAY', 'way', 3]\n",
      "['UP', 'up', 2]\n",
      "['HIGH', 'high', 4]\n"
     ]
    }
   ],
   "source": [
    "\n",
    "# 문제3. 문자열 함수에서 split(), upper(), lower(), len() 사용] #\n",
    "# '''\n",
    "# [\"SOME\", \"some\", 4]\n",
    "# [\"WHERE\", \"where\", 5]\n",
    "# ...\n",
    "# [\"HIGH\", \"high\", 4]'''\n",
    "words = \"Some Where Over the Rainbow Way Up high\"\n",
    "\n",
    "list = words.split(' ')\n",
    "\n",
    "listch = []\n",
    "\n",
    "for i in list:\n",
    "    list_ex = []\n",
    "    list_ex = [i.upper(), i.lower(), len(i)]\n",
    "    listch.append(list_ex)\n",
    "    \n",
    "for i in listch:\n",
    "    print(i)"
   ]
  }
 ],
 "metadata": {
  "kernelspec": {
   "display_name": "Python 3 (ipykernel)",
   "language": "python",
   "name": "python3"
  },
  "language_info": {
   "codemirror_mode": {
    "name": "ipython",
    "version": 3
   },
   "file_extension": ".py",
   "mimetype": "text/x-python",
   "name": "python",
   "nbconvert_exporter": "python",
   "pygments_lexer": "ipython3",
   "version": "3.9.13"
  }
 },
 "nbformat": 4,
 "nbformat_minor": 5
}
