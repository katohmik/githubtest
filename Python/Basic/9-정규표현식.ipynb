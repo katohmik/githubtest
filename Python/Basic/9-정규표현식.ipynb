{
 "cells": [
  {
   "cell_type": "markdown",
   "id": "fe0db933",
   "metadata": {},
   "source": [
    "- Regular Expression #문자열에서 무언가를 찾고자 했을 때 검색하는 끝판왕\n",
    "- 특정한 패턴과 일치하는 문자열을 \"검색\", \"치환\", \"제거\"하는 기능을 지원\n",
    "- https://docs.python.org/3/library/re.html\n",
    "- https://regexr.com : 정규표현식 테스트 사이트"
   ]
  },
  {
   "cell_type": "markdown",
   "id": "0704e5d1",
   "metadata": {},
   "source": [
    "## 1. 특수문자들"
   ]
  },
  {
   "cell_type": "markdown",
   "id": "980c93e6",
   "metadata": {},
   "source": [
    "### (1) 반복\n",
    "\n",
    "\n",
    "    * : 0회 이상 반복\n",
    "        ab* : a, ab, abb, abbb, ...\n",
    "        lo*l : ll, lol. lool. loool, ...\n",
    "    \n",
    "    + : 1번 이상 반복\n",
    "        ab+ : ab, abb, abbb, abbb, ...\n",
    "        \n",
    "    ? : 0번 또는 1번\n",
    "        ab? : a, ab\n",
    "        \n",
    "    {m} : m회 반복\n",
    "        a[3]bc : aaabc\n",
    "        \n",
    "    {m,n} : m회부터 n회까지 반복 #공백이 있으면 안된다고함\n",
    "        a{2,4}bc : aabc, aaabc, aaaabc\n",
    "       "
   ]
  },
  {
   "cell_type": "markdown",
   "id": "e35649ca",
   "metadata": {},
   "source": [
    "### (2) 매칭\n",
    "\n",
    "        . : 줄바꿈 문자를 제외한 모든 문자와 매치\n",
    "            a.b : ab, aab, abb, adb, a!b, a@b, ...\n",
    "            \n",
    "        ^ : 문자열의 시작과 매치\n",
    "            ^abc\n",
    "            ^(abc)\n",
    "        \n",
    "        $ : 문자열의 마지막과 매치\n",
    "            ...a$\n",
    "        \n",
    "        [] : 문자집합 중 한 문자와 매치\n",
    "            [abc]xyz : axyz, bxyz, cxyz\n",
    "            [a-z]bc : abc, bbc, cbc, dbc, ..., zbc\n",
    "            a[.]b : a.b  #대괄호안에 .이 오게되면 모든 문자와 매치되는 .이 아니라 일반 .이다.\n",
    "            [abc.^]z : az, bz, cz, .z, ^z #대괄호안에 매칭기호가 들어오면 일반기호로 간주\n",
    "            [^abc]z :  dz, ez, fz, ... \n",
    "            대괄호 안에서의 ^가 맨앞에 위치할 경우 not을 의미한다. 즉, abc가 아닌 모든문자가 들어갈 수 있다."
   ]
  },
  {
   "cell_type": "markdown",
   "id": "9249965a",
   "metadata": {},
   "source": [
    "### (3) 특수문자(\\문자)\n",
    "\n",
    "\n",
    "\n",
    "    \\d : 모든 숫자와 매치\n",
    "    ab\\d\\dc : ab00c, ab01c, ab02c, ...\n",
    "    \n",
    "    \\D : 숫자가 아닌 모든 문자와 매치\n",
    "    \n",
    "    \\s : 공백문자와 매치\n",
    "    \\S : 공백문자를 제외한 모든 문자\n",
    "    \n",
    "    \\w : 특수문자를 제외한 모든 숫자와 문자\n",
    "    \\W : 숫자 또는 문자가 아닌 모든 문자와 매치"
   ]
  },
  {
   "cell_type": "markdown",
   "id": "46e332ee",
   "metadata": {},
   "source": [
    "### (4) 파이썬에서 제공하는 정규표현식 API\n",
    "\n",
    "- compile()\n",
    "- match()\n",
    "- search()\n",
    "- findall()\n",
    "- finditer()\n",
    "- split()\n",
    "- sub()\n",
    "- ...\n"
   ]
  },
  {
   "cell_type": "markdown",
   "id": "f681dc09",
   "metadata": {},
   "source": [
    "### (5) 맛보기실습"
   ]
  },
  {
   "cell_type": "code",
   "execution_count": 1,
   "id": "bf0fb31b",
   "metadata": {},
   "outputs": [
    {
     "name": "stdout",
     "output_type": "stream",
     "text": [
      "1,2,3,4,5\n"
     ]
    }
   ],
   "source": [
    "a = \"1,2,3,4,5\"\n",
    "print(a)"
   ]
  },
  {
   "cell_type": "code",
   "execution_count": 5,
   "id": "1de725ab",
   "metadata": {},
   "outputs": [
    {
     "name": "stdout",
     "output_type": "stream",
     "text": [
      "12345\n",
      "12345\n",
      "12345"
     ]
    }
   ],
   "source": [
    "##### 12345추출\n",
    "\n",
    "print(a.replace(\",\", \"\")) #콤마를 공백으로\n",
    "print(a[::2])\n",
    "\n",
    "for i in a:\n",
    "    if i != \",\":\n",
    "        print(i, end='')"
   ]
  },
  {
   "cell_type": "code",
   "execution_count": 2,
   "id": "866c2d77",
   "metadata": {},
   "outputs": [
    {
     "name": "stdout",
     "output_type": "stream",
     "text": [
      "12345\n"
     ]
    }
   ],
   "source": [
    "import re\n",
    "\n",
    "\n",
    "\n",
    "a = \"1,2,3,4,5\"\n",
    "#pattern = re.compile(\"\\D\")\n",
    "pattern = re.compile(\"[^0-9]\")\n",
    "result = re.sub(pattern, '',a)\n",
    "print(result)"
   ]
  },
  {
   "cell_type": "markdown",
   "id": "e1db5426",
   "metadata": {},
   "source": [
    "---"
   ]
  },
  {
   "cell_type": "code",
   "execution_count": 30,
   "id": "97bdf713",
   "metadata": {},
   "outputs": [],
   "source": [
    "b = \"\"\"\n",
    "    홍길동 : 1234, Gil-Dong Hong,\n",
    "    이길동 : 3915, Gil-Dong Lee,\n",
    "    박길동 : 0000, Gil-Dong Park\n",
    "\"\"\""
   ]
  },
  {
   "cell_type": "code",
   "execution_count": 24,
   "id": "08e26ba6",
   "metadata": {},
   "outputs": [
    {
     "name": "stdout",
     "output_type": "stream",
     "text": [
      "홍길동 : 1234, Gil-Dong Hong,\n",
      "    이길동 : 3915, Gil-Dong Lee,\n",
      "    박길동 : 0000, Gil-Dong Park\n"
     ]
    }
   ],
   "source": [
    "### 홍길동 이길동 박길동\n",
    "\n",
    "b = b.strip()\n",
    "print(b)"
   ]
  },
  {
   "cell_type": "code",
   "execution_count": 26,
   "id": "33fb1f0b",
   "metadata": {},
   "outputs": [
    {
     "name": "stdout",
     "output_type": "stream",
     "text": [
      "['홍길동 : 1234, Gil-Dong Hong,', '    이길동 : 3915, Gil-Dong Lee,', '    박길동 : 0000, Gil-Dong Park']\n"
     ]
    }
   ],
   "source": [
    "b = b.split(\"\\n\")\n",
    "print(b)"
   ]
  },
  {
   "cell_type": "code",
   "execution_count": 29,
   "id": "592f9b9e",
   "metadata": {},
   "outputs": [
    {
     "name": "stdout",
     "output_type": "stream",
     "text": [
      "홍길동\n",
      "이길동\n",
      "박길동\n"
     ]
    }
   ],
   "source": [
    "for i in b:\n",
    "    i = i.split(\":\")\n",
    "    print(i[0].strip())"
   ]
  },
  {
   "cell_type": "code",
   "execution_count": 33,
   "id": "4fec00cf",
   "metadata": {},
   "outputs": [
    {
     "name": "stdout",
     "output_type": "stream",
     "text": [
      "홍길동이길동박길동\n"
     ]
    }
   ],
   "source": [
    "b = \"\"\"\n",
    "    홍길동 : 1234, Gil-Dong Hong,\n",
    "    이길동 : 3915, Gil-Dong Lee,\n",
    "    박길동 : 0000, Gil-Dong Park\n",
    "\"\"\"\n",
    "\n",
    "##### 정규 표현식\n",
    "\n",
    "pattern = re.compile(\"[^가-힣]\")  #한글의 시작과 끝은 가-힣\n",
    "result = re.sub(pattern, '', b)\n",
    "print(result)"
   ]
  },
  {
   "cell_type": "markdown",
   "id": "b2cd2d75",
   "metadata": {},
   "source": [
    "### (6) API 사용법"
   ]
  },
  {
   "cell_type": "markdown",
   "id": "185e1cdf",
   "metadata": {},
   "source": [
    "#### 1) match(), search()\n",
    "\n",
    "- 객체를 생성해서 사용\n",
    "- 함수를 직접 호출"
   ]
  },
  {
   "cell_type": "code",
   "execution_count": 47,
   "id": "f5a67e03",
   "metadata": {},
   "outputs": [
    {
     "name": "stdout",
     "output_type": "stream",
     "text": [
      "True\n",
      "False\n",
      "False\n",
      "True\n"
     ]
    }
   ],
   "source": [
    "### 객체를 생성하여 사용\n",
    "\n",
    "p = re.compile(\"[0-9] [a-z]+ .+\") #여러번 사용할 경우 이렇게 ... = ....compile()로 객체를 생성해주면 편하다\n",
    "sample = \"3 djawlstjd qnfjqek dsjiaesfij xwpaefi asdfs whssk qnfjqek ah sksms djswp wlqdp rksk\"\n",
    "\n",
    "print(bool(p.match(sample)))                 #bool 함수를 쓰면 아주 간단하게 있는지 없는지 확인가능\n",
    "print(bool(p.match(\"dlrudsla dPQmek dlswjdgka\")))\n",
    "print(bool(p.match(\"rladlrud 3 dhkswjs dPQmek\")))\n",
    "print(bool(p.search(\"rladlrud 3 dhkswjs dPQmek\")))"
   ]
  },
  {
   "cell_type": "code",
   "execution_count": 9,
   "id": "6657d373",
   "metadata": {},
   "outputs": [
    {
     "name": "stdout",
     "output_type": "stream",
     "text": [
      "<re.Match object; span=(0, 84), match='3 djawlstjd qnfjqek dsjiaesfij xwpaefi asdfs whss>\n",
      "<re.Match object; span=(0, 84), match='3 djawlstjd qnfjqek dsjiaesfij xwpaefi asdfs whss>\n",
      "<re.Match object; span=(0, 5), match='3 z z'>\n",
      "None\n",
      "True\n",
      "True\n",
      "True\n",
      "False\n"
     ]
    }
   ],
   "source": [
    "### 함수를 사용하는 방법\n",
    "\n",
    "sample = \"3 djawlstjd qnfjqek dsjiaesfij xwpaefi asdfs whssk qnfjqek ah sksms djswp wlqdp rksk\"\n",
    "\n",
    "print(re.match(\"[0-9] [a-z]+ .+\", sample)) #해당값이 존재한다\n",
    "print(re.search(\"[0-9] [a-z]+ .+\", sample)) # span=(0, 84)는 일치하는 값의 위치를 알려줌\n",
    "print(re.search(\"[0-9] [a-z]+ .+\", \"3 z z\"))\n",
    "print(re.search(\"[0-9] [a-z]+ .+\", \"ejifsjdsf\")) # 결과창의 None 은 일치하는 것이 없다는 것\n",
    "\n",
    "print(bool(re.match(\"[0-9] [a-z]+ .+\", sample)))\n",
    "print(bool(re.search(\"[0-9] [a-z]+ .+\", sample)))\n",
    "print(bool(re.search(\"[0-9] [a-z]+ .+\", \"3 z z\"))) #객체를 만들지 않고 직접 입력 해서 테스트\n",
    "print(bool(re.search(\"[0-9] [a-z]+ .+\", \"ejifsjdsf\"))) ##객체를 만들지 않고 직접 입력 해서 테스트"
   ]
  },
  {
   "cell_type": "code",
   "execution_count": 28,
   "id": "174f45c9",
   "metadata": {},
   "outputs": [
    {
     "name": "stdout",
     "output_type": "stream",
     "text": [
      "True\n",
      "True\n",
      "True\n",
      "True\n",
      "<re.Match object; span=(25, 37), match='010-111-1111'>\n",
      "--------------\n",
      "010-111-1111\n",
      "25\n",
      "37\n",
      "(25, 37)\n"
     ]
    }
   ],
   "source": [
    "sample = \"안녕하세요. 내 나이는 30살이고 전화번호는 010-111-1111입니다. 어쩌구 저쩌구\"\n",
    "\n",
    "print(bool(re.search(\"...-...-....\", sample)))         #전화번호가 있는지 찾아보자!\n",
    "print(bool(re.search(\"\\d\\d\\d-\\d\\d\\d-\\d\\d\\d\\d\", sample)))    #방법은 여러가지!\n",
    "print(bool(re.search(\"\\d+-\\d+-\\d+\", sample)))          #방법은 여러가지!\n",
    "print(bool(re.search(\"[0-9]{3}-\\d{3,4}-\\d{4}\", sample))) #방법은 여러가지! \\d{3,4} = \\d가 3개거나 4개거나!\n",
    "\n",
    "result = re.search(\"[0-9]{3}-\\d{3,4}-\\d{4}\", sample)\n",
    "print(result)\n",
    "print(\"--------------\")\n",
    "print(result.group()) # spqn = (25, 37)을 통해 위치를 알 수 있다. match= 를 통해 매칭된 값도 볼 수 있다.\n",
    "print(result.start()) # 시작위치인 25가 튀어나온다(spqn = (25, 37))\n",
    "print(result.end()) # 끝 위치가 나온다\n",
    "print(result.span()) # 시작위치와 끝위치가 나온다."
   ]
  },
  {
   "cell_type": "markdown",
   "id": "03c52c24",
   "metadata": {},
   "source": [
    "### 2) findall(), finditer()"
   ]
  },
  {
   "cell_type": "code",
   "execution_count": 39,
   "id": "d7b6ac50",
   "metadata": {},
   "outputs": [
    {
     "name": "stdout",
     "output_type": "stream",
     "text": [
      "<re.Match object; span=(0, 4), match='life'>\n",
      "True\n",
      "['life', 'is', 'too', 'short']\n",
      "['l', 'i', 'f', 'e', ' ', ' ', 'i', 's', ' ', ' ', ' ', 't', 'o', 'o', ' ', ' ', 's', 'h', 'o', 'r', 't']\n",
      "['life ', ' is ', ' ', ' too ', ' short']\n",
      "<callable_iterator object at 0x000002EE19CF1EE0>\n"
     ]
    }
   ],
   "source": [
    "sample = \"life 3333 is 222 333 too 10 short\"\n",
    "\n",
    "p = re.compile(\"[a-z]+\")\n",
    "d = re.compile(\"\\D\")\n",
    "g = re.compile(\"\\D+\")\n",
    "\n",
    "print(p.match(sample))\n",
    "print(bool(p.match(sample))) #match를 통해 자기가 작성한 pattern이 정상적인지 확인이 가능하다.\n",
    "\n",
    "p1 = p.findall(sample) # 설정한 패턴으로 리스트로 묶어서 포장해줌\n",
    "print(m)           #['life', 'is', 'too', 'short']처럼 단어별로 묶어서 나왔다.\n",
    "d1 = d.findall(sample) # 글자 1개당 ''로 묶였다. # 심지어 공백까지 묶였다.\n",
    "print(d1)\n",
    "g1 = g.findall(sample) #공백을 포함한 단어별로 묶였다.\n",
    "print(g1)\n",
    "\n",
    "p2 = p.finditer(sample) #위치가 나옴\n",
    "print(p2) # print해도 원위치가 나옴"
   ]
  },
  {
   "cell_type": "code",
   "execution_count": 52,
   "id": "dea3725b",
   "metadata": {},
   "outputs": [
    {
     "name": "stdout",
     "output_type": "stream",
     "text": [
      "False\n",
      "['abc', 'mbc']\n",
      "False\n",
      "['abc', 'air', 'air']\n",
      "False\n",
      "['air', 'air']\n",
      "True\n",
      "['1234']\n",
      "False\n",
      "['234 abc가나다ABC_555_6 mbc air air']\n"
     ]
    }
   ],
   "source": [
    "## 직접 풀어본 문제\n",
    "\n",
    "sample = \"1234 abc가나다ABC_555_6 mbc air air\"\n",
    "\n",
    "# bc로 끝나는 3글자 : abc, mbc\n",
    "endbc = re.compile(\"\\Sbc\")\n",
    "print(bool(endbc.match(sample)))\n",
    "endbc1 = endbc.findall(sample)\n",
    "print(endbc1)\n",
    "\n",
    "# a로 시작하는 3글자 : abc, air, air\n",
    "\n",
    "starta = re.compile(\"a\\S\\S\")\n",
    "print(bool(starta.match(sample)))\n",
    "starta1 = starta.findall(sample)\n",
    "print(starta1)\n",
    "\n",
    "\n",
    "# 가장 마지막에 air로 끝나는 문자 : air\n",
    "\n",
    "lastair = re.compile(\"\\S*air\")\n",
    "print(bool(lastair.match(sample)))\n",
    "lastair1 = lastair.findall(sample)\n",
    "print(lastair1)\n",
    "\n",
    "\n",
    "# 가장 처음에 1로 시작하는 숫자들 : 1234\n",
    "\n",
    "start1 = re.compile(\"1\\d+\")\n",
    "print(bool(start1.match(sample)))\n",
    "start11 = start1.findall(sample)\n",
    "print(start11)\n",
    "\n",
    "# 1을 제외한 모든 데이터 : 234 abc가나다ABC_555_6 mbc air air\n",
    "\n",
    "except1 = re.compile(\"[^1]+\")\n",
    "print(bool(except1.match(sample)))\n",
    "except11 = except1.findall(sample)\n",
    "print(except11)"
   ]
  },
  {
   "cell_type": "code",
   "execution_count": 58,
   "id": "aa549650",
   "metadata": {},
   "outputs": [
    {
     "name": "stdout",
     "output_type": "stream",
     "text": [
      "['abc', 'mbc']\n",
      "['abc', 'mbc']\n",
      "['abc', 'mbc']\n",
      "['abc', 'air', 'air']\n",
      "['abc', 'air', 'air']\n",
      "['abc', 'air', 'air']\n",
      "['air']\n",
      "['air', 'air']\n",
      "['1234']\n",
      "['1234']\n",
      "['234 abc가나다ABC_555_6 mbc air air']\n",
      "['', '234 abc가나다ABC_555_6 mbc air air', '']\n"
     ]
    }
   ],
   "source": [
    "###강사님 해설을 곁들인\n",
    "### 의도에 따라 여러가지 방법으로 가능함\n",
    "## 하지만 조금 더 범위를 좁게 해줘야 수행능력이 좋아짐(속도가)\n",
    "\n",
    "sample = \"1234 abc가나다ABC_555_6 mbc air air\"\n",
    "\n",
    "# bc로 끝나는 3글자 : abc, mbc\n",
    "print(re.findall(\"[a-z]bc\", sample)) #나는 소문자만 찾을거야\n",
    "print(re.findall(\"\\Dbc\", sample)) # 특수문자와 대문자도 다 찾을거야\n",
    "print(re.findall(\".bc\", sample)) # 줄바꿈을 제외한 모든 것이라도 찾을거야\n",
    "\n",
    "# a로 시작하는 3글자 : abc, air, air\n",
    "\n",
    "print(re.findall(\"a..\", sample)) # 줄바꿈 제외하고 다 a로 시작하는 3글자를 찾을거야\n",
    "print(re.findall(\"a[a-z]{2}\", sample)) # 정확히 소문자만 찾을거야\n",
    "print(re.findall(\"a[a-z][a-z]\", sample)) # 위에거랑 같은거야\n",
    "\n",
    "# 가장 마지막에 air로 끝나는 문자 : air\n",
    "print(re.findall(\"air$\", sample)) # $를 air뒤에 써줘서 air가 마지막에 매핑되서 찾음.\n",
    "print(re.findall(\"\\S*air\", sample))\n",
    "\n",
    "\n",
    "# 가장 처음에 1로 시작하는 숫자들 : 1234\n",
    "\n",
    "print(re.findall(\"^1[0-9]*\", sample))\n",
    "print(re.findall(\"1\\d*\", sample))\n",
    "\n",
    "# 1을 제외한 모든 데이터 : 234 abc가나다ABC_555_6 mbc air air\n",
    "\n",
    "print(re.findall(\"[^1]+\", sample))\n",
    "print(re.findall(\"[^1]*\", sample)) ### 이렇게 하면 공백도 잡아버린다\n"
   ]
  },
  {
   "cell_type": "markdown",
   "id": "f0abbe15",
   "metadata": {},
   "source": [
    "#### 3) split()"
   ]
  },
  {
   "cell_type": "code",
   "execution_count": 78,
   "id": "97b37475",
   "metadata": {},
   "outputs": [
    {
     "name": "stdout",
     "output_type": "stream",
     "text": [
      "['mbc', 'kbs sbs:ytn']\n",
      "['mbc,kbs', 'sbs:ytn']\n",
      "['mbc,kbs sbs', 'ytn']\n",
      "--------------------------------------\n",
      "['mbc', 'kbs', 'sbs', 'ytn']\n",
      "['mbc', 'kbs', 'sbs', 'ytn']\n"
     ]
    }
   ],
   "source": [
    "sample = \"mbc,kbs sbs:ytn\" # 콤마와 공백 그리고 :로 이상하게 나누어져 있음\n",
    "\n",
    "print(sample.split(\",\")) # 뭐를 써서 스플릿하더라도 깔끔하게 안나옴\n",
    "print(sample.split(\" \"))\n",
    "print(sample.split(\":\"))\n",
    "\n",
    "print(\"--------------------------------------\")\n",
    "\n",
    "print(re.split(\",| |:\", sample)) # 콤마 or 공백 or : 3가지 모두로 스플릿한다 #결과창 깔끔\n",
    "print(re.split(\"\\W\", sample)) # 숫자 or 문자가 아닌 것과 매칭한다"
   ]
  },
  {
   "cell_type": "markdown",
   "id": "ad119dc2",
   "metadata": {},
   "source": [
    "#### 4) sub : 교체, 변경"
   ]
  },
  {
   "cell_type": "code",
   "execution_count": 81,
   "id": "aadd40af",
   "metadata": {},
   "outputs": [
    {
     "name": "stdout",
     "output_type": "stream",
     "text": [
      "888 abc가나다ABC_888_888\n",
      "8888 abc가나다ABC_888_8\n",
      "-----------------------------------------\n",
      "mbc,kbs,sbs,ytn\n"
     ]
    }
   ],
   "source": [
    "sample = \"1234 abc가나다ABC_555_6\"\n",
    "\n",
    "## 888 abc가나다ABC_888_888\n",
    "print(re.sub(\"[0-9]+\",\"888\",sample)) #숫자를 모두 888로 바꾸겠다.\n",
    "\n",
    "## 8888 abc가나다ABC_888_8\n",
    "print(re.sub(\"[0-9]\",\"8\",sample)) #입력된 숫자 1개당 모두 8로 바꿔주겠다.\n",
    "\n",
    "print(\"-----------------------------------------\")\n",
    "\n",
    "sample = \"mbc, kbs        sbs:ytn\"\n",
    "\n",
    "# mbc, kbs, sbs, ytn\n",
    "print(re.sub(\"\\W+\",\",\", sample))  # \\W에 +(1회이상반복)을 붙여줘서 숫자 or 문자가 아닌 것들(복수)과 매칭한다"
   ]
  },
  {
   "cell_type": "markdown",
   "id": "6f9d4563",
   "metadata": {},
   "source": [
    "### (7) Flags(컴파일 옵션)\n",
    "\n",
    "- S(DOTALL)\n",
    "- I(IGNORECASE)\n",
    "- M(MULTILINE)"
   ]
  },
  {
   "cell_type": "code",
   "execution_count": 89,
   "id": "b938236f",
   "metadata": {},
   "outputs": [
    {
     "name": "stdout",
     "output_type": "stream",
     "text": [
      "<re.Match object; span=(0, 3), match='axb'>\n",
      "<re.Match object; span=(0, 3), match='a+b'>\n",
      "None\n",
      "------------------------------------------------------------\n",
      "<re.Match object; span=(0, 3), match='axb'>\n",
      "<re.Match object; span=(0, 3), match='a+b'>\n",
      "<re.Match object; span=(0, 3), match='a\\nb'>\n"
     ]
    }
   ],
   "source": [
    "p = re.compile(\"a.b\") # .은 줄바꿈을 제외한 모든 문자\n",
    "print(p.match(\"axb is bla bla ~~\"))\n",
    "print(p.match(\"a+b is bla bla ~~\"))\n",
    "print(p.match(\"a\\nb is bla bla ~~\")) #줄바꿈이라서 역시 안된다\n",
    "\n",
    "print(\"------------------------------------------------------------\")\n",
    "\n",
    "p = re.compile(\"a.b\", re.S) # DOTALL(약어 S)의 설정방법\n",
    "print(p.match(\"axb is bla bla ~~\"))\n",
    "print(p.match(\"a+b is bla bla ~~\"))\n",
    "print(p.match(\"a\\nb is bla bla ~~\")) #위에선 안되던 것이 DOTALL을 등록하니까 되었다.\n"
   ]
  },
  {
   "cell_type": "code",
   "execution_count": 91,
   "id": "8c23427b",
   "metadata": {},
   "outputs": [
    {
     "name": "stdout",
     "output_type": "stream",
     "text": [
      "<re.Match object; span=(0, 1), match='p'>\n",
      "None\n",
      "------------------------------------------------------------\n",
      "<re.Match object; span=(0, 1), match='p'>\n",
      "<re.Match object; span=(0, 1), match='P'>\n",
      "------------------------------------------------------------\n",
      "<re.Match object; span=(0, 1), match='p'>\n",
      "<re.Match object; span=(0, 1), match='P'>\n"
     ]
    }
   ],
   "source": [
    "p = re.compile(\"[a-z]\") \n",
    "\n",
    "print(p.match(\"python\"))\n",
    "print(p.match(\"Python\")) # 소문자만을 범위로 설정했더니 None 발생\n",
    "\n",
    "print(\"------------------------------------------------------------\")\n",
    "\n",
    "p = re.compile(\"[a-zA-Z]\") # 대문자 소문자를 모두 찾기 위해 [a-zA-Z]를 사용했다.\n",
    "\n",
    "print(p.match(\"python\"))\n",
    "print(p.match(\"Python\"))\n",
    "\n",
    "print(\"------------------------------------------------------------\")\n",
    "\n",
    "p = re.compile(\"[a-z]\", re.I) #IGNORECASE(약칭 I)의 설정방법 # 대소문자 구별없이 찾겠다!\n",
    "\n",
    "print(p.match(\"python\"))\n",
    "print(p.match(\"Python\"))"
   ]
  },
  {
   "cell_type": "code",
   "execution_count": 100,
   "id": "c9c38959",
   "metadata": {},
   "outputs": [
    {
     "name": "stdout",
     "output_type": "stream",
     "text": [
      "['python one', 'python two', 'Python three', 'python four']\n",
      "['python one', 'python two', 'Python three', 'python four']\n",
      "['python one']\n",
      "['python one', 'python two', 'Python three']\n"
     ]
    }
   ],
   "source": [
    "sample = \"\"\"python one\n",
    "life is too short\n",
    "python two\n",
    "you need python\n",
    "Python three\n",
    "other python four\n",
    "\"\"\"\n",
    "\n",
    "\n",
    "p = re.compile(\"[pP]ython [a-z]+\")\n",
    "print(p.findall(sample))\n",
    "\n",
    "\n",
    "p = re.compile(\"[pP]ython [a-z]+\", re.M)\n",
    "print(p.findall(sample))\n",
    "\n",
    "\n",
    "p = re.compile(\"^[pP]ython [a-z]+\") # python xxx로 시작되는 각 줄의 파이썬만 찾아보자!\n",
    "print(p.findall(sample))            # 시작에 매칭하는 ^를 사용\n",
    "                                    # 그런데 한개만 나와버림\n",
    "\n",
    "\n",
    "p = re.compile(\"^[pP]ython [a-z]+\", re.M) # 이럴 때 MULTILINE을 사용하면 모두 찾아준다.\n",
    "print(p.findall(sample))\n"
   ]
  },
  {
   "cell_type": "code",
   "execution_count": null,
   "id": "756bec8e",
   "metadata": {},
   "outputs": [],
   "source": [
    "# 한글문자 전체 : [가-힣]\n",
    "# 한글 전체 : [ㄱ-ㅎ|ㅏ-ㅣ|가-힣]"
   ]
  }
 ],
 "metadata": {
  "kernelspec": {
   "display_name": "Python 3 (ipykernel)",
   "language": "python",
   "name": "python3"
  },
  "language_info": {
   "codemirror_mode": {
    "name": "ipython",
    "version": 3
   },
   "file_extension": ".py",
   "mimetype": "text/x-python",
   "name": "python",
   "nbconvert_exporter": "python",
   "pygments_lexer": "ipython3",
   "version": "3.9.13"
  }
 },
 "nbformat": 4,
 "nbformat_minor": 5
}
