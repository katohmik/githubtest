{
 "cells": [
  {
   "cell_type": "markdown",
   "id": "ac03debc",
   "metadata": {},
   "source": [
    "## 1. 함수의 정의\n",
    "\n",
    "- 일정한 작업을 수행하는 코드 블럭\n",
    "- 다른 프로그램들은 {}를 통해 함수를 분리(코드블럭)\n",
    "- 파이썬은 :을 통해 묶음\n",
    "- 함수형 언어라고 불릴 정도로 함수기능 및 지원이 막강함.\n",
    "\n",
    "## 2. 함수의 장점\n",
    "\n",
    "- 반복적인 코드를 없애주어 전체 코드의 길이를 짧게 만들어준다.\n",
    "- 코드를 재사용\n",
    "- 프로그램의 유지 보수를 쉽게 만들어준다.\n",
    "\n",
    "## 3. 함수의 구현\n",
    "\n",
    "    def 함수명:\n",
    "        코드\n",
    "        ...\n",
    "\n",
    "## 4. 함수의 호출방식\n",
    "\n",
    "- 인자(인수)가 없는 방식 ex) 아래 쉘의 line\n",
    "- 인자가 있는 방식 ex) 아래 쉘의 mine, jine\n",
    "- 반환형이 있는 방식\n",
    "- return의 2가지 기능\n",
    "    - 값을 반환 : 1개만 반환\n",
    "    - 함수의 강제 종료(함수를 중간에 끝내고 싶을 때(원위치로 돌아가고 싶을 때))\n",
    "    \n",
    "## 5. 함수 설계\n",
    " - 단일 기능\n",
    " - 재 사용성"
   ]
  },
  {
   "cell_type": "code",
   "execution_count": 1,
   "id": "ba91ab6d",
   "metadata": {},
   "outputs": [],
   "source": [
    "#기본 개념 : 어디서나 사용할 수 있는 함수\n",
    "#확장 개념 : 파이썬에서만 사용가능한 함수\n",
    "#1줄씩 실행하던 중 함수를 부르는 것 = 호출, 그리고 돌아오는 것까지의 행위를 call or 인터럽트라고 부름."
   ]
  },
  {
   "cell_type": "code",
   "execution_count": 28,
   "id": "74ba7fc4",
   "metadata": {},
   "outputs": [],
   "source": [
    "def line():\n",
    "    for i in range(40):\n",
    "        print(\"*\", end=\"\")\n",
    "    print()\n",
    "    # 한번 실행해서 적용시켜줘야함, 수정 후에도 실행해줘야함\n",
    "    # 다른 파일에 따로 함수끼리 만들어서 모아두는 것이 편리함\n",
    "    \n",
    "def mine(cnt):\n",
    "    for i in range(cnt): #변수 자리에 인자값이 들어옴\n",
    "        print(\"*\", end=\"\")\n",
    "    print()\n",
    "\n",
    "def jine(cnt, style):   # 변수 자리에 값을 2개를 쥐어줌 # style의 위치에 들어오는 값을 매개변수라고 부름. 실인자가 들어오는 자리.\n",
    "    for i in range(cnt):  # 매개변수 = parameter\n",
    "        print(style, end=\"\") # 변수 자리의 위치와 값이 일정해야함. 틀리면 에러 or 오작동\n",
    "    print()"
   ]
  },
  {
   "cell_type": "code",
   "execution_count": 29,
   "id": "73b466f5",
   "metadata": {},
   "outputs": [
    {
     "name": "stdout",
     "output_type": "stream",
     "text": [
      "****************************************\n",
      "**********************************\n",
      "****************************************\n",
      "        고객관리 프로그램         \n",
      "**********************************\n",
      "1. 리스트 출력\n",
      "2. 고객 추가\n",
      "3. 종료\n",
      "**********************************\n",
      "****************************************\n",
      "****************************************\n",
      "******************************\n",
      "********************\n",
      "****************************************\n",
      "----------------------------------------\n",
      "$$$$$$$$$$$$$$$$$$$$\n",
      "@@@@@@@@@@@@@@@@@@@@@@@@@@@@@@\n"
     ]
    }
   ],
   "source": [
    "line() # ()안이 비어있으므로 인자가 없는 방식, 빈손으로 점프해서 함수를 가지러감\n",
    "print(\"**********************************\")\n",
    "line()\n",
    "print(\"        고객관리 프로그램         \")\n",
    "print(\"**********************************\")\n",
    "print(\"1. 리스트 출력\")\n",
    "print(\"2. 고객 추가\")\n",
    "print(\"3. 종료\")\n",
    "print(\"**********************************\")\n",
    "line()\n",
    "line()\n",
    "mine(30) # 인자 값을 입력\n",
    "mine(20) \n",
    "mine(40)\n",
    "jine(40, \"-\") # 원하는 모양으로 입력\n",
    "jine(20, \"$\") # \"\"안에 들어있는 값은 실인자(실인수)라고 부르기도 함, 실제로 함수호출 때 넘어가는 값\n",
    "jine(30, \"@\") # 실인자 = argument\n"
   ]
  },
  {
   "cell_type": "code",
   "execution_count": 43,
   "id": "91a3b125",
   "metadata": {},
   "outputs": [
    {
     "name": "stdout",
     "output_type": "stream",
     "text": [
      "두 수의 교환\n",
      "(5, 10)\n",
      "결과 :  5 10\n"
     ]
    },
    {
     "data": {
      "text/plain": [
       "'temp = num1\\nnum1 = num2\\nnum2 = temp\\n\\nprint(\"결과 : \", num1, num2)'"
      ]
     },
     "execution_count": 43,
     "metadata": {},
     "output_type": "execute_result"
    }
   ],
   "source": [
    "def swap(num1, num2):\n",
    "    temp = num1\n",
    "    num1 = num2\n",
    "    num2 = temp\n",
    "\n",
    "    return num1, num2 #인자 반환형, 처음 설정된 num1, num2가 아니라 함수를 거치고 난 결과값 num1, num2를 반환시킴.\n",
    "    print(\"이 코드가 보이는가?\") # 위에 return이 있으므로, 실행되지 않고 원위치로 돌아감.\n",
    " \n",
    "######################################################################\n",
    "\n",
    "num1, num2 = 10, 5\n",
    "print(\"두 수의 교환\")\n",
    "print(swap(num1, num2)) # 반환값을 packing해서 튜플로 묶어서 가져옴,\n",
    "n1, n2 = swap(num1, num2) # return값이 있기 때문에, =를 이용해서 값을 또 치환할 수 있음. 위에서 return을 안쓰면 불가능\n",
    "                        # 튜플로 가져오기 때문에, 자동으로 unpacking해서 결과로 나옴.\n",
    "\n",
    "print(\"결과 : \", n1, n2)\n",
    "\n",
    "\n",
    "\n",
    "\n",
    "\"\"\"temp = num1\n",
    "num1 = num2\n",
    "num2 = temp\n",
    "\n",
    "print(\"결과 : \", num1, num2)\"\"\""
   ]
  },
  {
   "cell_type": "markdown",
   "id": "bee14c23",
   "metadata": {},
   "source": [
    "## 6. 파이썬에서 함수를 지원하기 위한 문법\n",
    "\n",
    "### (1) 변수의 유효(생존) 범위 : 지역 변수, 전역 변수\n",
    "\n",
    "- 지역 변수 : 함수 안에서만 사용되는 변수\n",
    "- 전역 변수 : 함수 밖에서 사용되는 변수"
   ]
  },
  {
   "cell_type": "code",
   "execution_count": 54,
   "id": "24a3d218",
   "metadata": {},
   "outputs": [
    {
     "name": "stdout",
     "output_type": "stream",
     "text": [
      "전국대표\n",
      "홍길동 지역 대표\n",
      "전국대표\n"
     ]
    }
   ],
   "source": [
    "player = \"전국대표\"\n",
    "\n",
    "def funcSoccer():\n",
    "        name = \"홍길동\"\n",
    "        player = \"지역 대표\"  # 이 함수 안에서만 쓸 수 있는 player라는 변수가 새로 만들어진 것임. + 밖에서 따로 쓰고 있는 player랑 다름.\n",
    "        print(name, player)   # 지역 변수 # 이름만 같고 다른 변수임.\n",
    "    \n",
    "####################################################\n",
    "\n",
    "print(player) #전역변수\n",
    "funcSoccer()  #지역변수, 함수 안에 있는 player이므로 \n",
    "print(player) #전역변수\n"
   ]
  },
  {
   "cell_type": "code",
   "execution_count": 55,
   "id": "a5d20002",
   "metadata": {},
   "outputs": [
    {
     "name": "stdout",
     "output_type": "stream",
     "text": [
      "전국대표\n",
      "홍길동 지역 대표\n",
      "지역 대표\n"
     ]
    }
   ],
   "source": [
    "\n",
    "player = \"전국대표\"\n",
    "\n",
    "def funcSoccer():\n",
    "        global player # 전역 변수를 지역변수에도 사용할 수 있게 해주는 키워드\n",
    "        \n",
    "        name = \"홍길동\"\n",
    "        player = \"지역 대표\"  # 위에 global이 있으므로, 전역변수를 가져와서 \"지역대표\"로 바꿔준 것임.\n",
    "        print(name, player) \n",
    "\n",
    "print(player)\n",
    "funcSoccer()\n",
    "print(player) # 위에 위치한 셀과는 결과가 달라졌음"
   ]
  },
  {
   "cell_type": "markdown",
   "id": "4e1a539e",
   "metadata": {},
   "source": [
    "### (2) defualt 인수"
   ]
  },
  {
   "cell_type": "code",
   "execution_count": 60,
   "id": "b33d2549",
   "metadata": {},
   "outputs": [
    {
     "name": "stdout",
     "output_type": "stream",
     "text": [
      "****************************************\n",
      "        고객관리 프로그램         \n",
      "--------------------\n",
      "1. 리스트 출력\n",
      "2. 고객 추가\n",
      "3. 종료\n"
     ]
    }
   ],
   "source": [
    "def line(cnt=40, style='*'):  # 기본 값을 넣어줌, defualt\n",
    "    for i in range(cnt):  \n",
    "        print(style, end=\"\") \n",
    "    print()\n",
    "    \n",
    "###################################\n",
    "\n",
    "line() # line(40, '*')이고, 인자와 매개변수의 개수는 똑같아야하지만, 자주 사용하는 인수는 default값으로 설정해두면 편함\n",
    "print(\"        고객관리 프로그램         \")\n",
    "line(20, '-') # 자주 쓰는 값을 defualt로 설정해두고, 바꾸고 싶은 줄만 이렇게 직접 입력가능\n",
    "print(\"1. 리스트 출력\")\n",
    "print(\"2. 고객 추가\")\n",
    "print(\"3. 종료\")\n",
    "\n",
    "# line(,'+')이렇게 앞쪽의 값만 defualt는 불가능\n",
    "# defualt는 끝(오른쪽)에서 부터 설정해야함\n",
    "# 굳이 바꾸고 싶다면 defualt로 설정하고 싶은 값 전부를 함수에서부터 모든 변수의 위치를 오른쪽 끝으로 바꿔줘야함\n"
   ]
  },
  {
   "cell_type": "markdown",
   "id": "0168c056",
   "metadata": {},
   "source": [
    "### (3) 가변 인수\n",
    "\n",
    "1. * : 곱셈, 반복, 매개변수(가변인수, packing), 일반 변수(unpacking)\n",
    "2. ** : 거듭제곱, 매개변수(가변인수, dict)"
   ]
  },
  {
   "cell_type": "code",
   "execution_count": 68,
   "id": "c946deee",
   "metadata": {},
   "outputs": [],
   "source": [
    "def greeting(*name):          # *를 추가하는 것으로 1개만 입력가능하던 위치에 여러개를 인자로 받을 수 있게 만들어줌\n",
    "    print(name, \"님, 안녕하세요\") # 몇개를 입력하더라도 튜플로 묶어서 한번에 처리해줌\n",
    "    "
   ]
  },
  {
   "cell_type": "code",
   "execution_count": 69,
   "id": "5ff49767",
   "metadata": {},
   "outputs": [
    {
     "name": "stdout",
     "output_type": "stream",
     "text": [
      "('홍길동',) 님, 안녕하세요\n",
      "('홍길동', '임꺽정', '신돌석') 님, 안녕하세요\n"
     ]
    }
   ],
   "source": [
    "greeting(\"홍길동\")\n",
    "greeting(\"홍길동\", \"임꺽정\", \"신돌석\")"
   ]
  },
  {
   "cell_type": "code",
   "execution_count": 74,
   "id": "2da83f3c",
   "metadata": {},
   "outputs": [
    {
     "name": "stdout",
     "output_type": "stream",
     "text": [
      "[1, 2] [3, 4] [5, 6]\n",
      "([1, 2], [3, 4], [5, 6])\n",
      "([1, 2], [3, 4], [5, 6])\n",
      "[1, 2] [3, 4] [5, 6]\n"
     ]
    }
   ],
   "source": [
    "a, b, c = [1, 2,], [3,4], [5,6]\n",
    "print(a, b, c)\n",
    "\n",
    "a = [1, 2], [3, 4], [5, 6] # 변수와 값이 일치하지 않으므로 튜플로 패킹되어서 나옴\n",
    "print(a)\n",
    "\n",
    "a = ([1, 2], [3, 4], [5, 6]) # 직접 패킹 했지만 결과는 위와 같이 나옴\n",
    "print(a)\n",
    "print(*a) # 직접 패킹 했지만 *를 붙여주는 것으로 언패킹되어서 나옴"
   ]
  },
  {
   "cell_type": "markdown",
   "id": "2fc3df09",
   "metadata": {},
   "source": [
    "### 가변 매개변수\n",
    "- 매개변수가 몇 개인지 알 수 없을 때 사용\n",
    "- 매개변수 앞에 '*'을 표시"
   ]
  },
  {
   "cell_type": "code",
   "execution_count": 2,
   "id": "8b8d9a08",
   "metadata": {},
   "outputs": [
    {
     "name": "stdout",
     "output_type": "stream",
     "text": [
      "6\n",
      "15\n"
     ]
    }
   ],
   "source": [
    "def sum(*args):\n",
    "    result = 0\n",
    "    for i in args:\n",
    "        result = result +i\n",
    "    return result\n",
    "\n",
    "print(sum(1, 2, 3))\n",
    "print(sum(1, 2, 3, 4, 5))"
   ]
  },
  {
   "cell_type": "markdown",
   "id": "9ff03d4a",
   "metadata": {},
   "source": [
    "### 키워드 매개변수\n",
    "- 매개변수의 이름을 따로 지정하지 않고 사용\n",
    "- 매개변수 앞에 '**'을 표시"
   ]
  },
  {
   "cell_type": "code",
   "execution_count": 3,
   "id": "eb414c61",
   "metadata": {},
   "outputs": [
    {
     "name": "stdout",
     "output_type": "stream",
     "text": [
      "<class 'dict'>\n",
      "{'n1': 5, 'n2': 8}\n",
      "<class 'dict'>\n",
      "{'id': 'suan', 'pw': '1234'}\n"
     ]
    }
   ],
   "source": [
    "def print_kwargs(**kwargs):\n",
    "    print(type(kwargs))\n",
    "    print(kwargs)\n",
    "    \n",
    "print_kwargs(n1 = 5, n2 = 8)\n",
    "print_kwargs(id = \"suan\", pw = \"1234\")"
   ]
  },
  {
   "cell_type": "code",
   "execution_count": 79,
   "id": "d3a05fba",
   "metadata": {},
   "outputs": [],
   "source": [
    "def info(weight, height, name, **kwargs): #**kwargs(keyward argument)의 약자로, 이후에 추가되는 변수들을 한번에 dict로 묶어서 추가해줌\n",
    "    print(weight, height, name)\n",
    "    print(kwargs) # 처음에 설정한 weight, height, name외의 추가되는 변수가 출력되기 위해서 작성"
   ]
  },
  {
   "cell_type": "code",
   "execution_count": 80,
   "id": "61dd173e",
   "metadata": {},
   "outputs": [
    {
     "name": "stdout",
     "output_type": "stream",
     "text": [
      "80 180 홍길동\n",
      "{}\n",
      "70 170 임꺽정\n",
      "{'age': 30, 'addr': '서울', 'blood': 'A'}\n"
     ]
    }
   ],
   "source": [
    "info(80, 180, \"홍길동\")\n",
    "info(70, 170, \"임꺽정\", age=30, addr='서울', blood='A')"
   ]
  },
  {
   "cell_type": "code",
   "execution_count": 11,
   "id": "94570f7f",
   "metadata": {},
   "outputs": [],
   "source": [
    "def line2():\n",
    "    for i in range(40):\n",
    "        print(\"-\", end=\"\")\n",
    "    print()"
   ]
  },
  {
   "cell_type": "markdown",
   "id": "6c187cc5",
   "metadata": {},
   "source": [
    "### 초기값 매개변수\n",
    "- 매개변수에 초기값을 설정하여 사용\n",
    "- 함수에 매개변수를 사용하지 않을 때 초기값을 사용"
   ]
  },
  {
   "cell_type": "code",
   "execution_count": 4,
   "id": "3b70a31f",
   "metadata": {},
   "outputs": [
    {
     "name": "stdout",
     "output_type": "stream",
     "text": [
      "4\n",
      "9\n",
      "25\n",
      "8\n"
     ]
    }
   ],
   "source": [
    "def power(b = 2, n = 2):\n",
    "    return pow(b, n)\n",
    "\n",
    "print(power())\n",
    "print(power(3))\n",
    "print(power(5, 2))\n",
    "print(power(n = 3))"
   ]
  },
  {
   "cell_type": "markdown",
   "id": "105b0673",
   "metadata": {},
   "source": [
    "### 여러 반환 값이 있는 함수\n",
    "- 함수의 반환값은 하나\n",
    "- 여러 반환값을 사용할 경우 튜플 형태로 반환"
   ]
  },
  {
   "cell_type": "code",
   "execution_count": 6,
   "id": "ea7de93b",
   "metadata": {},
   "outputs": [
    {
     "name": "stdout",
     "output_type": "stream",
     "text": [
      "(13, 3)\n",
      "13 3\n"
     ]
    }
   ],
   "source": [
    "def plus_and_minus(n1, n2):\n",
    "    return n1+n2, n1-n2\n",
    "    \n",
    "result = plus_and_minus(8, 5)\n",
    "print(result)\n",
    "\n",
    "result1, result2 = plus_and_minus(8,5)\n",
    "print(result1, result2)"
   ]
  },
  {
   "cell_type": "markdown",
   "id": "0d4900c3",
   "metadata": {},
   "source": [
    "### 전자계산기"
   ]
  },
  {
   "cell_type": "code",
   "execution_count": 7,
   "id": "29b950df",
   "metadata": {},
   "outputs": [
    {
     "name": "stdout",
     "output_type": "stream",
     "text": [
      "13\n",
      "40\n"
     ]
    }
   ],
   "source": [
    "def calc(op, n1, n2):\n",
    "    result = 0\n",
    "    if op == '+':\n",
    "        result = n1 + n2\n",
    "    elif op == '-':\n",
    "        result = n1 - n2\n",
    "    elif op == '*':\n",
    "        result = n1 * n2\n",
    "    elif op == '/':\n",
    "        result = n1 / n2\n",
    "    \n",
    "    return result\n",
    "\n",
    "print(calc('+', 8, 5))\n",
    "print(calc('*', 8, 5))"
   ]
  },
  {
   "cell_type": "markdown",
   "id": "0c9575fd",
   "metadata": {},
   "source": [
    "### 가변 매개변수의 평균값 계산\n",
    "- 가변 매개변수로 들어오는 모든 수의 평균값 계산"
   ]
  },
  {
   "cell_type": "code",
   "execution_count": 8,
   "id": "f9d021d0",
   "metadata": {},
   "outputs": [
    {
     "name": "stdout",
     "output_type": "stream",
     "text": [
      "3.0\n"
     ]
    }
   ],
   "source": [
    "def avg(*args):\n",
    "    sum = 0\n",
    "    for i in args:\n",
    "        sum += i\n",
    "    return (sum / len(args)) # 총 합계에서 변수의 숫자의 길이를 나눈다 = 평균\n",
    "print(avg(1,2,3,4,5))"
   ]
  },
  {
   "cell_type": "markdown",
   "id": "4d56d78b",
   "metadata": {},
   "source": [
    "### 내부 함수(Nested Function)\n",
    "- 함수 안에 함수가 존재\n",
    "- 내부 함수는 외부에서 호출 불가"
   ]
  },
  {
   "cell_type": "code",
   "execution_count": 9,
   "id": "5c752efa",
   "metadata": {},
   "outputs": [
    {
     "name": "stdout",
     "output_type": "stream",
     "text": [
      "13\n"
     ]
    }
   ],
   "source": [
    "def func1(n1, n2):\n",
    "    def func2(num1, num2):\n",
    "        return num1 + num2\n",
    "    return func2(n1, n2)\n",
    "\n",
    "print(func1(5, 8))"
   ]
  },
  {
   "cell_type": "markdown",
   "id": "ec2b8032",
   "metadata": {},
   "source": [
    "### 재귀 함수(Recursive Function)\n",
    "- 함수가 자기 자신을 다시 부르는 함수\n",
    "- Count() 함수 내부에서 count90 함수를 호출\n",
    "- 재귀적으로 카운트 수를 출력"
   ]
  },
  {
   "cell_type": "code",
   "execution_count": 10,
   "id": "3f462c9c",
   "metadata": {},
   "outputs": [
    {
     "name": "stdout",
     "output_type": "stream",
     "text": [
      "10 9 8 7 6 5 4 3 2 1 "
     ]
    }
   ],
   "source": [
    "def count(n):\n",
    "    if n >= 1:\n",
    "        print(n, end=' ')\n",
    "        count(n -1)\n",
    "    else:\n",
    "        return\n",
    "count(10)"
   ]
  },
  {
   "cell_type": "markdown",
   "id": "e0b69d1e",
   "metadata": {},
   "source": [
    "### 재귀 함수를 이용한 합계\n",
    "- sum() 함수 내부에서 sum()함수를 호출\n",
    "- 재귀적으로 합계를 계산"
   ]
  },
  {
   "cell_type": "code",
   "execution_count": 11,
   "id": "c8cc4cb2",
   "metadata": {},
   "outputs": [
    {
     "name": "stdout",
     "output_type": "stream",
     "text": [
      "55\n"
     ]
    }
   ],
   "source": [
    "def sum(n):\n",
    "    if n == 1:\n",
    "        return 1\n",
    "    else:\n",
    "        return n + sum(n-1) # n값을 받아서 n-1, n-2, ... 1까지 합하는 그림\n",
    "print(sum(10))"
   ]
  },
  {
   "cell_type": "markdown",
   "id": "1ffda215",
   "metadata": {},
   "source": [
    "### 팩토리얼 함수(Factorial Function)\n",
    "- 팩토리얼 함수는 대표적인 재귀함수"
   ]
  },
  {
   "cell_type": "code",
   "execution_count": 13,
   "id": "5fcf690c",
   "metadata": {},
   "outputs": [
    {
     "name": "stdout",
     "output_type": "stream",
     "text": [
      "6\n",
      "120\n",
      "3628800\n"
     ]
    }
   ],
   "source": [
    "def factorial(n):\n",
    "    if n == 1:\n",
    "        return 1\n",
    "    else:\n",
    "        return n * factorial(n-1)\n",
    "print(factorial(3))\n",
    "print(factorial(5))\n",
    "print(factorial(10))"
   ]
  },
  {
   "cell_type": "markdown",
   "id": "8afa7033",
   "metadata": {},
   "source": [
    "### 람다 함수"
   ]
  },
  {
   "cell_type": "code",
   "execution_count": 15,
   "id": "cc43c7a8",
   "metadata": {},
   "outputs": [
    {
     "name": "stdout",
     "output_type": "stream",
     "text": [
      "8\n",
      "9\n"
     ]
    }
   ],
   "source": [
    "def add(n1, n2):\n",
    "    return n1 + n2\n",
    "print(add(3,5))\n",
    "\n",
    "add2 = lambda n1, n2: n1+n2\n",
    "print(add2(4,5))"
   ]
  },
  {
   "cell_type": "markdown",
   "id": "23fbb994",
   "metadata": {},
   "source": [
    "# 7. Built-in Function\n",
    "\n",
    "### (1) all(), any() : and와 or연산자를 함수화"
   ]
  },
  {
   "cell_type": "code",
   "execution_count": 12,
   "id": "c9141f91",
   "metadata": {},
   "outputs": [
    {
     "name": "stdout",
     "output_type": "stream",
     "text": [
      "True\n",
      "False\n",
      "False\n",
      "False\n",
      "----------------------------------------\n",
      "True\n",
      "True\n",
      "True\n",
      "True\n"
     ]
    }
   ],
   "source": [
    "a = [1, 2, 3, -1, -2]\n",
    "\n",
    "print(all(a)) # 0이 있으면 False이므로, 0이 있는지 없는지 바로 확인 가능\n",
    "print(all([1,2,3,0,-2])) # 값이 비어있는지, 0이 있는지 확인하는 곳에 유용함\n",
    "print(all([1, 2, 3, \"\", -2])) # 값이 비어있음\n",
    "print(all([1, 2, 3, None, -2])) # Pyhton : None = Sql : null\n",
    "\n",
    "line2()\n",
    "\n",
    "print(any(a)) \n",
    "print(any([1,2,3,0,-2]))\n",
    "print(any([1, 2, 3, \"\", -2])) \n",
    "print(any([1, 2, 3, None, -2]))"
   ]
  },
  {
   "cell_type": "markdown",
   "id": "740d1c18",
   "metadata": {},
   "source": [
    "### (2) enumerate(iterator)\n",
    "\n",
    "##### iterator = 집합자료형(리스트, 튜플 등) 하나의 데이터가 아니라 여러개가 들어감, 무언가를 반복할 때 사용하는 것, 열거할 때 \n",
    "\n",
    "- 순서가 있는 자료형(리스트, 튜플)을 입력 받아 인덱스 값을 포함해서 리턴"
   ]
  },
  {
   "cell_type": "code",
   "execution_count": 13,
   "id": "0be8ed3e",
   "metadata": {},
   "outputs": [
    {
     "name": "stdout",
     "output_type": "stream",
     "text": [
      "홍길동\n",
      "임꺽정\n",
      "유비\n",
      "관우\n",
      "장비\n"
     ]
    }
   ],
   "source": [
    "for i in [\"홍길동\", \"임꺽정\", \"유비\", \"관우\", \"장비\"]:\n",
    "    print(i)"
   ]
  },
  {
   "cell_type": "code",
   "execution_count": 21,
   "id": "b0d828e8",
   "metadata": {},
   "outputs": [
    {
     "name": "stdout",
     "output_type": "stream",
     "text": [
      "2100497584064\n"
     ]
    }
   ],
   "source": [
    "enumerate([\"홍길동\", \"임꺽정\", \"유비\", \"관우\", \"장비\"])"
   ]
  },
  {
   "cell_type": "code",
   "execution_count": 19,
   "id": "b0da19c7",
   "metadata": {},
   "outputs": [
    {
     "data": {
      "text/plain": [
       "[(0, '홍길동'), (1, '임꺽정'), (2, '유비'), (3, '관우'), (4, '장비')]"
      ]
     },
     "execution_count": 19,
     "metadata": {},
     "output_type": "execute_result"
    }
   ],
   "source": [
    "list(enumerate([\"홍길동\", \"임꺽정\", \"유비\", \"관우\", \"장비\"]))"
   ]
  },
  {
   "cell_type": "code",
   "execution_count": 22,
   "id": "ca18601d",
   "metadata": {},
   "outputs": [
    {
     "name": "stdout",
     "output_type": "stream",
     "text": [
      "(0, '홍길동')\n",
      "(1, '임꺽정')\n",
      "(2, '유비')\n",
      "(3, '관우')\n",
      "(4, '장비')\n"
     ]
    }
   ],
   "source": [
    "for i in enumerate([\"홍길동\", \"임꺽정\", \"유비\", \"관우\", \"장비\"]):\n",
    "    print(i)"
   ]
  },
  {
   "cell_type": "code",
   "execution_count": 23,
   "id": "6b64ebfb",
   "metadata": {},
   "outputs": [
    {
     "name": "stdout",
     "output_type": "stream",
     "text": [
      "0 홍길동\n",
      "1 임꺽정\n",
      "2 유비\n",
      "3 관우\n",
      "4 장비\n"
     ]
    }
   ],
   "source": [
    "for i,j in enumerate([\"홍길동\", \"임꺽정\", \"유비\", \"관우\", \"장비\"]):\n",
    "    print(i, j) # unpacking해서 결과를 보여줌\n"
   ]
  },
  {
   "cell_type": "markdown",
   "id": "d70791a4",
   "metadata": {},
   "source": [
    "### (3) eval(expression)\n",
    "\n",
    "##### expression = 표현식\n",
    "\n",
    "- 표현식을 파이썬에서 실행가능하게 만들어주는 역할"
   ]
  },
  {
   "cell_type": "code",
   "execution_count": 26,
   "id": "49790bce",
   "metadata": {},
   "outputs": [
    {
     "name": "stdout",
     "output_type": "stream",
     "text": [
      "3+4\n",
      "7\n",
      "print('안녕하세요')\n",
      "안녕하세요\n"
     ]
    }
   ],
   "source": [
    "a = \"3+4\"\n",
    "print(a)\n",
    "print(eval(\"3+4\"))\n",
    "\n",
    "b = \"print('안녕하세요')\"\n",
    "print(b)\n",
    "eval(b)"
   ]
  },
  {
   "cell_type": "markdown",
   "id": "8e715e69",
   "metadata": {},
   "source": [
    "### (4) map(function, iterator)\n",
    "\n",
    "##### fuction = 함수의 주소를 알려달라\n",
    "\n",
    "- 집합의 각 요소가 함수에 의해 수행된 결과를 묶어서 리턴\n",
    "- built-in 함수로서 list나 dictionary와 같은 iterable한 데이터를 인자로 받아 list 안의 개별 item을 함수의 인자로 전달하여 결과를 list 형태로 반환해주는 함수\n",
    "- 람다 함수와 map()을 이용한 리스트 계산"
   ]
  },
  {
   "cell_type": "code",
   "execution_count": 17,
   "id": "f26337f1",
   "metadata": {},
   "outputs": [
    {
     "name": "stdout",
     "output_type": "stream",
     "text": [
      "[1, 4, 9, 16, 25]\n"
     ]
    }
   ],
   "source": [
    "li = [1,2,3,4,5]\n",
    "square = lambda n: n*n\n",
    "li = list(map(square, li))\n",
    "print(li)"
   ]
  },
  {
   "cell_type": "code",
   "execution_count": 28,
   "id": "c30b8707",
   "metadata": {},
   "outputs": [],
   "source": [
    "def calc(x):\n",
    "    return x + 2"
   ]
  },
  {
   "cell_type": "code",
   "execution_count": 29,
   "id": "b61fa05b",
   "metadata": {},
   "outputs": [
    {
     "name": "stdout",
     "output_type": "stream",
     "text": [
      "12\n"
     ]
    }
   ],
   "source": [
    "print(calc(10))"
   ]
  },
  {
   "cell_type": "code",
   "execution_count": 32,
   "id": "58412c0d",
   "metadata": {},
   "outputs": [
    {
     "name": "stdout",
     "output_type": "stream",
     "text": [
      "[12, 22, 32, 42, 52]\n"
     ]
    }
   ],
   "source": [
    "data = [10, 20, 30, 40, 50]\n",
    "\n",
    "result = []\n",
    "for i in data:\n",
    "    result.append(calc(i))\n",
    "    \n",
    "print(result)"
   ]
  },
  {
   "cell_type": "code",
   "execution_count": 37,
   "id": "4adcf635",
   "metadata": {},
   "outputs": [
    {
     "data": {
      "text/plain": [
       "<map at 0x1e90f6613d0>"
      ]
     },
     "execution_count": 37,
     "metadata": {},
     "output_type": "execute_result"
    }
   ],
   "source": [
    "map(calc, data) #calc()와 같이 함수 전체를 넣는 것이 아니라 이름만 넣어줘야함. 함수의 주소를 가져오는 것이지 함수의 결과값을 넣는게 아님\n",
    "# callback 함수 : 내가 직접 호출하는 것이 아닌 시스템이 호출하는 것"
   ]
  },
  {
   "cell_type": "code",
   "execution_count": 38,
   "id": "7f8e5149",
   "metadata": {},
   "outputs": [
    {
     "data": {
      "text/plain": [
       "[12, 22, 32, 42, 52]"
      ]
     },
     "execution_count": 38,
     "metadata": {},
     "output_type": "execute_result"
    }
   ],
   "source": [
    "list(map(calc, data))"
   ]
  },
  {
   "cell_type": "code",
   "execution_count": 42,
   "id": "a99e2670",
   "metadata": {},
   "outputs": [
    {
     "name": "stdout",
     "output_type": "stream",
     "text": [
      "12\n",
      "22\n",
      "32\n",
      "42\n",
      "52\n",
      "----------------------------------------\n",
      "12\n",
      "22\n",
      "32\n",
      "42\n",
      "52\n"
     ]
    }
   ],
   "source": [
    "for i in map(calc, data):\n",
    "    print(i)\n",
    "\n",
    "line2()\n",
    "\n",
    "for i in list(map(calc, data)):\n",
    "    print(i)"
   ]
  },
  {
   "cell_type": "markdown",
   "id": "9c6e328f",
   "metadata": {},
   "source": [
    "### 5. zip(iterator)\n",
    "\n",
    "##### ziper와 같은 느낌?\n",
    "- 동일한 갯수로 이루어진 자료형을 묶어주는 역할"
   ]
  },
  {
   "cell_type": "code",
   "execution_count": 45,
   "id": "f68b5dcf",
   "metadata": {},
   "outputs": [],
   "source": [
    "a = [\"a1\",\"a2\",\"a3\"]\n",
    "b = [\"b1\",\"b2\",\"b3\"]\n",
    "c = [\"c1\",\"c2\",\"c3\"]"
   ]
  },
  {
   "cell_type": "code",
   "execution_count": 46,
   "id": "f371596f",
   "metadata": {},
   "outputs": [
    {
     "data": {
      "text/plain": [
       "<zip at 0x1e90f765b40>"
      ]
     },
     "execution_count": 46,
     "metadata": {},
     "output_type": "execute_result"
    }
   ],
   "source": [
    "zip(a, b, c)"
   ]
  },
  {
   "cell_type": "code",
   "execution_count": 47,
   "id": "3af92fb9",
   "metadata": {},
   "outputs": [
    {
     "data": {
      "text/plain": [
       "[('a1', 'b1', 'c1'), ('a2', 'b2', 'c2'), ('a3', 'b3', 'c3')]"
      ]
     },
     "execution_count": 47,
     "metadata": {},
     "output_type": "execute_result"
    }
   ],
   "source": [
    "list(zip(a, b, c))"
   ]
  },
  {
   "cell_type": "code",
   "execution_count": 50,
   "id": "879ca2d7",
   "metadata": {},
   "outputs": [
    {
     "name": "stdout",
     "output_type": "stream",
     "text": [
      "('a1', 'b1', 'c1')\n",
      "('a2', 'b2', 'c2')\n",
      "('a3', 'b3', 'c3')\n"
     ]
    }
   ],
   "source": [
    "for v in zip(a,b,c):\n",
    "    print(v)\n",
    "    "
   ]
  },
  {
   "cell_type": "code",
   "execution_count": 55,
   "id": "59eca9b1",
   "metadata": {},
   "outputs": [
    {
     "name": "stdout",
     "output_type": "stream",
     "text": [
      "0 ('a1', 'b1', 'c1')\n",
      "1 ('a2', 'b2', 'c2')\n",
      "2 ('a3', 'b3', 'c3')\n",
      "----------------------------------------\n",
      "0 a1 b1 c1\n",
      "1 a2 b2 c2\n",
      "2 a3 b3 c3\n"
     ]
    }
   ],
   "source": [
    "for i,v in enumerate(zip(a,b,c)):\n",
    "    print(i,v)\n",
    "    \n",
    "line2()\n",
    "\n",
    "for i,(v1,v2,v3) in enumerate(zip(a,b,c)):\n",
    "    print(i,v1,v2,v3)"
   ]
  },
  {
   "cell_type": "markdown",
   "id": "89566231",
   "metadata": {},
   "source": [
    "### filter()\n",
    "- filter() : iterable한 데이터를 인자로 개별item을 특정 조건에 해당하는 값으로만 필터링\n",
    "- 람다 함수랑 filter() 함수를 이용한 필터링"
   ]
  },
  {
   "cell_type": "code",
   "execution_count": 20,
   "id": "e4fa6dca",
   "metadata": {},
   "outputs": [
    {
     "name": "stdout",
     "output_type": "stream",
     "text": [
      "[0, 1, 2, 3, 4, 5, 6, 7, 8, 9]\n",
      "[0, 2, 4, 6, 8]\n"
     ]
    }
   ],
   "source": [
    "li = list(range(10))\n",
    "print(li)\n",
    "evens = filter(lambda n : n % 2 == 0, li)\n",
    "print(list(evens))"
   ]
  },
  {
   "cell_type": "markdown",
   "id": "91997478",
   "metadata": {},
   "source": [
    "### reduce()\n",
    "- reduce() : iterable한 데이터를 인자로 받아 개별item을 축약하여 하나의 값으로 만들어 가는 과정\n",
    "- 람다 함수와 reduce()를 이용한 리스트 계산"
   ]
  },
  {
   "cell_type": "code",
   "execution_count": 22,
   "id": "61033223",
   "metadata": {},
   "outputs": [
    {
     "name": "stdout",
     "output_type": "stream",
     "text": [
      "[0, 1, 2, 3, 4, 5, 6, 7, 8, 9]\n",
      "45\n",
      "10\n",
      "9\n"
     ]
    }
   ],
   "source": [
    "import functools\n",
    "li = list(range(10))\n",
    "print(li)\n",
    "sum = functools.reduce(lambda x,y: x + y, li)\n",
    "print(sum)\n",
    "len = functools.reduce(lambda x,y: x + 1, li, 0)\n",
    "print(len)\n",
    "max = functools.reduce(lambda x,y: x if x > y else y, li)\n",
    "print(max)"
   ]
  },
  {
   "cell_type": "markdown",
   "id": "d7fee215",
   "metadata": {},
   "source": [
    "### 8. External Function\n",
    "\n",
    "- import 모듈명\n",
    "- C:\\Users\\acorn\\anaconda3\\Lib\\site-packages"
   ]
  },
  {
   "cell_type": "code",
   "execution_count": 57,
   "id": "6ee8fa8d",
   "metadata": {},
   "outputs": [
    {
     "data": {
      "text/plain": [
       "['__breakpointhook__',\n",
       " '__displayhook__',\n",
       " '__doc__',\n",
       " '__excepthook__',\n",
       " '__interactivehook__',\n",
       " '__loader__',\n",
       " '__name__',\n",
       " '__package__',\n",
       " '__spec__',\n",
       " '__stderr__',\n",
       " '__stdin__',\n",
       " '__stdout__',\n",
       " '__unraisablehook__',\n",
       " '_base_executable',\n",
       " '_clear_type_cache',\n",
       " '_current_frames',\n",
       " '_debugmallocstats',\n",
       " '_enablelegacywindowsfsencoding',\n",
       " '_framework',\n",
       " '_getframe',\n",
       " '_git',\n",
       " '_home',\n",
       " '_xoptions',\n",
       " 'addaudithook',\n",
       " 'api_version',\n",
       " 'argv',\n",
       " 'audit',\n",
       " 'base_exec_prefix',\n",
       " 'base_prefix',\n",
       " 'breakpointhook',\n",
       " 'builtin_module_names',\n",
       " 'byteorder',\n",
       " 'call_tracing',\n",
       " 'copyright',\n",
       " 'displayhook',\n",
       " 'dllhandle',\n",
       " 'dont_write_bytecode',\n",
       " 'exc_info',\n",
       " 'excepthook',\n",
       " 'exec_prefix',\n",
       " 'executable',\n",
       " 'exit',\n",
       " 'flags',\n",
       " 'float_info',\n",
       " 'float_repr_style',\n",
       " 'get_asyncgen_hooks',\n",
       " 'get_coroutine_origin_tracking_depth',\n",
       " 'getallocatedblocks',\n",
       " 'getdefaultencoding',\n",
       " 'getfilesystemencodeerrors',\n",
       " 'getfilesystemencoding',\n",
       " 'getprofile',\n",
       " 'getrecursionlimit',\n",
       " 'getrefcount',\n",
       " 'getsizeof',\n",
       " 'getswitchinterval',\n",
       " 'gettrace',\n",
       " 'getwindowsversion',\n",
       " 'hash_info',\n",
       " 'hexversion',\n",
       " 'implementation',\n",
       " 'int_info',\n",
       " 'intern',\n",
       " 'is_finalizing',\n",
       " 'last_traceback',\n",
       " 'last_type',\n",
       " 'last_value',\n",
       " 'maxsize',\n",
       " 'maxunicode',\n",
       " 'meta_path',\n",
       " 'modules',\n",
       " 'path',\n",
       " 'path_hooks',\n",
       " 'path_importer_cache',\n",
       " 'platform',\n",
       " 'platlibdir',\n",
       " 'prefix',\n",
       " 'ps1',\n",
       " 'ps2',\n",
       " 'ps3',\n",
       " 'pycache_prefix',\n",
       " 'set_asyncgen_hooks',\n",
       " 'set_coroutine_origin_tracking_depth',\n",
       " 'setprofile',\n",
       " 'setrecursionlimit',\n",
       " 'setswitchinterval',\n",
       " 'settrace',\n",
       " 'stderr',\n",
       " 'stdin',\n",
       " 'stdout',\n",
       " 'thread_info',\n",
       " 'unraisablehook',\n",
       " 'version',\n",
       " 'version_info',\n",
       " 'warnoptions',\n",
       " 'winver']"
      ]
     },
     "execution_count": 57,
     "metadata": {},
     "output_type": "execute_result"
    }
   ],
   "source": [
    "import sys #sys = sys.py\n",
    "\n",
    "dir(sys) #함수도 있고, 변수도 있음"
   ]
  },
  {
   "cell_type": "code",
   "execution_count": 59,
   "id": "ac0297ea",
   "metadata": {},
   "outputs": [
    {
     "name": "stdout",
     "output_type": "stream",
     "text": [
      "3.9.13 (main, Aug 25 2022, 23:51:50) [MSC v.1916 64 bit (AMD64)]\n",
      "['C:\\\\kimhotak13\\\\PythonWork\\\\Basic', 'C:\\\\Users\\\\acorn\\\\anaconda3\\\\python39.zip', 'C:\\\\Users\\\\acorn\\\\anaconda3\\\\DLLs', 'C:\\\\Users\\\\acorn\\\\anaconda3\\\\lib', 'C:\\\\Users\\\\acorn\\\\anaconda3', '', 'C:\\\\Users\\\\acorn\\\\anaconda3\\\\lib\\\\site-packages', 'C:\\\\Users\\\\acorn\\\\anaconda3\\\\lib\\\\site-packages\\\\win32', 'C:\\\\Users\\\\acorn\\\\anaconda3\\\\lib\\\\site-packages\\\\win32\\\\lib', 'C:\\\\Users\\\\acorn\\\\anaconda3\\\\lib\\\\site-packages\\\\Pythonwin', 'C:\\\\Users\\\\acorn\\\\anaconda3\\\\lib\\\\site-packages\\\\IPython\\\\extensions', 'C:\\\\Users\\\\acorn\\\\.ipython']\n",
      "win32\n"
     ]
    }
   ],
   "source": [
    "print(sys.version)\n",
    "print(sys.path)\n",
    "print(sys.platform)"
   ]
  },
  {
   "cell_type": "code",
   "execution_count": 62,
   "id": "edae2446",
   "metadata": {},
   "outputs": [
    {
     "name": "stdout",
     "output_type": "stream",
     "text": [
      "C:\\kimhotak13\\PythonWork\\Basic\n"
     ]
    }
   ],
   "source": [
    "import os #현재 작업중인 위치 찾기\n",
    "\n",
    "dir(os)\n",
    "\n",
    "print(os.getcwd())"
   ]
  },
  {
   "cell_type": "code",
   "execution_count": 64,
   "id": "e5069a6e",
   "metadata": {},
   "outputs": [
    {
     "data": {
      "text/plain": [
       "['COMPANY',\n",
       " '__builtins__',\n",
       " '__cached__',\n",
       " '__doc__',\n",
       " '__file__',\n",
       " '__loader__',\n",
       " '__name__',\n",
       " '__package__',\n",
       " '__spec__',\n",
       " 'info',\n",
       " 'sum']"
      ]
     },
     "execution_count": 64,
     "metadata": {},
     "output_type": "execute_result"
    }
   ],
   "source": [
    "import mymodule\n",
    "\n",
    "dir(mymodule)"
   ]
  },
  {
   "cell_type": "code",
   "execution_count": 67,
   "id": "1d838628",
   "metadata": {},
   "outputs": [
    {
     "name": "stdout",
     "output_type": "stream",
     "text": [
      "30\n",
      "90 180 홍길동\n",
      "{'age': 20, 'addr': '서울'}\n",
      "None\n",
      "파이썬 주식회사\n"
     ]
    }
   ],
   "source": [
    "print(mymodule.sum(10, 20))\n",
    "print(mymodule.info(90, 180, \"홍길동\", age =20, addr = \"서울\"))\n",
    "print(mymodule.COMPANY)"
   ]
  },
  {
   "cell_type": "markdown",
   "id": "deab0c68",
   "metadata": {},
   "source": [
    "### 날짜 함수"
   ]
  },
  {
   "cell_type": "code",
   "execution_count": 68,
   "id": "4f345b93",
   "metadata": {},
   "outputs": [],
   "source": [
    "import datetime"
   ]
  },
  {
   "cell_type": "code",
   "execution_count": 71,
   "id": "f94ea11d",
   "metadata": {},
   "outputs": [
    {
     "name": "stdout",
     "output_type": "stream",
     "text": [
      "2023-02-24\n",
      "2023 2 24\n"
     ]
    }
   ],
   "source": [
    "# 현재 날짜\n",
    "today = datetime.date.today()\n",
    "print(today)\n",
    "print(today.year, today.month, today.day)"
   ]
  },
  {
   "cell_type": "code",
   "execution_count": 73,
   "id": "895b0529",
   "metadata": {},
   "outputs": [
    {
     "name": "stdout",
     "output_type": "stream",
     "text": [
      "2023-02-24 11:39:39.276551\n"
     ]
    }
   ],
   "source": [
    "# 현재 시간\n",
    "curtime = datetime.datetime.today()\n",
    "print(curtime)"
   ]
  },
  {
   "cell_type": "code",
   "execution_count": 77,
   "id": "994e4b1d",
   "metadata": {},
   "outputs": [
    {
     "name": "stdout",
     "output_type": "stream",
     "text": [
      "-1 day, 0:00:00\n",
      "어제 : 2023-02-23 11:39:39.276551\n",
      "-1 day, 16:00:00\n",
      "8시간 전 : 2023-02-24 03:39:39.276551\n"
     ]
    }
   ],
   "source": [
    "# 날짜와 시간을 계산\n",
    "mydays = datetime.timedelta(days = -1)\n",
    "print(mydays)\n",
    "print(\"어제 :\", curtime + mydays)\n",
    "\n",
    "myhours = datetime.timedelta(hours = -8)\n",
    "print(myhours)\n",
    "print(\"8시간 전 :\", curtime + myhours)"
   ]
  },
  {
   "cell_type": "code",
   "execution_count": 83,
   "id": "84341cd0",
   "metadata": {},
   "outputs": [
    {
     "name": "stdout",
     "output_type": "stream",
     "text": [
      "02/24/2023\n",
      "<class 'str'> <class 'datetime.date'>\n"
     ]
    }
   ],
   "source": [
    "# 날짜 형식 지정\n",
    "strToday = today.strftime(\"%m/%d/%Y\") #str이 들어갔으므로 날짜타입이 아니라 문자열 타입임\n",
    "print(strToday)\n",
    "print(type(strToday), type(today))\n"
   ]
  },
  {
   "cell_type": "code",
   "execution_count": 88,
   "id": "69ad3630",
   "metadata": {},
   "outputs": [
    {
     "name": "stdout",
     "output_type": "stream",
     "text": [
      "2023-02-24 11:56:30\n",
      "<class 'datetime.datetime'>\n"
     ]
    }
   ],
   "source": [
    "# 날짜 형식 변환\n",
    "# strftime() : 날짜를 문자열로 바꿔주는 역할\n",
    "# strptime() : 문자열을 날짜로 변환\n",
    "\n",
    "strDate = \"2023-2-24 11:56:30\"\n",
    "d = datetime.datetime.strptime(strDate, \"%Y-%m-%d %H:%M:%S\") #데이터의 형식과 꼭 맞춰줘야함\n",
    "print(d)\n",
    "print(type(d))"
   ]
  },
  {
   "cell_type": "markdown",
   "id": "2f409886",
   "metadata": {},
   "source": [
    "## 9. 파일 처리\n",
    "\n",
    "- open(파일 경로와 이름, mode)    # load : 보조기억장치에서 주기억장치로 올려주는 것\n",
    "    - model : r(default), w, a, rb, wb, ab 196p\n",
    "- close()\n",
    "\n",
    "\n",
    "- 읽어올 때 : readline(), readlines(), read() #기본함수 목록에 없고 open만 있음\n",
    "              readline()은 한줄씩,     readlines(), read()는 한번에 전체를 읽어옴\n",
    "\n",
    "- 저장할 때 : write()"
   ]
  },
  {
   "cell_type": "code",
   "execution_count": 92,
   "id": "9b4d6af7",
   "metadata": {},
   "outputs": [],
   "source": [
    "f = open(\"mymodule.py\", \"r\")\n",
    "f = open(\"mymodule.py\", \"r\", encoding=\"utf-8\") #문자코드를 기존(cp949)에서 uff-8로 변경"
   ]
  },
  {
   "cell_type": "code",
   "execution_count": 109,
   "id": "e9fb95fd",
   "metadata": {},
   "outputs": [
    {
     "name": "stdout",
     "output_type": "stream",
     "text": [
      "def sum(num1, num2):\n",
      "\n",
      "\treturn num1 + num2\n",
      "\n",
      "\n",
      "\n",
      "def info(weight, height, name, **kwargs):\n",
      "\n",
      "\tprint(weight, height, name)\n",
      "\n",
      "\tprint(kwargs)\n",
      "\n",
      "\n",
      "\n",
      "COMPANY = \"파이썬 주식회사\"\n"
     ]
    }
   ],
   "source": [
    "f = open(\"mymodule.py\", \"r\")\n",
    "f = open(\"mymodule.py\", \"r\", encoding=\"utf-8\")\n",
    "#print(f.readline())\n",
    "#print(f.readline())\n",
    "#print(f.readline())\n",
    "#print(f.readline())\n",
    "#print(f.readline())\n",
    "\n",
    "while True:\n",
    "    rline = f.readline() # bool(rline) == False\n",
    "    if not rline:\n",
    "        break\n",
    "        \n",
    "    print(rline)\n",
    "    \n",
    "f.close()   #이걸 안하면 메모리 낭비가 쌓임"
   ]
  },
  {
   "cell_type": "code",
   "execution_count": 112,
   "id": "d5767024",
   "metadata": {},
   "outputs": [
    {
     "name": "stdout",
     "output_type": "stream",
     "text": [
      "def sum(num1, num2):\n",
      "\n",
      "\treturn num1 + num2\n",
      "\n",
      "\n",
      "\n",
      "def info(weight, height, name, **kwargs):\n",
      "\n",
      "\tprint(weight, height, name)\n",
      "\n",
      "\tprint(kwargs)\n",
      "\n",
      "\n",
      "\n",
      "COMPANY = \"파이썬 주식회사\"\n"
     ]
    }
   ],
   "source": [
    "f = open(\"mymodule.py\", \"r\", encoding=\"utf-8\")\n",
    "while True:\n",
    "    rline = f.readline()\n",
    "    if bool(rline) == False:\n",
    "        break\n",
    "        \n",
    "    print(rline)\n",
    "    \n",
    "f.close()   #이걸 안하면 메모리 낭비가 쌓임"
   ]
  },
  {
   "cell_type": "code",
   "execution_count": 121,
   "id": "aa6c35a0",
   "metadata": {},
   "outputs": [
    {
     "name": "stdout",
     "output_type": "stream",
     "text": [
      "123456789\n",
      "\n"
     ]
    }
   ],
   "source": [
    "#상대경로 : 현재의 기준으로 위치가 바뀌는, (. .. 폴더이름)으로 시작하는 \n",
    "#f = open(\"data/filetest1.txt\", encoding=\"utf-8\") \n",
    "#f = open(\".data/filetest1.txt\", encoding=\"utf-8\") # . 하나인경우(현재 폴더에서 찾아라) \n",
    "\n",
    "f = open(\"../data/filetest1.txt\", encoding=\"utf-8\") # ../ 점 2개의 경우(상위폴더로 가서 찾아라)\n",
    "print(f.readline())\n",
    "f.close()\n",
    "\n",
    "\n"
   ]
  },
  {
   "cell_type": "code",
   "execution_count": 124,
   "id": "70f62289",
   "metadata": {},
   "outputs": [
    {
     "name": "stdout",
     "output_type": "stream",
     "text": [
      "['123456789\\n', 'abcdefg\\n', '가나다라마바사\\n', 'あえいおう']\n"
     ]
    }
   ],
   "source": [
    "\n",
    "# 절대경로\n",
    "# 로컬경로 : c드라이브/\\어딘가 방식으로 찾아가는 것\n",
    "# 가상경로 : url.어딘가 방식으로 찾아가는 것\n",
    "\n",
    "# f = open(\"C:\\kimhotak13\\PythonWork\\data\\filetest1.txt\", encoding=\"utf-8\") \n",
    "# \\를 특수문자로 인식하기 때문에 \\를 하나 더 \\\\로해야 인식, /로 해줘도 괜찮지만 /로 표시하는 것은 리눅스방식.\n",
    "\n",
    "f = open(\"C:\\\\kimhotak13\\\\PythonWork\\\\data\\\\filetest1.txt\", encoding=\"utf-8\")\n",
    "print(f.readlines()) # readlines 이기 때문에 한줄이 아니라 전부\n",
    "\n",
    "f.close()"
   ]
  },
  {
   "cell_type": "code",
   "execution_count": 128,
   "id": "12f4037e",
   "metadata": {},
   "outputs": [
    {
     "name": "stdout",
     "output_type": "stream",
     "text": [
      "123456789\n",
      "\n",
      "abcdefg\n",
      "\n",
      "가나다라마바사\n",
      "\n",
      "あえいおう\n"
     ]
    }
   ],
   "source": [
    "f = open(\"C:\\\\kimhotak13\\\\PythonWork\\\\data\\\\filetest1.txt\", encoding=\"utf-8\")\n",
    "\n",
    "for i in f.readlines():\n",
    "    print(i) #줄바꿈 삭제 : print(i, end='')"
   ]
  },
  {
   "cell_type": "code",
   "execution_count": 131,
   "id": "84b54fd6",
   "metadata": {},
   "outputs": [
    {
     "name": "stdout",
     "output_type": "stream",
     "text": [
      "123456789\n",
      "abcdefg\n",
      "가나다라마바사\n",
      "あえいおう\n",
      "<class 'str'>\n"
     ]
    }
   ],
   "source": [
    "f = open(\"data/filetest1.txt\", encoding=\"utf-8\") \n",
    "\n",
    "print(f.read()) #전체를 문자열로 넘겨줌\n",
    "print(type(f.read()))\n",
    "\n",
    "f.close()"
   ]
  },
  {
   "cell_type": "code",
   "execution_count": 134,
   "id": "0ad8961f",
   "metadata": {},
   "outputs": [
    {
     "name": "stdout",
     "output_type": "stream",
     "text": [
      "123456789\n",
      "abcdefg\n",
      "가나다라마바사\n",
      "あえいおう\n"
     ]
    }
   ],
   "source": [
    "f = open(\"data/filetest1.txt\", encoding=\"utf-8\") \n",
    "\n",
    "print(f.read())\n",
    "\n",
    "f.close()"
   ]
  },
  {
   "cell_type": "code",
   "execution_count": 137,
   "id": "2072a821",
   "metadata": {},
   "outputs": [
    {
     "data": {
      "text/plain": [
       "['홍길동', '임꺽정', '유비']"
      ]
     },
     "execution_count": 137,
     "metadata": {},
     "output_type": "execute_result"
    }
   ],
   "source": [
    "\"홍길동,임꺽정,유비\".split(\",\")"
   ]
  },
  {
   "cell_type": "code",
   "execution_count": 138,
   "id": "1000a41a",
   "metadata": {},
   "outputs": [
    {
     "name": "stdout",
     "output_type": "stream",
     "text": [
      "['123456789', 'abcdefg', '가나다라마바사', 'あえいおう']\n"
     ]
    }
   ],
   "source": [
    "f = open(\"data/filetest1.txt\", encoding=\"utf-8\") \n",
    "\n",
    "data = f.read()\n",
    "sdata = data.split(\"\\n\") # 숨어있는 \\n을 기준으로 split\n",
    "print(sdata)\n",
    "\n",
    "f.close()"
   ]
  },
  {
   "cell_type": "code",
   "execution_count": 140,
   "id": "194ef6af",
   "metadata": {},
   "outputs": [
    {
     "name": "stdout",
     "output_type": "stream",
     "text": [
      "1 : 123456789\n",
      "2 : abcdefg\n",
      "3 : 가나다라마바사\n",
      "4 : あえいおう\n"
     ]
    }
   ],
   "source": [
    "f = open(\"data/filetest1.txt\", encoding=\"utf-8\") \n",
    "\n",
    "data = f.read()\n",
    "sdata = data.split(\"\\n\") \n",
    "cnt = 1\n",
    "for line in sdata: #for 반복문을 통해서 줄번호 작성\n",
    "    print(cnt, \":\", line)\n",
    "    cnt += 1\n",
    "\n",
    "f.close()"
   ]
  },
  {
   "cell_type": "code",
   "execution_count": 141,
   "id": "a549d7b4",
   "metadata": {},
   "outputs": [
    {
     "name": "stdout",
     "output_type": "stream",
     "text": [
      "1 : 123456789\n",
      "2 : abcdefg\n",
      "3 : 가나다라마바사\n",
      "4 : あえいおう\n"
     ]
    }
   ],
   "source": [
    "f = open(\"data/filetest1.txt\", encoding=\"utf-8\") \n",
    "\n",
    "data = f.read()\n",
    "sdata = data.split(\"\\n\") \n",
    "\n",
    "for no, line in enumerate(sdata, start = 1): #enumerate DOC를 보면 시작값을 정할 수 있다\n",
    "    print(no , \":\", line)\n",
    "    \n",
    "\n",
    "f.close()"
   ]
  },
  {
   "cell_type": "code",
   "execution_count": 145,
   "id": "582ffcda",
   "metadata": {},
   "outputs": [],
   "source": [
    "f = open(file = \"data/filetest2.txt\", mode = \"w\") #정식으로 작성하면 순서가 틀려도 괜찮지만, 순서가 맞으면 생략한다.\n",
    "# 저장할 때는 없으면 새로 만들어준다.\n",
    "# print()는 화면에 그냥 결과를 보여주는 것이고, .write()는 파일을 만들어서 출력하는 것\n",
    "\n",
    "f.write(\"이름 : 홍길동\\n\")\n",
    "f.write(\"전화 : 010-1238-4567\\n\")\n",
    "f.write(\"주소 : 서울시\\n\\n\")\n",
    "\n",
    "f.close()"
   ]
  },
  {
   "cell_type": "code",
   "execution_count": 146,
   "id": "e939cf36",
   "metadata": {},
   "outputs": [],
   "source": [
    "f = open(file = \"data/filetest2.txt\", mode = \"a\") # 'a'  \topen for writing, appending to the end of file if it exists\n",
    "\n",
    "f.write(\"이름 : 홍길동\\n\") \n",
    "f.write(\"전화 : 010-1238-4567\\n\")\n",
    "f.write(\"주소 : 서울시\\n\\n\")\n",
    "\n",
    "f.close()"
   ]
  },
  {
   "cell_type": "code",
   "execution_count": 149,
   "id": "d32912bb",
   "metadata": {
    "scrolled": true
   },
   "outputs": [],
   "source": [
    "##### CSV 형식으로 파일 출력(저장)\n",
    "\n",
    "nums = [11, 21, 31, 41, 51, 61, 71, 81, 91]\n",
    "\n",
    "f = open(\"data/filetest3.txt\", 'w')\n",
    "f.write(str(nums))\n",
    "\n",
    "f.close()"
   ]
  },
  {
   "cell_type": "code",
   "execution_count": 152,
   "id": "8fb84d2f",
   "metadata": {},
   "outputs": [],
   "source": [
    "\n",
    "nums = [11, 21, 31, 41, 51, 61, 71, 81, 91]\n",
    "\n",
    "f = open(\"data/filetest4.csv\", 'w')\n",
    "\n",
    "for i in nums:\n",
    "    f.write(str(i) + \",\") #wirte는 인자가 1개이므로 (str(i), \",\")처럼 쓸 수가 없음. 그래서 +로 붙여준다.\n",
    "                            #\",\"가 없으면 모든 값이 공백없이 붙어서 나옴 ex) 112131415161718191\n",
    "\n",
    "f.close()"
   ]
  },
  {
   "cell_type": "code",
   "execution_count": 155,
   "id": "bfeb756d",
   "metadata": {},
   "outputs": [],
   "source": [
    "\n",
    "nums = [11, 21, 31, 41, 51, 61, 71, 81, 91]\n",
    "\n",
    "f = open(\"data/filetest5.txt\", 'w')  #filetest4.txt의 마지막 91뒤에 생긴 ,를 제거하기 위해 enumerate추가\n",
    "\n",
    "for idx, value in enumerate(nums):\n",
    "    if idx < len(nums)-1:         # 마지막 위치가 아닐 경우 , 추가\n",
    "        f.write(str(value) + \",\") # value를 문자열로 바꿔서 입력\n",
    "    else:\n",
    "        f.write(str(value))       # 마지막 위치일 경우 그냥 저장\n",
    "\n",
    "f.close()"
   ]
  },
  {
   "cell_type": "code",
   "execution_count": 159,
   "id": "849d290a",
   "metadata": {},
   "outputs": [
    {
     "data": {
      "text/plain": [
       "'a,b,c,d,e,f,g'"
      ]
     },
     "execution_count": 159,
     "metadata": {},
     "output_type": "execute_result"
    }
   ],
   "source": [
    "dir(str)\n",
    "\n",
    "\"^\".join(\"abcdefg\")\n",
    "\n",
    "\n",
    "\",\".join(\"abcdefg\")"
   ]
  },
  {
   "cell_type": "code",
   "execution_count": 164,
   "id": "7c07f787",
   "metadata": {},
   "outputs": [
    {
     "data": {
      "text/plain": [
       "'11,21,31,41,51,61,71,81,91'"
      ]
     },
     "execution_count": 164,
     "metadata": {},
     "output_type": "execute_result"
    }
   ],
   "source": [
    "# \",\".join(nums) 문자열이 아니므로 에러\n",
    "\n",
    "\",\".join([str(i) for i in nums])"
   ]
  },
  {
   "cell_type": "code",
   "execution_count": 165,
   "id": "6eb9a47c",
   "metadata": {},
   "outputs": [],
   "source": [
    "f = open(\"data/filetest6.txt\", 'w') #join을 이용해서 마지막 ,가 나오는 것을 해결\n",
    "\n",
    "f.write(\",\".join([str(i) for i in nums]))\n",
    "\n",
    "f.close()"
   ]
  },
  {
   "cell_type": "code",
   "execution_count": 166,
   "id": "f7df42f8",
   "metadata": {},
   "outputs": [],
   "source": [
    "with open(\"data/filetest7.txt\", 'w') as f: #with로 묶어두면 이것을 벗어났을 때 자동으로 종료가됨. close를 안쓰는 것을 방지\n",
    "    f.write(\",\".join([str(i) for i in nums]))"
   ]
  },
  {
   "cell_type": "markdown",
   "id": "9afdf85e",
   "metadata": {},
   "source": [
    "#### glob : 동시에 여러 개의 파일을 읽어올 때 사용"
   ]
  },
  {
   "cell_type": "code",
   "execution_count": 167,
   "id": "2f73af2b",
   "metadata": {},
   "outputs": [],
   "source": [
    "import glob"
   ]
  },
  {
   "cell_type": "code",
   "execution_count": 171,
   "id": "a7bcbeaf",
   "metadata": {},
   "outputs": [
    {
     "name": "stdout",
     "output_type": "stream",
     "text": [
      "[' 연습장.ipynb', '1-MarkDown.ipynb', '2-변수와 자료형.ipynb', '3-제어문 백업.ipynb', '3-제어문.ipynb', '4-함수.ipynb', '99 -2변수와 자료형의 백업.ipynb', 'data', 'images', 'mymodule.py', 'temp.py', 'test.py', 'test2.py', 'Untitled.ipynb', 'Untitled1.ipynb', 'Untitled2.ipynb', '__pycache__']\n",
      "----------------------------------------\n",
      "[' 연습장.ipynb', '1-MarkDown.ipynb', '2-변수와 자료형.ipynb', '3-제어문 백업.ipynb', '3-제어문.ipynb', '4-함수.ipynb', '99 -2변수와 자료형의 백업.ipynb', 'mymodule.py', 'temp.py', 'test.py', 'test2.py', 'Untitled.ipynb', 'Untitled1.ipynb', 'Untitled2.ipynb']\n",
      "----------------------------------------\n",
      "[' 연습장.ipynb', '1-MarkDown.ipynb', '2-변수와 자료형.ipynb', '3-제어문 백업.ipynb', '3-제어문.ipynb', '4-함수.ipynb', '99 -2변수와 자료형의 백업.ipynb', 'Untitled.ipynb', 'Untitled1.ipynb', 'Untitled2.ipynb']\n"
     ]
    }
   ],
   "source": [
    "files = glob.glob(\"*\") # 현재 위치에 있는 모든 것의 이름을 불러오고 싶다.\n",
    "print(files) # 리스트로 나왔기 때문에 인덱스가 있고, 인덱스를 통해 반복문을 사용할 수 있다(open이라던가)\n",
    "\n",
    "line2()\n",
    "\n",
    "files = glob.glob(\"*.*\") # 확장자가 있는 것만 불러오고 싶다. 파일만\n",
    "print(files)\n",
    "\n",
    "line2()\n",
    "\n",
    "files = glob.glob(\"*.ipynb\") # 특정확장자가 있는 것만 불러오고 싶다. 구체적인 확장자명\n",
    "print(files)\n"
   ]
  },
  {
   "cell_type": "markdown",
   "id": "93288207",
   "metadata": {},
   "source": [
    "#### 예제\n",
    "\n",
    "- 연습문제 205, 206p\n",
    "- 고객관리 프로그램을 파일처리\n",
    "    - 고객 이름, 전화번호, 주소까지 입력받아서 저장"
   ]
  },
  {
   "cell_type": "code",
   "execution_count": null,
   "id": "ff4e1585",
   "metadata": {},
   "outputs": [],
   "source": []
  },
  {
   "cell_type": "code",
   "execution_count": 1,
   "id": "13a92532",
   "metadata": {},
   "outputs": [
    {
     "name": "stdout",
     "output_type": "stream",
     "text": [
      "동이름 입력:역삼2\n",
      "[135-703]서울 강남구 역삼2동 과학기술회관\n",
      "\n",
      "[135-911]서울 강남구 역삼2동 그레이스타워\n",
      "\n",
      "[135-707]서울 강남구 역삼2동 남영빌딩\n",
      "\n"
     ]
    }
   ],
   "source": [
    "## 205p 6-1 연습문제\n",
    "\n",
    "dong = input('동이름 입력:')\n",
    "\n",
    "f = open('zipcode.txt', mode='r', encoding='UTF-8') \n",
    "line = f.readline()\n",
    "while line:\n",
    "    lines = line.split('\\t')\n",
    "        \n",
    "    if lines[3].startswith(dong):\n",
    "        print('[' + lines[0] + ']' + lines[1] + ' ' + lines[2] + ' ' + lines[3])\n",
    "\n",
    "    line = f.readline()  # 다음 행 읽기\n",
    "\n",
    "f.close()\n"
   ]
  },
  {
   "cell_type": "code",
   "execution_count": 2,
   "id": "08f8d652",
   "metadata": {},
   "outputs": [
    {
     "name": "stdout",
     "output_type": "stream",
     "text": [
      "합은  15.0\n",
      "합은  5.0\n",
      "합은  15.3\n",
      "합은  4.7\n",
      "합은  150.0\n"
     ]
    }
   ],
   "source": [
    "## 206p 6-2 연습문제\n",
    "\n",
    "f = open('numbers.txt', 'r')\n",
    "\n",
    "while True:\n",
    "    line = f.readline()\n",
    "    if not line:\n",
    "        break\n",
    "    row = line.split()\n",
    "    #print(row)\n",
    "\n",
    "    tot = 0\n",
    "    for i in row:\n",
    "        tot = tot + float(i)\n",
    "\n",
    "    print('합은 ', tot)\n",
    "\n",
    "f.close()"
   ]
  }
 ],
 "metadata": {
  "kernelspec": {
   "display_name": "Python 3 (ipykernel)",
   "language": "python",
   "name": "python3"
  },
  "language_info": {
   "codemirror_mode": {
    "name": "ipython",
    "version": 3
   },
   "file_extension": ".py",
   "mimetype": "text/x-python",
   "name": "python",
   "nbconvert_exporter": "python",
   "pygments_lexer": "ipython3",
   "version": "3.9.13"
  }
 },
 "nbformat": 4,
 "nbformat_minor": 5
}
