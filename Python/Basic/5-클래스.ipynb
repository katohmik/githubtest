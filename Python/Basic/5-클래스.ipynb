{
 "cells": [
  {
   "cell_type": "markdown",
   "id": "2da1a42a",
   "metadata": {},
   "source": [
    "## 1. 특징\n",
    "\n",
    "- 묶음(코드 블럭)\n",
    "    - 함수(메서드, 멤버함수), 변수(멤버변수(테이블의 필드와 같은 역할을 하는))\n",
    "    - 여러 개의 함수를 묶어서 좀 더 큰 단위의 모듈로 관리\n",
    "    \n",
    "- 설계도(추상적)\n",
    "    - 객체(object, 만들어진 실물), 인스턴스(instance)\n",
    "   \n",
    "   \n",
    "- 클래스와 객체의 의미를 명확하게 알 수 있어야 함 : 클래스는 설계도이고, 설계도로 무언가를 만든 것이 객체이다.\n"
   ]
  },
  {
   "cell_type": "markdown",
   "id": "32f30883",
   "metadata": {},
   "source": [
    "## 2. 클래스 작성 방법\n",
    "\n",
    "    class 이름 :\n",
    "        변수\n",
    "        함수\n",
    "     \n",
    "     \n",
    "     또는\n",
    "     \n",
    "     \n",
    "     class 이름(...) :\n",
    "         변수\n",
    "         함수\n",
    "         \n",
    "    ※ 객체의 특징\n",
    "        1) 다형성(polymorphism) : 하나의 객체가 다양한 기능을 가짐\n",
    "        2) 추상화, 은닉성, 캡슐화(encapsulation)\n",
    "        3) 상속성(inheritance) "
   ]
  },
  {
   "cell_type": "code",
   "execution_count": null,
   "id": "308f1690",
   "metadata": {},
   "outputs": [],
   "source": [
    "class Test:\n",
    "    a = 10\n",
    "    def show(self):\n",
    "        print(\"Test 클래스\")\n",
    "    \n",
    "#############################################################\n",
    "\n",
    "#print(a) #저장되어 있지 않은 상태\n",
    "#show()\n",
    "\n",
    "#Test() #class이름으로 부르는 순간, 메모리에 a라는 공간에 10이라는 변수가 저장되고, 함수도 저장이 된다. 그 이전에는 저장x\n",
    "#print(Test()) #Test라는 이름의 설계도가 저장된 메모리의 시작지점을 표시\n",
    "#print(Test().a) # 10이 나옴\n",
    "#Test().a = 100\n",
    "#print(Test().a) # 위에서 100을 지정했으나 그대로 10이 나옴\n",
    "\n",
    "ob1 = Test() # ob1이라는 주소를 저장해두고 이 주소를 통해 불러옴\n",
    "print(ob1.a)\n",
    "ob1.a = 100 # ob1이라는 주소를 통해 값을 새로 지정했더니\n",
    "print(ob1.a) # 이번에는 위에서 새로 만들어진 Test()가 아닌 기존의 주소값이 지정됨\n",
    "\n",
    "ob1.show()\n",
    "print(ob1) #주소값이 나오면 클래스, 값이 나오면 함수이지만 구별이 안되는 경우도 있으므로 굳이 구별할 필요는 없음"
   ]
  },
  {
   "cell_type": "code",
   "execution_count": 3,
   "id": "36e96a19",
   "metadata": {},
   "outputs": [],
   "source": [
    "class Person:\n",
    "    nation = \"한국\"\n",
    "    name = str()\n",
    "    age = int()\n",
    "    height = float()\n",
    "    hobbies = []\n",
    "    \n",
    "    def show(self):\n",
    "        print(\"국가 : \", self.nation)\n",
    "        print(\"이름 : \", self.name)\n",
    "        print(\"나이 : \", self.age)\n",
    "        print(\"신장 : \", self.height)\n",
    "        print(\"취미 : \", self.hobbies)\n",
    "\n"
   ]
  },
  {
   "cell_type": "code",
   "execution_count": 7,
   "id": "d7b3db5a",
   "metadata": {},
   "outputs": [
    {
     "name": "stdout",
     "output_type": "stream",
     "text": [
      "국가 :  한국\n",
      "이름 :  홍길동\n",
      "나이 :  20\n",
      "신장 :  174.5\n",
      "취미 :  ['낚시', '독서', '운동']\n",
      "국가 :  한국\n",
      "이름 :  임꺽정\n",
      "나이 :  21\n",
      "신장 :  175.5\n",
      "취미 :  ['낚', '독', '운']\n",
      "국가 :  한국\n",
      "이름 :  유비\n",
      "나이 :  22\n",
      "신장 :  176.5\n",
      "취미 :  ['시', '서', '동']\n"
     ]
    }
   ],
   "source": [
    "p1 = Person()\n",
    "p1.nation = \"한국\"\n",
    "p1.name = \"홍길동\"\n",
    "p1.age = 20\n",
    "p1.height = 174.5\n",
    "p1.hobbies = [\"낚시\", \"독서\", \"운동\"]\n",
    "\n",
    "p2 = Person()\n",
    "p2.nation = \"한국\"\n",
    "p2.name = \"임꺽정\"\n",
    "p2.age = 21\n",
    "p2.height = 175.5\n",
    "p2.hobbies = [\"낚\", \"독\", \"운\"]\n",
    "\n",
    "\n",
    "p3 = Person()\n",
    "p3.nation = \"한국\"\n",
    "p3.name = \"유비\"\n",
    "p3.age = 22\n",
    "p3.height = 176.5\n",
    "p3.hobbies = [\"시\", \"서\", \"동\"]\n",
    "\n",
    "#1.show()\n",
    "#2.show()\n",
    "#3.show()\n",
    "\n",
    "p = [p1, p2, p3]\n",
    "len(p)\n",
    "for i in range(len(p)):\n",
    "    p[i].show()"
   ]
  },
  {
   "cell_type": "markdown",
   "id": "876fa1fd",
   "metadata": {},
   "source": [
    "### (1) self\n",
    "\n",
    "- 현재 사용중인 객체의 주소를 저장하고 있는 참조변수\n",
    "- 다른 언어의 this라는 것과 같은 의미"
   ]
  },
  {
   "cell_type": "code",
   "execution_count": 25,
   "id": "ef8e1952",
   "metadata": {},
   "outputs": [],
   "source": [
    "class Test: #클래스 안의 변수 a b c는 멤버변수, setValue 안의 변수는 지역변수\n",
    "    a = int()\n",
    "    b = float()\n",
    "    c = str()\n",
    "    \n",
    "    def show(self):            #class의 함수에는 매개변수가 반드시 필요하다.\n",
    "        print(self.a, self.b, self.c) #매개변수의 주소를 입력\n",
    "        \n",
    "    def setValue(self, a, b, c): #함수 안의 매개변수는 꺼내서 쓸 수가 없음(지역변수), setValue안에서만 존재하는 변수\n",
    "        self.a = a               # 보통 m_와 같이 앞에 무언가를 붙여줌\n",
    "        self.b = b\n",
    "        self.c = c"
   ]
  },
  {
   "cell_type": "code",
   "execution_count": 21,
   "id": "5c88ff69",
   "metadata": {},
   "outputs": [
    {
     "name": "stdout",
     "output_type": "stream",
     "text": [
      "10 10.1 홍길동\n",
      "20 20.1 임꺽정\n",
      "30 30.4 유비\n"
     ]
    }
   ],
   "source": [
    "t1, t2, t3 = Test(), Test(), Test()\n",
    "\n",
    "t1.a = 10\n",
    "t1.b = 10.1\n",
    "t1.c = \"홍길동\"\n",
    "\n",
    "t2.a = 20\n",
    "t2.b = 20.1\n",
    "t2.c = \"임꺽정\"\n",
    "\n",
    "t3.a = 30\n",
    "t3.b = 30.3\n",
    "t3.c = \"유비\"\n",
    "\n",
    "t1.show()\n",
    "t2.show()\n",
    "\n",
    "t3.setValue(30, 30.4, \"유비\")\n",
    "\n",
    "t3.show()"
   ]
  },
  {
   "cell_type": "markdown",
   "id": "9121c176",
   "metadata": {},
   "source": [
    "### (2) 생성자(constructor)와 소멸자(deconstructor)\n",
    "\n",
    "- 객체를 생성하는 용도\n",
    "- 객체를 생성할 때 단 한번만 호출된다.\n",
    "- 초기화 목적으로 사용"
   ]
  },
  {
   "cell_type": "code",
   "execution_count": 1,
   "id": "060de996",
   "metadata": {},
   "outputs": [],
   "source": [
    "class Test:\n",
    "    a = int()\n",
    "    b = float()\n",
    "    \n",
    "    def setVal(self, a, b):\n",
    "        self.a = a\n",
    "        self.b = b\n",
    "        \n",
    "    def __init__(self, a=0, b=None): # 객체를 생성할 때 무조건 호출되는 함수 #default 적용하지 않으면 마로 밑 쉘에서 오류발생\n",
    "        self.a = a\n",
    "        self.b = b\n",
    "        \n",
    "    def __del__(self):\n",
    "        print(\"소멸자 호출\")\n",
    "\n",
    "class Test2:\n",
    "    pass                             #아무것도 없는 것처럼 보여도 def __init__가 생략되어 있음\n",
    "    "
   ]
  },
  {
   "cell_type": "code",
   "execution_count": 2,
   "id": "00952c18",
   "metadata": {},
   "outputs": [],
   "source": [
    "ob1 = Test() #defualt값이 적용되어 있으므로, 이렇게 비워둬도 실행가능\n",
    "ob1.a = 10\n",
    "ob1.b = 10.1\n",
    "\n",
    "\n",
    "ob1.setVal(20, 20.1)"
   ]
  },
  {
   "cell_type": "code",
   "execution_count": 3,
   "id": "cf82d985",
   "metadata": {},
   "outputs": [
    {
     "name": "stdout",
     "output_type": "stream",
     "text": [
      "소멸자 호출\n"
     ]
    }
   ],
   "source": [
    "ob1 = Test(10, 10.1)\n",
    "ob2 = Test(20, 20.1)"
   ]
  },
  {
   "cell_type": "code",
   "execution_count": 4,
   "id": "95a4493a",
   "metadata": {},
   "outputs": [
    {
     "data": {
      "text/plain": [
       "<__main__.Test2 at 0x1b88b4ed040>"
      ]
     },
     "execution_count": 4,
     "metadata": {},
     "output_type": "execute_result"
    }
   ],
   "source": [
    "Test2()"
   ]
  },
  {
   "cell_type": "code",
   "execution_count": 5,
   "id": "d1585204",
   "metadata": {},
   "outputs": [
    {
     "name": "stdout",
     "output_type": "stream",
     "text": [
      "소멸자 호출\n"
     ]
    }
   ],
   "source": [
    "del ob1"
   ]
  },
  {
   "cell_type": "code",
   "execution_count": 47,
   "id": "3e9be886",
   "metadata": {},
   "outputs": [
    {
     "name": "stdout",
     "output_type": "stream",
     "text": [
      "소멸자 호출\n",
      "<class '__main__.Test'> <class '__main__.Test2'>\n",
      "True\n",
      "False\n"
     ]
    }
   ],
   "source": [
    "##### isinstance() = 이 instance로 만든 것이 맞냐고 확인하는 함수\n",
    "\n",
    "ob1 = Test()\n",
    "ob2 = Test2()\n",
    "\n",
    "print(type(ob1), type(ob2))\n",
    "\n",
    "print(isinstance(ob1, Test))\n",
    "print(isinstance(ob1, Test2))"
   ]
  },
  {
   "cell_type": "markdown",
   "id": "a246f061",
   "metadata": {},
   "source": [
    "### (3) 정적변수, 정적 메서드\n",
    "\n",
    "- 동일한 공간을 모든 객체들이 공동으로 사용\n",
    "- 클래스 변수, 클래스 메서드"
   ]
  },
  {
   "cell_type": "code",
   "execution_count": 133,
   "id": "2a1b92c4",
   "metadata": {},
   "outputs": [],
   "source": [
    "class Test:\n",
    "    a = int()\n",
    "    b = float()\n",
    "    c = str()\n",
    "    \n",
    "    def show(self):                   #class의 이름으로 접근할 경우 공동으로 사용가능\n",
    "        print(self.a, self.b, Test.c) #self가 아닌 Test의 c로 입력했기에 공동으로 사용가능\n",
    "     \n",
    "    @staticmethod                     #객체마다 만들어지는 method가 아닌 원본을 부르고 싶을 때 입력 # Decorator #타언어 annotation\n",
    "    def display():                   #display는 self를 쓰지않음\n",
    "        print(Test.a, Test.b, Test.c)"
   ]
  },
  {
   "cell_type": "code",
   "execution_count": 134,
   "id": "e0aff32b",
   "metadata": {},
   "outputs": [
    {
     "name": "stdout",
     "output_type": "stream",
     "text": [
      "10 10.1 30\n",
      "20 20.1 30\n",
      "0 0.0 30\n",
      "0 0.0 30\n"
     ]
    }
   ],
   "source": [
    "ob1 = Test()\n",
    "ob2 = Test()\n",
    "\n",
    "ob1.a = 10\n",
    "ob1.b = 10.1\n",
    "\n",
    "ob2.a = 20\n",
    "ob2.b = 20.1\n",
    "\n",
    "Test.c = 30\n",
    "\n",
    "ob1.show()\n",
    "ob2.show()\n",
    "\n",
    "Test.display()\n",
    "ob1.display()"
   ]
  },
  {
   "cell_type": "code",
   "execution_count": 76,
   "id": "aff671ac",
   "metadata": {},
   "outputs": [
    {
     "name": "stdout",
     "output_type": "stream",
     "text": [
      "객체의 수 :  3\n",
      "객체의 수 :  3\n",
      "객체의 수 :  3\n",
      "객체의 수 :  3\n"
     ]
    }
   ],
   "source": [
    "##### 객체의 수를 카운팅\n",
    "\n",
    "class Counter:\n",
    "    m_cnt = 0\n",
    "    \n",
    "    def __init__(self):\n",
    "        Counter.m_cnt += 1 #self.m_cnt가 아닌 클래스명을 써야 한곳에 모을 수 있음\n",
    "    \n",
    "    \n",
    "    @staticmethod\n",
    "    def show():           #show(self)가 아니라 show()를 지정하고 @staticmethod를 달아줌 #이렇게 했더니 객체의수가 1에서 3으로 바뀜\n",
    "        print(\"객체의 수 : \", Counter.m_cnt)\n",
    "        \n",
    "###################################################\n",
    "\n",
    "a, b, c = Counter(), Counter(), Counter()\n",
    "\n",
    "a.show()\n",
    "b.show()\n",
    "c.show()\n",
    "\n",
    "Counter.show()"
   ]
  },
  {
   "cell_type": "code",
   "execution_count": 77,
   "id": "390f45c9",
   "metadata": {},
   "outputs": [
    {
     "data": {
      "text/plain": [
       "'\\ne1 = Employee(1111, \"홍길동\", 1000000, [\"여행\", \"낚시\", \"운동\"])\\ne1.display()\\n\\n결과 :\\n    사번 : 1111\\n    이름 : 홍길동\\n    급여 : 1000000\\n    취미 : 여행, 낚시, 운동\\n    \\ne2 = Employee(1112, \"임꺽정\", 1200000, [\"자전거\", \"볼링\"])\\ne3 = Employee(1113, \"신돌석\", 1400000, [\"독서\"])\\n\\ntotal = Employee.getCount()\\nprint(\"인원수 : \", total)\\n\\n# 데이터 수정\\ne3.setSalary(2000000)\\ne3.appendHobby(\"피아노\", \"드론\")\\ne3.display()\\n\\n결과 :\\n    사번 : 1113\\n    이름 : 신돌석\\n    급여 : 2000000\\n    취미 : 독서, 피아노, 드론\\n'"
      ]
     },
     "execution_count": 77,
     "metadata": {},
     "output_type": "execute_result"
    }
   ],
   "source": [
    "##### 예제1\n",
    "\n",
    "\"\"\"\n",
    "e1 = Employee(1111, \"홍길동\", 1000000, [\"여행\", \"낚시\", \"운동\"])\n",
    "e1.display()\n",
    "\n",
    "결과 :\n",
    "    사번 : 1111\n",
    "    이름 : 홍길동\n",
    "    급여 : 1000000\n",
    "    취미 : 여행, 낚시, 운동\n",
    "    \n",
    "e2 = Employee(1112, \"임꺽정\", 1200000, [\"자전거\", \"볼링\"])\n",
    "e3 = Employee(1113, \"신돌석\", 1400000, [\"독서\"])\n",
    "\n",
    "total = Employee.getCount()\n",
    "print(\"인원수 : \", total)\n",
    "\n",
    "# 데이터 수정\n",
    "e3.setSalary(2000000)\n",
    "e3.appendHobby(\"피아노\", \"드론\")\n",
    "e3.display()\n",
    "\n",
    "결과 :\n",
    "    사번 : 1113\n",
    "    이름 : 신돌석\n",
    "    급여 : 2000000\n",
    "    취미 : 독서, 피아노, 드론\n",
    "\"\"\""
   ]
  },
  {
   "cell_type": "code",
   "execution_count": 135,
   "id": "855a497d",
   "metadata": {},
   "outputs": [],
   "source": [
    "class Employee: \n",
    "    m_cnt = 0\n",
    "    \n",
    "    empno = int()\n",
    "    ename = str()\n",
    "    sal = int()\n",
    "    hobbies = []\n",
    "    \n",
    "    def __init__(self, empno, ename, sal, hobbies):\n",
    "        self.empno = empno\n",
    "        self.ename = ename\n",
    "        self.sal = sal\n",
    "        self.hobbies = hobbies\n",
    "        Employee.m_cnt += 1\n",
    "        \n",
    "    \n",
    "    def display(self):\n",
    "        print(\"사번 : \", self.empno)\n",
    "        print(\"이름 : \", self.ename)\n",
    "        print(\"급여 : \", self.sal)\n",
    "        print(\"취미 : \", self.hobbies)\n",
    "    \n",
    "    @staticmethod\n",
    "    def getCount():\n",
    "        return Employee.m_cnt\n",
    "    \n",
    "    def setSalary(self, newsal):\n",
    "        self.sal = newsal\n",
    "        \n",
    "    def appendHobby(self, *hobbies):\n",
    "        self.hobbies.extend(hobbies)\n",
    "        \n",
    "    "
   ]
  },
  {
   "cell_type": "code",
   "execution_count": 136,
   "id": "4cf3ef50",
   "metadata": {},
   "outputs": [
    {
     "name": "stdout",
     "output_type": "stream",
     "text": [
      "사번 :  1111\n",
      "이름 :  홍길동\n",
      "급여 :  1000000\n",
      "취미 :  ['여행', '낚시', '운동']\n",
      "사번 :  1112\n",
      "이름 :  임꺽정\n",
      "급여 :  1200000\n",
      "취미 :  ['자전거', '볼링']\n",
      "사번 :  1113\n",
      "이름 :  신돌석\n",
      "급여 :  1400000\n",
      "취미 :  ['독서']\n"
     ]
    }
   ],
   "source": [
    "e1 = Employee(1111, \"홍길동\", 1000000, [\"여행\", \"낚시\", \"운동\"])\n",
    "e1.display()\n",
    "\n",
    "e2 = Employee(1112, \"임꺽정\", 1200000, [\"자전거\", \"볼링\"])\n",
    "e3 = Employee(1113, \"신돌석\", 1400000, [\"독서\"])\n",
    "\n",
    "e2.display()\n",
    "e3.display()"
   ]
  },
  {
   "cell_type": "code",
   "execution_count": 137,
   "id": "c67f353f",
   "metadata": {},
   "outputs": [
    {
     "name": "stdout",
     "output_type": "stream",
     "text": [
      "인원수 :  3\n"
     ]
    }
   ],
   "source": [
    "total = Employee.getCount()\n",
    "print(\"인원수 : \", total)"
   ]
  },
  {
   "cell_type": "code",
   "execution_count": 138,
   "id": "9d322baa",
   "metadata": {},
   "outputs": [
    {
     "name": "stdout",
     "output_type": "stream",
     "text": [
      "사번 :  1113\n",
      "이름 :  신돌석\n",
      "급여 :  2000000\n",
      "취미 :  ['독서', '피아노', '드론']\n"
     ]
    }
   ],
   "source": [
    "e3.setSalary(2000000)\n",
    "e3.appendHobby(\"피아노\", \"드론\")\n",
    "e3.display()"
   ]
  },
  {
   "cell_type": "markdown",
   "id": "448126dd",
   "metadata": {},
   "source": [
    "### (4) 객체의 멤버변수를 실시간 추가\n",
    "\n",
    "- 원래 설계된 멤버변수 외에 객체별로 멤버변수를 추가할 수 있다."
   ]
  },
  {
   "cell_type": "code",
   "execution_count": 78,
   "id": "75c8bccd",
   "metadata": {},
   "outputs": [],
   "source": [
    "class Test:\n",
    "    a = 0\n",
    "    \n",
    "    def display(self):\n",
    "        print(self.a)"
   ]
  },
  {
   "cell_type": "code",
   "execution_count": 84,
   "id": "2c654d01",
   "metadata": {},
   "outputs": [
    {
     "name": "stdout",
     "output_type": "stream",
     "text": [
      "0\n",
      "0\n",
      "20\n"
     ]
    }
   ],
   "source": [
    "ob1 = Test()\n",
    "ob1.display()\n",
    "\n",
    "ob2 = Test()\n",
    "ob2.display()\n",
    "\n",
    "ob2.b = 20 # 클래스(설계도)에 없음에도 바로 적용시켜줌\n",
    "print(ob2.b) # ob2.b에 들어와있음을 확인\n",
    "\n",
    "# print(ob1.b) # ob2.b에는 있어도 ob1.b에는 없는 것을 확인"
   ]
  },
  {
   "cell_type": "markdown",
   "id": "0827398e",
   "metadata": {},
   "source": [
    "### (5) '_'와 '__'\n",
    "\n",
    "    1. _\n",
    "        기본 인터프리터에서 사용(마지막으로 사용된 결과값을 불러올 때)\n",
    "        값을 무시할 때\n",
    "        접근 권한(약한) 지정 : 강제성이 없고, 변수나 함수명 앞에 _를 붙여두고 암묵적인 규칙으로 활용\n",
    "        \n",
    "    2. __\n",
    "        접근 권한(강한) 지정"
   ]
  },
  {
   "cell_type": "code",
   "execution_count": null,
   "id": "23ea18f4",
   "metadata": {},
   "outputs": [],
   "source": [
    "_, a, b = 10, 20, 30\n",
    "a, _, b = 11, 22, 33\n",
    "_, _, a = 12, 23, 34"
   ]
  },
  {
   "cell_type": "code",
   "execution_count": 87,
   "id": "2ad4ddf9",
   "metadata": {},
   "outputs": [
    {
     "name": "stdout",
     "output_type": "stream",
     "text": [
      "10 60\n"
     ]
    }
   ],
   "source": [
    "a, _, _, _, _, b = (10, 20, 30, 40, 50, 60)\n",
    "a, *_, b = (10, 20, 30, 40, 50, 60)  # 중간에 값이 몇개가 있더라도 양끝만 구하겠다.\n",
    "\n",
    "print(a,b)"
   ]
  },
  {
   "cell_type": "code",
   "execution_count": 92,
   "id": "2efee65d",
   "metadata": {},
   "outputs": [
    {
     "name": "stdout",
     "output_type": "stream",
     "text": [
      "(0, '가')\n",
      "(1, '나')\n",
      "(2, '다')\n",
      "(3, '라')\n",
      "0\n",
      "1\n",
      "2\n",
      "3\n",
      "**********"
     ]
    }
   ],
   "source": [
    "for idx in enumerate(['가','나','다','라']):\n",
    "    print(idx)\n",
    "\n",
    "for idx, _ in enumerate(['가','나','다','라']):\n",
    "    print(idx)\n",
    "    \n",
    "for _ in range(10):\n",
    "    print(\"*\", end=\"\")"
   ]
  },
  {
   "cell_type": "code",
   "execution_count": 105,
   "id": "ed36e1ae",
   "metadata": {},
   "outputs": [],
   "source": [
    "class Test:\n",
    "    str1 = \"안녕하세요\"\n",
    "    _str2 = \"이것은 약간 위험한 변수이니 사용하지 마시오\"\n",
    "    __str3 = \"이것은 사용할 수 없을껄?\""
   ]
  },
  {
   "cell_type": "code",
   "execution_count": 111,
   "id": "e0d0bba3",
   "metadata": {},
   "outputs": [
    {
     "name": "stdout",
     "output_type": "stream",
     "text": [
      "안녕하세요\n",
      "이것은 약간 위험한 변수이니 사용하지 마시오\n",
      "이것은 사용할 수 없을껄?\n"
     ]
    }
   ],
   "source": [
    "ob1 = Test()\n",
    "print(ob1.str1)\n",
    "print(ob1._str2)\n",
    "#print(ob1.__str3)\n",
    "print(ob1._Test__str3) # __str3으로는 나오지 않던 것을 _Test__str3로 하니까 나옴"
   ]
  },
  {
   "cell_type": "code",
   "execution_count": 108,
   "id": "dba4c804",
   "metadata": {},
   "outputs": [
    {
     "data": {
      "text/plain": [
       "['_Test__str3',\n",
       " '__class__',\n",
       " '__delattr__',\n",
       " '__dict__',\n",
       " '__dir__',\n",
       " '__doc__',\n",
       " '__eq__',\n",
       " '__format__',\n",
       " '__ge__',\n",
       " '__getattribute__',\n",
       " '__gt__',\n",
       " '__hash__',\n",
       " '__init__',\n",
       " '__init_subclass__',\n",
       " '__le__',\n",
       " '__lt__',\n",
       " '__module__',\n",
       " '__ne__',\n",
       " '__new__',\n",
       " '__reduce__',\n",
       " '__reduce_ex__',\n",
       " '__repr__',\n",
       " '__setattr__',\n",
       " '__sizeof__',\n",
       " '__str__',\n",
       " '__subclasshook__',\n",
       " '__weakref__',\n",
       " '_str2',\n",
       " 'str1']"
      ]
     },
     "execution_count": 108,
     "metadata": {},
     "output_type": "execute_result"
    }
   ],
   "source": [
    "dir(ob1) #str1, _str2는 이름이 그대로인데, __str3만 _Test__str3로 바뀌어 있음"
   ]
  },
  {
   "cell_type": "markdown",
   "id": "c960fdc8",
   "metadata": {},
   "source": [
    "## 4. 상속\n",
    "\n",
    "- 코드의 재사용성\n",
    "- 상속 설계시 고려할 점\n",
    "    - 부모 클래스는 최소한의 코드로 작성(모든 자식들이 공통으로 필요한 것들로 구성)\n",
    "    - 상속받은 자식 클래스는 반드시 기능을 확장(추가)시켜야 한다.(그렇지 않는다면 자식클래스를 만들 필요가 없음)\n",
    "    - 중복된 기능이 있어서는 안된다.\n",
    "\n",
    "- Overrind : 재정의(다형성의 특징도 가지고 있음)\n",
    "\n",
    "- 생성자는 상속이 안된다\n",
    "\n",
    "- 다중 상속 지원\n",
    "\n",
    "- 상속과 포함의 관계"
   ]
  },
  {
   "cell_type": "code",
   "execution_count": 121,
   "id": "a7f260b1",
   "metadata": {},
   "outputs": [],
   "source": [
    "class Animal:\n",
    "    def move(self):\n",
    "        print(\"움직인다.\")\n",
    "        \n",
    "class Dog(Animal):\n",
    "    def bark(self):\n",
    "        print(\"멍멍\")\n",
    "\n",
    "class Horse(Animal):\n",
    "    def speed(self, s):\n",
    "        print(\"현재속도는 \", s)"
   ]
  },
  {
   "cell_type": "code",
   "execution_count": 123,
   "id": "c03581a5",
   "metadata": {},
   "outputs": [
    {
     "name": "stdout",
     "output_type": "stream",
     "text": [
      "움직인다.\n",
      "멍멍\n",
      "움직인다.\n",
      "현재속도는  100\n"
     ]
    }
   ],
   "source": [
    "dog = Dog()\n",
    "dog.move()\n",
    "dog.bark()\n",
    "\n",
    "horse = Horse()\n",
    "horse.move()\n",
    "horse.speed(100)"
   ]
  },
  {
   "cell_type": "code",
   "execution_count": 2,
   "id": "4c14df0e",
   "metadata": {},
   "outputs": [],
   "source": [
    "class Calculator:\n",
    "    first = 0\n",
    "    second = 0\n",
    "    \n",
    "    def __init__(self, first=None, second=None):\n",
    "        self.first = first\n",
    "        self.second = second\n",
    "        \n",
    "    def setData(self, first=None, second=None):\n",
    "        self.first = first\n",
    "        self.second = second\n",
    "        \n",
    "    def sum(self):\n",
    "        return self.first + self.second\n",
    "    \n",
    "    def div(self):\n",
    "        return self.first / self.second\n",
    "    \n",
    "    def mul(self):\n",
    "        return self.first * self.second\n",
    "    \n",
    "    def sub(self):\n",
    "        return self.first - self.second"
   ]
  },
  {
   "cell_type": "code",
   "execution_count": 3,
   "id": "d1797c46",
   "metadata": {},
   "outputs": [
    {
     "name": "stdout",
     "output_type": "stream",
     "text": [
      "30\n"
     ]
    }
   ],
   "source": [
    "cal1 = Calculator()\n",
    "cal1.setData(10,20)\n",
    "print(cal1.sum())\n",
    "\n",
    "cal1.setData(10,0)\n",
    "# print(cal1.div()) 0으로 나눠서 에러발생"
   ]
  },
  {
   "cell_type": "code",
   "execution_count": 6,
   "id": "3735646e",
   "metadata": {},
   "outputs": [],
   "source": [
    "class Calculator2(Calculator):\n",
    "    def pow(self):\n",
    "        return self.first ** self.second\n",
    "    \n",
    "    def div(self):\n",
    "        if self.second==0:\n",
    "            return \"0으로 나누면 안됩니다.\"\n",
    "        else:\n",
    "            return self.first / self.second"
   ]
  },
  {
   "cell_type": "code",
   "execution_count": 7,
   "id": "13908c8f",
   "metadata": {},
   "outputs": [
    {
     "name": "stdout",
     "output_type": "stream",
     "text": [
      "1024\n",
      "12\n",
      "0으로 나누면 안됩니다.\n"
     ]
    }
   ],
   "source": [
    "cal2 = Calculator2()\n",
    "cal2.setData(2,10)\n",
    "print(cal2.pow())\n",
    "\n",
    "print(cal2.sum())\n",
    "\n",
    "cal2.setData(10,0)\n",
    "print(cal2.div())"
   ]
  },
  {
   "cell_type": "markdown",
   "id": "2076074a",
   "metadata": {},
   "source": [
    "### (1) super()\n",
    "\n",
    "- 부모 객체의 주소를 참조\n",
    "- overriding을 했기 때문에 super함수가 필요\n"
   ]
  },
  {
   "cell_type": "code",
   "execution_count": 16,
   "id": "103646a2",
   "metadata": {},
   "outputs": [],
   "source": [
    "class Person:\n",
    "    say = \"난 사람이다\"\n",
    "    age = 20\n",
    "    \n",
    "    def info(self):\n",
    "        print(\"나이 : {}, 하고싶은 말: {}\".format(self.age, self.say))\n",
    "        \n",
    "    def __init__(self):\n",
    "        print(\"Person 클래스\")\n",
    "        \n",
    "class Employee(Person):\n",
    "    def __init__(self):\n",
    "        print(\"Employee 클래스\")\n",
    "        \n",
    "    say = \"난 회사원이다.\"\n",
    "    \n",
    "    def info(self):\n",
    "        print(self.say)\n",
    "        print(self.age)    # self는 자기자신의 주소를 부름\n",
    "        print(super().say) #super()로 부모클래스 주소를 부르기 때문에 원본값을 부를 수있음.\n",
    "        \n",
    "        super().info() #super().info()는 마치 Person.info()와 같은 느낌"
   ]
  },
  {
   "cell_type": "code",
   "execution_count": 17,
   "id": "5365f0f5",
   "metadata": {},
   "outputs": [
    {
     "name": "stdout",
     "output_type": "stream",
     "text": [
      "Employee 클래스\n",
      "난 회사원이다.\n",
      "난 회사원이다.\n",
      "20\n",
      "난 사람이다\n",
      "나이 : 20, 하고싶은 말: 난 회사원이다.\n"
     ]
    }
   ],
   "source": [
    "e1 = Employee()\n",
    "print(e1.say)\n",
    "\n",
    "e1.info()"
   ]
  },
  {
   "cell_type": "code",
   "execution_count": 18,
   "id": "e3ea64e0",
   "metadata": {},
   "outputs": [
    {
     "name": "stdout",
     "output_type": "stream",
     "text": [
      "난 회사원이다.\n",
      "20\n",
      "난 사람이다\n",
      "나이 : 20, 하고싶은 말: 난 회사원이다.\n"
     ]
    }
   ],
   "source": [
    "e1.info()"
   ]
  },
  {
   "cell_type": "code",
   "execution_count": 19,
   "id": "455a1538",
   "metadata": {},
   "outputs": [],
   "source": [
    "class Test:\n",
    "    pass"
   ]
  },
  {
   "cell_type": "code",
   "execution_count": 20,
   "id": "a4967093",
   "metadata": {},
   "outputs": [
    {
     "name": "stdout",
     "output_type": "stream",
     "text": [
      "<class '__main__.Test'>\n"
     ]
    }
   ],
   "source": [
    "t = Test()\n",
    "dir(t)\n",
    "\n",
    "print(t.__class__)"
   ]
  },
  {
   "cell_type": "markdown",
   "id": "4b145f79",
   "metadata": {},
   "source": [
    "## 5. 고급 함수\n",
    "\n",
    "### (1) 변수의 유효(생존) 범위 : global, nonlocal\n",
    "\n",
    "- 함수가 중첩되었을 때 사용함"
   ]
  },
  {
   "cell_type": "code",
   "execution_count": 34,
   "id": "8128d941",
   "metadata": {},
   "outputs": [
    {
     "name": "stdout",
     "output_type": "stream",
     "text": [
      "100\n",
      "kbs2 : 2\n",
      "kbs1 :  1\n",
      "2\n"
     ]
    }
   ],
   "source": [
    "a = 100 #함수 바깥에 있으므로 당연히 전역변수 #전역변수는 정말 절대적으로 필요한 경우에만 보통 사용함 #이상이 생길경우 원인파악이 힘듬\n",
    "\n",
    "def kbs1():\n",
    "    #global a # 전역변수를 지역변수 안에서 쓸 수 있게 global a\n",
    "    a = 1 #함수 안에서만 사용할 수 있으므로 지역변수\n",
    "    \n",
    "    def kbs2():  #kbs1의 전용목적으로 쓰기 위해서 함수 안의 함수를 만드는 경우가 잦음\n",
    "        #nonlocal a # kbs2에 있는 지역변수 a를 kbs1에서 쓸 수 있도록 만들어주는 함수\n",
    "        a = 2\n",
    "        print(\"kbs2 :\", a) \n",
    "    \n",
    "    kbs2()\n",
    "    print(\"kbs1 : \", a)\n",
    "\n",
    "#####################\n",
    "\n",
    "print(a)\n",
    "kbs1()\n",
    "print(a)\n"
   ]
  },
  {
   "cell_type": "code",
   "execution_count": 47,
   "id": "3e098c64",
   "metadata": {},
   "outputs": [
    {
     "name": "stdout",
     "output_type": "stream",
     "text": [
      "100\n",
      "1\n",
      "100\n"
     ]
    }
   ],
   "source": [
    "b = 100 #함수 바깥에 있으므로 당연히 전역변수 #전역변수는 정말 절대적으로 필요한 경우에만 보통 사용함 #이상이 생길경우 원인파악이 힘듬\n",
    "\n",
    "def kbs3():\n",
    "    # 전역변수를 지역변수 안에서 쓸 수 있게 global a\n",
    "    b = 1\n",
    "    print(b)\n",
    "    \n",
    "print(b)\n",
    "kbs3()\n",
    "print(b)"
   ]
  },
  {
   "cell_type": "markdown",
   "id": "77079058",
   "metadata": {},
   "source": [
    "### (2) 클로저(closer)\n",
    "\n",
    "- 함수 밖에서 임의의 함수 안에 선언된 지역변수를 계속 참조할 수 있게 하는 방법"
   ]
  },
  {
   "cell_type": "code",
   "execution_count": 54,
   "id": "aba879dc",
   "metadata": {},
   "outputs": [
    {
     "name": "stdout",
     "output_type": "stream",
     "text": [
      "1\n",
      "2\n",
      "3\n"
     ]
    }
   ],
   "source": [
    "count = 0\n",
    "\n",
    "def out():\n",
    "    def inn():\n",
    "        global count\n",
    "        count = count + 1\n",
    "        print(count)\n",
    "        \n",
    "    inn()\n",
    "    \n",
    "######### 전역변수를 이용해서 카운트\n",
    "\n",
    "out()\n",
    "out()\n",
    "out()"
   ]
  },
  {
   "cell_type": "code",
   "execution_count": 57,
   "id": "d3f0e1ba",
   "metadata": {},
   "outputs": [
    {
     "name": "stdout",
     "output_type": "stream",
     "text": [
      "1\n",
      "2\n",
      "3\n",
      "1\n",
      "2\n",
      "3\n"
     ]
    }
   ],
   "source": [
    "\n",
    "def out():\n",
    "    count = 0\n",
    "    def inn():\n",
    "        nonlocal count\n",
    "        count = count + 1\n",
    "        print(count)\n",
    "        \n",
    "    return inn     #### return으로 inn의 주소를 out에 불러주고\n",
    "\n",
    "z = out()           # out의 값을 받을 변수는 저장하고\n",
    "z()                 # 변수를 부름으로서 카운트\n",
    "z()\n",
    "z()\n",
    "\n",
    "y = out()\n",
    "y()\n",
    "y()\n",
    "y()"
   ]
  },
  {
   "cell_type": "code",
   "execution_count": 63,
   "id": "3e3fe79f",
   "metadata": {},
   "outputs": [
    {
     "name": "stdout",
     "output_type": "stream",
     "text": [
      "700.0\n"
     ]
    }
   ],
   "source": [
    "\n",
    "def out2(tax):\n",
    "    def inn2(su, dan):\n",
    "        amount = su * dan * tax\n",
    "        return amount\n",
    "        \n",
    "    return inn2  \n",
    "\n",
    "########################################\n",
    "\n",
    "tax_rate = out2(0.05)\n",
    "mouse = tax_rate(5, 5000)\n",
    "mouse\n",
    "\n",
    "usb = tax_rate(7, 2000)\n",
    "print(usb)"
   ]
  },
  {
   "cell_type": "markdown",
   "id": "3776211d",
   "metadata": {},
   "source": [
    "### (3) 람다 함수(무명함수, 익명함수, 인라인함수)\n",
    "\n"
   ]
  },
  {
   "cell_type": "code",
   "execution_count": 64,
   "id": "36ed7601",
   "metadata": {},
   "outputs": [
    {
     "name": "stdout",
     "output_type": "stream",
     "text": [
      "30\n"
     ]
    }
   ],
   "source": [
    "def hap(x, y):\n",
    "    return x + y\n",
    "\n",
    "#######################\n",
    "\n",
    "result = hap(10,20)\n",
    "print(result)"
   ]
  },
  {
   "cell_type": "code",
   "execution_count": 67,
   "id": "b3f73064",
   "metadata": {},
   "outputs": [
    {
     "data": {
      "text/plain": [
       "<function __main__.<lambda>(x, y)>"
      ]
     },
     "execution_count": 67,
     "metadata": {},
     "output_type": "execute_result"
    }
   ],
   "source": [
    "lambda x, y : x + y"
   ]
  },
  {
   "cell_type": "code",
   "execution_count": 69,
   "id": "981142e4",
   "metadata": {},
   "outputs": [
    {
     "data": {
      "text/plain": [
       "30"
      ]
     },
     "execution_count": 69,
     "metadata": {},
     "output_type": "execute_result"
    }
   ],
   "source": [
    "(lambda x, y : x + y)(10, 20) #이렇게 입력가능하지만, 여러번 사용할거라면 함수의 이름값을 붙여주는 것이 편함"
   ]
  },
  {
   "cell_type": "code",
   "execution_count": 70,
   "id": "7f01d8cf",
   "metadata": {},
   "outputs": [
    {
     "data": {
      "text/plain": [
       "30"
      ]
     },
     "execution_count": 70,
     "metadata": {},
     "output_type": "execute_result"
    }
   ],
   "source": [
    "hap1 = (lambda x, y = 20 : x + y)\n",
    "hap1(10)"
   ]
  },
  {
   "cell_type": "code",
   "execution_count": 72,
   "id": "a0370550",
   "metadata": {},
   "outputs": [
    {
     "name": "stdout",
     "output_type": "stream",
     "text": [
      "10 (20, 30) {}\n",
      "1 (2, 3, 4, 5) {'m': 6, 'n': 7, 'k': 8}\n"
     ]
    }
   ],
   "source": [
    "def func_test(a, *b, **c): # * 1개는 복수형 입력, ** 딕셔너리 자료형 입력\n",
    "    print(a, b, c)\n",
    "    \n",
    "######################### \n",
    "\n",
    "func_test(10, 20, 30)\n",
    "func_test(1, 2, 3, 4, 5, m=6, n=7, k=8)"
   ]
  },
  {
   "cell_type": "code",
   "execution_count": 74,
   "id": "979a3a49",
   "metadata": {},
   "outputs": [
    {
     "data": {
      "text/plain": [
       "<function __main__.<lambda>(a, *b, **c)>"
      ]
     },
     "execution_count": 74,
     "metadata": {},
     "output_type": "execute_result"
    }
   ],
   "source": [
    "(lambda a, *b, **c : print(a, b, c))"
   ]
  },
  {
   "cell_type": "code",
   "execution_count": 75,
   "id": "6a4fc6df",
   "metadata": {},
   "outputs": [
    {
     "name": "stdout",
     "output_type": "stream",
     "text": [
      "1 (2, 3, 4, 5) {'m': 6, 'n': 7, 'k': 8}\n"
     ]
    }
   ],
   "source": [
    "(lambda a, *b, **c : print(a, b, c))(1, 2, 3, 4, 5, m=6, n=7, k=8)"
   ]
  },
  {
   "cell_type": "code",
   "execution_count": 79,
   "id": "a6e31b68",
   "metadata": {},
   "outputs": [
    {
     "name": "stdout",
     "output_type": "stream",
     "text": [
      "[1, 4, 3, 16, 5]\n"
     ]
    }
   ],
   "source": [
    "ex = [1,2, 3, 4, 5]\n",
    "\n",
    "def func_test(x):\n",
    "    if x % 2 == 0:\n",
    "        return x**2\n",
    "    else:\n",
    "        return x\n",
    "    \n",
    "##############################\n",
    "\n",
    "result = []\n",
    "for i in ex:\n",
    "    result.append(func_test(i))\n",
    "\n",
    "print(result)"
   ]
  },
  {
   "cell_type": "code",
   "execution_count": 80,
   "id": "e22ecf2e",
   "metadata": {},
   "outputs": [
    {
     "data": {
      "text/plain": [
       "[1, 4, 3, 16, 5]"
      ]
     },
     "execution_count": 80,
     "metadata": {},
     "output_type": "execute_result"
    }
   ],
   "source": [
    "list(map(func_test, ex))"
   ]
  },
  {
   "cell_type": "code",
   "execution_count": 81,
   "id": "aaf4ea84",
   "metadata": {},
   "outputs": [
    {
     "data": {
      "text/plain": [
       "<function __main__.<lambda>(x)>"
      ]
     },
     "execution_count": 81,
     "metadata": {},
     "output_type": "execute_result"
    }
   ],
   "source": [
    "lambda x : x**2 if x % 2 == 0 else x #삼항 연산자 : 참일 때 결과 if 조건문 elsd 거짓일 때 결과"
   ]
  },
  {
   "cell_type": "code",
   "execution_count": 84,
   "id": "a0f71306",
   "metadata": {},
   "outputs": [
    {
     "name": "stdout",
     "output_type": "stream",
     "text": [
      "[1, 4, 3, 16, 5]\n"
     ]
    }
   ],
   "source": [
    "result = list(map(lambda x : x**2 if x % 2 == 0 else x, ex))\n",
    "print(result)"
   ]
  },
  {
   "cell_type": "markdown",
   "id": "f5b7f210",
   "metadata": {},
   "source": [
    "\n",
    "\n",
    "### (4) 함수 장식자(decorator)\n",
    "\n",
    "- 일종의 함수 감싸기(wrapping)\n",
    "- @staticmethod, @classmethod, @abstract, ..."
   ]
  },
  {
   "cell_type": "code",
   "execution_count": 94,
   "id": "6793bbfd",
   "metadata": {},
   "outputs": [
    {
     "name": "stdout",
     "output_type": "stream",
     "text": [
      "홍길동\n",
      "<function make1.<locals>.<lambda> at 0x000002254C7035E0>\n",
      "반가워홍길동\n",
      "<function make2.<locals>.<lambda> at 0x000002254C703670>\n",
      "안녕~반가워홍길동\n"
     ]
    }
   ],
   "source": [
    "def hello():\n",
    "    return \"홍길동\"\n",
    "\n",
    "def make1(fn):\n",
    "    return lambda : \"반가워\" + fn()\n",
    "\n",
    "def make2(fn):\n",
    "    return lambda : \"안녕~\" + fn()\n",
    "\n",
    "########################\n",
    "\n",
    "hi = hello()\n",
    "print(hi)\n",
    "\n",
    "hi1 = make1(hello)\n",
    "print(hi1)            #함수의 주소가 호출됨\n",
    "print(hi1())          #함수의 값이 호출됨\n",
    "\n",
    "\n",
    "hi2 = make2(make1(hello))\n",
    "print(hi2)\n",
    "print(hi2())"
   ]
  },
  {
   "cell_type": "code",
   "execution_count": 97,
   "id": "41261269",
   "metadata": {},
   "outputs": [
    {
     "name": "stdout",
     "output_type": "stream",
     "text": [
      "안녕~반가워홍길동\n",
      "반가워안녕~홍길동\n"
     ]
    }
   ],
   "source": [
    "def make1(fn):\n",
    "    return lambda : \"반가워\" + fn()\n",
    "\n",
    "def make2(fn):\n",
    "    return lambda : \"안녕~\" + fn()\n",
    " \n",
    "@make2        # make2(make1(hello))\n",
    "@make1        # hello를 make1으로 감싸고, 다시 make2로 감싼다\n",
    "def hello():\n",
    "    return \"홍길동\"\n",
    "\n",
    "print(hello())\n",
    "\n",
    "@make1        # make1(make2(hello))\n",
    "@make2        # hello를 make2로 감싸고, 다시 make1으로 감싼다\n",
    "def hello():\n",
    "    return \"홍길동\"\n",
    "\n",
    "print(hello())"
   ]
  },
  {
   "cell_type": "code",
   "execution_count": 6,
   "id": "e13569a6",
   "metadata": {},
   "outputs": [
    {
     "name": "stdout",
     "output_type": "stream",
     "text": [
      "동전을 입력하세요: 500\n",
      "몇 잔을 원하세요: 1\n",
      "커피 1잔과 잔돈 300원\n"
     ]
    }
   ],
   "source": [
    "class Machine:\n",
    "    cupCount = 0\n",
    "\n",
    "    def showData(self):\n",
    "        print(f\"커피 {self.cupCount}잔과 잔돈 {self.change}원\")\n",
    "\n",
    "\n",
    "class CoinIn(Machine):\n",
    "    def __init__(self):\n",
    "        self.coin = 0\n",
    "        self.change = 0\n",
    "\n",
    "    def calc(self):\n",
    "        self.coin = int(input(\"동전을 입력하세요: \"))\n",
    "        cupCount = int(input(\"몇 잔을 원하세요: \"))\n",
    "\n",
    "        if self.coin < cupCount * 200:\n",
    "            print(\"요금이 부족합니다.\")\n",
    "        elif self.coin == cupCount * 200:\n",
    "            self.cupCount = cupCount\n",
    "            self.showData()\n",
    "        else:\n",
    "            self.change = self.coin - cupCount * 200\n",
    "            self.cupCount = cupCount\n",
    "            self.showData()\n",
    "\n",
    "\n",
    "coffee_machine = CoinIn()\n",
    "coffee_machine.calc()"
   ]
  }
 ],
 "metadata": {
  "kernelspec": {
   "display_name": "Python 3 (ipykernel)",
   "language": "python",
   "name": "python3"
  },
  "language_info": {
   "codemirror_mode": {
    "name": "ipython",
    "version": 3
   },
   "file_extension": ".py",
   "mimetype": "text/x-python",
   "name": "python",
   "nbconvert_exporter": "python",
   "pygments_lexer": "ipython3",
   "version": "3.9.13"
  }
 },
 "nbformat": 4,
 "nbformat_minor": 5
}
