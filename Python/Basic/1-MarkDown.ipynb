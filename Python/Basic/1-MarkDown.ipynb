{
 "cells": [
  {
   "cell_type": "markdown",
   "id": "236a4e41",
   "metadata": {},
   "source": [
    "1+3"
   ]
  },
  {
   "cell_type": "code",
   "execution_count": 2,
   "id": "5753fe41",
   "metadata": {},
   "outputs": [
    {
     "name": "stdout",
     "output_type": "stream",
     "text": [
      "안녕하세요\n"
     ]
    }
   ],
   "source": [
    "print(\"안녕하세요\")"
   ]
  },
  {
   "cell_type": "code",
   "execution_count": 3,
   "id": "401f1db7",
   "metadata": {},
   "outputs": [
    {
     "data": {
      "text/plain": [
       "7"
      ]
     },
     "execution_count": 3,
     "metadata": {},
     "output_type": "execute_result"
    }
   ],
   "source": [
    "1+3\n",
    "2+5"
   ]
  },
  {
   "cell_type": "markdown",
   "id": "0fcab86c",
   "metadata": {},
   "source": [
    "# 글자 크기\n",
    "## 글자 크기\n",
    "### 글자 크기\n",
    "#### 글자 크기\n",
    "##### 글자 크기\n",
    "\n",
    "<h1> 글자 크기 </h1>\n",
    "\n",
    "#은 제목을 표시할 때 사용한다, #에 붙여서 쓰면 기능하지 않는다, 기본적으로 두껍게 효과가 적용된다\n",
    "또는 아래와 같이 작성할 수도 있다.\n",
    "\n",
    "글자 크기\n",
    "---\n",
    "---는 2번쨰크기\n",
    "\n",
    "글자 크기\n",
    "===\n",
    "===는 첫번째크기\n",
    "\n",
    "\n"
   ]
  },
  {
   "cell_type": "markdown",
   "id": "d6741281",
   "metadata": {},
   "source": [
    "----"
   ]
  },
  {
   "cell_type": "markdown",
   "id": "8cc664ae",
   "metadata": {},
   "source": [
    "----는 -4개이상 쓸 경우 구분선"
   ]
  },
  {
   "cell_type": "markdown",
   "id": "cdc720bb",
   "metadata": {},
   "source": [
    "# 들여쓰기\n",
    "\n",
    "> 첫번째 들여쓰기\n",
    ">> 첫번쨰 들여쓰기의 또 들여쓰기\n",
    "\n",
    "> 두번째 들여쓰기"
   ]
  },
  {
   "cell_type": "markdown",
   "id": "fee35d59",
   "metadata": {},
   "source": [
    "# 리스트\n",
    "\n",
    "#### 과일의 종류(순서있는 리스트)\n",
    "\n",
    "1. 사과\n",
    "2. 배\n",
    "3. 포도\n",
    "\n",
    "----\n",
    "\n",
    "#### 좋아하는 색상(순서없는 리스트)\n",
    "+ 빨강\n",
    "- 파랑\n",
    "* 노랑\n",
    "+ 보라\n",
    "\n",
    "사칙연산기호 전부 사용가능\n",
    "\n",
    "#### 지역\n",
    "+ 서울\n",
    "    - 강북\n",
    "    - 강동\n",
    "    - 강서\n",
    "    - 강남\n",
    "+ 인천\n",
    "+ 경기"
   ]
  },
  {
   "cell_type": "markdown",
   "id": "050e0893",
   "metadata": {},
   "source": [
    "# 링크\n",
    "\n",
    "[네이버](http://www.naver.com)\n",
    "\n",
    "----\n",
    "\n",
    "# 글자 모양\n",
    "\n",
    "이것은 *이탤릭체* 입니다.\n",
    "\n",
    "이것은 **볼드체** 입니다.\n",
    "\n",
    "이것은 ~관통선(취소선)~ 입니다"
   ]
  },
  {
   "cell_type": "markdown",
   "id": "4b314758",
   "metadata": {},
   "source": [
    "# 이미지 불러오기\n",
    "\n",
    "![이미지가 없을 경우 나타나는 텍스트](images/usamaru.jpeg)\n",
    "![이미지가 없을 경우 나타나는 텍스트](images/usamaru123.jpeg)\n",
    "\n",
    "![이미지가 없을 경우 나타나는 텍스트](https://www.google.com/images/branding/googlelogo/2x/googlelogo_color_92x30dp.png)\n"
   ]
  },
  {
   "cell_type": "code",
   "execution_count": null,
   "id": "61bc6c9a",
   "metadata": {},
   "outputs": [],
   "source": []
  }
 ],
 "metadata": {
  "kernelspec": {
   "display_name": "Python 3 (ipykernel)",
   "language": "python",
   "name": "python3"
  },
  "language_info": {
   "codemirror_mode": {
    "name": "ipython",
    "version": 3
   },
   "file_extension": ".py",
   "mimetype": "text/x-python",
   "name": "python",
   "nbconvert_exporter": "python",
   "pygments_lexer": "ipython3",
   "version": "3.9.13"
  }
 },
 "nbformat": 4,
 "nbformat_minor": 5
}
