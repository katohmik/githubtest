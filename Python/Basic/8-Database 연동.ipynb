{
 "cells": [
  {
   "cell_type": "markdown",
   "id": "e1230a88",
   "metadata": {},
   "source": [
    "## 1. 파이썬과 MariaDB 연동\n",
    "\n",
    "240p\n",
    "\n",
    "- 파이썬과 MariaDB를 연결해주는 모듈\n",
    "    - pip install mysqlclient\n",
    "    - pip install PyMySQL"
   ]
  },
  {
   "cell_type": "code",
   "execution_count": null,
   "id": "cab62b6d",
   "metadata": {},
   "outputs": [],
   "source": [
    "##### mysqlclient\n",
    "\n",
    "import MySQLdb\n",
    "\n",
    "conn = MySQLdb.connect(host=\"127.0.0.1\", user=\"root\", password=\"1111\", database=\"testdb\") # 최소한 이 4가지는 기본적으로 들어가야함\n",
    "\n",
    "print(conn)\n",
    "conn.close() #close 잊지말 것"
   ]
  },
  {
   "cell_type": "code",
   "execution_count": null,
   "id": "52af1434",
   "metadata": {},
   "outputs": [],
   "source": [
    "##### PyMySQL\n",
    "\n",
    "import pymysql\n",
    "\n",
    "conn = pymysql.connect(host=\"127.0.0.1\", user=\"root\", password=\"1111\", database=\"testdb\") # 최소한 이 4가지는 기본적으로 들어가야함\n",
    "\n",
    "print(conn)\n",
    "conn.close() #close 잊지말 것"
   ]
  },
  {
   "cell_type": "markdown",
   "id": "9ee73e27",
   "metadata": {},
   "source": [
    "### 유지보수를 위한 DB연결"
   ]
  },
  {
   "cell_type": "code",
   "execution_count": null,
   "id": "3a168cf2",
   "metadata": {},
   "outputs": [],
   "source": [
    "config = {\"host\" : \"127.0.0.1\", \"user\" : \"root\", \"password\" : \"1111\", \"database\" : \"testdb\"}"
   ]
  },
  {
   "cell_type": "code",
   "execution_count": null,
   "id": "728486af",
   "metadata": {},
   "outputs": [],
   "source": [
    "conn = MySQLdb.connect(**config) #dict형식은 **로 적어줄 것\n",
    "\n",
    "print(conn)\n",
    "conn.close()"
   ]
  },
  {
   "cell_type": "code",
   "execution_count": null,
   "id": "aa415d39",
   "metadata": {},
   "outputs": [],
   "source": [
    "conn = MySQLdb.connect(**config) \n",
    "\n",
    "sql = \"select * from emp\"\n",
    "cur = conn.cursor() #cursor = sql의 데이터를 파이썬에 맞게 가져와주는 함수\n",
    "cur.execute(sql) #cur.execute()에 직접 적어도 되고, 지금처럼 변수에 담아서 입력해도 괜찮음\n",
    "                 #cursor에 있는 data는 db와 연결을 끊으면 다 날아감. 그러니 가져온 값을 메모리로 옮겨야함.\n",
    "# print(cur)\n",
    "# for i in cur:\n",
    "#   print(i)\n",
    "\n",
    "result = []\n",
    "for i in cur:\n",
    "    result.append(i)\n",
    "\n",
    "conn.close()\n",
    "\n",
    "# 파이썬에서 작업\n",
    "print(result)"
   ]
  },
  {
   "cell_type": "markdown",
   "id": "9bab39da",
   "metadata": {},
   "source": [
    "## (2) insert"
   ]
  },
  {
   "cell_type": "code",
   "execution_count": null,
   "id": "9d895b3e",
   "metadata": {},
   "outputs": [],
   "source": [
    "\n",
    "try:\n",
    "    conn = MySQLdb.connect(**config)\n",
    "\n",
    "    sql = \"\"\"CREATE TABLE IF NOT EXISTS tbltest(\n",
    "                empno int,\n",
    "                ename varchar(10),\n",
    "                sal int,\n",
    "                job varchar(10)\n",
    "            )\n",
    "    \"\"\"\n",
    "\n",
    "    cur = conn.cursor()\n",
    "    cur.execute(sql)\n",
    "\n",
    "    sql = \"INSERT INTO tbltest(empno, ename, sal) VALUES(1, 'scott', 5000)\"\n",
    "    cur.execute(sql)\n",
    "    conn.commit()\n",
    "    \n",
    "except Exception as e:\n",
    "    print(e)\n",
    "\n",
    "finally:\n",
    "    if conn != None: #none이 아닐때만 close할 수 있게 입력\n",
    "        conn.close() #conn에 할당 된 것이 없으면 오류가 발생하기 때문에\n",
    "    \n"
   ]
  },
  {
   "cell_type": "code",
   "execution_count": null,
   "id": "69b9e2ad",
   "metadata": {},
   "outputs": [],
   "source": [
    "\n",
    "try:\n",
    "    conn = MySQLdb.connect(**config)\n",
    "    \n",
    "    empno = 2\n",
    "    ename = \"miller\"\n",
    "    sal = 1300\n",
    "    job = \"clerk\"\n",
    "    \n",
    "    cur = conn.cursor()\n",
    "    cur.execute(sql)\n",
    "\n",
    "    \n",
    "    sql = \"INSERT INTO tbltest VALUES(\" + \\\n",
    "            str(empno) +\", '\" + ename + \"',\" + str(sal) + \",'\" + job + \"')\" # sql injection이라는 해킹으로 쉽게 뚫려서 사용안하는 방식\n",
    "    #print(sql)\n",
    "    cur.execute(sql)\n",
    "    conn.commit()\n",
    "    \n",
    "except Exception as e:\n",
    "    print(e)\n",
    "\n",
    "finally:\n",
    "    if conn != None: \n",
    "        conn.close() "
   ]
  },
  {
   "cell_type": "code",
   "execution_count": null,
   "id": "9fe7e8fd",
   "metadata": {},
   "outputs": [],
   "source": [
    "\n",
    "try:\n",
    "    conn = MySQLdb.connect(**config)\n",
    "    \n",
    "    empno = 2\n",
    "    ename = \"miller\"\n",
    "    sal = 1300\n",
    "    job = \"clerk\"\n",
    "    \n",
    "    cur = conn.cursor()\n",
    "    cur.execute(sql)\n",
    "\n",
    "    \n",
    "    sql = \"INSERT INTO tbltest VALUES(%s, %s, %s, %s)\"\n",
    "    sql_data = (str(empno), ename, str(sal), job)\n",
    "    \n",
    "    \n",
    "    cur.execute(sql, sql_data) #sql= \"\"에 모든 것을 넣는게 아니라 sql, sql_data로 분리 후, excute(sql, sql_data)로 넣으면 같이 입력됨\n",
    "    conn.commit()\n",
    "    \n",
    "except Exception as e:\n",
    "    print(\"오류: \", e)\n",
    "\n",
    "finally:\n",
    "    if conn != None: \n",
    "        conn.close() "
   ]
  },
  {
   "cell_type": "code",
   "execution_count": null,
   "id": "4b6c01d5",
   "metadata": {},
   "outputs": [],
   "source": [
    "conn = MySQLdb.connect(**config)\n",
    "cur = conn.cursor()\n",
    "\n",
    "dir(cur)"
   ]
  },
  {
   "cell_type": "markdown",
   "id": "10c6a13e",
   "metadata": {},
   "source": [
    "### cursor객체의 fetchall(), fatchmany(), fatchone()\n",
    "254p\n",
    "\n",
    "\n",
    "- default는 fetchall()"
   ]
  },
  {
   "cell_type": "code",
   "execution_count": null,
   "id": "8d3c1b7b",
   "metadata": {},
   "outputs": [],
   "source": [
    "conn = None\n",
    "\n",
    "try:\n",
    "    conn = MySQLdb.connect(**config)\n",
    "    cur = conn.cursor()\n",
    "    \n",
    "    cur.execute(\"select * from emp\")\n",
    "    \n",
    "    for i in cur:\n",
    "        print(i)\n",
    "    \n",
    "except Exception as e:\n",
    "    print(\"error :\", e)\n",
    "finally:\n",
    "    if conn != None:\n",
    "        conn.close()"
   ]
  },
  {
   "cell_type": "code",
   "execution_count": null,
   "id": "cdbf27cf",
   "metadata": {},
   "outputs": [],
   "source": [
    "conn = None\n",
    "\n",
    "try:\n",
    "    conn = MySQLdb.connect(**config)\n",
    "    cur = conn.cursor()\n",
    "    \n",
    "    cur.execute(\"select * from emp\")\n",
    "    \n",
    "    for i in cur.fetchall(): # fetchall이 디폴트라서 윗셀과 결과가 같음\n",
    "        print(i)\n",
    "    \n",
    "except Exception as e:\n",
    "    print(\"error :\", e)\n",
    "finally:\n",
    "    if conn != None:\n",
    "        conn.close()"
   ]
  },
  {
   "cell_type": "code",
   "execution_count": null,
   "id": "7d9d392d",
   "metadata": {},
   "outputs": [],
   "source": [
    "conn = None\n",
    "\n",
    "try:\n",
    "    conn = MySQLdb.connect(**config)\n",
    "    cur = conn.cursor()\n",
    "    \n",
    "    cur.execute(\"select * from emp\")\n",
    "    \n",
    "    for i in cur.fetchmany(3): # 내가 원하는 갯수만큼만 가져오기\n",
    "        print(i)\n",
    "    \n",
    "except Exception as e:\n",
    "    print(\"error :\", e)\n",
    "finally:\n",
    "    if conn != None:\n",
    "        conn.close()"
   ]
  },
  {
   "cell_type": "code",
   "execution_count": null,
   "id": "15fc58f7",
   "metadata": {},
   "outputs": [],
   "source": [
    "conn = None\n",
    "\n",
    "try:\n",
    "    conn = MySQLdb.connect(**config)\n",
    "    cur = conn.cursor()\n",
    "    \n",
    "    cur.execute(\"select * from emp\")\n",
    "    \n",
    "    for i in cur.fetchone(): # 하나만 가져오기\n",
    "        print(i)\n",
    "    \n",
    "except Exception as e:\n",
    "    print(\"error :\", e)\n",
    "finally:\n",
    "    if conn != None:\n",
    "        conn.close()"
   ]
  },
  {
   "cell_type": "markdown",
   "id": "bd56c6d6",
   "metadata": {},
   "source": [
    "### (4) DictCursor\n",
    "\n",
    "- 필드명을 인덱스 대신 키로 사용"
   ]
  },
  {
   "cell_type": "code",
   "execution_count": null,
   "id": "bdde92c8",
   "metadata": {},
   "outputs": [],
   "source": [
    "conn = None\n",
    "\n",
    "try:\n",
    "    conn = MySQLdb.connect(**config)\n",
    "    cur = conn.cursor(MySQLdb.cursors.DictCursor)\n",
    "    \n",
    "    cur.execute(\"select * from emp\")\n",
    "    \n",
    "    for i in cur.fetchall(): \n",
    "        #print(i[0], i[1],i[2])\n",
    "        print(i[\"EMPNO\"], i[\"ENAME\"], i[\"JOB\"]) #소문자는 에러 뜨더라, 정확한 필드명을 입력해야함\n",
    "    \n",
    "except Exception as e:\n",
    "    print(\"error :\", e)\n",
    "finally:\n",
    "    if conn != None:\n",
    "        conn.close()"
   ]
  },
  {
   "cell_type": "markdown",
   "id": "cf8131fb",
   "metadata": {},
   "source": [
    "### (5) CSV파일을 DB에 저장"
   ]
  },
  {
   "cell_type": "code",
   "execution_count": null,
   "id": "4aa25527",
   "metadata": {},
   "outputs": [],
   "source": [
    "\n",
    "\"\"\"\n",
    "CREATE TABLE IF NOT EXISTS suppliers(\n",
    "    Supplier_Name    varchar(20),\n",
    "    Invoice_Number   varchar(20),\n",
    "    Part_Number      varchar(20),\n",
    "    Cost             float,\n",
    "    Purchase_Date    date\n",
    ");\n",
    "\"\"\""
   ]
  },
  {
   "cell_type": "code",
   "execution_count": null,
   "id": "782034b7",
   "metadata": {},
   "outputs": [],
   "source": [
    "import csv\n",
    "\n",
    "file = csv.reader(open(\"data/input.csv\",\"r\"))\n",
    "print(file)\n",
    "\n",
    "print(next(file))\n",
    "print(next(file))\n",
    "print(next(file))"
   ]
  },
  {
   "cell_type": "code",
   "execution_count": null,
   "id": "35645c6f",
   "metadata": {},
   "outputs": [],
   "source": [
    "conn = None\n",
    "\n",
    "try:\n",
    "    conn = MySQLdb.connect(**config)\n",
    "    cur = conn.cursor()\n",
    "    \n",
    "    file = csv.reader(open(\"data/input.csv\",\"r\"))\n",
    "    next(file)           #위에서 확인했듯이 맨윗줄 제목은 필요 없으니 건너뛰자\n",
    "    for i in file:\n",
    "        #print(i)        # 원하는 결과값이 출력되는지 print로 확인 후 execute \n",
    "        cur.execute(\"INSERT INTO suppliers VALUES(%s, %s, %s, %s, %s)\", i)\n",
    "        \n",
    "    conn.commit()\n",
    "    \n",
    "\n",
    "except Exception as e:\n",
    "    print(\"error :\", e)\n",
    "    \n",
    "finally:\n",
    "    if conn != None:\n",
    "        conn.close()"
   ]
  },
  {
   "cell_type": "markdown",
   "id": "2b6b08ca",
   "metadata": {},
   "source": [
    "### (6) DB에서 가져온 결과를 파일로 저장"
   ]
  },
  {
   "cell_type": "code",
   "execution_count": null,
   "id": "e8dc857f",
   "metadata": {},
   "outputs": [],
   "source": [
    "conn = None\n",
    "\n",
    "try:\n",
    "    conn = MySQLdb.connect(**config)\n",
    "    cur = conn.cursor()\n",
    "    \n",
    "    cur.execute(\"select * from suppliers where cost > 500000\")\n",
    "    #for i in cur:\n",
    "    #    print(i)\n",
    "    \n",
    "    #예를 들어서 open을 따로 빼서 사용했을 경우, close도 달아줘야함\n",
    "    file = csv.writer(open(\"data/output.csv\", \"w\"))\n",
    "    \n",
    "    file.writerow(['Supplier Name', 'Invoice Number', 'Part Number', 'Cost', 'Purchase Date'])\n",
    "    \n",
    "    for i in cur:\n",
    "        file.writerow(i) # 콤마를 자동으로 찍어주면서 저장함\n",
    "    \n",
    "\n",
    "except Exception as e:\n",
    "    print(\"error :\", e)\n",
    "    \n",
    "finally:\n",
    "    if conn != None:\n",
    "        conn.close()"
   ]
  },
  {
   "cell_type": "code",
   "execution_count": null,
   "id": "e9c8bddd",
   "metadata": {},
   "outputs": [],
   "source": [
    "conn = None\n",
    "\n",
    "try:\n",
    "    conn = MySQLdb.connect(**config)\n",
    "    cur = conn.cursor()\n",
    "    \n",
    "    cur.execute(\"DELETE FROM suppliers\")\n",
    "    conn.commit()\n",
    "    \n",
    "    cur.execute(\"select * from suppliers where cost > 500000\")\n",
    "    for i in cur:\n",
    "        print(i)\n",
    "\n",
    "except Exception as e:\n",
    "    print(\"error :\", e)\n",
    "    \n",
    "finally:\n",
    "    if conn != None:\n",
    "        conn.close()"
   ]
  },
  {
   "cell_type": "code",
   "execution_count": null,
   "id": "2eac1b5a",
   "metadata": {},
   "outputs": [],
   "source": [
    "# 고객관리 이름, 주소, 전화번호 업그레이드 후 db에 저장하고 수정삭제하는 것"
   ]
  },
  {
   "cell_type": "markdown",
   "id": "759aa04e",
   "metadata": {},
   "source": [
    "## 2. 파이썬과 SQLite 연동\n",
    "\n",
    "### (1) 로컬로 사용할 수 있는 DBMS\n",
    "\n",
    "- Access\n",
    "- SQLite\n",
    "- Microsoft SQL Server Compact Edition\n",
    "- Firebird Embeded Server\n",
    "- H2\n",
    "- HSQL\n",
    "- Apache Derby\n",
    "- ...\n",
    "\n",
    "### (2) 특징\n",
    "\n",
    "- 파일기반의 DBMS, 저메모리, 빠른 처리속도\n",
    "- 오픈소스\n",
    "- 안드로이드, 아이폰 등에 스마트폰에 기본 내장된 DBMS\n",
    "- 파이썬에 내장\n",
    "- 표준 SQL 지원\n",
    "\n",
    "### (3) 제한 사항\n",
    "\n",
    "- 컬럼을 삭제하거나 변경하는 것\n",
    "- Left Outer Join만 지원\n",
    "- 읽기전용 뷰만 지원\n",
    "\n",
    "### (4) 공식 사이트\n",
    "\n",
    "- http://sqlite.org\n",
    "\n",
    "### (5) 클라이언트 툴\n",
    "\n",
    "- http://www.sqliteexpert.com"
   ]
  },
  {
   "cell_type": "code",
   "execution_count": null,
   "id": "70981432",
   "metadata": {},
   "outputs": [],
   "source": [
    "import sqlite3 #sqlite는 혼자쓰는 db이기 때문에 보안에 신경 쓸 필요가 없다. mariadb처럼 서버에 연결해서 네트워크로 이뤄진 서버가 아니다."
   ]
  },
  {
   "cell_type": "code",
   "execution_count": null,
   "id": "78a144ee",
   "metadata": {},
   "outputs": [],
   "source": [
    "print(sqlite3.version) #db와 파이썬을 연결해주는 중간 모듈 #혼자쓰는 local용 db (mariadb는 서버용 db)\n",
    "print(sqlite3.sqlite_version) #sqlite라는 실제 db의 버전"
   ]
  },
  {
   "cell_type": "code",
   "execution_count": null,
   "id": "03a197e4",
   "metadata": {},
   "outputs": [],
   "source": [
    "conn = sqlite3.connect(\"data/sqlitetest.db\") #컴퓨터 내에서 사용할 것이기 때문에 db명만 입력해주면 된다.\n",
    "print(conn)\n",
    "conn.close()"
   ]
  },
  {
   "cell_type": "markdown",
   "id": "e7690908",
   "metadata": {},
   "source": [
    "## SELECT"
   ]
  },
  {
   "cell_type": "code",
   "execution_count": null,
   "id": "449a608e",
   "metadata": {},
   "outputs": [],
   "source": [
    "conn = sqlite3.connect(\"data/sqlitetest.db\")\n",
    "cur = conn.cursor()\n",
    "\n",
    "cur.execute(\"select * from emp\")   \n",
    "for i in cur:\n",
    "    print(i)\n",
    "\n",
    "\n",
    "conn.close()"
   ]
  },
  {
   "cell_type": "markdown",
   "id": "0ceba787",
   "metadata": {},
   "source": [
    "#### 자동으로 db와 테이블 생성"
   ]
  },
  {
   "cell_type": "code",
   "execution_count": null,
   "id": "8632c033",
   "metadata": {},
   "outputs": [],
   "source": [
    "conn = sqlite3.connect(\"data/auto.db\")\n",
    "cur = conn.cursor()\n",
    "\n",
    "cur.execute(\"CREATE TABLE IF NOT EXISTS tbltest(id int, name varchar(10))\")\n",
    "conn.commit()\n",
    "\n",
    "cur.execute(\"INSERT INTO tbltest VALUES(1, '홍길동')\")\n",
    "conn.commit()\n",
    "\n",
    "cur.execute(\"SELECT * FROM tbltest\")\n",
    "for row in cur:\n",
    "    print(row)\n",
    "\n",
    "\n",
    "conn.close()"
   ]
  },
  {
   "cell_type": "markdown",
   "id": "dc56b958",
   "metadata": {},
   "source": [
    "## csv파일을 읽어서 db에 저장"
   ]
  },
  {
   "cell_type": "code",
   "execution_count": null,
   "id": "eb991ada",
   "metadata": {},
   "outputs": [],
   "source": [
    "import csv\n",
    "\n",
    "\n",
    "sql = \"\"\"\n",
    "CREATE TABLE IF NOT EXISTS suppliers(\n",
    "    Supplier_Name    varchar(20),\n",
    "    Invoice_Number   varchar(20),\n",
    "    Part_Number      varchar(20),\n",
    "    Cost             float,\n",
    "    Purchase_Date    date\n",
    ");\n",
    "\"\"\"\n",
    "\n",
    "conn = sqlite3.connect(\"data/auto.db\")\n",
    "\n",
    "cur = conn.cursor()\n",
    "cur.execute(sql)\n",
    "conn.commit()\n",
    "\n",
    "\n",
    "conn.close()"
   ]
  },
  {
   "cell_type": "code",
   "execution_count": null,
   "id": "8af783d2",
   "metadata": {},
   "outputs": [],
   "source": [
    "conn = sqlite3.connect(\"data/auto.db\")\n",
    "\n",
    "# 테이블 조회하기\n",
    "cur = conn.cursor()\n",
    "cur.execute(\"SELECT name from sqlite_master where type='table'\")\n",
    "for i in cur:\n",
    "    print(i)\n",
    "    \n",
    "# 파일 불러오기\n",
    "file = csv.reader(open(\"data/input.csv\"))\n",
    "#for i in file:            #뭔가 작업하면 꼭 프린트로 확인해보자 #테스트하고 주석처리 안해주면 반복돌면서 해당 값의 맨 아래로 가버림\n",
    "#    print(i)              # 그렇게 되면 next(file)을 쓸 수가 없음. 에러가 나옴\n",
    "\n",
    "\n",
    "next(file)\n",
    "for row in file:\n",
    "    cur.execute(\"INSERT INTO suppliers VALUES(?, ?, ?, ?, ?)\", row) #sqlite는 ?로 변수를 들어갈 표시한다.\n",
    "\n",
    "conn.commit()\n",
    "\n",
    "conn.close()"
   ]
  },
  {
   "cell_type": "markdown",
   "id": "e2f29e99",
   "metadata": {},
   "source": [
    "### (6) Memory DB"
   ]
  },
  {
   "cell_type": "code",
   "execution_count": null,
   "id": "70a142c9",
   "metadata": {},
   "outputs": [],
   "source": [
    "# 무조건 하나의 Memory DB밖에 사용가능함\n",
    "\n",
    "conn = sqlite3.connect(\":memory:\")\n",
    "\n",
    "cur = conn.cursor()\n",
    "cur.execute(\"CREATE TABLE phonebook(name Varchar(10), phonenumber text)\")\n",
    "cur.execute(\"INSERT INTO phonebook VALUES(?, ?)\", (\"tom\", \"010-1111-1111\"))\n"
   ]
  },
  {
   "cell_type": "code",
   "execution_count": null,
   "id": "42b75614",
   "metadata": {},
   "outputs": [],
   "source": [
    "cur.execute(\"select * from phonebook\")\n",
    "for i in cur:\n",
    "    print(i)\n",
    "    "
   ]
  },
  {
   "cell_type": "code",
   "execution_count": null,
   "id": "5960fd75",
   "metadata": {},
   "outputs": [],
   "source": [
    "##### 입력 데이터를 변수명으로 처리\n",
    "\n",
    "cur.execute(\"INSERT INTO phonebook VALUES(:vName, :vPhone)\", {\"vPhone\" : \"010-222-2222\", \"vName\" : \"임꺾정\"}) #sql문법, 변수앞에 :을 붙여줌"
   ]
  },
  {
   "cell_type": "code",
   "execution_count": null,
   "id": "8d0e48eb",
   "metadata": {},
   "outputs": [],
   "source": [
    "cur.execute(\"select * from phonebook\")\n",
    "for i  in cur:\n",
    "    print(i)"
   ]
  },
  {
   "cell_type": "code",
   "execution_count": null,
   "id": "976eda42",
   "metadata": {},
   "outputs": [],
   "source": [
    "#### 여러 개의 데이터를 한번에 입력\n",
    "\n",
    "datalist = ((\"jane\", \"010-333-3333\"), (\"jerry\", \"010-444-4444\"), (\"marry\", \"010-555-5555\"))\n",
    "\n",
    "cur.executemany(\"INSERT INTO phonebook VALUES(?, ?)\", datalist)"
   ]
  },
  {
   "cell_type": "code",
   "execution_count": null,
   "id": "99d3e86c",
   "metadata": {},
   "outputs": [],
   "source": [
    "cur.execute(\"select * from phonebook\")\n",
    "for i  in cur:\n",
    "    print(i)"
   ]
  },
  {
   "cell_type": "code",
   "execution_count": null,
   "id": "886a0c09",
   "metadata": {},
   "outputs": [],
   "source": [
    "#### 지금까지 작업을 스크립트로 저장\n",
    "\n",
    "file = open(\"data/dump.sql\", 'w')\n",
    "\n",
    "for line in conn.iterdump():    #iterdump 지금까지의 작업 history를 모두 읽어옴\n",
    "    #print(line) #잘되는지 체크했음 \n",
    "    #file.write(line) # write에는 자동으로 줄바꿈 기능이 없어서 줄바꿈 기능을 아래와 같이 직접 추가함.\n",
    "    file.write(\"{}\\n\".format(line)) \n",
    "    \n",
    "file.close()\n",
    "conn.close()"
   ]
  },
  {
   "cell_type": "code",
   "execution_count": null,
   "id": "21d7c082",
   "metadata": {},
   "outputs": [],
   "source": [
    "#### 스크립트 불러오기\n",
    "\n",
    "conn = sqlite3.connect(\"data/auto.db\")\n",
    "cur = conn.cursor()\n",
    "\n",
    "file = open(\"data/dump.sql\") # 'r'은 default값이니 생략\n",
    "script = file.read()\n",
    "# print(script) # 잘되는지 확인\n",
    "\n",
    "# cur.executescript(script)   ### script를 불러올 때는 executescript를 사용할 것!! 그냥 execute 아님\n",
    "\n",
    "conn.close()"
   ]
  },
  {
   "cell_type": "markdown",
   "id": "b89a6f5a",
   "metadata": {},
   "source": [
    "## 3. 파이썬과 MongoDB의 연동\n",
    "\n",
    "- pip install pymongo\n"
   ]
  },
  {
   "cell_type": "code",
   "execution_count": 3,
   "id": "a79efe89",
   "metadata": {},
   "outputs": [],
   "source": [
    " import pymongo\n",
    "\n",
    "#from pymongo import MongoClient"
   ]
  },
  {
   "cell_type": "markdown",
   "id": "0fa50226",
   "metadata": {},
   "source": [
    "### (1) 서버 연결"
   ]
  },
  {
   "cell_type": "code",
   "execution_count": 4,
   "id": "ddbeb82b",
   "metadata": {},
   "outputs": [
    {
     "name": "stdout",
     "output_type": "stream",
     "text": [
      "MongoClient(host=['127.0.0.1:27017'], document_class=dict, tz_aware=False, connect=True)\n"
     ]
    }
   ],
   "source": [
    "conn = pymongo.MongoClient(\"127.0.0.1\", 27017) #mongodb 접속하고 ip옆에 뜨는 숫자가 포트번호\n",
    "print(conn) #확인\n",
    "conn.close()"
   ]
  },
  {
   "cell_type": "markdown",
   "id": "19ca46a3",
   "metadata": {},
   "source": [
    "### (2) Database 연결"
   ]
  },
  {
   "cell_type": "code",
   "execution_count": 5,
   "id": "f3682b02",
   "metadata": {},
   "outputs": [
    {
     "name": "stdout",
     "output_type": "stream",
     "text": [
      "Database(MongoClient(host=['127.0.0.1:27017'], document_class=dict, tz_aware=False, connect=True), 'testdb')\n"
     ]
    }
   ],
   "source": [
    "conn = pymongo.MongoClient(\"127.0.0.1\", 27017) \n",
    "\n",
    "# dbname = conn.get_database(\"testdb\")    #mongodb에 연결하는 첫번째 방법\n",
    "# dbname = conn.testdb                    #mongodb에 연결하는 두번째 방법\n",
    "dbname = conn[\"testdb\"]                  # mongodb에 연결하는 세번째 방법\n",
    "print(dbname)\n",
    "\n",
    "conn.close()"
   ]
  },
  {
   "cell_type": "markdown",
   "id": "fbe82a17",
   "metadata": {},
   "source": [
    "### (3) Collection 연결"
   ]
  },
  {
   "cell_type": "code",
   "execution_count": 6,
   "id": "f37b683f",
   "metadata": {},
   "outputs": [
    {
     "name": "stdout",
     "output_type": "stream",
     "text": [
      "Collection(Database(MongoClient(host=['127.0.0.1:27017'], document_class=dict, tz_aware=False, connect=True), 'testdb'), 'articles')\n"
     ]
    }
   ],
   "source": [
    "conn = pymongo.MongoClient(\"127.0.0.1\", 27017) \n",
    "dbname = conn.testdb\n",
    "\n",
    "# collect = dbname[\"articles\"]            #collection에 연결하는 첫번째 방법\n",
    "collect = dbname.articles                  #collection에 연결하는 두번째 방법\n",
    "print(collect)    # 확인용\n",
    "\n",
    "\n",
    "\n",
    "\n",
    "conn.close()"
   ]
  },
  {
   "cell_type": "markdown",
   "id": "f7e17869",
   "metadata": {},
   "source": [
    "### (4) 데이터 입력(1개)"
   ]
  },
  {
   "cell_type": "code",
   "execution_count": 7,
   "id": "f2f7fb10",
   "metadata": {},
   "outputs": [
    {
     "name": "stdout",
     "output_type": "stream",
     "text": [
      "{'_id': ObjectId('63edc4c2b833c63868ea6c1a'), 'title': 'article01', 'content': 'content01', 'writer': 'Tom', 'name': {'first': 'gil dong', 'last': 'hong'}, 'language': ['korean', 'english', 'french'], 'likes': 0.0, 'comment': []}\n",
      "{'_id': ObjectId('63edc4c2b833c63868ea6c1b'), 'title': 'article02', 'content': 'content02', 'writer': 'Alpha', 'name': {'first': 'j. k.', 'last': 'tiger'}, 'language': ['korean', 'chinese'], 'likes': 23.0, 'comment': [{'name': 'Bravo', 'message': 'Hey man!'}]}\n",
      "{'_id': ObjectId('63edc4c2b833c63868ea6c1c'), 'title': 'article03', 'content': 'content03', 'writer': 'Bravo', 'likes': 40.0, 'comment': [{'name': 'Charlie', 'message': 'Hey man!'}, {'name': 'Delta', 'message': 'Hey man!'}]}\n",
      "{'_id': ObjectId('6406b1f1e137487d7b761ccc'), 'author': 'Mike', 'text': 'my first blog post!', 'tag': ['mongodb', 'python']}\n",
      "{'_id': ObjectId('6406b2bce137487d7b761cce'), 'author': 'Mike', 'text': 'my first blog post!', 'tag': ['mongodb', 'python']}\n",
      "{'_id': ObjectId('6406b2bce137487d7b761ccf'), 'author': 'Tom', 'text': 'my first blog post!', 'tag': ['mongodb', 'python']}\n",
      "------------------------------------\n",
      "6\n",
      "------------------------------------\n",
      "7\n",
      "------------------------------------\n",
      "6406e882e2d15343b5a8ed9e\n"
     ]
    }
   ],
   "source": [
    "conn = pymongo.MongoClient(\"127.0.0.1\", 27017) \n",
    "dbname = conn.testdb                       #mongodb에 연결하는 두번째 방법\n",
    "collect = dbname.articles                  #collection에 연결하는 두번째 방법\n",
    "\n",
    "for i in collect.find():                  # mongodb에서 조회방법 find\n",
    "    print(i)                               # 확인용\n",
    "    \n",
    "print(\"------------------------------------\")\n",
    "    \n",
    "print(collect.count_documents({}))         # documents가 몇개있는지 확인\n",
    "\n",
    "print(\"------------------------------------\")\n",
    "\n",
    "data = {\"author\" : \"Mike\", \"text\" : \"my first blog post!\", \"tag\" : [\"mongodb\", \"python\"]}\n",
    "collect.insert_one(data)                  # data 1개를 입력할 때, insert_one()\n",
    "\n",
    "print(collect.count_documents({}))         # data라는 것을 추가해서 document가 4개로 늘어난 것을 확인\n",
    "\n",
    "print(\"------------------------------------\")\n",
    "\n",
    "data = {\"author\" : \"Tom\", \"text\" : \"my first blog post!\", \"tag\" : [\"mongodb\", \"python\"]}\n",
    "post_id = collect.insert_one(data).inserted_id # ObjectID는 입력 된 후에 생성됨. 아이디가 필요 할 때 find로 불러와야함\n",
    "print(post_id)    # ObjectID를 확인             # inserted_id는 입력하면서 아이디 값을 불러오는 방법\n",
    "    \n",
    "    \n",
    "conn.close()"
   ]
  },
  {
   "cell_type": "markdown",
   "id": "239e431a",
   "metadata": {},
   "source": [
    "### (5) 데이터 입력하기(여러개)"
   ]
  },
  {
   "cell_type": "code",
   "execution_count": 8,
   "id": "0a7b23e2",
   "metadata": {},
   "outputs": [
    {
     "name": "stdout",
     "output_type": "stream",
     "text": [
      "34\n"
     ]
    }
   ],
   "source": [
    "conn = pymongo.MongoClient(\"127.0.0.1\", 27017) \n",
    "dbname = conn.testdb                       #mongodb에 연결하는 두번째 방법\n",
    "collect = dbname.people                  #collection에 연결하는 두번째 방법 #people이라는 collection이 없어도 자동으로 만들어진다\n",
    "\n",
    "#datas = []\n",
    "#for i in range(10):\n",
    "#    data = {\"number\" : i}\n",
    "#    datas.append(data)\n",
    "#print(datas)\n",
    "\n",
    "collect.insert_many([ {\"number\" : i} for i in range(10)])\n",
    "print(collect.count_documents({})) \n",
    "\n",
    "\n",
    "conn.close()\n"
   ]
  },
  {
   "cell_type": "markdown",
   "id": "14df34ec",
   "metadata": {},
   "source": [
    "### (6) 조회기능"
   ]
  },
  {
   "cell_type": "code",
   "execution_count": 37,
   "id": "d3b65b38",
   "metadata": {},
   "outputs": [
    {
     "name": "stdout",
     "output_type": "stream",
     "text": [
      "{'_id': ObjectId('6406b4c8e137487d7b761cd2'), 'number': 0}\n",
      "{'_id': ObjectId('6406b4c8e137487d7b761cd3'), 'number': 1}\n",
      "{'_id': ObjectId('6406b4c8e137487d7b761cd4'), 'number': 2}\n",
      "{'_id': ObjectId('6406b4c8e137487d7b761cd5'), 'number': 3}\n",
      "{'_id': ObjectId('6406b4c8e137487d7b761cd6'), 'number': 4}\n",
      "{'_id': ObjectId('6406b4c8e137487d7b761cd7'), 'number': 5}\n",
      "{'_id': ObjectId('6406b4c8e137487d7b761cd8'), 'number': 6}\n",
      "{'_id': ObjectId('6406b4c8e137487d7b761cd9'), 'number': 7}\n",
      "{'_id': ObjectId('6406b4c8e137487d7b761cda'), 'number': 8}\n",
      "{'_id': ObjectId('6406b4c8e137487d7b761cdb'), 'number': 9}\n",
      "{'_id': ObjectId('6406b4ece137487d7b761cdd'), 'number': 0}\n",
      "{'_id': ObjectId('6406b4ece137487d7b761cde'), 'number': 1}\n",
      "{'_id': ObjectId('6406b4ece137487d7b761cdf'), 'number': 2}\n",
      "{'_id': ObjectId('6406b4ece137487d7b761ce0'), 'number': 3}\n",
      "{'_id': ObjectId('6406b4ece137487d7b761ce1'), 'number': 4}\n",
      "{'_id': ObjectId('6406b4ece137487d7b761ce2'), 'number': 5}\n",
      "{'_id': ObjectId('6406b4ece137487d7b761ce3'), 'number': 6}\n",
      "{'_id': ObjectId('6406b4ece137487d7b761ce4'), 'number': 7}\n",
      "{'_id': ObjectId('6406b4ece137487d7b761ce5'), 'number': 8}\n",
      "{'_id': ObjectId('6406b4ece137487d7b761ce6'), 'number': 9}\n",
      "{'_id': ObjectId('6406b5b2844600da8b9702b7'), 'name': 'Abet', 'age': 19.0}\n",
      "{'_id': ObjectId('6406b5b2844600da8b9702b8'), 'name': 'Betty', 'age': 20.0}\n",
      "{'_id': ObjectId('6406b5b2844600da8b9702b9'), 'name': 'Charlie', 'age': 23.0, 'skills': ['mongodb', 'nodejs']}\n",
      "{'_id': ObjectId('6406b5b2844600da8b9702ba'), 'name': 'David', 'age': 23.0, 'score': 20.0}\n",
      "{'_id': ObjectId('6406e884e2d15343b5a8eda0'), 'number': 0}\n",
      "{'_id': ObjectId('6406e884e2d15343b5a8eda1'), 'number': 1}\n",
      "{'_id': ObjectId('6406e884e2d15343b5a8eda2'), 'number': 2}\n",
      "{'_id': ObjectId('6406e884e2d15343b5a8eda3'), 'number': 3}\n",
      "{'_id': ObjectId('6406e884e2d15343b5a8eda4'), 'number': 4}\n",
      "{'_id': ObjectId('6406e884e2d15343b5a8eda5'), 'number': 5}\n",
      "{'_id': ObjectId('6406e884e2d15343b5a8eda6'), 'number': 6}\n",
      "{'_id': ObjectId('6406e884e2d15343b5a8eda7'), 'number': 7}\n",
      "{'_id': ObjectId('6406e884e2d15343b5a8eda8'), 'number': 8}\n",
      "{'_id': ObjectId('6406e884e2d15343b5a8eda9'), 'number': 9}\n",
      "-----------------------------------------------------\n",
      "{'_id': ObjectId('6406b5b2844600da8b9702b8'), 'name': 'Betty', 'age': 20.0}\n",
      "-----------------------------------------------------\n",
      "{'_id': ObjectId('6406b5b2844600da8b9702b9'), 'name': 'Charlie', 'age': 23.0, 'skills': ['mongodb', 'nodejs']}\n",
      "{'_id': ObjectId('6406b5b2844600da8b9702ba'), 'name': 'David', 'age': 23.0, 'score': 20.0}\n",
      "{'_id': ObjectId('6406b5b2844600da8b9702b8'), 'name': 'Betty', 'age': 20.0}\n"
     ]
    }
   ],
   "source": [
    "conn = pymongo.MongoClient(\"127.0.0.1\", 27017) \n",
    "dbname = conn.testdb                       #mongodb에 연결하는 두번째 방법\n",
    "collect = dbname.people\n",
    "\n",
    "# 전체 조회\n",
    "\n",
    "for i in collect.find():\n",
    "    print(i)\n",
    "\n",
    "print(\"-----------------------------------------------------\")\n",
    "\n",
    "# 나이가 20세인 document 조회\n",
    "for i in collect.find({\"age\" : 20}):\n",
    "    print(i)\n",
    "    \n",
    "# 나이가 23세이상인 document 조회    \n",
    "print(\"-----------------------------------------------------\")\n",
    "for i in collect.find({\"age\" : {\"$gte\": 23}}):      #몽고db에서 연산자에 \"\"를 쓰지 않았지만 여기서는 \"\"을 써야함\n",
    "    print(i)                                         # 키 값에서는 항상 \"\"를 써주면 손해가 없음.\n",
    "\n",
    "    \n",
    "#  조건중 하나만 조회\n",
    "#print(collect.find_one())\n",
    "print(collect.find_one({\"age\" : {\"$gte\": 20}}))\n",
    "\n",
    "conn.close()"
   ]
  },
  {
   "cell_type": "markdown",
   "id": "83f90c43",
   "metadata": {},
   "source": [
    "### (7) 수정 기능"
   ]
  },
  {
   "cell_type": "code",
   "execution_count": 39,
   "id": "edae8fbd",
   "metadata": {},
   "outputs": [
    {
     "name": "stdout",
     "output_type": "stream",
     "text": [
      "{'_id': ObjectId('6406b5b2844600da8b9702b7'), 'name': 'Abet', 'age': 19.0}\n",
      "{'_id': ObjectId('6406b5b2844600da8b9702b7'), 'name': 'Abet', 'age': 20}\n"
     ]
    },
    {
     "data": {
      "text/plain": [
       "<bound method MongoClient.close of MongoClient(host=['127.0.0.1:27017'], document_class=dict, tz_aware=False, connect=True)>"
      ]
     },
     "execution_count": 39,
     "metadata": {},
     "output_type": "execute_result"
    }
   ],
   "source": [
    "conn = MongoClient(\"127.0.0.1\", 27017) \n",
    "dbname = conn.testdb                       #mongodb에 연결하는 두번째 방법\n",
    "collect = dbname.people\n",
    "\n",
    "print(collect.find_one({\"name\" : \"Abet\"}))\n",
    "collect.update_one({\"name\" : \"Abet\"}, {\"$set\" : {\"age\" : 20}})\n",
    "print(collect.find_one({\"name\" : \"Abet\"}))\n",
    "\n",
    "conn.close"
   ]
  }
 ],
 "metadata": {
  "kernelspec": {
   "display_name": "Python 3 (ipykernel)",
   "language": "python",
   "name": "python3"
  },
  "language_info": {
   "codemirror_mode": {
    "name": "ipython",
    "version": 3
   },
   "file_extension": ".py",
   "mimetype": "text/x-python",
   "name": "python",
   "nbconvert_exporter": "python",
   "pygments_lexer": "ipython3",
   "version": "3.9.13"
  }
 },
 "nbformat": 4,
 "nbformat_minor": 5
}
