{
 "cells": [
  {
   "cell_type": "code",
   "execution_count": 1,
   "id": "02f3c620",
   "metadata": {},
   "outputs": [
    {
     "data": {
      "text/plain": [
       "'1.21.5'"
      ]
     },
     "execution_count": 1,
     "metadata": {},
     "output_type": "execute_result"
    }
   ],
   "source": [
    "import numpy as np\n",
    "np.__version__"
   ]
  },
  {
   "cell_type": "markdown",
   "id": "276b0e51",
   "metadata": {},
   "source": [
    "## 1. 1차원 배열"
   ]
  },
  {
   "cell_type": "code",
   "execution_count": 6,
   "id": "f2977c88",
   "metadata": {},
   "outputs": [
    {
     "name": "stdout",
     "output_type": "stream",
     "text": [
      "[1 2 3 4 5]\n",
      "<class 'numpy.ndarray'>\n",
      "(5,)\n",
      "1 2 3 4 5\n",
      "[4 5 6 4 5]\n"
     ]
    }
   ],
   "source": [
    "a1 = np.array([1,2,3,4,5])\n",
    "print(a1)\n",
    "print(type(a1))\n",
    "print(a1.shape) # a1이 어떤 모양을 가지고 있냐. (5, ) 5개의 값을 가진 1차원 배열이구나.\n",
    "print(a1[0], a1[1],a1[2],a1[3],a1[4])\n",
    "a1[0] = 4 # 리스트처럼 이렇게 수정이 가능하다.\n",
    "a1[1] = 5 # 리스트처럼 이렇게 접근이 가능하다.\n",
    "a1[2] = 6\n",
    "print(a1) "
   ]
  },
  {
   "cell_type": "code",
   "execution_count": 9,
   "id": "a017e251",
   "metadata": {},
   "outputs": [
    {
     "name": "stdout",
     "output_type": "stream",
     "text": [
      "[[1 2 3]\n",
      " [4 5 6]\n",
      " [7 8 9]]\n",
      "(3, 3)\n",
      "1 5 9\n"
     ]
    }
   ],
   "source": [
    "a2 = np.array([[1,2,3], [4,5,6], [7,8,9]])\n",
    "print(a2)\n",
    "print(a2.shape) # 3개의 항과 3개의 열을 가진 2차원 배열\n",
    "print(a2[0,0], a2[1,1], a2[2,2])"
   ]
  },
  {
   "cell_type": "code",
   "execution_count": 12,
   "id": "66ecb7c5",
   "metadata": {},
   "outputs": [
    {
     "name": "stdout",
     "output_type": "stream",
     "text": [
      "[[[1 2 3]\n",
      "  [4 5 6]\n",
      "  [7 8 9]]\n",
      "\n",
      " [[1 2 3]\n",
      "  [4 5 6]\n",
      "  [7 8 9]]\n",
      "\n",
      " [[1 2 3]\n",
      "  [4 5 6]\n",
      "  [7 8 9]]]\n",
      "(3, 3, 3)\n"
     ]
    }
   ],
   "source": [
    "a3 = np.array([[[1,2,3], [4,5,6], [7,8,9]],\n",
    "             [[1,2,3], [4,5,6], [7,8,9]],\n",
    "             [[1,2,3], [4,5,6], [7,8,9]]])\n",
    "print(a3)\n",
    "print(a3.shape)"
   ]
  },
  {
   "cell_type": "code",
   "execution_count": null,
   "id": "880c7794",
   "metadata": {},
   "outputs": [],
   "source": []
  },
  {
   "cell_type": "code",
   "execution_count": 133,
   "id": "3de3bd4d",
   "metadata": {},
   "outputs": [
    {
     "name": "stdout",
     "output_type": "stream",
     "text": [
      "[1, 2, 3, 4, 5, 10, 20, '가', '나']\n",
      "<class 'list'>\n"
     ]
    }
   ],
   "source": [
    "a = [1, 2, 3, 4, 5, 10, 20, \"가\", \"나\"] #배열이 아니라 리스트\n",
    "print(a)\n",
    "print(type(a))"
   ]
  },
  {
   "cell_type": "code",
   "execution_count": 134,
   "id": "15c6b314",
   "metadata": {},
   "outputs": [
    {
     "name": "stdout",
     "output_type": "stream",
     "text": [
      "['1' '2' '3' '4' '5' '10' '20' '가' '나']\n",
      "<class 'numpy.ndarray'>\n",
      "(9,)\n",
      "1\n",
      "<U11\n"
     ]
    }
   ],
   "source": [
    "a = np.array([1, 2, 3, 4, 5, 10, 20, \"가\", \"나\"]) #콤마가 없고 모두 같은 형식으로 묶어준다 #이것이 배열\n",
    "print(a)\n",
    "print(type(a)) # <class 'numpy.ndarray'>가 있어서 배열을 쉽게 쓸 수 있다. nd = n dimension = 다차원\n",
    "print(a.shape) # (9,) = 1차원에 9개의 값이 있다, 2차원이 존재하지 않는다\n",
    "print(a.ndim)  # 1 = 1차원\n",
    "print(a.dtype) # U = Unicode / 유니코드로 11바이트\n"
   ]
  },
  {
   "cell_type": "code",
   "execution_count": 135,
   "id": "b99ff54b",
   "metadata": {},
   "outputs": [
    {
     "name": "stdout",
     "output_type": "stream",
     "text": [
      "['1' '2' '3' '4' '5' '10' '20' '30' '40']\n",
      "[ 1  2  3  4  5 10 20 30 40]\n",
      "[ 1.  2.  3.  4.  5. 10. 20. 30. 40.]\n"
     ]
    }
   ],
   "source": [
    "a = np.array([1, 2, 3, 4, 5, 10, 20, \"30\", \"40\"]) # 기본\n",
    "print(a)\n",
    "\n",
    "a = np.array([1, 2, 3, 4, 5, 10, 20, \"30\", \"40\"], dtype = int) # 정수형으로 타입설정\n",
    "print(a)\n",
    "\n",
    "a = np.array([1, 2, 3, 4, 5, 10, 20, \"30\", \"40\"], dtype = float) # 실수형으로 타입 설정 # 소숫점\n",
    "print(a)"
   ]
  },
  {
   "cell_type": "markdown",
   "id": "7b63139e",
   "metadata": {},
   "source": [
    "### (1) 벡터화 연산\n",
    "\n",
    "    - 1차원 배열 : 벡터\n",
    "    - 2차원 배열 : 매트릭스\n",
    "    "
   ]
  },
  {
   "cell_type": "code",
   "execution_count": 4,
   "id": "9fd54146",
   "metadata": {},
   "outputs": [
    {
     "name": "stdout",
     "output_type": "stream",
     "text": [
      "[0, 1, 2, 3, 4, 5, 6, 7, 8, 9, 0, 1, 2, 3, 4, 5, 6, 7, 8, 9]\n",
      "[ 0  2  4  6  8 10 12 14 16 18]\n",
      "[-2 -1  0  1  2  3  4  5  6  7]\n",
      "[ 2  3  4  5  6  7  8  9 10 11]\n"
     ]
    }
   ],
   "source": [
    "a = [0, 1, 2, 3, 4, 5, 6, 7, 8, 9]\n",
    "print(a*2) # 연산이 아니라 반복\n",
    "#print(a-2) #연산이 안된다\n",
    "\n",
    "b = np.array(a) # 배열로 바꿔주었다\n",
    "print(b*2) # 연산이 되었다\n",
    "print(b-2) # 연산이 되었다\n",
    "print(b+2) # 각 값에 +2가 되었다"
   ]
  },
  {
   "cell_type": "markdown",
   "id": "ada4db54",
   "metadata": {},
   "source": [
    "### (2) 인덱스 접근"
   ]
  },
  {
   "cell_type": "code",
   "execution_count": 5,
   "id": "a5b42efb",
   "metadata": {},
   "outputs": [
    {
     "name": "stdout",
     "output_type": "stream",
     "text": [
      "0 1\n"
     ]
    }
   ],
   "source": [
    "print(b[0], b[1])"
   ]
  },
  {
   "cell_type": "markdown",
   "id": "6e954774",
   "metadata": {},
   "source": [
    "## 2. 2차원 배열"
   ]
  },
  {
   "cell_type": "code",
   "execution_count": 138,
   "id": "72e6491a",
   "metadata": {},
   "outputs": [
    {
     "name": "stdout",
     "output_type": "stream",
     "text": [
      "[[1 2 3]\n",
      " [4 5 6]]\n",
      "(2, 3)\n",
      "2\n",
      "int32\n"
     ]
    }
   ],
   "source": [
    "a =np.array([[1,2,3], [4,5,6]])\n",
    "print(a)\n",
    "print(a.shape) \n",
    "print(a.ndim) # 2차원\n",
    "print(a.dtype) #정수형"
   ]
  },
  {
   "cell_type": "markdown",
   "id": "0cfa0e92",
   "metadata": {},
   "source": [
    "### (1) 인덱스 접근"
   ]
  },
  {
   "cell_type": "code",
   "execution_count": 139,
   "id": "dbf63e48",
   "metadata": {},
   "outputs": [
    {
     "name": "stdout",
     "output_type": "stream",
     "text": [
      "[1 2 3]\n",
      "[4 5 6]\n",
      "1 2\n",
      "1\n",
      "1 2\n",
      "-------------------------------------------------------------\n",
      "1 2\n",
      "-------------------------------------------------------------\n",
      "2\n",
      "3\n"
     ]
    }
   ],
   "source": [
    "a =np.array([[1,2,3], [4,5,6]])\n",
    "\n",
    "print(a[0]) # 배열\n",
    "print(a[1])\n",
    "\n",
    "print(a[0][0], a[0][1])\n",
    "print(a[0, 0])\n",
    "print(a[0, 0], a[0][1])\n",
    "\n",
    "print(\"-------------------------------------------------------------\")\n",
    "\n",
    "b = [[1,2,3], [4,5,6]] # 리스트\n",
    "print(b[0][0], b[0][1])\n",
    "# print(b[0, 0], b[0, 1]) # 이렇게하면 안되더라\n",
    "\n",
    "print(\"-------------------------------------------------------------\")\n",
    "\n",
    "print(len(a)) # 배열 a의 길이는? (값이 몇개냐)\n",
    "print(len(a[0])) # 배열 a의 첫번째 값의 길이는?"
   ]
  },
  {
   "cell_type": "markdown",
   "id": "ea0841be",
   "metadata": {},
   "source": [
    "## 3. 3차원 배열"
   ]
  },
  {
   "cell_type": "code",
   "execution_count": 140,
   "id": "53eeb409",
   "metadata": {},
   "outputs": [
    {
     "name": "stdout",
     "output_type": "stream",
     "text": [
      "[[[ 1  2  3  4]\n",
      "  [ 5  6  7  8]]\n",
      "\n",
      " [[ 9 10 11 12]\n",
      "  [13 14 15 16]]]\n",
      "(2, 2, 4)\n",
      "3\n",
      "int32\n",
      "2\n",
      "2\n",
      "4\n"
     ]
    }
   ],
   "source": [
    "a = np.array([[[1, 2, 3, 4], [5, 6, 7, 8]], [[9, 10, 11, 12], [13, 14, 15, 16]]])\n",
    "\n",
    "print(a)\n",
    "print(a.shape) \n",
    "print(a.ndim) # 3차원\n",
    "print(a.dtype) \n",
    "\n",
    "print(len(a)) \n",
    "print(len(a[0]))\n",
    "print(len(a[0][0]))"
   ]
  },
  {
   "cell_type": "code",
   "execution_count": 141,
   "id": "c8b2deaa",
   "metadata": {
    "scrolled": true
   },
   "outputs": [
    {
     "name": "stdout",
     "output_type": "stream",
     "text": [
      "1\n",
      "()\n",
      "0\n",
      "-------------------------------------------------------------\n",
      "[1]\n",
      "(1,)\n",
      "1\n",
      "-------------------------------------------------------------\n",
      "[[1]]\n",
      "(1, 1)\n",
      "2\n",
      "-------------------------------------------------------------\n",
      "[[[1]]]\n",
      "(1, 1, 1)\n",
      "3\n"
     ]
    }
   ],
   "source": [
    "a = np.array(1)\n",
    "print(a)\n",
    "print(a.shape)\n",
    "print(a.ndim) # 0차원, 그냥 상수 하나\n",
    "\n",
    "print(\"-------------------------------------------------------------\")\n",
    "\n",
    "a = np.array([1])\n",
    "print(a)\n",
    "print(a.shape)\n",
    "print(a.ndim) # 1차원\n",
    "\n",
    "print(\"-------------------------------------------------------------\")\n",
    "\n",
    "a = np.array([[1]])\n",
    "print(a)\n",
    "print(a.shape)\n",
    "print(a.ndim) # 2차원\n",
    "\n",
    "print(\"-------------------------------------------------------------\")\n",
    "\n",
    "a = np.array([[[1]]])\n",
    "print(a)\n",
    "print(a.shape)\n",
    "print(a.ndim) # 3차원"
   ]
  },
  {
   "cell_type": "markdown",
   "id": "b9548621",
   "metadata": {},
   "source": [
    "## 4. 집계함수\n",
    "\n"
   ]
  },
  {
   "cell_type": "code",
   "execution_count": 6,
   "id": "be863363",
   "metadata": {},
   "outputs": [
    {
     "name": "stdout",
     "output_type": "stream",
     "text": [
      "[-1.2879723  -0.91856303 -0.51429235  0.15960966 -0.6338543  -0.04804303\n",
      " -0.44528691  0.5148994 ]\n",
      "[-0.61125188 -1.08535642  2.1166781  -0.49657413 -0.71200577 -1.2852939\n",
      "  0.70867722  0.63144384]\n"
     ]
    }
   ],
   "source": [
    "x = np.random.randn(8)\n",
    "print(x)\n",
    "y = np.random.randn(8)\n",
    "print(y)"
   ]
  },
  {
   "cell_type": "code",
   "execution_count": null,
   "id": "1fa99f54",
   "metadata": {},
   "outputs": [],
   "source": [
    "np.maximum(x, y) # 같은 위치의 x와 y값 중에서 가장 높은 값을 가져옴"
   ]
  },
  {
   "cell_type": "code",
   "execution_count": null,
   "id": "4e4d9242",
   "metadata": {},
   "outputs": [],
   "source": [
    "arr = np.random.randn(5, 4)\n",
    "print(arr)"
   ]
  },
  {
   "cell_type": "code",
   "execution_count": null,
   "id": "b4cef78c",
   "metadata": {},
   "outputs": [],
   "source": [
    "?np.random.randn"
   ]
  },
  {
   "cell_type": "code",
   "execution_count": null,
   "id": "054fac23",
   "metadata": {},
   "outputs": [],
   "source": [
    "print(arr.sum())\n",
    "print(arr.sum(axis=0)) # 보통 0의 값이 열로 사용됨\n",
    "print(arr.sum(axis=1))"
   ]
  },
  {
   "cell_type": "code",
   "execution_count": null,
   "id": "8e0ee122",
   "metadata": {},
   "outputs": [],
   "source": [
    "?np.sum"
   ]
  },
  {
   "cell_type": "markdown",
   "id": "670ff645",
   "metadata": {},
   "source": [
    "## 5. 배열의 인덱싱"
   ]
  },
  {
   "cell_type": "code",
   "execution_count": 17,
   "id": "491c519f",
   "metadata": {},
   "outputs": [
    {
     "name": "stdout",
     "output_type": "stream",
     "text": [
      "2 3 4 2\n"
     ]
    }
   ],
   "source": [
    "arr = np.array([0, 1, 2, 3, 4])\n",
    "\n",
    "print(arr[2], arr[3], arr[-1], arr[-3])"
   ]
  },
  {
   "cell_type": "code",
   "execution_count": 3,
   "id": "e225a764",
   "metadata": {},
   "outputs": [
    {
     "name": "stdout",
     "output_type": "stream",
     "text": [
      "[0 1 2 3 4 5 6 7 8 9]\n",
      "[0 2 4 6 8]\n",
      "[0 2 4 6 8]\n",
      "[0 3 6 9]\n",
      "[1 5 9]\n",
      "[9]\n"
     ]
    }
   ],
   "source": [
    "arr = np.array([i for i in range(10)]) # list comprehension도 사용가능!\n",
    "\n",
    "print(arr)\n",
    "\n",
    "idx = np.array([True, False,True, False,True, False,True, False,True, False]) # 참, 거짓\n",
    "\n",
    "print(arr[idx])\n",
    "print(arr[arr%2 == 0]) #list에서는 안되지만, 배열이라서 가능\n",
    "\n",
    "# arr에서 3의 배수를 찾아라\n",
    "print(arr[arr%3 == 0])\n",
    "\n",
    "# arr에서 4로 나누면 1이 남는 수를 찾아라\n",
    "print(arr[arr%4 == 1])\n",
    "\n",
    "#arr에서 3으로 나누면 나눠지고 4로 나누면 1이 남는 수를 찾아라\n",
    "\n",
    "print(arr[(arr % 3 == 0) & (arr % 4 == 1)]) # and 대신 &를 써준다.\n",
    "\n"
   ]
  },
  {
   "cell_type": "code",
   "execution_count": 20,
   "id": "9649b3d9",
   "metadata": {},
   "outputs": [
    {
     "name": "stdout",
     "output_type": "stream",
     "text": [
      "[9]\n"
     ]
    }
   ],
   "source": [
    "#arr에서 3으로 나누면 나눠지고 4로 나누면 1이 남는 수를 찾아라 - 강사님 버전\n",
    "\n",
    "#print(arr[arr % 3 == 0 & arr % 4 ==1]) #이렇게 묶는게 아니라 아래처럼 묶자\n",
    "print(arr[(arr % 3 == 0) & (arr % 4 ==1)]) # 이게 정답 # 여러개의 조건문을 묶을 때는 괄호로 묶어주자"
   ]
  },
  {
   "cell_type": "markdown",
   "id": "2f235927",
   "metadata": {},
   "source": [
    "### 배열의 슬라이싱\n",
    "- 슬라이싱 구문 : a[start:stop:step]\n",
    "- 기본값: start=0, stop=ndim, step=1"
   ]
  },
  {
   "cell_type": "code",
   "execution_count": 44,
   "id": "c6ea8351",
   "metadata": {},
   "outputs": [
    {
     "name": "stdout",
     "output_type": "stream",
     "text": [
      "[4 5 6 4 5]\n",
      "[4 5]\n",
      "[4 5 6 4 5]\n",
      "[4]\n",
      "[4 6 5]\n",
      "[5 4 6 5 4]\n"
     ]
    }
   ],
   "source": [
    "print(a1)\n",
    "print(a1[0:2])\n",
    "print(a1[0:])\n",
    "print(a1[:1])\n",
    "print(a1[::2])\n",
    "print(a1[::-1])"
   ]
  },
  {
   "cell_type": "code",
   "execution_count": 47,
   "id": "c5b19bde",
   "metadata": {},
   "outputs": [
    {
     "name": "stdout",
     "output_type": "stream",
     "text": [
      "[[1 2 3]\n",
      " [4 5 6]\n",
      " [7 8 9]]\n",
      "[4 5 6]\n",
      "[4 5 6]\n",
      "[[1 2]\n",
      " [4 5]]\n",
      "[[6 5 4]\n",
      " [9 8 7]]\n",
      "[[9 8 7]\n",
      " [6 5 4]\n",
      " [3 2 1]]\n"
     ]
    }
   ],
   "source": [
    "print(a2)\n",
    "print(a2[1])\n",
    "print(a2[1, :])\n",
    "print(a2[:2, :2])\n",
    "print(a2[1:, ::-1]) # 역순으로\n",
    "print(a2[::-1, ::-1]) # 행렬 전체 역순으로"
   ]
  },
  {
   "cell_type": "code",
   "execution_count": 155,
   "id": "81179969",
   "metadata": {},
   "outputs": [
    {
     "name": "stdout",
     "output_type": "stream",
     "text": [
      "[0 1]\n",
      "-------------------------------------------------------------\n",
      "[[4 5]\n",
      " [8 9]]\n",
      "-------------------------------------------------------------\n",
      "[0 1 2 3]\n",
      "-------------------------------------------------------------\n",
      "[[ 8  9 10 11]\n",
      " [ 4  5  6  7]\n",
      " [ 0  1  2  3]]\n",
      "-------------------------------------------------------------\n",
      "[[ 1  2]\n",
      " [ 5  6]\n",
      " [ 9 10]]\n"
     ]
    }
   ],
   "source": [
    "arr = np.array([[0,1,2,3],\n",
    "                [4,5,6,7],\n",
    "                [8,9,10,11]])\n",
    "\n",
    "print(arr[0, 0:2]) # 0번째 행의 2번째 열까지\n",
    "\n",
    "print(\"-------------------------------------------------------------\")\n",
    "\n",
    "print(arr[1:3, 0:2]) # 1번째 행에서 3번째 행까지, 0번째 0에서 2번째열까지\n",
    "\n",
    "print(\"-------------------------------------------------------------\")\n",
    "\n",
    "print(arr[0, :])\n",
    "\n",
    "print(\"-------------------------------------------------------------\")\n",
    "\n",
    "print(arr[[2, 1, 0], :])\n",
    "\n",
    "print(\"-------------------------------------------------------------\")\n",
    "\n",
    "print(arr[:, [1, 2]])"
   ]
  },
  {
   "cell_type": "markdown",
   "id": "246b6585",
   "metadata": {},
   "source": [
    "### 불리언 인덱싱"
   ]
  },
  {
   "cell_type": "code",
   "execution_count": 51,
   "id": "9e38df05",
   "metadata": {},
   "outputs": [
    {
     "name": "stdout",
     "output_type": "stream",
     "text": [
      "[4 5 6 4 5]\n",
      "[5 6 5]\n",
      "[4 6 4]\n"
     ]
    }
   ],
   "source": [
    "print(a1)\n",
    "bi = [False, True, True, False, True]\n",
    "print(a1[bi]) # True에 해당하는 값만 출력이 된다\n",
    "\n",
    "b1 = [True, False, True, True, False]\n",
    "print(a1[b1])"
   ]
  },
  {
   "cell_type": "code",
   "execution_count": 52,
   "id": "1cef0cfa",
   "metadata": {},
   "outputs": [
    {
     "name": "stdout",
     "output_type": "stream",
     "text": [
      "[[1 2 3]\n",
      " [4 5 6]\n",
      " [7 8 9]]\n",
      "[[ True  True  True]\n",
      " [ True  True False]\n",
      " [ True False False]]\n",
      "[1 2 3 4 5 7]\n"
     ]
    }
   ],
   "source": [
    "print(a2)\n",
    "bi = np.random.randint(0,2, (3,3), dtype=bool)\n",
    "print(bi)\n",
    "print(a2[bi])"
   ]
  },
  {
   "cell_type": "markdown",
   "id": "97fa2abb",
   "metadata": {},
   "source": [
    "### 팬시 인덱싱(Fancy Indexing)"
   ]
  },
  {
   "cell_type": "code",
   "execution_count": 54,
   "id": "719f29db",
   "metadata": {},
   "outputs": [
    {
     "name": "stdout",
     "output_type": "stream",
     "text": [
      "[4 5 6 4 5]\n",
      "[4, 6]\n",
      "[4 6]\n",
      "[[4 5]\n",
      " [6 4]]\n"
     ]
    }
   ],
   "source": [
    "print(a1)\n",
    "print([a1[0], a1[2]])\n",
    "ind = [0,2]\n",
    "print(a1[ind])\n",
    "ind = np.array([[0,1], [2,0]]) # 2차원 배열을 인덱스로 잡아주니 결과값도 2차원으로 나왔다.\n",
    "print(a1[ind])"
   ]
  },
  {
   "cell_type": "code",
   "execution_count": 56,
   "id": "74ed8b49",
   "metadata": {},
   "outputs": [
    {
     "name": "stdout",
     "output_type": "stream",
     "text": [
      "[[1 2 3]\n",
      " [4 5 6]\n",
      " [7 8 9]]\n",
      "[2 9]\n",
      "[[1 2 3]\n",
      " [7 8 9]]\n",
      "[[2 3]\n",
      " [5 6]\n",
      " [8 9]]\n"
     ]
    }
   ],
   "source": [
    "print(a2)\n",
    "row = np.array([0,2])\n",
    "col = np.array([1,2])\n",
    "print(a2[row, col]) # row의 첫번째 값 0과 col의 첫번째 값 1을 통해서 0번째 열, 1번째 값 = 2\n",
    "# row의 2번째 값 2와 col의 2번째 값 2를 통해서 2번째 열, 2번째 값 = 9\n",
    "print(a2[row, :])\n",
    "print(a2[:, col])"
   ]
  },
  {
   "cell_type": "markdown",
   "id": "8f17d050",
   "metadata": {},
   "source": [
    "## 7. numpy 자료형\n",
    "\n",
    "- b : 불리언\n",
    "- i : 정수형\n",
    "- u : 부호없는 정수형(양수만 쓸거다) (unsigned)\n",
    "- f : 부동 소수점\n",
    "- c : 복소수\n",
    "- O : 객체 (Object)\n",
    "- S : 바이트 문자열, 아스키코드, 영어만 쓸거라면 S\n",
    "- U : 유니코드 문자열, 영어 외 다른 문자도 쓸거라면 U\n"
   ]
  },
  {
   "cell_type": "code",
   "execution_count": null,
   "id": "61f8c3bd",
   "metadata": {},
   "outputs": [],
   "source": [
    "arr = np.array([1, 2, 3], dtype = \"f\") # defualt값이 32\n",
    "print(arr)\n",
    "print(arr.dtype)\n",
    "\n",
    "arr = np.array([1, 2, 3], dtype = np.float16) # 직접 지정해주고 싶다면 이렇게!\n",
    "print(arr)\n",
    "print(arr.dtype)\n",
    "\n",
    "arr = np.array([1, 2, 3], dtype = \"S\")\n",
    "print(arr) # dtype = \"S\"에서는 값 앞에 b가 붙는데 이는 Byte를 나타낸다. 1바이트임을 알 수 있음.\n",
    "print(arr.dtype)\n",
    "print(arr[0]+arr[1])\n",
    "print(arr[0]+arr[1]+arr[2])\n",
    "\n",
    "arr = np.array([1, 2, 3], dtype = \"U\") # 유니코드로 바꿨더니 B 표시가 사라짐\n",
    "print(arr) \n",
    "print(arr.dtype)\n",
    "print(arr[0]+arr[1])\n",
    "print(arr[0]+arr[1]+arr[2])"
   ]
  },
  {
   "cell_type": "markdown",
   "id": "36e6a6d7",
   "metadata": {},
   "source": [
    "## 8. 배열 생성"
   ]
  },
  {
   "cell_type": "markdown",
   "id": "556dff33",
   "metadata": {},
   "source": [
    "### zeros()\n",
    " - 모든 요소를 0으로 초기화"
   ]
  },
  {
   "cell_type": "code",
   "execution_count": 162,
   "id": "b8f3b979",
   "metadata": {},
   "outputs": [
    {
     "name": "stdout",
     "output_type": "stream",
     "text": [
      "-------------------------------------------------------------\n",
      "[0 0 0 0 0]\n",
      "int64\n",
      "-------------------------------------------------------------\n",
      "['' '' '' '' '']\n",
      "<U4\n",
      "['abc' 'abcd' 'abcd' '' '']\n",
      "-------------------------------------------------------------\n",
      "[[0. 0. 0.]\n",
      " [0. 0. 0.]]\n"
     ]
    }
   ],
   "source": [
    "np.zeros(5) # 따로 지정하지 않으면 실수형(float)\n",
    "\n",
    "\n",
    "print(\"-------------------------------------------------------------\")\n",
    "\n",
    "arr = np.zeros(5, dtype=\"i8\")\n",
    "print(arr)\n",
    "print(arr.dtype)\n",
    "\n",
    "print(\"-------------------------------------------------------------\")\n",
    "\n",
    "arr = np.zeros(5, dtype=\"U4\") # 4글자까지 쓰게 하겠다.\n",
    "print(arr)\n",
    "print(arr.dtype)\n",
    "arr[0] = \"abc\"\n",
    "arr[1] = \"abcd\"\n",
    "arr[2] = \"abcde\" # 5글자는 아무것도 안쓰인 상태로 나왔다.\n",
    "print(arr)\n",
    "\n",
    "print(\"-------------------------------------------------------------\")\n",
    "\n",
    "print(np.zeros((2, 3)))"
   ]
  },
  {
   "cell_type": "markdown",
   "id": "dfbe9340",
   "metadata": {},
   "source": [
    "### ones \n",
    "- 모든 요소를 1로 초기화"
   ]
  },
  {
   "cell_type": "code",
   "execution_count": 163,
   "id": "4d08476b",
   "metadata": {},
   "outputs": [
    {
     "name": "stdout",
     "output_type": "stream",
     "text": [
      "[[[1. 1. 1. 1.]\n",
      "  [1. 1. 1. 1.]\n",
      "  [1. 1. 1. 1.]]\n",
      "\n",
      " [[1. 1. 1. 1.]\n",
      "  [1. 1. 1. 1.]\n",
      "  [1. 1. 1. 1.]]]\n",
      "-------------------------------------------------------------\n",
      "[[0. 0. 0.]\n",
      " [0. 0. 0.]]\n",
      "[[1. 1. 1.]\n",
      " [1. 1. 1.]]\n",
      "-------------------------------------------------------------\n"
     ]
    }
   ],
   "source": [
    "arr = np.ones((2, 3, 4))\n",
    "print(arr)\n",
    "\n",
    "print(\"-------------------------------------------------------------\")\n",
    "\n",
    "arr1 = np.zeros((2,3)) # 0으로 배열을 만들자\n",
    "print(arr1)\n",
    "arr2 = np.ones_like(arr1) # arr1을 만들었지만 0이 아니라 1로 바꾸고 싶다\n",
    "print(arr2)\n",
    "\n",
    "print(\"-------------------------------------------------------------\")\n",
    "\n"
   ]
  },
  {
   "cell_type": "code",
   "execution_count": null,
   "id": "b41de57a",
   "metadata": {},
   "outputs": [],
   "source": []
  },
  {
   "cell_type": "markdown",
   "id": "7ba60eb1",
   "metadata": {},
   "source": [
    "### full()\n",
    "- 모든 요소를 지정한 값으로 초기화"
   ]
  },
  {
   "cell_type": "code",
   "execution_count": 13,
   "id": "22941418",
   "metadata": {},
   "outputs": [
    {
     "name": "stdout",
     "output_type": "stream",
     "text": [
      "[[1.31 1.31 1.31]\n",
      " [1.31 1.31 1.31]\n",
      " [1.31 1.31 1.31]]\n"
     ]
    }
   ],
   "source": [
    "full1 = np.full((3,3), 1.31)\n",
    "print(full1)"
   ]
  },
  {
   "cell_type": "markdown",
   "id": "e8a8c39b",
   "metadata": {},
   "source": [
    "### eye()\n",
    "- 단위행렬(identity matrix) 생성\n",
    "- 주대각선의 원소가 모두 1이고 나머지 원소는 모두 0인 정사각 행렬"
   ]
  },
  {
   "cell_type": "code",
   "execution_count": 14,
   "id": "e6c495fd",
   "metadata": {},
   "outputs": [
    {
     "data": {
      "text/plain": [
       "array([[1., 0., 0.],\n",
       "       [0., 1., 0.],\n",
       "       [0., 0., 1.]])"
      ]
     },
     "execution_count": 14,
     "metadata": {},
     "output_type": "execute_result"
    }
   ],
   "source": [
    "np.eye(3)"
   ]
  },
  {
   "cell_type": "markdown",
   "id": "94e0475b",
   "metadata": {},
   "source": [
    "### empty()\n",
    "- 초기화되지 않은 배열 생성\n",
    "- 초기화가 없어서 배열 생성비용 저렴하고 빠름\n",
    "- 초기화되지 않아서 기존 메모리 위치에 존재하는 값이 있음"
   ]
  },
  {
   "cell_type": "code",
   "execution_count": 16,
   "id": "d29d0b10",
   "metadata": {},
   "outputs": [
    {
     "name": "stdout",
     "output_type": "stream",
     "text": [
      "[[1.27734575e-311 2.47032823e-322 0.00000000e+000]\n",
      " [0.00000000e+000 1.14587773e-312 1.58817677e-052]\n",
      " [7.12060217e-091 5.93736762e-038 3.54811976e-062]\n",
      " [2.46406370e+184 3.99910963e+252 1.90979636e-312]]\n"
     ]
    },
    {
     "data": {
      "text/plain": [
       "array([1.27734575e-311, 2.47032823e-322, 1.14587773e-312, 1.58817677e-052,\n",
       "       7.12060217e-091, 5.93736762e-038, 3.54811976e-062, 2.46406370e+184,\n",
       "       3.99910963e+252, 1.90979636e-312])"
      ]
     },
     "execution_count": 16,
     "metadata": {},
     "output_type": "execute_result"
    }
   ],
   "source": [
    "arr3 = np.empty((4,3)) #비워두겠다 -> 채우지않겠다 -> 메모리에 있던 값을 그대로 가져온다 -> 가비지값이 나온다\n",
    "print(arr3)\n",
    "\n",
    "np.empty(10)"
   ]
  },
  {
   "cell_type": "markdown",
   "id": "4f58882c",
   "metadata": {},
   "source": [
    "### _like()\n",
    "- 지정된 배열과 shape가 같은 행렬 생성\n",
    "- np.zeros_like()\n",
    "- np.ones_like()\n",
    "- np.full_like()\n",
    "- np.empty_like()"
   ]
  },
  {
   "cell_type": "code",
   "execution_count": 23,
   "id": "9b02a9a5",
   "metadata": {},
   "outputs": [
    {
     "name": "stdout",
     "output_type": "stream",
     "text": [
      "[4 5 6 4 5]\n"
     ]
    },
    {
     "data": {
      "text/plain": [
       "array([[[10, 10, 10],\n",
       "        [10, 10, 10],\n",
       "        [10, 10, 10]],\n",
       "\n",
       "       [[10, 10, 10],\n",
       "        [10, 10, 10],\n",
       "        [10, 10, 10]],\n",
       "\n",
       "       [[10, 10, 10],\n",
       "        [10, 10, 10],\n",
       "        [10, 10, 10]]])"
      ]
     },
     "execution_count": 23,
     "metadata": {},
     "output_type": "execute_result"
    }
   ],
   "source": [
    "print(a1)\n",
    "np.zeros_like(a1) # a1과 같은 배열의 0으로 채워진(zeros) 배열을 만들어줘\n",
    "np.ones_like(a2) # a2와 같은 배열에 1으로 채워진(ones) 배열을 만들어줘\n",
    "np.full_like(a3, 10) # a3와 같은 배열모양에 10으로 꽉 채워진 배열을 만들어줘"
   ]
  },
  {
   "cell_type": "markdown",
   "id": "6012b3b6",
   "metadata": {},
   "source": [
    "### arange()\n",
    "- 정수 범위로 배열 생성"
   ]
  },
  {
   "cell_type": "code",
   "execution_count": 26,
   "id": "3aade708",
   "metadata": {},
   "outputs": [
    {
     "data": {
      "text/plain": [
       "array([ 0,  2,  4,  6,  8, 10, 12, 14, 16, 18, 20, 22, 24, 26, 28])"
      ]
     },
     "execution_count": 26,
     "metadata": {},
     "output_type": "execute_result"
    }
   ],
   "source": [
    "np.arange(0, 30, 2) # 0 ~ 30까지 2의 간격으로 배열을 만들어줘"
   ]
  },
  {
   "cell_type": "markdown",
   "id": "3b2c32bf",
   "metadata": {},
   "source": [
    "### linspace()\n",
    "- 범위 내에서 균등 간격의 배열 생성"
   ]
  },
  {
   "cell_type": "code",
   "execution_count": 28,
   "id": "548b5636",
   "metadata": {},
   "outputs": [
    {
     "data": {
      "text/plain": [
       "array([0.  , 0.25, 0.5 , 0.75, 1.  ])"
      ]
     },
     "execution_count": 28,
     "metadata": {},
     "output_type": "execute_result"
    }
   ],
   "source": [
    "np.linspace(0, 1, 5) # 0 에서 1까지 총 갯수가 5가 되도록 균등한 간격으로 배열을 만들어줘(첫시작0과 끝나는1포함 5개)"
   ]
  },
  {
   "cell_type": "markdown",
   "id": "4fd2f98b",
   "metadata": {},
   "source": [
    "### logspace()\n",
    "- 범위 내에서 균등간격으로 로그 스케일로 배열 생성"
   ]
  },
  {
   "cell_type": "code",
   "execution_count": 29,
   "id": "23ffc857",
   "metadata": {},
   "outputs": [
    {
     "data": {
      "text/plain": [
       "array([ 1.25892541,  1.40400425,  1.565802  ,  1.74624535,  1.94748304,\n",
       "        2.1719114 ,  2.42220294,  2.70133812,  3.0126409 ,  3.35981829,\n",
       "        3.74700446,  4.17881006,  4.66037703,  5.19743987,  5.79639395,\n",
       "        6.46437163,  7.2093272 ,  8.04013161,  8.9666781 , 10.        ])"
      ]
     },
     "execution_count": 29,
     "metadata": {},
     "output_type": "execute_result"
    }
   ],
   "source": [
    "np.logspace(0.1, 1, 20)"
   ]
  },
  {
   "cell_type": "code",
   "execution_count": 24,
   "id": "82e64d9d",
   "metadata": {},
   "outputs": [
    {
     "name": "stdout",
     "output_type": "stream",
     "text": [
      "[[1.27734575e-311 2.47032823e-322 0.00000000e+000]\n",
      " [0.00000000e+000 1.14587773e-312 1.58817677e-052]\n",
      " [7.12060217e-091 5.93736762e-038 3.54811976e-062]\n",
      " [2.46406370e+184 3.99910963e+252 1.90979636e-312]]\n",
      "-------------------------------------------------------------\n",
      "[0 1 2 3 4 5 6 7 8 9]\n",
      "[  0.  25.  50.  75. 100.]\n",
      "[  0.          11.11111111  22.22222222  33.33333333  44.44444444\n",
      "  55.55555556  66.66666667  77.77777778  88.88888889 100.        ]\n"
     ]
    }
   ],
   "source": [
    "arr3 = np.empty((4,3)) #비워두겠다 -> 채우지않겠다 -> 메모리에 있던 값을 그대로 가져온다 -> 가비지값이 나온다\n",
    "print(arr3)\n",
    "\n",
    "print(\"-------------------------------------------------------------\")\n",
    "\n",
    "arr = np.arange(10) # arange = 배열로 만듬 , range = 리스트로 만들어줌\n",
    "print(arr)\n",
    "\n",
    "arr = np.linspace(0, 100, 5) # x축의 값을 채울 때 간간히 쓰인다\n",
    "print(arr)\n",
    "arr2 = np.linspace(0, 100, 10) # 값1과 값2 사이의 값을 균등한 간격으로 떨어진 10개를 뽑아온다.\n",
    "print(arr2)\n",
    "\n"
   ]
  },
  {
   "cell_type": "markdown",
   "id": "198dc81d",
   "metadata": {},
   "source": [
    "### 날짜 "
   ]
  },
  {
   "cell_type": "code",
   "execution_count": 36,
   "id": "b6f12d28",
   "metadata": {},
   "outputs": [
    {
     "data": {
      "text/plain": [
       "array('2020-01-01', dtype='datetime64[D]')"
      ]
     },
     "execution_count": 36,
     "metadata": {},
     "output_type": "execute_result"
    }
   ],
   "source": [
    "date = np.array('2020-01-01', dtype=np.datetime64)\n",
    "date"
   ]
  },
  {
   "cell_type": "code",
   "execution_count": 37,
   "id": "dec8c182",
   "metadata": {},
   "outputs": [
    {
     "data": {
      "text/plain": [
       "array(['2020-01-01', '2020-01-02', '2020-01-03', '2020-01-04',\n",
       "       '2020-01-05', '2020-01-06', '2020-01-07', '2020-01-08',\n",
       "       '2020-01-09', '2020-01-10', '2020-01-11', '2020-01-12'],\n",
       "      dtype='datetime64[D]')"
      ]
     },
     "execution_count": 37,
     "metadata": {},
     "output_type": "execute_result"
    }
   ],
   "source": [
    "date + np.arange(12)"
   ]
  },
  {
   "cell_type": "code",
   "execution_count": 38,
   "id": "d55a6ac3",
   "metadata": {},
   "outputs": [
    {
     "data": {
      "text/plain": [
       "numpy.datetime64('2020-06-01T12:00')"
      ]
     },
     "execution_count": 38,
     "metadata": {},
     "output_type": "execute_result"
    }
   ],
   "source": [
    "datetime = np.datetime64('2020-06-01 12:00')\n",
    "datetime\n",
    "                         "
   ]
  },
  {
   "cell_type": "code",
   "execution_count": 39,
   "id": "8ff60f13",
   "metadata": {},
   "outputs": [
    {
     "data": {
      "text/plain": [
       "numpy.datetime64('2020-06-01T12:00:12.340000000')"
      ]
     },
     "execution_count": 39,
     "metadata": {},
     "output_type": "execute_result"
    }
   ],
   "source": [
    "datetime = np.datetime64('2020-06-01 12:00:12.34', 'ns') # 'ns' 나노 초\n",
    "datetime"
   ]
  },
  {
   "cell_type": "code",
   "execution_count": null,
   "id": "1a63a09d",
   "metadata": {},
   "outputs": [],
   "source": []
  },
  {
   "cell_type": "code",
   "execution_count": null,
   "id": "ce038af0",
   "metadata": {},
   "outputs": [],
   "source": []
  },
  {
   "cell_type": "code",
   "execution_count": null,
   "id": "c059dae4",
   "metadata": {},
   "outputs": [],
   "source": []
  },
  {
   "cell_type": "markdown",
   "id": "95cab4b4",
   "metadata": {},
   "source": [
    "## 9. 전치 연산(Transpose)"
   ]
  },
  {
   "cell_type": "code",
   "execution_count": 91,
   "id": "87bf6eb1",
   "metadata": {},
   "outputs": [
    {
     "name": "stdout",
     "output_type": "stream",
     "text": [
      "[[1 0 3]\n",
      " [1 0 0]\n",
      " [7 8 9]]\n",
      "[[1 1 7]\n",
      " [0 0 8]\n",
      " [3 0 9]]\n"
     ]
    }
   ],
   "source": [
    "print(a2)\n",
    "print(a2.T) # 대각선으로는 그대로고 행과 열이 바뀌었다. "
   ]
  },
  {
   "cell_type": "code",
   "execution_count": 92,
   "id": "0075c961",
   "metadata": {},
   "outputs": [
    {
     "name": "stdout",
     "output_type": "stream",
     "text": [
      "[[[1 2 3]\n",
      "  [4 5 6]\n",
      "  [7 8 9]]\n",
      "\n",
      " [[1 2 3]\n",
      "  [4 5 6]\n",
      "  [7 8 9]]\n",
      "\n",
      " [[1 2 3]\n",
      "  [4 5 6]\n",
      "  [7 8 9]]]\n",
      "[[[1 1 1]\n",
      "  [4 4 4]\n",
      "  [7 7 7]]\n",
      "\n",
      " [[2 2 2]\n",
      "  [5 5 5]\n",
      "  [8 8 8]]\n",
      "\n",
      " [[3 3 3]\n",
      "  [6 6 6]\n",
      "  [9 9 9]]]\n"
     ]
    }
   ],
   "source": [
    "print(a3)\n",
    "print(a3.T)"
   ]
  },
  {
   "cell_type": "code",
   "execution_count": 94,
   "id": "65dc7b66",
   "metadata": {},
   "outputs": [
    {
     "name": "stdout",
     "output_type": "stream",
     "text": [
      "[[1 0 3]\n",
      " [1 0 0]\n",
      " [7 8 9]]\n",
      "[[1 1 7]\n",
      " [0 0 8]\n",
      " [3 0 9]]\n"
     ]
    }
   ],
   "source": [
    "print(a2)\n",
    "print(a2.swapaxes(1,0))"
   ]
  },
  {
   "cell_type": "code",
   "execution_count": 95,
   "id": "04bca6cb",
   "metadata": {},
   "outputs": [
    {
     "name": "stdout",
     "output_type": "stream",
     "text": [
      "[[[1 2 3]\n",
      "  [4 5 6]\n",
      "  [7 8 9]]\n",
      "\n",
      " [[1 2 3]\n",
      "  [4 5 6]\n",
      "  [7 8 9]]\n",
      "\n",
      " [[1 2 3]\n",
      "  [4 5 6]\n",
      "  [7 8 9]]]\n",
      "[[[1 2 3]\n",
      "  [1 2 3]\n",
      "  [1 2 3]]\n",
      "\n",
      " [[4 5 6]\n",
      "  [4 5 6]\n",
      "  [4 5 6]]\n",
      "\n",
      " [[7 8 9]\n",
      "  [7 8 9]\n",
      "  [7 8 9]]]\n",
      "[[[1 4 7]\n",
      "  [2 5 8]\n",
      "  [3 6 9]]\n",
      "\n",
      " [[1 4 7]\n",
      "  [2 5 8]\n",
      "  [3 6 9]]\n",
      "\n",
      " [[1 4 7]\n",
      "  [2 5 8]\n",
      "  [3 6 9]]]\n"
     ]
    }
   ],
   "source": [
    "print(a3)\n",
    "print(a3.swapaxes(0, 1))\n",
    "print(a3.swapaxes(1, 2))"
   ]
  },
  {
   "cell_type": "markdown",
   "id": "1533c98c",
   "metadata": {},
   "source": [
    "\n",
    "## 10. 배열의 크기 변경\n",
    "\n",
    "- reshape() # 배열의 형상을 변경\n",
    "- flatten()\n",
    "- ravel()"
   ]
  },
  {
   "cell_type": "code",
   "execution_count": 153,
   "id": "e7c3b781",
   "metadata": {},
   "outputs": [
    {
     "name": "stdout",
     "output_type": "stream",
     "text": [
      "[ 0  1  2  3  4  5  6  7  8  9 10 11]\n",
      "(12,)\n"
     ]
    }
   ],
   "source": [
    "arr = np.arange(12)\n",
    "print(arr)\n",
    "print(arr.shape)"
   ]
  },
  {
   "cell_type": "code",
   "execution_count": 154,
   "id": "67ae95a9",
   "metadata": {},
   "outputs": [
    {
     "name": "stdout",
     "output_type": "stream",
     "text": [
      "[[ 0  1  2  3]\n",
      " [ 4  5  6  7]\n",
      " [ 8  9 10 11]]\n",
      "(3, 4)\n",
      "-------------------------------------------\n",
      "[[ 0  1  2  3]\n",
      " [ 4  5  6  7]\n",
      " [ 8  9 10 11]]\n",
      "(3, 4)\n",
      "-------------------------------------------\n",
      "[[ 0  1  2  3]\n",
      " [ 4  5  6  7]\n",
      " [ 8  9 10 11]]\n",
      "(3, 4)\n"
     ]
    }
   ],
   "source": [
    "arr1 = arr.reshape(3, 4)\n",
    "print(arr1)\n",
    "print(arr1.shape)\n",
    "\n",
    "print(\"-------------------------------------------\")\n",
    "\n",
    "arr1 = arr.reshape(3, -1) # 앞쪽에 몇행으로 나눌지만 지정한다음, -1을 적어두면 자동으로 계산된다\n",
    "print(arr1)               # 데이터가 쌓여서 직접 계산하지 못할 정도의 수량이라면 -1을 꼭 생각하자\n",
    "print(arr1.shape)          # -1 : 인덱스에서 마지막 위치, find에서 위치가 없다, 배열크기변경에서 열의 자동계산\n",
    "\n",
    "print(\"-------------------------------------------\")\n",
    "\n",
    "\n",
    "arr1 = arr.reshape(-1, 4) # 뒤쪽에 몇열으로 나눌지만 지정한다음, -1을 적어두면 자동으로 계산된다\n",
    "print(arr1)               # 데이터가 쌓여서 직접 계산하지 못할 정도의 수량이라면 -1을 꼭 생각하자\n",
    "print(arr1.shape)          # -1 : 인덱스에서 마지막 위치, find에서 위치가 없다, 배열크기변경에서 행렬의 자동계산\n"
   ]
  },
  {
   "cell_type": "code",
   "execution_count": null,
   "id": "aa653e6b",
   "metadata": {},
   "outputs": [],
   "source": [
    "arr2 = arr.reshape(2,2,3)                              # -1의 효율성\n",
    "print(arr2)\n",
    "print(arr2.shape)\n",
    "\n",
    "print(\"-------------------------------------------\")\n",
    "\n",
    "arr2 = arr.reshape(2,2,-1)\n",
    "print(arr2)\n",
    "print(arr2.shape)\n",
    "\n",
    "print(\"-------------------------------------------\")\n",
    "\n",
    "arr2 = arr.reshape(2,-1,3)\n",
    "print(arr2)\n",
    "print(arr2.shape)\n",
    "\n",
    "print(\"-------------------------------------------\")\n",
    "\n",
    "arr2 = arr.reshape(-1,2,3)\n",
    "print(arr2)\n",
    "print(arr2.shape)"
   ]
  },
  {
   "cell_type": "code",
   "execution_count": null,
   "id": "2e123e9f",
   "metadata": {},
   "outputs": [],
   "source": [
    "print(arr1.reshape(12))\n",
    "print(arr1.flatten()) # 1차원으로 바꿔주는 플레튼\n",
    "print(arr1.ravel()) # 1차원으로 바꿔주는 레이블??"
   ]
  },
  {
   "cell_type": "code",
   "execution_count": null,
   "id": "6fd5eebe",
   "metadata": {},
   "outputs": [],
   "source": [
    "print(arr2.reshape(12))\n",
    "print(arr2.flatten())\n",
    "print(arr2.ravel())"
   ]
  },
  {
   "cell_type": "markdown",
   "id": "c3347778",
   "metadata": {},
   "source": [
    "### newaxis() : 새로운 축 추가"
   ]
  },
  {
   "cell_type": "code",
   "execution_count": 99,
   "id": "4a79736a",
   "metadata": {},
   "outputs": [
    {
     "name": "stdout",
     "output_type": "stream",
     "text": [
      "[1 2 3 4 5 6 7 8 9]\n",
      "[[1 2 3]\n",
      " [4 5 6]\n",
      " [7 8 9]]\n",
      "[1 2 3 4 5 6 7 8 9]\n",
      "[[1 2 3 4 5]]\n",
      "[[1]\n",
      " [2]\n",
      " [3]\n",
      " [4]\n",
      " [5]]\n"
     ]
    }
   ],
   "source": [
    "n1 = np.arange(1,10)\n",
    "print(n1)\n",
    "print(n1.reshape(3,3))\n",
    "print(n1)\n",
    "print(n1[np.newaxis, :5])\n",
    "print(n1[:5, np.newaxis])"
   ]
  },
  {
   "cell_type": "code",
   "execution_count": 101,
   "id": "208a536e",
   "metadata": {},
   "outputs": [
    {
     "name": "stdout",
     "output_type": "stream",
     "text": [
      "[[6 1 3 5 8]\n",
      " [4 6 3 9 2]]\n",
      "[[6 1]\n",
      " [3 5]\n",
      " [8 4]\n",
      " [6 3]\n",
      " [9 2]]\n"
     ]
    }
   ],
   "source": [
    "n2 = np.random.randint(0, 10, (2, 5))\n",
    "print(n2)\n",
    "n2.resize((5, 2))\n",
    "print(n2)"
   ]
  },
  {
   "cell_type": "code",
   "execution_count": 102,
   "id": "d076a3ba",
   "metadata": {},
   "outputs": [
    {
     "name": "stdout",
     "output_type": "stream",
     "text": [
      "[[6 1 3 5 8]\n",
      " [4 6 3 9 2]\n",
      " [0 0 0 0 0]\n",
      " [0 0 0 0 0]\n",
      " [0 0 0 0 0]]\n"
     ]
    }
   ],
   "source": [
    "n2.resize((5, 5))  # 배열 크기 증가, 남은 공간은 0으로 채워짐\n",
    "print(n2) "
   ]
  },
  {
   "cell_type": "code",
   "execution_count": 103,
   "id": "20156a12",
   "metadata": {},
   "outputs": [
    {
     "name": "stdout",
     "output_type": "stream",
     "text": [
      "[[6 1 3]\n",
      " [5 8 4]\n",
      " [6 3 9]]\n"
     ]
    }
   ],
   "source": [
    "n2.resize((3,3))\n",
    "print(n2) # 배열을 줄였을 떄, 포함되지 못한 값은 삭제된다."
   ]
  },
  {
   "cell_type": "code",
   "execution_count": null,
   "id": "43bf1fbd",
   "metadata": {},
   "outputs": [],
   "source": []
  },
  {
   "cell_type": "markdown",
   "id": "a6c9c11b",
   "metadata": {},
   "source": [
    "### 배열값 삽입\n",
    "- insert() : 배열의 특정 위치에 값 삽입\n",
    "- axis를 지정하지 않으면 1차원 배열로 변환\n",
    "- 추가할 방향을 axis로 지정\n",
    "- 원본 배열 변경없이 새로운 배열 반환"
   ]
  },
  {
   "cell_type": "code",
   "execution_count": 61,
   "id": "e938f4f8",
   "metadata": {},
   "outputs": [
    {
     "name": "stdout",
     "output_type": "stream",
     "text": [
      "[4 5 6 4 5]\n",
      "[10  4  5  6  4  5]\n",
      "[4 5 6 4 5]\n",
      "[ 4  5 10  6  4  5]\n"
     ]
    }
   ],
   "source": [
    "print(a1)\n",
    "b1 = np.insert(a1, 0, 10)\n",
    "print(b1) # b1은 a1의 0번쨰 자리에 10이라는 값을 넣은 배열이다\n",
    "print(a1) # a1은 그대로다\n",
    "c1 = np.insert(a1, 2, 10)\n",
    "print(c1)"
   ]
  },
  {
   "cell_type": "code",
   "execution_count": 64,
   "id": "4496247e",
   "metadata": {},
   "outputs": [
    {
     "name": "stdout",
     "output_type": "stream",
     "text": [
      "[[1 2 3]\n",
      " [4 5 6]\n",
      " [7 8 9]]\n",
      "[[ 1  2  3]\n",
      " [10 10 10]\n",
      " [ 4  5  6]\n",
      " [ 7  8  9]]\n",
      "[[ 1 10  2  3]\n",
      " [ 4 10  5  6]\n",
      " [ 7 10  8  9]]\n"
     ]
    }
   ],
   "source": [
    "print(a2)\n",
    "b2 = np.insert(a2, 1, 10, axis = 0)\n",
    "print(b2)\n",
    "c2 = np.insert(a2, 1, 10, axis = 1)\n",
    "print(c2)"
   ]
  },
  {
   "cell_type": "markdown",
   "id": "e532aa54",
   "metadata": {},
   "source": [
    "### 배열 값 수정\n",
    "- 배열의 인덱싱으로 접근하여 값 수정"
   ]
  },
  {
   "cell_type": "code",
   "execution_count": 66,
   "id": "a9ed2d4f",
   "metadata": {},
   "outputs": [
    {
     "name": "stdout",
     "output_type": "stream",
     "text": [
      "[4 5 6 4 5]\n",
      "[1 2 3 4 5]\n",
      "[9 2 3 4 5]\n"
     ]
    }
   ],
   "source": [
    "print(a1)\n",
    "a1[0] = 1\n",
    "a1[1] = 2\n",
    "a1[2] = 3\n",
    "print(a1)\n",
    "a1[:1] = 9\n",
    "print(a1)"
   ]
  },
  {
   "cell_type": "code",
   "execution_count": 69,
   "id": "2ba0d9a0",
   "metadata": {},
   "outputs": [
    {
     "name": "stdout",
     "output_type": "stream",
     "text": [
      "[9 0 3 0 0]\n",
      "[9 4 3 4 4]\n"
     ]
    }
   ],
   "source": [
    "i = np.array([1,3,4])\n",
    "a1[i] = 0 # 팬시 인덱싱\n",
    "print(a1) # i번에 위치한 값을 모두 0으로 바꿔라\n",
    "a1[i] += 4 # i번에 위치한 값을 모두 +4를 해라\n",
    "print(a1)"
   ]
  },
  {
   "cell_type": "code",
   "execution_count": 78,
   "id": "84f8641c",
   "metadata": {},
   "outputs": [
    {
     "name": "stdout",
     "output_type": "stream",
     "text": [
      "[1 2 3 4 5 6 7 8 9]\n",
      "[[1 2 3]\n",
      " [4 5 6]\n",
      " [7 8 9]]\n"
     ]
    }
   ],
   "source": [
    "a2 = np.arange(1, 10, 1)\n",
    "print(a2)\n",
    "a2 = a2.reshape(3,3)\n",
    "print(a2)"
   ]
  },
  {
   "cell_type": "code",
   "execution_count": 79,
   "id": "481e48e3",
   "metadata": {},
   "outputs": [
    {
     "name": "stdout",
     "output_type": "stream",
     "text": [
      "[[1 2 3]\n",
      " [4 5 6]\n",
      " [7 8 9]]\n",
      "[[1 2 3]\n",
      " [1 1 1]\n",
      " [7 8 3]]\n"
     ]
    }
   ],
   "source": [
    "print(a2)\n",
    "a2[0,0] = 1\n",
    "a2[1,1] = 2\n",
    "a2[2,2] = 3\n",
    "a2[1] = 1\n",
    "print(a2)"
   ]
  },
  {
   "cell_type": "code",
   "execution_count": 81,
   "id": "811f9600",
   "metadata": {},
   "outputs": [
    {
     "name": "stdout",
     "output_type": "stream",
     "text": [
      "[[1 2 3]\n",
      " [1 1 9]\n",
      " [7 8 9]]\n",
      "[[1 0 3]\n",
      " [1 1 0]\n",
      " [7 8 9]]\n"
     ]
    }
   ],
   "source": [
    "a2[1:, 2] = 9\n",
    "print(a2)\n",
    "row = np.array([0, 1])\n",
    "col = np.array([1, 2])\n",
    "a2[row, col] = 0\n",
    "print(a2)"
   ]
  },
  {
   "cell_type": "markdown",
   "id": "19948934",
   "metadata": {},
   "source": [
    "### 배열 값 삭제\n",
    "- delete() : 배열의 특정 위치에 값 삭제\n",
    "- axis를 지정하지 않으면 1차원 배열로 변환\n",
    "- 삭제할 방향을 axis로 지정\n",
    "- 원본 배열 변경없이 새로운 배열 반환"
   ]
  },
  {
   "cell_type": "code",
   "execution_count": 82,
   "id": "b9d834a2",
   "metadata": {},
   "outputs": [
    {
     "name": "stdout",
     "output_type": "stream",
     "text": [
      "[9 4 3 4 4]\n",
      "[9 3 4 4]\n"
     ]
    }
   ],
   "source": [
    "print(a1)\n",
    "b1 = np.delete(a1, 1)\n",
    "print(b1)"
   ]
  },
  {
   "cell_type": "code",
   "execution_count": 83,
   "id": "8b55b344",
   "metadata": {},
   "outputs": [
    {
     "name": "stdout",
     "output_type": "stream",
     "text": [
      "[[1 0 3]\n",
      " [1 1 0]\n",
      " [7 8 9]]\n",
      "[[1 0 3]\n",
      " [7 8 9]]\n"
     ]
    }
   ],
   "source": [
    "print(a2)\n",
    "b2 = np.delete(a2, 1, axis=0)\n",
    "print(b2)"
   ]
  },
  {
   "cell_type": "markdown",
   "id": "3862e70f",
   "metadata": {},
   "source": [
    "### 배열 복사\n",
    "- 리스트 자료형과 달리 배열의 슬라이스는 복사본이 아님\n",
    "- 원본에도 영향을 준다\n",
    "- 동일한 메모리에 위치하기에"
   ]
  },
  {
   "cell_type": "code",
   "execution_count": 85,
   "id": "2aeb6d1c",
   "metadata": {},
   "outputs": [
    {
     "name": "stdout",
     "output_type": "stream",
     "text": [
      "[[1 0 3]\n",
      " [1 1 0]\n",
      " [7 8 9]]\n",
      "[[1 0]\n",
      " [1 1]]\n",
      "[[1 0]\n",
      " [1 1]]\n",
      "[[1 0]\n",
      " [1 0]]\n",
      "[[1 0 3]\n",
      " [1 0 0]\n",
      " [7 8 9]]\n"
     ]
    }
   ],
   "source": [
    "print(a2)\n",
    "print(a2[:2, :2])\n",
    "a2_sub = a2[:2, :2]\n",
    "print(a2_sub)\n",
    "a2_sub[:, 1] = 0\n",
    "print(a2_sub)\n",
    "print(a2)"
   ]
  },
  {
   "cell_type": "code",
   "execution_count": 88,
   "id": "35577182",
   "metadata": {},
   "outputs": [
    {
     "name": "stdout",
     "output_type": "stream",
     "text": [
      "[[1 0 3]\n",
      " [1 0 0]\n",
      " [7 8 9]]\n",
      "[[1 0]\n",
      " [1 0]]\n",
      "[[1 1]\n",
      " [1 1]]\n",
      "[[1 0 3]\n",
      " [1 0 0]\n",
      " [7 8 9]]\n"
     ]
    }
   ],
   "source": [
    "print(a2)\n",
    "a2_sub_copy = a2[:2, :2].copy()\n",
    "print(a2_sub_copy)\n",
    "a2_sub_copy[:, 1] = 1\n",
    "print(a2_sub_copy)\n",
    "print(a2) # copy를 사용한 녀석의 값을 바꿨음에도 복사본이기에 원본에는 영향을 주지 않는다."
   ]
  },
  {
   "cell_type": "markdown",
   "id": "b29e3042",
   "metadata": {},
   "source": [
    "### 배열 추가\n",
    "- append() : 배열의 끝에 값 추가"
   ]
  },
  {
   "cell_type": "code",
   "execution_count": 104,
   "id": "baff9c67",
   "metadata": {},
   "outputs": [
    {
     "name": "stdout",
     "output_type": "stream",
     "text": [
      "[[1 2 3]\n",
      " [4 5 6]\n",
      " [7 8 9]]\n",
      "[[10 11 12]\n",
      " [13 14 15]\n",
      " [16 17 18]]\n"
     ]
    }
   ],
   "source": [
    "a2 = np.arange(1, 10).reshape(3, 3)\n",
    "print(a2)\n",
    "b2 = np.arange(10, 19).reshape(3, 3)\n",
    "print(b2)"
   ]
  },
  {
   "cell_type": "code",
   "execution_count": 105,
   "id": "68343783",
   "metadata": {},
   "outputs": [
    {
     "name": "stdout",
     "output_type": "stream",
     "text": [
      "[ 1  2  3  4  5  6  7  8  9 10 11 12 13 14 15 16 17 18]\n"
     ]
    }
   ],
   "source": [
    "c2 = np.append(a2, b2) # axis 지정이 없으면 1차원 배열 형태로 변형되어 결합\n",
    "print(c2)"
   ]
  },
  {
   "cell_type": "code",
   "execution_count": 106,
   "id": "2da4b5bf",
   "metadata": {},
   "outputs": [
    {
     "name": "stdout",
     "output_type": "stream",
     "text": [
      "[[ 1  2  3]\n",
      " [ 4  5  6]\n",
      " [ 7  8  9]\n",
      " [10 11 12]\n",
      " [13 14 15]\n",
      " [16 17 18]]\n"
     ]
    }
   ],
   "source": [
    "c2 = np.append(a2, b2, axis = 0) # axis를 0으로 지정 # shape[0]을 제외한 나머지 shape는 같아야 함\n",
    "print(c2)"
   ]
  },
  {
   "cell_type": "code",
   "execution_count": 107,
   "id": "007c37a1",
   "metadata": {},
   "outputs": [
    {
     "name": "stdout",
     "output_type": "stream",
     "text": [
      "[[ 1  2  3 10 11 12]\n",
      " [ 4  5  6 13 14 15]\n",
      " [ 7  8  9 16 17 18]]\n"
     ]
    }
   ],
   "source": [
    "c2 = np.append(a2, b2, axis = 1) # axis를 1로 지정 # shape[1]을 제외한 나머지 shape는 같아야 함\n",
    "print(c2)"
   ]
  },
  {
   "cell_type": "markdown",
   "id": "cee84c86",
   "metadata": {},
   "source": [
    "## 11. 배열의 연결(병합)\n",
    "\n",
    "- hstack(), vstack() #hstack : horizon stack 수평   #vstack : vertical stack 수직\n",
    "- concatenate()\n",
    "- dstack(), stack()\n",
    "- tile()"
   ]
  },
  {
   "cell_type": "markdown",
   "id": "38b19bc6",
   "metadata": {},
   "source": [
    "### (1) hstack(), vstack()"
   ]
  },
  {
   "cell_type": "markdown",
   "id": "5e40229e",
   "metadata": {},
   "source": [
    "### vstack() : 수직 스택(vertical stack), 1차원으로 연결"
   ]
  },
  {
   "cell_type": "code",
   "execution_count": 119,
   "id": "8b339f1f",
   "metadata": {},
   "outputs": [
    {
     "data": {
      "text/plain": [
       "array([[1, 2, 3],\n",
       "       [4, 5, 6],\n",
       "       [1, 2, 3],\n",
       "       [4, 5, 6]])"
      ]
     },
     "execution_count": 119,
     "metadata": {},
     "output_type": "execute_result"
    }
   ],
   "source": [
    "a2 = np.array([[1,2,3],[4,5,6]])\n",
    "np.vstack([a2, a2])"
   ]
  },
  {
   "cell_type": "markdown",
   "id": "e78606ef",
   "metadata": {},
   "source": [
    "### hstack() : 수평 스택(horizontal stack), 2차원으로 연결"
   ]
  },
  {
   "cell_type": "code",
   "execution_count": 120,
   "id": "cfab0cce",
   "metadata": {},
   "outputs": [
    {
     "data": {
      "text/plain": [
       "array([[1, 2, 3, 1, 2, 3],\n",
       "       [4, 5, 6, 4, 5, 6]])"
      ]
     },
     "execution_count": 120,
     "metadata": {},
     "output_type": "execute_result"
    }
   ],
   "source": [
    "np.hstack([a2,a2])"
   ]
  },
  {
   "cell_type": "markdown",
   "id": "cb6d55d8",
   "metadata": {},
   "source": [
    "### dstack() : 깊이 스택(depth stack), 3차원으로 연결"
   ]
  },
  {
   "cell_type": "code",
   "execution_count": 121,
   "id": "58908214",
   "metadata": {},
   "outputs": [
    {
     "data": {
      "text/plain": [
       "array([[[1, 1],\n",
       "        [2, 2],\n",
       "        [3, 3]],\n",
       "\n",
       "       [[4, 4],\n",
       "        [5, 5],\n",
       "        [6, 6]]])"
      ]
     },
     "execution_count": 121,
     "metadata": {},
     "output_type": "execute_result"
    }
   ],
   "source": [
    "np.dstack([a2,a2])"
   ]
  },
  {
   "cell_type": "markdown",
   "id": "7caea929",
   "metadata": {},
   "source": [
    "### stack() : 새로운 차원으로 연결"
   ]
  },
  {
   "cell_type": "code",
   "execution_count": 122,
   "id": "8b314438",
   "metadata": {},
   "outputs": [
    {
     "data": {
      "text/plain": [
       "array([[[1, 2, 3],\n",
       "        [4, 5, 6]],\n",
       "\n",
       "       [[1, 2, 3],\n",
       "        [4, 5, 6]]])"
      ]
     },
     "execution_count": 122,
     "metadata": {},
     "output_type": "execute_result"
    }
   ],
   "source": [
    "np.stack([a2, a2])"
   ]
  },
  {
   "cell_type": "code",
   "execution_count": 8,
   "id": "432ff0b7",
   "metadata": {},
   "outputs": [
    {
     "name": "stdout",
     "output_type": "stream",
     "text": [
      "[0 2 0 4]\n",
      "[1 1 1 1]\n",
      "---------------------------------------\n",
      "[[0 2 0 4]\n",
      " [1 1 1 1]]\n",
      "---------------------------------------\n",
      "[0 2 0 4 1 1 1 1]\n",
      "---------------------------------------\n",
      "---------------------------------------\n",
      "---------------------------------------\n",
      "[0 0 7 2]\n",
      "[1 1 1 1 1]\n",
      "---------------------------------------\n",
      "[0 0 7 2 1 1 1 1 1]\n",
      "---------------------------------------\n"
     ]
    }
   ],
   "source": [
    "#### 1차원 배열\n",
    "\n",
    "a = np.random.randint(0, 10, (4)) # 정수의 범위 중 0에서 10까지, 그리고 4개를 뽑겠다\n",
    "print(a)\n",
    "\n",
    "# ?np.random.randint\n",
    "\n",
    "b = np.ones(4, dtype=\"i\")\n",
    "print(b)\n",
    "\n",
    "\n",
    "print(\"---------------------------------------\")\n",
    "\n",
    "print(np.vstack([a,b])) # 묶고싶은 배열들을 리스트로 묶어서 넣어준다\n",
    "# 수직으로 합쳐져서 1차원 2개가 2차원 1개로 묶였다\n",
    "print(\"---------------------------------------\")\n",
    "\n",
    "print(np.hstack([a,b])) # 1차원 옆에 가로로 1차원이 묶였다\n",
    "print(\"---------------------------------------\")\n",
    "print(\"---------------------------------------\")\n",
    "print(\"---------------------------------------\")\n",
    "\n",
    "#### 크기가 다를경우\n",
    "\n",
    "a = np.random.randint(0, 10, (4)) # 정수의 범위 중 0에서 10까지, 그리고 4개를 뽑겠다\n",
    "print(a)\n",
    "\n",
    "?np.random.randint\n",
    "\n",
    "b = np.ones(5, dtype=\"i\")\n",
    "print(b)\n",
    "\n",
    "\n",
    "print(\"---------------------------------------\")\n",
    "print(np.hstack([a,b])) # 크기가 다르지만 1차원 옆에 가로로 1차원이 묶였다\n",
    "\n",
    "#print(np.vstack([a,b])) # 크기가 다르니까 묶이지 못했다\n",
    "print(\"---------------------------------------\")\n",
    "\n"
   ]
  },
  {
   "cell_type": "code",
   "execution_count": null,
   "id": "7106582e",
   "metadata": {},
   "outputs": [],
   "source": [
    "##### 2차원 배열\n",
    "\n",
    "a = np.random.randint(0, 10, (1, 4))\n",
    "b = np.random.randint(0, 10, (1, 4))\n",
    "print(a, b)\n",
    "\n",
    "print(\"---------------------------------------\")\n",
    "\n",
    "print(np.vstack([a,b]))\n",
    "\n",
    "print(\"---------------------------------------\")\n",
    "\n",
    "print(np.hstack([a,b]))"
   ]
  },
  {
   "cell_type": "markdown",
   "id": "0915a2aa",
   "metadata": {},
   "source": [
    "### (2) concatenate\n",
    "\n",
    "- concatenate 메소드는 선택한 축(axis)의 방향으로 배열을 연결해주는 메소드입니다. concatenate 는 '사슬 같이 연결하다'는 의미입니다.\n",
    "- 튜플이나 배열의 리스트를 인수로 사용해 배열 연결"
   ]
  },
  {
   "cell_type": "code",
   "execution_count": 108,
   "id": "99cb9757",
   "metadata": {},
   "outputs": [
    {
     "name": "stdout",
     "output_type": "stream",
     "text": [
      "[0 4 2 4]\n",
      "[1 1 1 1 1]\n",
      "---------------------------------------\n",
      "[0 4 2 4 1 1 1 1 1]\n",
      "---------------------------------------\n"
     ]
    }
   ],
   "source": [
    "#### 1차원 배열\n",
    "\n",
    "a = np.random.randint(0, 10, (4)) # 정수의 범위 중 0에서 10까지, 그리고 4개를 뽑겠다\n",
    "print(a)\n",
    "\n",
    "b = np.ones(5, dtype=\"i\")\n",
    "print(b)\n",
    "\n",
    "\n",
    "print(\"---------------------------------------\")\n",
    "print(np.concatenate([a,b])) # 1차원 배열에서 hstack과 .concatenate는 결과가 똑같다\n",
    "\n",
    "print(\"---------------------------------------\")\n"
   ]
  },
  {
   "cell_type": "code",
   "execution_count": 117,
   "id": "d211f822",
   "metadata": {},
   "outputs": [
    {
     "name": "stdout",
     "output_type": "stream",
     "text": [
      "[[8 6 5 1 7]\n",
      " [4 3 6 1 4]\n",
      " [0 8 5 4 2]]\n"
     ]
    }
   ],
   "source": [
    "g = np.random.randint(0, 10, (3, 5))\n",
    "print(g)"
   ]
  },
  {
   "cell_type": "code",
   "execution_count": 111,
   "id": "4e5d730d",
   "metadata": {},
   "outputs": [
    {
     "name": "stdout",
     "output_type": "stream",
     "text": [
      "[[2 9 6 5]]\n",
      "---------------------------------------\n",
      "[[6 6 6 3]]\n",
      "---------------------------------------\n",
      "[[2 9 6 5]] [[6 6 6 3]]\n",
      "---------------------------------------\n",
      "[[2 9 6 5]\n",
      " [6 6 6 3]]\n",
      "---------------------------------------\n",
      "[[2 9 6 5 6 6 6 3]]\n",
      "---------------------------------------\n",
      "[[2 9 6 5 6 6 6 3]]\n"
     ]
    }
   ],
   "source": [
    "\n",
    "##### 2차원 배열\n",
    "\n",
    "a = np.random.randint(0, 10, (1, 4))\n",
    "b = np.random.randint(0, 10, (1, 4))\n",
    "print(a)\n",
    "print(\"---------------------------------------\")\n",
    "print(b)\n",
    "print(\"---------------------------------------\")\n",
    "print(a, b)\n",
    "\n",
    "print(\"---------------------------------------\")\n",
    "\n",
    "print(np.concatenate([a,b], axis=0)) # axis = 0 , 디폴트값이라 생략되어 있음\n",
    "# ?np.concatenate\n",
    "\n",
    "print(\"---------------------------------------\")\n",
    "                                      # 2차원 배열의 경우 axis는 0,1이고 3차원은 0,1,2, 4차원은0,1,2,3이지만\n",
    "                                     # 몇차원인지 모를 경우에 -1로 하면 그냥 가장 마지막 축값.\n",
    "print(np.concatenate([a,b], axis=1)) # axis = 1, 로 바꿨더니 합쳐지는 행과 렬이 바뀌었다.\n",
    "print(\"---------------------------------------\")\n",
    "print(np.concatenate([a,b], axis=-1)) # -1인 경우 가장 마지막값이라고 생각\n",
    "\n"
   ]
  },
  {
   "cell_type": "code",
   "execution_count": null,
   "id": "08b62e36",
   "metadata": {},
   "outputs": [],
   "source": [
    "\n",
    "print(\"---------------------------------------\")\n",
    "print(\"------------사이즈가 다를 경우 --------\")\n",
    "print(\"---------------------------------------\")\n",
    "\n",
    "a = np.random.randint(0, 10, (3, 4))\n",
    "b = np.random.randint(0, 10, (3, 2))\n",
    "print(a)\n",
    "print(\"---------------------------------------\")\n",
    "print(b)\n",
    "print(\"---------------------------------------\")\n",
    "print(a, b)\n",
    "print(\"---------------------------------------\")\n",
    "print(\"---------------------------------------\")\n",
    "\n",
    "#print(np.concatenate([a,b], axis=0)) #얘는 안된다.\n",
    "print(np.concatenate([a,b], axis=1))\n",
    "\n",
    "\n",
    "print(\"---------------------------------------\")\n",
    "print(\"------------사이즈가 다를 경우 --------\")\n",
    "print(\"---------------------------------------\")\n"
   ]
  },
  {
   "cell_type": "code",
   "execution_count": null,
   "id": "88babf4d",
   "metadata": {},
   "outputs": [],
   "source": [
    "#### 3차원 배열\n",
    "\n",
    "a = np.random.randint(0, 10, (4, 2, 3))\n",
    "b = np.random.randint(0, 10, (5, 2, 3))\n",
    "print(a)\n",
    "print(a.shape)\n",
    "print(\"---------------------------------------\")\n",
    "print(b)\n",
    "print(b.shape)\n",
    "print(\"---------------------------------------\")\n",
    "print(a, b)\n",
    "print(\"---------------------------------------\")\n",
    "\n",
    "c = np.concatenate([a,b], axis = 0)\n",
    "print(c)\n",
    "print(c.shape)\n",
    "\n",
    "# d = np.concatenate([a,b], axis = 1) # 얘는 행이 달라서 안되더라\n",
    "\n",
    "# e = np.concatenate([a,b], axis = 2) # 얘도 안되더라"
   ]
  },
  {
   "cell_type": "code",
   "execution_count": null,
   "id": "392306d9",
   "metadata": {},
   "outputs": [],
   "source": [
    "#### 3차원 배열 테스트\n",
    "\n",
    "a = np.random.randint(0, 10, (4, 2, 3))\n",
    "b = np.random.randint(0, 10, (4, 2, 4))\n",
    "print(a)\n",
    "print(a.shape)\n",
    "print(\"---------------------------------------\")\n",
    "print(b)\n",
    "print(b.shape)\n",
    "print(\"---------------------------------------\")\n",
    "print(a, b)\n",
    "print(\"---------------------------------------\")\n",
    "\n",
    "#c = np.concatenate([a,b], axis = 0)\n",
    "#print(c)\n",
    "#print(c.shape)\n",
    "\n",
    "#d = np.concatenate([a,b], axis = 1) # 얘는 행이 달라서 안되더라\n",
    "\n",
    "e = np.concatenate([a,b], axis = 2) # 마지막이 다르니까 얘만 되더라\n",
    "print(e)\n",
    "print(e.shape)"
   ]
  },
  {
   "cell_type": "markdown",
   "id": "c248b903",
   "metadata": {},
   "source": [
    "## (3) stack(), dstack()"
   ]
  },
  {
   "cell_type": "code",
   "execution_count": null,
   "id": "f6a4d999",
   "metadata": {},
   "outputs": [],
   "source": [
    "a1 = np.ones((3,4))\n",
    "a2 = np.zeros((3,4))\n",
    "\n",
    "a3 = np.stack([a1, a2])\n",
    "print(a1.shape)\n",
    "print(a2.shape)\n",
    "print(\"---------------------------------------\")\n",
    "print(a1)\n",
    "print(\"---------------------------------------\")\n",
    "print(a2)\n",
    "print(\"---------------------------------------\")\n",
    "print(a3.shape)\n",
    "print(\"---------------------------------------\")\n",
    "print(\"------ 축을 바꿔 보자 axis = 0 --------\")\n",
    "print(\"---------------------------------------\")\n",
    "\n",
    "\n",
    "a4 = np.stack([a1,a2], axis = 0) \n",
    "print(a4)\n",
    "print(a4.shape)\n",
    "print(\"---------------------------------------\")\n",
    "print(\"------ 축을 바꿔 보자 axis = 1 --------\")\n",
    "print(\"---------------------------------------\")\n",
    "a4 = np.stack([a1,a2], axis = 1) \n",
    "print(a4)\n",
    "print(a4.shape)\n",
    "print(\"---------------------------------------\")\n",
    "print(\"------ 축을 바꿔 보자 axis = 2 --------\")\n",
    "print(\"---------------------------------------\")\n",
    "a4 = np.stack([a1,a2], axis = 2) # dstack()\n",
    "print(a4)\n",
    "print(a4.shape)"
   ]
  },
  {
   "cell_type": "code",
   "execution_count": null,
   "id": "462cd865",
   "metadata": {},
   "outputs": [],
   "source": [
    "a1 = np.ones((3,4))\n",
    "a2 = np.zeros((3,4))\n",
    "\n",
    "a3 = np.dstack([a1, a2]) #스택의 깊이를 기준으로 쌓는 것이기 때문에 인자가 필요없다.\n",
    "print(a3)\n",
    "print(a3.shape)"
   ]
  },
  {
   "cell_type": "code",
   "execution_count": null,
   "id": "cedbec3c",
   "metadata": {},
   "outputs": [],
   "source": [
    "a1 = np.array([1, 2, 3])\n",
    "a2 = np.array([4, 5, 6])\n",
    "print(a1)\n",
    "print(a1.shape)\n",
    "print(\"---------------------------------------\")\n",
    "print(a2)\n",
    "print(a2.shape)\n",
    "print(\"---------------------------------------\")\n",
    "print(\"---------------------------------------\")\n",
    "a3 = np.dstack([a1, a2])\n",
    "print(a3)\n",
    "print(a3.shape)"
   ]
  },
  {
   "cell_type": "code",
   "execution_count": 7,
   "id": "0c0a5bd8",
   "metadata": {},
   "outputs": [
    {
     "name": "stdout",
     "output_type": "stream",
     "text": [
      "---------------------------------------\n",
      "(100, 200, 9)\n",
      "---------------------------------------\n",
      "(3, 100, 200, 3)\n",
      "---------------------------------------\n",
      "(100, 3, 200, 3)\n"
     ]
    }
   ],
   "source": [
    "a = np.random.randint(0, 10, (100, 200, 3)) # 100개의 테이블을 가졌고 200개의 행을 가졌고 3개의 열을 가진..\n",
    "b = np.random.randint(0, 10, a.shape) # 같은 크기라면 이렇게 .shape로 써줘도 괜찮다!\n",
    "c = np.random.randint(0, 10, a.shape)\n",
    "print(\"---------------------------------------\")\n",
    "d = np.dstack([a, b, c])\n",
    "print(d.shape)\n",
    "print(\"---------------------------------------\")\n",
    "e = np.stack([a,b,c])\n",
    "print(e.shape)\n",
    "print(\"---------------------------------------\")\n",
    "f = np.stack([a,b,c], axis=1) # axis는 0일때 맽앞! 1씩 늘어날때마다 오른쪽으로 이동!\n",
    "print(f.shape)"
   ]
  },
  {
   "cell_type": "markdown",
   "id": "e9fc7fa5",
   "metadata": {},
   "source": [
    "## (4) tile()\n",
    " - ?np.tile\n",
    " - np.tile(A, reps)"
   ]
  },
  {
   "cell_type": "code",
   "execution_count": 11,
   "id": "40f43042",
   "metadata": {},
   "outputs": [],
   "source": [
    "a = 1\n",
    "b = np.array([0, 1])\n",
    "c = np.array([[0, 1], [2, 3]])"
   ]
  },
  {
   "cell_type": "code",
   "execution_count": 25,
   "id": "3f0151ca",
   "metadata": {},
   "outputs": [
    {
     "name": "stdout",
     "output_type": "stream",
     "text": [
      "1\n",
      "[1 1 1]\n",
      "---------------------------------------\n",
      "[0 1]\n",
      "[0 1 0 1 0 1]\n",
      "---------------------------------------\n",
      "[[0 1]\n",
      " [2 3]]\n",
      "[[0 1 0 1 0 1]\n",
      " [2 3 2 3 2 3]]\n",
      "---------------------------------------\n",
      "[[0 1]\n",
      " [2 3]]\n",
      "[[0 1 0 1 0 1]\n",
      " [2 3 2 3 2 3]]\n"
     ]
    }
   ],
   "source": [
    "### resp가 상수일경우(열 방향으로만 증식~~)\n",
    "print(a)\n",
    "print(np.tile(a, 3)) # 열방향으로 3개로 늘었다.\n",
    "\n",
    "print(\"---------------------------------------\")\n",
    "print(b)\n",
    "print(np.tile(b, 3)) # 열방향으로 3개로 늘었다\n",
    "\n",
    "print(\"---------------------------------------\")\n",
    "print(c)\n",
    "print(np.tile(c, 3)) # 열방향으로 3개로 늘었다\n",
    "\n",
    "\n",
    "print(\"---------------------------------------\")\n",
    "print(c)\n",
    "print(np.tile(c, (1, 3))) # 상수 3을 입력한 것가 같은 결과. 왜냐하면 행으로는 증식기준을 1로 잡아서 그대로이기 때문."
   ]
  },
  {
   "cell_type": "code",
   "execution_count": null,
   "id": "c216a68b",
   "metadata": {},
   "outputs": [],
   "source": [
    "### resp가 튜플일경우\n",
    "print(a)\n",
    "print(np.tile(a, (2, 3))) # 특정 값을 배열로 만들어준다. 단순한 1이던게 1로 이뤄진 2행 3열의 배열로 탄생\n",
    "\n",
    "print(\"---------------------------------------\")\n",
    "print(b)\n",
    "print(np.tile(b, (2, 3))) # b라는 덩어리를 하나로 생각하고 2행 3열로 증식시켰다.\n",
    "\n",
    "print(\"---------------------------------------\")\n",
    "print(c)\n",
    "print(np.tile(c, (2, 3))) # c라는 덩어리를 하나로 생각하고 마찬가지로 2행 3열로 증식시켰다.(타일을 붙여나가듯이)"
   ]
  },
  {
   "cell_type": "code",
   "execution_count": null,
   "id": "ee502396",
   "metadata": {},
   "outputs": [],
   "source": []
  },
  {
   "cell_type": "markdown",
   "id": "d561d7aa",
   "metadata": {},
   "source": [
    "### 배열 분할"
   ]
  },
  {
   "cell_type": "markdown",
   "id": "b384cdd5",
   "metadata": {},
   "source": [
    "### split() : 배열 분할"
   ]
  },
  {
   "cell_type": "code",
   "execution_count": 126,
   "id": "c440d8d7",
   "metadata": {},
   "outputs": [
    {
     "name": "stdout",
     "output_type": "stream",
     "text": [
      "[0 1 2 3 4 5 6 7 8 9]\n",
      "[0 1 2 3 4] [5 6 7 8 9]\n",
      "[0 1] [2 3] [4 5] [6 7] [8 9]\n"
     ]
    }
   ],
   "source": [
    "a1 = np.arange(0, 10)\n",
    "print(a1)\n",
    "b1, c1 = np.split(a1, [5])\n",
    "print(b1, c1)\n",
    "b1, c1, d1, de, f1 = np.split(a1, [2, 4, 6, 8])\n",
    "print(b1, c1, d1, de, f1)"
   ]
  },
  {
   "cell_type": "markdown",
   "id": "45bf675f",
   "metadata": {},
   "source": [
    "### vsplit() : 수직 분할, 1차원으로 분할"
   ]
  },
  {
   "cell_type": "code",
   "execution_count": 127,
   "id": "acc37bf9",
   "metadata": {},
   "outputs": [
    {
     "name": "stdout",
     "output_type": "stream",
     "text": [
      "[[1 2 3]\n",
      " [4 5 6]\n",
      " [7 8 9]]\n",
      "[[1 2 3]\n",
      " [4 5 6]] [[7 8 9]]\n"
     ]
    }
   ],
   "source": [
    "a2 = np.arange(1,10).reshape(3,3)\n",
    "print(a2)\n",
    "b2, c2 = np.vsplit(a2, [2])\n",
    "print(b2, c2)"
   ]
  },
  {
   "cell_type": "markdown",
   "id": "37ffb4b1",
   "metadata": {},
   "source": [
    "### hsplit() : 수평 분할, 2차원으로 분할"
   ]
  },
  {
   "cell_type": "code",
   "execution_count": 128,
   "id": "a4258881",
   "metadata": {},
   "outputs": [
    {
     "name": "stdout",
     "output_type": "stream",
     "text": [
      "[[1 2 3]\n",
      " [4 5 6]\n",
      " [7 8 9]]\n",
      "[[1 2]\n",
      " [4 5]\n",
      " [7 8]] [[3]\n",
      " [6]\n",
      " [9]]\n"
     ]
    }
   ],
   "source": [
    "a2 = np.arange(1,10).reshape(3,3)\n",
    "print(a2)\n",
    "b2, c2 = np.hsplit(a2, [2])\n",
    "print(b2, c2)"
   ]
  },
  {
   "cell_type": "markdown",
   "id": "b5453a57",
   "metadata": {},
   "source": [
    "### dsplit() : 깊이 분할, 3차원으로 분할"
   ]
  },
  {
   "cell_type": "code",
   "execution_count": 129,
   "id": "52169b92",
   "metadata": {},
   "outputs": [
    {
     "name": "stdout",
     "output_type": "stream",
     "text": [
      "[[[ 1  2  3]\n",
      "  [ 4  5  6]\n",
      "  [ 7  8  9]]\n",
      "\n",
      " [[10 11 12]\n",
      "  [13 14 15]\n",
      "  [16 17 18]]\n",
      "\n",
      " [[19 20 21]\n",
      "  [22 23 24]\n",
      "  [25 26 27]]]\n",
      "[[[ 1  2]\n",
      "  [ 4  5]\n",
      "  [ 7  8]]\n",
      "\n",
      " [[10 11]\n",
      "  [13 14]\n",
      "  [16 17]]\n",
      "\n",
      " [[19 20]\n",
      "  [22 23]\n",
      "  [25 26]]]\n",
      "[[[ 3]\n",
      "  [ 6]\n",
      "  [ 9]]\n",
      "\n",
      " [[12]\n",
      "  [15]\n",
      "  [18]]\n",
      "\n",
      " [[21]\n",
      "  [24]\n",
      "  [27]]]\n"
     ]
    }
   ],
   "source": [
    "a2 = np.arange(1,28).reshape(3,3,3)\n",
    "print(a2)\n",
    "b3, c3 = np.dsplit(a2, [2])\n",
    "print(b3)\n",
    "print(c3)"
   ]
  },
  {
   "cell_type": "markdown",
   "id": "021b3a96",
   "metadata": {},
   "source": [
    "## 12.  Broadcasting\n",
    "\n",
    "- http://www.astroml.org/book_figures/appendix/fig_broadcast_visual.html\n",
    "- 규칙\n",
    "    - 축의 길이가 같아야 한다.\n",
    "    - 배열 중 하나의 길이가 1인 경우."
   ]
  },
  {
   "cell_type": "code",
   "execution_count": null,
   "id": "fbe1ab1e",
   "metadata": {},
   "outputs": [],
   "source": [
    "# 1차원 배열로 0번 축에 대해 브로드캐스팅 p.602\n",
    "# 2차원 배열의 1번 축에 대한 브로드캐스팅 p.603"
   ]
  },
  {
   "cell_type": "code",
   "execution_count": null,
   "id": "bb9ffc09",
   "metadata": {},
   "outputs": [],
   "source": [
    "a = np.array([1, 2, 3])\n",
    "b = np.array([1])\n",
    "\n",
    "print(a + b)\n",
    "\n",
    "print(\"-----------------------------\")\n",
    "\n",
    "\n",
    "#a = np.array([1, 2, 3])\n",
    "#b = np.array([1,2]) # 이건 안된다 \n",
    "#print(a + b)"
   ]
  },
  {
   "cell_type": "code",
   "execution_count": 40,
   "id": "edd5656d",
   "metadata": {},
   "outputs": [
    {
     "data": {
      "text/plain": [
       "array([[0, 1, 2],\n",
       "       [1, 2, 3],\n",
       "       [2, 3, 4],\n",
       "       [3, 4, 5],\n",
       "       [4, 5, 6]])"
      ]
     },
     "execution_count": 40,
     "metadata": {},
     "output_type": "execute_result"
    }
   ],
   "source": [
    "np.vstack([list(range(7)[i:i+3]) for i in range(5)]) # 아래의 문을 vstack으로 쌓은 것"
   ]
  },
  {
   "cell_type": "code",
   "execution_count": 39,
   "id": "be0fa592",
   "metadata": {},
   "outputs": [
    {
     "data": {
      "text/plain": [
       "[[0, 1, 2], [1, 2, 3], [2, 3, 4], [3, 4, 5], [4, 5, 6]]"
      ]
     },
     "execution_count": 39,
     "metadata": {},
     "output_type": "execute_result"
    }
   ],
   "source": [
    "[list(range(7)[i:i+3]) for i in range(5)] # range(7)[i:i+3] == 0~6까지의 범위를 i~i3으로 슬라이싱한거! 그걸 5번 반복!"
   ]
  },
  {
   "cell_type": "code",
   "execution_count": 51,
   "id": "55e6897e",
   "metadata": {},
   "outputs": [
    {
     "name": "stdout",
     "output_type": "stream",
     "text": [
      "[[0 1 2]\n",
      " [1 2 3]\n",
      " [2 3 4]\n",
      " [3 4 5]\n",
      " [4 5 6]]\n",
      "(5, 3)\n",
      "-----------------------------\n",
      "[0 1 2 3 4]\n",
      "(5,)\n"
     ]
    }
   ],
   "source": [
    "x = np.vstack([list(range(7)[i:i+3]) for i in range(5)])\n",
    "print(x)\n",
    "print(x.shape)\n",
    "\n",
    "print(\"-----------------------------\")\n",
    "\n",
    "y = np.arange(5)\n",
    "print(y)\n",
    "print(y.shape)\n",
    "\n",
    "# print(x+y) # 안된다! x는 (5,3), y는 (5,)"
   ]
  },
  {
   "cell_type": "code",
   "execution_count": 61,
   "id": "c2706496",
   "metadata": {},
   "outputs": [
    {
     "name": "stdout",
     "output_type": "stream",
     "text": [
      "[0 1 2 3 4]\n",
      "(5,)\n",
      "-----------------------------\n",
      "[[0]\n",
      " [1]\n",
      " [2]\n",
      " [3]\n",
      " [4]]\n",
      "(5, 1)\n",
      "-----------------------------\n",
      "[0 1 2 3 4]\n",
      "(5,)\n",
      "-----------------------------\n",
      "[[0]\n",
      " [1]\n",
      " [2]\n",
      " [3]\n",
      " [4]]\n",
      "[[0]\n",
      " [1]\n",
      " [2]\n",
      " [3]\n",
      " [4]]\n",
      "(5, 1)\n",
      "-----------------------------\n",
      "[[ 0  1  2]\n",
      " [ 2  3  4]\n",
      " [ 4  5  6]\n",
      " [ 6  7  8]\n",
      " [ 8  9 10]]\n",
      "[[ 0  1  2]\n",
      " [ 2  3  4]\n",
      " [ 4  5  6]\n",
      " [ 6  7  8]\n",
      " [ 8  9 10]]\n"
     ]
    }
   ],
   "source": [
    "y = np.arange(5)\n",
    "print(y)\n",
    "print(y.shape)\n",
    "\n",
    "print(\"-----------------------------\")\n",
    "\n",
    "y = np.arange(5)[:, np.newaxis] # 1차원을 2차원으로 바꿨다. 축을 하나 새로 만들었다.\n",
    "print(y)\n",
    "print(y.shape)\n",
    "\n",
    "print(\"-----------------------------\")\n",
    "\n",
    "z = np.arange(5)\n",
    "print(z)\n",
    "print(z.shape)\n",
    "print(\"-----------------------------\")\n",
    "z1 = z.reshape(5, 1)\n",
    "print(z.reshape(5, 1))\n",
    "print(z1)\n",
    "print(z1.shape)\n",
    "\n",
    "print(\"-----------------------------\")\n",
    "print(x+y)                                       # 축을 맞췄더니 가능해졌다.\n",
    "print(x+z1)"
   ]
  },
  {
   "cell_type": "markdown",
   "id": "2522d383",
   "metadata": {},
   "source": [
    "## 13. 차원 축소(dimension reduction) 연산\n",
    "\n",
    "- 최대값/최소값 : max(), min(), argmax(), argmin()\n",
    "- 대표값 : mean(0, sum(), median(), std(), var()\n",
    "- 논리값 : all(), any()\n",
    "- ..."
   ]
  },
  {
   "cell_type": "code",
   "execution_count": 65,
   "id": "8f1fe5ea",
   "metadata": {},
   "outputs": [
    {
     "name": "stdout",
     "output_type": "stream",
     "text": [
      "3\n",
      "1\n",
      "3\n"
     ]
    }
   ],
   "source": [
    "# 최대값, 최소값 그 자체보다는 최대값이 있는 위치가 필요할 떄가 있다.\n",
    "\n",
    "x = np.array([1, 3, 2, -3])\n",
    "\n",
    "print(np.max(x))\n",
    "print(np.argmax(x)) # 1 = 1번째 자리에 최대값이 있다\n",
    "print(np.argmin(x)) # 3 = 3번째 자리에 최소값이 있다."
   ]
  },
  {
   "cell_type": "markdown",
   "id": "0a13b536",
   "metadata": {},
   "source": [
    "## 14. 기술 통계\n",
    "\n",
    "- sum(), mean()\n",
    "- max(), min()\n",
    "- var(), std()\n",
    "- len()\n",
    "- median()\n",
    "- percentile()\n",
    "- ...\n",
    "\n",
    "\n"
   ]
  },
  {
   "cell_type": "code",
   "execution_count": 68,
   "id": "44ce0fce",
   "metadata": {},
   "outputs": [
    {
     "name": "stdout",
     "output_type": "stream",
     "text": [
      "[ 0.09642071  0.00290325 -0.39102246  0.51755069  0.12898758  0.98987982\n",
      " -1.0939084  -0.19106362 -1.84474256 -0.87684618  0.9971941   0.51681887\n",
      "  1.36341642  0.30740538  0.68409879 -0.04049159 -0.28199309 -0.46251093\n",
      "  0.09415864 -0.50437079]\n"
     ]
    },
    {
     "data": {
      "text/plain": [
       "DescribeResult(nobs=20, minmax=(-1.8447425583586636, 1.3634164221103806), mean=0.0005942318328475915, variance=0.5827817808306999, skewness=-0.4213438689238421, kurtosis=0.1857111272146703)"
      ]
     },
     "execution_count": 68,
     "metadata": {},
     "output_type": "execute_result"
    }
   ],
   "source": [
    "import scipy.stats\n",
    "\n",
    "x = np.random.randn(20)\n",
    "print(x)\n",
    "\n",
    "scipy.stats.describe(x) # describe -> 길이, 최소값, 최대값, 평균, 편차??;; 첨도?? 등의 정보를 한번에 보여줌."
   ]
  },
  {
   "cell_type": "markdown",
   "id": "acbde721",
   "metadata": {},
   "source": [
    "## 15. 정렬\n"
   ]
  },
  {
   "cell_type": "code",
   "execution_count": 69,
   "id": "7739e9b8",
   "metadata": {},
   "outputs": [],
   "source": [
    "arr = np.array([[4,3,5,7],\n",
    "                [1,12,11,9],\n",
    "                [2,15,1,14]])"
   ]
  },
  {
   "cell_type": "code",
   "execution_count": 77,
   "id": "78db8f01",
   "metadata": {},
   "outputs": [
    {
     "name": "stdout",
     "output_type": "stream",
     "text": [
      "[[ 3  4  5  7]\n",
      " [ 1  9 11 12]\n",
      " [ 1  2 14 15]]\n",
      "-----------------------------\n",
      "[[ 1  2  5  7]\n",
      " [ 1  4 11 12]\n",
      " [ 3  9 14 15]]\n",
      "-----------------------------\n",
      "[[ 3  4  5  7]\n",
      " [ 1  9 11 12]\n",
      " [ 1  2 14 15]]\n",
      "-----------------------------\n",
      "[[ 1  2  5  7]\n",
      " [ 1  4 11 12]\n",
      " [ 3  9 14 15]]\n",
      "-----------------------------\n",
      "[[ 3  4  5  7]\n",
      " [ 1  9 11 12]\n",
      " [ 1  2 14 15]]\n",
      "-----------------------------\n",
      "[[ 3  4  5  7]\n",
      " [ 1  9 11 12]\n",
      " [ 1  2 14 15]]\n"
     ]
    }
   ],
   "source": [
    "print(np.sort(arr)) # 행별로 정렬이 이루어진다\n",
    "print(\"-----------------------------\")\n",
    "print(np.sort(arr, axis=0)) # 열별로 정렬이 이루어진다\n",
    "print(\"-----------------------------\")\n",
    "print(np.sort(arr, axis=1)) # 행별로 정렬이 이루어진다\n",
    "print(\"-----------------------------\")\n",
    "\n",
    "\n",
    "print(np.sort(arr, axis=0))\n",
    "print(\"-----------------------------\")\n",
    "print(arr)                   # 원본은 그대로다! 따로 변수로 빼두고 저장한 것이 아니기에!\n",
    "print(\"-----------------------------\")\n",
    "arr =  np.sort(arr)          # 정렬한 결과를 원본으로\n",
    "print(arr)                   # 이제 행별로 정렬한 것이 원본이 되었다.\n"
   ]
  },
  {
   "cell_type": "code",
   "execution_count": 78,
   "id": "6353506e",
   "metadata": {},
   "outputs": [
    {
     "name": "stdout",
     "output_type": "stream",
     "text": [
      "[[ 3  4  5  7]\n",
      " [ 1  9 11 12]\n",
      " [ 1  2 14 15]]\n"
     ]
    }
   ],
   "source": [
    "arr = np.array([[4,3,5,7],\n",
    "                [1,12,11,9],\n",
    "                [2,15,1,14]])\n",
    "\n",
    "# 또 다른 방법\n",
    "\n",
    "arr.sort()        # print가 아니라 함수를 불러온거라 바로 원본에 적용되었다.\n",
    "print(arr)"
   ]
  },
  {
   "cell_type": "code",
   "execution_count": 18,
   "id": "5856b670",
   "metadata": {},
   "outputs": [
    {
     "name": "stdout",
     "output_type": "stream",
     "text": [
      "1\n",
      "[[1 1 1]\n",
      " [1 1 1]]\n",
      "---------------------------------------\n",
      "[0 1]\n",
      "[[0 1 0 1 0 1]\n",
      " [0 1 0 1 0 1]]\n",
      "---------------------------------------\n",
      "[[0 1]\n",
      " [2 3]]\n",
      "[[0 1 0 1 0 1]\n",
      " [2 3 2 3 2 3]\n",
      " [0 1 0 1 0 1]\n",
      " [2 3 2 3 2 3]]\n"
     ]
    }
   ],
   "source": [
    "### resp가 튜플일경우\n",
    "print(a)\n",
    "print(np.tile(a, (2, 3))) # 특정 값을 배열로 만들어준다. 단순한 1이던게 1로 이뤄진 2행 3열의 배열로 탄생\n",
    "\n",
    "print(\"---------------------------------------\")\n",
    "print(b)\n",
    "print(np.tile(b, (2, 3))) # b라는 덩어리를 하나로 생각하고 2행 3열로 증식시켰다.\n",
    "\n",
    "print(\"---------------------------------------\")\n",
    "print(c)\n",
    "print(np.tile(c, (2, 3))) # c라는 덩어리를 하나로 생각하고 마찬가지로 2행 3열로 증식시켰다.(타일을 붙여나가듯이)"
   ]
  },
  {
   "cell_type": "markdown",
   "id": "06cd2e54",
   "metadata": {},
   "source": [
    "## 12.  Broadcasting\n",
    "\n",
    "- http://www.astroml.org/book_figures/appendix/fig_broadcast_visual.html\n",
    "- 규칙\n",
    "    - 축의 길이가 같아야 한다.\n",
    "    - 배열 중 하나의 길이가 1인 경우."
   ]
  },
  {
   "cell_type": "code",
   "execution_count": 26,
   "id": "a9a533e2",
   "metadata": {},
   "outputs": [],
   "source": [
    "# 1차원 배열로 0번 축에 대해 브로드캐스팅 p.602\n",
    "# 2차원 배열의 1번 축에 대한 브로드캐스팅 p.603"
   ]
  },
  {
   "cell_type": "code",
   "execution_count": 29,
   "id": "a4b4e1f7",
   "metadata": {},
   "outputs": [
    {
     "name": "stdout",
     "output_type": "stream",
     "text": [
      "[2 3 4]\n",
      "-----------------------------\n"
     ]
    }
   ],
   "source": [
    "a = np.array([1, 2, 3])\n",
    "b = np.array([1])\n",
    "\n",
    "print(a + b)\n",
    "\n",
    "print(\"-----------------------------\")\n",
    "\n",
    "\n",
    "#a = np.array([1, 2, 3])\n",
    "#b = np.array([1,2]) # 이건 안된다 \n",
    "#print(a + b)"
   ]
  },
  {
   "cell_type": "code",
   "execution_count": 80,
   "id": "7b655673",
   "metadata": {},
   "outputs": [
    {
     "name": "stdout",
     "output_type": "stream",
     "text": [
      "[12 25 38 42]\n",
      "[2 3 1 0]\n"
     ]
    }
   ],
   "source": [
    "#### argsort()\n",
    "\n",
    "arr = np.array([42, 38, 12, 25])\n",
    "\n",
    "idx = np.argsort(arr)\n",
    "print(arr[idx])\n",
    "print(idx)"
   ]
  },
  {
   "cell_type": "code",
   "execution_count": 87,
   "id": "bf020c93",
   "metadata": {},
   "outputs": [
    {
     "name": "stdout",
     "output_type": "stream",
     "text": [
      "[9 8 7 6 5 4 3 2 1 0]\n",
      "[42 38 25 12]\n"
     ]
    }
   ],
   "source": [
    "### 내림차순\n",
    "print(ex[::-1])\n",
    "print(arr[np.argsort(-arr)])"
   ]
  },
  {
   "cell_type": "code",
   "execution_count": 84,
   "id": "152da56a",
   "metadata": {},
   "outputs": [
    {
     "name": "stdout",
     "output_type": "stream",
     "text": [
      "[0 1 2 3 4 5 6 7 8 9]\n",
      "[0 1 2 3 4 5 6 7 8 9]\n",
      "[0 2 4 6 8]\n",
      "[9 8 7 6 5 4 3 2 1 0]\n",
      "[9 7 5 3 1]\n"
     ]
    }
   ],
   "source": [
    "##### 슬라이싱 : 배열[시작위치 : 끝위치 : 간격]\n",
    "\n",
    "\n",
    "ex = np.arange(10)\n",
    "\n",
    "print(ex[:])\n",
    "print(ex[::1])\n",
    "print(ex[::2])\n",
    "print(ex[::-1])\n",
    "print(ex[::-2])"
   ]
  },
  {
   "cell_type": "markdown",
   "id": "1cd6f9ca",
   "metadata": {},
   "source": [
    "## 16. 난수\n",
    "\n",
    "- rand() : 0 ~ 1사이의 균일분포\n",
    "- randn() : 정규분포\n",
    "- randint() : 균일분포에서 정수"
   ]
  },
  {
   "cell_type": "code",
   "execution_count": 31,
   "id": "0c78b857",
   "metadata": {},
   "outputs": [
    {
     "name": "stdout",
     "output_type": "stream",
     "text": [
      "[0.4359949  0.02592623 0.54966248 0.43532239 0.4203678  0.33033482\n",
      " 0.20464863 0.61927097 0.29965467 0.26682728]\n",
      "------------------\n",
      "[[0.62113383 0.52914209 0.13457995 0.51357812 0.18443987]\n",
      " [0.78533515 0.85397529 0.49423684 0.84656149 0.07964548]\n",
      " [0.50524609 0.0652865  0.42812233 0.09653092 0.12715997]]\n"
     ]
    }
   ],
   "source": [
    "print(np.random.rand(10))\n",
    "print(\"------------------\")\n",
    "print(np.random.rand(3, 5))"
   ]
  },
  {
   "cell_type": "code",
   "execution_count": 32,
   "id": "b75abc1f",
   "metadata": {},
   "outputs": [
    {
     "name": "stdout",
     "output_type": "stream",
     "text": [
      "2\n",
      "------------------\n",
      "15\n",
      "[12 18 19 13 19 18 12 17 19 16]\n",
      "[[14 11 11]\n",
      " [13 19 19]]\n"
     ]
    }
   ],
   "source": [
    "print(np.random.randint(10)) # 0부터 9까지의 난수 중에서 1개\n",
    "print(\"------------------\")\n",
    "print(np.random.randint(11, 20)) # 11부터 19까지의 난수 중에서 1개\n",
    "print(np.random.randint(11, 20, size=10)) # 11부터 19까지의 난수 중에서 10개\n",
    "print(np.random.randint(11, 20, size=(2, 3))) # 11부터 19까지의 난수로 (2,3)배열을 만들라"
   ]
  },
  {
   "cell_type": "markdown",
   "id": "005739fe",
   "metadata": {},
   "source": [
    "### (1) 재현성(난수 고정)"
   ]
  },
  {
   "cell_type": "code",
   "execution_count": 33,
   "id": "1a489e91",
   "metadata": {},
   "outputs": [],
   "source": [
    "np.random.seed(5)\n",
    "\n",
    "np.random.seed(2)"
   ]
  },
  {
   "cell_type": "markdown",
   "id": "b7db1b0d",
   "metadata": {},
   "source": [
    "### (2) 데이터의 순서 바꾸기"
   ]
  },
  {
   "cell_type": "code",
   "execution_count": 34,
   "id": "caeaf492",
   "metadata": {},
   "outputs": [
    {
     "name": "stdout",
     "output_type": "stream",
     "text": [
      "[0 1 2 3 4 5 6 7 8 9]\n",
      "[4 1 5 0 7 2 3 6 9 8]\n"
     ]
    }
   ],
   "source": [
    "x = np.arange(10)\n",
    "print(x)\n",
    "\n",
    "np.random.shuffle(x)\n",
    "print(x)"
   ]
  },
  {
   "cell_type": "markdown",
   "id": "9af46980",
   "metadata": {},
   "source": [
    "### (3) 샘플링 : 복원(default), 비복원"
   ]
  },
  {
   "cell_type": "code",
   "execution_count": 106,
   "id": "242d66bf",
   "metadata": {},
   "outputs": [
    {
     "name": "stdout",
     "output_type": "stream",
     "text": [
      "[3 4 2 3 3]\n"
     ]
    }
   ],
   "source": [
    "print(np.random.choice(7, 5)) # 복원 # 뽑힌게 또 나올 수도 있다! # 0~7까지의 숫자 중에서 5번을 추출"
   ]
  },
  {
   "cell_type": "code",
   "execution_count": 110,
   "id": "5f1d7d09",
   "metadata": {},
   "outputs": [
    {
     "name": "stdout",
     "output_type": "stream",
     "text": [
      "[5 4 6 0 2]\n"
     ]
    }
   ],
   "source": [
    "print(np.random.choice(7, 5, replace=False)) # 비복원 # 뽑힌건 안나온다!"
   ]
  },
  {
   "cell_type": "code",
   "execution_count": 117,
   "id": "0adf9439",
   "metadata": {},
   "outputs": [
    {
     "name": "stdout",
     "output_type": "stream",
     "text": [
      "[3 3 3 2 2 3 3 3 3 2]\n"
     ]
    }
   ],
   "source": [
    "print(np.random.choice(5, 10, p=[0.1, 0, 0.3, 0.6, 0])) # p=[, , , ]안에 확률을 합쳐서 1이 되도록"
   ]
  },
  {
   "cell_type": "markdown",
   "id": "2773e958",
   "metadata": {},
   "source": [
    "### 17. 정수형 데이터 카운팅\n",
    "\n",
    "- unique()\n",
    "- bincount()"
   ]
  },
  {
   "cell_type": "code",
   "execution_count": 131,
   "id": "0c8fb051",
   "metadata": {},
   "outputs": [
    {
     "name": "stdout",
     "output_type": "stream",
     "text": [
      "['a' 'b' 'c']\n",
      "[2 2 1]\n"
     ]
    }
   ],
   "source": [
    "arr = np.array(['a','b','b','c','a'])\n",
    "\n",
    "# print(np.unique(arr))                            # 중복을 제거해줌\n",
    "idx,cnt = np.unique(arr, return_counts=True)     # 중복된 갯수를 세숨\n",
    "\n",
    "print(idx)\n",
    "print(cnt)"
   ]
  },
  {
   "cell_type": "code",
   "execution_count": 119,
   "id": "b467ab89",
   "metadata": {},
   "outputs": [
    {
     "name": "stdout",
     "output_type": "stream",
     "text": [
      "5\n",
      "['a' 'b' 'c']\n",
      "3\n"
     ]
    }
   ],
   "source": [
    "print(len(arr))\n",
    "print(np.unique(arr))\n",
    "print(len(np.unique(arr)))"
   ]
  },
  {
   "cell_type": "code",
   "execution_count": 120,
   "id": "7c2a7ade",
   "metadata": {},
   "outputs": [
    {
     "data": {
      "text/plain": [
       "(array(['a', 'b', 'c'], dtype='<U1'), array([2, 2, 1], dtype=int64))"
      ]
     },
     "execution_count": 120,
     "metadata": {},
     "output_type": "execute_result"
    }
   ],
   "source": [
    "np.unique(arr, return_counts=True) # 앞쪽은 중복을 제거한 배열, 뒤는 행마다 몇개가 중복되어 있는지와 타입이 나옴\n",
    "\n",
    "print(cnt)"
   ]
  },
  {
   "cell_type": "markdown",
   "id": "2805057c",
   "metadata": {},
   "source": [
    "### (2) bincount()\n",
    "\n",
    "- 발생하지 않은 사건에 대해서도 카운팅\n",
    "\n"
   ]
  },
  {
   "cell_type": "code",
   "execution_count": 124,
   "id": "767a59e2",
   "metadata": {},
   "outputs": [
    {
     "name": "stdout",
     "output_type": "stream",
     "text": [
      "(array([1, 2, 3]), array([2, 3, 1], dtype=int64))\n",
      "[0 2 3 1]\n",
      "[0 2 3 1 0 0]\n"
     ]
    }
   ],
   "source": [
    "arr = np.array([1, 1, 2, 2, 2, 3]) # 주사위 눈금이라고 가정\n",
    "\n",
    "print(np.unique(arr, return_counts=True))\n",
    "print(np.bincount(arr)) # 0은 1번 나왔고, 1은 2번 나왔고, 3은 1번 나왔다고 카운트해줌\n",
    "print(np.bincount(arr, minlength=6)) # 안나온 값들은 0으로 채워서 나왔다."
   ]
  },
  {
   "cell_type": "markdown",
   "id": "1da0d6f0",
   "metadata": {},
   "source": [
    "### 배열 조회"
   ]
  },
  {
   "cell_type": "code",
   "execution_count": 40,
   "id": "1f498093",
   "metadata": {},
   "outputs": [],
   "source": [
    "def array_info(array):\n",
    "    print(array) # 실제 배열의 값\n",
    "    print(\"ndim:\", array.ndim) # 배열이 몇차원인지\n",
    "    print(\"shape:\", array.shape) # 모양은 이렇게 생겼구나\n",
    "    print(\"dtype:\", array.dtype) # 어떤 데이터타입을 쓰는구나\n",
    "    print(\"size:\", array.size) # 엘레멘츠의 갯수\n",
    "    print(\"itemsize:\", array.itemsize) # 각 하나의 아이템이 가진 사이즈 byte\n",
    "    print(\"nbytes:\", array.nbytes) # 총 바이트 사이즈\n",
    "    print(\"strides:\", array.strides) # 다음 차원으로 넘어가기 위한 바이트 수"
   ]
  },
  {
   "cell_type": "code",
   "execution_count": 41,
   "id": "f6b943d8",
   "metadata": {},
   "outputs": [
    {
     "name": "stdout",
     "output_type": "stream",
     "text": [
      "[4 5 6 4 5]\n",
      "ndim: 1\n",
      "shape: (5,)\n",
      "dtype: int32\n",
      "size: 5\n",
      "itemsize: 4\n",
      "nbytes: 20\n",
      "strides: (4,)\n"
     ]
    }
   ],
   "source": [
    "array_info(a1)"
   ]
  },
  {
   "cell_type": "code",
   "execution_count": 42,
   "id": "439705e5",
   "metadata": {},
   "outputs": [
    {
     "name": "stdout",
     "output_type": "stream",
     "text": [
      "[[1 2 3]\n",
      " [4 5 6]\n",
      " [7 8 9]]\n",
      "ndim: 2\n",
      "shape: (3, 3)\n",
      "dtype: int32\n",
      "size: 9\n",
      "itemsize: 4\n",
      "nbytes: 36\n",
      "strides: (12, 4)\n"
     ]
    }
   ],
   "source": [
    "array_info(a2)"
   ]
  },
  {
   "cell_type": "code",
   "execution_count": 43,
   "id": "0e910df3",
   "metadata": {},
   "outputs": [
    {
     "name": "stdout",
     "output_type": "stream",
     "text": [
      "[[[1 2 3]\n",
      "  [4 5 6]\n",
      "  [7 8 9]]\n",
      "\n",
      " [[1 2 3]\n",
      "  [4 5 6]\n",
      "  [7 8 9]]\n",
      "\n",
      " [[1 2 3]\n",
      "  [4 5 6]\n",
      "  [7 8 9]]]\n",
      "ndim: 3\n",
      "shape: (3, 3, 3)\n",
      "dtype: int32\n",
      "size: 27\n",
      "itemsize: 4\n",
      "nbytes: 108\n",
      "strides: (36, 12, 4)\n"
     ]
    }
   ],
   "source": [
    "array_info(a3)"
   ]
  },
  {
   "cell_type": "markdown",
   "id": "9022c7cf",
   "metadata": {},
   "source": [
    "## 18. 실습\n",
    "\n",
    "- 영화 평점 데이터\n",
    "- https://grouplens.org/datasets/movielens/\n",
    "- MovieLens 1M Dataset(ml-1m.zip (size: 6 MB, checksum)) 받기"
   ]
  },
  {
   "cell_type": "code",
   "execution_count": 3,
   "id": "96c35222",
   "metadata": {},
   "outputs": [],
   "source": [
    "file = np.loadtxt(\"C:\\\\kimhotak13\\\\Analysis\\\\data\\\\data\\\\ml-1m\\\\ratings.dat\", delimiter=\"::\", dtype=np.int64) # delimeter = 구분하는 방법"
   ]
  },
  {
   "cell_type": "code",
   "execution_count": 4,
   "id": "dc4493d9",
   "metadata": {},
   "outputs": [
    {
     "name": "stdout",
     "output_type": "stream",
     "text": [
      "[[        1      1193         5 978300760]\n",
      " [        1       661         3 978302109]\n",
      " [        1       914         3 978301968]\n",
      " ...\n",
      " [     6040       562         5 956704746]\n",
      " [     6040      1096         4 956715648]\n",
      " [     6040      1097         4 956715569]]\n",
      "(1000209, 4)\n"
     ]
    }
   ],
   "source": [
    "print(file)\n",
    "print(file.shape)"
   ]
  },
  {
   "cell_type": "code",
   "execution_count": 11,
   "id": "d5be1210",
   "metadata": {},
   "outputs": [
    {
     "name": "stdout",
     "output_type": "stream",
     "text": [
      "[[        1      1193         5 978300760]\n",
      " [        1       661         3 978302109]\n",
      " [        1       914         3 978301968]\n",
      " [        1      3408         4 978300275]\n",
      " [        1      2355         5 978824291]\n",
      " [        1      1197         3 978302268]\n",
      " [        1      1287         5 978302039]\n",
      " [        1      2804         5 978300719]\n",
      " [        1       594         4 978302268]\n",
      " [        1       919         4 978301368]\n",
      " [        1       595         5 978824268]\n",
      " [        1       938         4 978301752]\n",
      " [        1      2398         4 978302281]\n",
      " [        1      2918         4 978302124]\n",
      " [        1      1035         5 978301753]\n",
      " [        1      2791         4 978302188]\n",
      " [        1      2687         3 978824268]\n",
      " [        1      2018         4 978301777]\n",
      " [        1      3105         5 978301713]\n",
      " [        1      2797         4 978302039]]\n",
      "------------------------------------\n",
      "[[        1      1193         5 978300760]\n",
      " [        1       661         3 978302109]\n",
      " [        1       914         3 978301968]\n",
      " [        1      3408         4 978300275]\n",
      " [        1      2355         5 978824291]\n",
      " [        1      1197         3 978302268]\n",
      " [        1      1287         5 978302039]\n",
      " [        1      2804         5 978300719]\n",
      " [        1       594         4 978302268]\n",
      " [        1       919         4 978301368]\n",
      " [        1       595         5 978824268]\n",
      " [        1       938         4 978301752]\n",
      " [        1      2398         4 978302281]\n",
      " [        1      2918         4 978302124]\n",
      " [        1      1035         5 978301753]\n",
      " [        1      2791         4 978302188]\n",
      " [        1      2687         3 978824268]\n",
      " [        1      2018         4 978301777]\n",
      " [        1      3105         5 978301713]\n",
      " [        1      2797         4 978302039]]\n",
      "------------------------------------\n",
      "[[        1      1193         5 978300760]\n",
      " [        1       661         3 978302109]\n",
      " [        1       914         3 978301968]\n",
      " [        1      3408         4 978300275]\n",
      " [        1      2355         5 978824291]\n",
      " [        1      1197         3 978302268]\n",
      " [        1      1287         5 978302039]\n",
      " [        1      2804         5 978300719]\n",
      " [        1       594         4 978302268]\n",
      " [        1       919         4 978301368]\n",
      " [        1       595         5 978824268]\n",
      " [        1       938         4 978301752]\n",
      " [        1      2398         4 978302281]\n",
      " [        1      2918         4 978302124]\n",
      " [        1      1035         5 978301753]\n",
      " [        1      2791         4 978302188]\n",
      " [        1      2687         3 978824268]\n",
      " [        1      2018         4 978301777]\n",
      " [        1      3105         5 978301713]\n",
      " [        1      2797         4 978302039]]\n",
      "------------------------------------\n",
      "------------------------------------\n",
      "[[   1  720]\n",
      " [   1 1270]\n",
      " [   1  527]\n",
      " [   1 2340]\n",
      " [   1   48]\n",
      " [   1 1097]\n",
      " [   1 1721]\n",
      " [   1 1545]\n",
      " [   1  745]\n",
      " [   1 2294]]\n",
      "------------------------------------\n",
      "[[   1  720]\n",
      " [   1 1270]\n",
      " [   1  527]\n",
      " [   1 2340]\n",
      " [   1   48]\n",
      " [   1 1097]\n",
      " [   1 1721]\n",
      " [   1 1545]\n",
      " [   1  745]\n",
      " [   1 2294]]\n",
      "------------------------------------\n",
      "3.581564453029317\n",
      "------------------------------------\n",
      "3.581564453029317\n",
      "------------------------------------\n",
      "<class 'numpy.ndarray'>\n",
      "------------------------------------\n",
      "------------------------------------\n",
      "------------------------------------\n",
      "5.0\n"
     ]
    }
   ],
   "source": [
    "#### 첫행부터 20행까지 출력 # file = 2차원 배열\n",
    "print(file[0:20])\n",
    "print(\"------------------------------------\")\n",
    "print(file[:20,])\n",
    "print(\"------------------------------------\")\n",
    "print(file[:20, :])\n",
    "print(\"------------------------------------\")\n",
    "\n",
    "print(\"------------------------------------\")\n",
    "#### 21행부터 30행까지 userid와 movieid만 출력\n",
    "print(file[21:31, 0:2])\n",
    "print(\"------------------------------------\")\n",
    "print(file[21:31, [0, 1]]) # 만약에 뽑고자하는 데이터가 연속되지 않고 떨어져있는 경우!! 이런식으로 따로 지정\n",
    "print(\"------------------------------------\")\n",
    "#### 전체 평점에 대한 평균\n",
    "print(np.mean(file[:,[2]]))\n",
    "print(\"------------------------------------\")\n",
    "print(np.mean(file[:,2]))\n",
    "print(\"------------------------------------\")\n",
    "print(type(file[:,2]))\n",
    "print(\"------------------------------------\")\n",
    "file[:,2].mean()\n",
    "print(\"------------------------------------\")\n",
    "np.mean(file[:,2])\n",
    "\n",
    "print(\"------------------------------------\")\n",
    "#### 사용자별로 평점 평균(10명만 출력)\n",
    "print(np.mean(file[0,[2]]))\n",
    "\n"
   ]
  },
  {
   "cell_type": "code",
   "execution_count": 193,
   "id": "4f44beb9",
   "metadata": {},
   "outputs": [
    {
     "name": "stdout",
     "output_type": "stream",
     "text": [
      "[5 3 3 ... 5 4 4]\n",
      "4.188679245283019\n",
      "3.7131782945736433\n",
      "3.9019607843137254\n",
      "4.190476190476191\n",
      "3.1464646464646466\n",
      "3.9014084507042255\n",
      "4.32258064516129\n",
      "3.884892086330935\n",
      "3.7358490566037736\n",
      "4.114713216957606\n"
     ]
    }
   ],
   "source": [
    "# 4. 사용자별로 평점 평균(10명만 출력) - 엄진성버전\n",
    "print(file[:,2])\n",
    "\n",
    "for i in range(1,11):               # i의 범위는 1~10 으로 지정해준다.\n",
    "    idx = (file[:,0] == i)          # file[:,0] 을 전부 불러와서 사용자 ID(file[:,0])가 차례대로 1번~10번까지 맞는지 확인해주고\n",
    "    rows = file[idx,2]              # 사용자 ID가 1~10과 일치하는 행에서 평점들의 데이터를 불러와준다.\n",
    "    print(np.mean(rows))            # 그 데이터들의 평균을 구해준다."
   ]
  },
  {
   "cell_type": "code",
   "execution_count": 21,
   "id": "58a90283",
   "metadata": {},
   "outputs": [
    {
     "name": "stdout",
     "output_type": "stream",
     "text": [
      "(6040,)\n",
      "결과 :  [[1, 4.188679245283019], [2, 3.7131782945736433], [3, 3.9019607843137254], [4, 4.190476190476191], [5, 3.1464646464646466], [6, 3.9014084507042255], [7, 4.32258064516129], [8, 3.884892086330935], [9, 3.7358490566037736], [10, 4.114713216957606]]\n",
      "-*-*-*-***------------------------------------------\n"
     ]
    }
   ],
   "source": [
    "# 4. 사용자별로 평점 평균(10명만 출력) - 엄진성버전\n",
    "#print(file[0,2])\n",
    "#usernum=file[:,[0]]\n",
    "#print(usernum) # user ID 전체행\n",
    "#for i in usernum <= 10:\n",
    "#print(np.mean(file[i:i,[2]]))\n",
    "\n",
    "user_id = np.unique(file[: , 0])\n",
    "print(user_id.shape)\n",
    "\n",
    "means = []# 1번 사용자의 평균, 2번 사용자의 평균, 3번 사용자의 평균, ...\n",
    "\n",
    "for id in user_id:\n",
    "    user = file[file[:, 0] == id, :] # numpy의 장점. 인덱스 안에 조건문이나 리스트 컴프리헨션도 넣을 수 있다. 집중\n",
    "    means.append([id, user[:, 2].mean()]) # append로 추가해야 리스트 안에 또 리스트로 나온다. extend 노노\n",
    "    \n",
    "print(\"결과 : \", means[:10])\n",
    "    \n"
   ]
  },
  {
   "cell_type": "code",
   "execution_count": 34,
   "id": "da7c49be",
   "metadata": {},
   "outputs": [
    {
     "name": "stdout",
     "output_type": "stream",
     "text": [
      "결과 :  [[1, 4.188679245283019], [2, 3.7131782945736433], [3, 3.9019607843137254], [4, 4.190476190476191], [5, 3.1464646464646466], [6, 3.9014084507042255], [7, 4.32258064516129], [8, 3.884892086330935], [9, 3.7358490566037736], [10, 4.114713216957606]]\n"
     ]
    }
   ],
   "source": [
    "# 4. 사용자별로 평점 평균(10명만 출력) # 리스트 컴프리헨션\n",
    "\n",
    "file[file[:, 0] == 1].mean(axis=0)[2]\n",
    "\n",
    "result = [[id, file[file[:, 0] == id].mean(axis=0)[2]] for id in range(1,11)]\n",
    "\n",
    "print(\"결과 : \", result)\n"
   ]
  },
  {
   "cell_type": "code",
   "execution_count": 37,
   "id": "e5776157",
   "metadata": {},
   "outputs": [],
   "source": [
    "##### 결과값을 numpy를 이용하여 저장\n",
    "\n",
    "np.savetxt(\"C:\\\\kimhotak13\\\\Analysis\\\\data\\\\data\\\\ml-1m\\\\ratings_mean.csv\", means, delimiter=\",\", fmt=\"%.2f\") \n",
    "# 원래는 아래처럼 배열로 해줘야함 # 리스트 형식은 기본적으로 배열을 안써도 되도록 패치한듯하다고함\n",
    "np.savetxt(\"C:\\\\kimhotak13\\\\Analysis\\\\data\\\\data\\\\ml-1m\\\\ratings_mean.csv\", np.array(means), delimiter=\",\", fmt=\"%.2f\")"
   ]
  }
 ],
 "metadata": {
  "kernelspec": {
   "display_name": "Python 3 (ipykernel)",
   "language": "python",
   "name": "python3"
  },
  "language_info": {
   "codemirror_mode": {
    "name": "ipython",
    "version": 3
   },
   "file_extension": ".py",
   "mimetype": "text/x-python",
   "name": "python",
   "nbconvert_exporter": "python",
   "pygments_lexer": "ipython3",
   "version": "3.9.13"
  }
 },
 "nbformat": 4,
 "nbformat_minor": 5
}
