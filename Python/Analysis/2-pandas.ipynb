{
 "cells": [
  {
   "cell_type": "markdown",
   "id": "26e29b6b",
   "metadata": {},
   "source": [
    "## 1. Pandas에 제공하는 대표적인 자료구조\n",
    "\n",
    "- Series\n",
    "    - 값 + INDEX\n",
    "    \n",
    "- DataFrame\n",
    "    - 여러 개의 Series를 묶어놓은 형태(테이블)"
   ]
  },
  {
   "cell_type": "code",
   "execution_count": 1,
   "id": "22b85280",
   "metadata": {},
   "outputs": [],
   "source": [
    "import numpy as np\n",
    "import pandas as pd"
   ]
  },
  {
   "cell_type": "markdown",
   "id": "06dde764",
   "metadata": {},
   "source": [
    "## 2. Series"
   ]
  },
  {
   "cell_type": "code",
   "execution_count": 4,
   "id": "1ddb4fa0",
   "metadata": {},
   "outputs": [
    {
     "name": "stdout",
     "output_type": "stream",
     "text": [
      "0    9904312\n",
      "1    3448737\n",
      "2    2890451\n",
      "3    2466052\n",
      "dtype: int64\n",
      "<class 'pandas.core.series.Series'>\n"
     ]
    }
   ],
   "source": [
    "s = pd.Series([9904312, 3448737, 2890451, 2466052]) # 앞에 인덱스를 명시적으로 달고 배열로 만들어 준다\n",
    "print(s)\n",
    "print(type(s))"
   ]
  },
  {
   "cell_type": "code",
   "execution_count": 5,
   "id": "3717b4dc",
   "metadata": {},
   "outputs": [
    {
     "name": "stdout",
     "output_type": "stream",
     "text": [
      "(0, 9904312)\n",
      "(1, 3448737)\n",
      "(2, 2890451)\n",
      "(3, 2466052)\n"
     ]
    }
   ],
   "source": [
    "for i in enumerate([9904312, 3448737, 2890451, 2466052]):\n",
    "    print(i)"
   ]
  },
  {
   "cell_type": "markdown",
   "id": "866f5402",
   "metadata": {},
   "source": [
    "### (1) 인덱스 활용"
   ]
  },
  {
   "cell_type": "code",
   "execution_count": 8,
   "id": "98db9fa2",
   "metadata": {},
   "outputs": [
    {
     "name": "stdout",
     "output_type": "stream",
     "text": [
      "서울    9904312\n",
      "부산    3448737\n",
      "인천    2890451\n",
      "대구    2466052\n",
      "dtype: int64\n"
     ]
    }
   ],
   "source": [
    "##### 인덱스를 자유롭게 지정\n",
    "\n",
    "s = pd.Series([9904312, 3448737, 2890451, 2466052],\n",
    "             index=[\"서울\",\"부산\",\"인천\",\"대구\"])\n",
    "print(s)\n"
   ]
  },
  {
   "cell_type": "code",
   "execution_count": 2,
   "id": "8808ea6f",
   "metadata": {},
   "outputs": [],
   "source": [
    "?pd.Series"
   ]
  },
  {
   "cell_type": "code",
   "execution_count": 11,
   "id": "f0de80b6",
   "metadata": {},
   "outputs": [
    {
     "name": "stdout",
     "output_type": "stream",
     "text": [
      "[9904312 3448737 2890451 2466052]\n",
      "[9904312 3448737 2890451 2466052] <class 'numpy.ndarray'>\n",
      "Index(['서울', '부산', '인천', '대구'], dtype='object')\n"
     ]
    }
   ],
   "source": [
    "###### 인덱스와 값을 별도로 가져올 수 있다.\n",
    "\n",
    "print(s.values)\n",
    "print(s.values, type(s.values))\n",
    "print(s.index) # 'object' int str 등 모든 것이 들어갈 수 있다."
   ]
  },
  {
   "cell_type": "code",
   "execution_count": 12,
   "id": "70d9e2d4",
   "metadata": {},
   "outputs": [
    {
     "name": "stdout",
     "output_type": "stream",
     "text": [
      "도시\n",
      "서울    9904312\n",
      "부산    3448737\n",
      "인천    2890451\n",
      "대구    2466052\n",
      "dtype: int64\n"
     ]
    }
   ],
   "source": [
    "##### 인덱스에 이름 지정\n",
    "\n",
    "s.index.name = \"도시\"\n",
    "print(s)"
   ]
  },
  {
   "cell_type": "code",
   "execution_count": 13,
   "id": "7eabb2d4",
   "metadata": {},
   "outputs": [
    {
     "name": "stdout",
     "output_type": "stream",
     "text": [
      "도시\n",
      "서울    9904312\n",
      "부산    3448737\n",
      "인천    2890451\n",
      "대구    2466052\n",
      "Name: 인구, dtype: int64\n"
     ]
    }
   ],
   "source": [
    "##### Series 전체에 이름 지정\n",
    "\n",
    "s.name = \"인구\"\n",
    "print(s)"
   ]
  },
  {
   "cell_type": "markdown",
   "id": "5f74178d",
   "metadata": {},
   "source": [
    "### (2) 벡터화 연산\n"
   ]
  },
  {
   "cell_type": "code",
   "execution_count": 14,
   "id": "b28739ab",
   "metadata": {},
   "outputs": [
    {
     "data": {
      "text/plain": [
       "도시\n",
       "서울    99.04312\n",
       "부산    34.48737\n",
       "인천    28.90451\n",
       "대구    24.66052\n",
       "Name: 인구, dtype: float64"
      ]
     },
     "execution_count": 14,
     "metadata": {},
     "output_type": "execute_result"
    }
   ],
   "source": [
    "s / 100000"
   ]
  },
  {
   "cell_type": "markdown",
   "id": "ce729c1a",
   "metadata": {},
   "source": [
    "### (3) Indexing"
   ]
  },
  {
   "cell_type": "code",
   "execution_count": 21,
   "id": "93f5e4f7",
   "metadata": {},
   "outputs": [
    {
     "name": "stdout",
     "output_type": "stream",
     "text": [
      "9904312 3448737\n",
      "9904312 3448737\n",
      "--------------------------------------------\n",
      "도시\n",
      "서울    9904312\n",
      "대구    2466052\n",
      "부산    3448737\n",
      "Name: 인구, dtype: int64\n",
      "도시\n",
      "서울    9904312\n",
      "대구    2466052\n",
      "부산    3448737\n",
      "Name: 인구, dtype: int64\n",
      "--------------------------------------------\n",
      "도시\n",
      "부산    3448737\n",
      "인천    2890451\n",
      "Name: 인구, dtype: int64\n",
      "--------------------------------------------\n",
      "도시\n",
      "부산    3448737\n",
      "인천    2890451\n",
      "Name: 인구, dtype: int64\n",
      "도시\n",
      "부산    3448737\n",
      "인천    2890451\n",
      "Name: 인구, dtype: int64\n",
      "--------------------------------------------\n",
      "3448737 , 9904312\n"
     ]
    }
   ],
   "source": [
    "print(s[0], s[1])\n",
    "print(s[\"서울\"], s[\"부산\"])\n",
    "\n",
    "print(\"--------------------------------------------\")\n",
    "\n",
    "print(s[[0, 3, 1]])\n",
    "print(s[[\"서울\", \"대구\", \"부산\"]])\n",
    "\n",
    "print(\"--------------------------------------------\")\n",
    "\n",
    "print(s[(s > 250e4) & (s < 500e4)])\n",
    "\n",
    "print(\"--------------------------------------------\")\n",
    "\n",
    "print(s[1:3])\n",
    "print(s[\"부산\":\"인천\"])\n",
    "\n",
    "print(\"--------------------------------------------\")\n",
    "\n",
    "print(s.부산, \",\", s.서울)"
   ]
  },
  {
   "cell_type": "markdown",
   "id": "9204222a",
   "metadata": {},
   "source": [
    "### (4) Series와 dict"
   ]
  },
  {
   "cell_type": "code",
   "execution_count": 28,
   "id": "bad88f98",
   "metadata": {},
   "outputs": [
    {
     "name": "stdout",
     "output_type": "stream",
     "text": [
      "True\n",
      "False\n",
      "----------------------------------\n",
      "[('서울', 9904312), ('부산', 3448737), ('인천', 2890451), ('대구', 2466052)]\n",
      "Index(['서울', '부산', '인천', '대구'], dtype='object', name='도시')\n",
      "[9904312 3448737 2890451 2466052]\n",
      "----------------------------------\n",
      "서울    9631482\n",
      "부산    3448737\n",
      "인천    2632035\n",
      "대전    1490158\n",
      "dtype: int64\n"
     ]
    }
   ],
   "source": [
    "# 시리즈는 딕트와 똑같이 사용할 수 있다. \n",
    "\n",
    "print(\"서울\" in s)\n",
    "print(\"대전\" in s)\n",
    "\n",
    "print(\"----------------------------------\")\n",
    "\n",
    "print(list(s.items()))\n",
    "print(s.keys())\n",
    "print(s.values)\n",
    "\n",
    "print(\"----------------------------------\")\n",
    "s2 = pd.Series({\"서울\" : 9631482, \"부산\" : 3448737, \"인천\" : 2632035, \"대전\" : 1490158})\n",
    "print(s2)"
   ]
  },
  {
   "cell_type": "markdown",
   "id": "8e92a64e",
   "metadata": {},
   "source": [
    "### (5) 기타"
   ]
  },
  {
   "cell_type": "code",
   "execution_count": 34,
   "id": "aeaf5240",
   "metadata": {},
   "outputs": [
    {
     "name": "stdout",
     "output_type": "stream",
     "text": [
      "도시\n",
      "서울    9904312\n",
      "부산    3448737\n",
      "인천    2890451\n",
      "대구    2466052\n",
      "Name: 인구, dtype: int64\n",
      "----------------------------------\n",
      "서울    9631482\n",
      "부산    3448737\n",
      "인천    2632035\n",
      "대전    1490158\n",
      "dtype: int64\n",
      "==================================\n",
      "대구         NaN\n",
      "대전         NaN\n",
      "부산         0.0\n",
      "서울    272830.0\n",
      "인천    258416.0\n",
      "dtype: float64\n",
      "==================================\n",
      "[272830      0 258416 975894]\n"
     ]
    }
   ],
   "source": [
    "###### 인덱스 기반 연산\n",
    "\n",
    "print(s)\n",
    "print(\"----------------------------------\")\n",
    "print(s2)\n",
    "print(\"==================================\")\n",
    "\n",
    "result = s - s2 # 같은 인덱스를 찾아서 같은 인덱스끼리 연산하고 상대방이 없어서 연산하지 못한 것은 NaN\n",
    "print(result) # NaN(결측치)\n",
    "\n",
    "print(\"==================================\")\n",
    "\n",
    "print(s.values - s2.values) # 단순하게 값만 순서대로 연산"
   ]
  },
  {
   "cell_type": "code",
   "execution_count": 44,
   "id": "5b67b57d",
   "metadata": {},
   "outputs": [
    {
     "name": "stdout",
     "output_type": "stream",
     "text": [
      "부산    0.000000\n",
      "서울   -2.754659\n",
      "인천   -8.940335\n",
      "dtype: float64\n",
      "==================================\n",
      "대구         NaN\n",
      "대전         NaN\n",
      "부산    0.000000\n",
      "서울   -2.754659\n",
      "인천   -8.940335\n",
      "dtype: float64\n",
      "==================================\n",
      "대구    False\n",
      "대전    False\n",
      "부산     True\n",
      "서울     True\n",
      "인천     True\n",
      "dtype: bool\n",
      "부산    0.000000\n",
      "서울   -2.754659\n",
      "인천   -8.940335\n",
      "dtype: float64\n",
      "==================================\n",
      "대구         NaN\n",
      "대전         NaN\n",
      "부산    0.000000\n",
      "서울   -2.754659\n",
      "인천   -8.940335\n",
      "dtype: float64\n",
      "대구         NaN\n",
      "대전         NaN\n",
      "부산    0.000000\n",
      "서울   -2.754659\n",
      "인천   -8.940335\n",
      "dtype: float64\n"
     ]
    }
   ],
   "source": [
    "##### 결측치 제거\n",
    "\n",
    "print(result.isnull()) # 결측치가 있거나 누락된 데이터가 있으면 불리언 값으로\n",
    "\n",
    "print(result.dropna()) # 결측치가 있는 값은 결과에서 빠졌다.\n",
    "\n",
    "print(\"==================================\")\n",
    "\n",
    "print(result)\n",
    "\n",
    "print(\"==================================\")\n",
    "\n",
    "print(result.notnull()) # 결측치가 있는지 없는지 True/False로 돌려준다. \n",
    "\n",
    "print(result[result.notnull()]) # 트루 펄스가 아닌 결과값을 원할 경우\n",
    "\n",
    "print(\"==================================\")\n",
    "\n",
    "print(result)\n",
    "\n",
    "######### s와 s2의 데이터를 이용해서 인구증가율 \n",
    "\n",
    "# (끝연도 - 시작연도) / 시작연도 * 100\n",
    "\n",
    "result2 = (s2 - s)/s*100\n",
    "print(result2)"
   ]
  },
  {
   "cell_type": "code",
   "execution_count": 45,
   "id": "9dffd756",
   "metadata": {},
   "outputs": [
    {
     "name": "stdout",
     "output_type": "stream",
     "text": [
      "대구         NaN\n",
      "대전         NaN\n",
      "부산    1.630000\n",
      "서울   -2.754659\n",
      "인천   -8.940335\n",
      "dtype: float64\n"
     ]
    }
   ],
   "source": [
    "##### 데이터를 수정, 삭제, 갱신\n",
    "\n",
    "# 수정\n",
    "\n",
    "result2[\"부산\"] = 1.63\n",
    "print(result2)"
   ]
  },
  {
   "cell_type": "code",
   "execution_count": 47,
   "id": "ae6f9c76",
   "metadata": {},
   "outputs": [
    {
     "name": "stdout",
     "output_type": "stream",
     "text": [
      "대구    1.410000\n",
      "대전         NaN\n",
      "부산    1.630000\n",
      "서울   -2.754659\n",
      "인천   -8.940335\n",
      "dtype: float64\n"
     ]
    }
   ],
   "source": [
    "# 갱신\n",
    "result2[\"대구\"] = 1.41\n",
    "print(result2)"
   ]
  },
  {
   "cell_type": "code",
   "execution_count": 48,
   "id": "305fa377",
   "metadata": {},
   "outputs": [
    {
     "name": "stdout",
     "output_type": "stream",
     "text": [
      "대구    1.410000\n",
      "대전         NaN\n",
      "부산    1.630000\n",
      "인천   -8.940335\n",
      "dtype: float64\n"
     ]
    }
   ],
   "source": [
    "# 삭제\n",
    "del result2[\"서울\"]\n",
    "print(result2)"
   ]
  },
  {
   "cell_type": "markdown",
   "id": "fceb43ff",
   "metadata": {},
   "source": [
    "#### 중복제거"
   ]
  },
  {
   "cell_type": "code",
   "execution_count": 16,
   "id": "2e92fc78",
   "metadata": {},
   "outputs": [
    {
     "data": {
      "text/html": [
       "<div>\n",
       "<style scoped>\n",
       "    .dataframe tbody tr th:only-of-type {\n",
       "        vertical-align: middle;\n",
       "    }\n",
       "\n",
       "    .dataframe tbody tr th {\n",
       "        vertical-align: top;\n",
       "    }\n",
       "\n",
       "    .dataframe thead th {\n",
       "        text-align: right;\n",
       "    }\n",
       "</style>\n",
       "<table border=\"1\" class=\"dataframe\">\n",
       "  <thead>\n",
       "    <tr style=\"text-align: right;\">\n",
       "      <th></th>\n",
       "      <th>c1</th>\n",
       "      <th>c2</th>\n",
       "    </tr>\n",
       "  </thead>\n",
       "  <tbody>\n",
       "    <tr>\n",
       "      <th>0</th>\n",
       "      <td>a</td>\n",
       "      <td>1</td>\n",
       "    </tr>\n",
       "    <tr>\n",
       "      <th>1</th>\n",
       "      <td>b</td>\n",
       "      <td>2</td>\n",
       "    </tr>\n",
       "    <tr>\n",
       "      <th>2</th>\n",
       "      <td>c</td>\n",
       "      <td>1</td>\n",
       "    </tr>\n",
       "    <tr>\n",
       "      <th>3</th>\n",
       "      <td>a</td>\n",
       "      <td>1</td>\n",
       "    </tr>\n",
       "    <tr>\n",
       "      <th>4</th>\n",
       "      <td>b</td>\n",
       "      <td>2</td>\n",
       "    </tr>\n",
       "    <tr>\n",
       "      <th>5</th>\n",
       "      <td>c</td>\n",
       "      <td>3</td>\n",
       "    </tr>\n",
       "    <tr>\n",
       "      <th>6</th>\n",
       "      <td>b</td>\n",
       "      <td>3</td>\n",
       "    </tr>\n",
       "    <tr>\n",
       "      <th>7</th>\n",
       "      <td>c</td>\n",
       "      <td>4</td>\n",
       "    </tr>\n",
       "  </tbody>\n",
       "</table>\n",
       "</div>"
      ],
      "text/plain": [
       "  c1  c2\n",
       "0  a   1\n",
       "1  b   2\n",
       "2  c   1\n",
       "3  a   1\n",
       "4  b   2\n",
       "5  c   3\n",
       "6  b   3\n",
       "7  c   4"
      ]
     },
     "execution_count": 16,
     "metadata": {},
     "output_type": "execute_result"
    }
   ],
   "source": [
    "df = pd.DataFrame({'c1' : ['a', 'b', 'c'] * 2 + ['b'] + ['c'],\n",
    "                            'c2' : [1,2,1,1,2,3,3,4]})\n",
    "df"
   ]
  },
  {
   "cell_type": "code",
   "execution_count": 17,
   "id": "fe9b1fee",
   "metadata": {},
   "outputs": [
    {
     "data": {
      "text/plain": [
       "0    False\n",
       "1    False\n",
       "2    False\n",
       "3     True\n",
       "4     True\n",
       "5    False\n",
       "6    False\n",
       "7    False\n",
       "dtype: bool"
      ]
     },
     "execution_count": 17,
     "metadata": {},
     "output_type": "execute_result"
    }
   ],
   "source": [
    "df.duplicated()"
   ]
  },
  {
   "cell_type": "code",
   "execution_count": 19,
   "id": "501d5a61",
   "metadata": {},
   "outputs": [
    {
     "data": {
      "text/html": [
       "<div>\n",
       "<style scoped>\n",
       "    .dataframe tbody tr th:only-of-type {\n",
       "        vertical-align: middle;\n",
       "    }\n",
       "\n",
       "    .dataframe tbody tr th {\n",
       "        vertical-align: top;\n",
       "    }\n",
       "\n",
       "    .dataframe thead th {\n",
       "        text-align: right;\n",
       "    }\n",
       "</style>\n",
       "<table border=\"1\" class=\"dataframe\">\n",
       "  <thead>\n",
       "    <tr style=\"text-align: right;\">\n",
       "      <th></th>\n",
       "      <th>c1</th>\n",
       "      <th>c2</th>\n",
       "    </tr>\n",
       "  </thead>\n",
       "  <tbody>\n",
       "    <tr>\n",
       "      <th>0</th>\n",
       "      <td>a</td>\n",
       "      <td>1</td>\n",
       "    </tr>\n",
       "    <tr>\n",
       "      <th>1</th>\n",
       "      <td>b</td>\n",
       "      <td>2</td>\n",
       "    </tr>\n",
       "    <tr>\n",
       "      <th>2</th>\n",
       "      <td>c</td>\n",
       "      <td>1</td>\n",
       "    </tr>\n",
       "    <tr>\n",
       "      <th>5</th>\n",
       "      <td>c</td>\n",
       "      <td>3</td>\n",
       "    </tr>\n",
       "    <tr>\n",
       "      <th>6</th>\n",
       "      <td>b</td>\n",
       "      <td>3</td>\n",
       "    </tr>\n",
       "    <tr>\n",
       "      <th>7</th>\n",
       "      <td>c</td>\n",
       "      <td>4</td>\n",
       "    </tr>\n",
       "  </tbody>\n",
       "</table>\n",
       "</div>"
      ],
      "text/plain": [
       "  c1  c2\n",
       "0  a   1\n",
       "1  b   2\n",
       "2  c   1\n",
       "5  c   3\n",
       "6  b   3\n",
       "7  c   4"
      ]
     },
     "execution_count": 19,
     "metadata": {},
     "output_type": "execute_result"
    }
   ],
   "source": [
    "df.drop_duplicates()"
   ]
  },
  {
   "cell_type": "code",
   "execution_count": 20,
   "id": "1b95dbff",
   "metadata": {},
   "outputs": [
    {
     "data": {
      "text/plain": [
       "0       1.0\n",
       "1       2.0\n",
       "2    -999.0\n",
       "3       3.0\n",
       "4   -1000.0\n",
       "5       4.0\n",
       "dtype: float64"
      ]
     },
     "execution_count": 20,
     "metadata": {},
     "output_type": "execute_result"
    }
   ],
   "source": [
    "s = pd.Series([1., 2., -999, 3., -1000., 4.])\n",
    "s"
   ]
  },
  {
   "cell_type": "code",
   "execution_count": 21,
   "id": "d99c2f2e",
   "metadata": {},
   "outputs": [
    {
     "data": {
      "text/plain": [
       "0       1.0\n",
       "1       2.0\n",
       "2       NaN\n",
       "3       3.0\n",
       "4   -1000.0\n",
       "5       4.0\n",
       "dtype: float64"
      ]
     },
     "execution_count": 21,
     "metadata": {},
     "output_type": "execute_result"
    }
   ],
   "source": [
    "s.replace(-999, np.nan)"
   ]
  },
  {
   "cell_type": "code",
   "execution_count": 22,
   "id": "345b835c",
   "metadata": {},
   "outputs": [
    {
     "data": {
      "text/plain": [
       "0    1.0\n",
       "1    2.0\n",
       "2    NaN\n",
       "3    3.0\n",
       "4    NaN\n",
       "5    4.0\n",
       "dtype: float64"
      ]
     },
     "execution_count": 22,
     "metadata": {},
     "output_type": "execute_result"
    }
   ],
   "source": [
    "s.replace([-999, -1000], np.nan)"
   ]
  },
  {
   "cell_type": "code",
   "execution_count": 26,
   "id": "7f99f0fa",
   "metadata": {},
   "outputs": [
    {
     "data": {
      "text/plain": [
       "0    1.0\n",
       "1    2.0\n",
       "2    0.0\n",
       "3    3.0\n",
       "4    0.0\n",
       "5    4.0\n",
       "dtype: float64"
      ]
     },
     "execution_count": 26,
     "metadata": {},
     "output_type": "execute_result"
    }
   ],
   "source": [
    "# s.replace([-999, -1000], 0)\n",
    "# s.replace([-999, -1000], [np.nan, 0])\n",
    "s.replace([-999, -1000], [0, 0])"
   ]
  },
  {
   "cell_type": "markdown",
   "id": "fc742dac",
   "metadata": {},
   "source": [
    "## 3. DataFrame"
   ]
  },
  {
   "cell_type": "code",
   "execution_count": 49,
   "id": "f9e62e6d",
   "metadata": {},
   "outputs": [],
   "source": [
    "data = {\n",
    "    \"2015\": [9904312, 3448737, 2890451, 2466052],\n",
    "    \"2010\": [9631482, 3393191, 2632035, 2431774],\n",
    "    \"2005\": [9762546, 3512547, 2517680, 2456016],\n",
    "    \"2000\": [9853972, 3655437, 2466338, 2473990],\n",
    "    \"지역\": [\"수도권\", \"경상권\", \"수도권\", \"경상권\"],\n",
    "    \"2010-2015 증가율\": [0.0283, 0.0163, 0.0982, 0.0141]\n",
    "}"
   ]
  },
  {
   "cell_type": "code",
   "execution_count": 55,
   "id": "3ee336a6",
   "metadata": {},
   "outputs": [
    {
     "name": "stdout",
     "output_type": "stream",
     "text": [
      "<class 'pandas.core.frame.DataFrame'>\n"
     ]
    },
    {
     "data": {
      "text/html": [
       "<div>\n",
       "<style scoped>\n",
       "    .dataframe tbody tr th:only-of-type {\n",
       "        vertical-align: middle;\n",
       "    }\n",
       "\n",
       "    .dataframe tbody tr th {\n",
       "        vertical-align: top;\n",
       "    }\n",
       "\n",
       "    .dataframe thead th {\n",
       "        text-align: right;\n",
       "    }\n",
       "</style>\n",
       "<table border=\"1\" class=\"dataframe\">\n",
       "  <thead>\n",
       "    <tr style=\"text-align: right;\">\n",
       "      <th></th>\n",
       "      <th>2015</th>\n",
       "      <th>2010</th>\n",
       "      <th>2005</th>\n",
       "      <th>2000</th>\n",
       "      <th>지역</th>\n",
       "      <th>2010-2015 증가율</th>\n",
       "    </tr>\n",
       "  </thead>\n",
       "  <tbody>\n",
       "    <tr>\n",
       "      <th>0</th>\n",
       "      <td>9904312</td>\n",
       "      <td>9631482</td>\n",
       "      <td>9762546</td>\n",
       "      <td>9853972</td>\n",
       "      <td>수도권</td>\n",
       "      <td>0.0283</td>\n",
       "    </tr>\n",
       "    <tr>\n",
       "      <th>1</th>\n",
       "      <td>3448737</td>\n",
       "      <td>3393191</td>\n",
       "      <td>3512547</td>\n",
       "      <td>3655437</td>\n",
       "      <td>경상권</td>\n",
       "      <td>0.0163</td>\n",
       "    </tr>\n",
       "    <tr>\n",
       "      <th>2</th>\n",
       "      <td>2890451</td>\n",
       "      <td>2632035</td>\n",
       "      <td>2517680</td>\n",
       "      <td>2466338</td>\n",
       "      <td>수도권</td>\n",
       "      <td>0.0982</td>\n",
       "    </tr>\n",
       "    <tr>\n",
       "      <th>3</th>\n",
       "      <td>2466052</td>\n",
       "      <td>2431774</td>\n",
       "      <td>2456016</td>\n",
       "      <td>2473990</td>\n",
       "      <td>경상권</td>\n",
       "      <td>0.0141</td>\n",
       "    </tr>\n",
       "  </tbody>\n",
       "</table>\n",
       "</div>"
      ],
      "text/plain": [
       "      2015     2010     2005     2000   지역  2010-2015 증가율\n",
       "0  9904312  9631482  9762546  9853972  수도권         0.0283\n",
       "1  3448737  3393191  3512547  3655437  경상권         0.0163\n",
       "2  2890451  2632035  2517680  2466338  수도권         0.0982\n",
       "3  2466052  2431774  2456016  2473990  경상권         0.0141"
      ]
     },
     "execution_count": 55,
     "metadata": {},
     "output_type": "execute_result"
    }
   ],
   "source": [
    "df = pd.DataFrame(data)\n",
    "print(type(df))\n",
    "df # print없이 이름만 입력하면 쥬피터에서는 web browser가 담당해서 예쁘게 만들어줌\n"
   ]
  },
  {
   "cell_type": "code",
   "execution_count": 56,
   "id": "ec41b9cf",
   "metadata": {},
   "outputs": [
    {
     "name": "stdout",
     "output_type": "stream",
     "text": [
      "      2015     2010     2005     2000   지역  2010-2015 증가율\n",
      "0  9904312  9631482  9762546  9853972  수도권         0.0283\n",
      "1  3448737  3393191  3512547  3655437  경상권         0.0163\n",
      "2  2890451  2632035  2517680  2466338  수도권         0.0982\n",
      "3  2466052  2431774  2456016  2473990  경상권         0.0141\n"
     ]
    }
   ],
   "source": [
    "print(df)"
   ]
  },
  {
   "cell_type": "markdown",
   "id": "d1890647",
   "metadata": {},
   "source": [
    "### (1) 컬럼의 순서(위치) 바꾸기"
   ]
  },
  {
   "cell_type": "code",
   "execution_count": 62,
   "id": "53203d75",
   "metadata": {},
   "outputs": [],
   "source": [
    "cols = ['지역','2015', '2010', '2005', '2000',  '2010-2015 증가율']  # 컬럼의 순서를 내마음대로 지정하기\n",
    "df = pd.DataFrame(data, columns = cols) # 이렇게 설정 적용"
   ]
  },
  {
   "cell_type": "code",
   "execution_count": 65,
   "id": "231bb5ef",
   "metadata": {},
   "outputs": [],
   "source": [
    "#  ?pd.DataFrame"
   ]
  },
  {
   "cell_type": "code",
   "execution_count": 64,
   "id": "ef889a8b",
   "metadata": {},
   "outputs": [
    {
     "data": {
      "text/plain": [
       "Index(['지역', '2015', '2010', '2005', '2000', '2010-2015 증가율'], dtype='object')"
      ]
     },
     "execution_count": 64,
     "metadata": {},
     "output_type": "execute_result"
    }
   ],
   "source": [
    "df.columns"
   ]
  },
  {
   "cell_type": "markdown",
   "id": "964fa527",
   "metadata": {},
   "source": [
    "### (2) 인덱스 변경"
   ]
  },
  {
   "cell_type": "code",
   "execution_count": 73,
   "id": "c7d2f2e9",
   "metadata": {},
   "outputs": [
    {
     "name": "stdout",
     "output_type": "stream",
     "text": [
      "Index(['지역', '2015', '2010', '2005', '2000', '2010-2015 증가율'], dtype='object')\n"
     ]
    },
    {
     "data": {
      "text/html": [
       "<div>\n",
       "<style scoped>\n",
       "    .dataframe tbody tr th:only-of-type {\n",
       "        vertical-align: middle;\n",
       "    }\n",
       "\n",
       "    .dataframe tbody tr th {\n",
       "        vertical-align: top;\n",
       "    }\n",
       "\n",
       "    .dataframe thead th {\n",
       "        text-align: right;\n",
       "    }\n",
       "</style>\n",
       "<table border=\"1\" class=\"dataframe\">\n",
       "  <thead>\n",
       "    <tr style=\"text-align: right;\">\n",
       "      <th></th>\n",
       "      <th>지역</th>\n",
       "      <th>2015</th>\n",
       "      <th>2010</th>\n",
       "      <th>2005</th>\n",
       "      <th>2000</th>\n",
       "      <th>2010-2015 증가율</th>\n",
       "    </tr>\n",
       "  </thead>\n",
       "  <tbody>\n",
       "    <tr>\n",
       "      <th>서울</th>\n",
       "      <td>수도권</td>\n",
       "      <td>9904312</td>\n",
       "      <td>9631482</td>\n",
       "      <td>9762546</td>\n",
       "      <td>9853972</td>\n",
       "      <td>0.0283</td>\n",
       "    </tr>\n",
       "    <tr>\n",
       "      <th>부산</th>\n",
       "      <td>경상권</td>\n",
       "      <td>3448737</td>\n",
       "      <td>3393191</td>\n",
       "      <td>3512547</td>\n",
       "      <td>3655437</td>\n",
       "      <td>0.0163</td>\n",
       "    </tr>\n",
       "    <tr>\n",
       "      <th>인천</th>\n",
       "      <td>수도권</td>\n",
       "      <td>2890451</td>\n",
       "      <td>2632035</td>\n",
       "      <td>2517680</td>\n",
       "      <td>2466338</td>\n",
       "      <td>0.0982</td>\n",
       "    </tr>\n",
       "    <tr>\n",
       "      <th>대구</th>\n",
       "      <td>경상권</td>\n",
       "      <td>2466052</td>\n",
       "      <td>2431774</td>\n",
       "      <td>2456016</td>\n",
       "      <td>2473990</td>\n",
       "      <td>0.0141</td>\n",
       "    </tr>\n",
       "  </tbody>\n",
       "</table>\n",
       "</div>"
      ],
      "text/plain": [
       "     지역     2015     2010     2005     2000  2010-2015 증가율\n",
       "서울  수도권  9904312  9631482  9762546  9853972         0.0283\n",
       "부산  경상권  3448737  3393191  3512547  3655437         0.0163\n",
       "인천  수도권  2890451  2632035  2517680  2466338         0.0982\n",
       "대구  경상권  2466052  2431774  2456016  2473990         0.0141"
      ]
     },
     "execution_count": 73,
     "metadata": {},
     "output_type": "execute_result"
    }
   ],
   "source": [
    "print(df.index)\n",
    "\n",
    "idx = [\"서울\", \"부산\", \"인천\", \"대구\"]\n",
    "#df = pd.DataFrame(data, columns=cols, index=idx) # 순서를 모르거나 틀릴경우 그냥 이렇게 지정해주면 된다.\n",
    "df = pd.DataFrame(data, idx, cols) # 순서가 맞을 경우 이렇게 해도 된다.\n",
    "df"
   ]
  },
  {
   "cell_type": "code",
   "execution_count": 74,
   "id": "5df1c8a9",
   "metadata": {},
   "outputs": [
    {
     "data": {
      "text/plain": [
       "Index(['서울', '부산', '인천', '대구'], dtype='object')"
      ]
     },
     "execution_count": 74,
     "metadata": {},
     "output_type": "execute_result"
    }
   ],
   "source": [
    "df.index"
   ]
  },
  {
   "cell_type": "code",
   "execution_count": 75,
   "id": "b6875aeb",
   "metadata": {},
   "outputs": [],
   "source": [
    "##### 컬럼과 인덱스에 이름 지정\n",
    "\n",
    "df.index.name = \"도시\"\n",
    "df.columns.name = \"특성\""
   ]
  },
  {
   "cell_type": "code",
   "execution_count": 76,
   "id": "0fb96c7d",
   "metadata": {},
   "outputs": [
    {
     "data": {
      "text/html": [
       "<div>\n",
       "<style scoped>\n",
       "    .dataframe tbody tr th:only-of-type {\n",
       "        vertical-align: middle;\n",
       "    }\n",
       "\n",
       "    .dataframe tbody tr th {\n",
       "        vertical-align: top;\n",
       "    }\n",
       "\n",
       "    .dataframe thead th {\n",
       "        text-align: right;\n",
       "    }\n",
       "</style>\n",
       "<table border=\"1\" class=\"dataframe\">\n",
       "  <thead>\n",
       "    <tr style=\"text-align: right;\">\n",
       "      <th>특성</th>\n",
       "      <th>지역</th>\n",
       "      <th>2015</th>\n",
       "      <th>2010</th>\n",
       "      <th>2005</th>\n",
       "      <th>2000</th>\n",
       "      <th>2010-2015 증가율</th>\n",
       "    </tr>\n",
       "    <tr>\n",
       "      <th>도시</th>\n",
       "      <th></th>\n",
       "      <th></th>\n",
       "      <th></th>\n",
       "      <th></th>\n",
       "      <th></th>\n",
       "      <th></th>\n",
       "    </tr>\n",
       "  </thead>\n",
       "  <tbody>\n",
       "    <tr>\n",
       "      <th>서울</th>\n",
       "      <td>수도권</td>\n",
       "      <td>9904312</td>\n",
       "      <td>9631482</td>\n",
       "      <td>9762546</td>\n",
       "      <td>9853972</td>\n",
       "      <td>0.0283</td>\n",
       "    </tr>\n",
       "    <tr>\n",
       "      <th>부산</th>\n",
       "      <td>경상권</td>\n",
       "      <td>3448737</td>\n",
       "      <td>3393191</td>\n",
       "      <td>3512547</td>\n",
       "      <td>3655437</td>\n",
       "      <td>0.0163</td>\n",
       "    </tr>\n",
       "    <tr>\n",
       "      <th>인천</th>\n",
       "      <td>수도권</td>\n",
       "      <td>2890451</td>\n",
       "      <td>2632035</td>\n",
       "      <td>2517680</td>\n",
       "      <td>2466338</td>\n",
       "      <td>0.0982</td>\n",
       "    </tr>\n",
       "    <tr>\n",
       "      <th>대구</th>\n",
       "      <td>경상권</td>\n",
       "      <td>2466052</td>\n",
       "      <td>2431774</td>\n",
       "      <td>2456016</td>\n",
       "      <td>2473990</td>\n",
       "      <td>0.0141</td>\n",
       "    </tr>\n",
       "  </tbody>\n",
       "</table>\n",
       "</div>"
      ],
      "text/plain": [
       "특성   지역     2015     2010     2005     2000  2010-2015 증가율\n",
       "도시                                                        \n",
       "서울  수도권  9904312  9631482  9762546  9853972         0.0283\n",
       "부산  경상권  3448737  3393191  3512547  3655437         0.0163\n",
       "인천  수도권  2890451  2632035  2517680  2466338         0.0982\n",
       "대구  경상권  2466052  2431774  2456016  2473990         0.0141"
      ]
     },
     "execution_count": 76,
     "metadata": {},
     "output_type": "execute_result"
    }
   ],
   "source": [
    "df"
   ]
  },
  {
   "cell_type": "code",
   "execution_count": 78,
   "id": "b38fa702",
   "metadata": {},
   "outputs": [
    {
     "data": {
      "text/html": [
       "<div>\n",
       "<style scoped>\n",
       "    .dataframe tbody tr th:only-of-type {\n",
       "        vertical-align: middle;\n",
       "    }\n",
       "\n",
       "    .dataframe tbody tr th {\n",
       "        vertical-align: top;\n",
       "    }\n",
       "\n",
       "    .dataframe thead th {\n",
       "        text-align: right;\n",
       "    }\n",
       "</style>\n",
       "<table border=\"1\" class=\"dataframe\">\n",
       "  <thead>\n",
       "    <tr style=\"text-align: right;\">\n",
       "      <th>도시</th>\n",
       "      <th>서울</th>\n",
       "      <th>부산</th>\n",
       "      <th>인천</th>\n",
       "      <th>대구</th>\n",
       "    </tr>\n",
       "    <tr>\n",
       "      <th>특성</th>\n",
       "      <th></th>\n",
       "      <th></th>\n",
       "      <th></th>\n",
       "      <th></th>\n",
       "    </tr>\n",
       "  </thead>\n",
       "  <tbody>\n",
       "    <tr>\n",
       "      <th>지역</th>\n",
       "      <td>수도권</td>\n",
       "      <td>경상권</td>\n",
       "      <td>수도권</td>\n",
       "      <td>경상권</td>\n",
       "    </tr>\n",
       "    <tr>\n",
       "      <th>2015</th>\n",
       "      <td>9904312</td>\n",
       "      <td>3448737</td>\n",
       "      <td>2890451</td>\n",
       "      <td>2466052</td>\n",
       "    </tr>\n",
       "    <tr>\n",
       "      <th>2010</th>\n",
       "      <td>9631482</td>\n",
       "      <td>3393191</td>\n",
       "      <td>2632035</td>\n",
       "      <td>2431774</td>\n",
       "    </tr>\n",
       "    <tr>\n",
       "      <th>2005</th>\n",
       "      <td>9762546</td>\n",
       "      <td>3512547</td>\n",
       "      <td>2517680</td>\n",
       "      <td>2456016</td>\n",
       "    </tr>\n",
       "    <tr>\n",
       "      <th>2000</th>\n",
       "      <td>9853972</td>\n",
       "      <td>3655437</td>\n",
       "      <td>2466338</td>\n",
       "      <td>2473990</td>\n",
       "    </tr>\n",
       "    <tr>\n",
       "      <th>2010-2015 증가율</th>\n",
       "      <td>0.0283</td>\n",
       "      <td>0.0163</td>\n",
       "      <td>0.0982</td>\n",
       "      <td>0.0141</td>\n",
       "    </tr>\n",
       "  </tbody>\n",
       "</table>\n",
       "</div>"
      ],
      "text/plain": [
       "도시                  서울       부산       인천       대구\n",
       "특성                                               \n",
       "지역                 수도권      경상권      수도권      경상권\n",
       "2015           9904312  3448737  2890451  2466052\n",
       "2010           9631482  3393191  2632035  2431774\n",
       "2005           9762546  3512547  2517680  2456016\n",
       "2000           9853972  3655437  2466338  2473990\n",
       "2010-2015 증가율   0.0283   0.0163   0.0982   0.0141"
      ]
     },
     "execution_count": 78,
     "metadata": {},
     "output_type": "execute_result"
    }
   ],
   "source": [
    "#### 전치 가능 ## 배열에서 했던 Transpose와 같음\n",
    "\n",
    "df.T"
   ]
  },
  {
   "cell_type": "markdown",
   "id": "87b06c61",
   "metadata": {},
   "source": [
    "### (3) Indexing\n",
    "\n",
    "#### 1) 열 인덱싱"
   ]
  },
  {
   "cell_type": "code",
   "execution_count": 88,
   "id": "e371f178",
   "metadata": {},
   "outputs": [
    {
     "name": "stdout",
     "output_type": "stream",
     "text": [
      "특성   지역     2015     2010     2005     2000  2010-2015 증가율\n",
      "도시                                                        \n",
      "서울  수도권  9904312  9631482  9762546  9853972         0.0283\n",
      "부산  경상권  3448737  3393191  3512547  3655437         0.0163\n",
      "인천  수도권  2890451  2632035  2517680  2466338         0.0982\n",
      "대구  경상권  2466052  2431774  2456016  2473990         0.0141\n",
      "========================================================\n",
      "도시\n",
      "서울    수도권\n",
      "부산    경상권\n",
      "인천    수도권\n",
      "대구    경상권\n",
      "Name: 지역, dtype: object\n",
      "<class 'pandas.core.series.Series'>\n",
      "========================================================\n",
      "특성   지역\n",
      "도시     \n",
      "서울  수도권\n",
      "부산  경상권\n",
      "인천  수도권\n",
      "대구  경상권\n",
      "<class 'pandas.core.frame.DataFrame'>\n",
      "========================================================\n",
      "특성     2005     2010\n",
      "도시                  \n",
      "서울  9762546  9631482\n",
      "부산  3512547  3393191\n",
      "인천  2517680  2632035\n",
      "대구  2456016  2431774\n"
     ]
    }
   ],
   "source": [
    "print(df)\n",
    "print(\"========================================================\")\n",
    "print(df[\"지역\"]) # Series 형식임을 확인 # 1차원 배열\n",
    "print(type(df[\"지역\"]))\n",
    "print(\"========================================================\")\n",
    "print(df[[\"지역\"]]) # 대괄호를 하나 더 묶어서 2차원 배열로 바꿔줌 # DataFrame으로 변경\n",
    "print(type(df[[\"지역\"]])) # DataFrame 형식임을 확인\n",
    "print(\"========================================================\")\n",
    "print(df[[\"2005\", \"2010\"]]) # 2개 이상을 뽑을 경우 2차원 배열임을 생각해 [[]]로 묶어서 사용해야함.\n",
    "\n",
    "# df[0] # 컬럼 이름(인덱스)이 숫자가 아닌 다른 것으로 지정되어 있는 상태에서는 0,1,2, ...번째 컬럼에 숫자 0,1,2, ...으로 접근이 안된다.\n",
    "\n",
    "# df[\"2015\" : \"2020\"] # 열 인덱스는 슬라이싱 불가능"
   ]
  },
  {
   "cell_type": "markdown",
   "id": "8645af22",
   "metadata": {},
   "source": [
    "#### 2) 행 인덱싱\n",
    "\n",
    "- 반드시 :으로 슬라이싱"
   ]
  },
  {
   "cell_type": "code",
   "execution_count": 92,
   "id": "95e00944",
   "metadata": {},
   "outputs": [
    {
     "name": "stdout",
     "output_type": "stream",
     "text": [
      "특성   지역     2015     2010     2005     2000  2010-2015 증가율\n",
      "도시                                                        \n",
      "서울  수도권  9904312  9631482  9762546  9853972         0.0283\n",
      "부산  경상권  3448737  3393191  3512547  3655437         0.0163\n",
      "인천  수도권  2890451  2632035  2517680  2466338         0.0982\n",
      "========================================================\n",
      "특성   지역     2015     2010     2005     2000  2010-2015 증가율\n",
      "도시                                                        \n",
      "서울  수도권  9904312  9631482  9762546  9853972         0.0283\n",
      "부산  경상권  3448737  3393191  3512547  3655437         0.0163\n",
      "인천  수도권  2890451  2632035  2517680  2466338         0.0982\n",
      "대구  경상권  2466052  2431774  2456016  2473990         0.0141\n",
      "========================================================\n",
      "특성   지역     2015     2010     2005     2000  2010-2015 증가율\n",
      "도시                                                        \n",
      "서울  수도권  9904312  9631482  9762546  9853972         0.0283\n",
      "부산  경상권  3448737  3393191  3512547  3655437         0.0163\n"
     ]
    }
   ],
   "source": [
    "print(df[0:3])\n",
    "print(\"========================================================\")\n",
    "print(df[:])\n",
    "print(\"========================================================\")\n",
    "print(df[\"서울\":\"부산\"])"
   ]
  },
  {
   "cell_type": "markdown",
   "id": "eaf559ef",
   "metadata": {},
   "source": [
    "#### 3) 열과 행을 동시에 접근"
   ]
  },
  {
   "cell_type": "code",
   "execution_count": 98,
   "id": "5a70572f",
   "metadata": {},
   "outputs": [
    {
     "name": "stdout",
     "output_type": "stream",
     "text": [
      "9904312\n",
      "9904312\n",
      "--------------------\n",
      "도시\n",
      "서울    9904312\n",
      "Name: 2015, dtype: int64\n",
      "도시\n",
      "서울    9904312\n",
      "Name: 2015, dtype: int64\n",
      "도시\n",
      "서울    9904312\n",
      "Name: 2015, dtype: int64\n",
      "--------------------\n"
     ]
    }
   ],
   "source": [
    "print(df[\"2015\"][\"서울\"])\n",
    "print(df[\"2015\"][0])\n",
    "print(\"--------------------\")\n",
    "print(df[\"2015\"][:\"서울\"])\n",
    "print(df[\"2015\"][\"서울\":\"서울\"])\n",
    "print(df[\"2015\"][:1])\n",
    "print(\"--------------------\")\n",
    "# print(df[\"2015\", \"서울\"])\n",
    "\n",
    "# 열과 행을 따로따로 써야한다\n",
    "# 열부터 쓴다! 열 우선 in 기본 인덱스"
   ]
  },
  {
   "cell_type": "markdown",
   "id": "4499a213",
   "metadata": {},
   "source": [
    "#### 4) 열 데이터 갱신, 추가, 삭제"
   ]
  },
  {
   "cell_type": "code",
   "execution_count": 111,
   "id": "e65371b0",
   "metadata": {},
   "outputs": [
    {
     "name": "stdout",
     "output_type": "stream",
     "text": [
      "특성   지역     2015     2010     2005     2000  2010-2015 증가율\n",
      "도시                                                        \n",
      "서울  수도권  9904312  9631482  9762546  9853972    283000000.0\n",
      "부산  경상권  3448737  3393191  3512547  3655437    163000000.0\n",
      "인천  수도권  2890451  2632035  2517680  2466338    982000000.0\n",
      "대구  경상권  2466052  2431774  2456016  2473990    141000000.0\n",
      "-------------------------\n",
      "특성   지역     2015     2010     2005     2000  2010-2015 증가율\n",
      "도시                                                        \n",
      "서울  수도권  9904312  9631482  9762546  9853972   2.830000e+10\n",
      "부산  경상권  3448737  3393191  3512547  3655437   1.630000e+10\n",
      "인천  수도권  2890451  2632035  2517680  2466338   9.820000e+10\n",
      "대구  경상권  2466052  2431774  2456016  2473990   1.410000e+10\n",
      "특성   지역     2015     2010     2005     2000  2010-2015 증가율  2005-2010 증가율\n",
      "도시                                                                       \n",
      "서울  수도권  9904312  9631482  9762546  9853972   2.830000e+10          -1.34\n",
      "부산  경상권  3448737  3393191  3512547  3655437   1.630000e+10          -3.40\n",
      "인천  수도권  2890451  2632035  2517680  2466338   9.820000e+10           4.54\n",
      "대구  경상권  2466052  2431774  2456016  2473990   1.410000e+10          -0.99\n"
     ]
    }
   ],
   "source": [
    "print(df)\n",
    "print(\"-------------------------\")\n",
    "\n",
    "# 수정\n",
    "\n",
    "df[\"2010-2015 증가율\"] = df[\"2010-2015 증가율\"]*100 # 이미 존재하는 이름의 컬럼 값을 바꿔주면 수정\n",
    "print(df)\n",
    "\n",
    "# 추가\n",
    "\n",
    "df[\"2005-2010 증가율\"] = ((df[\"2010\"]- df[\"2005\"]) / df[\"2005\"]*100).round(2) # 존재하지 않는 컬럼의 이름을 쓰면 추가\n",
    "print(df)"
   ]
  },
  {
   "cell_type": "code",
   "execution_count": 110,
   "id": "19b2d4b5",
   "metadata": {},
   "outputs": [
    {
     "name": "stdout",
     "output_type": "stream",
     "text": [
      "특성   지역     2015     2010     2005     2000  2010-2015 증가율\n",
      "도시                                                        \n",
      "서울  수도권  9904312  9631482  9762546  9853972    283000000.0\n",
      "부산  경상권  3448737  3393191  3512547  3655437    163000000.0\n",
      "인천  수도권  2890451  2632035  2517680  2466338    982000000.0\n",
      "대구  경상권  2466052  2431774  2456016  2473990    141000000.0\n"
     ]
    }
   ],
   "source": [
    "# 삭제\n",
    "\n",
    "# del df[\"2005-2010 증가율\"]\n",
    "print(df)"
   ]
  },
  {
   "cell_type": "markdown",
   "id": "29ad714e",
   "metadata": {},
   "source": [
    "### (4) 중간실습"
   ]
  },
  {
   "cell_type": "code",
   "execution_count": 3,
   "id": "2baf2d75",
   "metadata": {},
   "outputs": [],
   "source": [
    "data = {\n",
    "    \"국어\":[80, 90, 70, 30],\n",
    "    \"영어\":[90, 70, 60, 40],\n",
    "    \"수학\":[90, 60, 80, 70]\n",
    "}\n"
   ]
  },
  {
   "cell_type": "code",
   "execution_count": 26,
   "id": "a571b15a",
   "metadata": {},
   "outputs": [
    {
     "name": "stdout",
     "output_type": "stream",
     "text": [
      "RangeIndex(start=0, stop=4, step=1)\n",
      "--------------------------------------------\n"
     ]
    },
    {
     "data": {
      "text/html": [
       "<div>\n",
       "<style scoped>\n",
       "    .dataframe tbody tr th:only-of-type {\n",
       "        vertical-align: middle;\n",
       "    }\n",
       "\n",
       "    .dataframe tbody tr th {\n",
       "        vertical-align: top;\n",
       "    }\n",
       "\n",
       "    .dataframe thead th {\n",
       "        text-align: right;\n",
       "    }\n",
       "</style>\n",
       "<table border=\"1\" class=\"dataframe\">\n",
       "  <thead>\n",
       "    <tr style=\"text-align: right;\">\n",
       "      <th></th>\n",
       "      <th>국어</th>\n",
       "      <th>영어</th>\n",
       "      <th>수학</th>\n",
       "    </tr>\n",
       "  </thead>\n",
       "  <tbody>\n",
       "    <tr>\n",
       "      <th>춘향</th>\n",
       "      <td>80</td>\n",
       "      <td>90</td>\n",
       "      <td>90</td>\n",
       "    </tr>\n",
       "    <tr>\n",
       "      <th>몽룡</th>\n",
       "      <td>90</td>\n",
       "      <td>70</td>\n",
       "      <td>60</td>\n",
       "    </tr>\n",
       "    <tr>\n",
       "      <th>향단</th>\n",
       "      <td>70</td>\n",
       "      <td>60</td>\n",
       "      <td>80</td>\n",
       "    </tr>\n",
       "    <tr>\n",
       "      <th>방자</th>\n",
       "      <td>30</td>\n",
       "      <td>40</td>\n",
       "      <td>70</td>\n",
       "    </tr>\n",
       "  </tbody>\n",
       "</table>\n",
       "</div>"
      ],
      "text/plain": [
       "    국어  영어  수학\n",
       "춘향  80  90  90\n",
       "몽룡  90  70  60\n",
       "향단  70  60  80\n",
       "방자  30  40  70"
      ]
     },
     "execution_count": 26,
     "metadata": {},
     "output_type": "execute_result"
    }
   ],
   "source": [
    "# 1. 인덱스를 춘향, 몽룡, 향단, 방자로 구성된 데이터 프레임 df를 작성\n",
    "\n",
    "df = pd.DataFrame(data)\n",
    "df\n",
    "\n",
    "print(df.index)\n",
    "idx = [\"춘향\", \"몽룡\", \"향단\", \"방자\"]\n",
    "df = pd.DataFrame(data, idx)\n",
    "df\n",
    "\n",
    "# 강사님 풀이\n",
    "print(\"--------------------------------------------\")\n",
    "\n",
    "df = pd.DataFrame(data, index=[\"춘향\", \"몽룡\", \"향단\", \"방자\"])\n",
    "df"
   ]
  },
  {
   "cell_type": "code",
   "execution_count": 7,
   "id": "d49e4f2d",
   "metadata": {},
   "outputs": [
    {
     "name": "stdout",
     "output_type": "stream",
     "text": [
      "춘향    90\n",
      "몽룡    60\n",
      "향단    80\n",
      "방자    70\n",
      "Name: 수학, dtype: int64\n"
     ]
    }
   ],
   "source": [
    "# 2. 모든 학생의 수학점수를 조회\n",
    "df\n",
    "print(df[\"수학\"])"
   ]
  },
  {
   "cell_type": "code",
   "execution_count": 183,
   "id": "18fc4c92",
   "metadata": {},
   "outputs": [
    {
     "name": "stdout",
     "output_type": "stream",
     "text": [
      "    국어  영어\n",
      "춘향  80  90\n",
      "몽룡  90  70\n",
      "향단  70  60\n",
      "방자  30  40\n"
     ]
    }
   ],
   "source": [
    "# 3. 모든 학생의 국어와 영어 점수를 조회\n",
    "df\n",
    "print(df[[\"국어\",\"영어\"]])"
   ]
  },
  {
   "cell_type": "code",
   "execution_count": 27,
   "id": "69625826",
   "metadata": {},
   "outputs": [
    {
     "data": {
      "text/html": [
       "<div>\n",
       "<style scoped>\n",
       "    .dataframe tbody tr th:only-of-type {\n",
       "        vertical-align: middle;\n",
       "    }\n",
       "\n",
       "    .dataframe tbody tr th {\n",
       "        vertical-align: top;\n",
       "    }\n",
       "\n",
       "    .dataframe thead th {\n",
       "        text-align: right;\n",
       "    }\n",
       "</style>\n",
       "<table border=\"1\" class=\"dataframe\">\n",
       "  <thead>\n",
       "    <tr style=\"text-align: right;\">\n",
       "      <th></th>\n",
       "      <th>국어</th>\n",
       "      <th>영어</th>\n",
       "      <th>수학</th>\n",
       "      <th>과목평균</th>\n",
       "      <th>과목평균2</th>\n",
       "    </tr>\n",
       "  </thead>\n",
       "  <tbody>\n",
       "    <tr>\n",
       "      <th>춘향</th>\n",
       "      <td>80</td>\n",
       "      <td>90</td>\n",
       "      <td>90</td>\n",
       "      <td>86.67</td>\n",
       "      <td>86.67</td>\n",
       "    </tr>\n",
       "    <tr>\n",
       "      <th>몽룡</th>\n",
       "      <td>90</td>\n",
       "      <td>70</td>\n",
       "      <td>60</td>\n",
       "      <td>73.33</td>\n",
       "      <td>73.33</td>\n",
       "    </tr>\n",
       "    <tr>\n",
       "      <th>향단</th>\n",
       "      <td>70</td>\n",
       "      <td>60</td>\n",
       "      <td>80</td>\n",
       "      <td>70.00</td>\n",
       "      <td>70.00</td>\n",
       "    </tr>\n",
       "    <tr>\n",
       "      <th>방자</th>\n",
       "      <td>30</td>\n",
       "      <td>40</td>\n",
       "      <td>70</td>\n",
       "      <td>46.67</td>\n",
       "      <td>46.67</td>\n",
       "    </tr>\n",
       "  </tbody>\n",
       "</table>\n",
       "</div>"
      ],
      "text/plain": [
       "    국어  영어  수학   과목평균  과목평균2\n",
       "춘향  80  90  90  86.67  86.67\n",
       "몽룡  90  70  60  73.33  73.33\n",
       "향단  70  60  80  70.00  70.00\n",
       "방자  30  40  70  46.67  46.67"
      ]
     },
     "execution_count": 27,
     "metadata": {},
     "output_type": "execute_result"
    }
   ],
   "source": [
    "# 4. 모든 학생의 각 과목평균점수를 새로운 열(과목평균)로 추가하시오.\n",
    "df\n",
    "\n",
    "df[\"과목평균\"]=((df[\"국어\"]+df[\"영어\"]+df[\"수학\"])/3).round(2)\n",
    "df[\"과목평균2\"]=df[:].mean(axis=1).round(2) # 열이 너무 많을 경우 이렇게 해보자\n",
    "df"
   ]
  },
  {
   "cell_type": "code",
   "execution_count": 211,
   "id": "0d9410ea",
   "metadata": {},
   "outputs": [
    {
     "name": "stdout",
     "output_type": "stream",
     "text": [
      "80\n"
     ]
    },
    {
     "name": "stderr",
     "output_type": "stream",
     "text": [
      "C:\\Users\\acorn\\AppData\\Local\\Temp\\ipykernel_18308\\3806047673.py:3: SettingWithCopyWarning: \n",
      "A value is trying to be set on a copy of a slice from a DataFrame\n",
      "\n",
      "See the caveats in the documentation: https://pandas.pydata.org/pandas-docs/stable/user_guide/indexing.html#returning-a-view-versus-a-copy\n",
      "  df[\"영어\"][\"방자\"]=80\n"
     ]
    },
    {
     "data": {
      "text/html": [
       "<div>\n",
       "<style scoped>\n",
       "    .dataframe tbody tr th:only-of-type {\n",
       "        vertical-align: middle;\n",
       "    }\n",
       "\n",
       "    .dataframe tbody tr th {\n",
       "        vertical-align: top;\n",
       "    }\n",
       "\n",
       "    .dataframe thead th {\n",
       "        text-align: right;\n",
       "    }\n",
       "</style>\n",
       "<table border=\"1\" class=\"dataframe\">\n",
       "  <thead>\n",
       "    <tr style=\"text-align: right;\">\n",
       "      <th></th>\n",
       "      <th>국어</th>\n",
       "      <th>영어</th>\n",
       "      <th>수학</th>\n",
       "      <th>과목평균</th>\n",
       "    </tr>\n",
       "  </thead>\n",
       "  <tbody>\n",
       "    <tr>\n",
       "      <th>춘향</th>\n",
       "      <td>80</td>\n",
       "      <td>90</td>\n",
       "      <td>90</td>\n",
       "      <td>86.67</td>\n",
       "    </tr>\n",
       "    <tr>\n",
       "      <th>몽룡</th>\n",
       "      <td>90</td>\n",
       "      <td>70</td>\n",
       "      <td>60</td>\n",
       "      <td>73.33</td>\n",
       "    </tr>\n",
       "    <tr>\n",
       "      <th>향단</th>\n",
       "      <td>70</td>\n",
       "      <td>60</td>\n",
       "      <td>80</td>\n",
       "      <td>70.00</td>\n",
       "    </tr>\n",
       "    <tr>\n",
       "      <th>방자</th>\n",
       "      <td>30</td>\n",
       "      <td>80</td>\n",
       "      <td>70</td>\n",
       "      <td>60.00</td>\n",
       "    </tr>\n",
       "  </tbody>\n",
       "</table>\n",
       "</div>"
      ],
      "text/plain": [
       "    국어  영어  수학   과목평균\n",
       "춘향  80  90  90  86.67\n",
       "몽룡  90  70  60  73.33\n",
       "향단  70  60  80  70.00\n",
       "방자  30  80  70  60.00"
      ]
     },
     "execution_count": 211,
     "metadata": {},
     "output_type": "execute_result"
    }
   ],
   "source": [
    "# 5. 방자의 영어점수를 80점으로 수정하고 평균점수도 다시 수정하시오.\n",
    "print(df[\"영어\"][\"방자\"])\n",
    "df[\"영어\"][\"방자\"]=80\n",
    "df[\"영어\"][\"방자\"]\n",
    "df\n",
    "df[\"과목평균\"]=((df[\"국어\"]+df[\"영어\"]+df[\"수학\"])/3).round(2)\n",
    "df"
   ]
  },
  {
   "cell_type": "code",
   "execution_count": 28,
   "id": "e1a6bcc0",
   "metadata": {},
   "outputs": [
    {
     "name": "stderr",
     "output_type": "stream",
     "text": [
      "C:\\Users\\acorn\\AppData\\Local\\Temp\\ipykernel_21040\\4056823808.py:3: SettingWithCopyWarning: \n",
      "A value is trying to be set on a copy of a slice from a DataFrame\n",
      "\n",
      "See the caveats in the documentation: https://pandas.pydata.org/pandas-docs/stable/user_guide/indexing.html#returning-a-view-versus-a-copy\n",
      "  df[\"영어\"][\"방자\"]=80\n",
      "C:\\Users\\acorn\\AppData\\Local\\Temp\\ipykernel_21040\\4056823808.py:7: SettingWithCopyWarning: \n",
      "A value is trying to be set on a copy of a slice from a DataFrame\n",
      "\n",
      "See the caveats in the documentation: https://pandas.pydata.org/pandas-docs/stable/user_guide/indexing.html#returning-a-view-versus-a-copy\n",
      "  df[\"과목평균2\"][\"방자\"] = (df[[\"국어\", \"영어\", \"수학\"]][\"방자\":\"방자\"].mean(axis=1)).round(2) # 방자의 평균만 새로 바꿔주자\n"
     ]
    },
    {
     "data": {
      "text/html": [
       "<div>\n",
       "<style scoped>\n",
       "    .dataframe tbody tr th:only-of-type {\n",
       "        vertical-align: middle;\n",
       "    }\n",
       "\n",
       "    .dataframe tbody tr th {\n",
       "        vertical-align: top;\n",
       "    }\n",
       "\n",
       "    .dataframe thead th {\n",
       "        text-align: right;\n",
       "    }\n",
       "</style>\n",
       "<table border=\"1\" class=\"dataframe\">\n",
       "  <thead>\n",
       "    <tr style=\"text-align: right;\">\n",
       "      <th></th>\n",
       "      <th>국어</th>\n",
       "      <th>영어</th>\n",
       "      <th>수학</th>\n",
       "      <th>과목평균</th>\n",
       "      <th>과목평균2</th>\n",
       "    </tr>\n",
       "  </thead>\n",
       "  <tbody>\n",
       "    <tr>\n",
       "      <th>춘향</th>\n",
       "      <td>80</td>\n",
       "      <td>90</td>\n",
       "      <td>90</td>\n",
       "      <td>86.67</td>\n",
       "      <td>86.67</td>\n",
       "    </tr>\n",
       "    <tr>\n",
       "      <th>몽룡</th>\n",
       "      <td>90</td>\n",
       "      <td>70</td>\n",
       "      <td>60</td>\n",
       "      <td>73.33</td>\n",
       "      <td>73.33</td>\n",
       "    </tr>\n",
       "    <tr>\n",
       "      <th>향단</th>\n",
       "      <td>70</td>\n",
       "      <td>60</td>\n",
       "      <td>80</td>\n",
       "      <td>70.00</td>\n",
       "      <td>70.00</td>\n",
       "    </tr>\n",
       "    <tr>\n",
       "      <th>방자</th>\n",
       "      <td>30</td>\n",
       "      <td>80</td>\n",
       "      <td>70</td>\n",
       "      <td>60.00</td>\n",
       "      <td>60.00</td>\n",
       "    </tr>\n",
       "  </tbody>\n",
       "</table>\n",
       "</div>"
      ],
      "text/plain": [
       "    국어  영어  수학   과목평균  과목평균2\n",
       "춘향  80  90  90  86.67  86.67\n",
       "몽룡  90  70  60  73.33  73.33\n",
       "향단  70  60  80  70.00  70.00\n",
       "방자  30  80  70  60.00  60.00"
      ]
     },
     "execution_count": 28,
     "metadata": {},
     "output_type": "execute_result"
    }
   ],
   "source": [
    "# 5. 강사님 풀이\n",
    "\n",
    "df[\"영어\"][\"방자\"]=80\n",
    "\n",
    "df[\"과목평균\"]=((df[\"국어\"]+df[\"영어\"]+df[\"수학\"])/3).round(2) # 이렇게하면 전체의 평균을 새로 구한다\n",
    "\n",
    "df[\"과목평균2\"][\"방자\"] = (df[[\"국어\", \"영어\", \"수학\"]][\"방자\":\"방자\"].mean(axis=1)).round(2) # 방자의 평균만 새로 바꿔주자\n",
    "\n",
    "df"
   ]
  },
  {
   "cell_type": "code",
   "execution_count": 34,
   "id": "baddef58",
   "metadata": {},
   "outputs": [
    {
     "name": "stdout",
     "output_type": "stream",
     "text": [
      "<class 'pandas.core.frame.DataFrame'>\n",
      "    국어  영어  수학   과목평균  과목평균2\n",
      "춘향  80  90  90  86.67  86.67\n",
      "<class 'pandas.core.frame.DataFrame'>\n"
     ]
    }
   ],
   "source": [
    "# 6. 춘향의 점수를 데이터 프레임 형식으로 출력하시오\n",
    "print(type(df[0:1]))\n",
    "print(df[0:1])\n",
    "\n",
    "# 강사님 풀이\n",
    "\n",
    "df[\"춘향\":\"춘향\"]\n",
    "print(type(df[\"춘향\":\"춘향\"]))"
   ]
  },
  {
   "cell_type": "code",
   "execution_count": 32,
   "id": "613501a6",
   "metadata": {},
   "outputs": [
    {
     "data": {
      "text/html": [
       "<div>\n",
       "<style scoped>\n",
       "    .dataframe tbody tr th:only-of-type {\n",
       "        vertical-align: middle;\n",
       "    }\n",
       "\n",
       "    .dataframe tbody tr th {\n",
       "        vertical-align: top;\n",
       "    }\n",
       "\n",
       "    .dataframe thead th {\n",
       "        text-align: right;\n",
       "    }\n",
       "</style>\n",
       "<table border=\"1\" class=\"dataframe\">\n",
       "  <thead>\n",
       "    <tr style=\"text-align: right;\">\n",
       "      <th></th>\n",
       "      <th>국어</th>\n",
       "      <th>영어</th>\n",
       "      <th>수학</th>\n",
       "      <th>과목평균</th>\n",
       "      <th>과목평균2</th>\n",
       "    </tr>\n",
       "  </thead>\n",
       "  <tbody>\n",
       "    <tr>\n",
       "      <th>춘향</th>\n",
       "      <td>80</td>\n",
       "      <td>90</td>\n",
       "      <td>90</td>\n",
       "      <td>86.67</td>\n",
       "      <td>86.67</td>\n",
       "    </tr>\n",
       "  </tbody>\n",
       "</table>\n",
       "</div>"
      ],
      "text/plain": [
       "    국어  영어  수학   과목평균  과목평균2\n",
       "춘향  80  90  90  86.67  86.67"
      ]
     },
     "execution_count": 32,
     "metadata": {},
     "output_type": "execute_result"
    }
   ],
   "source": [
    "df[:1]"
   ]
  },
  {
   "cell_type": "code",
   "execution_count": 249,
   "id": "14f24661",
   "metadata": {},
   "outputs": [
    {
     "name": "stdout",
     "output_type": "stream",
     "text": [
      "    국어  영어  수학  과목평균\n",
      "향단  70  60  80  70.0\n",
      "-----------\n",
      "국어      70.0\n",
      "영어      60.0\n",
      "수학      80.0\n",
      "과목평균    70.0\n",
      "Name: 향단, dtype: float64\n",
      "<class 'pandas.core.series.Series'>\n"
     ]
    }
   ],
   "source": [
    "# 7. 향단의 점수를 Series로 출력하시오\n",
    "\n",
    "print(df[2:3])\n",
    "type(df[2:3])\n",
    "print(\"-----------\")\n",
    "\n",
    "\n",
    "print(df.T[\"향단\"])\n",
    "h_score = pd.Series(df.T[\"향단\"])\n",
    "print(type(h_score))\n"
   ]
  },
  {
   "cell_type": "code",
   "execution_count": 41,
   "id": "e8fee18b",
   "metadata": {},
   "outputs": [
    {
     "data": {
      "text/plain": [
       "pandas.core.series.Series"
      ]
     },
     "execution_count": 41,
     "metadata": {},
     "output_type": "execute_result"
    }
   ],
   "source": [
    "# 강사님 풀이\n",
    "\n",
    "df[\"향단\":\"향단\"] # 현재 DataFrame\n",
    "\n",
    "df.T # 별도로 원본에 적용해주거나 따로 저장해주지 않으면 원본은 그대로\n",
    "df # 그대로임을 확인\n",
    "\n",
    "df2 = df.T\n",
    "df2[\"향단\"]\n",
    "type(df2[\"향단\"]) # Series임을 확인"
   ]
  },
  {
   "cell_type": "markdown",
   "id": "403a49e7",
   "metadata": {},
   "source": [
    "### (5) 파일 입출력\n",
    "\n",
    "- read_csv()\n",
    "- to_csv()\n",
    "- read_table()"
   ]
  },
  {
   "cell_type": "code",
   "execution_count": 130,
   "id": "907c3092",
   "metadata": {},
   "outputs": [
    {
     "name": "stdout",
     "output_type": "stream",
     "text": [
      "Writing data/sample2.csv\n"
     ]
    }
   ],
   "source": [
    "%%writefile data/sample2.csv\n",
    "c1, c2, c3\n",
    "1, 1.11, one\n",
    "2, 2.22, two\n",
    "3, 3.33, three\n",
    "\n"
   ]
  },
  {
   "cell_type": "code",
   "execution_count": 126,
   "id": "89e672b9",
   "metadata": {},
   "outputs": [],
   "source": [
    "# %%와 같은 매직 명령어는 쉘의 맨윗줄 맨첫번째에서 실행해야 한다"
   ]
  },
  {
   "cell_type": "code",
   "execution_count": 128,
   "id": "c85621cb",
   "metadata": {},
   "outputs": [
    {
     "data": {
      "text/html": [
       "<div>\n",
       "<style scoped>\n",
       "    .dataframe tbody tr th:only-of-type {\n",
       "        vertical-align: middle;\n",
       "    }\n",
       "\n",
       "    .dataframe tbody tr th {\n",
       "        vertical-align: top;\n",
       "    }\n",
       "\n",
       "    .dataframe thead th {\n",
       "        text-align: right;\n",
       "    }\n",
       "</style>\n",
       "<table border=\"1\" class=\"dataframe\">\n",
       "  <thead>\n",
       "    <tr style=\"text-align: right;\">\n",
       "      <th></th>\n",
       "      <th>c1</th>\n",
       "      <th>c2</th>\n",
       "      <th>c3</th>\n",
       "    </tr>\n",
       "  </thead>\n",
       "  <tbody>\n",
       "    <tr>\n",
       "      <th>0</th>\n",
       "      <td>1</td>\n",
       "      <td>1.11</td>\n",
       "      <td>one</td>\n",
       "    </tr>\n",
       "    <tr>\n",
       "      <th>1</th>\n",
       "      <td>2</td>\n",
       "      <td>2.22</td>\n",
       "      <td>two</td>\n",
       "    </tr>\n",
       "    <tr>\n",
       "      <th>2</th>\n",
       "      <td>3</td>\n",
       "      <td>3.33</td>\n",
       "      <td>three</td>\n",
       "    </tr>\n",
       "  </tbody>\n",
       "</table>\n",
       "</div>"
      ],
      "text/plain": [
       "   c1    c2      c3\n",
       "0   1  1.11     one\n",
       "1   2  2.22     two\n",
       "2   3  3.33   three"
      ]
     },
     "execution_count": 128,
     "metadata": {},
     "output_type": "execute_result"
    }
   ],
   "source": [
    "sample1 = pd.read_csv(\"data/sample1.csv\")\n",
    "sample1"
   ]
  },
  {
   "cell_type": "code",
   "execution_count": 131,
   "id": "67d2bfde",
   "metadata": {},
   "outputs": [
    {
     "data": {
      "text/html": [
       "<div>\n",
       "<style scoped>\n",
       "    .dataframe tbody tr th:only-of-type {\n",
       "        vertical-align: middle;\n",
       "    }\n",
       "\n",
       "    .dataframe tbody tr th {\n",
       "        vertical-align: top;\n",
       "    }\n",
       "\n",
       "    .dataframe thead th {\n",
       "        text-align: right;\n",
       "    }\n",
       "</style>\n",
       "<table border=\"1\" class=\"dataframe\">\n",
       "  <thead>\n",
       "    <tr style=\"text-align: right;\">\n",
       "      <th></th>\n",
       "      <th>c1</th>\n",
       "      <th>c2</th>\n",
       "      <th>c3</th>\n",
       "    </tr>\n",
       "  </thead>\n",
       "  <tbody>\n",
       "    <tr>\n",
       "      <th>0</th>\n",
       "      <td>c1</td>\n",
       "      <td>c2</td>\n",
       "      <td>c3</td>\n",
       "    </tr>\n",
       "    <tr>\n",
       "      <th>1</th>\n",
       "      <td>1</td>\n",
       "      <td>1.11</td>\n",
       "      <td>one</td>\n",
       "    </tr>\n",
       "    <tr>\n",
       "      <th>2</th>\n",
       "      <td>2</td>\n",
       "      <td>2.22</td>\n",
       "      <td>two</td>\n",
       "    </tr>\n",
       "    <tr>\n",
       "      <th>3</th>\n",
       "      <td>3</td>\n",
       "      <td>3.33</td>\n",
       "      <td>three</td>\n",
       "    </tr>\n",
       "  </tbody>\n",
       "</table>\n",
       "</div>"
      ],
      "text/plain": [
       "   c1     c2      c3\n",
       "0  c1     c2      c3\n",
       "1   1   1.11     one\n",
       "2   2   2.22     two\n",
       "3   3   3.33   three"
      ]
     },
     "execution_count": 131,
     "metadata": {},
     "output_type": "execute_result"
    }
   ],
   "source": [
    "sample2 = pd.read_csv(\"data/sample2.csv\", names = [\"c1\", \"c2\", \"c3\"])\n",
    "sample2"
   ]
  },
  {
   "cell_type": "code",
   "execution_count": 134,
   "id": "6ec0910d",
   "metadata": {},
   "outputs": [
    {
     "data": {
      "text/html": [
       "<div>\n",
       "<style scoped>\n",
       "    .dataframe tbody tr th:only-of-type {\n",
       "        vertical-align: middle;\n",
       "    }\n",
       "\n",
       "    .dataframe tbody tr th {\n",
       "        vertical-align: top;\n",
       "    }\n",
       "\n",
       "    .dataframe thead th {\n",
       "        text-align: right;\n",
       "    }\n",
       "</style>\n",
       "<table border=\"1\" class=\"dataframe\">\n",
       "  <thead>\n",
       "    <tr style=\"text-align: right;\">\n",
       "      <th></th>\n",
       "      <th>c1</th>\n",
       "      <th>c2</th>\n",
       "      <th>c3</th>\n",
       "    </tr>\n",
       "  </thead>\n",
       "  <tbody>\n",
       "    <tr>\n",
       "      <th>0</th>\n",
       "      <td>1</td>\n",
       "      <td>1.11</td>\n",
       "      <td>one</td>\n",
       "    </tr>\n",
       "    <tr>\n",
       "      <th>1</th>\n",
       "      <td>2</td>\n",
       "      <td>2.22</td>\n",
       "      <td>two</td>\n",
       "    </tr>\n",
       "    <tr>\n",
       "      <th>2</th>\n",
       "      <td>3</td>\n",
       "      <td>3.33</td>\n",
       "      <td>three</td>\n",
       "    </tr>\n",
       "  </tbody>\n",
       "</table>\n",
       "</div>"
      ],
      "text/plain": [
       "   c1    c2      c3\n",
       "0   1  1.11     one\n",
       "1   2  2.22     two\n",
       "2   3  3.33   three"
      ]
     },
     "execution_count": 134,
     "metadata": {},
     "output_type": "execute_result"
    }
   ],
   "source": [
    "# 특정한 열을 인덱스로 저장\n",
    "sample3 = pd.read_csv(\"data/sample1.csv\")\n",
    "sample3"
   ]
  },
  {
   "cell_type": "code",
   "execution_count": 135,
   "id": "1087dc59",
   "metadata": {},
   "outputs": [
    {
     "data": {
      "text/html": [
       "<div>\n",
       "<style scoped>\n",
       "    .dataframe tbody tr th:only-of-type {\n",
       "        vertical-align: middle;\n",
       "    }\n",
       "\n",
       "    .dataframe tbody tr th {\n",
       "        vertical-align: top;\n",
       "    }\n",
       "\n",
       "    .dataframe thead th {\n",
       "        text-align: right;\n",
       "    }\n",
       "</style>\n",
       "<table border=\"1\" class=\"dataframe\">\n",
       "  <thead>\n",
       "    <tr style=\"text-align: right;\">\n",
       "      <th></th>\n",
       "      <th>c2</th>\n",
       "      <th>c3</th>\n",
       "    </tr>\n",
       "    <tr>\n",
       "      <th>c1</th>\n",
       "      <th></th>\n",
       "      <th></th>\n",
       "    </tr>\n",
       "  </thead>\n",
       "  <tbody>\n",
       "    <tr>\n",
       "      <th>1</th>\n",
       "      <td>1.11</td>\n",
       "      <td>one</td>\n",
       "    </tr>\n",
       "    <tr>\n",
       "      <th>2</th>\n",
       "      <td>2.22</td>\n",
       "      <td>two</td>\n",
       "    </tr>\n",
       "    <tr>\n",
       "      <th>3</th>\n",
       "      <td>3.33</td>\n",
       "      <td>three</td>\n",
       "    </tr>\n",
       "  </tbody>\n",
       "</table>\n",
       "</div>"
      ],
      "text/plain": [
       "      c2      c3\n",
       "c1              \n",
       "1   1.11     one\n",
       "2   2.22     two\n",
       "3   3.33   three"
      ]
     },
     "execution_count": 135,
     "metadata": {},
     "output_type": "execute_result"
    }
   ],
   "source": [
    "sample3 = pd.read_csv(\"data/sample1.csv\", index_col=\"c1\")\n",
    "sample3"
   ]
  },
  {
   "cell_type": "code",
   "execution_count": 136,
   "id": "da848ca4",
   "metadata": {},
   "outputs": [
    {
     "name": "stdout",
     "output_type": "stream",
     "text": [
      "Writing data/sample3.txt\n"
     ]
    }
   ],
   "source": [
    "%%writefile data/sample3.txt\n",
    "c1    c2    c3    c4\n",
    "0.23  0.33  0.354 0.2389\n",
    "0.123 0.345 0.567 0.986"
   ]
  },
  {
   "cell_type": "code",
   "execution_count": 143,
   "id": "93beffbf",
   "metadata": {},
   "outputs": [
    {
     "data": {
      "text/html": [
       "<div>\n",
       "<style scoped>\n",
       "    .dataframe tbody tr th:only-of-type {\n",
       "        vertical-align: middle;\n",
       "    }\n",
       "\n",
       "    .dataframe tbody tr th {\n",
       "        vertical-align: top;\n",
       "    }\n",
       "\n",
       "    .dataframe thead th {\n",
       "        text-align: right;\n",
       "    }\n",
       "</style>\n",
       "<table border=\"1\" class=\"dataframe\">\n",
       "  <thead>\n",
       "    <tr style=\"text-align: right;\">\n",
       "      <th></th>\n",
       "      <th>c1    c2    c3    c4</th>\n",
       "    </tr>\n",
       "  </thead>\n",
       "  <tbody>\n",
       "    <tr>\n",
       "      <th>0</th>\n",
       "      <td>0.23  0.33  0.354 0.2389</td>\n",
       "    </tr>\n",
       "    <tr>\n",
       "      <th>1</th>\n",
       "      <td>0.123 0.345 0.567 0.986</td>\n",
       "    </tr>\n",
       "  </tbody>\n",
       "</table>\n",
       "</div>"
      ],
      "text/plain": [
       "       c1    c2    c3    c4\n",
       "0  0.23  0.33  0.354 0.2389\n",
       "1   0.123 0.345 0.567 0.986"
      ]
     },
     "execution_count": 143,
     "metadata": {},
     "output_type": "execute_result"
    }
   ],
   "source": [
    "pd.read_table(\"data/sample3.txt\") # 컬럼이......"
   ]
  },
  {
   "cell_type": "code",
   "execution_count": 147,
   "id": "a4647020",
   "metadata": {},
   "outputs": [
    {
     "data": {
      "text/html": [
       "<div>\n",
       "<style scoped>\n",
       "    .dataframe tbody tr th:only-of-type {\n",
       "        vertical-align: middle;\n",
       "    }\n",
       "\n",
       "    .dataframe tbody tr th {\n",
       "        vertical-align: top;\n",
       "    }\n",
       "\n",
       "    .dataframe thead th {\n",
       "        text-align: right;\n",
       "    }\n",
       "</style>\n",
       "<table border=\"1\" class=\"dataframe\">\n",
       "  <thead>\n",
       "    <tr style=\"text-align: right;\">\n",
       "      <th></th>\n",
       "      <th>c1</th>\n",
       "      <th>c2</th>\n",
       "      <th>c3</th>\n",
       "      <th>c4</th>\n",
       "    </tr>\n",
       "  </thead>\n",
       "  <tbody>\n",
       "    <tr>\n",
       "      <th>0</th>\n",
       "      <td>0.230</td>\n",
       "      <td>0.330</td>\n",
       "      <td>0.354</td>\n",
       "      <td>0.2389</td>\n",
       "    </tr>\n",
       "    <tr>\n",
       "      <th>1</th>\n",
       "      <td>0.123</td>\n",
       "      <td>0.345</td>\n",
       "      <td>0.567</td>\n",
       "      <td>0.9860</td>\n",
       "    </tr>\n",
       "  </tbody>\n",
       "</table>\n",
       "</div>"
      ],
      "text/plain": [
       "      c1     c2     c3      c4\n",
       "0  0.230  0.330  0.354  0.2389\n",
       "1  0.123  0.345  0.567  0.9860"
      ]
     },
     "execution_count": 147,
     "metadata": {},
     "output_type": "execute_result"
    }
   ],
   "source": [
    "pd.read_table(\"data/sample3.txt\", delimiter=\"\\s+\")\n",
    "# 고쳐주자, 경고창이 뜬다면 ? 잘 읽고 정규표현식을 알맞게 쓰자.\n",
    "# delimiter = \",\" csv로 저장할 때 구분문자를 지정하는 식\n",
    "# fmt = \"%d\" 소수점이 신경쓰일 경우, 정수로만 나타내는식\n",
    "# fmt = \"%.5f\" 소수점이 신경쓰일 경우, 소수점5자리까지 나타내는식"
   ]
  },
  {
   "cell_type": "code",
   "execution_count": 146,
   "id": "b1ee8025",
   "metadata": {},
   "outputs": [
    {
     "data": {
      "text/html": [
       "<div>\n",
       "<style scoped>\n",
       "    .dataframe tbody tr th:only-of-type {\n",
       "        vertical-align: middle;\n",
       "    }\n",
       "\n",
       "    .dataframe tbody tr th {\n",
       "        vertical-align: top;\n",
       "    }\n",
       "\n",
       "    .dataframe thead th {\n",
       "        text-align: right;\n",
       "    }\n",
       "</style>\n",
       "<table border=\"1\" class=\"dataframe\">\n",
       "  <thead>\n",
       "    <tr style=\"text-align: right;\">\n",
       "      <th></th>\n",
       "      <th>c1</th>\n",
       "      <th>c2</th>\n",
       "      <th>c3</th>\n",
       "      <th>c4</th>\n",
       "    </tr>\n",
       "  </thead>\n",
       "  <tbody>\n",
       "    <tr>\n",
       "      <th>0</th>\n",
       "      <td>0.230</td>\n",
       "      <td>0.330</td>\n",
       "      <td>0.354</td>\n",
       "      <td>0.2389</td>\n",
       "    </tr>\n",
       "    <tr>\n",
       "      <th>1</th>\n",
       "      <td>0.123</td>\n",
       "      <td>0.345</td>\n",
       "      <td>0.567</td>\n",
       "      <td>0.9860</td>\n",
       "    </tr>\n",
       "  </tbody>\n",
       "</table>\n",
       "</div>"
      ],
      "text/plain": [
       "      c1     c2     c3      c4\n",
       "0  0.230  0.330  0.354  0.2389\n",
       "1  0.123  0.345  0.567  0.9860"
      ]
     },
     "execution_count": 146,
     "metadata": {},
     "output_type": "execute_result"
    }
   ],
   "source": [
    "pd.read_table(\"data/sample3.txt\", sep=\"\\s+\")"
   ]
  },
  {
   "cell_type": "code",
   "execution_count": 156,
   "id": "335bd6ea",
   "metadata": {},
   "outputs": [],
   "source": [
    "?pd.read_table"
   ]
  },
  {
   "cell_type": "code",
   "execution_count": 148,
   "id": "0fca2bc9",
   "metadata": {},
   "outputs": [
    {
     "name": "stdout",
     "output_type": "stream",
     "text": [
      "Writing data/sample4.txt\n"
     ]
    }
   ],
   "source": [
    "%%writefile data/sample4.txt\n",
    "파일제목 : sample4.txt\n",
    "데이터포맷 : 어쩌구 저쩌구\n",
    "컬럼 설명 : 어쩌구 저쩌구\n",
    "c1, c2, c3\n",
    "1, 1.11, one\n",
    "2, 2.22, two\n",
    "3, 3.33, three"
   ]
  },
  {
   "cell_type": "code",
   "execution_count": 150,
   "id": "5c9a2a13",
   "metadata": {},
   "outputs": [
    {
     "data": {
      "text/html": [
       "<div>\n",
       "<style scoped>\n",
       "    .dataframe tbody tr th:only-of-type {\n",
       "        vertical-align: middle;\n",
       "    }\n",
       "\n",
       "    .dataframe tbody tr th {\n",
       "        vertical-align: top;\n",
       "    }\n",
       "\n",
       "    .dataframe thead th {\n",
       "        text-align: right;\n",
       "    }\n",
       "</style>\n",
       "<table border=\"1\" class=\"dataframe\">\n",
       "  <thead>\n",
       "    <tr style=\"text-align: right;\">\n",
       "      <th></th>\n",
       "      <th>c1</th>\n",
       "      <th>c2</th>\n",
       "      <th>c3</th>\n",
       "    </tr>\n",
       "  </thead>\n",
       "  <tbody>\n",
       "    <tr>\n",
       "      <th>0</th>\n",
       "      <td>1</td>\n",
       "      <td>1.11</td>\n",
       "      <td>one</td>\n",
       "    </tr>\n",
       "    <tr>\n",
       "      <th>1</th>\n",
       "      <td>2</td>\n",
       "      <td>2.22</td>\n",
       "      <td>two</td>\n",
       "    </tr>\n",
       "    <tr>\n",
       "      <th>2</th>\n",
       "      <td>3</td>\n",
       "      <td>3.33</td>\n",
       "      <td>three</td>\n",
       "    </tr>\n",
       "  </tbody>\n",
       "</table>\n",
       "</div>"
      ],
      "text/plain": [
       "   c1    c2      c3\n",
       "0   1  1.11     one\n",
       "1   2  2.22     two\n",
       "2   3  3.33   three"
      ]
     },
     "execution_count": 150,
     "metadata": {},
     "output_type": "execute_result"
    }
   ],
   "source": [
    "#sample4 = pd.read_table(\"data/sample4.txt\", sep=\",\", skiprows=[0,1,2])\n",
    "sample4 = pd.read_table(\"data/sample4.txt\", sep=\",\", skiprows=3)\n",
    "sample4"
   ]
  },
  {
   "cell_type": "code",
   "execution_count": 154,
   "id": "c34f8bdb",
   "metadata": {},
   "outputs": [
    {
     "name": "stdout",
     "output_type": "stream",
     "text": [
      "Overwriting data/sample5.txt\n"
     ]
    }
   ],
   "source": [
    "%%writefile data/sample5.txt\n",
    "c1, c2, c3\n",
    "1, 1.11, \n",
    "2, , two\n",
    "누락, 3.33, three"
   ]
  },
  {
   "cell_type": "code",
   "execution_count": 163,
   "id": "57cd2167",
   "metadata": {},
   "outputs": [
    {
     "data": {
      "text/html": [
       "<div>\n",
       "<style scoped>\n",
       "    .dataframe tbody tr th:only-of-type {\n",
       "        vertical-align: middle;\n",
       "    }\n",
       "\n",
       "    .dataframe tbody tr th {\n",
       "        vertical-align: top;\n",
       "    }\n",
       "\n",
       "    .dataframe thead th {\n",
       "        text-align: right;\n",
       "    }\n",
       "</style>\n",
       "<table border=\"1\" class=\"dataframe\">\n",
       "  <thead>\n",
       "    <tr style=\"text-align: right;\">\n",
       "      <th></th>\n",
       "      <th>c1</th>\n",
       "      <th>c2</th>\n",
       "      <th>c3</th>\n",
       "    </tr>\n",
       "  </thead>\n",
       "  <tbody>\n",
       "    <tr>\n",
       "      <th>0</th>\n",
       "      <td>1.0</td>\n",
       "      <td>1.11</td>\n",
       "      <td>NaN</td>\n",
       "    </tr>\n",
       "    <tr>\n",
       "      <th>1</th>\n",
       "      <td>2.0</td>\n",
       "      <td>NaN</td>\n",
       "      <td>two</td>\n",
       "    </tr>\n",
       "    <tr>\n",
       "      <th>2</th>\n",
       "      <td>NaN</td>\n",
       "      <td>3.33</td>\n",
       "      <td>three</td>\n",
       "    </tr>\n",
       "  </tbody>\n",
       "</table>\n",
       "</div>"
      ],
      "text/plain": [
       "    c1    c2      c3\n",
       "0  1.0  1.11     NaN\n",
       "1  2.0   NaN     two\n",
       "2  NaN  3.33   three"
      ]
     },
     "execution_count": 163,
     "metadata": {},
     "output_type": "execute_result"
    }
   ],
   "source": [
    "sample5 = pd.read_csv(\"data/sample5.txt\", na_values=[\" \", \"누락\"])\n",
    "# 공백이거나 누락을 결측치로 표시해라\n",
    "sample5"
   ]
  },
  {
   "cell_type": "code",
   "execution_count": 164,
   "id": "89efc0b9",
   "metadata": {},
   "outputs": [],
   "source": [
    "##### csv로 저장\n",
    "\n",
    "df\n",
    "\n",
    "df.to_csv(\"data/sample6.csv\")\n",
    "df.to_csv(\"data/sample7.txt\", sep=\"|\")\n",
    "df.to_csv(\"data/sample8.csv\", index=False, header=False)\n",
    "sample5.to_csv(\"data/sample9.csv\", na_rep=\"누락\")"
   ]
  },
  {
   "cell_type": "code",
   "execution_count": 166,
   "id": "98438588",
   "metadata": {},
   "outputs": [
    {
     "data": {
      "text/html": [
       "<div>\n",
       "<style scoped>\n",
       "    .dataframe tbody tr th:only-of-type {\n",
       "        vertical-align: middle;\n",
       "    }\n",
       "\n",
       "    .dataframe tbody tr th {\n",
       "        vertical-align: top;\n",
       "    }\n",
       "\n",
       "    .dataframe thead th {\n",
       "        text-align: right;\n",
       "    }\n",
       "</style>\n",
       "<table border=\"1\" class=\"dataframe\">\n",
       "  <thead>\n",
       "    <tr style=\"text-align: right;\">\n",
       "      <th></th>\n",
       "      <th>c1</th>\n",
       "      <th>c2</th>\n",
       "      <th>c3</th>\n",
       "    </tr>\n",
       "  </thead>\n",
       "  <tbody>\n",
       "    <tr>\n",
       "      <th>0</th>\n",
       "      <td>1.0</td>\n",
       "      <td>1.11</td>\n",
       "      <td>NaN</td>\n",
       "    </tr>\n",
       "    <tr>\n",
       "      <th>1</th>\n",
       "      <td>2.0</td>\n",
       "      <td>NaN</td>\n",
       "      <td>two</td>\n",
       "    </tr>\n",
       "    <tr>\n",
       "      <th>2</th>\n",
       "      <td>NaN</td>\n",
       "      <td>3.33</td>\n",
       "      <td>three</td>\n",
       "    </tr>\n",
       "  </tbody>\n",
       "</table>\n",
       "</div>"
      ],
      "text/plain": [
       "    c1    c2      c3\n",
       "0  1.0  1.11     NaN\n",
       "1  2.0   NaN     two\n",
       "2  NaN  3.33   three"
      ]
     },
     "execution_count": 166,
     "metadata": {},
     "output_type": "execute_result"
    }
   ],
   "source": [
    "sample5.to_csv(\"data/sample9.csv\", na_rep=\"누락\")\n",
    "sample5"
   ]
  },
  {
   "cell_type": "markdown",
   "id": "7f9e13f0",
   "metadata": {},
   "source": [
    "### (6) Indexer\n",
    "\n",
    "- loc :라벨값 기반의 2차원 인덱싱을 지원하는 인덱서\n",
    "- iloc : 순서를 나타내는 정수 기반의 인덱서\n",
    "- at : 값을 한개만 가져올 때 유리함\n",
    "- iat : 값을 한개만 가져올 때 유리함\n",
    "- ix : 숫자나 문자를 다 쓸 수 있는 방법 (구형 파이썬 버전이나 책에서 종종 등장)"
   ]
  },
  {
   "cell_type": "markdown",
   "id": "9bf2924b",
   "metadata": {},
   "source": [
    "#### 1) loc"
   ]
  },
  {
   "cell_type": "code",
   "execution_count": 3,
   "id": "039c3b7e",
   "metadata": {},
   "outputs": [
    {
     "data": {
      "text/html": [
       "<div>\n",
       "<style scoped>\n",
       "    .dataframe tbody tr th:only-of-type {\n",
       "        vertical-align: middle;\n",
       "    }\n",
       "\n",
       "    .dataframe tbody tr th {\n",
       "        vertical-align: top;\n",
       "    }\n",
       "\n",
       "    .dataframe thead th {\n",
       "        text-align: right;\n",
       "    }\n",
       "</style>\n",
       "<table border=\"1\" class=\"dataframe\">\n",
       "  <thead>\n",
       "    <tr style=\"text-align: right;\">\n",
       "      <th></th>\n",
       "      <th>A</th>\n",
       "      <th>B</th>\n",
       "      <th>C</th>\n",
       "      <th>D</th>\n",
       "    </tr>\n",
       "  </thead>\n",
       "  <tbody>\n",
       "    <tr>\n",
       "      <th>a</th>\n",
       "      <td>10</td>\n",
       "      <td>11</td>\n",
       "      <td>12</td>\n",
       "      <td>13</td>\n",
       "    </tr>\n",
       "    <tr>\n",
       "      <th>b</th>\n",
       "      <td>14</td>\n",
       "      <td>15</td>\n",
       "      <td>16</td>\n",
       "      <td>17</td>\n",
       "    </tr>\n",
       "    <tr>\n",
       "      <th>c</th>\n",
       "      <td>18</td>\n",
       "      <td>19</td>\n",
       "      <td>20</td>\n",
       "      <td>21</td>\n",
       "    </tr>\n",
       "  </tbody>\n",
       "</table>\n",
       "</div>"
      ],
      "text/plain": [
       "    A   B   C   D\n",
       "a  10  11  12  13\n",
       "b  14  15  16  17\n",
       "c  18  19  20  21"
      ]
     },
     "execution_count": 3,
     "metadata": {},
     "output_type": "execute_result"
    }
   ],
   "source": [
    "df = pd.DataFrame(np.arange(10,22).reshape(3,4), index=[\"a\",\"b\",\"c\"], columns=[\"A\",\"B\",\"C\",\"D\"])\n",
    "df\n",
    "\n",
    "# 행 우선이다\n",
    "# 한번에 행과 열을 묶어줄 수 있다"
   ]
  },
  {
   "cell_type": "code",
   "execution_count": 4,
   "id": "1d4be37d",
   "metadata": {},
   "outputs": [
    {
     "name": "stdout",
     "output_type": "stream",
     "text": [
      "    A   B   C   D\n",
      "a  10  11  12  13\n",
      "    A   B   C   D\n",
      "a  10  11  12  13\n",
      "====================================\n",
      "A    10\n",
      "B    11\n",
      "C    12\n",
      "D    13\n",
      "Name: a, dtype: int32\n"
     ]
    }
   ],
   "source": [
    "##### 첫번째 행 추출\n",
    "\n",
    "print(df[:1])\n",
    "print(df[:\"a\"])\n",
    "\n",
    "\n",
    "print(\"====================================\")\n",
    "\n",
    "print(df.loc[\"a\"]) # loc는 행 우선이다."
   ]
  },
  {
   "cell_type": "code",
   "execution_count": 16,
   "id": "63b3a4a3",
   "metadata": {},
   "outputs": [
    {
     "name": "stdout",
     "output_type": "stream",
     "text": [
      "a    10\n",
      "b    14\n",
      "c    18\n",
      "Name: A, dtype: int32\n",
      "====================================\n",
      "a    10\n",
      "b    14\n",
      "c    18\n",
      "Name: A, dtype: int32\n",
      "====================================\n",
      "    A   B   C   D\n",
      "c  18  19  20  21\n",
      "    A   B   C   D\n",
      "c  18  19  20  21\n",
      "    A   B   C   D\n",
      "c  18  19  20  21\n"
     ]
    }
   ],
   "source": [
    "#### 첫번째 열에서 15보다 큰 값을 추출해라\n",
    "\n",
    "print(df[\"A\"])\n",
    "print(\"====================================\")\n",
    "print(df.loc[:,\"A\"]) # 행과 열을 한곳에 묶어서 쓴다. # 행우선이다\n",
    "\n",
    "print(\"====================================\")\n",
    "\n",
    "# 여기 뭔가 잘못되었다.\n",
    "print(df.loc[df.loc[:, \"A\"] > 15]) # 항상 loc가 좋은 것은 아니다\n",
    "print(df.loc[df[\"A\"] > 15])\n",
    "print(df.loc[df.A > 15]) # 열로 접근하기에는 기본 인덱스가 좋다"
   ]
  },
  {
   "cell_type": "code",
   "execution_count": 62,
   "id": "98fc2c33",
   "metadata": {},
   "outputs": [
    {
     "name": "stdout",
     "output_type": "stream",
     "text": [
      "15\n",
      "====================================\n",
      "15\n",
      "15\n",
      "====================================\n",
      "    B   C   D\n",
      "b  15  16  17\n",
      "c  19  20  21\n",
      "====================================\n",
      "    B   C\n",
      "a  11  12\n",
      "c  19  20\n"
     ]
    }
   ],
   "source": [
    "##### 행과 열을 모두 사용할 경우\n",
    "\n",
    "# b행 B열에 있는 한 개의 값을 추출\n",
    "\n",
    "print(df[\"B\"][\"b\"])\n",
    "# print(df[\"B\", \"b\"]) 기본 인덱스는 행과 열을 한곳에 묶어서 쓸 수 없다.\n",
    "\n",
    "print(\"====================================\")\n",
    "\n",
    "print(df.loc[\"b\"][\"B\"])\n",
    "print(df.loc[\"b\", \"B\"]) # loc는 한곳에 쓸 수 있따.\n",
    "\n",
    "print(\"====================================\")\n",
    "\n",
    "print(df.loc[\"b\": , \"B\":]) # 슬라이싱도 자유롭다\n",
    "print(\"====================================\")\n",
    "print(df.loc[[\"a\", \"c\"], [\"B\", \"C\"]]) # 따로 쓰고 콤마로 사용도 가능하다\n"
   ]
  },
  {
   "cell_type": "code",
   "execution_count": 67,
   "id": "ef218ff1",
   "metadata": {},
   "outputs": [],
   "source": [
    "##### 반드시 레이블로만 접근\n",
    "\n",
    "# print(df.loc[1:, 1:]) # 숫자로 접근 불가, 문자로 된 레이블로만 접근가능\n",
    "# print(df.loc[[0, 1], [1,2]]) # loc도 숫자로 불가능"
   ]
  },
  {
   "cell_type": "markdown",
   "id": "962420a4",
   "metadata": {},
   "source": [
    "#### 2) iloc"
   ]
  },
  {
   "cell_type": "code",
   "execution_count": 69,
   "id": "07a7c28d",
   "metadata": {},
   "outputs": [
    {
     "name": "stdout",
     "output_type": "stream",
     "text": [
      "    B   C   D\n",
      "b  15  16  17\n",
      "c  19  20  21\n",
      "====================================\n",
      "    B   C\n",
      "a  11  12\n",
      "b  15  16\n"
     ]
    }
   ],
   "source": [
    "# iloc는 숫자로도 접근이 가능하다!\n",
    "\n",
    "print(df.iloc[1:, 1:])\n",
    "\n",
    "print(\"====================================\")\n",
    "\n",
    "print(df.iloc[[0, 1],[1, 2]])"
   ]
  },
  {
   "cell_type": "markdown",
   "id": "ca3a01f0",
   "metadata": {},
   "source": [
    "#### 3) at, iat"
   ]
  },
  {
   "cell_type": "code",
   "execution_count": 75,
   "id": "2c542f97",
   "metadata": {},
   "outputs": [],
   "source": [
    "# %timeit df.loc[\"a\", \"A\"] # 6.38 µs ± 53.8 ns per loop (mean ± std. dev. of 7 runs, 100000 loops each)\n",
    "# %timeit df.at[\"a\", \"A\"] # 3.3 µs ± 30.4 ns per loop (mean ± std. dev. of 7 runs, 100000 loops each)\n",
    "# 속도에서 약 2배의 차이가 난다 / 데이터가 많고 값을 하나만 뽑을 경우 at, iat를 떠올리자"
   ]
  },
  {
   "cell_type": "markdown",
   "id": "d2360cf8",
   "metadata": {},
   "source": [
    "## 4. Data Manipulation"
   ]
  },
  {
   "cell_type": "markdown",
   "id": "6cf5e204",
   "metadata": {},
   "source": [
    "### (1) 데이터 카운팅"
   ]
  },
  {
   "cell_type": "markdown",
   "id": "22125816",
   "metadata": {},
   "source": [
    "#### 1) Series에서 카운팅"
   ]
  },
  {
   "cell_type": "code",
   "execution_count": 80,
   "id": "633e3103",
   "metadata": {},
   "outputs": [],
   "source": [
    "s = pd.Series(range(10))\n",
    "s\n",
    "\n",
    "s.count() # 10개가 카운트 되었다.\n",
    "\n",
    "s[3] = np.nan # 결측치로 일부러 만들어 봄"
   ]
  },
  {
   "cell_type": "code",
   "execution_count": 81,
   "id": "e1a1b243",
   "metadata": {},
   "outputs": [
    {
     "data": {
      "text/plain": [
       "0    0.0\n",
       "1    1.0\n",
       "2    2.0\n",
       "3    NaN\n",
       "4    4.0\n",
       "5    5.0\n",
       "6    6.0\n",
       "7    7.0\n",
       "8    8.0\n",
       "9    9.0\n",
       "dtype: float64"
      ]
     },
     "execution_count": 81,
     "metadata": {},
     "output_type": "execute_result"
    }
   ],
   "source": [
    "s"
   ]
  },
  {
   "cell_type": "code",
   "execution_count": 82,
   "id": "f15ed0d2",
   "metadata": {},
   "outputs": [
    {
     "data": {
      "text/plain": [
       "9"
      ]
     },
     "execution_count": 82,
     "metadata": {},
     "output_type": "execute_result"
    }
   ],
   "source": [
    "s.count() # 결측치는 카운트에서 제외된다."
   ]
  },
  {
   "cell_type": "markdown",
   "id": "ed38ec49",
   "metadata": {},
   "source": [
    "#### 2) DataFrame에서 카운팅"
   ]
  },
  {
   "cell_type": "code",
   "execution_count": 86,
   "id": "de639f99",
   "metadata": {},
   "outputs": [
    {
     "data": {
      "text/html": [
       "<div>\n",
       "<style scoped>\n",
       "    .dataframe tbody tr th:only-of-type {\n",
       "        vertical-align: middle;\n",
       "    }\n",
       "\n",
       "    .dataframe tbody tr th {\n",
       "        vertical-align: top;\n",
       "    }\n",
       "\n",
       "    .dataframe thead th {\n",
       "        text-align: right;\n",
       "    }\n",
       "</style>\n",
       "<table border=\"1\" class=\"dataframe\">\n",
       "  <thead>\n",
       "    <tr style=\"text-align: right;\">\n",
       "      <th></th>\n",
       "      <th>0</th>\n",
       "      <th>1</th>\n",
       "      <th>2</th>\n",
       "      <th>3</th>\n",
       "    </tr>\n",
       "  </thead>\n",
       "  <tbody>\n",
       "    <tr>\n",
       "      <th>0</th>\n",
       "      <td>0</td>\n",
       "      <td>0</td>\n",
       "      <td>3</td>\n",
       "      <td>2</td>\n",
       "    </tr>\n",
       "    <tr>\n",
       "      <th>1</th>\n",
       "      <td>3</td>\n",
       "      <td>0</td>\n",
       "      <td>2</td>\n",
       "      <td>1</td>\n",
       "    </tr>\n",
       "    <tr>\n",
       "      <th>2</th>\n",
       "      <td>3</td>\n",
       "      <td>2</td>\n",
       "      <td>4</td>\n",
       "      <td>4</td>\n",
       "    </tr>\n",
       "    <tr>\n",
       "      <th>3</th>\n",
       "      <td>4</td>\n",
       "      <td>3</td>\n",
       "      <td>4</td>\n",
       "      <td>2</td>\n",
       "    </tr>\n",
       "  </tbody>\n",
       "</table>\n",
       "</div>"
      ],
      "text/plain": [
       "   0  1  2  3\n",
       "0  0  0  3  2\n",
       "1  3  0  2  1\n",
       "2  3  2  4  4\n",
       "3  4  3  4  2"
      ]
     },
     "execution_count": 86,
     "metadata": {},
     "output_type": "execute_result"
    }
   ],
   "source": [
    "np.random.seed(2)\n",
    "df = pd.DataFrame(np.random.randint(5, size=(4,4)))\n",
    "df"
   ]
  },
  {
   "cell_type": "code",
   "execution_count": 87,
   "id": "a39af2dc",
   "metadata": {},
   "outputs": [
    {
     "data": {
      "text/plain": [
       "0    4\n",
       "1    4\n",
       "2    4\n",
       "3    4\n",
       "dtype: int64"
      ]
     },
     "execution_count": 87,
     "metadata": {},
     "output_type": "execute_result"
    }
   ],
   "source": [
    "df.count()"
   ]
  },
  {
   "cell_type": "code",
   "execution_count": 88,
   "id": "a7702fc3",
   "metadata": {},
   "outputs": [
    {
     "data": {
      "text/plain": [
       "0    4\n",
       "1    4\n",
       "2    4\n",
       "3    3\n",
       "dtype: int64"
      ]
     },
     "execution_count": 88,
     "metadata": {},
     "output_type": "execute_result"
    }
   ],
   "source": [
    "df.iloc[2,3] = np.nan # 결측치를 만들었다.\n",
    "df.count() # 역시 카운트에서 빠졌다."
   ]
  },
  {
   "cell_type": "markdown",
   "id": "8efd622b",
   "metadata": {},
   "source": [
    "#### 3) 카테고리별로 카운팅"
   ]
  },
  {
   "cell_type": "code",
   "execution_count": 89,
   "id": "7c5c7695",
   "metadata": {},
   "outputs": [
    {
     "data": {
      "text/plain": [
       "0     5\n",
       "1     3\n",
       "2     4\n",
       "3     0\n",
       "4     1\n",
       "     ..\n",
       "95    4\n",
       "96    5\n",
       "97    2\n",
       "98    4\n",
       "99    3\n",
       "Length: 100, dtype: int32"
      ]
     },
     "execution_count": 89,
     "metadata": {},
     "output_type": "execute_result"
    }
   ],
   "source": [
    "np.random.seed(1)\n",
    "\n",
    "s = pd.Series(np.random.randint(6, size = 100))\n",
    "s"
   ]
  },
  {
   "cell_type": "code",
   "execution_count": 90,
   "id": "b6f65bad",
   "metadata": {},
   "outputs": [
    {
     "data": {
      "text/plain": [
       "1    22\n",
       "0    18\n",
       "4    17\n",
       "5    16\n",
       "3    14\n",
       "2    13\n",
       "dtype: int64"
      ]
     },
     "execution_count": 90,
     "metadata": {},
     "output_type": "execute_result"
    }
   ],
   "source": [
    "s.value_counts() # Series에서만 사용 가능하다"
   ]
  },
  {
   "cell_type": "code",
   "execution_count": 91,
   "id": "8ec47f3a",
   "metadata": {},
   "outputs": [
    {
     "data": {
      "text/plain": [
       "0  1  2  3  \n",
       "0  0  3  2.0    1\n",
       "3  0  2  1.0    1\n",
       "4  3  4  2.0    1\n",
       "dtype: int64"
      ]
     },
     "execution_count": 91,
     "metadata": {},
     "output_type": "execute_result"
    }
   ],
   "source": [
    "df.value_counts() # 기준이 열이기 때문에, 사용하기 어렵다."
   ]
  },
  {
   "cell_type": "code",
   "execution_count": 96,
   "id": "0e6b5636",
   "metadata": {},
   "outputs": [
    {
     "data": {
      "text/plain": [
       "3    2\n",
       "0    1\n",
       "4    1\n",
       "Name: 0, dtype: int64"
      ]
     },
     "execution_count": 96,
     "metadata": {},
     "output_type": "execute_result"
    }
   ],
   "source": [
    "df[0].value_counts() # DataFrame에서 쓰려면 이렇게 열별로 따로 뽑아서 사용해야 한다"
   ]
  },
  {
   "cell_type": "code",
   "execution_count": 94,
   "id": "187f54a8",
   "metadata": {},
   "outputs": [
    {
     "data": {
      "text/plain": [
       "0    2\n",
       "2    1\n",
       "3    1\n",
       "Name: 1, dtype: int64"
      ]
     },
     "execution_count": 94,
     "metadata": {},
     "output_type": "execute_result"
    }
   ],
   "source": [
    "df[1].value_counts() # DataFrame에서 쓰려면 이렇게 열별로 따로 뽑아서 사용해야 한다"
   ]
  },
  {
   "cell_type": "code",
   "execution_count": 95,
   "id": "a17a3cbe",
   "metadata": {},
   "outputs": [
    {
     "data": {
      "text/plain": [
       "4    2\n",
       "3    1\n",
       "2    1\n",
       "Name: 2, dtype: int64"
      ]
     },
     "execution_count": 95,
     "metadata": {},
     "output_type": "execute_result"
    }
   ],
   "source": [
    "df[2].value_counts() # DataFrame에서 쓰려면 이렇게 열별로 따로 뽑아서 사용해야 한다"
   ]
  },
  {
   "cell_type": "markdown",
   "id": "cd6cf6d5",
   "metadata": {},
   "source": [
    "### (2) 정렬\n",
    "\n",
    "- sort_values()\n",
    "- sort_index()\n",
    "- 결측치는 정렬의 대상이 되지 않는다."
   ]
  },
  {
   "cell_type": "markdown",
   "id": "9c524b39",
   "metadata": {},
   "source": [
    "#### 1) Series에서의 정렬"
   ]
  },
  {
   "cell_type": "code",
   "execution_count": 97,
   "id": "9155e10b",
   "metadata": {},
   "outputs": [
    {
     "data": {
      "text/plain": [
       "0     5\n",
       "1     3\n",
       "2     4\n",
       "3     0\n",
       "4     1\n",
       "     ..\n",
       "95    4\n",
       "96    5\n",
       "97    2\n",
       "98    4\n",
       "99    3\n",
       "Length: 100, dtype: int32"
      ]
     },
     "execution_count": 97,
     "metadata": {},
     "output_type": "execute_result"
    }
   ],
   "source": [
    "np.random.seed(1)\n",
    "\n",
    "s = pd.Series(np.random.randint(6, size = 100))\n",
    "s"
   ]
  },
  {
   "cell_type": "code",
   "execution_count": 98,
   "id": "c8647722",
   "metadata": {},
   "outputs": [
    {
     "data": {
      "text/plain": [
       "1    22\n",
       "0    18\n",
       "4    17\n",
       "5    16\n",
       "3    14\n",
       "2    13\n",
       "dtype: int64"
      ]
     },
     "execution_count": 98,
     "metadata": {},
     "output_type": "execute_result"
    }
   ],
   "source": [
    "s.value_counts()"
   ]
  },
  {
   "cell_type": "code",
   "execution_count": 99,
   "id": "3b0cecf1",
   "metadata": {},
   "outputs": [
    {
     "data": {
      "text/plain": [
       "0    18\n",
       "1    22\n",
       "2    13\n",
       "3    14\n",
       "4    17\n",
       "5    16\n",
       "dtype: int64"
      ]
     },
     "execution_count": 99,
     "metadata": {},
     "output_type": "execute_result"
    }
   ],
   "source": [
    "s.value_counts().sort_index() # 0에서부터 시작하는 index로 정렬이 되었다."
   ]
  },
  {
   "cell_type": "code",
   "execution_count": 101,
   "id": "49bdfaf5",
   "metadata": {},
   "outputs": [
    {
     "data": {
      "text/plain": [
       "57    0\n",
       "38    0\n",
       "39    0\n",
       "85    0\n",
       "28    0\n",
       "     ..\n",
       "71    5\n",
       "40    5\n",
       "46    5\n",
       "11    5\n",
       "0     5\n",
       "Length: 100, dtype: int32"
      ]
     },
     "execution_count": 101,
     "metadata": {},
     "output_type": "execute_result"
    }
   ],
   "source": [
    "s.sort_values() # 기본이 오름차순"
   ]
  },
  {
   "cell_type": "code",
   "execution_count": 102,
   "id": "60211f77",
   "metadata": {},
   "outputs": [
    {
     "data": {
      "text/plain": [
       "0     5\n",
       "74    5\n",
       "23    5\n",
       "32    5\n",
       "40    5\n",
       "     ..\n",
       "68    0\n",
       "57    0\n",
       "77    0\n",
       "38    0\n",
       "78    0\n",
       "Length: 100, dtype: int32"
      ]
     },
     "execution_count": 102,
     "metadata": {},
     "output_type": "execute_result"
    }
   ],
   "source": [
    "s.sort_values(ascending=False) # 오름차순을 거짓으로 = 내림차순"
   ]
  },
  {
   "cell_type": "markdown",
   "id": "73c519f4",
   "metadata": {},
   "source": [
    "#### 2) DataFrame에서의 정렬"
   ]
  },
  {
   "cell_type": "code",
   "execution_count": 17,
   "id": "d671cfbc",
   "metadata": {},
   "outputs": [
    {
     "name": "stdout",
     "output_type": "stream",
     "text": [
      "     0    1    2    3\n",
      "0  0.0  0.0  3.0  2.0\n",
      "1  3.0  0.0  2.0  1.0\n",
      "2  3.0  2.0  4.0  4.0\n",
      "3  4.0  3.0  4.0  2.0\n",
      "-------------------------------------------------------------\n"
     ]
    }
   ],
   "source": [
    "np.random.seed(2)\n",
    "df = pd.DataFrame(np.random.randint(5, size=(4,4)), dtype=float)\n",
    "print(df)\n",
    "\n",
    "print(\"-------------------------------------------------------------\")\n"
   ]
  },
  {
   "cell_type": "code",
   "execution_count": 21,
   "id": "9722340c",
   "metadata": {},
   "outputs": [
    {
     "data": {
      "text/html": [
       "<div>\n",
       "<style scoped>\n",
       "    .dataframe tbody tr th:only-of-type {\n",
       "        vertical-align: middle;\n",
       "    }\n",
       "\n",
       "    .dataframe tbody tr th {\n",
       "        vertical-align: top;\n",
       "    }\n",
       "\n",
       "    .dataframe thead th {\n",
       "        text-align: right;\n",
       "    }\n",
       "</style>\n",
       "<table border=\"1\" class=\"dataframe\">\n",
       "  <thead>\n",
       "    <tr style=\"text-align: right;\">\n",
       "      <th></th>\n",
       "      <th>0</th>\n",
       "      <th>1</th>\n",
       "      <th>2</th>\n",
       "      <th>3</th>\n",
       "    </tr>\n",
       "  </thead>\n",
       "  <tbody>\n",
       "    <tr>\n",
       "      <th>1</th>\n",
       "      <td>3.0</td>\n",
       "      <td>0.0</td>\n",
       "      <td>2.0</td>\n",
       "      <td>1.0</td>\n",
       "    </tr>\n",
       "    <tr>\n",
       "      <th>0</th>\n",
       "      <td>0.0</td>\n",
       "      <td>0.0</td>\n",
       "      <td>3.0</td>\n",
       "      <td>2.0</td>\n",
       "    </tr>\n",
       "    <tr>\n",
       "      <th>2</th>\n",
       "      <td>3.0</td>\n",
       "      <td>2.0</td>\n",
       "      <td>4.0</td>\n",
       "      <td>4.0</td>\n",
       "    </tr>\n",
       "    <tr>\n",
       "      <th>3</th>\n",
       "      <td>4.0</td>\n",
       "      <td>3.0</td>\n",
       "      <td>4.0</td>\n",
       "      <td>2.0</td>\n",
       "    </tr>\n",
       "  </tbody>\n",
       "</table>\n",
       "</div>"
      ],
      "text/plain": [
       "     0    1    2    3\n",
       "1  3.0  0.0  2.0  1.0\n",
       "0  0.0  0.0  3.0  2.0\n",
       "2  3.0  2.0  4.0  4.0\n",
       "3  4.0  3.0  4.0  2.0"
      ]
     },
     "execution_count": 21,
     "metadata": {},
     "output_type": "execute_result"
    }
   ],
   "source": [
    "df.sort_values(by=2) # 2번 열을 기준으로 정렬하겠다."
   ]
  },
  {
   "cell_type": "code",
   "execution_count": 23,
   "id": "ce99aabf",
   "metadata": {},
   "outputs": [
    {
     "data": {
      "text/html": [
       "<div>\n",
       "<style scoped>\n",
       "    .dataframe tbody tr th:only-of-type {\n",
       "        vertical-align: middle;\n",
       "    }\n",
       "\n",
       "    .dataframe tbody tr th {\n",
       "        vertical-align: top;\n",
       "    }\n",
       "\n",
       "    .dataframe thead th {\n",
       "        text-align: right;\n",
       "    }\n",
       "</style>\n",
       "<table border=\"1\" class=\"dataframe\">\n",
       "  <thead>\n",
       "    <tr style=\"text-align: right;\">\n",
       "      <th></th>\n",
       "      <th>0</th>\n",
       "      <th>1</th>\n",
       "      <th>2</th>\n",
       "      <th>3</th>\n",
       "    </tr>\n",
       "  </thead>\n",
       "  <tbody>\n",
       "    <tr>\n",
       "      <th>1</th>\n",
       "      <td>3.0</td>\n",
       "      <td>0.0</td>\n",
       "      <td>2.0</td>\n",
       "      <td>1.0</td>\n",
       "    </tr>\n",
       "    <tr>\n",
       "      <th>0</th>\n",
       "      <td>0.0</td>\n",
       "      <td>0.0</td>\n",
       "      <td>3.0</td>\n",
       "      <td>2.0</td>\n",
       "    </tr>\n",
       "    <tr>\n",
       "      <th>3</th>\n",
       "      <td>4.0</td>\n",
       "      <td>3.0</td>\n",
       "      <td>4.0</td>\n",
       "      <td>2.0</td>\n",
       "    </tr>\n",
       "    <tr>\n",
       "      <th>2</th>\n",
       "      <td>3.0</td>\n",
       "      <td>2.0</td>\n",
       "      <td>4.0</td>\n",
       "      <td>4.0</td>\n",
       "    </tr>\n",
       "  </tbody>\n",
       "</table>\n",
       "</div>"
      ],
      "text/plain": [
       "     0    1    2    3\n",
       "1  3.0  0.0  2.0  1.0\n",
       "0  0.0  0.0  3.0  2.0\n",
       "3  4.0  3.0  4.0  2.0\n",
       "2  3.0  2.0  4.0  4.0"
      ]
     },
     "execution_count": 23,
     "metadata": {},
     "output_type": "execute_result"
    }
   ],
   "source": [
    "df.sort_values(by=3) # 3번 열의 값을 기준으로 정렬하겠다.(오름차순)"
   ]
  },
  {
   "cell_type": "code",
   "execution_count": 24,
   "id": "917ae21b",
   "metadata": {},
   "outputs": [
    {
     "data": {
      "text/html": [
       "<div>\n",
       "<style scoped>\n",
       "    .dataframe tbody tr th:only-of-type {\n",
       "        vertical-align: middle;\n",
       "    }\n",
       "\n",
       "    .dataframe tbody tr th {\n",
       "        vertical-align: top;\n",
       "    }\n",
       "\n",
       "    .dataframe thead th {\n",
       "        text-align: right;\n",
       "    }\n",
       "</style>\n",
       "<table border=\"1\" class=\"dataframe\">\n",
       "  <thead>\n",
       "    <tr style=\"text-align: right;\">\n",
       "      <th></th>\n",
       "      <th>0</th>\n",
       "      <th>1</th>\n",
       "      <th>2</th>\n",
       "      <th>3</th>\n",
       "    </tr>\n",
       "  </thead>\n",
       "  <tbody>\n",
       "    <tr>\n",
       "      <th>1</th>\n",
       "      <td>3.0</td>\n",
       "      <td>0.0</td>\n",
       "      <td>2.0</td>\n",
       "      <td>1.0</td>\n",
       "    </tr>\n",
       "    <tr>\n",
       "      <th>0</th>\n",
       "      <td>0.0</td>\n",
       "      <td>0.0</td>\n",
       "      <td>3.0</td>\n",
       "      <td>2.0</td>\n",
       "    </tr>\n",
       "    <tr>\n",
       "      <th>3</th>\n",
       "      <td>4.0</td>\n",
       "      <td>3.0</td>\n",
       "      <td>4.0</td>\n",
       "      <td>2.0</td>\n",
       "    </tr>\n",
       "    <tr>\n",
       "      <th>2</th>\n",
       "      <td>3.0</td>\n",
       "      <td>2.0</td>\n",
       "      <td>4.0</td>\n",
       "      <td>4.0</td>\n",
       "    </tr>\n",
       "  </tbody>\n",
       "</table>\n",
       "</div>"
      ],
      "text/plain": [
       "     0    1    2    3\n",
       "1  3.0  0.0  2.0  1.0\n",
       "0  0.0  0.0  3.0  2.0\n",
       "3  4.0  3.0  4.0  2.0\n",
       "2  3.0  2.0  4.0  4.0"
      ]
     },
     "execution_count": 24,
     "metadata": {},
     "output_type": "execute_result"
    }
   ],
   "source": [
    "df.sort_values(by=[3, 2]) # 3번 열을 기준으로 정렬하고나서 2번으로 정렬하겠다."
   ]
  },
  {
   "cell_type": "code",
   "execution_count": 118,
   "id": "f27c6a2d",
   "metadata": {},
   "outputs": [
    {
     "name": "stdout",
     "output_type": "stream",
     "text": [
      "   seq  name  age\n",
      "0    1  park   30\n",
      "1    3   lee   20\n",
      "2    2  choi   40\n",
      "-----------------------------------------------------\n"
     ]
    },
    {
     "data": {
      "text/html": [
       "<div>\n",
       "<style scoped>\n",
       "    .dataframe tbody tr th:only-of-type {\n",
       "        vertical-align: middle;\n",
       "    }\n",
       "\n",
       "    .dataframe tbody tr th {\n",
       "        vertical-align: top;\n",
       "    }\n",
       "\n",
       "    .dataframe thead th {\n",
       "        text-align: right;\n",
       "    }\n",
       "</style>\n",
       "<table border=\"1\" class=\"dataframe\">\n",
       "  <thead>\n",
       "    <tr style=\"text-align: right;\">\n",
       "      <th></th>\n",
       "      <th>seq</th>\n",
       "      <th>name</th>\n",
       "      <th>age</th>\n",
       "    </tr>\n",
       "  </thead>\n",
       "  <tbody>\n",
       "    <tr>\n",
       "      <th>1</th>\n",
       "      <td>3</td>\n",
       "      <td>lee</td>\n",
       "      <td>20</td>\n",
       "    </tr>\n",
       "    <tr>\n",
       "      <th>2</th>\n",
       "      <td>2</td>\n",
       "      <td>choi</td>\n",
       "      <td>40</td>\n",
       "    </tr>\n",
       "    <tr>\n",
       "      <th>0</th>\n",
       "      <td>1</td>\n",
       "      <td>park</td>\n",
       "      <td>30</td>\n",
       "    </tr>\n",
       "  </tbody>\n",
       "</table>\n",
       "</div>"
      ],
      "text/plain": [
       "   seq  name  age\n",
       "1    3   lee   20\n",
       "2    2  choi   40\n",
       "0    1  park   30"
      ]
     },
     "execution_count": 118,
     "metadata": {},
     "output_type": "execute_result"
    }
   ],
   "source": [
    "df1 = pd.DataFrame({\"seq\" : [1, 3, 2], \"name\" : [\"park\", \"lee\", \"choi\"], \"age\" : [30, 20, 40]})\n",
    "print(df1)\n",
    "print(\"-----------------------------------------------------\")\n",
    "\n",
    "# seq를 기준으로 정렬(내림차순) # 컬럼 값을 기준으로 한다면 sort_values임\n",
    "df1.sort_values(by=\"seq\", ascending=False)"
   ]
  },
  {
   "cell_type": "code",
   "execution_count": 119,
   "id": "b172fa59",
   "metadata": {},
   "outputs": [
    {
     "data": {
      "text/html": [
       "<div>\n",
       "<style scoped>\n",
       "    .dataframe tbody tr th:only-of-type {\n",
       "        vertical-align: middle;\n",
       "    }\n",
       "\n",
       "    .dataframe tbody tr th {\n",
       "        vertical-align: top;\n",
       "    }\n",
       "\n",
       "    .dataframe thead th {\n",
       "        text-align: right;\n",
       "    }\n",
       "</style>\n",
       "<table border=\"1\" class=\"dataframe\">\n",
       "  <thead>\n",
       "    <tr style=\"text-align: right;\">\n",
       "      <th></th>\n",
       "      <th>seq</th>\n",
       "      <th>name</th>\n",
       "      <th>age</th>\n",
       "    </tr>\n",
       "  </thead>\n",
       "  <tbody>\n",
       "    <tr>\n",
       "      <th>0</th>\n",
       "      <td>1</td>\n",
       "      <td>park</td>\n",
       "      <td>30</td>\n",
       "    </tr>\n",
       "    <tr>\n",
       "      <th>1</th>\n",
       "      <td>3</td>\n",
       "      <td>lee</td>\n",
       "      <td>20</td>\n",
       "    </tr>\n",
       "    <tr>\n",
       "      <th>2</th>\n",
       "      <td>2</td>\n",
       "      <td>choi</td>\n",
       "      <td>40</td>\n",
       "    </tr>\n",
       "  </tbody>\n",
       "</table>\n",
       "</div>"
      ],
      "text/plain": [
       "   seq  name  age\n",
       "0    1  park   30\n",
       "1    3   lee   20\n",
       "2    2  choi   40"
      ]
     },
     "execution_count": 119,
     "metadata": {},
     "output_type": "execute_result"
    }
   ],
   "source": [
    "# index를 기준으로 정렬\n",
    "df1.sort_index()"
   ]
  },
  {
   "cell_type": "code",
   "execution_count": 120,
   "id": "c9e0c4c2",
   "metadata": {},
   "outputs": [],
   "source": [
    "?df.sort_values"
   ]
  },
  {
   "cell_type": "code",
   "execution_count": 121,
   "id": "afd078f6",
   "metadata": {},
   "outputs": [
    {
     "data": {
      "text/html": [
       "<div>\n",
       "<style scoped>\n",
       "    .dataframe tbody tr th:only-of-type {\n",
       "        vertical-align: middle;\n",
       "    }\n",
       "\n",
       "    .dataframe tbody tr th {\n",
       "        vertical-align: top;\n",
       "    }\n",
       "\n",
       "    .dataframe thead th {\n",
       "        text-align: right;\n",
       "    }\n",
       "</style>\n",
       "<table border=\"1\" class=\"dataframe\">\n",
       "  <thead>\n",
       "    <tr style=\"text-align: right;\">\n",
       "      <th></th>\n",
       "      <th>seq</th>\n",
       "      <th>name</th>\n",
       "      <th>age</th>\n",
       "    </tr>\n",
       "  </thead>\n",
       "  <tbody>\n",
       "    <tr>\n",
       "      <th>0</th>\n",
       "      <td>1</td>\n",
       "      <td>park</td>\n",
       "      <td>30</td>\n",
       "    </tr>\n",
       "    <tr>\n",
       "      <th>1</th>\n",
       "      <td>3</td>\n",
       "      <td>lee</td>\n",
       "      <td>20</td>\n",
       "    </tr>\n",
       "    <tr>\n",
       "      <th>2</th>\n",
       "      <td>2</td>\n",
       "      <td>choi</td>\n",
       "      <td>40</td>\n",
       "    </tr>\n",
       "  </tbody>\n",
       "</table>\n",
       "</div>"
      ],
      "text/plain": [
       "   seq  name  age\n",
       "0    1  park   30\n",
       "1    3   lee   20\n",
       "2    2  choi   40"
      ]
     },
     "execution_count": 121,
     "metadata": {},
     "output_type": "execute_result"
    }
   ],
   "source": [
    "df1.sort_index(axis=0)"
   ]
  },
  {
   "cell_type": "code",
   "execution_count": 131,
   "id": "128ddd09",
   "metadata": {},
   "outputs": [
    {
     "data": {
      "text/html": [
       "<div>\n",
       "<style scoped>\n",
       "    .dataframe tbody tr th:only-of-type {\n",
       "        vertical-align: middle;\n",
       "    }\n",
       "\n",
       "    .dataframe tbody tr th {\n",
       "        vertical-align: top;\n",
       "    }\n",
       "\n",
       "    .dataframe thead th {\n",
       "        text-align: right;\n",
       "    }\n",
       "</style>\n",
       "<table border=\"1\" class=\"dataframe\">\n",
       "  <thead>\n",
       "    <tr style=\"text-align: right;\">\n",
       "      <th></th>\n",
       "      <th>age</th>\n",
       "      <th>name</th>\n",
       "      <th>seq</th>\n",
       "    </tr>\n",
       "  </thead>\n",
       "  <tbody>\n",
       "    <tr>\n",
       "      <th>2</th>\n",
       "      <td>40</td>\n",
       "      <td>choi</td>\n",
       "      <td>2</td>\n",
       "    </tr>\n",
       "    <tr>\n",
       "      <th>1</th>\n",
       "      <td>20</td>\n",
       "      <td>lee</td>\n",
       "      <td>3</td>\n",
       "    </tr>\n",
       "    <tr>\n",
       "      <th>0</th>\n",
       "      <td>30</td>\n",
       "      <td>park</td>\n",
       "      <td>1</td>\n",
       "    </tr>\n",
       "  </tbody>\n",
       "</table>\n",
       "</div>"
      ],
      "text/plain": [
       "   age  name  seq\n",
       "2   40  choi    2\n",
       "1   20   lee    3\n",
       "0   30  park    1"
      ]
     },
     "execution_count": 131,
     "metadata": {},
     "output_type": "execute_result"
    }
   ],
   "source": [
    "df1.sort_index(axis=0, ascending=False)"
   ]
  },
  {
   "cell_type": "code",
   "execution_count": 122,
   "id": "646b4bd4",
   "metadata": {},
   "outputs": [
    {
     "data": {
      "text/html": [
       "<div>\n",
       "<style scoped>\n",
       "    .dataframe tbody tr th:only-of-type {\n",
       "        vertical-align: middle;\n",
       "    }\n",
       "\n",
       "    .dataframe tbody tr th {\n",
       "        vertical-align: top;\n",
       "    }\n",
       "\n",
       "    .dataframe thead th {\n",
       "        text-align: right;\n",
       "    }\n",
       "</style>\n",
       "<table border=\"1\" class=\"dataframe\">\n",
       "  <thead>\n",
       "    <tr style=\"text-align: right;\">\n",
       "      <th></th>\n",
       "      <th>age</th>\n",
       "      <th>name</th>\n",
       "      <th>seq</th>\n",
       "    </tr>\n",
       "  </thead>\n",
       "  <tbody>\n",
       "    <tr>\n",
       "      <th>0</th>\n",
       "      <td>30</td>\n",
       "      <td>park</td>\n",
       "      <td>1</td>\n",
       "    </tr>\n",
       "    <tr>\n",
       "      <th>1</th>\n",
       "      <td>20</td>\n",
       "      <td>lee</td>\n",
       "      <td>3</td>\n",
       "    </tr>\n",
       "    <tr>\n",
       "      <th>2</th>\n",
       "      <td>40</td>\n",
       "      <td>choi</td>\n",
       "      <td>2</td>\n",
       "    </tr>\n",
       "  </tbody>\n",
       "</table>\n",
       "</div>"
      ],
      "text/plain": [
       "   age  name  seq\n",
       "0   30  park    1\n",
       "1   20   lee    3\n",
       "2   40  choi    2"
      ]
     },
     "execution_count": 122,
     "metadata": {},
     "output_type": "execute_result"
    }
   ],
   "source": [
    "df1.sort_index(axis=1)"
   ]
  },
  {
   "cell_type": "code",
   "execution_count": 124,
   "id": "efc2547f",
   "metadata": {},
   "outputs": [
    {
     "data": {
      "text/html": [
       "<div>\n",
       "<style scoped>\n",
       "    .dataframe tbody tr th:only-of-type {\n",
       "        vertical-align: middle;\n",
       "    }\n",
       "\n",
       "    .dataframe tbody tr th {\n",
       "        vertical-align: top;\n",
       "    }\n",
       "\n",
       "    .dataframe thead th {\n",
       "        text-align: right;\n",
       "    }\n",
       "</style>\n",
       "<table border=\"1\" class=\"dataframe\">\n",
       "  <thead>\n",
       "    <tr style=\"text-align: right;\">\n",
       "      <th></th>\n",
       "      <th>seq</th>\n",
       "      <th>name</th>\n",
       "      <th>age</th>\n",
       "    </tr>\n",
       "  </thead>\n",
       "  <tbody>\n",
       "    <tr>\n",
       "      <th>0</th>\n",
       "      <td>1</td>\n",
       "      <td>park</td>\n",
       "      <td>30</td>\n",
       "    </tr>\n",
       "    <tr>\n",
       "      <th>1</th>\n",
       "      <td>3</td>\n",
       "      <td>lee</td>\n",
       "      <td>20</td>\n",
       "    </tr>\n",
       "    <tr>\n",
       "      <th>2</th>\n",
       "      <td>2</td>\n",
       "      <td>choi</td>\n",
       "      <td>40</td>\n",
       "    </tr>\n",
       "  </tbody>\n",
       "</table>\n",
       "</div>"
      ],
      "text/plain": [
       "   seq  name  age\n",
       "0    1  park   30\n",
       "1    3   lee   20\n",
       "2    2  choi   40"
      ]
     },
     "execution_count": 124,
     "metadata": {},
     "output_type": "execute_result"
    }
   ],
   "source": [
    "df1.sort_index(axis=1, ascending=False)"
   ]
  },
  {
   "cell_type": "code",
   "execution_count": 130,
   "id": "bcae464e",
   "metadata": {},
   "outputs": [
    {
     "data": {
      "text/html": [
       "<div>\n",
       "<style scoped>\n",
       "    .dataframe tbody tr th:only-of-type {\n",
       "        vertical-align: middle;\n",
       "    }\n",
       "\n",
       "    .dataframe tbody tr th {\n",
       "        vertical-align: top;\n",
       "    }\n",
       "\n",
       "    .dataframe thead th {\n",
       "        text-align: right;\n",
       "    }\n",
       "</style>\n",
       "<table border=\"1\" class=\"dataframe\">\n",
       "  <thead>\n",
       "    <tr style=\"text-align: right;\">\n",
       "      <th></th>\n",
       "      <th>age</th>\n",
       "      <th>name</th>\n",
       "      <th>seq</th>\n",
       "    </tr>\n",
       "  </thead>\n",
       "  <tbody>\n",
       "    <tr>\n",
       "      <th>1</th>\n",
       "      <td>20</td>\n",
       "      <td>lee</td>\n",
       "      <td>3</td>\n",
       "    </tr>\n",
       "    <tr>\n",
       "      <th>2</th>\n",
       "      <td>40</td>\n",
       "      <td>choi</td>\n",
       "      <td>2</td>\n",
       "    </tr>\n",
       "    <tr>\n",
       "      <th>0</th>\n",
       "      <td>30</td>\n",
       "      <td>park</td>\n",
       "      <td>1</td>\n",
       "    </tr>\n",
       "  </tbody>\n",
       "</table>\n",
       "</div>"
      ],
      "text/plain": [
       "   age  name  seq\n",
       "1   20   lee    3\n",
       "2   40  choi    2\n",
       "0   30  park    1"
      ]
     },
     "execution_count": 130,
     "metadata": {},
     "output_type": "execute_result"
    }
   ],
   "source": [
    "# inplace\n",
    "df1 = df1.sort_index(axis=1) # 원본을 적용시키기 위해\n",
    "df1\n",
    "\n",
    "df1.sort_values(by=[\"seq\", \"name\"], axis=0, ascending=False, inplace = True) # inplace = True를 써주면 따로 변수에 담지 않아도 적용\n",
    "df1"
   ]
  },
  {
   "cell_type": "markdown",
   "id": "5273afa6",
   "metadata": {},
   "source": [
    "#### (3) 행, 열의 집합 연산"
   ]
  },
  {
   "cell_type": "code",
   "execution_count": 141,
   "id": "a7aaf40a",
   "metadata": {},
   "outputs": [
    {
     "name": "stdout",
     "output_type": "stream",
     "text": [
      "   0  1  2  3  4  5  6  7\n",
      "0  8  8  6  2  8  7  2  1\n",
      "1  5  4  4  5  7  3  6  4\n",
      "2  3  7  6  1  3  5  8  4\n",
      "3  6  3  9  2  0  4  2  4\n",
      "------------------------------------------------\n"
     ]
    }
   ],
   "source": [
    "np.random.seed(2)\n",
    "df = pd.DataFrame(np.random.randint(10, size=(4,8)))\n",
    "print(df)\n",
    "\n",
    "print(\"------------------------------------------------\")\n",
    "\n",
    "#전치를 해서 행과 열을 바꾸는 방법도 있다. df.T"
   ]
  },
  {
   "cell_type": "code",
   "execution_count": 142,
   "id": "7641eef9",
   "metadata": {},
   "outputs": [
    {
     "data": {
      "text/plain": [
       "0    22\n",
       "1    22\n",
       "2    25\n",
       "3    10\n",
       "4    18\n",
       "5    19\n",
       "6    18\n",
       "7    13\n",
       "dtype: int64"
      ]
     },
     "execution_count": 142,
     "metadata": {},
     "output_type": "execute_result"
    }
   ],
   "source": [
    "df.sum() # DataFrame의 기본은 열이라서 열을 기준으로 합계를 쭉 내고 있다. axis = 0 열을 기준(기본값)"
   ]
  },
  {
   "cell_type": "code",
   "execution_count": 143,
   "id": "dcb8b68c",
   "metadata": {},
   "outputs": [
    {
     "data": {
      "text/plain": [
       "0    42\n",
       "1    38\n",
       "2    37\n",
       "3    30\n",
       "dtype: int64"
      ]
     },
     "execution_count": 143,
     "metadata": {},
     "output_type": "execute_result"
    }
   ],
   "source": [
    "df.sum(axis=1) # 축의 기준을 바꿔서 행을 기준으로 하도록 바꿨다. axis = 1 행을 기준"
   ]
  },
  {
   "cell_type": "code",
   "execution_count": 144,
   "id": "df691dd6",
   "metadata": {},
   "outputs": [
    {
     "data": {
      "text/html": [
       "<div>\n",
       "<style scoped>\n",
       "    .dataframe tbody tr th:only-of-type {\n",
       "        vertical-align: middle;\n",
       "    }\n",
       "\n",
       "    .dataframe tbody tr th {\n",
       "        vertical-align: top;\n",
       "    }\n",
       "\n",
       "    .dataframe thead th {\n",
       "        text-align: right;\n",
       "    }\n",
       "</style>\n",
       "<table border=\"1\" class=\"dataframe\">\n",
       "  <thead>\n",
       "    <tr style=\"text-align: right;\">\n",
       "      <th></th>\n",
       "      <th>0</th>\n",
       "      <th>1</th>\n",
       "      <th>2</th>\n",
       "      <th>3</th>\n",
       "      <th>4</th>\n",
       "      <th>5</th>\n",
       "      <th>6</th>\n",
       "      <th>7</th>\n",
       "    </tr>\n",
       "  </thead>\n",
       "  <tbody>\n",
       "    <tr>\n",
       "      <th>0</th>\n",
       "      <td>8.0</td>\n",
       "      <td>8.0</td>\n",
       "      <td>6.0</td>\n",
       "      <td>2.0</td>\n",
       "      <td>8.0</td>\n",
       "      <td>7.0</td>\n",
       "      <td>2.0</td>\n",
       "      <td>1.0</td>\n",
       "    </tr>\n",
       "    <tr>\n",
       "      <th>1</th>\n",
       "      <td>5.0</td>\n",
       "      <td>4.0</td>\n",
       "      <td>4.0</td>\n",
       "      <td>5.0</td>\n",
       "      <td>7.0</td>\n",
       "      <td>3.0</td>\n",
       "      <td>6.0</td>\n",
       "      <td>4.0</td>\n",
       "    </tr>\n",
       "    <tr>\n",
       "      <th>2</th>\n",
       "      <td>3.0</td>\n",
       "      <td>7.0</td>\n",
       "      <td>6.0</td>\n",
       "      <td>1.0</td>\n",
       "      <td>3.0</td>\n",
       "      <td>5.0</td>\n",
       "      <td>8.0</td>\n",
       "      <td>4.0</td>\n",
       "    </tr>\n",
       "    <tr>\n",
       "      <th>3</th>\n",
       "      <td>6.0</td>\n",
       "      <td>3.0</td>\n",
       "      <td>9.0</td>\n",
       "      <td>2.0</td>\n",
       "      <td>0.0</td>\n",
       "      <td>4.0</td>\n",
       "      <td>2.0</td>\n",
       "      <td>4.0</td>\n",
       "    </tr>\n",
       "    <tr>\n",
       "      <th>ColSum</th>\n",
       "      <td>22.0</td>\n",
       "      <td>22.0</td>\n",
       "      <td>25.0</td>\n",
       "      <td>10.0</td>\n",
       "      <td>18.0</td>\n",
       "      <td>19.0</td>\n",
       "      <td>18.0</td>\n",
       "      <td>13.0</td>\n",
       "    </tr>\n",
       "  </tbody>\n",
       "</table>\n",
       "</div>"
      ],
      "text/plain": [
       "           0     1     2     3     4     5     6     7\n",
       "0        8.0   8.0   6.0   2.0   8.0   7.0   2.0   1.0\n",
       "1        5.0   4.0   4.0   5.0   7.0   3.0   6.0   4.0\n",
       "2        3.0   7.0   6.0   1.0   3.0   5.0   8.0   4.0\n",
       "3        6.0   3.0   9.0   2.0   0.0   4.0   2.0   4.0\n",
       "ColSum  22.0  22.0  25.0  10.0  18.0  19.0  18.0  13.0"
      ]
     },
     "execution_count": 144,
     "metadata": {},
     "output_type": "execute_result"
    }
   ],
   "source": [
    "df.loc[\"ColSum\", :] = df.sum() # 행에 추가하고 싶은 것을 이렇게 이름과 값을 지정하는 것으로 추가할 수 있다.\n",
    "df"
   ]
  },
  {
   "cell_type": "code",
   "execution_count": 147,
   "id": "5a0dc45a",
   "metadata": {},
   "outputs": [
    {
     "data": {
      "text/html": [
       "<div>\n",
       "<style scoped>\n",
       "    .dataframe tbody tr th:only-of-type {\n",
       "        vertical-align: middle;\n",
       "    }\n",
       "\n",
       "    .dataframe tbody tr th {\n",
       "        vertical-align: top;\n",
       "    }\n",
       "\n",
       "    .dataframe thead th {\n",
       "        text-align: right;\n",
       "    }\n",
       "</style>\n",
       "<table border=\"1\" class=\"dataframe\">\n",
       "  <thead>\n",
       "    <tr style=\"text-align: right;\">\n",
       "      <th></th>\n",
       "      <th>0</th>\n",
       "      <th>1</th>\n",
       "      <th>2</th>\n",
       "      <th>3</th>\n",
       "      <th>4</th>\n",
       "      <th>5</th>\n",
       "      <th>6</th>\n",
       "      <th>7</th>\n",
       "      <th>RowSum</th>\n",
       "    </tr>\n",
       "  </thead>\n",
       "  <tbody>\n",
       "    <tr>\n",
       "      <th>0</th>\n",
       "      <td>8.0</td>\n",
       "      <td>8.0</td>\n",
       "      <td>6.0</td>\n",
       "      <td>2.0</td>\n",
       "      <td>8.0</td>\n",
       "      <td>7.0</td>\n",
       "      <td>2.0</td>\n",
       "      <td>1.0</td>\n",
       "      <td>42.0</td>\n",
       "    </tr>\n",
       "    <tr>\n",
       "      <th>1</th>\n",
       "      <td>5.0</td>\n",
       "      <td>4.0</td>\n",
       "      <td>4.0</td>\n",
       "      <td>5.0</td>\n",
       "      <td>7.0</td>\n",
       "      <td>3.0</td>\n",
       "      <td>6.0</td>\n",
       "      <td>4.0</td>\n",
       "      <td>38.0</td>\n",
       "    </tr>\n",
       "    <tr>\n",
       "      <th>2</th>\n",
       "      <td>3.0</td>\n",
       "      <td>7.0</td>\n",
       "      <td>6.0</td>\n",
       "      <td>1.0</td>\n",
       "      <td>3.0</td>\n",
       "      <td>5.0</td>\n",
       "      <td>8.0</td>\n",
       "      <td>4.0</td>\n",
       "      <td>37.0</td>\n",
       "    </tr>\n",
       "    <tr>\n",
       "      <th>3</th>\n",
       "      <td>6.0</td>\n",
       "      <td>3.0</td>\n",
       "      <td>9.0</td>\n",
       "      <td>2.0</td>\n",
       "      <td>0.0</td>\n",
       "      <td>4.0</td>\n",
       "      <td>2.0</td>\n",
       "      <td>4.0</td>\n",
       "      <td>30.0</td>\n",
       "    </tr>\n",
       "    <tr>\n",
       "      <th>ColSum</th>\n",
       "      <td>22.0</td>\n",
       "      <td>22.0</td>\n",
       "      <td>25.0</td>\n",
       "      <td>10.0</td>\n",
       "      <td>18.0</td>\n",
       "      <td>19.0</td>\n",
       "      <td>18.0</td>\n",
       "      <td>13.0</td>\n",
       "      <td>147.0</td>\n",
       "    </tr>\n",
       "  </tbody>\n",
       "</table>\n",
       "</div>"
      ],
      "text/plain": [
       "           0     1     2     3     4     5     6     7  RowSum\n",
       "0        8.0   8.0   6.0   2.0   8.0   7.0   2.0   1.0    42.0\n",
       "1        5.0   4.0   4.0   5.0   7.0   3.0   6.0   4.0    38.0\n",
       "2        3.0   7.0   6.0   1.0   3.0   5.0   8.0   4.0    37.0\n",
       "3        6.0   3.0   9.0   2.0   0.0   4.0   2.0   4.0    30.0\n",
       "ColSum  22.0  22.0  25.0  10.0  18.0  19.0  18.0  13.0   147.0"
      ]
     },
     "execution_count": 147,
     "metadata": {},
     "output_type": "execute_result"
    }
   ],
   "source": [
    "df[\"RowSum\"] = df.sum(axis=1) # 열에 추가하는 방법\n",
    "df"
   ]
  },
  {
   "cell_type": "markdown",
   "id": "8971c08b",
   "metadata": {},
   "source": [
    "### (4) apply()\n",
    "\n",
    "- 행이나 열 단위로 더 복잡한 처리를 하고자 할 때 사용\n",
    "- 인수로 행 또는 열을 받는 함수를 apply()의 인수로 넣으면 각 열(또는 행)을 반복하여 그 함수에 적용"
   ]
  },
  {
   "cell_type": "code",
   "execution_count": 151,
   "id": "b8f79178",
   "metadata": {},
   "outputs": [
    {
     "data": {
      "text/html": [
       "<div>\n",
       "<style scoped>\n",
       "    .dataframe tbody tr th:only-of-type {\n",
       "        vertical-align: middle;\n",
       "    }\n",
       "\n",
       "    .dataframe tbody tr th {\n",
       "        vertical-align: top;\n",
       "    }\n",
       "\n",
       "    .dataframe thead th {\n",
       "        text-align: right;\n",
       "    }\n",
       "</style>\n",
       "<table border=\"1\" class=\"dataframe\">\n",
       "  <thead>\n",
       "    <tr style=\"text-align: right;\">\n",
       "      <th></th>\n",
       "      <th>A</th>\n",
       "      <th>B</th>\n",
       "      <th>C</th>\n",
       "    </tr>\n",
       "  </thead>\n",
       "  <tbody>\n",
       "    <tr>\n",
       "      <th>0</th>\n",
       "      <td>1</td>\n",
       "      <td>2</td>\n",
       "      <td>1</td>\n",
       "    </tr>\n",
       "    <tr>\n",
       "      <th>1</th>\n",
       "      <td>3</td>\n",
       "      <td>3</td>\n",
       "      <td>5</td>\n",
       "    </tr>\n",
       "    <tr>\n",
       "      <th>2</th>\n",
       "      <td>4</td>\n",
       "      <td>1</td>\n",
       "      <td>2</td>\n",
       "    </tr>\n",
       "    <tr>\n",
       "      <th>3</th>\n",
       "      <td>3</td>\n",
       "      <td>2</td>\n",
       "      <td>4</td>\n",
       "    </tr>\n",
       "    <tr>\n",
       "      <th>4</th>\n",
       "      <td>4</td>\n",
       "      <td>3</td>\n",
       "      <td>4</td>\n",
       "    </tr>\n",
       "  </tbody>\n",
       "</table>\n",
       "</div>"
      ],
      "text/plain": [
       "   A  B  C\n",
       "0  1  2  1\n",
       "1  3  3  5\n",
       "2  4  1  2\n",
       "3  3  2  4\n",
       "4  4  3  4"
      ]
     },
     "execution_count": 151,
     "metadata": {},
     "output_type": "execute_result"
    }
   ],
   "source": [
    "df = pd.DataFrame({\n",
    "    \"A\" : [1,3,4,3,4],\n",
    "    \"B\" : [2,3,1,2,3],\n",
    "    \"C\" : [1,5,2,4,4]\n",
    "})\n",
    "\n",
    "df"
   ]
  },
  {
   "cell_type": "code",
   "execution_count": 158,
   "id": "7df758a0",
   "metadata": {},
   "outputs": [
    {
     "name": "stdout",
     "output_type": "stream",
     "text": [
      "3\n",
      "2\n",
      "4\n",
      "------------------------------------------------\n",
      "1\n",
      "2\n",
      "3\n",
      "2\n",
      "1\n"
     ]
    }
   ],
   "source": [
    "##### 각 열(행)별로 최대값에서 최소값을 뺀 값을 구하고자 한다.\n",
    "\n",
    "def diff(x):\n",
    "    return x.max() - x.min()\n",
    "\n",
    "###########################\n",
    "\n",
    "print(diff(df[\"A\"]))\n",
    "print(diff(df[\"B\"]))\n",
    "print(diff(df[\"C\"]))\n",
    "\n",
    "print(\"------------------------------------------------\")\n",
    "\n",
    "print(diff(df.loc[0, :]))\n",
    "print(diff(df.loc[1, :]))\n",
    "print(diff(df.loc[2, :]))\n",
    "print(diff(df.loc[3, :]))\n",
    "print(diff(df.loc[4, :]))"
   ]
  },
  {
   "cell_type": "code",
   "execution_count": 159,
   "id": "917c784f",
   "metadata": {},
   "outputs": [
    {
     "data": {
      "text/plain": [
       "A    3\n",
       "B    2\n",
       "C    4\n",
       "dtype: int64"
      ]
     },
     "execution_count": 159,
     "metadata": {},
     "output_type": "execute_result"
    }
   ],
   "source": [
    "df.apply(diff, axis=0) # 반복할 필요 없이 한방에 "
   ]
  },
  {
   "cell_type": "code",
   "execution_count": 160,
   "id": "aeebef85",
   "metadata": {},
   "outputs": [
    {
     "data": {
      "text/plain": [
       "A    3\n",
       "B    2\n",
       "C    4\n",
       "dtype: int64"
      ]
     },
     "execution_count": 160,
     "metadata": {},
     "output_type": "execute_result"
    }
   ],
   "source": [
    "df.apply(diff) # axis = 0과 같쥬"
   ]
  },
  {
   "cell_type": "code",
   "execution_count": 161,
   "id": "e2d45fff",
   "metadata": {},
   "outputs": [
    {
     "data": {
      "text/plain": [
       "0    1\n",
       "1    2\n",
       "2    3\n",
       "3    2\n",
       "4    1\n",
       "dtype: int64"
      ]
     },
     "execution_count": 161,
     "metadata": {},
     "output_type": "execute_result"
    }
   ],
   "source": [
    "df.apply(diff, axis=1) # axis의 디폴트 값 = 0"
   ]
  },
  {
   "cell_type": "code",
   "execution_count": 162,
   "id": "abd9d7fe",
   "metadata": {},
   "outputs": [],
   "source": [
    "##### 위의 코드를 lambda 함수로 바꿔보세요"
   ]
  },
  {
   "cell_type": "code",
   "execution_count": 163,
   "id": "f9b7bbb3",
   "metadata": {},
   "outputs": [],
   "source": [
    "lambdadiff = lambda x : x.max() - x.min()"
   ]
  },
  {
   "cell_type": "code",
   "execution_count": 164,
   "id": "84571904",
   "metadata": {},
   "outputs": [
    {
     "data": {
      "text/plain": [
       "0    1\n",
       "1    2\n",
       "2    3\n",
       "3    2\n",
       "4    1\n",
       "dtype: int64"
      ]
     },
     "execution_count": 164,
     "metadata": {},
     "output_type": "execute_result"
    }
   ],
   "source": [
    "df.apply(lambdadiff, axis=1) # lambda의 변수값을 넣어줘도 괜찮다"
   ]
  },
  {
   "cell_type": "code",
   "execution_count": 166,
   "id": "5709b795",
   "metadata": {},
   "outputs": [
    {
     "data": {
      "text/plain": [
       "A    3\n",
       "B    2\n",
       "C    4\n",
       "dtype: int64"
      ]
     },
     "execution_count": 166,
     "metadata": {},
     "output_type": "execute_result"
    }
   ],
   "source": [
    "df.apply(lambda x : x.max() - x.min(), axis=0) # lambda 함수 자체를 넣어줘도 괜찮다."
   ]
  },
  {
   "cell_type": "code",
   "execution_count": 174,
   "id": "dc959aa0",
   "metadata": {},
   "outputs": [
    {
     "name": "stdout",
     "output_type": "stream",
     "text": [
      "3    2\n",
      "4    2\n",
      "1    1\n",
      "Name: A, dtype: int64\n",
      "2    2\n",
      "3    2\n",
      "1    1\n",
      "Name: B, dtype: int64\n",
      "4    2\n",
      "1    1\n",
      "5    1\n",
      "2    1\n",
      "Name: C, dtype: int64\n",
      "------------------------------------------------\n"
     ]
    },
    {
     "data": {
      "text/html": [
       "<div>\n",
       "<style scoped>\n",
       "    .dataframe tbody tr th:only-of-type {\n",
       "        vertical-align: middle;\n",
       "    }\n",
       "\n",
       "    .dataframe tbody tr th {\n",
       "        vertical-align: top;\n",
       "    }\n",
       "\n",
       "    .dataframe thead th {\n",
       "        text-align: right;\n",
       "    }\n",
       "</style>\n",
       "<table border=\"1\" class=\"dataframe\">\n",
       "  <thead>\n",
       "    <tr style=\"text-align: right;\">\n",
       "      <th></th>\n",
       "      <th>A</th>\n",
       "      <th>B</th>\n",
       "      <th>C</th>\n",
       "    </tr>\n",
       "  </thead>\n",
       "  <tbody>\n",
       "    <tr>\n",
       "      <th>1</th>\n",
       "      <td>1.0</td>\n",
       "      <td>1.0</td>\n",
       "      <td>1.0</td>\n",
       "    </tr>\n",
       "    <tr>\n",
       "      <th>2</th>\n",
       "      <td>NaN</td>\n",
       "      <td>2.0</td>\n",
       "      <td>1.0</td>\n",
       "    </tr>\n",
       "    <tr>\n",
       "      <th>3</th>\n",
       "      <td>2.0</td>\n",
       "      <td>2.0</td>\n",
       "      <td>NaN</td>\n",
       "    </tr>\n",
       "    <tr>\n",
       "      <th>4</th>\n",
       "      <td>2.0</td>\n",
       "      <td>NaN</td>\n",
       "      <td>2.0</td>\n",
       "    </tr>\n",
       "    <tr>\n",
       "      <th>5</th>\n",
       "      <td>NaN</td>\n",
       "      <td>NaN</td>\n",
       "      <td>1.0</td>\n",
       "    </tr>\n",
       "  </tbody>\n",
       "</table>\n",
       "</div>"
      ],
      "text/plain": [
       "     A    B    C\n",
       "1  1.0  1.0  1.0\n",
       "2  NaN  2.0  1.0\n",
       "3  2.0  2.0  NaN\n",
       "4  2.0  NaN  2.0\n",
       "5  NaN  NaN  1.0"
      ]
     },
     "execution_count": 174,
     "metadata": {},
     "output_type": "execute_result"
    }
   ],
   "source": [
    "##### 각 열에 대해 어떤 값이 얼마나 사용되었는지 조회\n",
    "print(df[\"A\"].value_counts())\n",
    "print(df[\"B\"].value_counts())\n",
    "print(df[\"C\"].value_counts())\n",
    "\n",
    "print(\"------------------------------------------------\")\n",
    "\n",
    "df.apply(pd.Series.value_counts, axis=0) # 가장 정석적인 방법 \n",
    "df.apply(df.value_counts, axis=0) # 셋다 똑같다.(메모리에 데이터가 올라가있는 한)\n",
    "df.apply(pd.value_counts, axis=0) # 셋다 똑같다.(메모리에 데이터가 올라가있는 한)"
   ]
  },
  {
   "cell_type": "code",
   "execution_count": 177,
   "id": "6547178a",
   "metadata": {},
   "outputs": [
    {
     "data": {
      "text/html": [
       "<div>\n",
       "<style scoped>\n",
       "    .dataframe tbody tr th:only-of-type {\n",
       "        vertical-align: middle;\n",
       "    }\n",
       "\n",
       "    .dataframe tbody tr th {\n",
       "        vertical-align: top;\n",
       "    }\n",
       "\n",
       "    .dataframe thead th {\n",
       "        text-align: right;\n",
       "    }\n",
       "</style>\n",
       "<table border=\"1\" class=\"dataframe\">\n",
       "  <thead>\n",
       "    <tr style=\"text-align: right;\">\n",
       "      <th></th>\n",
       "      <th>A</th>\n",
       "      <th>B</th>\n",
       "      <th>C</th>\n",
       "    </tr>\n",
       "  </thead>\n",
       "  <tbody>\n",
       "    <tr>\n",
       "      <th>1</th>\n",
       "      <td>1.0</td>\n",
       "      <td>1.0</td>\n",
       "      <td>1.0</td>\n",
       "    </tr>\n",
       "    <tr>\n",
       "      <th>2</th>\n",
       "      <td>0.0</td>\n",
       "      <td>2.0</td>\n",
       "      <td>1.0</td>\n",
       "    </tr>\n",
       "    <tr>\n",
       "      <th>3</th>\n",
       "      <td>2.0</td>\n",
       "      <td>2.0</td>\n",
       "      <td>0.0</td>\n",
       "    </tr>\n",
       "    <tr>\n",
       "      <th>4</th>\n",
       "      <td>2.0</td>\n",
       "      <td>0.0</td>\n",
       "      <td>2.0</td>\n",
       "    </tr>\n",
       "    <tr>\n",
       "      <th>5</th>\n",
       "      <td>0.0</td>\n",
       "      <td>0.0</td>\n",
       "      <td>1.0</td>\n",
       "    </tr>\n",
       "  </tbody>\n",
       "</table>\n",
       "</div>"
      ],
      "text/plain": [
       "     A    B    C\n",
       "1  1.0  1.0  1.0\n",
       "2  0.0  2.0  1.0\n",
       "3  2.0  2.0  0.0\n",
       "4  2.0  0.0  2.0\n",
       "5  0.0  0.0  1.0"
      ]
     },
     "execution_count": 177,
     "metadata": {},
     "output_type": "execute_result"
    }
   ],
   "source": [
    "df.apply(pd.value_counts, axis=0).fillna(0) # Nan으로 되어 있을 때만 사용가능, 바꾸고자하는 값 입력"
   ]
  },
  {
   "cell_type": "code",
   "execution_count": 178,
   "id": "f3b996b1",
   "metadata": {},
   "outputs": [
    {
     "data": {
      "text/html": [
       "<div>\n",
       "<style scoped>\n",
       "    .dataframe tbody tr th:only-of-type {\n",
       "        vertical-align: middle;\n",
       "    }\n",
       "\n",
       "    .dataframe tbody tr th {\n",
       "        vertical-align: top;\n",
       "    }\n",
       "\n",
       "    .dataframe thead th {\n",
       "        text-align: right;\n",
       "    }\n",
       "</style>\n",
       "<table border=\"1\" class=\"dataframe\">\n",
       "  <thead>\n",
       "    <tr style=\"text-align: right;\">\n",
       "      <th></th>\n",
       "      <th>A</th>\n",
       "      <th>B</th>\n",
       "      <th>C</th>\n",
       "    </tr>\n",
       "  </thead>\n",
       "  <tbody>\n",
       "    <tr>\n",
       "      <th>0</th>\n",
       "      <td>1</td>\n",
       "      <td>2</td>\n",
       "      <td>1</td>\n",
       "    </tr>\n",
       "    <tr>\n",
       "      <th>1</th>\n",
       "      <td>3</td>\n",
       "      <td>3</td>\n",
       "      <td>5</td>\n",
       "    </tr>\n",
       "    <tr>\n",
       "      <th>2</th>\n",
       "      <td>4</td>\n",
       "      <td>1</td>\n",
       "      <td>2</td>\n",
       "    </tr>\n",
       "    <tr>\n",
       "      <th>3</th>\n",
       "      <td>3</td>\n",
       "      <td>2</td>\n",
       "      <td>4</td>\n",
       "    </tr>\n",
       "    <tr>\n",
       "      <th>4</th>\n",
       "      <td>4</td>\n",
       "      <td>3</td>\n",
       "      <td>4</td>\n",
       "    </tr>\n",
       "  </tbody>\n",
       "</table>\n",
       "</div>"
      ],
      "text/plain": [
       "   A  B  C\n",
       "0  1  2  1\n",
       "1  3  3  5\n",
       "2  4  1  2\n",
       "3  3  2  4\n",
       "4  4  3  4"
      ]
     },
     "execution_count": 178,
     "metadata": {},
     "output_type": "execute_result"
    }
   ],
   "source": [
    "df"
   ]
  },
  {
   "cell_type": "markdown",
   "id": "acc7e453",
   "metadata": {},
   "source": [
    "### (5) 실수값을 카테고리값으로 변경\n",
    "\n",
    "- 양적 데이터(직접적인 비교 분석 연산이 가능) -> 질적 데이터(숫자로 생겼어도 연산할 수가 없는 데이터, 데이터 변형을 통해 분석 가능)\n",
    "- cut()\n",
    "- qcut()"
   ]
  },
  {
   "cell_type": "code",
   "execution_count": 179,
   "id": "231f4876",
   "metadata": {},
   "outputs": [
    {
     "data": {
      "text/plain": [
       "[NaN, (1.0, 15.0], (1.0, 15.0], (15.0, 25.0], (15.0, 25.0], ..., (60.0, 99.0], (15.0, 25.0], (36.0, 60.0], (25.0, 36.0], NaN]\n",
       "Length: 12\n",
       "Categories (5, interval[int64, right]): [(1, 15] < (15, 25] < (25, 36] < (36, 60] < (60, 99]]"
      ]
     },
     "execution_count": 179,
     "metadata": {},
     "output_type": "execute_result"
    }
   ],
   "source": [
    "# 1 ~ 15 : 미성년자, 16 ~ 25 : 청년, 26 ~ 35 : 중년, 36 ~ 60 : 장년, 61 ~ 99 : 노년\n",
    "\n",
    "ages = [0, 2, 10, 21, 23, 37, 31, 61, 20, 41, 32, 100]\n",
    "\n",
    "pd.cut(x=ages, bins=[1, 15, 25, 36, 60, 99])"
   ]
  },
  {
   "cell_type": "code",
   "execution_count": 185,
   "id": "3701dcb6",
   "metadata": {},
   "outputs": [
    {
     "name": "stdout",
     "output_type": "stream",
     "text": [
      "[NaN, '미성년자', '미성년자', '청년', '청년', ..., '노년', '청년', '장년', '중년', NaN]\n",
      "Length: 12\n",
      "Categories (5, object): ['미성년자' < '청년' < '중년' < '장년' < '노년']\n",
      "<class 'pandas.core.arrays.categorical.Categorical'>\n",
      "Index(['미성년자', '청년', '중년', '장년', '노년'], dtype='object')\n",
      "[-1  0  0  1  1  3  2  4  1  3  2 -1]\n"
     ]
    }
   ],
   "source": [
    "cat = pd.cut(ages, [1, 15, 25, 36, 60, 99],\n",
    "            labels = [\"미성년자\", \"청년\", \"중년\", \"장년\", \"노년\"])\n",
    "print(cat)\n",
    "print(type(cat))\n",
    "print(cat.categories)\n",
    "print(cat.codes)"
   ]
  },
  {
   "cell_type": "markdown",
   "id": "e538f2bf",
   "metadata": {},
   "source": [
    "#### 2) qcut()"
   ]
  },
  {
   "cell_type": "code",
   "execution_count": 190,
   "id": "ca79b193",
   "metadata": {},
   "outputs": [
    {
     "name": "stdout",
     "output_type": "stream",
     "text": [
      "['Q3', 'Q1', 'Q1', 'Q1', 'Q1', ..., 'Q2', 'Q1', 'Q2', 'Q1', 'Q2']\n",
      "Length: 100\n",
      "Categories (4, object): ['Q1' < 'Q2' < 'Q3' < 'Q4']\n"
     ]
    },
    {
     "data": {
      "text/plain": [
       "Q1    25\n",
       "Q2    25\n",
       "Q3    25\n",
       "Q4    25\n",
       "dtype: int64"
      ]
     },
     "execution_count": 190,
     "metadata": {},
     "output_type": "execute_result"
    }
   ],
   "source": [
    "data = np.random.randn(100)\n",
    "cat1 = pd.qcut(data, 4, labels=[\"Q1\", \"Q2\", \"Q3\", \"Q4\"])\n",
    "print(cat1)\n",
    "\n",
    "pd.value_counts(cat1)"
   ]
  },
  {
   "cell_type": "code",
   "execution_count": 6,
   "id": "74325de7",
   "metadata": {},
   "outputs": [
    {
     "data": {
      "text/plain": [
       "['a', 'a', 'a', 'b']\n",
       "Categories (2, object): ['a' < 'b']"
      ]
     },
     "execution_count": 6,
     "metadata": {},
     "output_type": "execute_result"
    }
   ],
   "source": [
    "# 아래의 결과와 같이 qcut은 수량으로 분리하는 것이 아닌, 값의 크기로 분리함\n",
    "\n",
    "data = [1, 2, 2, 4]\n",
    "pd.qcut(data, 2, labels=[\"a\",\"b\"])"
   ]
  },
  {
   "cell_type": "code",
   "execution_count": 1,
   "id": "b9a48c4a",
   "metadata": {},
   "outputs": [
    {
     "name": "stdout",
     "output_type": "stream",
     "text": [
      "Object `pd.qcut` not found.\n"
     ]
    }
   ],
   "source": [
    "?pd.qcut"
   ]
  },
  {
   "cell_type": "markdown",
   "id": "eaa5843a",
   "metadata": {},
   "source": [
    "### 5. Index Manipulation\n",
    "\n",
    "#### (1) set_index(), reset_index()"
   ]
  },
  {
   "cell_type": "code",
   "execution_count": 214,
   "id": "009197c9",
   "metadata": {},
   "outputs": [
    {
     "data": {
      "text/html": [
       "<div>\n",
       "<style scoped>\n",
       "    .dataframe tbody tr th:only-of-type {\n",
       "        vertical-align: middle;\n",
       "    }\n",
       "\n",
       "    .dataframe tbody tr th {\n",
       "        vertical-align: top;\n",
       "    }\n",
       "\n",
       "    .dataframe thead th {\n",
       "        text-align: right;\n",
       "    }\n",
       "</style>\n",
       "<table border=\"1\" class=\"dataframe\">\n",
       "  <thead>\n",
       "    <tr style=\"text-align: right;\">\n",
       "      <th></th>\n",
       "      <th>C1</th>\n",
       "      <th>C2</th>\n",
       "      <th>C3</th>\n",
       "      <th>C4</th>\n",
       "    </tr>\n",
       "  </thead>\n",
       "  <tbody>\n",
       "    <tr>\n",
       "      <th>0</th>\n",
       "      <td>A</td>\n",
       "      <td>1.0</td>\n",
       "      <td>1.0</td>\n",
       "      <td>1.0</td>\n",
       "    </tr>\n",
       "    <tr>\n",
       "      <th>1</th>\n",
       "      <td>B</td>\n",
       "      <td>1.0</td>\n",
       "      <td>0.0</td>\n",
       "      <td>1.0</td>\n",
       "    </tr>\n",
       "    <tr>\n",
       "      <th>2</th>\n",
       "      <td>C</td>\n",
       "      <td>1.0</td>\n",
       "      <td>1.0</td>\n",
       "      <td>1.0</td>\n",
       "    </tr>\n",
       "    <tr>\n",
       "      <th>3</th>\n",
       "      <td>D</td>\n",
       "      <td>1.0</td>\n",
       "      <td>1.0</td>\n",
       "      <td>1.0</td>\n",
       "    </tr>\n",
       "    <tr>\n",
       "      <th>4</th>\n",
       "      <td>E</td>\n",
       "      <td>0.0</td>\n",
       "      <td>0.0</td>\n",
       "      <td>0.0</td>\n",
       "    </tr>\n",
       "  </tbody>\n",
       "</table>\n",
       "</div>"
      ],
      "text/plain": [
       "  C1   C2   C3   C4\n",
       "0  A  1.0  1.0  1.0\n",
       "1  B  1.0  0.0  1.0\n",
       "2  C  1.0  1.0  1.0\n",
       "3  D  1.0  1.0  1.0\n",
       "4  E  0.0  0.0  0.0"
      ]
     },
     "execution_count": 214,
     "metadata": {},
     "output_type": "execute_result"
    }
   ],
   "source": [
    "np.random.seed(0)\n",
    "\n",
    "df1 = pd.DataFrame(np.vstack([list(\"ABCDE\"), np.round(np.random.rand(3, 5))]).T,\n",
    "                  columns=[\"C1\", \"C2\", \"C3\", \"C4\"])\n",
    "df1"
   ]
  },
  {
   "cell_type": "code",
   "execution_count": 218,
   "id": "9cd6cab8",
   "metadata": {},
   "outputs": [
    {
     "data": {
      "text/html": [
       "<div>\n",
       "<style scoped>\n",
       "    .dataframe tbody tr th:only-of-type {\n",
       "        vertical-align: middle;\n",
       "    }\n",
       "\n",
       "    .dataframe tbody tr th {\n",
       "        vertical-align: top;\n",
       "    }\n",
       "\n",
       "    .dataframe thead th {\n",
       "        text-align: right;\n",
       "    }\n",
       "</style>\n",
       "<table border=\"1\" class=\"dataframe\">\n",
       "  <thead>\n",
       "    <tr style=\"text-align: right;\">\n",
       "      <th></th>\n",
       "      <th>C2</th>\n",
       "      <th>C3</th>\n",
       "      <th>C4</th>\n",
       "    </tr>\n",
       "    <tr>\n",
       "      <th>C1</th>\n",
       "      <th></th>\n",
       "      <th></th>\n",
       "      <th></th>\n",
       "    </tr>\n",
       "  </thead>\n",
       "  <tbody>\n",
       "    <tr>\n",
       "      <th>A</th>\n",
       "      <td>1.0</td>\n",
       "      <td>1.0</td>\n",
       "      <td>1.0</td>\n",
       "    </tr>\n",
       "    <tr>\n",
       "      <th>B</th>\n",
       "      <td>1.0</td>\n",
       "      <td>0.0</td>\n",
       "      <td>1.0</td>\n",
       "    </tr>\n",
       "    <tr>\n",
       "      <th>C</th>\n",
       "      <td>1.0</td>\n",
       "      <td>1.0</td>\n",
       "      <td>1.0</td>\n",
       "    </tr>\n",
       "    <tr>\n",
       "      <th>D</th>\n",
       "      <td>1.0</td>\n",
       "      <td>1.0</td>\n",
       "      <td>1.0</td>\n",
       "    </tr>\n",
       "    <tr>\n",
       "      <th>E</th>\n",
       "      <td>0.0</td>\n",
       "      <td>0.0</td>\n",
       "      <td>0.0</td>\n",
       "    </tr>\n",
       "  </tbody>\n",
       "</table>\n",
       "</div>"
      ],
      "text/plain": [
       "     C2   C3   C4\n",
       "C1               \n",
       "A   1.0  1.0  1.0\n",
       "B   1.0  0.0  1.0\n",
       "C   1.0  1.0  1.0\n",
       "D   1.0  1.0  1.0\n",
       "E   0.0  0.0  0.0"
      ]
     },
     "execution_count": 218,
     "metadata": {},
     "output_type": "execute_result"
    }
   ],
   "source": [
    "# 내가 원하는 컬럼을 인덱스로 바꿔주는 함수\n",
    "\n",
    "df1.set_index(\"C1\") \n",
    "df1 # 원본은 아직 그대로~\n",
    "df2 = df1.set_index(\"C1\") \n",
    "df2"
   ]
  },
  {
   "cell_type": "code",
   "execution_count": 220,
   "id": "d484c703",
   "metadata": {},
   "outputs": [
    {
     "data": {
      "text/html": [
       "<div>\n",
       "<style scoped>\n",
       "    .dataframe tbody tr th:only-of-type {\n",
       "        vertical-align: middle;\n",
       "    }\n",
       "\n",
       "    .dataframe tbody tr th {\n",
       "        vertical-align: top;\n",
       "    }\n",
       "\n",
       "    .dataframe thead th {\n",
       "        text-align: right;\n",
       "    }\n",
       "</style>\n",
       "<table border=\"1\" class=\"dataframe\">\n",
       "  <thead>\n",
       "    <tr style=\"text-align: right;\">\n",
       "      <th></th>\n",
       "      <th>C2</th>\n",
       "      <th>C3</th>\n",
       "      <th>C4</th>\n",
       "    </tr>\n",
       "    <tr>\n",
       "      <th>C1</th>\n",
       "      <th></th>\n",
       "      <th></th>\n",
       "      <th></th>\n",
       "    </tr>\n",
       "  </thead>\n",
       "  <tbody>\n",
       "    <tr>\n",
       "      <th>A</th>\n",
       "      <td>1.0</td>\n",
       "      <td>1.0</td>\n",
       "      <td>1.0</td>\n",
       "    </tr>\n",
       "    <tr>\n",
       "      <th>B</th>\n",
       "      <td>1.0</td>\n",
       "      <td>0.0</td>\n",
       "      <td>1.0</td>\n",
       "    </tr>\n",
       "    <tr>\n",
       "      <th>C</th>\n",
       "      <td>1.0</td>\n",
       "      <td>1.0</td>\n",
       "      <td>1.0</td>\n",
       "    </tr>\n",
       "    <tr>\n",
       "      <th>D</th>\n",
       "      <td>1.0</td>\n",
       "      <td>1.0</td>\n",
       "      <td>1.0</td>\n",
       "    </tr>\n",
       "    <tr>\n",
       "      <th>E</th>\n",
       "      <td>0.0</td>\n",
       "      <td>0.0</td>\n",
       "      <td>0.0</td>\n",
       "    </tr>\n",
       "  </tbody>\n",
       "</table>\n",
       "</div>"
      ],
      "text/plain": [
       "     C2   C3   C4\n",
       "C1               \n",
       "A   1.0  1.0  1.0\n",
       "B   1.0  0.0  1.0\n",
       "C   1.0  1.0  1.0\n",
       "D   1.0  1.0  1.0\n",
       "E   0.0  0.0  0.0"
      ]
     },
     "execution_count": 220,
     "metadata": {},
     "output_type": "execute_result"
    }
   ],
   "source": [
    "#df2 = df2.set_index(\"C2\") # 기존의 인덱스는 통째로 날아감\n",
    "#df2"
   ]
  },
  {
   "cell_type": "code",
   "execution_count": 223,
   "id": "6ccd5db7",
   "metadata": {},
   "outputs": [
    {
     "data": {
      "text/html": [
       "<div>\n",
       "<style scoped>\n",
       "    .dataframe tbody tr th:only-of-type {\n",
       "        vertical-align: middle;\n",
       "    }\n",
       "\n",
       "    .dataframe tbody tr th {\n",
       "        vertical-align: top;\n",
       "    }\n",
       "\n",
       "    .dataframe thead th {\n",
       "        text-align: right;\n",
       "    }\n",
       "</style>\n",
       "<table border=\"1\" class=\"dataframe\">\n",
       "  <thead>\n",
       "    <tr style=\"text-align: right;\">\n",
       "      <th></th>\n",
       "      <th>C2</th>\n",
       "      <th>C3</th>\n",
       "      <th>C4</th>\n",
       "    </tr>\n",
       "  </thead>\n",
       "  <tbody>\n",
       "    <tr>\n",
       "      <th>0</th>\n",
       "      <td>1.0</td>\n",
       "      <td>1.0</td>\n",
       "      <td>1.0</td>\n",
       "    </tr>\n",
       "    <tr>\n",
       "      <th>1</th>\n",
       "      <td>1.0</td>\n",
       "      <td>0.0</td>\n",
       "      <td>1.0</td>\n",
       "    </tr>\n",
       "    <tr>\n",
       "      <th>2</th>\n",
       "      <td>1.0</td>\n",
       "      <td>1.0</td>\n",
       "      <td>1.0</td>\n",
       "    </tr>\n",
       "    <tr>\n",
       "      <th>3</th>\n",
       "      <td>1.0</td>\n",
       "      <td>1.0</td>\n",
       "      <td>1.0</td>\n",
       "    </tr>\n",
       "    <tr>\n",
       "      <th>4</th>\n",
       "      <td>0.0</td>\n",
       "      <td>0.0</td>\n",
       "      <td>0.0</td>\n",
       "    </tr>\n",
       "  </tbody>\n",
       "</table>\n",
       "</div>"
      ],
      "text/plain": [
       "    C2   C3   C4\n",
       "0  1.0  1.0  1.0\n",
       "1  1.0  0.0  1.0\n",
       "2  1.0  1.0  1.0\n",
       "3  1.0  1.0  1.0\n",
       "4  0.0  0.0  0.0"
      ]
     },
     "execution_count": 223,
     "metadata": {},
     "output_type": "execute_result"
    }
   ],
   "source": [
    "#df2.reset_index() # 원래의 인덱스로 돌아가는 함수\n",
    "df2.reset_index(drop = True) # 리셋효과로 돌아올 예정이던 컬럼을 그냥 삭제하는 함수"
   ]
  },
  {
   "cell_type": "markdown",
   "id": "031b6982",
   "metadata": {},
   "source": [
    "### (2) 다중 인덱스"
   ]
  },
  {
   "cell_type": "code",
   "execution_count": 225,
   "id": "4917fd61",
   "metadata": {},
   "outputs": [
    {
     "data": {
      "text/html": [
       "<div>\n",
       "<style scoped>\n",
       "    .dataframe tbody tr th:only-of-type {\n",
       "        vertical-align: middle;\n",
       "    }\n",
       "\n",
       "    .dataframe tbody tr th {\n",
       "        vertical-align: top;\n",
       "    }\n",
       "\n",
       "    .dataframe thead tr th {\n",
       "        text-align: left;\n",
       "    }\n",
       "</style>\n",
       "<table border=\"1\" class=\"dataframe\">\n",
       "  <thead>\n",
       "    <tr>\n",
       "      <th>Cidx1</th>\n",
       "      <th colspan=\"2\" halign=\"left\">A</th>\n",
       "      <th colspan=\"2\" halign=\"left\">B</th>\n",
       "    </tr>\n",
       "    <tr>\n",
       "      <th>Cidx2</th>\n",
       "      <th>C1</th>\n",
       "      <th>C2</th>\n",
       "      <th>C1</th>\n",
       "      <th>C2</th>\n",
       "    </tr>\n",
       "  </thead>\n",
       "  <tbody>\n",
       "    <tr>\n",
       "      <th>0</th>\n",
       "      <td>A</td>\n",
       "      <td>1.0</td>\n",
       "      <td>1.0</td>\n",
       "      <td>1.0</td>\n",
       "    </tr>\n",
       "    <tr>\n",
       "      <th>1</th>\n",
       "      <td>B</td>\n",
       "      <td>1.0</td>\n",
       "      <td>0.0</td>\n",
       "      <td>1.0</td>\n",
       "    </tr>\n",
       "    <tr>\n",
       "      <th>2</th>\n",
       "      <td>C</td>\n",
       "      <td>1.0</td>\n",
       "      <td>1.0</td>\n",
       "      <td>1.0</td>\n",
       "    </tr>\n",
       "    <tr>\n",
       "      <th>3</th>\n",
       "      <td>D</td>\n",
       "      <td>1.0</td>\n",
       "      <td>1.0</td>\n",
       "      <td>1.0</td>\n",
       "    </tr>\n",
       "    <tr>\n",
       "      <th>4</th>\n",
       "      <td>E</td>\n",
       "      <td>0.0</td>\n",
       "      <td>0.0</td>\n",
       "      <td>0.0</td>\n",
       "    </tr>\n",
       "  </tbody>\n",
       "</table>\n",
       "</div>"
      ],
      "text/plain": [
       "Cidx1  A         B     \n",
       "Cidx2 C1   C2   C1   C2\n",
       "0      A  1.0  1.0  1.0\n",
       "1      B  1.0  0.0  1.0\n",
       "2      C  1.0  1.0  1.0\n",
       "3      D  1.0  1.0  1.0\n",
       "4      E  0.0  0.0  0.0"
      ]
     },
     "execution_count": 225,
     "metadata": {},
     "output_type": "execute_result"
    }
   ],
   "source": [
    "np.random.seed(0)\n",
    "\n",
    "df1 = pd.DataFrame(np.vstack([list(\"ABCDE\"), np.round(np.random.rand(3, 5))]).T,\n",
    "                  columns=[[\"A\", \"A\", \"B\", \"B\"], [\"C1\", \"C2\", \"C1\", \"C2\"]])\n",
    "df1.columns.names = [\"Cidx1\", \"Cidx2\"]\n",
    "df1"
   ]
  },
  {
   "cell_type": "code",
   "execution_count": 232,
   "id": "2b5b89c4",
   "metadata": {},
   "outputs": [
    {
     "data": {
      "text/plain": [
       "0    1.0\n",
       "1    0.0\n",
       "Name: (B, C1), dtype: object"
      ]
     },
     "execution_count": 232,
     "metadata": {},
     "output_type": "execute_result"
    }
   ],
   "source": [
    "##### 인덱싱 # 다중컬럼의 경우 튜플로 묶어서 접근하면 된다\n",
    "\n",
    "df1[(\"A\",\"C1\")]\n",
    "df1[(\"B\",\"C1\")]\n",
    "\n",
    "df1[(\"B\", \"C1\")][0]\n",
    "df1[(\"B\", \"C1\")][0:2]\n"
   ]
  },
  {
   "cell_type": "code",
   "execution_count": 240,
   "id": "97cca8c1",
   "metadata": {},
   "outputs": [
    {
     "name": "stdout",
     "output_type": "stream",
     "text": [
      "--------------------------------\n",
      "1.0\n",
      "--------------------------------\n",
      "0    1.0\n",
      "1    0.0\n",
      "2    1.0\n",
      "3    1.0\n",
      "Name: (B, C1), dtype: object\n",
      "--------------------------------\n",
      "0    1.0\n",
      "1    0.0\n",
      "2    1.0\n",
      "Name: (B, C1), dtype: object\n"
     ]
    }
   ],
   "source": [
    "print(\"--------------------------------\")\n",
    "print(df1.loc[0, (\"B\", \"C1\")])\n",
    "print(\"--------------------------------\")\n",
    "print(df1.loc[0:3, (\"B\", \"C1\")])\n",
    "print(\"--------------------------------\")\n",
    "print(df1.iloc[0:3, 2]) # iloc로 할때 맨위의 A, B의 위치는 신경쓰지말고, c1 c2 c3 c4의 인덱스위치 0123만 생각해서 입력하면 된다."
   ]
  },
  {
   "cell_type": "code",
   "execution_count": 242,
   "id": "5cd877a4",
   "metadata": {},
   "outputs": [
    {
     "data": {
      "text/html": [
       "<div>\n",
       "<style scoped>\n",
       "    .dataframe tbody tr th:only-of-type {\n",
       "        vertical-align: middle;\n",
       "    }\n",
       "\n",
       "    .dataframe tbody tr th {\n",
       "        vertical-align: top;\n",
       "    }\n",
       "\n",
       "    .dataframe thead tr th {\n",
       "        text-align: left;\n",
       "    }\n",
       "</style>\n",
       "<table border=\"1\" class=\"dataframe\">\n",
       "  <thead>\n",
       "    <tr>\n",
       "      <th></th>\n",
       "      <th></th>\n",
       "      <th colspan=\"2\" halign=\"left\">A</th>\n",
       "      <th colspan=\"2\" halign=\"left\">B</th>\n",
       "    </tr>\n",
       "    <tr>\n",
       "      <th></th>\n",
       "      <th></th>\n",
       "      <th>C</th>\n",
       "      <th>D</th>\n",
       "      <th>C</th>\n",
       "      <th>D</th>\n",
       "    </tr>\n",
       "  </thead>\n",
       "  <tbody>\n",
       "    <tr>\n",
       "      <th rowspan=\"3\" valign=\"top\">M</th>\n",
       "      <th>id_1</th>\n",
       "      <td>0.68</td>\n",
       "      <td>0.36</td>\n",
       "      <td>0.44</td>\n",
       "      <td>0.70</td>\n",
       "    </tr>\n",
       "    <tr>\n",
       "      <th>id_2</th>\n",
       "      <td>0.06</td>\n",
       "      <td>0.67</td>\n",
       "      <td>0.67</td>\n",
       "      <td>0.21</td>\n",
       "    </tr>\n",
       "    <tr>\n",
       "      <th>id_3</th>\n",
       "      <td>0.13</td>\n",
       "      <td>0.32</td>\n",
       "      <td>0.36</td>\n",
       "      <td>0.57</td>\n",
       "    </tr>\n",
       "    <tr>\n",
       "      <th rowspan=\"3\" valign=\"top\">F</th>\n",
       "      <th>id_1</th>\n",
       "      <td>0.44</td>\n",
       "      <td>0.99</td>\n",
       "      <td>0.10</td>\n",
       "      <td>0.21</td>\n",
       "    </tr>\n",
       "    <tr>\n",
       "      <th>id_2</th>\n",
       "      <td>0.16</td>\n",
       "      <td>0.65</td>\n",
       "      <td>0.25</td>\n",
       "      <td>0.47</td>\n",
       "    </tr>\n",
       "    <tr>\n",
       "      <th>id_3</th>\n",
       "      <td>0.24</td>\n",
       "      <td>0.16</td>\n",
       "      <td>0.11</td>\n",
       "      <td>0.66</td>\n",
       "    </tr>\n",
       "  </tbody>\n",
       "</table>\n",
       "</div>"
      ],
      "text/plain": [
       "           A           B      \n",
       "           C     D     C     D\n",
       "M id_1  0.68  0.36  0.44  0.70\n",
       "  id_2  0.06  0.67  0.67  0.21\n",
       "  id_3  0.13  0.32  0.36  0.57\n",
       "F id_1  0.44  0.99  0.10  0.21\n",
       "  id_2  0.16  0.65  0.25  0.47\n",
       "  id_3  0.24  0.16  0.11  0.66"
      ]
     },
     "execution_count": 242,
     "metadata": {},
     "output_type": "execute_result"
    }
   ],
   "source": [
    "###### 다중 컬럼과 다중 인덱스를 갖는 테이블\n",
    "\n",
    "df2 = pd.DataFrame(np.random.rand(6,4).round(2),\n",
    "                  columns = [[\"A\", \"A\", \"B\", \"B\"], [\"C\", \"D\", \"C\", \"D\"]],\n",
    "                  index = [[\"M\", \"M\", \"M\", \"F\", \"F\", \"F\"], \n",
    "                           [\"id_1\", \"id_2\", \"id_3\", \"id_1\", \"id_2\", \"id_3\"]])\n",
    "df2"
   ]
  },
  {
   "cell_type": "code",
   "execution_count": 17,
   "id": "b99bb276",
   "metadata": {},
   "outputs": [
    {
     "data": {
      "text/html": [
       "<div>\n",
       "<style scoped>\n",
       "    .dataframe tbody tr th:only-of-type {\n",
       "        vertical-align: middle;\n",
       "    }\n",
       "\n",
       "    .dataframe tbody tr th {\n",
       "        vertical-align: top;\n",
       "    }\n",
       "\n",
       "    .dataframe thead tr th {\n",
       "        text-align: left;\n",
       "    }\n",
       "\n",
       "    .dataframe thead tr:last-of-type th {\n",
       "        text-align: right;\n",
       "    }\n",
       "</style>\n",
       "<table border=\"1\" class=\"dataframe\">\n",
       "  <thead>\n",
       "    <tr>\n",
       "      <th></th>\n",
       "      <th>Cidx1</th>\n",
       "      <th colspan=\"2\" halign=\"left\">A</th>\n",
       "      <th colspan=\"2\" halign=\"left\">B</th>\n",
       "    </tr>\n",
       "    <tr>\n",
       "      <th></th>\n",
       "      <th>Cidx2</th>\n",
       "      <th>C</th>\n",
       "      <th>D</th>\n",
       "      <th>C</th>\n",
       "      <th>D</th>\n",
       "    </tr>\n",
       "    <tr>\n",
       "      <th>Ridx1</th>\n",
       "      <th>Ridx2</th>\n",
       "      <th></th>\n",
       "      <th></th>\n",
       "      <th></th>\n",
       "      <th></th>\n",
       "    </tr>\n",
       "  </thead>\n",
       "  <tbody>\n",
       "    <tr>\n",
       "      <th rowspan=\"3\" valign=\"top\">M</th>\n",
       "      <th>id_1</th>\n",
       "      <td>0.77</td>\n",
       "      <td>0.77</td>\n",
       "      <td>0.26</td>\n",
       "      <td>0.75</td>\n",
       "    </tr>\n",
       "    <tr>\n",
       "      <th>id_2</th>\n",
       "      <td>0.17</td>\n",
       "      <td>0.23</td>\n",
       "      <td>0.60</td>\n",
       "      <td>0.73</td>\n",
       "    </tr>\n",
       "    <tr>\n",
       "      <th>id_3</th>\n",
       "      <td>0.48</td>\n",
       "      <td>0.74</td>\n",
       "      <td>0.76</td>\n",
       "      <td>0.46</td>\n",
       "    </tr>\n",
       "    <tr>\n",
       "      <th rowspan=\"3\" valign=\"top\">F</th>\n",
       "      <th>id_1</th>\n",
       "      <td>0.11</td>\n",
       "      <td>0.16</td>\n",
       "      <td>0.52</td>\n",
       "      <td>0.32</td>\n",
       "    </tr>\n",
       "    <tr>\n",
       "      <th>id_2</th>\n",
       "      <td>0.70</td>\n",
       "      <td>0.61</td>\n",
       "      <td>0.90</td>\n",
       "      <td>0.73</td>\n",
       "    </tr>\n",
       "    <tr>\n",
       "      <th>id_3</th>\n",
       "      <td>0.81</td>\n",
       "      <td>0.87</td>\n",
       "      <td>0.63</td>\n",
       "      <td>0.62</td>\n",
       "    </tr>\n",
       "  </tbody>\n",
       "</table>\n",
       "</div>"
      ],
      "text/plain": [
       "Cidx1           A           B      \n",
       "Cidx2           C     D     C     D\n",
       "Ridx1 Ridx2                        \n",
       "M     id_1   0.77  0.77  0.26  0.75\n",
       "      id_2   0.17  0.23  0.60  0.73\n",
       "      id_3   0.48  0.74  0.76  0.46\n",
       "F     id_1   0.11  0.16  0.52  0.32\n",
       "      id_2   0.70  0.61  0.90  0.73\n",
       "      id_3   0.81  0.87  0.63  0.62"
      ]
     },
     "execution_count": 17,
     "metadata": {},
     "output_type": "execute_result"
    }
   ],
   "source": [
    "df2 = pd.DataFrame(np.random.rand(6,4).round(2),\n",
    "                  columns = [[\"A\", \"A\", \"B\", \"B\"], [\"C\", \"D\", \"C\", \"D\"]],\n",
    "                  index = [[\"M\", \"M\", \"M\", \"F\", \"F\", \"F\"], \n",
    "                           [\"id_\" + str(i+1) for i in range(3)]*2])\n",
    "df2.columns.names = [\"Cidx1\", \"Cidx2\"]\n",
    "df2.index.names = [\"Ridx1\", \"Ridx2\"]\n",
    "df2"
   ]
  },
  {
   "cell_type": "code",
   "execution_count": 245,
   "id": "5fcaf156",
   "metadata": {},
   "outputs": [],
   "source": [
    "# 첫번째 행, 첫번째 열의 값 추출 : 0.55"
   ]
  },
  {
   "cell_type": "code",
   "execution_count": 252,
   "id": "6de079a6",
   "metadata": {},
   "outputs": [
    {
     "name": "stdout",
     "output_type": "stream",
     "text": [
      "0.09\n",
      "0.09\n"
     ]
    }
   ],
   "source": [
    "print(df2[(\"A\", \"C\")][0])\n",
    "print(df2[(\"A\", \"C\")][\"M\", \"id_1\"])"
   ]
  },
  {
   "cell_type": "code",
   "execution_count": 256,
   "id": "a043f077",
   "metadata": {},
   "outputs": [
    {
     "name": "stdout",
     "output_type": "stream",
     "text": [
      "0.09\n",
      "0.09\n",
      "0.09\n"
     ]
    }
   ],
   "source": [
    "print(df2.loc[(\"M\", \"id_1\"), (\"A\", \"C\")])\n",
    "print(df2.loc[\"M\", \"id_1\"][\"A\", \"C\"])\n",
    "print(df2.loc[\"M\"][\"A\"][\"C\"][0])"
   ]
  },
  {
   "cell_type": "code",
   "execution_count": 255,
   "id": "25f3874a",
   "metadata": {},
   "outputs": [
    {
     "name": "stdout",
     "output_type": "stream",
     "text": [
      "0.09\n",
      "0.09\n"
     ]
    }
   ],
   "source": [
    "print(df2.iloc[(0), (0)])\n",
    "print(df2.iloc[0, 0])"
   ]
  },
  {
   "cell_type": "code",
   "execution_count": 262,
   "id": "0c72b396",
   "metadata": {},
   "outputs": [
    {
     "name": "stdout",
     "output_type": "stream",
     "text": [
      "Cidx1           A           B      \n",
      "Cidx2           C     D     C     D\n",
      "Ridx1 Ridx2                        \n",
      "M     id_1   0.09  0.58  0.93  0.32\n",
      "      id_2   0.67  0.13  0.72  0.29\n",
      "      id_3   0.18  0.59  0.02  0.83\n",
      "F     id_1   0.00  0.68  0.27  0.74\n",
      "      id_2   0.96  0.25  0.58  0.59\n",
      "      id_3   0.57  0.22  0.95  0.45\n",
      "---------------------------------------\n",
      "---------------------------------------\n",
      "Ridx1           M                 F            \n",
      "Ridx2        id_1  id_2  id_3  id_1  id_2  id_3\n",
      "Cidx1 Cidx2                                    \n",
      "A     C      0.09  0.67  0.18  0.00  0.96  0.57\n",
      "      D      0.58  0.13  0.59  0.68  0.25  0.22\n",
      "B     C      0.93  0.72  0.02  0.27  0.58  0.95\n",
      "      D      0.32  0.29  0.83  0.74  0.59  0.45\n",
      "---------------------------------------\n",
      "---------------------------------------\n",
      "Cidx2                 C     D\n",
      "Ridx1 Ridx2 Cidx1            \n",
      "M     id_1  A      0.09  0.58\n",
      "            B      0.93  0.32\n",
      "      id_2  A      0.67  0.13\n",
      "            B      0.72  0.29\n",
      "      id_3  A      0.18  0.59\n",
      "            B      0.02  0.83\n",
      "F     id_1  A      0.00  0.68\n",
      "            B      0.27  0.74\n",
      "      id_2  A      0.96  0.25\n",
      "            B      0.58  0.59\n",
      "      id_3  A      0.57  0.22\n",
      "            B      0.95  0.45\n",
      "Cidx1                 A     B\n",
      "Ridx1 Ridx2 Cidx2            \n",
      "M     id_1  C      0.09  0.93\n",
      "            D      0.58  0.32\n",
      "      id_2  C      0.67  0.72\n",
      "            D      0.13  0.29\n",
      "      id_3  C      0.18  0.02\n",
      "            D      0.59  0.83\n",
      "F     id_1  C      0.00  0.27\n",
      "            D      0.68  0.74\n",
      "      id_2  C      0.96  0.58\n",
      "            D      0.25  0.59\n",
      "      id_3  C      0.57  0.95\n",
      "            D      0.22  0.45\n",
      "---------------------------------------\n",
      "---------------------------------------\n",
      "Cidx1     A                       B                  \n",
      "Cidx2     C           D           C           D      \n",
      "Ridx1     F     M     F     M     F     M     F     M\n",
      "Ridx2                                                \n",
      "id_1   0.00  0.09  0.68  0.58  0.27  0.93  0.74  0.32\n",
      "id_2   0.96  0.67  0.25  0.13  0.58  0.72  0.59  0.29\n",
      "id_3   0.57  0.18  0.22  0.59  0.95  0.02  0.45  0.83\n",
      "---------------------------------------\n",
      "---------------------------------------\n",
      "Cidx1     A                                   B                              \n",
      "Cidx2     C                 D                 C                 D            \n",
      "Ridx2  id_1  id_2  id_3  id_1  id_2  id_3  id_1  id_2  id_3  id_1  id_2  id_3\n",
      "Ridx1                                                                        \n",
      "F      0.00  0.96  0.57  0.68  0.25  0.22  0.27  0.58  0.95  0.74  0.59  0.45\n",
      "M      0.09  0.67  0.18  0.58  0.13  0.59  0.93  0.72  0.02  0.32  0.29  0.83\n"
     ]
    }
   ],
   "source": [
    "# 행 인덱스와 열 인덱스 교환 # T 안돼냐? T는 통째로(모든 인덱스) 다 바꿔서 ㄴㄴ\n",
    "# 개별적으로 각각 바꾸는 방식\n",
    "\n",
    "# stack() : 열을 행으로\n",
    "# unstack() : 행을 열로\n",
    "\n",
    "print(df2)\n",
    "print(\"---------------------------------------\")\n",
    "print(\"---------------------------------------\")\n",
    "print(df2.T)\n",
    "print(\"---------------------------------------\")\n",
    "print(\"---------------------------------------\")\n",
    "print(df2.stack(\"Cidx1\"))\n",
    "print(df2.stack(1))\n",
    "\n",
    "print(\"---------------------------------------\")\n",
    "print(\"---------------------------------------\")\n",
    "print(df2.unstack(\"Ridx1\"))\n",
    "print(\"---------------------------------------\")\n",
    "print(\"---------------------------------------\")\n",
    "print(df2.unstack(1))"
   ]
  },
  {
   "cell_type": "code",
   "execution_count": 7,
   "id": "9b773813",
   "metadata": {},
   "outputs": [
    {
     "name": "stdout",
     "output_type": "stream",
     "text": [
      "Cidx1           A           B      \n",
      "Cidx2           C     D     C     D\n",
      "Ridx1 Ridx2                        \n",
      "M     id_1   0.83  0.35  0.36  0.84\n",
      "      id_2   0.14  0.42  0.44  0.17\n",
      "      id_3   0.50  0.97  0.47  0.06\n",
      "F     id_1   0.06  0.40  0.00  0.20\n",
      "      id_2   0.38  0.29  0.19  0.58\n",
      "      id_3   0.75  0.66  0.30  0.32\n",
      "-----------------------------------------------\n"
     ]
    }
   ],
   "source": [
    "df2 = pd.DataFrame(np.random.rand(6,4).round(2),\n",
    "                  columns = [[\"A\", \"A\", \"B\", \"B\"], [\"C\", \"D\", \"C\", \"D\"]],\n",
    "                  index = [[\"M\", \"M\", \"M\", \"F\", \"F\", \"F\"], \n",
    "                           [\"id_\" + str(i+1) for i in range(3)]*2])\n",
    "df2.columns.names = [\"Cidx1\", \"Cidx2\"]\n",
    "df2.index.names = [\"Ridx1\", \"Ridx2\"]\n",
    "df2\n",
    "\n",
    "print(df2)\n",
    "print(\"-----------------------------------------------\")\n",
    "\n"
   ]
  },
  {
   "cell_type": "code",
   "execution_count": 14,
   "id": "554339f5",
   "metadata": {},
   "outputs": [
    {
     "name": "stdout",
     "output_type": "stream",
     "text": [
      "Ridx1  Ridx2\n",
      "M      id_1     0.83\n",
      "       id_2     0.14\n",
      "       id_3     0.50\n",
      "F      id_1     0.06\n",
      "       id_2     0.38\n",
      "Name: (A, C), dtype: float64\n",
      "Ridx1  Ridx2\n",
      "M      id_1     0.83\n",
      "       id_2     0.14\n",
      "       id_3     0.50\n",
      "F      id_1     0.06\n",
      "       id_2     0.38\n",
      "Name: (A, C), dtype: float64\n"
     ]
    }
   ],
   "source": [
    "# 1. 첫번째 열에 있는 0.55 ~ 0.02까지를 출력해보시오(5번째행까지)\n",
    "\n",
    "print(df2.iloc[0:5,0])\n",
    "print(df2.iloc[0:5, 0] )"
   ]
  },
  {
   "cell_type": "code",
   "execution_count": 17,
   "id": "49126a0f",
   "metadata": {},
   "outputs": [
    {
     "name": "stdout",
     "output_type": "stream",
     "text": [
      "Cidx1  Cidx2\n",
      "A      C        0.83\n",
      "       D        0.35\n",
      "B      C        0.36\n",
      "       D        0.84\n",
      "Name: (M, id_1), dtype: float64\n"
     ]
    }
   ],
   "source": [
    "# 2. 첫번째 행의 모든 컬럼 출력\n",
    "print(df2.iloc[0])"
   ]
  },
  {
   "cell_type": "code",
   "execution_count": 32,
   "id": "bbf8508a",
   "metadata": {},
   "outputs": [
    {
     "data": {
      "text/html": [
       "<div>\n",
       "<style scoped>\n",
       "    .dataframe tbody tr th:only-of-type {\n",
       "        vertical-align: middle;\n",
       "    }\n",
       "\n",
       "    .dataframe tbody tr th {\n",
       "        vertical-align: top;\n",
       "    }\n",
       "\n",
       "    .dataframe thead tr th {\n",
       "        text-align: left;\n",
       "    }\n",
       "\n",
       "    .dataframe thead tr:last-of-type th {\n",
       "        text-align: right;\n",
       "    }\n",
       "</style>\n",
       "<table border=\"1\" class=\"dataframe\">\n",
       "  <thead>\n",
       "    <tr>\n",
       "      <th></th>\n",
       "      <th>Cidx1</th>\n",
       "      <th colspan=\"2\" halign=\"left\">A</th>\n",
       "      <th colspan=\"2\" halign=\"left\">B</th>\n",
       "    </tr>\n",
       "    <tr>\n",
       "      <th></th>\n",
       "      <th>Cidx2</th>\n",
       "      <th>C</th>\n",
       "      <th>D</th>\n",
       "      <th>C</th>\n",
       "      <th>D</th>\n",
       "    </tr>\n",
       "    <tr>\n",
       "      <th>Ridx1</th>\n",
       "      <th>Ridx2</th>\n",
       "      <th></th>\n",
       "      <th></th>\n",
       "      <th></th>\n",
       "      <th></th>\n",
       "    </tr>\n",
       "  </thead>\n",
       "  <tbody>\n",
       "    <tr>\n",
       "      <th rowspan=\"3\" valign=\"top\">M</th>\n",
       "      <th>id_1</th>\n",
       "      <td>0.53</td>\n",
       "      <td>0.69</td>\n",
       "      <td>0.37</td>\n",
       "      <td>0.04</td>\n",
       "    </tr>\n",
       "    <tr>\n",
       "      <th>id_2</th>\n",
       "      <td>0.19</td>\n",
       "      <td>0.72</td>\n",
       "      <td>0.25</td>\n",
       "      <td>0.18</td>\n",
       "    </tr>\n",
       "    <tr>\n",
       "      <th>id_3</th>\n",
       "      <td>0.97</td>\n",
       "      <td>0.47</td>\n",
       "      <td>0.52</td>\n",
       "      <td>0.89</td>\n",
       "    </tr>\n",
       "    <tr>\n",
       "      <th rowspan=\"3\" valign=\"top\">F</th>\n",
       "      <th>id_1</th>\n",
       "      <td>0.17</td>\n",
       "      <td>0.61</td>\n",
       "      <td>0.15</td>\n",
       "      <td>0.36</td>\n",
       "    </tr>\n",
       "    <tr>\n",
       "      <th>id_2</th>\n",
       "      <td>0.34</td>\n",
       "      <td>0.01</td>\n",
       "      <td>0.04</td>\n",
       "      <td>0.29</td>\n",
       "    </tr>\n",
       "    <tr>\n",
       "      <th>id_3</th>\n",
       "      <td>0.29</td>\n",
       "      <td>0.09</td>\n",
       "      <td>0.79</td>\n",
       "      <td>0.07</td>\n",
       "    </tr>\n",
       "    <tr>\n",
       "      <th>ALL</th>\n",
       "      <th>ALL</th>\n",
       "      <td>7.47</td>\n",
       "      <td>7.77</td>\n",
       "      <td>6.36</td>\n",
       "      <td>5.49</td>\n",
       "    </tr>\n",
       "  </tbody>\n",
       "</table>\n",
       "</div>"
      ],
      "text/plain": [
       "Cidx1           A           B      \n",
       "Cidx2           C     D     C     D\n",
       "Ridx1 Ridx2                        \n",
       "M     id_1   0.53  0.69  0.37  0.04\n",
       "      id_2   0.19  0.72  0.25  0.18\n",
       "      id_3   0.97  0.47  0.52  0.89\n",
       "F     id_1   0.17  0.61  0.15  0.36\n",
       "      id_2   0.34  0.01  0.04  0.29\n",
       "      id_3   0.29  0.09  0.79  0.07\n",
       "ALL   ALL    7.47  7.77  6.36  5.49"
      ]
     },
     "execution_count": 32,
     "metadata": {},
     "output_type": "execute_result"
    }
   ],
   "source": [
    "# 3. 맨 마지막 행에  \"ALL\"이라는 인덱스를 추가하여 각 열의 합을 출력\n",
    "# df2.loc[\"ALL\"] = df2[:].sum() # 이렇게 하면 멀티인덱스가 ()로 하나의 각각의 인덱스로 묶여버린다. 필히 확인\n",
    "df2\n",
    "\n",
    "df2.loc[(\"ALL\", \"ALL\"), :] = df2.sum()\n",
    "df2"
   ]
  },
  {
   "cell_type": "code",
   "execution_count": 7,
   "id": "ee7cd856",
   "metadata": {},
   "outputs": [],
   "source": [
    "##### 순서 교환 : swaplevel(i, j, axis = 0)"
   ]
  },
  {
   "cell_type": "code",
   "execution_count": 33,
   "id": "3796eef3",
   "metadata": {},
   "outputs": [
    {
     "data": {
      "text/html": [
       "<div>\n",
       "<style scoped>\n",
       "    .dataframe tbody tr th:only-of-type {\n",
       "        vertical-align: middle;\n",
       "    }\n",
       "\n",
       "    .dataframe tbody tr th {\n",
       "        vertical-align: top;\n",
       "    }\n",
       "\n",
       "    .dataframe thead tr th {\n",
       "        text-align: left;\n",
       "    }\n",
       "\n",
       "    .dataframe thead tr:last-of-type th {\n",
       "        text-align: right;\n",
       "    }\n",
       "</style>\n",
       "<table border=\"1\" class=\"dataframe\">\n",
       "  <thead>\n",
       "    <tr>\n",
       "      <th></th>\n",
       "      <th>Cidx1</th>\n",
       "      <th colspan=\"2\" halign=\"left\">A</th>\n",
       "      <th colspan=\"2\" halign=\"left\">B</th>\n",
       "    </tr>\n",
       "    <tr>\n",
       "      <th></th>\n",
       "      <th>Cidx2</th>\n",
       "      <th>C</th>\n",
       "      <th>D</th>\n",
       "      <th>C</th>\n",
       "      <th>D</th>\n",
       "    </tr>\n",
       "    <tr>\n",
       "      <th>Ridx1</th>\n",
       "      <th>Ridx2</th>\n",
       "      <th></th>\n",
       "      <th></th>\n",
       "      <th></th>\n",
       "      <th></th>\n",
       "    </tr>\n",
       "  </thead>\n",
       "  <tbody>\n",
       "    <tr>\n",
       "      <th rowspan=\"3\" valign=\"top\">M</th>\n",
       "      <th>id_1</th>\n",
       "      <td>0.53</td>\n",
       "      <td>0.69</td>\n",
       "      <td>0.37</td>\n",
       "      <td>0.04</td>\n",
       "    </tr>\n",
       "    <tr>\n",
       "      <th>id_2</th>\n",
       "      <td>0.19</td>\n",
       "      <td>0.72</td>\n",
       "      <td>0.25</td>\n",
       "      <td>0.18</td>\n",
       "    </tr>\n",
       "    <tr>\n",
       "      <th>id_3</th>\n",
       "      <td>0.97</td>\n",
       "      <td>0.47</td>\n",
       "      <td>0.52</td>\n",
       "      <td>0.89</td>\n",
       "    </tr>\n",
       "    <tr>\n",
       "      <th rowspan=\"3\" valign=\"top\">F</th>\n",
       "      <th>id_1</th>\n",
       "      <td>0.17</td>\n",
       "      <td>0.61</td>\n",
       "      <td>0.15</td>\n",
       "      <td>0.36</td>\n",
       "    </tr>\n",
       "    <tr>\n",
       "      <th>id_2</th>\n",
       "      <td>0.34</td>\n",
       "      <td>0.01</td>\n",
       "      <td>0.04</td>\n",
       "      <td>0.29</td>\n",
       "    </tr>\n",
       "    <tr>\n",
       "      <th>id_3</th>\n",
       "      <td>0.29</td>\n",
       "      <td>0.09</td>\n",
       "      <td>0.79</td>\n",
       "      <td>0.07</td>\n",
       "    </tr>\n",
       "    <tr>\n",
       "      <th>ALL</th>\n",
       "      <th>ALL</th>\n",
       "      <td>7.47</td>\n",
       "      <td>7.77</td>\n",
       "      <td>6.36</td>\n",
       "      <td>5.49</td>\n",
       "    </tr>\n",
       "  </tbody>\n",
       "</table>\n",
       "</div>"
      ],
      "text/plain": [
       "Cidx1           A           B      \n",
       "Cidx2           C     D     C     D\n",
       "Ridx1 Ridx2                        \n",
       "M     id_1   0.53  0.69  0.37  0.04\n",
       "      id_2   0.19  0.72  0.25  0.18\n",
       "      id_3   0.97  0.47  0.52  0.89\n",
       "F     id_1   0.17  0.61  0.15  0.36\n",
       "      id_2   0.34  0.01  0.04  0.29\n",
       "      id_3   0.29  0.09  0.79  0.07\n",
       "ALL   ALL    7.47  7.77  6.36  5.49"
      ]
     },
     "execution_count": 33,
     "metadata": {},
     "output_type": "execute_result"
    }
   ],
   "source": [
    "df2"
   ]
  },
  {
   "cell_type": "code",
   "execution_count": 34,
   "id": "99ed60ce",
   "metadata": {},
   "outputs": [
    {
     "data": {
      "text/html": [
       "<div>\n",
       "<style scoped>\n",
       "    .dataframe tbody tr th:only-of-type {\n",
       "        vertical-align: middle;\n",
       "    }\n",
       "\n",
       "    .dataframe tbody tr th {\n",
       "        vertical-align: top;\n",
       "    }\n",
       "\n",
       "    .dataframe thead tr th {\n",
       "        text-align: left;\n",
       "    }\n",
       "\n",
       "    .dataframe thead tr:last-of-type th {\n",
       "        text-align: right;\n",
       "    }\n",
       "</style>\n",
       "<table border=\"1\" class=\"dataframe\">\n",
       "  <thead>\n",
       "    <tr>\n",
       "      <th></th>\n",
       "      <th>Cidx1</th>\n",
       "      <th colspan=\"2\" halign=\"left\">A</th>\n",
       "      <th colspan=\"2\" halign=\"left\">B</th>\n",
       "    </tr>\n",
       "    <tr>\n",
       "      <th></th>\n",
       "      <th>Cidx2</th>\n",
       "      <th>C</th>\n",
       "      <th>D</th>\n",
       "      <th>C</th>\n",
       "      <th>D</th>\n",
       "    </tr>\n",
       "    <tr>\n",
       "      <th>Ridx2</th>\n",
       "      <th>Ridx1</th>\n",
       "      <th></th>\n",
       "      <th></th>\n",
       "      <th></th>\n",
       "      <th></th>\n",
       "    </tr>\n",
       "  </thead>\n",
       "  <tbody>\n",
       "    <tr>\n",
       "      <th>id_1</th>\n",
       "      <th>M</th>\n",
       "      <td>0.53</td>\n",
       "      <td>0.69</td>\n",
       "      <td>0.37</td>\n",
       "      <td>0.04</td>\n",
       "    </tr>\n",
       "    <tr>\n",
       "      <th>id_2</th>\n",
       "      <th>M</th>\n",
       "      <td>0.19</td>\n",
       "      <td>0.72</td>\n",
       "      <td>0.25</td>\n",
       "      <td>0.18</td>\n",
       "    </tr>\n",
       "    <tr>\n",
       "      <th>id_3</th>\n",
       "      <th>M</th>\n",
       "      <td>0.97</td>\n",
       "      <td>0.47</td>\n",
       "      <td>0.52</td>\n",
       "      <td>0.89</td>\n",
       "    </tr>\n",
       "    <tr>\n",
       "      <th>id_1</th>\n",
       "      <th>F</th>\n",
       "      <td>0.17</td>\n",
       "      <td>0.61</td>\n",
       "      <td>0.15</td>\n",
       "      <td>0.36</td>\n",
       "    </tr>\n",
       "    <tr>\n",
       "      <th>id_2</th>\n",
       "      <th>F</th>\n",
       "      <td>0.34</td>\n",
       "      <td>0.01</td>\n",
       "      <td>0.04</td>\n",
       "      <td>0.29</td>\n",
       "    </tr>\n",
       "    <tr>\n",
       "      <th>id_3</th>\n",
       "      <th>F</th>\n",
       "      <td>0.29</td>\n",
       "      <td>0.09</td>\n",
       "      <td>0.79</td>\n",
       "      <td>0.07</td>\n",
       "    </tr>\n",
       "    <tr>\n",
       "      <th>ALL</th>\n",
       "      <th>ALL</th>\n",
       "      <td>7.47</td>\n",
       "      <td>7.77</td>\n",
       "      <td>6.36</td>\n",
       "      <td>5.49</td>\n",
       "    </tr>\n",
       "  </tbody>\n",
       "</table>\n",
       "</div>"
      ],
      "text/plain": [
       "Cidx1           A           B      \n",
       "Cidx2           C     D     C     D\n",
       "Ridx2 Ridx1                        \n",
       "id_1  M      0.53  0.69  0.37  0.04\n",
       "id_2  M      0.19  0.72  0.25  0.18\n",
       "id_3  M      0.97  0.47  0.52  0.89\n",
       "id_1  F      0.17  0.61  0.15  0.36\n",
       "id_2  F      0.34  0.01  0.04  0.29\n",
       "id_3  F      0.29  0.09  0.79  0.07\n",
       "ALL   ALL    7.47  7.77  6.36  5.49"
      ]
     },
     "execution_count": 34,
     "metadata": {},
     "output_type": "execute_result"
    }
   ],
   "source": [
    "df2.swaplevel(\"Ridx1\", \"Ridx2\")"
   ]
  },
  {
   "cell_type": "code",
   "execution_count": 35,
   "id": "7372364b",
   "metadata": {},
   "outputs": [
    {
     "data": {
      "text/html": [
       "<div>\n",
       "<style scoped>\n",
       "    .dataframe tbody tr th:only-of-type {\n",
       "        vertical-align: middle;\n",
       "    }\n",
       "\n",
       "    .dataframe tbody tr th {\n",
       "        vertical-align: top;\n",
       "    }\n",
       "\n",
       "    .dataframe thead tr th {\n",
       "        text-align: left;\n",
       "    }\n",
       "\n",
       "    .dataframe thead tr:last-of-type th {\n",
       "        text-align: right;\n",
       "    }\n",
       "</style>\n",
       "<table border=\"1\" class=\"dataframe\">\n",
       "  <thead>\n",
       "    <tr>\n",
       "      <th></th>\n",
       "      <th>Cidx2</th>\n",
       "      <th>C</th>\n",
       "      <th>D</th>\n",
       "      <th>C</th>\n",
       "      <th>D</th>\n",
       "    </tr>\n",
       "    <tr>\n",
       "      <th></th>\n",
       "      <th>Cidx1</th>\n",
       "      <th>A</th>\n",
       "      <th>A</th>\n",
       "      <th>B</th>\n",
       "      <th>B</th>\n",
       "    </tr>\n",
       "    <tr>\n",
       "      <th>Ridx1</th>\n",
       "      <th>Ridx2</th>\n",
       "      <th></th>\n",
       "      <th></th>\n",
       "      <th></th>\n",
       "      <th></th>\n",
       "    </tr>\n",
       "  </thead>\n",
       "  <tbody>\n",
       "    <tr>\n",
       "      <th rowspan=\"3\" valign=\"top\">M</th>\n",
       "      <th>id_1</th>\n",
       "      <td>0.53</td>\n",
       "      <td>0.69</td>\n",
       "      <td>0.37</td>\n",
       "      <td>0.04</td>\n",
       "    </tr>\n",
       "    <tr>\n",
       "      <th>id_2</th>\n",
       "      <td>0.19</td>\n",
       "      <td>0.72</td>\n",
       "      <td>0.25</td>\n",
       "      <td>0.18</td>\n",
       "    </tr>\n",
       "    <tr>\n",
       "      <th>id_3</th>\n",
       "      <td>0.97</td>\n",
       "      <td>0.47</td>\n",
       "      <td>0.52</td>\n",
       "      <td>0.89</td>\n",
       "    </tr>\n",
       "    <tr>\n",
       "      <th rowspan=\"3\" valign=\"top\">F</th>\n",
       "      <th>id_1</th>\n",
       "      <td>0.17</td>\n",
       "      <td>0.61</td>\n",
       "      <td>0.15</td>\n",
       "      <td>0.36</td>\n",
       "    </tr>\n",
       "    <tr>\n",
       "      <th>id_2</th>\n",
       "      <td>0.34</td>\n",
       "      <td>0.01</td>\n",
       "      <td>0.04</td>\n",
       "      <td>0.29</td>\n",
       "    </tr>\n",
       "    <tr>\n",
       "      <th>id_3</th>\n",
       "      <td>0.29</td>\n",
       "      <td>0.09</td>\n",
       "      <td>0.79</td>\n",
       "      <td>0.07</td>\n",
       "    </tr>\n",
       "    <tr>\n",
       "      <th>ALL</th>\n",
       "      <th>ALL</th>\n",
       "      <td>7.47</td>\n",
       "      <td>7.77</td>\n",
       "      <td>6.36</td>\n",
       "      <td>5.49</td>\n",
       "    </tr>\n",
       "  </tbody>\n",
       "</table>\n",
       "</div>"
      ],
      "text/plain": [
       "Cidx2           C     D     C     D\n",
       "Cidx1           A     A     B     B\n",
       "Ridx1 Ridx2                        \n",
       "M     id_1   0.53  0.69  0.37  0.04\n",
       "      id_2   0.19  0.72  0.25  0.18\n",
       "      id_3   0.97  0.47  0.52  0.89\n",
       "F     id_1   0.17  0.61  0.15  0.36\n",
       "      id_2   0.34  0.01  0.04  0.29\n",
       "      id_3   0.29  0.09  0.79  0.07\n",
       "ALL   ALL    7.47  7.77  6.36  5.49"
      ]
     },
     "execution_count": 35,
     "metadata": {},
     "output_type": "execute_result"
    }
   ],
   "source": [
    "df2.swaplevel(\"Cidx1\", \"Cidx2\", axis = 1) # 세로로된 녀석들을 바꿔주는 거니 axis = 1"
   ]
  },
  {
   "cell_type": "code",
   "execution_count": 30,
   "id": "e853a99b",
   "metadata": {},
   "outputs": [
    {
     "name": "stdout",
     "output_type": "stream",
     "text": [
      "Cidx1           A           B      \n",
      "Cidx2           C     D     C     D\n",
      "Ridx1 Ridx2                        \n",
      "M     id_1   0.53  0.69  0.37  0.04\n",
      "      id_2   0.19  0.72  0.25  0.18\n",
      "      id_3   0.97  0.47  0.52  0.89\n",
      "F     id_1   0.17  0.61  0.15  0.36\n",
      "      id_2   0.34  0.01  0.04  0.29\n",
      "      id_3   0.29  0.09  0.79  0.07\n",
      "ALL   ALL    2.49  2.59  2.12  1.83\n",
      "=================================================\n",
      "Cidx1           A           B      \n",
      "Cidx2           C     D     C     D\n",
      "Ridx1 Ridx2                        \n",
      "ALL   ALL    2.49  2.59  2.12  1.83\n",
      "F     id_1   0.17  0.61  0.15  0.36\n",
      "      id_2   0.34  0.01  0.04  0.29\n",
      "      id_3   0.29  0.09  0.79  0.07\n",
      "M     id_1   0.53  0.69  0.37  0.04\n",
      "      id_2   0.19  0.72  0.25  0.18\n",
      "      id_3   0.97  0.47  0.52  0.89\n",
      "=================================================\n",
      "Cidx1           A           B      \n",
      "Cidx2           C     D     C     D\n",
      "Ridx1 Ridx2                        \n",
      "ALL   ALL    2.49  2.59  2.12  1.83\n",
      "F     id_1   0.17  0.61  0.15  0.36\n",
      "M     id_1   0.53  0.69  0.37  0.04\n",
      "F     id_2   0.34  0.01  0.04  0.29\n",
      "M     id_2   0.19  0.72  0.25  0.18\n",
      "F     id_3   0.29  0.09  0.79  0.07\n",
      "M     id_3   0.97  0.47  0.52  0.89\n"
     ]
    }
   ],
   "source": [
    "##### 정렬 : sort_index(level)\n",
    "\n",
    "print(df2)\n",
    "print(\"=================================================\")\n",
    "\n",
    "# print(df2.sort_index(level = , axis = ))\n",
    "print(df2.sort_index(level = 0, axis = 0))\n",
    "print(\"=================================================\")\n",
    "print(df2.sort_index(level = 1, axis = 0))"
   ]
  },
  {
   "cell_type": "code",
   "execution_count": 79,
   "id": "9d10bbca",
   "metadata": {},
   "outputs": [],
   "source": [
    "?df2.sort_index"
   ]
  },
  {
   "cell_type": "markdown",
   "id": "9e98016e",
   "metadata": {},
   "source": [
    "## 4. 데이터 프레임의 합성(병합)\n",
    "\n",
    "- merge() : join()과 비슷\n",
    "    - 두 데이터프레임의 공통 열 또는 인덱스를 기준으로 두 개의 테이블을 합친다.\n",
    "    - 이 때 기준이 되는 열, 행의 데이터를 key라고 한다.\n",
    "    \n",
    "- concat() \n",
    "    - 기준열을 사용하지 않고 단순히 데이터를 연결"
   ]
  },
  {
   "cell_type": "code",
   "execution_count": 51,
   "id": "71348291",
   "metadata": {},
   "outputs": [],
   "source": [
    "?pd.merge"
   ]
  },
  {
   "cell_type": "markdown",
   "id": "faa2a178",
   "metadata": {},
   "source": [
    "### (1) merge\n",
    "       - pd.merge(\n",
    "        left: 'DataFrame | Series',\n",
    "        right: 'DataFrame | Series',\n",
    "        how: 'str' = 'inner')"
   ]
  },
  {
   "cell_type": "code",
   "execution_count": 41,
   "id": "8e8b82c5",
   "metadata": {},
   "outputs": [
    {
     "name": "stdout",
     "output_type": "stream",
     "text": [
      "   고객번호   이름\n",
      "0  1001   둘리\n",
      "1  1002  도우너\n",
      "2  1003   또치\n",
      "3  1004   길동\n",
      "4  1005   희동\n",
      "5  1006  마이콜\n",
      "6  1007   영희\n",
      "=================================================================\n",
      "   고객번호      금액\n",
      "0  1001   10000\n",
      "1  1001   20000\n",
      "2  1005   15000\n",
      "3  1006    5000\n",
      "4  1008  100000\n",
      "5  1001   30000\n"
     ]
    }
   ],
   "source": [
    "df1 = pd.DataFrame({\n",
    "    \"고객번호\":[1001, 1002, 1003, 1004, 1005, 1006, 1007],\n",
    "    \"이름\":[\"둘리\", \"도우너\", \"또치\", \"길동\", \"희동\", \"마이콜\", \"영희\"]\n",
    "})\n",
    "print(df1)\n",
    "print(\"=================================================================\")\n",
    "df2 = pd.DataFrame({\n",
    "    \"고객번호\":[1001, 1001, 1005, 1006, 1008, 1001],\n",
    "    \"금액\":[10000, 20000, 15000, 5000, 100000, 30000]\n",
    "})\n",
    "print(df2)"
   ]
  },
  {
   "cell_type": "code",
   "execution_count": 48,
   "id": "1ef7654f",
   "metadata": {},
   "outputs": [
    {
     "data": {
      "text/html": [
       "<div>\n",
       "<style scoped>\n",
       "    .dataframe tbody tr th:only-of-type {\n",
       "        vertical-align: middle;\n",
       "    }\n",
       "\n",
       "    .dataframe tbody tr th {\n",
       "        vertical-align: top;\n",
       "    }\n",
       "\n",
       "    .dataframe thead th {\n",
       "        text-align: right;\n",
       "    }\n",
       "</style>\n",
       "<table border=\"1\" class=\"dataframe\">\n",
       "  <thead>\n",
       "    <tr style=\"text-align: right;\">\n",
       "      <th></th>\n",
       "      <th>고객번호</th>\n",
       "      <th>이름</th>\n",
       "      <th>금액</th>\n",
       "    </tr>\n",
       "  </thead>\n",
       "  <tbody>\n",
       "    <tr>\n",
       "      <th>0</th>\n",
       "      <td>1001</td>\n",
       "      <td>둘리</td>\n",
       "      <td>10000.0</td>\n",
       "    </tr>\n",
       "    <tr>\n",
       "      <th>1</th>\n",
       "      <td>1001</td>\n",
       "      <td>둘리</td>\n",
       "      <td>20000.0</td>\n",
       "    </tr>\n",
       "    <tr>\n",
       "      <th>2</th>\n",
       "      <td>1001</td>\n",
       "      <td>둘리</td>\n",
       "      <td>30000.0</td>\n",
       "    </tr>\n",
       "    <tr>\n",
       "      <th>3</th>\n",
       "      <td>1002</td>\n",
       "      <td>도우너</td>\n",
       "      <td>NaN</td>\n",
       "    </tr>\n",
       "    <tr>\n",
       "      <th>4</th>\n",
       "      <td>1003</td>\n",
       "      <td>또치</td>\n",
       "      <td>NaN</td>\n",
       "    </tr>\n",
       "    <tr>\n",
       "      <th>5</th>\n",
       "      <td>1004</td>\n",
       "      <td>길동</td>\n",
       "      <td>NaN</td>\n",
       "    </tr>\n",
       "    <tr>\n",
       "      <th>6</th>\n",
       "      <td>1005</td>\n",
       "      <td>희동</td>\n",
       "      <td>15000.0</td>\n",
       "    </tr>\n",
       "    <tr>\n",
       "      <th>7</th>\n",
       "      <td>1006</td>\n",
       "      <td>마이콜</td>\n",
       "      <td>5000.0</td>\n",
       "    </tr>\n",
       "    <tr>\n",
       "      <th>8</th>\n",
       "      <td>1007</td>\n",
       "      <td>영희</td>\n",
       "      <td>NaN</td>\n",
       "    </tr>\n",
       "    <tr>\n",
       "      <th>9</th>\n",
       "      <td>1008</td>\n",
       "      <td>NaN</td>\n",
       "      <td>100000.0</td>\n",
       "    </tr>\n",
       "  </tbody>\n",
       "</table>\n",
       "</div>"
      ],
      "text/plain": [
       "   고객번호   이름        금액\n",
       "0  1001   둘리   10000.0\n",
       "1  1001   둘리   20000.0\n",
       "2  1001   둘리   30000.0\n",
       "3  1002  도우너       NaN\n",
       "4  1003   또치       NaN\n",
       "5  1004   길동       NaN\n",
       "6  1005   희동   15000.0\n",
       "7  1006  마이콜    5000.0\n",
       "8  1007   영희       NaN\n",
       "9  1008  NaN  100000.0"
      ]
     },
     "execution_count": 48,
     "metadata": {},
     "output_type": "execute_result"
    }
   ],
   "source": [
    "pd.merge(df1, df2) # 똑같이 존재하는 고객번호를 기준으로 합쳤다. # 기본 = inner join\n",
    "pd.merge(df1, df2, how =\"left\") # left join\n",
    "pd.merge(df1, df2, how =\"right\") # right join\n",
    "pd.merge(df1, df2, how =\"outer\") # full outer join"
   ]
  },
  {
   "cell_type": "code",
   "execution_count": 49,
   "id": "aff29d27",
   "metadata": {},
   "outputs": [
    {
     "name": "stdout",
     "output_type": "stream",
     "text": [
      "  고객명          날짜     데이터\n",
      "0  춘향  2019-01-01   20000\n",
      "1  춘향  2019-01-02   30000\n",
      "2  몽룡  2019-01-03  100000\n",
      "------------------------------\n",
      "  고객명 데이터\n",
      "0  춘향  여자\n",
      "1  몽룡  남자\n"
     ]
    }
   ],
   "source": [
    "df1 = pd.DataFrame({\n",
    "    \"고객명\":[\"춘향\", \"춘향\", \"몽룡\"],\n",
    "    \"날짜\":[\"2019-01-01\", \"2019-01-02\", \"2019-01-03\"], \n",
    "    \"데이터\":[\"20000\", \"30000\", \"100000\"]\n",
    "})\n",
    "\n",
    "df2 = pd.DataFrame({\n",
    "    \"고객명\":[\"춘향\", \"몽룡\"],\n",
    "    \"데이터\":[\"여자\", \"남자\"]\n",
    "})\n",
    "\n",
    "print(df1)\n",
    "print(\"------------------------------\")\n",
    "print(df2)\n",
    "\n",
    "# 공통된 값을 가진? 키로 쓸 수 있는 값이 고객명과 데이터 2가지인 상황"
   ]
  },
  {
   "cell_type": "code",
   "execution_count": 53,
   "id": "0cddfd3b",
   "metadata": {},
   "outputs": [
    {
     "data": {
      "text/html": [
       "<div>\n",
       "<style scoped>\n",
       "    .dataframe tbody tr th:only-of-type {\n",
       "        vertical-align: middle;\n",
       "    }\n",
       "\n",
       "    .dataframe tbody tr th {\n",
       "        vertical-align: top;\n",
       "    }\n",
       "\n",
       "    .dataframe thead th {\n",
       "        text-align: right;\n",
       "    }\n",
       "</style>\n",
       "<table border=\"1\" class=\"dataframe\">\n",
       "  <thead>\n",
       "    <tr style=\"text-align: right;\">\n",
       "      <th></th>\n",
       "      <th>고객명</th>\n",
       "      <th>날짜</th>\n",
       "      <th>데이터_x</th>\n",
       "      <th>데이터_y</th>\n",
       "    </tr>\n",
       "  </thead>\n",
       "  <tbody>\n",
       "    <tr>\n",
       "      <th>0</th>\n",
       "      <td>춘향</td>\n",
       "      <td>2019-01-01</td>\n",
       "      <td>20000</td>\n",
       "      <td>여자</td>\n",
       "    </tr>\n",
       "    <tr>\n",
       "      <th>1</th>\n",
       "      <td>춘향</td>\n",
       "      <td>2019-01-02</td>\n",
       "      <td>30000</td>\n",
       "      <td>여자</td>\n",
       "    </tr>\n",
       "    <tr>\n",
       "      <th>2</th>\n",
       "      <td>몽룡</td>\n",
       "      <td>2019-01-03</td>\n",
       "      <td>100000</td>\n",
       "      <td>남자</td>\n",
       "    </tr>\n",
       "  </tbody>\n",
       "</table>\n",
       "</div>"
      ],
      "text/plain": [
       "  고객명          날짜   데이터_x 데이터_y\n",
       "0  춘향  2019-01-01   20000    여자\n",
       "1  춘향  2019-01-02   30000    여자\n",
       "2  몽룡  2019-01-03  100000    남자"
      ]
     },
     "execution_count": 53,
     "metadata": {},
     "output_type": "execute_result"
    }
   ],
   "source": [
    "pd.merge(df1, df2, on = \"고객명\") # 고객명을 키로 df1, df2를 묶어줌"
   ]
  },
  {
   "cell_type": "code",
   "execution_count": 55,
   "id": "38ccb110",
   "metadata": {},
   "outputs": [
    {
     "name": "stdout",
     "output_type": "stream",
     "text": [
      "   이름  성적\n",
      "0  영희   1\n",
      "1  철수   2\n",
      "2  철수   3\n",
      "------------------------------\n",
      "   성명  점수\n",
      "0  영희   4\n",
      "1  영희   5\n",
      "2  철수   6\n",
      "==============================\n"
     ]
    },
    {
     "data": {
      "text/html": [
       "<div>\n",
       "<style scoped>\n",
       "    .dataframe tbody tr th:only-of-type {\n",
       "        vertical-align: middle;\n",
       "    }\n",
       "\n",
       "    .dataframe tbody tr th {\n",
       "        vertical-align: top;\n",
       "    }\n",
       "\n",
       "    .dataframe thead th {\n",
       "        text-align: right;\n",
       "    }\n",
       "</style>\n",
       "<table border=\"1\" class=\"dataframe\">\n",
       "  <thead>\n",
       "    <tr style=\"text-align: right;\">\n",
       "      <th></th>\n",
       "      <th>이름</th>\n",
       "      <th>성적</th>\n",
       "      <th>성명</th>\n",
       "      <th>점수</th>\n",
       "    </tr>\n",
       "  </thead>\n",
       "  <tbody>\n",
       "    <tr>\n",
       "      <th>0</th>\n",
       "      <td>영희</td>\n",
       "      <td>1</td>\n",
       "      <td>영희</td>\n",
       "      <td>4</td>\n",
       "    </tr>\n",
       "    <tr>\n",
       "      <th>1</th>\n",
       "      <td>영희</td>\n",
       "      <td>1</td>\n",
       "      <td>영희</td>\n",
       "      <td>5</td>\n",
       "    </tr>\n",
       "    <tr>\n",
       "      <th>2</th>\n",
       "      <td>철수</td>\n",
       "      <td>2</td>\n",
       "      <td>철수</td>\n",
       "      <td>6</td>\n",
       "    </tr>\n",
       "    <tr>\n",
       "      <th>3</th>\n",
       "      <td>철수</td>\n",
       "      <td>3</td>\n",
       "      <td>철수</td>\n",
       "      <td>6</td>\n",
       "    </tr>\n",
       "  </tbody>\n",
       "</table>\n",
       "</div>"
      ],
      "text/plain": [
       "   이름  성적  성명  점수\n",
       "0  영희   1  영희   4\n",
       "1  영희   1  영희   5\n",
       "2  철수   2  철수   6\n",
       "3  철수   3  철수   6"
      ]
     },
     "execution_count": 55,
     "metadata": {},
     "output_type": "execute_result"
    }
   ],
   "source": [
    "##### 공통된 키가 없는 경우\n",
    "\n",
    "df1 = pd.DataFrame({\n",
    "    \"이름\":[\"영희\", \"철수\", \"철수\"],\n",
    "    \"성적\":[1, 2, 3]\n",
    "})\n",
    "\n",
    "df2 = pd.DataFrame({\n",
    "    \"성명\":[\"영희\", \"영희\", \"철수\"],\n",
    "    \"점수\":[4, 5, 6]\n",
    "})\n",
    "\n",
    "print(df1)\n",
    "print(\"------------------------------\")\n",
    "print(df2)\n",
    "\n",
    "\n",
    "print(\"==============================\")\n",
    "\n",
    "pd.merge(df1, df2, left_on=\"이름\", right_on = \"성명\") # 키 값을 일치시켜줌"
   ]
  },
  {
   "cell_type": "code",
   "execution_count": 57,
   "id": "e38d3928",
   "metadata": {},
   "outputs": [
    {
     "name": "stdout",
     "output_type": "stream",
     "text": [
      "   도시    연도       인구\n",
      "0  서울  2000  9853972\n",
      "1  서울  2005  9762546\n",
      "2  서울  2010  9631482\n",
      "3  부산  2000  3655437\n",
      "4  부산  2005  3512547\n",
      "------------------------------\n",
      "         데이터1  데이터2\n",
      "부산 2000     0     1\n",
      "   2005     2     3\n",
      "서울 2000     4     5\n",
      "   2005     6     7\n",
      "   2010     8     9\n",
      "   2015    10    11\n",
      "------------------------------\n"
     ]
    },
    {
     "data": {
      "text/html": [
       "<div>\n",
       "<style scoped>\n",
       "    .dataframe tbody tr th:only-of-type {\n",
       "        vertical-align: middle;\n",
       "    }\n",
       "\n",
       "    .dataframe tbody tr th {\n",
       "        vertical-align: top;\n",
       "    }\n",
       "\n",
       "    .dataframe thead th {\n",
       "        text-align: right;\n",
       "    }\n",
       "</style>\n",
       "<table border=\"1\" class=\"dataframe\">\n",
       "  <thead>\n",
       "    <tr style=\"text-align: right;\">\n",
       "      <th></th>\n",
       "      <th>도시</th>\n",
       "      <th>연도</th>\n",
       "      <th>인구</th>\n",
       "      <th>데이터1</th>\n",
       "      <th>데이터2</th>\n",
       "    </tr>\n",
       "  </thead>\n",
       "  <tbody>\n",
       "    <tr>\n",
       "      <th>0</th>\n",
       "      <td>서울</td>\n",
       "      <td>2000</td>\n",
       "      <td>9853972</td>\n",
       "      <td>4</td>\n",
       "      <td>5</td>\n",
       "    </tr>\n",
       "    <tr>\n",
       "      <th>1</th>\n",
       "      <td>서울</td>\n",
       "      <td>2005</td>\n",
       "      <td>9762546</td>\n",
       "      <td>6</td>\n",
       "      <td>7</td>\n",
       "    </tr>\n",
       "    <tr>\n",
       "      <th>2</th>\n",
       "      <td>서울</td>\n",
       "      <td>2010</td>\n",
       "      <td>9631482</td>\n",
       "      <td>8</td>\n",
       "      <td>9</td>\n",
       "    </tr>\n",
       "    <tr>\n",
       "      <th>3</th>\n",
       "      <td>부산</td>\n",
       "      <td>2000</td>\n",
       "      <td>3655437</td>\n",
       "      <td>0</td>\n",
       "      <td>1</td>\n",
       "    </tr>\n",
       "    <tr>\n",
       "      <th>4</th>\n",
       "      <td>부산</td>\n",
       "      <td>2005</td>\n",
       "      <td>3512547</td>\n",
       "      <td>2</td>\n",
       "      <td>3</td>\n",
       "    </tr>\n",
       "  </tbody>\n",
       "</table>\n",
       "</div>"
      ],
      "text/plain": [
       "   도시    연도       인구  데이터1  데이터2\n",
       "0  서울  2000  9853972     4     5\n",
       "1  서울  2005  9762546     6     7\n",
       "2  서울  2010  9631482     8     9\n",
       "3  부산  2000  3655437     0     1\n",
       "4  부산  2005  3512547     2     3"
      ]
     },
     "execution_count": 57,
     "metadata": {},
     "output_type": "execute_result"
    }
   ],
   "source": [
    "############  키로 묶어주고 싶은데 한쪽은 컬럼, 한쪽은 인덱스인 경우\n",
    "# 인덱스를 기준 열로 사용하는 경우(한쪽은 컬럼, 한쪽은 인덱스)\n",
    "\n",
    "df1 = pd.DataFrame({\n",
    "    '도시': ['서울', '서울', '서울', '부산', '부산'],\n",
    "    '연도': [2000, 2005, 2010, 2000, 2005],\n",
    "    '인구': [9853972, 9762546, 9631482, 3655437, 3512547]})\n",
    "print(df1)\n",
    "print(\"------------------------------\")\n",
    "\n",
    "\n",
    "df2 = pd.DataFrame(\n",
    "    np.arange(12).reshape((6, 2)),\n",
    "    index=[['부산', '부산', '서울', '서울', '서울', '서울'],\n",
    "           [2000, 2005, 2000, 2005, 2010, 2015]],\n",
    "    columns=['데이터1', '데이터2'])\n",
    "print(df2)\n",
    "print(\"------------------------------\")\n",
    "df2\n",
    "\n",
    "pd.merge(df1, df2, left_on = [\"도시\", \"연도\"], right_index=True) \n",
    "# df2에는 이중 인덱스를 사용중이므로 df1의 값 2개를 키를 리스트로 설정\n",
    "# 오른쪽에는 다중인덱스이든 아니든 인덱스가 있냐 없냐만 따져서, index = True로 조건을 설정\n"
   ]
  },
  {
   "cell_type": "code",
   "execution_count": 63,
   "id": "cf7642c5",
   "metadata": {},
   "outputs": [
    {
     "name": "stdout",
     "output_type": "stream",
     "text": [
      "    서울   부산\n",
      "a  1.0  2.0\n",
      "c  3.0  4.0\n",
      "e  5.0  6.0\n",
      "------------------------------\n",
      "     대구    광주\n",
      "b   7.0   8.0\n",
      "c   9.0  10.0\n",
      "d  11.0  12.0\n",
      "e  13.0  14.0\n",
      "========================================\n"
     ]
    },
    {
     "data": {
      "text/html": [
       "<div>\n",
       "<style scoped>\n",
       "    .dataframe tbody tr th:only-of-type {\n",
       "        vertical-align: middle;\n",
       "    }\n",
       "\n",
       "    .dataframe tbody tr th {\n",
       "        vertical-align: top;\n",
       "    }\n",
       "\n",
       "    .dataframe thead th {\n",
       "        text-align: right;\n",
       "    }\n",
       "</style>\n",
       "<table border=\"1\" class=\"dataframe\">\n",
       "  <thead>\n",
       "    <tr style=\"text-align: right;\">\n",
       "      <th></th>\n",
       "      <th>서울</th>\n",
       "      <th>부산</th>\n",
       "      <th>대구</th>\n",
       "      <th>광주</th>\n",
       "    </tr>\n",
       "  </thead>\n",
       "  <tbody>\n",
       "    <tr>\n",
       "      <th>c</th>\n",
       "      <td>3.0</td>\n",
       "      <td>4.0</td>\n",
       "      <td>9.0</td>\n",
       "      <td>10.0</td>\n",
       "    </tr>\n",
       "    <tr>\n",
       "      <th>e</th>\n",
       "      <td>5.0</td>\n",
       "      <td>6.0</td>\n",
       "      <td>13.0</td>\n",
       "      <td>14.0</td>\n",
       "    </tr>\n",
       "  </tbody>\n",
       "</table>\n",
       "</div>"
      ],
      "text/plain": [
       "    서울   부산    대구    광주\n",
       "c  3.0  4.0   9.0  10.0\n",
       "e  5.0  6.0  13.0  14.0"
      ]
     },
     "execution_count": 63,
     "metadata": {},
     "output_type": "execute_result"
    }
   ],
   "source": [
    "################ 인덱스를 기준 열로 사용하는 경우(둘 다 인덱스인 경우)\n",
    "\n",
    "df1 = pd.DataFrame(\n",
    "    [[1., 2.], [3., 4.], [5., 6.]],\n",
    "    index=['a', 'c', 'e'],\n",
    "    columns=['서울', '부산'])\n",
    "print(df1)\n",
    "print(\"------------------------------\")\n",
    "\n",
    "\n",
    "df2 = pd.DataFrame(\n",
    "    [[7., 8.], [9., 10.], [11., 12.], [13, 14]],\n",
    "    index=['b', 'c', 'd', 'e'],\n",
    "    columns=['대구', '광주'])\n",
    "print(df2)\n",
    "print(\"========================================\")\n",
    "\n",
    "pd.merge(df1, df2, left_index=True, right_index=True, how = \"outer\")\n",
    "\n",
    "# merge 대신에 join 함수를 사용가능\n",
    "\n",
    "df1.join(df2) # 기본 값이 left outer join\n",
    "df1.join(df2, how=\"inner\")"
   ]
  },
  {
   "cell_type": "code",
   "execution_count": 71,
   "id": "83672cf5",
   "metadata": {},
   "outputs": [
    {
     "name": "stdout",
     "output_type": "stream",
     "text": [
      "Object `pd.join` not found.\n"
     ]
    }
   ],
   "source": [
    "?df1.join"
   ]
  },
  {
   "cell_type": "markdown",
   "id": "7a6961d4",
   "metadata": {},
   "source": [
    "### (2) concat()\n",
    "\n",
    "#### 1) Series에서 사용"
   ]
  },
  {
   "cell_type": "code",
   "execution_count": 81,
   "id": "aee53ef5",
   "metadata": {},
   "outputs": [
    {
     "name": "stdout",
     "output_type": "stream",
     "text": [
      "A    0\n",
      "B    1\n",
      "dtype: int64\n",
      "A    2\n",
      "B    3\n",
      "C    4\n",
      "dtype: int64\n",
      "======================================\n"
     ]
    }
   ],
   "source": [
    "s1 = pd.Series([0, 1], index = [\"A\", \"B\"])\n",
    "s2 = pd.Series([2, 3, 4], index = [\"A\", \"B\", \"C\"])\n",
    "\n",
    "print(s1)\n",
    "print(s2)\n",
    "print(\"======================================\")"
   ]
  },
  {
   "cell_type": "code",
   "execution_count": 82,
   "id": "686626f6",
   "metadata": {},
   "outputs": [],
   "source": [
    "?pd.concat"
   ]
  },
  {
   "cell_type": "code",
   "execution_count": 83,
   "id": "63fc8ec5",
   "metadata": {},
   "outputs": [
    {
     "data": {
      "text/plain": [
       "A    0\n",
       "B    1\n",
       "A    2\n",
       "B    3\n",
       "C    4\n",
       "dtype: int64"
      ]
     },
     "execution_count": 83,
     "metadata": {},
     "output_type": "execute_result"
    }
   ],
   "source": [
    "pd.concat([s1, s2])"
   ]
  },
  {
   "cell_type": "markdown",
   "id": "bac49abc",
   "metadata": {},
   "source": [
    "### (2) DataFrame에서 사용"
   ]
  },
  {
   "cell_type": "code",
   "execution_count": 87,
   "id": "60d0a950",
   "metadata": {},
   "outputs": [
    {
     "name": "stdout",
     "output_type": "stream",
     "text": [
      "   데이터1  데이터2\n",
      "a     0     1\n",
      "b     2     3\n",
      "c     4     5\n",
      "=============================================\n",
      "   데이터3  데이터4\n",
      "a     0     1\n",
      "c     2     3\n"
     ]
    }
   ],
   "source": [
    "np.random.seed(1)\n",
    "\n",
    "df1 = pd.DataFrame(np.arange(6).reshape(3,2),\n",
    "                  index=['a', 'b', 'c'],\n",
    "                  columns=['데이터1', '데이터2'])\n",
    "print(df1)\n",
    "\n",
    "print(\"=============================================\")\n",
    "\n",
    "np.random.seed(1)\n",
    "\n",
    "df2 = pd.DataFrame(np.arange(4).reshape(2,2),\n",
    "                  index=['a', 'c'],\n",
    "                  columns=['데이터3', '데이터4'])\n",
    "print(df2)"
   ]
  },
  {
   "cell_type": "code",
   "execution_count": 89,
   "id": "f63ac643",
   "metadata": {},
   "outputs": [
    {
     "data": {
      "text/html": [
       "<div>\n",
       "<style scoped>\n",
       "    .dataframe tbody tr th:only-of-type {\n",
       "        vertical-align: middle;\n",
       "    }\n",
       "\n",
       "    .dataframe tbody tr th {\n",
       "        vertical-align: top;\n",
       "    }\n",
       "\n",
       "    .dataframe thead th {\n",
       "        text-align: right;\n",
       "    }\n",
       "</style>\n",
       "<table border=\"1\" class=\"dataframe\">\n",
       "  <thead>\n",
       "    <tr style=\"text-align: right;\">\n",
       "      <th></th>\n",
       "      <th>데이터1</th>\n",
       "      <th>데이터2</th>\n",
       "      <th>데이터3</th>\n",
       "      <th>데이터4</th>\n",
       "    </tr>\n",
       "  </thead>\n",
       "  <tbody>\n",
       "    <tr>\n",
       "      <th>a</th>\n",
       "      <td>0</td>\n",
       "      <td>1</td>\n",
       "      <td>0.0</td>\n",
       "      <td>1.0</td>\n",
       "    </tr>\n",
       "    <tr>\n",
       "      <th>b</th>\n",
       "      <td>2</td>\n",
       "      <td>3</td>\n",
       "      <td>NaN</td>\n",
       "      <td>NaN</td>\n",
       "    </tr>\n",
       "    <tr>\n",
       "      <th>c</th>\n",
       "      <td>4</td>\n",
       "      <td>5</td>\n",
       "      <td>2.0</td>\n",
       "      <td>3.0</td>\n",
       "    </tr>\n",
       "  </tbody>\n",
       "</table>\n",
       "</div>"
      ],
      "text/plain": [
       "   데이터1  데이터2  데이터3  데이터4\n",
       "a     0     1   0.0   1.0\n",
       "b     2     3   NaN   NaN\n",
       "c     4     5   2.0   3.0"
      ]
     },
     "execution_count": 89,
     "metadata": {},
     "output_type": "execute_result"
    }
   ],
   "source": [
    "pd.concat([df1, df2], axis=1)"
   ]
  },
  {
   "cell_type": "code",
   "execution_count": 90,
   "id": "fb6d0daa",
   "metadata": {},
   "outputs": [
    {
     "data": {
      "text/html": [
       "<div>\n",
       "<style scoped>\n",
       "    .dataframe tbody tr th:only-of-type {\n",
       "        vertical-align: middle;\n",
       "    }\n",
       "\n",
       "    .dataframe tbody tr th {\n",
       "        vertical-align: top;\n",
       "    }\n",
       "\n",
       "    .dataframe thead th {\n",
       "        text-align: right;\n",
       "    }\n",
       "</style>\n",
       "<table border=\"1\" class=\"dataframe\">\n",
       "  <thead>\n",
       "    <tr style=\"text-align: right;\">\n",
       "      <th></th>\n",
       "      <th>데이터1</th>\n",
       "      <th>데이터2</th>\n",
       "      <th>데이터3</th>\n",
       "      <th>데이터4</th>\n",
       "    </tr>\n",
       "  </thead>\n",
       "  <tbody>\n",
       "    <tr>\n",
       "      <th>a</th>\n",
       "      <td>0.0</td>\n",
       "      <td>1.0</td>\n",
       "      <td>NaN</td>\n",
       "      <td>NaN</td>\n",
       "    </tr>\n",
       "    <tr>\n",
       "      <th>b</th>\n",
       "      <td>2.0</td>\n",
       "      <td>3.0</td>\n",
       "      <td>NaN</td>\n",
       "      <td>NaN</td>\n",
       "    </tr>\n",
       "    <tr>\n",
       "      <th>c</th>\n",
       "      <td>4.0</td>\n",
       "      <td>5.0</td>\n",
       "      <td>NaN</td>\n",
       "      <td>NaN</td>\n",
       "    </tr>\n",
       "    <tr>\n",
       "      <th>a</th>\n",
       "      <td>NaN</td>\n",
       "      <td>NaN</td>\n",
       "      <td>0.0</td>\n",
       "      <td>1.0</td>\n",
       "    </tr>\n",
       "    <tr>\n",
       "      <th>c</th>\n",
       "      <td>NaN</td>\n",
       "      <td>NaN</td>\n",
       "      <td>2.0</td>\n",
       "      <td>3.0</td>\n",
       "    </tr>\n",
       "  </tbody>\n",
       "</table>\n",
       "</div>"
      ],
      "text/plain": [
       "   데이터1  데이터2  데이터3  데이터4\n",
       "a   0.0   1.0   NaN   NaN\n",
       "b   2.0   3.0   NaN   NaN\n",
       "c   4.0   5.0   NaN   NaN\n",
       "a   NaN   NaN   0.0   1.0\n",
       "c   NaN   NaN   2.0   3.0"
      ]
     },
     "execution_count": 90,
     "metadata": {},
     "output_type": "execute_result"
    }
   ],
   "source": [
    "pd.concat([df1, df2], axis=0)"
   ]
  },
  {
   "cell_type": "markdown",
   "id": "b2ec8375",
   "metadata": {},
   "source": [
    "### 5. 그룹 분석\n",
    "\n",
    "- pivot()\n",
    "    - index=None, columns=None, values=None\n",
    "\n",
    "- groupby()\n",
    "    - by=None, axis=0, level=None, as_index=True, sort=True, group_keys=_NoDefault.no_default, squeeze=_NoDefault.no_default, observed=False, dropna=True\n",
    "\n",
    "- pivot_table()\n",
    "    - values=None, index=None, columns=None, aggfunc='mean', fill_value=None, margins=False, dropna=True, margins_name='All', observed=False, sort=True\n"
   ]
  },
  {
   "cell_type": "markdown",
   "id": "72f94d95",
   "metadata": {},
   "source": [
    "### (1) pivot()"
   ]
  },
  {
   "cell_type": "code",
   "execution_count": 91,
   "id": "bafa7315",
   "metadata": {},
   "outputs": [
    {
     "data": {
      "text/html": [
       "<div>\n",
       "<style scoped>\n",
       "    .dataframe tbody tr th:only-of-type {\n",
       "        vertical-align: middle;\n",
       "    }\n",
       "\n",
       "    .dataframe tbody tr th {\n",
       "        vertical-align: top;\n",
       "    }\n",
       "\n",
       "    .dataframe thead th {\n",
       "        text-align: right;\n",
       "    }\n",
       "</style>\n",
       "<table border=\"1\" class=\"dataframe\">\n",
       "  <thead>\n",
       "    <tr style=\"text-align: right;\">\n",
       "      <th></th>\n",
       "      <th>도시</th>\n",
       "      <th>연도</th>\n",
       "      <th>인구</th>\n",
       "      <th>지역</th>\n",
       "    </tr>\n",
       "  </thead>\n",
       "  <tbody>\n",
       "    <tr>\n",
       "      <th>0</th>\n",
       "      <td>서울</td>\n",
       "      <td>2015</td>\n",
       "      <td>9904312</td>\n",
       "      <td>수도권</td>\n",
       "    </tr>\n",
       "    <tr>\n",
       "      <th>1</th>\n",
       "      <td>서울</td>\n",
       "      <td>2010</td>\n",
       "      <td>9631482</td>\n",
       "      <td>수도권</td>\n",
       "    </tr>\n",
       "    <tr>\n",
       "      <th>2</th>\n",
       "      <td>서울</td>\n",
       "      <td>2005</td>\n",
       "      <td>9762546</td>\n",
       "      <td>수도권</td>\n",
       "    </tr>\n",
       "    <tr>\n",
       "      <th>3</th>\n",
       "      <td>부산</td>\n",
       "      <td>2015</td>\n",
       "      <td>3448737</td>\n",
       "      <td>경상권</td>\n",
       "    </tr>\n",
       "    <tr>\n",
       "      <th>4</th>\n",
       "      <td>부산</td>\n",
       "      <td>2010</td>\n",
       "      <td>3393191</td>\n",
       "      <td>경상권</td>\n",
       "    </tr>\n",
       "    <tr>\n",
       "      <th>5</th>\n",
       "      <td>부산</td>\n",
       "      <td>2005</td>\n",
       "      <td>3512547</td>\n",
       "      <td>경상권</td>\n",
       "    </tr>\n",
       "    <tr>\n",
       "      <th>6</th>\n",
       "      <td>인천</td>\n",
       "      <td>2015</td>\n",
       "      <td>2890451</td>\n",
       "      <td>수도권</td>\n",
       "    </tr>\n",
       "    <tr>\n",
       "      <th>7</th>\n",
       "      <td>인천</td>\n",
       "      <td>2010</td>\n",
       "      <td>263203</td>\n",
       "      <td>수도권</td>\n",
       "    </tr>\n",
       "  </tbody>\n",
       "</table>\n",
       "</div>"
      ],
      "text/plain": [
       "   도시    연도       인구   지역\n",
       "0  서울  2015  9904312  수도권\n",
       "1  서울  2010  9631482  수도권\n",
       "2  서울  2005  9762546  수도권\n",
       "3  부산  2015  3448737  경상권\n",
       "4  부산  2010  3393191  경상권\n",
       "5  부산  2005  3512547  경상권\n",
       "6  인천  2015  2890451  수도권\n",
       "7  인천  2010   263203  수도권"
      ]
     },
     "execution_count": 91,
     "metadata": {},
     "output_type": "execute_result"
    }
   ],
   "source": [
    "data = {\n",
    "    \"도시\": [\"서울\", \"서울\", \"서울\", \"부산\", \"부산\", \"부산\", \"인천\", \"인천\"],\n",
    "    \"연도\": [\"2015\", \"2010\", \"2005\", \"2015\", \"2010\", \"2005\", \"2015\", \"2010\"],\n",
    "    \"인구\": [9904312, 9631482, 9762546, 3448737, 3393191, 3512547, 2890451, 263203],\n",
    "    \"지역\": [\"수도권\", \"수도권\", \"수도권\", \"경상권\", \"경상권\", \"경상권\", \"수도권\", \"수도권\"]\n",
    "}\n",
    "\n",
    "df = pd.DataFrame(data)\n",
    "df"
   ]
  },
  {
   "cell_type": "code",
   "execution_count": 96,
   "id": "2d28ee8e",
   "metadata": {},
   "outputs": [
    {
     "data": {
      "text/html": [
       "<div>\n",
       "<style scoped>\n",
       "    .dataframe tbody tr th:only-of-type {\n",
       "        vertical-align: middle;\n",
       "    }\n",
       "\n",
       "    .dataframe tbody tr th {\n",
       "        vertical-align: top;\n",
       "    }\n",
       "\n",
       "    .dataframe thead th {\n",
       "        text-align: right;\n",
       "    }\n",
       "</style>\n",
       "<table border=\"1\" class=\"dataframe\">\n",
       "  <thead>\n",
       "    <tr style=\"text-align: right;\">\n",
       "      <th>연도</th>\n",
       "      <th>2005</th>\n",
       "      <th>2010</th>\n",
       "      <th>2015</th>\n",
       "    </tr>\n",
       "    <tr>\n",
       "      <th>도시</th>\n",
       "      <th></th>\n",
       "      <th></th>\n",
       "      <th></th>\n",
       "    </tr>\n",
       "  </thead>\n",
       "  <tbody>\n",
       "    <tr>\n",
       "      <th>부산</th>\n",
       "      <td>3512547.0</td>\n",
       "      <td>3393191.0</td>\n",
       "      <td>3448737.0</td>\n",
       "    </tr>\n",
       "    <tr>\n",
       "      <th>서울</th>\n",
       "      <td>9762546.0</td>\n",
       "      <td>9631482.0</td>\n",
       "      <td>9904312.0</td>\n",
       "    </tr>\n",
       "    <tr>\n",
       "      <th>인천</th>\n",
       "      <td>NaN</td>\n",
       "      <td>263203.0</td>\n",
       "      <td>2890451.0</td>\n",
       "    </tr>\n",
       "  </tbody>\n",
       "</table>\n",
       "</div>"
      ],
      "text/plain": [
       "연도       2005       2010       2015\n",
       "도시                                 \n",
       "부산  3512547.0  3393191.0  3448737.0\n",
       "서울  9762546.0  9631482.0  9904312.0\n",
       "인천        NaN   263203.0  2890451.0"
      ]
     },
     "execution_count": 96,
     "metadata": {},
     "output_type": "execute_result"
    }
   ],
   "source": [
    "### 각 도시에서 연도별로 인구수를 알고싶다. # 인덱스 - 컬럼 - 벨류 를 정하는 것으로 원하는대로 다시 꾸며줄 수 있다.\n",
    "\n",
    "df.pivot(index=\"도시\", columns=\"연도\", values=\"인구\")"
   ]
  },
  {
   "cell_type": "code",
   "execution_count": 95,
   "id": "5cd3c8f0",
   "metadata": {},
   "outputs": [
    {
     "data": {
      "text/html": [
       "<div>\n",
       "<style scoped>\n",
       "    .dataframe tbody tr th:only-of-type {\n",
       "        vertical-align: middle;\n",
       "    }\n",
       "\n",
       "    .dataframe tbody tr th {\n",
       "        vertical-align: top;\n",
       "    }\n",
       "\n",
       "    .dataframe thead th {\n",
       "        text-align: right;\n",
       "    }\n",
       "</style>\n",
       "<table border=\"1\" class=\"dataframe\">\n",
       "  <thead>\n",
       "    <tr style=\"text-align: right;\">\n",
       "      <th>연도</th>\n",
       "      <th>2005</th>\n",
       "      <th>2010</th>\n",
       "      <th>2015</th>\n",
       "    </tr>\n",
       "    <tr>\n",
       "      <th>도시</th>\n",
       "      <th></th>\n",
       "      <th></th>\n",
       "      <th></th>\n",
       "    </tr>\n",
       "  </thead>\n",
       "  <tbody>\n",
       "    <tr>\n",
       "      <th>부산</th>\n",
       "      <td>3512547.0</td>\n",
       "      <td>3393191.0</td>\n",
       "      <td>3448737.0</td>\n",
       "    </tr>\n",
       "    <tr>\n",
       "      <th>서울</th>\n",
       "      <td>9762546.0</td>\n",
       "      <td>9631482.0</td>\n",
       "      <td>9904312.0</td>\n",
       "    </tr>\n",
       "    <tr>\n",
       "      <th>인천</th>\n",
       "      <td>NaN</td>\n",
       "      <td>263203.0</td>\n",
       "      <td>2890451.0</td>\n",
       "    </tr>\n",
       "  </tbody>\n",
       "</table>\n",
       "</div>"
      ],
      "text/plain": [
       "연도       2005       2010       2015\n",
       "도시                                 \n",
       "부산  3512547.0  3393191.0  3448737.0\n",
       "서울  9762546.0  9631482.0  9904312.0\n",
       "인천        NaN   263203.0  2890451.0"
      ]
     },
     "execution_count": 95,
     "metadata": {},
     "output_type": "execute_result"
    }
   ],
   "source": [
    "pd.pivot(df, index=\"도시\", columns=\"연도\", values=\"인구\") # 위와 똑같이 나온다."
   ]
  },
  {
   "cell_type": "code",
   "execution_count": 97,
   "id": "6a5cb267",
   "metadata": {},
   "outputs": [
    {
     "data": {
      "text/html": [
       "<div>\n",
       "<style scoped>\n",
       "    .dataframe tbody tr th:only-of-type {\n",
       "        vertical-align: middle;\n",
       "    }\n",
       "\n",
       "    .dataframe tbody tr th {\n",
       "        vertical-align: top;\n",
       "    }\n",
       "\n",
       "    .dataframe thead th {\n",
       "        text-align: right;\n",
       "    }\n",
       "</style>\n",
       "<table border=\"1\" class=\"dataframe\">\n",
       "  <thead>\n",
       "    <tr style=\"text-align: right;\">\n",
       "      <th>연도</th>\n",
       "      <th>2005</th>\n",
       "      <th>2010</th>\n",
       "      <th>2015</th>\n",
       "    </tr>\n",
       "    <tr>\n",
       "      <th>도시</th>\n",
       "      <th></th>\n",
       "      <th></th>\n",
       "      <th></th>\n",
       "    </tr>\n",
       "  </thead>\n",
       "  <tbody>\n",
       "    <tr>\n",
       "      <th>부산</th>\n",
       "      <td>3512547.0</td>\n",
       "      <td>3393191.0</td>\n",
       "      <td>3448737.0</td>\n",
       "    </tr>\n",
       "    <tr>\n",
       "      <th>서울</th>\n",
       "      <td>9762546.0</td>\n",
       "      <td>9631482.0</td>\n",
       "      <td>9904312.0</td>\n",
       "    </tr>\n",
       "    <tr>\n",
       "      <th>인천</th>\n",
       "      <td>NaN</td>\n",
       "      <td>263203.0</td>\n",
       "      <td>2890451.0</td>\n",
       "    </tr>\n",
       "  </tbody>\n",
       "</table>\n",
       "</div>"
      ],
      "text/plain": [
       "연도       2005       2010       2015\n",
       "도시                                 \n",
       "부산  3512547.0  3393191.0  3448737.0\n",
       "서울  9762546.0  9631482.0  9904312.0\n",
       "인천        NaN   263203.0  2890451.0"
      ]
     },
     "execution_count": 97,
     "metadata": {},
     "output_type": "execute_result"
    }
   ],
   "source": [
    "df.pivot(\"도시\",\"연도\",\"인구\") # 위와 똑같이 나온다."
   ]
  },
  {
   "cell_type": "code",
   "execution_count": 105,
   "id": "2f98ab88",
   "metadata": {},
   "outputs": [
    {
     "data": {
      "text/html": [
       "<div>\n",
       "<style scoped>\n",
       "    .dataframe tbody tr th:only-of-type {\n",
       "        vertical-align: middle;\n",
       "    }\n",
       "\n",
       "    .dataframe tbody tr th {\n",
       "        vertical-align: top;\n",
       "    }\n",
       "\n",
       "    .dataframe thead tr th {\n",
       "        text-align: left;\n",
       "    }\n",
       "\n",
       "    .dataframe thead tr:last-of-type th {\n",
       "        text-align: right;\n",
       "    }\n",
       "</style>\n",
       "<table border=\"1\" class=\"dataframe\">\n",
       "  <thead>\n",
       "    <tr>\n",
       "      <th></th>\n",
       "      <th colspan=\"3\" halign=\"left\">인구</th>\n",
       "    </tr>\n",
       "    <tr>\n",
       "      <th>연도</th>\n",
       "      <th>2005</th>\n",
       "      <th>2010</th>\n",
       "      <th>2015</th>\n",
       "    </tr>\n",
       "    <tr>\n",
       "      <th>도시</th>\n",
       "      <th></th>\n",
       "      <th></th>\n",
       "      <th></th>\n",
       "    </tr>\n",
       "  </thead>\n",
       "  <tbody>\n",
       "    <tr>\n",
       "      <th>부산</th>\n",
       "      <td>3512547.0</td>\n",
       "      <td>3393191.0</td>\n",
       "      <td>3448737.0</td>\n",
       "    </tr>\n",
       "    <tr>\n",
       "      <th>서울</th>\n",
       "      <td>9762546.0</td>\n",
       "      <td>9631482.0</td>\n",
       "      <td>9904312.0</td>\n",
       "    </tr>\n",
       "    <tr>\n",
       "      <th>인천</th>\n",
       "      <td>NaN</td>\n",
       "      <td>263203.0</td>\n",
       "      <td>2890451.0</td>\n",
       "    </tr>\n",
       "  </tbody>\n",
       "</table>\n",
       "</div>"
      ],
      "text/plain": [
       "           인구                      \n",
       "연도       2005       2010       2015\n",
       "도시                                 \n",
       "부산  3512547.0  3393191.0  3448737.0\n",
       "서울  9762546.0  9631482.0  9904312.0\n",
       "인천        NaN   263203.0  2890451.0"
      ]
     },
     "execution_count": 105,
     "metadata": {},
     "output_type": "execute_result"
    }
   ],
   "source": [
    "# set_index(), unstack() - pivot 따라하기\n",
    "\n",
    "df.set_index([\"도시\", \"연도\"]) # df에는 현재 인덱스가 없으니 도시와 연도를 인덱스로 묶어준다.\n",
    "df.set_index([\"도시\", \"연도\"])[\"인구\"] # 1차원이라 시리즈로 나왔다.\n",
    "df.set_index([\"도시\", \"연도\"])[[\"인구\"]] # 2차원 데이터프레임으로 뽑아내기 위해 []를 한번더(2중으로)\n",
    "df.set_index([\"도시\", \"연도\"])[[\"인구\"]].unstack(\"연도\") # 마지막으로 연도를 행에서 열로 옮겨준다.\n",
    "df.set_index([\"도시\", \"연도\"]).unstack(\"연도\")[[\"인구\"]] # unstack을 먼저하고 인구를 뒤에 뽑든, 순서를 바꾸든 결과는 같다\n",
    "df[[\"도시\",\"연도\",\"인구\"]].set_index([\"도시\",\"연도\"]).unstack(1) # 결과는 같은데 어렵다 이거"
   ]
  },
  {
   "cell_type": "markdown",
   "id": "56308948",
   "metadata": {},
   "source": [
    "### (2) groupby()\n",
    "\n",
    "- 반드시 집계함수와 함께 사용\n",
    "\n",
    "        size(), count()\n",
    "        mean(), median(), max(), min()\n",
    "        sum(), prod(), std(), var(), quantile()\n",
    "        first(), last()\n",
    "        agg(), aggregate(), apply(), transform()\n",
    "        describe()\n",
    "        ..."
   ]
  },
  {
   "cell_type": "code",
   "execution_count": 106,
   "id": "77bb4ddb",
   "metadata": {},
   "outputs": [
    {
     "data": {
      "text/html": [
       "<div>\n",
       "<style scoped>\n",
       "    .dataframe tbody tr th:only-of-type {\n",
       "        vertical-align: middle;\n",
       "    }\n",
       "\n",
       "    .dataframe tbody tr th {\n",
       "        vertical-align: top;\n",
       "    }\n",
       "\n",
       "    .dataframe thead th {\n",
       "        text-align: right;\n",
       "    }\n",
       "</style>\n",
       "<table border=\"1\" class=\"dataframe\">\n",
       "  <thead>\n",
       "    <tr style=\"text-align: right;\">\n",
       "      <th></th>\n",
       "      <th>key1</th>\n",
       "      <th>key2</th>\n",
       "      <th>data1</th>\n",
       "      <th>data2</th>\n",
       "    </tr>\n",
       "  </thead>\n",
       "  <tbody>\n",
       "    <tr>\n",
       "      <th>0</th>\n",
       "      <td>A</td>\n",
       "      <td>one</td>\n",
       "      <td>1</td>\n",
       "      <td>10</td>\n",
       "    </tr>\n",
       "    <tr>\n",
       "      <th>1</th>\n",
       "      <td>A</td>\n",
       "      <td>two</td>\n",
       "      <td>2</td>\n",
       "      <td>20</td>\n",
       "    </tr>\n",
       "    <tr>\n",
       "      <th>2</th>\n",
       "      <td>B</td>\n",
       "      <td>one</td>\n",
       "      <td>3</td>\n",
       "      <td>30</td>\n",
       "    </tr>\n",
       "    <tr>\n",
       "      <th>3</th>\n",
       "      <td>B</td>\n",
       "      <td>two</td>\n",
       "      <td>4</td>\n",
       "      <td>40</td>\n",
       "    </tr>\n",
       "    <tr>\n",
       "      <th>4</th>\n",
       "      <td>A</td>\n",
       "      <td>one</td>\n",
       "      <td>5</td>\n",
       "      <td>50</td>\n",
       "    </tr>\n",
       "  </tbody>\n",
       "</table>\n",
       "</div>"
      ],
      "text/plain": [
       "  key1 key2  data1  data2\n",
       "0    A  one      1     10\n",
       "1    A  two      2     20\n",
       "2    B  one      3     30\n",
       "3    B  two      4     40\n",
       "4    A  one      5     50"
      ]
     },
     "execution_count": 106,
     "metadata": {},
     "output_type": "execute_result"
    }
   ],
   "source": [
    "df2 = pd.DataFrame({\n",
    "    \"key1\":[\"A\", \"A\", \"B\", \"B\", \"A\"],\n",
    "    \"key2\":[\"one\", \"two\", \"one\", \"two\", \"one\"],\n",
    "    \"data1\":[1, 2, 3, 4, 5],\n",
    "    \"data2\":[10, 20, 30, 40, 50]\n",
    "})\n",
    "\n",
    "df2"
   ]
  },
  {
   "cell_type": "code",
   "execution_count": 107,
   "id": "d9419a67",
   "metadata": {},
   "outputs": [
    {
     "data": {
      "text/html": [
       "<div>\n",
       "<style scoped>\n",
       "    .dataframe tbody tr th:only-of-type {\n",
       "        vertical-align: middle;\n",
       "    }\n",
       "\n",
       "    .dataframe tbody tr th {\n",
       "        vertical-align: top;\n",
       "    }\n",
       "\n",
       "    .dataframe thead th {\n",
       "        text-align: right;\n",
       "    }\n",
       "</style>\n",
       "<table border=\"1\" class=\"dataframe\">\n",
       "  <thead>\n",
       "    <tr style=\"text-align: right;\">\n",
       "      <th></th>\n",
       "      <th>data1</th>\n",
       "      <th>data2</th>\n",
       "    </tr>\n",
       "    <tr>\n",
       "      <th>key1</th>\n",
       "      <th></th>\n",
       "      <th></th>\n",
       "    </tr>\n",
       "  </thead>\n",
       "  <tbody>\n",
       "    <tr>\n",
       "      <th>A</th>\n",
       "      <td>8</td>\n",
       "      <td>80</td>\n",
       "    </tr>\n",
       "    <tr>\n",
       "      <th>B</th>\n",
       "      <td>7</td>\n",
       "      <td>70</td>\n",
       "    </tr>\n",
       "  </tbody>\n",
       "</table>\n",
       "</div>"
      ],
      "text/plain": [
       "      data1  data2\n",
       "key1              \n",
       "A         8     80\n",
       "B         7     70"
      ]
     },
     "execution_count": 107,
     "metadata": {},
     "output_type": "execute_result"
    }
   ],
   "source": [
    "df2.groupby(by=\"key1\").sum()  # key2는 합계가 불가능한 값들이라 sum을 쓰는 순간 자연스럽게 결과에서 빠짐"
   ]
  },
  {
   "cell_type": "code",
   "execution_count": 116,
   "id": "27f5bae1",
   "metadata": {},
   "outputs": [
    {
     "name": "stdout",
     "output_type": "stream",
     "text": [
      "      data1  data2\n",
      "key1              \n",
      "A         8     80\n",
      "B         7     70\n",
      "----------------------------------------\n",
      "      data1  data2\n",
      "key1              \n",
      "A         8     80\n",
      "B         7     70\n",
      "----------------------------------------\n",
      "key1\n",
      "A    8\n",
      "B    7\n",
      "Name: data1, dtype: int64\n",
      "----------------------------------------\n",
      "key1\n",
      "A    8\n",
      "B    7\n",
      "Name: data1, dtype: int64\n"
     ]
    }
   ],
   "source": [
    "#### 다양한 접근 표현\n",
    "\n",
    "print(df2.groupby(\"key1\").sum()) # key2는 합계가 불가능한 값들이라 sum을 쓰는 순간 자연스럽게 결과에서 빠짐\n",
    "print(\"----------------------------------------\")\n",
    "print(df2[[\"data1\", \"data2\"]].groupby(df2.key1).sum()) # 앞에서 data1,data2만 가져왔기에 단순히 key1은 불가능 -> df.key1 입력\n",
    "print(\"----------------------------------------\")\n",
    "print(df2.groupby(\"key1\")[\"data1\"].sum())\n",
    "print(\"----------------------------------------\")\n",
    "print(df2.groupby(\"key1\").sum()[\"data1\"])"
   ]
  },
  {
   "cell_type": "code",
   "execution_count": 121,
   "id": "f7c2267c",
   "metadata": {},
   "outputs": [
    {
     "data": {
      "text/html": [
       "<div>\n",
       "<style scoped>\n",
       "    .dataframe tbody tr th:only-of-type {\n",
       "        vertical-align: middle;\n",
       "    }\n",
       "\n",
       "    .dataframe tbody tr th {\n",
       "        vertical-align: top;\n",
       "    }\n",
       "\n",
       "    .dataframe thead th {\n",
       "        text-align: right;\n",
       "    }\n",
       "</style>\n",
       "<table border=\"1\" class=\"dataframe\">\n",
       "  <thead>\n",
       "    <tr style=\"text-align: right;\">\n",
       "      <th></th>\n",
       "      <th></th>\n",
       "      <th>data1</th>\n",
       "      <th>data2</th>\n",
       "    </tr>\n",
       "    <tr>\n",
       "      <th>key1</th>\n",
       "      <th>key2</th>\n",
       "      <th></th>\n",
       "      <th></th>\n",
       "    </tr>\n",
       "  </thead>\n",
       "  <tbody>\n",
       "    <tr>\n",
       "      <th rowspan=\"2\" valign=\"top\">A</th>\n",
       "      <th>one</th>\n",
       "      <td>6</td>\n",
       "      <td>60</td>\n",
       "    </tr>\n",
       "    <tr>\n",
       "      <th>two</th>\n",
       "      <td>2</td>\n",
       "      <td>20</td>\n",
       "    </tr>\n",
       "    <tr>\n",
       "      <th rowspan=\"2\" valign=\"top\">B</th>\n",
       "      <th>one</th>\n",
       "      <td>3</td>\n",
       "      <td>30</td>\n",
       "    </tr>\n",
       "    <tr>\n",
       "      <th>two</th>\n",
       "      <td>4</td>\n",
       "      <td>40</td>\n",
       "    </tr>\n",
       "  </tbody>\n",
       "</table>\n",
       "</div>"
      ],
      "text/plain": [
       "           data1  data2\n",
       "key1 key2              \n",
       "A    one       6     60\n",
       "     two       2     20\n",
       "B    one       3     30\n",
       "     two       4     40"
      ]
     },
     "execution_count": 121,
     "metadata": {},
     "output_type": "execute_result"
    }
   ],
   "source": [
    "#### 복합 키\n",
    "\n",
    "df2.groupby([\"key1\", \"key2\"]).sum()"
   ]
  },
  {
   "cell_type": "code",
   "execution_count": 122,
   "id": "28106695",
   "metadata": {},
   "outputs": [
    {
     "data": {
      "text/plain": [
       "key1  key2\n",
       "A     one     6\n",
       "      two     2\n",
       "B     one     3\n",
       "      two     4\n",
       "Name: data1, dtype: int64"
      ]
     },
     "execution_count": 122,
     "metadata": {},
     "output_type": "execute_result"
    }
   ],
   "source": [
    "df2.data1.groupby([df2.key1, df2.key2]).sum()"
   ]
  },
  {
   "cell_type": "code",
   "execution_count": 123,
   "id": "7ed11d0b",
   "metadata": {},
   "outputs": [
    {
     "data": {
      "text/html": [
       "<div>\n",
       "<style scoped>\n",
       "    .dataframe tbody tr th:only-of-type {\n",
       "        vertical-align: middle;\n",
       "    }\n",
       "\n",
       "    .dataframe tbody tr th {\n",
       "        vertical-align: top;\n",
       "    }\n",
       "\n",
       "    .dataframe thead th {\n",
       "        text-align: right;\n",
       "    }\n",
       "</style>\n",
       "<table border=\"1\" class=\"dataframe\">\n",
       "  <thead>\n",
       "    <tr style=\"text-align: right;\">\n",
       "      <th>key2</th>\n",
       "      <th>one</th>\n",
       "      <th>two</th>\n",
       "    </tr>\n",
       "    <tr>\n",
       "      <th>key1</th>\n",
       "      <th></th>\n",
       "      <th></th>\n",
       "    </tr>\n",
       "  </thead>\n",
       "  <tbody>\n",
       "    <tr>\n",
       "      <th>A</th>\n",
       "      <td>6</td>\n",
       "      <td>2</td>\n",
       "    </tr>\n",
       "    <tr>\n",
       "      <th>B</th>\n",
       "      <td>3</td>\n",
       "      <td>4</td>\n",
       "    </tr>\n",
       "  </tbody>\n",
       "</table>\n",
       "</div>"
      ],
      "text/plain": [
       "key2  one  two\n",
       "key1          \n",
       "A       6    2\n",
       "B       3    4"
      ]
     },
     "execution_count": 123,
     "metadata": {},
     "output_type": "execute_result"
    }
   ],
   "source": [
    "df2.data1.groupby([df2.key1, df2.key2]).sum().unstack() # 기본값이 가장 안쪽에 있는 행이기에 key2가 열로 가버림"
   ]
  },
  {
   "cell_type": "code",
   "execution_count": 10,
   "id": "1536b537",
   "metadata": {},
   "outputs": [
    {
     "data": {
      "text/html": [
       "<div>\n",
       "<style scoped>\n",
       "    .dataframe tbody tr th:only-of-type {\n",
       "        vertical-align: middle;\n",
       "    }\n",
       "\n",
       "    .dataframe tbody tr th {\n",
       "        vertical-align: top;\n",
       "    }\n",
       "\n",
       "    .dataframe thead th {\n",
       "        text-align: right;\n",
       "    }\n",
       "</style>\n",
       "<table border=\"1\" class=\"dataframe\">\n",
       "  <thead>\n",
       "    <tr style=\"text-align: right;\">\n",
       "      <th></th>\n",
       "      <th>도시</th>\n",
       "      <th>연도</th>\n",
       "      <th>인구</th>\n",
       "      <th>지역</th>\n",
       "    </tr>\n",
       "  </thead>\n",
       "  <tbody>\n",
       "    <tr>\n",
       "      <th>0</th>\n",
       "      <td>서울</td>\n",
       "      <td>2015</td>\n",
       "      <td>9904312</td>\n",
       "      <td>수도권</td>\n",
       "    </tr>\n",
       "    <tr>\n",
       "      <th>1</th>\n",
       "      <td>서울</td>\n",
       "      <td>2010</td>\n",
       "      <td>9631482</td>\n",
       "      <td>수도권</td>\n",
       "    </tr>\n",
       "    <tr>\n",
       "      <th>2</th>\n",
       "      <td>서울</td>\n",
       "      <td>2005</td>\n",
       "      <td>9762546</td>\n",
       "      <td>수도권</td>\n",
       "    </tr>\n",
       "    <tr>\n",
       "      <th>3</th>\n",
       "      <td>부산</td>\n",
       "      <td>2015</td>\n",
       "      <td>3448737</td>\n",
       "      <td>경상권</td>\n",
       "    </tr>\n",
       "    <tr>\n",
       "      <th>4</th>\n",
       "      <td>부산</td>\n",
       "      <td>2010</td>\n",
       "      <td>3393191</td>\n",
       "      <td>경상권</td>\n",
       "    </tr>\n",
       "    <tr>\n",
       "      <th>5</th>\n",
       "      <td>부산</td>\n",
       "      <td>2005</td>\n",
       "      <td>3512547</td>\n",
       "      <td>경상권</td>\n",
       "    </tr>\n",
       "    <tr>\n",
       "      <th>6</th>\n",
       "      <td>인천</td>\n",
       "      <td>2015</td>\n",
       "      <td>2890451</td>\n",
       "      <td>수도권</td>\n",
       "    </tr>\n",
       "    <tr>\n",
       "      <th>7</th>\n",
       "      <td>인천</td>\n",
       "      <td>2010</td>\n",
       "      <td>263203</td>\n",
       "      <td>수도권</td>\n",
       "    </tr>\n",
       "  </tbody>\n",
       "</table>\n",
       "</div>"
      ],
      "text/plain": [
       "   도시    연도       인구   지역\n",
       "0  서울  2015  9904312  수도권\n",
       "1  서울  2010  9631482  수도권\n",
       "2  서울  2005  9762546  수도권\n",
       "3  부산  2015  3448737  경상권\n",
       "4  부산  2010  3393191  경상권\n",
       "5  부산  2005  3512547  경상권\n",
       "6  인천  2015  2890451  수도권\n",
       "7  인천  2010   263203  수도권"
      ]
     },
     "execution_count": 10,
     "metadata": {},
     "output_type": "execute_result"
    }
   ],
   "source": [
    "##### 각 도시에서 연도별로 인구수를 알고 싶다.(df사용)\n",
    "data = {\n",
    "    \"도시\": [\"서울\", \"서울\", \"서울\", \"부산\", \"부산\", \"부산\", \"인천\", \"인천\"],\n",
    "    \"연도\": [\"2015\", \"2010\", \"2005\", \"2015\", \"2010\", \"2005\", \"2015\", \"2010\"],\n",
    "    \"인구\": [9904312, 9631482, 9762546, 3448737, 3393191, 3512547, 2890451, 263203],\n",
    "    \"지역\": [\"수도권\", \"수도권\", \"수도권\", \"경상권\", \"경상권\", \"경상권\", \"수도권\", \"수도권\"]\n",
    "}\n",
    "\n",
    "df = pd.DataFrame(data)\n",
    "df"
   ]
  },
  {
   "cell_type": "code",
   "execution_count": 11,
   "id": "4a192484",
   "metadata": {},
   "outputs": [
    {
     "data": {
      "text/plain": [
       "<bound method DataFrame.unstack of               인구\n",
       "도시 연도           \n",
       "부산 2005  3512547\n",
       "   2010  3393191\n",
       "   2015  3448737\n",
       "서울 2005  9762546\n",
       "   2010  9631482\n",
       "   2015  9904312\n",
       "인천 2010   263203\n",
       "   2015  2890451>"
      ]
     },
     "execution_count": 11,
     "metadata": {},
     "output_type": "execute_result"
    }
   ],
   "source": [
    "df.인구.groupby([df.도시, df.연도]).sum().unstack(\"연도\")\n",
    "df.groupby([df.도시, df.연도]).sum().unstack()\n",
    "df.groupby([\"도시\",\"연도\"])[[\"인구\"]].sum().unstack()\n",
    "df.groupby([\"도시\",\"연도\"]).sum().unstack"
   ]
  },
  {
   "cell_type": "code",
   "execution_count": 15,
   "id": "de00b839",
   "metadata": {},
   "outputs": [
    {
     "data": {
      "text/html": [
       "<div>\n",
       "<style scoped>\n",
       "    .dataframe tbody tr th:only-of-type {\n",
       "        vertical-align: middle;\n",
       "    }\n",
       "\n",
       "    .dataframe tbody tr th {\n",
       "        vertical-align: top;\n",
       "    }\n",
       "\n",
       "    .dataframe thead th {\n",
       "        text-align: right;\n",
       "    }\n",
       "</style>\n",
       "<table border=\"1\" class=\"dataframe\">\n",
       "  <thead>\n",
       "    <tr style=\"text-align: right;\">\n",
       "      <th>연도</th>\n",
       "      <th>2005</th>\n",
       "      <th>2010</th>\n",
       "      <th>2015</th>\n",
       "    </tr>\n",
       "    <tr>\n",
       "      <th>도시</th>\n",
       "      <th></th>\n",
       "      <th></th>\n",
       "      <th></th>\n",
       "    </tr>\n",
       "  </thead>\n",
       "  <tbody>\n",
       "    <tr>\n",
       "      <th>부산</th>\n",
       "      <td>3512547.0</td>\n",
       "      <td>3393191.0</td>\n",
       "      <td>3448737.0</td>\n",
       "    </tr>\n",
       "    <tr>\n",
       "      <th>서울</th>\n",
       "      <td>9762546.0</td>\n",
       "      <td>9631482.0</td>\n",
       "      <td>9904312.0</td>\n",
       "    </tr>\n",
       "    <tr>\n",
       "      <th>인천</th>\n",
       "      <td>NaN</td>\n",
       "      <td>263203.0</td>\n",
       "      <td>2890451.0</td>\n",
       "    </tr>\n",
       "  </tbody>\n",
       "</table>\n",
       "</div>"
      ],
      "text/plain": [
       "연도       2005       2010       2015\n",
       "도시                                 \n",
       "부산  3512547.0  3393191.0  3448737.0\n",
       "서울  9762546.0  9631482.0  9904312.0\n",
       "인천        NaN   263203.0  2890451.0"
      ]
     },
     "execution_count": 15,
     "metadata": {},
     "output_type": "execute_result"
    }
   ],
   "source": [
    "\"\"\"\n",
    "연도 2005 2010 2015\n",
    "지역\n",
    "경상권 ...\n",
    "수도권 ...\n",
    "\"\"\"\n",
    "\n",
    "\n",
    "# df.groupby(by=['도시', '연도]').sum().unstack('연도') 어딘가 틀렸음\n",
    "df.groupby([\"지역\",\"연도\"])[[\"인구\"]].sum().unstack()\n",
    "df.groupby([df[\"도시\"], df[\"연도\"]]).sum().unstack()\n",
    "df[\"인구\"].groupby([df[\"도시\"], df[\"연도\"]]).sum().unstack()"
   ]
  },
  {
   "cell_type": "markdown",
   "id": "2f3e0f7f",
   "metadata": {},
   "source": [
    "#### apply(), agg(), transform()"
   ]
  },
  {
   "cell_type": "code",
   "execution_count": 2,
   "id": "56afed71",
   "metadata": {},
   "outputs": [
    {
     "data": {
      "text/html": [
       "<div>\n",
       "<style scoped>\n",
       "    .dataframe tbody tr th:only-of-type {\n",
       "        vertical-align: middle;\n",
       "    }\n",
       "\n",
       "    .dataframe tbody tr th {\n",
       "        vertical-align: top;\n",
       "    }\n",
       "\n",
       "    .dataframe thead th {\n",
       "        text-align: right;\n",
       "    }\n",
       "</style>\n",
       "<table border=\"1\" class=\"dataframe\">\n",
       "  <thead>\n",
       "    <tr style=\"text-align: right;\">\n",
       "      <th></th>\n",
       "      <th>sepal_length</th>\n",
       "      <th>sepal_width</th>\n",
       "      <th>petal_length</th>\n",
       "      <th>petal_width</th>\n",
       "      <th>species</th>\n",
       "    </tr>\n",
       "  </thead>\n",
       "  <tbody>\n",
       "    <tr>\n",
       "      <th>0</th>\n",
       "      <td>5.1</td>\n",
       "      <td>3.5</td>\n",
       "      <td>1.4</td>\n",
       "      <td>0.2</td>\n",
       "      <td>setosa</td>\n",
       "    </tr>\n",
       "    <tr>\n",
       "      <th>1</th>\n",
       "      <td>4.9</td>\n",
       "      <td>3.0</td>\n",
       "      <td>1.4</td>\n",
       "      <td>0.2</td>\n",
       "      <td>setosa</td>\n",
       "    </tr>\n",
       "    <tr>\n",
       "      <th>2</th>\n",
       "      <td>4.7</td>\n",
       "      <td>3.2</td>\n",
       "      <td>1.3</td>\n",
       "      <td>0.2</td>\n",
       "      <td>setosa</td>\n",
       "    </tr>\n",
       "    <tr>\n",
       "      <th>3</th>\n",
       "      <td>4.6</td>\n",
       "      <td>3.1</td>\n",
       "      <td>1.5</td>\n",
       "      <td>0.2</td>\n",
       "      <td>setosa</td>\n",
       "    </tr>\n",
       "    <tr>\n",
       "      <th>4</th>\n",
       "      <td>5.0</td>\n",
       "      <td>3.6</td>\n",
       "      <td>1.4</td>\n",
       "      <td>0.2</td>\n",
       "      <td>setosa</td>\n",
       "    </tr>\n",
       "  </tbody>\n",
       "</table>\n",
       "</div>"
      ],
      "text/plain": [
       "   sepal_length  sepal_width  petal_length  petal_width species\n",
       "0           5.1          3.5           1.4          0.2  setosa\n",
       "1           4.9          3.0           1.4          0.2  setosa\n",
       "2           4.7          3.2           1.3          0.2  setosa\n",
       "3           4.6          3.1           1.5          0.2  setosa\n",
       "4           5.0          3.6           1.4          0.2  setosa"
      ]
     },
     "execution_count": 2,
     "metadata": {},
     "output_type": "execute_result"
    }
   ],
   "source": [
    "import seaborn as sns\n",
    "\n",
    "iris = sns.load_dataset(\"iris\")\n",
    "iris.head()"
   ]
  },
  {
   "cell_type": "code",
   "execution_count": 136,
   "id": "bf029803",
   "metadata": {},
   "outputs": [
    {
     "name": "stdout",
     "output_type": "stream",
     "text": [
      "            sepal_length  sepal_width  petal_length  petal_width\n",
      "species                                                         \n",
      "setosa          1.348837     1.913043      1.900000     6.000000\n",
      "versicolor      1.428571     1.700000      1.700000     1.800000\n",
      "virginica       1.612245     1.727273      1.533333     1.785714\n",
      "-------------------------------------------------------\n",
      "            sepal_length  sepal_width  petal_length  petal_width\n",
      "species                                                         \n",
      "setosa          1.348837     1.913043      1.900000     6.000000\n",
      "versicolor      1.428571     1.700000      1.700000     1.800000\n",
      "virginica       1.612245     1.727273      1.533333     1.785714\n",
      "-------------------------------------------------------\n",
      "     sepal_length  sepal_width  petal_length  petal_width\n",
      "0        1.348837     1.913043      1.900000     6.000000\n",
      "1        1.348837     1.913043      1.900000     6.000000\n",
      "2        1.348837     1.913043      1.900000     6.000000\n",
      "3        1.348837     1.913043      1.900000     6.000000\n",
      "4        1.348837     1.913043      1.900000     6.000000\n",
      "..            ...          ...           ...          ...\n",
      "145      1.612245     1.727273      1.533333     1.785714\n",
      "146      1.612245     1.727273      1.533333     1.785714\n",
      "147      1.612245     1.727273      1.533333     1.785714\n",
      "148      1.612245     1.727273      1.533333     1.785714\n",
      "149      1.612245     1.727273      1.533333     1.785714\n",
      "\n",
      "[150 rows x 4 columns]\n"
     ]
    }
   ],
   "source": [
    "# 각 붓꽃별로 가장 큰 값과 가장 작은 값의 비율을 조회\n",
    "\n",
    "def peak_to_peak_ratio(x):\n",
    "    return x.max() / x.min()\n",
    "\n",
    "####################\n",
    "\n",
    "print(iris.groupby(iris.species).apply(peak_to_peak_ratio))\n",
    "print(\"-------------------------------------------------------\")\n",
    "print(iris.groupby(iris.species).agg(peak_to_peak_ratio))\n",
    "print(\"-------------------------------------------------------\")\n",
    "print(iris.groupby(iris.species).transform(peak_to_peak_ratio))\n"
   ]
  },
  {
   "cell_type": "code",
   "execution_count": 201,
   "id": "8d3505a8",
   "metadata": {},
   "outputs": [
    {
     "name": "stdout",
     "output_type": "stream",
     "text": [
      "species\n",
      "setosa        1\n",
      "versicolor    1\n",
      "virginica     1\n",
      "dtype: int64\n",
      "            sepal_length  sepal_width  petal_length  petal_width\n",
      "species                                                         \n",
      "setosa                 1            1             1            1\n",
      "versicolor             1            1             1            1\n",
      "virginica              1            1             1            1\n",
      "     sepal_length  sepal_width  petal_length  petal_width\n",
      "0               1            1             1            1\n",
      "1               1            1             1            1\n",
      "2               1            1             1            1\n",
      "3               1            1             1            1\n",
      "4               1            1             1            1\n",
      "..            ...          ...           ...          ...\n",
      "145             1            1             1            1\n",
      "146             1            1             1            1\n",
      "147             1            1             1            1\n",
      "148             1            1             1            1\n",
      "149             1            1             1            1\n",
      "\n",
      "[150 rows x 4 columns]\n"
     ]
    }
   ],
   "source": [
    "def test(x):\n",
    "    return 1\n",
    "\n",
    "###################\n",
    "\n",
    "g = iris.groupby(\"species\")\n",
    "print(g.apply(test))\n",
    "print(g.agg(test))\n",
    "print(g.transform(test))"
   ]
  },
  {
   "cell_type": "code",
   "execution_count": 141,
   "id": "e8e60fb3",
   "metadata": {},
   "outputs": [
    {
     "data": {
      "text/html": [
       "<div>\n",
       "<style scoped>\n",
       "    .dataframe tbody tr th:only-of-type {\n",
       "        vertical-align: middle;\n",
       "    }\n",
       "\n",
       "    .dataframe tbody tr th {\n",
       "        vertical-align: top;\n",
       "    }\n",
       "\n",
       "    .dataframe thead tr th {\n",
       "        text-align: left;\n",
       "    }\n",
       "\n",
       "    .dataframe thead tr:last-of-type th {\n",
       "        text-align: right;\n",
       "    }\n",
       "</style>\n",
       "<table border=\"1\" class=\"dataframe\">\n",
       "  <thead>\n",
       "    <tr>\n",
       "      <th></th>\n",
       "      <th colspan=\"4\" halign=\"left\">sepal_length</th>\n",
       "      <th colspan=\"4\" halign=\"left\">sepal_width</th>\n",
       "      <th colspan=\"4\" halign=\"left\">petal_length</th>\n",
       "      <th colspan=\"4\" halign=\"left\">petal_width</th>\n",
       "    </tr>\n",
       "    <tr>\n",
       "      <th></th>\n",
       "      <th>sum</th>\n",
       "      <th>mean</th>\n",
       "      <th>std</th>\n",
       "      <th>peak_to_peak_ratio</th>\n",
       "      <th>sum</th>\n",
       "      <th>mean</th>\n",
       "      <th>std</th>\n",
       "      <th>peak_to_peak_ratio</th>\n",
       "      <th>sum</th>\n",
       "      <th>mean</th>\n",
       "      <th>std</th>\n",
       "      <th>peak_to_peak_ratio</th>\n",
       "      <th>sum</th>\n",
       "      <th>mean</th>\n",
       "      <th>std</th>\n",
       "      <th>peak_to_peak_ratio</th>\n",
       "    </tr>\n",
       "    <tr>\n",
       "      <th>species</th>\n",
       "      <th></th>\n",
       "      <th></th>\n",
       "      <th></th>\n",
       "      <th></th>\n",
       "      <th></th>\n",
       "      <th></th>\n",
       "      <th></th>\n",
       "      <th></th>\n",
       "      <th></th>\n",
       "      <th></th>\n",
       "      <th></th>\n",
       "      <th></th>\n",
       "      <th></th>\n",
       "      <th></th>\n",
       "      <th></th>\n",
       "      <th></th>\n",
       "    </tr>\n",
       "  </thead>\n",
       "  <tbody>\n",
       "    <tr>\n",
       "      <th>setosa</th>\n",
       "      <td>250.3</td>\n",
       "      <td>5.006</td>\n",
       "      <td>0.352490</td>\n",
       "      <td>1.348837</td>\n",
       "      <td>171.4</td>\n",
       "      <td>3.428</td>\n",
       "      <td>0.379064</td>\n",
       "      <td>1.913043</td>\n",
       "      <td>73.1</td>\n",
       "      <td>1.462</td>\n",
       "      <td>0.173664</td>\n",
       "      <td>1.900000</td>\n",
       "      <td>12.3</td>\n",
       "      <td>0.246</td>\n",
       "      <td>0.105386</td>\n",
       "      <td>6.000000</td>\n",
       "    </tr>\n",
       "    <tr>\n",
       "      <th>versicolor</th>\n",
       "      <td>296.8</td>\n",
       "      <td>5.936</td>\n",
       "      <td>0.516171</td>\n",
       "      <td>1.428571</td>\n",
       "      <td>138.5</td>\n",
       "      <td>2.770</td>\n",
       "      <td>0.313798</td>\n",
       "      <td>1.700000</td>\n",
       "      <td>213.0</td>\n",
       "      <td>4.260</td>\n",
       "      <td>0.469911</td>\n",
       "      <td>1.700000</td>\n",
       "      <td>66.3</td>\n",
       "      <td>1.326</td>\n",
       "      <td>0.197753</td>\n",
       "      <td>1.800000</td>\n",
       "    </tr>\n",
       "    <tr>\n",
       "      <th>virginica</th>\n",
       "      <td>329.4</td>\n",
       "      <td>6.588</td>\n",
       "      <td>0.635880</td>\n",
       "      <td>1.612245</td>\n",
       "      <td>148.7</td>\n",
       "      <td>2.974</td>\n",
       "      <td>0.322497</td>\n",
       "      <td>1.727273</td>\n",
       "      <td>277.6</td>\n",
       "      <td>5.552</td>\n",
       "      <td>0.551895</td>\n",
       "      <td>1.533333</td>\n",
       "      <td>101.3</td>\n",
       "      <td>2.026</td>\n",
       "      <td>0.274650</td>\n",
       "      <td>1.785714</td>\n",
       "    </tr>\n",
       "  </tbody>\n",
       "</table>\n",
       "</div>"
      ],
      "text/plain": [
       "           sepal_length                                     sepal_width  \\\n",
       "                    sum   mean       std peak_to_peak_ratio         sum   \n",
       "species                                                                   \n",
       "setosa            250.3  5.006  0.352490           1.348837       171.4   \n",
       "versicolor        296.8  5.936  0.516171           1.428571       138.5   \n",
       "virginica         329.4  6.588  0.635880           1.612245       148.7   \n",
       "\n",
       "                                               petal_length                   \\\n",
       "             mean       std peak_to_peak_ratio          sum   mean       std   \n",
       "species                                                                        \n",
       "setosa      3.428  0.379064           1.913043         73.1  1.462  0.173664   \n",
       "versicolor  2.770  0.313798           1.700000        213.0  4.260  0.469911   \n",
       "virginica   2.974  0.322497           1.727273        277.6  5.552  0.551895   \n",
       "\n",
       "                              petal_width                                      \n",
       "           peak_to_peak_ratio         sum   mean       std peak_to_peak_ratio  \n",
       "species                                                                        \n",
       "setosa               1.900000        12.3  0.246  0.105386           6.000000  \n",
       "versicolor           1.700000        66.3  1.326  0.197753           1.800000  \n",
       "virginica            1.533333       101.3  2.026  0.274650           1.785714  "
      ]
     },
     "execution_count": 141,
     "metadata": {},
     "output_type": "execute_result"
    }
   ],
   "source": [
    "iris.groupby(\"species\").agg([np.sum, np.mean, np.std, peak_to_peak_ratio]) # 한 개가 아닌 여러개의 함수를 사용하고 싶을 떄 agg"
   ]
  },
  {
   "cell_type": "markdown",
   "id": "6a280ced",
   "metadata": {},
   "source": [
    "### groupby 실습"
   ]
  },
  {
   "cell_type": "code",
   "execution_count": 188,
   "id": "0a275e7b",
   "metadata": {
    "scrolled": true
   },
   "outputs": [
    {
     "data": {
      "text/html": [
       "<div>\n",
       "<style scoped>\n",
       "    .dataframe tbody tr th:only-of-type {\n",
       "        vertical-align: middle;\n",
       "    }\n",
       "\n",
       "    .dataframe tbody tr th {\n",
       "        vertical-align: top;\n",
       "    }\n",
       "\n",
       "    .dataframe thead th {\n",
       "        text-align: right;\n",
       "    }\n",
       "</style>\n",
       "<table border=\"1\" class=\"dataframe\">\n",
       "  <thead>\n",
       "    <tr style=\"text-align: right;\">\n",
       "      <th></th>\n",
       "      <th>sepal_length</th>\n",
       "      <th>sepal_width</th>\n",
       "      <th>petal_length</th>\n",
       "      <th>petal_width</th>\n",
       "      <th>species</th>\n",
       "    </tr>\n",
       "  </thead>\n",
       "  <tbody>\n",
       "    <tr>\n",
       "      <th>0</th>\n",
       "      <td>5.1</td>\n",
       "      <td>3.5</td>\n",
       "      <td>1.4</td>\n",
       "      <td>0.2</td>\n",
       "      <td>setosa</td>\n",
       "    </tr>\n",
       "    <tr>\n",
       "      <th>1</th>\n",
       "      <td>4.9</td>\n",
       "      <td>3.0</td>\n",
       "      <td>1.4</td>\n",
       "      <td>0.2</td>\n",
       "      <td>setosa</td>\n",
       "    </tr>\n",
       "    <tr>\n",
       "      <th>2</th>\n",
       "      <td>4.7</td>\n",
       "      <td>3.2</td>\n",
       "      <td>1.3</td>\n",
       "      <td>0.2</td>\n",
       "      <td>setosa</td>\n",
       "    </tr>\n",
       "    <tr>\n",
       "      <th>3</th>\n",
       "      <td>4.6</td>\n",
       "      <td>3.1</td>\n",
       "      <td>1.5</td>\n",
       "      <td>0.2</td>\n",
       "      <td>setosa</td>\n",
       "    </tr>\n",
       "    <tr>\n",
       "      <th>4</th>\n",
       "      <td>5.0</td>\n",
       "      <td>3.6</td>\n",
       "      <td>1.4</td>\n",
       "      <td>0.2</td>\n",
       "      <td>setosa</td>\n",
       "    </tr>\n",
       "    <tr>\n",
       "      <th>...</th>\n",
       "      <td>...</td>\n",
       "      <td>...</td>\n",
       "      <td>...</td>\n",
       "      <td>...</td>\n",
       "      <td>...</td>\n",
       "    </tr>\n",
       "    <tr>\n",
       "      <th>145</th>\n",
       "      <td>6.7</td>\n",
       "      <td>3.0</td>\n",
       "      <td>5.2</td>\n",
       "      <td>2.3</td>\n",
       "      <td>virginica</td>\n",
       "    </tr>\n",
       "    <tr>\n",
       "      <th>146</th>\n",
       "      <td>6.3</td>\n",
       "      <td>2.5</td>\n",
       "      <td>5.0</td>\n",
       "      <td>1.9</td>\n",
       "      <td>virginica</td>\n",
       "    </tr>\n",
       "    <tr>\n",
       "      <th>147</th>\n",
       "      <td>6.5</td>\n",
       "      <td>3.0</td>\n",
       "      <td>5.2</td>\n",
       "      <td>2.0</td>\n",
       "      <td>virginica</td>\n",
       "    </tr>\n",
       "    <tr>\n",
       "      <th>148</th>\n",
       "      <td>6.2</td>\n",
       "      <td>3.4</td>\n",
       "      <td>5.4</td>\n",
       "      <td>2.3</td>\n",
       "      <td>virginica</td>\n",
       "    </tr>\n",
       "    <tr>\n",
       "      <th>149</th>\n",
       "      <td>5.9</td>\n",
       "      <td>3.0</td>\n",
       "      <td>5.1</td>\n",
       "      <td>1.8</td>\n",
       "      <td>virginica</td>\n",
       "    </tr>\n",
       "  </tbody>\n",
       "</table>\n",
       "<p>150 rows × 5 columns</p>\n",
       "</div>"
      ],
      "text/plain": [
       "     sepal_length  sepal_width  petal_length  petal_width    species\n",
       "0             5.1          3.5           1.4          0.2     setosa\n",
       "1             4.9          3.0           1.4          0.2     setosa\n",
       "2             4.7          3.2           1.3          0.2     setosa\n",
       "3             4.6          3.1           1.5          0.2     setosa\n",
       "4             5.0          3.6           1.4          0.2     setosa\n",
       "..            ...          ...           ...          ...        ...\n",
       "145           6.7          3.0           5.2          2.3  virginica\n",
       "146           6.3          2.5           5.0          1.9  virginica\n",
       "147           6.5          3.0           5.2          2.0  virginica\n",
       "148           6.2          3.4           5.4          2.3  virginica\n",
       "149           5.9          3.0           5.1          1.8  virginica\n",
       "\n",
       "[150 rows x 5 columns]"
      ]
     },
     "execution_count": 188,
     "metadata": {},
     "output_type": "execute_result"
    }
   ],
   "source": [
    "# 1. (iris데이터 사용) 품종별로 petal_length의 값을 대, 중, 소의 3가지 값으로 구분해서 조회\n",
    "iris"
   ]
  },
  {
   "cell_type": "code",
   "execution_count": 5,
   "id": "a5bfcf76",
   "metadata": {},
   "outputs": [
    {
     "data": {
      "text/html": [
       "<div>\n",
       "<style scoped>\n",
       "    .dataframe tbody tr th:only-of-type {\n",
       "        vertical-align: middle;\n",
       "    }\n",
       "\n",
       "    .dataframe tbody tr th {\n",
       "        vertical-align: top;\n",
       "    }\n",
       "\n",
       "    .dataframe thead th {\n",
       "        text-align: right;\n",
       "    }\n",
       "</style>\n",
       "<table border=\"1\" class=\"dataframe\">\n",
       "  <thead>\n",
       "    <tr style=\"text-align: right;\">\n",
       "      <th></th>\n",
       "      <th>sepal_length</th>\n",
       "      <th>sepal_width</th>\n",
       "      <th>petal_length</th>\n",
       "      <th>petal_width</th>\n",
       "      <th>species</th>\n",
       "    </tr>\n",
       "  </thead>\n",
       "  <tbody>\n",
       "    <tr>\n",
       "      <th>0</th>\n",
       "      <td>5.1</td>\n",
       "      <td>3.5</td>\n",
       "      <td>1.4</td>\n",
       "      <td>0.2</td>\n",
       "      <td>setosa</td>\n",
       "    </tr>\n",
       "    <tr>\n",
       "      <th>1</th>\n",
       "      <td>4.9</td>\n",
       "      <td>3.0</td>\n",
       "      <td>1.4</td>\n",
       "      <td>0.2</td>\n",
       "      <td>setosa</td>\n",
       "    </tr>\n",
       "    <tr>\n",
       "      <th>2</th>\n",
       "      <td>4.7</td>\n",
       "      <td>3.2</td>\n",
       "      <td>1.3</td>\n",
       "      <td>0.2</td>\n",
       "      <td>setosa</td>\n",
       "    </tr>\n",
       "    <tr>\n",
       "      <th>3</th>\n",
       "      <td>4.6</td>\n",
       "      <td>3.1</td>\n",
       "      <td>1.5</td>\n",
       "      <td>0.2</td>\n",
       "      <td>setosa</td>\n",
       "    </tr>\n",
       "    <tr>\n",
       "      <th>4</th>\n",
       "      <td>5.0</td>\n",
       "      <td>3.6</td>\n",
       "      <td>1.4</td>\n",
       "      <td>0.2</td>\n",
       "      <td>setosa</td>\n",
       "    </tr>\n",
       "    <tr>\n",
       "      <th>...</th>\n",
       "      <td>...</td>\n",
       "      <td>...</td>\n",
       "      <td>...</td>\n",
       "      <td>...</td>\n",
       "      <td>...</td>\n",
       "    </tr>\n",
       "    <tr>\n",
       "      <th>145</th>\n",
       "      <td>6.7</td>\n",
       "      <td>3.0</td>\n",
       "      <td>5.2</td>\n",
       "      <td>2.3</td>\n",
       "      <td>virginica</td>\n",
       "    </tr>\n",
       "    <tr>\n",
       "      <th>146</th>\n",
       "      <td>6.3</td>\n",
       "      <td>2.5</td>\n",
       "      <td>5.0</td>\n",
       "      <td>1.9</td>\n",
       "      <td>virginica</td>\n",
       "    </tr>\n",
       "    <tr>\n",
       "      <th>147</th>\n",
       "      <td>6.5</td>\n",
       "      <td>3.0</td>\n",
       "      <td>5.2</td>\n",
       "      <td>2.0</td>\n",
       "      <td>virginica</td>\n",
       "    </tr>\n",
       "    <tr>\n",
       "      <th>148</th>\n",
       "      <td>6.2</td>\n",
       "      <td>3.4</td>\n",
       "      <td>5.4</td>\n",
       "      <td>2.3</td>\n",
       "      <td>virginica</td>\n",
       "    </tr>\n",
       "    <tr>\n",
       "      <th>149</th>\n",
       "      <td>5.9</td>\n",
       "      <td>3.0</td>\n",
       "      <td>5.1</td>\n",
       "      <td>1.8</td>\n",
       "      <td>virginica</td>\n",
       "    </tr>\n",
       "  </tbody>\n",
       "</table>\n",
       "<p>150 rows × 5 columns</p>\n",
       "</div>"
      ],
      "text/plain": [
       "     sepal_length  sepal_width  petal_length  petal_width    species\n",
       "0             5.1          3.5           1.4          0.2     setosa\n",
       "1             4.9          3.0           1.4          0.2     setosa\n",
       "2             4.7          3.2           1.3          0.2     setosa\n",
       "3             4.6          3.1           1.5          0.2     setosa\n",
       "4             5.0          3.6           1.4          0.2     setosa\n",
       "..            ...          ...           ...          ...        ...\n",
       "145           6.7          3.0           5.2          2.3  virginica\n",
       "146           6.3          2.5           5.0          1.9  virginica\n",
       "147           6.5          3.0           5.2          2.0  virginica\n",
       "148           6.2          3.4           5.4          2.3  virginica\n",
       "149           5.9          3.0           5.1          1.8  virginica\n",
       "\n",
       "[150 rows x 5 columns]"
      ]
     },
     "execution_count": 5,
     "metadata": {},
     "output_type": "execute_result"
    }
   ],
   "source": [
    "# 1. (iris데이터 사용) 품종별로 petal_length의 값을 대, 중, 소의 3가지 값으로 구분해서 조회\n",
    "# 강사님 풀이\n",
    "iris"
   ]
  },
  {
   "cell_type": "code",
   "execution_count": 11,
   "id": "43ee4b6e",
   "metadata": {},
   "outputs": [
    {
     "data": {
      "text/html": [
       "<div>\n",
       "<style scoped>\n",
       "    .dataframe tbody tr th:only-of-type {\n",
       "        vertical-align: middle;\n",
       "    }\n",
       "\n",
       "    .dataframe tbody tr th {\n",
       "        vertical-align: top;\n",
       "    }\n",
       "\n",
       "    .dataframe thead th {\n",
       "        text-align: right;\n",
       "    }\n",
       "</style>\n",
       "<table border=\"1\" class=\"dataframe\">\n",
       "  <thead>\n",
       "    <tr style=\"text-align: right;\">\n",
       "      <th></th>\n",
       "      <th>sepal_length</th>\n",
       "      <th>sepal_width</th>\n",
       "      <th>petal_length</th>\n",
       "      <th>petal_width</th>\n",
       "      <th>species</th>\n",
       "      <th>petal_length_class</th>\n",
       "    </tr>\n",
       "  </thead>\n",
       "  <tbody>\n",
       "    <tr>\n",
       "      <th>0</th>\n",
       "      <td>5.1</td>\n",
       "      <td>3.5</td>\n",
       "      <td>1.4</td>\n",
       "      <td>0.2</td>\n",
       "      <td>setosa</td>\n",
       "      <td>대</td>\n",
       "    </tr>\n",
       "    <tr>\n",
       "      <th>1</th>\n",
       "      <td>4.9</td>\n",
       "      <td>3.0</td>\n",
       "      <td>1.4</td>\n",
       "      <td>0.2</td>\n",
       "      <td>setosa</td>\n",
       "      <td>대</td>\n",
       "    </tr>\n",
       "    <tr>\n",
       "      <th>2</th>\n",
       "      <td>4.7</td>\n",
       "      <td>3.2</td>\n",
       "      <td>1.3</td>\n",
       "      <td>0.2</td>\n",
       "      <td>setosa</td>\n",
       "      <td>대</td>\n",
       "    </tr>\n",
       "    <tr>\n",
       "      <th>3</th>\n",
       "      <td>4.6</td>\n",
       "      <td>3.1</td>\n",
       "      <td>1.5</td>\n",
       "      <td>0.2</td>\n",
       "      <td>setosa</td>\n",
       "      <td>중</td>\n",
       "    </tr>\n",
       "    <tr>\n",
       "      <th>4</th>\n",
       "      <td>5.0</td>\n",
       "      <td>3.6</td>\n",
       "      <td>1.4</td>\n",
       "      <td>0.2</td>\n",
       "      <td>setosa</td>\n",
       "      <td>대</td>\n",
       "    </tr>\n",
       "    <tr>\n",
       "      <th>...</th>\n",
       "      <td>...</td>\n",
       "      <td>...</td>\n",
       "      <td>...</td>\n",
       "      <td>...</td>\n",
       "      <td>...</td>\n",
       "      <td>...</td>\n",
       "    </tr>\n",
       "    <tr>\n",
       "      <th>145</th>\n",
       "      <td>6.7</td>\n",
       "      <td>3.0</td>\n",
       "      <td>5.2</td>\n",
       "      <td>2.3</td>\n",
       "      <td>virginica</td>\n",
       "      <td>대</td>\n",
       "    </tr>\n",
       "    <tr>\n",
       "      <th>146</th>\n",
       "      <td>6.3</td>\n",
       "      <td>2.5</td>\n",
       "      <td>5.0</td>\n",
       "      <td>1.9</td>\n",
       "      <td>virginica</td>\n",
       "      <td>대</td>\n",
       "    </tr>\n",
       "    <tr>\n",
       "      <th>147</th>\n",
       "      <td>6.5</td>\n",
       "      <td>3.0</td>\n",
       "      <td>5.2</td>\n",
       "      <td>2.0</td>\n",
       "      <td>virginica</td>\n",
       "      <td>대</td>\n",
       "    </tr>\n",
       "    <tr>\n",
       "      <th>148</th>\n",
       "      <td>6.2</td>\n",
       "      <td>3.4</td>\n",
       "      <td>5.4</td>\n",
       "      <td>2.3</td>\n",
       "      <td>virginica</td>\n",
       "      <td>중</td>\n",
       "    </tr>\n",
       "    <tr>\n",
       "      <th>149</th>\n",
       "      <td>5.9</td>\n",
       "      <td>3.0</td>\n",
       "      <td>5.1</td>\n",
       "      <td>1.8</td>\n",
       "      <td>virginica</td>\n",
       "      <td>대</td>\n",
       "    </tr>\n",
       "  </tbody>\n",
       "</table>\n",
       "<p>150 rows × 6 columns</p>\n",
       "</div>"
      ],
      "text/plain": [
       "     sepal_length  sepal_width  petal_length  petal_width    species  \\\n",
       "0             5.1          3.5           1.4          0.2     setosa   \n",
       "1             4.9          3.0           1.4          0.2     setosa   \n",
       "2             4.7          3.2           1.3          0.2     setosa   \n",
       "3             4.6          3.1           1.5          0.2     setosa   \n",
       "4             5.0          3.6           1.4          0.2     setosa   \n",
       "..            ...          ...           ...          ...        ...   \n",
       "145           6.7          3.0           5.2          2.3  virginica   \n",
       "146           6.3          2.5           5.0          1.9  virginica   \n",
       "147           6.5          3.0           5.2          2.0  virginica   \n",
       "148           6.2          3.4           5.4          2.3  virginica   \n",
       "149           5.9          3.0           5.1          1.8  virginica   \n",
       "\n",
       "    petal_length_class  \n",
       "0                    대  \n",
       "1                    대  \n",
       "2                    대  \n",
       "3                    중  \n",
       "4                    대  \n",
       "..                 ...  \n",
       "145                  대  \n",
       "146                  대  \n",
       "147                  대  \n",
       "148                  중  \n",
       "149                  대  \n",
       "\n",
       "[150 rows x 6 columns]"
      ]
     },
     "execution_count": 11,
     "metadata": {},
     "output_type": "execute_result"
    }
   ],
   "source": [
    "def func_qcut(x):\n",
    "    return pd.qcut(x, 3, labels=[\"대\", \"중\", \"소\"])\n",
    "\n",
    "###################################################################\n",
    "\n",
    "#iris[\"petal_length_class\"] \n",
    "\n",
    "iris.groupby(\"species\")[\"petal_length\"].apply(func_qcut)\n",
    "\n",
    "iris[\"petal_length_class\"] = iris.groupby(\"species\")[\"petal_length\"].apply(func_qcut) # 복습하자\n",
    "\n",
    "iris"
   ]
  },
  {
   "cell_type": "code",
   "execution_count": 14,
   "id": "4b1562bb",
   "metadata": {},
   "outputs": [
    {
     "data": {
      "text/html": [
       "<div>\n",
       "<style scoped>\n",
       "    .dataframe tbody tr th:only-of-type {\n",
       "        vertical-align: middle;\n",
       "    }\n",
       "\n",
       "    .dataframe tbody tr th {\n",
       "        vertical-align: top;\n",
       "    }\n",
       "\n",
       "    .dataframe thead th {\n",
       "        text-align: right;\n",
       "    }\n",
       "</style>\n",
       "<table border=\"1\" class=\"dataframe\">\n",
       "  <thead>\n",
       "    <tr style=\"text-align: right;\">\n",
       "      <th></th>\n",
       "      <th>sepal_length</th>\n",
       "      <th>sepal_width</th>\n",
       "      <th>petal_length</th>\n",
       "      <th>petal_width</th>\n",
       "      <th>species</th>\n",
       "      <th>petal_length_class</th>\n",
       "    </tr>\n",
       "  </thead>\n",
       "  <tbody>\n",
       "    <tr>\n",
       "      <th>0</th>\n",
       "      <td>5.1</td>\n",
       "      <td>3.5</td>\n",
       "      <td>1.4</td>\n",
       "      <td>0.2</td>\n",
       "      <td>setosa</td>\n",
       "      <td>NaN</td>\n",
       "    </tr>\n",
       "    <tr>\n",
       "      <th>1</th>\n",
       "      <td>4.9</td>\n",
       "      <td>3.0</td>\n",
       "      <td>1.4</td>\n",
       "      <td>0.2</td>\n",
       "      <td>setosa</td>\n",
       "      <td>NaN</td>\n",
       "    </tr>\n",
       "    <tr>\n",
       "      <th>2</th>\n",
       "      <td>4.7</td>\n",
       "      <td>3.2</td>\n",
       "      <td>1.3</td>\n",
       "      <td>0.2</td>\n",
       "      <td>setosa</td>\n",
       "      <td>NaN</td>\n",
       "    </tr>\n",
       "    <tr>\n",
       "      <th>3</th>\n",
       "      <td>4.6</td>\n",
       "      <td>3.1</td>\n",
       "      <td>1.5</td>\n",
       "      <td>0.2</td>\n",
       "      <td>setosa</td>\n",
       "      <td>NaN</td>\n",
       "    </tr>\n",
       "    <tr>\n",
       "      <th>4</th>\n",
       "      <td>5.0</td>\n",
       "      <td>3.6</td>\n",
       "      <td>1.4</td>\n",
       "      <td>0.2</td>\n",
       "      <td>setosa</td>\n",
       "      <td>NaN</td>\n",
       "    </tr>\n",
       "    <tr>\n",
       "      <th>...</th>\n",
       "      <td>...</td>\n",
       "      <td>...</td>\n",
       "      <td>...</td>\n",
       "      <td>...</td>\n",
       "      <td>...</td>\n",
       "      <td>...</td>\n",
       "    </tr>\n",
       "    <tr>\n",
       "      <th>145</th>\n",
       "      <td>6.7</td>\n",
       "      <td>3.0</td>\n",
       "      <td>5.2</td>\n",
       "      <td>2.3</td>\n",
       "      <td>virginica</td>\n",
       "      <td>NaN</td>\n",
       "    </tr>\n",
       "    <tr>\n",
       "      <th>146</th>\n",
       "      <td>6.3</td>\n",
       "      <td>2.5</td>\n",
       "      <td>5.0</td>\n",
       "      <td>1.9</td>\n",
       "      <td>virginica</td>\n",
       "      <td>NaN</td>\n",
       "    </tr>\n",
       "    <tr>\n",
       "      <th>147</th>\n",
       "      <td>6.5</td>\n",
       "      <td>3.0</td>\n",
       "      <td>5.2</td>\n",
       "      <td>2.0</td>\n",
       "      <td>virginica</td>\n",
       "      <td>NaN</td>\n",
       "    </tr>\n",
       "    <tr>\n",
       "      <th>148</th>\n",
       "      <td>6.2</td>\n",
       "      <td>3.4</td>\n",
       "      <td>5.4</td>\n",
       "      <td>2.3</td>\n",
       "      <td>virginica</td>\n",
       "      <td>NaN</td>\n",
       "    </tr>\n",
       "    <tr>\n",
       "      <th>149</th>\n",
       "      <td>5.9</td>\n",
       "      <td>3.0</td>\n",
       "      <td>5.1</td>\n",
       "      <td>1.8</td>\n",
       "      <td>virginica</td>\n",
       "      <td>NaN</td>\n",
       "    </tr>\n",
       "  </tbody>\n",
       "</table>\n",
       "<p>150 rows × 6 columns</p>\n",
       "</div>"
      ],
      "text/plain": [
       "     sepal_length  sepal_width  petal_length  petal_width    species  \\\n",
       "0             5.1          3.5           1.4          0.2     setosa   \n",
       "1             4.9          3.0           1.4          0.2     setosa   \n",
       "2             4.7          3.2           1.3          0.2     setosa   \n",
       "3             4.6          3.1           1.5          0.2     setosa   \n",
       "4             5.0          3.6           1.4          0.2     setosa   \n",
       "..            ...          ...           ...          ...        ...   \n",
       "145           6.7          3.0           5.2          2.3  virginica   \n",
       "146           6.3          2.5           5.0          1.9  virginica   \n",
       "147           6.5          3.0           5.2          2.0  virginica   \n",
       "148           6.2          3.4           5.4          2.3  virginica   \n",
       "149           5.9          3.0           5.1          1.8  virginica   \n",
       "\n",
       "    petal_length_class  \n",
       "0                  NaN  \n",
       "1                  NaN  \n",
       "2                  NaN  \n",
       "3                  NaN  \n",
       "4                  NaN  \n",
       "..                 ...  \n",
       "145                NaN  \n",
       "146                NaN  \n",
       "147                NaN  \n",
       "148                NaN  \n",
       "149                NaN  \n",
       "\n",
       "[150 rows x 6 columns]"
      ]
     },
     "execution_count": 14,
     "metadata": {},
     "output_type": "execute_result"
    }
   ],
   "source": [
    "iris[\"petal_length_class\"] = iris.groupby(\"species\")[\"petal_length\"].agg(func_qcut) # 얘는 값을 못구하네\n",
    "iris"
   ]
  },
  {
   "cell_type": "code",
   "execution_count": 15,
   "id": "d54e14ae",
   "metadata": {},
   "outputs": [
    {
     "data": {
      "text/html": [
       "<div>\n",
       "<style scoped>\n",
       "    .dataframe tbody tr th:only-of-type {\n",
       "        vertical-align: middle;\n",
       "    }\n",
       "\n",
       "    .dataframe tbody tr th {\n",
       "        vertical-align: top;\n",
       "    }\n",
       "\n",
       "    .dataframe thead th {\n",
       "        text-align: right;\n",
       "    }\n",
       "</style>\n",
       "<table border=\"1\" class=\"dataframe\">\n",
       "  <thead>\n",
       "    <tr style=\"text-align: right;\">\n",
       "      <th></th>\n",
       "      <th>sepal_length</th>\n",
       "      <th>sepal_width</th>\n",
       "      <th>petal_length</th>\n",
       "      <th>petal_width</th>\n",
       "      <th>species</th>\n",
       "      <th>petal_length_class</th>\n",
       "    </tr>\n",
       "  </thead>\n",
       "  <tbody>\n",
       "    <tr>\n",
       "      <th>0</th>\n",
       "      <td>5.1</td>\n",
       "      <td>3.5</td>\n",
       "      <td>1.4</td>\n",
       "      <td>0.2</td>\n",
       "      <td>setosa</td>\n",
       "      <td>대</td>\n",
       "    </tr>\n",
       "    <tr>\n",
       "      <th>1</th>\n",
       "      <td>4.9</td>\n",
       "      <td>3.0</td>\n",
       "      <td>1.4</td>\n",
       "      <td>0.2</td>\n",
       "      <td>setosa</td>\n",
       "      <td>대</td>\n",
       "    </tr>\n",
       "    <tr>\n",
       "      <th>2</th>\n",
       "      <td>4.7</td>\n",
       "      <td>3.2</td>\n",
       "      <td>1.3</td>\n",
       "      <td>0.2</td>\n",
       "      <td>setosa</td>\n",
       "      <td>대</td>\n",
       "    </tr>\n",
       "    <tr>\n",
       "      <th>3</th>\n",
       "      <td>4.6</td>\n",
       "      <td>3.1</td>\n",
       "      <td>1.5</td>\n",
       "      <td>0.2</td>\n",
       "      <td>setosa</td>\n",
       "      <td>중</td>\n",
       "    </tr>\n",
       "    <tr>\n",
       "      <th>4</th>\n",
       "      <td>5.0</td>\n",
       "      <td>3.6</td>\n",
       "      <td>1.4</td>\n",
       "      <td>0.2</td>\n",
       "      <td>setosa</td>\n",
       "      <td>대</td>\n",
       "    </tr>\n",
       "    <tr>\n",
       "      <th>...</th>\n",
       "      <td>...</td>\n",
       "      <td>...</td>\n",
       "      <td>...</td>\n",
       "      <td>...</td>\n",
       "      <td>...</td>\n",
       "      <td>...</td>\n",
       "    </tr>\n",
       "    <tr>\n",
       "      <th>145</th>\n",
       "      <td>6.7</td>\n",
       "      <td>3.0</td>\n",
       "      <td>5.2</td>\n",
       "      <td>2.3</td>\n",
       "      <td>virginica</td>\n",
       "      <td>대</td>\n",
       "    </tr>\n",
       "    <tr>\n",
       "      <th>146</th>\n",
       "      <td>6.3</td>\n",
       "      <td>2.5</td>\n",
       "      <td>5.0</td>\n",
       "      <td>1.9</td>\n",
       "      <td>virginica</td>\n",
       "      <td>대</td>\n",
       "    </tr>\n",
       "    <tr>\n",
       "      <th>147</th>\n",
       "      <td>6.5</td>\n",
       "      <td>3.0</td>\n",
       "      <td>5.2</td>\n",
       "      <td>2.0</td>\n",
       "      <td>virginica</td>\n",
       "      <td>대</td>\n",
       "    </tr>\n",
       "    <tr>\n",
       "      <th>148</th>\n",
       "      <td>6.2</td>\n",
       "      <td>3.4</td>\n",
       "      <td>5.4</td>\n",
       "      <td>2.3</td>\n",
       "      <td>virginica</td>\n",
       "      <td>중</td>\n",
       "    </tr>\n",
       "    <tr>\n",
       "      <th>149</th>\n",
       "      <td>5.9</td>\n",
       "      <td>3.0</td>\n",
       "      <td>5.1</td>\n",
       "      <td>1.8</td>\n",
       "      <td>virginica</td>\n",
       "      <td>대</td>\n",
       "    </tr>\n",
       "  </tbody>\n",
       "</table>\n",
       "<p>150 rows × 6 columns</p>\n",
       "</div>"
      ],
      "text/plain": [
       "     sepal_length  sepal_width  petal_length  petal_width    species  \\\n",
       "0             5.1          3.5           1.4          0.2     setosa   \n",
       "1             4.9          3.0           1.4          0.2     setosa   \n",
       "2             4.7          3.2           1.3          0.2     setosa   \n",
       "3             4.6          3.1           1.5          0.2     setosa   \n",
       "4             5.0          3.6           1.4          0.2     setosa   \n",
       "..            ...          ...           ...          ...        ...   \n",
       "145           6.7          3.0           5.2          2.3  virginica   \n",
       "146           6.3          2.5           5.0          1.9  virginica   \n",
       "147           6.5          3.0           5.2          2.0  virginica   \n",
       "148           6.2          3.4           5.4          2.3  virginica   \n",
       "149           5.9          3.0           5.1          1.8  virginica   \n",
       "\n",
       "    petal_length_class  \n",
       "0                    대  \n",
       "1                    대  \n",
       "2                    대  \n",
       "3                    중  \n",
       "4                    대  \n",
       "..                 ...  \n",
       "145                  대  \n",
       "146                  대  \n",
       "147                  대  \n",
       "148                  중  \n",
       "149                  대  \n",
       "\n",
       "[150 rows x 6 columns]"
      ]
     },
     "execution_count": 15,
     "metadata": {},
     "output_type": "execute_result"
    }
   ],
   "source": [
    "iris[\"petal_length_class\"] = iris.groupby(\"species\")[\"petal_length\"].transform(func_qcut) # 얘는 되네..\n",
    "iris"
   ]
  },
  {
   "cell_type": "code",
   "execution_count": null,
   "id": "29220200",
   "metadata": {},
   "outputs": [],
   "source": []
  },
  {
   "cell_type": "code",
   "execution_count": null,
   "id": "5b252b94",
   "metadata": {},
   "outputs": [],
   "source": []
  },
  {
   "cell_type": "code",
   "execution_count": null,
   "id": "608ec060",
   "metadata": {},
   "outputs": [],
   "source": []
  },
  {
   "cell_type": "markdown",
   "id": "094699fc",
   "metadata": {},
   "source": [
    "# 바로 밑에 이거 ㄹㅇ 중요 감동"
   ]
  },
  {
   "cell_type": "code",
   "execution_count": 292,
   "id": "f9347f5d",
   "metadata": {
    "scrolled": false
   },
   "outputs": [
    {
     "name": "stdout",
     "output_type": "stream",
     "text": [
      "           petal_length     \n",
      "                   amax amin\n",
      "species                     \n",
      "setosa              1.9  1.0\n",
      "versicolor          5.1  3.0\n",
      "virginica           6.9  4.5\n"
     ]
    }
   ],
   "source": [
    "print(iris.groupby([\"species\"])[[\"petal_length\"]].agg([np.max, np.min]))"
   ]
  },
  {
   "cell_type": "code",
   "execution_count": 298,
   "id": "3b7e6b94",
   "metadata": {},
   "outputs": [],
   "source": [
    "bms_setosa = pd.qcut(iris.petal_length[0:50], 3, labels = [\"소\", \"중\", \"대\"])\n",
    "bms_versicolor = pd.qcut(iris.petal_length[50:100], 3, labels = [\"소\", \"중\", \"대\"])\n",
    "bms_virginica = pd.qcut(iris.petal_length[100:], 3, labels = [\"소\", \"중\", \"대\"])"
   ]
  },
  {
   "cell_type": "code",
   "execution_count": 303,
   "id": "99378af8",
   "metadata": {},
   "outputs": [
    {
     "data": {
      "text/plain": [
       "list"
      ]
     },
     "execution_count": 303,
     "metadata": {},
     "output_type": "execute_result"
    }
   ],
   "source": [
    "print(bms_setosa)"
   ]
  },
  {
   "cell_type": "code",
   "execution_count": 305,
   "id": "ae6241b4",
   "metadata": {},
   "outputs": [],
   "source": [
    "bms_iris=pd.concat([bms_setosa, bms_versicolor, bms_virginica])"
   ]
  },
  {
   "cell_type": "code",
   "execution_count": 306,
   "id": "2fe41429",
   "metadata": {},
   "outputs": [
    {
     "data": {
      "text/plain": [
       "0      소\n",
       "1      소\n",
       "2      소\n",
       "3      중\n",
       "4      소\n",
       "      ..\n",
       "145    소\n",
       "146    소\n",
       "147    소\n",
       "148    중\n",
       "149    소\n",
       "Name: petal_length, Length: 150, dtype: category\n",
       "Categories (3, object): ['소' < '중' < '대']"
      ]
     },
     "execution_count": 306,
     "metadata": {},
     "output_type": "execute_result"
    }
   ],
   "source": [
    "bms_iris"
   ]
  },
  {
   "cell_type": "code",
   "execution_count": null,
   "id": "fef3bb6b",
   "metadata": {},
   "outputs": [],
   "source": []
  },
  {
   "cell_type": "code",
   "execution_count": 190,
   "id": "b80dcd21",
   "metadata": {},
   "outputs": [
    {
     "data": {
      "text/html": [
       "<div>\n",
       "<style scoped>\n",
       "    .dataframe tbody tr th:only-of-type {\n",
       "        vertical-align: middle;\n",
       "    }\n",
       "\n",
       "    .dataframe tbody tr th {\n",
       "        vertical-align: top;\n",
       "    }\n",
       "\n",
       "    .dataframe thead th {\n",
       "        text-align: right;\n",
       "    }\n",
       "</style>\n",
       "<table border=\"1\" class=\"dataframe\">\n",
       "  <thead>\n",
       "    <tr style=\"text-align: right;\">\n",
       "      <th></th>\n",
       "      <th>sepal_length</th>\n",
       "      <th>sepal_width</th>\n",
       "      <th>petal_length</th>\n",
       "      <th>petal_width</th>\n",
       "    </tr>\n",
       "    <tr>\n",
       "      <th>species</th>\n",
       "      <th></th>\n",
       "      <th></th>\n",
       "      <th></th>\n",
       "      <th></th>\n",
       "    </tr>\n",
       "  </thead>\n",
       "  <tbody>\n",
       "    <tr>\n",
       "      <th>setosa</th>\n",
       "      <td>5.1</td>\n",
       "      <td>3.5</td>\n",
       "      <td>1.4</td>\n",
       "      <td>0.2</td>\n",
       "    </tr>\n",
       "    <tr>\n",
       "      <th>setosa</th>\n",
       "      <td>4.9</td>\n",
       "      <td>3.0</td>\n",
       "      <td>1.4</td>\n",
       "      <td>0.2</td>\n",
       "    </tr>\n",
       "    <tr>\n",
       "      <th>setosa</th>\n",
       "      <td>4.7</td>\n",
       "      <td>3.2</td>\n",
       "      <td>1.3</td>\n",
       "      <td>0.2</td>\n",
       "    </tr>\n",
       "    <tr>\n",
       "      <th>setosa</th>\n",
       "      <td>4.6</td>\n",
       "      <td>3.1</td>\n",
       "      <td>1.5</td>\n",
       "      <td>0.2</td>\n",
       "    </tr>\n",
       "    <tr>\n",
       "      <th>setosa</th>\n",
       "      <td>5.0</td>\n",
       "      <td>3.6</td>\n",
       "      <td>1.4</td>\n",
       "      <td>0.2</td>\n",
       "    </tr>\n",
       "    <tr>\n",
       "      <th>...</th>\n",
       "      <td>...</td>\n",
       "      <td>...</td>\n",
       "      <td>...</td>\n",
       "      <td>...</td>\n",
       "    </tr>\n",
       "    <tr>\n",
       "      <th>virginica</th>\n",
       "      <td>6.7</td>\n",
       "      <td>3.0</td>\n",
       "      <td>5.2</td>\n",
       "      <td>2.3</td>\n",
       "    </tr>\n",
       "    <tr>\n",
       "      <th>virginica</th>\n",
       "      <td>6.3</td>\n",
       "      <td>2.5</td>\n",
       "      <td>5.0</td>\n",
       "      <td>1.9</td>\n",
       "    </tr>\n",
       "    <tr>\n",
       "      <th>virginica</th>\n",
       "      <td>6.5</td>\n",
       "      <td>3.0</td>\n",
       "      <td>5.2</td>\n",
       "      <td>2.0</td>\n",
       "    </tr>\n",
       "    <tr>\n",
       "      <th>virginica</th>\n",
       "      <td>6.2</td>\n",
       "      <td>3.4</td>\n",
       "      <td>5.4</td>\n",
       "      <td>2.3</td>\n",
       "    </tr>\n",
       "    <tr>\n",
       "      <th>virginica</th>\n",
       "      <td>5.9</td>\n",
       "      <td>3.0</td>\n",
       "      <td>5.1</td>\n",
       "      <td>1.8</td>\n",
       "    </tr>\n",
       "  </tbody>\n",
       "</table>\n",
       "<p>150 rows × 4 columns</p>\n",
       "</div>"
      ],
      "text/plain": [
       "           sepal_length  sepal_width  petal_length  petal_width\n",
       "species                                                        \n",
       "setosa              5.1          3.5           1.4          0.2\n",
       "setosa              4.9          3.0           1.4          0.2\n",
       "setosa              4.7          3.2           1.3          0.2\n",
       "setosa              4.6          3.1           1.5          0.2\n",
       "setosa              5.0          3.6           1.4          0.2\n",
       "...                 ...          ...           ...          ...\n",
       "virginica           6.7          3.0           5.2          2.3\n",
       "virginica           6.3          2.5           5.0          1.9\n",
       "virginica           6.5          3.0           5.2          2.0\n",
       "virginica           6.2          3.4           5.4          2.3\n",
       "virginica           5.9          3.0           5.1          1.8\n",
       "\n",
       "[150 rows x 4 columns]"
      ]
     },
     "execution_count": 190,
     "metadata": {},
     "output_type": "execute_result"
    }
   ],
   "source": [
    "iris2=iris.set_index(\"species\")\n",
    "iris2"
   ]
  },
  {
   "cell_type": "code",
   "execution_count": null,
   "id": "5d740952",
   "metadata": {},
   "outputs": [],
   "source": []
  },
  {
   "cell_type": "code",
   "execution_count": 209,
   "id": "14c9f7ac",
   "metadata": {},
   "outputs": [
    {
     "data": {
      "text/plain": [
       "species\n",
       "setosa        1.50\n",
       "versicolor    4.35\n",
       "virginica     5.55\n",
       "Name: petal_length, dtype: float64"
      ]
     },
     "execution_count": 209,
     "metadata": {},
     "output_type": "execute_result"
    }
   ],
   "source": [
    "iris.groupby(\"species\").median()[\"petal_length\"]"
   ]
  },
  {
   "cell_type": "code",
   "execution_count": 191,
   "id": "db22c97d",
   "metadata": {},
   "outputs": [
    {
     "name": "stdout",
     "output_type": "stream",
     "text": [
      "1.4    13\n",
      "1.5    13\n",
      "5.1     8\n",
      "4.5     8\n",
      "1.6     7\n",
      "1.3     7\n",
      "5.6     6\n",
      "4.7     5\n",
      "4.9     5\n",
      "4.0     5\n",
      "4.2     4\n",
      "5.0     4\n",
      "4.4     4\n",
      "4.8     4\n",
      "1.7     4\n",
      "3.9     3\n",
      "4.6     3\n",
      "5.7     3\n",
      "4.1     3\n",
      "5.5     3\n",
      "6.1     3\n",
      "5.8     3\n",
      "3.3     2\n",
      "5.4     2\n",
      "6.7     2\n",
      "5.3     2\n",
      "5.9     2\n",
      "6.0     2\n",
      "1.2     2\n",
      "4.3     2\n",
      "1.9     2\n",
      "3.5     2\n",
      "5.2     2\n",
      "3.0     1\n",
      "1.1     1\n",
      "3.7     1\n",
      "3.8     1\n",
      "6.6     1\n",
      "6.3     1\n",
      "1.0     1\n",
      "6.9     1\n",
      "3.6     1\n",
      "6.4     1\n",
      "Name: petal_length, dtype: int64\n"
     ]
    }
   ],
   "source": [
    "print(iris2[\"petal_length\"].value_counts())"
   ]
  },
  {
   "cell_type": "code",
   "execution_count": 17,
   "id": "e44f93aa",
   "metadata": {},
   "outputs": [
    {
     "name": "stdout",
     "output_type": "stream",
     "text": [
      "  city  fruits  price  quantity\n",
      "0   부산   apple    100         1\n",
      "1   부산  orange    200         2\n",
      "2   부산  banana    250         3\n",
      "3   부산  banana    300         4\n",
      "4   서울   apple    150         5\n",
      "5   서울   apple    200         6\n",
      "6   서울  banana    400         7\n"
     ]
    }
   ],
   "source": [
    "df = pd.DataFrame({\n",
    "    'city': ['부산', '부산', '부산', '부산', '서울', '서울', '서울'],\n",
    "    'fruits': ['apple', 'orange', 'banana', 'banana', 'apple', 'apple', 'banana'],\n",
    "    'price': [100, 200, 250, 300, 150, 200, 400],\n",
    "    'quantity': [1, 2, 3, 4, 5, 6, 7]\n",
    "})\n",
    "\n",
    "print(df)"
   ]
  },
  {
   "cell_type": "code",
   "execution_count": 18,
   "id": "52ebbd09",
   "metadata": {},
   "outputs": [
    {
     "name": "stdout",
     "output_type": "stream",
     "text": [
      "      price  quantity\n",
      "city                 \n",
      "부산    212.5       2.5\n",
      "서울    250.0       6.0\n",
      "      price  quantity\n",
      "city                 \n",
      "부산    212.5       2.5\n",
      "서울    250.0       6.0\n"
     ]
    }
   ],
   "source": [
    "# 2. 도시별로 과일의 가격 평균과 수량 평균을 구하시오\n",
    "df.groupby(\"city\").mean()[[\"price\",\"quantity\"]]\n",
    "\n",
    "print(df.groupby([\"city\"]).mean())\n",
    "print(df.groupby(\"city\").mean())"
   ]
  },
  {
   "cell_type": "code",
   "execution_count": 205,
   "id": "d8f94cef",
   "metadata": {},
   "outputs": [
    {
     "data": {
      "text/html": [
       "<div>\n",
       "<style scoped>\n",
       "    .dataframe tbody tr th:only-of-type {\n",
       "        vertical-align: middle;\n",
       "    }\n",
       "\n",
       "    .dataframe tbody tr th {\n",
       "        vertical-align: top;\n",
       "    }\n",
       "\n",
       "    .dataframe thead th {\n",
       "        text-align: right;\n",
       "    }\n",
       "</style>\n",
       "<table border=\"1\" class=\"dataframe\">\n",
       "  <thead>\n",
       "    <tr style=\"text-align: right;\">\n",
       "      <th></th>\n",
       "      <th></th>\n",
       "      <th>price</th>\n",
       "      <th>quantity</th>\n",
       "    </tr>\n",
       "    <tr>\n",
       "      <th>city</th>\n",
       "      <th>fruits</th>\n",
       "      <th></th>\n",
       "      <th></th>\n",
       "    </tr>\n",
       "  </thead>\n",
       "  <tbody>\n",
       "    <tr>\n",
       "      <th rowspan=\"3\" valign=\"top\">부산</th>\n",
       "      <th>apple</th>\n",
       "      <td>100.0</td>\n",
       "      <td>1.0</td>\n",
       "    </tr>\n",
       "    <tr>\n",
       "      <th>banana</th>\n",
       "      <td>275.0</td>\n",
       "      <td>3.5</td>\n",
       "    </tr>\n",
       "    <tr>\n",
       "      <th>orange</th>\n",
       "      <td>200.0</td>\n",
       "      <td>2.0</td>\n",
       "    </tr>\n",
       "    <tr>\n",
       "      <th rowspan=\"2\" valign=\"top\">서울</th>\n",
       "      <th>apple</th>\n",
       "      <td>175.0</td>\n",
       "      <td>5.5</td>\n",
       "    </tr>\n",
       "    <tr>\n",
       "      <th>banana</th>\n",
       "      <td>400.0</td>\n",
       "      <td>7.0</td>\n",
       "    </tr>\n",
       "  </tbody>\n",
       "</table>\n",
       "</div>"
      ],
      "text/plain": [
       "             price  quantity\n",
       "city fruits                 \n",
       "부산   apple   100.0       1.0\n",
       "     banana  275.0       3.5\n",
       "     orange  200.0       2.0\n",
       "서울   apple   175.0       5.5\n",
       "     banana  400.0       7.0"
      ]
     },
     "execution_count": 205,
     "metadata": {},
     "output_type": "execute_result"
    }
   ],
   "source": [
    "# 3. 도시별, 과일별 가격 평균과 수량 평균을 구하시오.\n",
    "df.groupby([\"city\",\"fruits\"]).mean()[[\"price\",\"quantity\"]]"
   ]
  },
  {
   "cell_type": "code",
   "execution_count": 214,
   "id": "7da3ae4b",
   "metadata": {},
   "outputs": [
    {
     "data": {
      "text/html": [
       "<div>\n",
       "<style scoped>\n",
       "    .dataframe tbody tr th:only-of-type {\n",
       "        vertical-align: middle;\n",
       "    }\n",
       "\n",
       "    .dataframe tbody tr th {\n",
       "        vertical-align: top;\n",
       "    }\n",
       "\n",
       "    .dataframe thead th {\n",
       "        text-align: right;\n",
       "    }\n",
       "</style>\n",
       "<table border=\"1\" class=\"dataframe\">\n",
       "  <thead>\n",
       "    <tr style=\"text-align: right;\">\n",
       "      <th></th>\n",
       "      <th>price</th>\n",
       "      <th>quantity</th>\n",
       "    </tr>\n",
       "  </thead>\n",
       "  <tbody>\n",
       "    <tr>\n",
       "      <th>0</th>\n",
       "      <td>100.0</td>\n",
       "      <td>1.0</td>\n",
       "    </tr>\n",
       "    <tr>\n",
       "      <th>1</th>\n",
       "      <td>275.0</td>\n",
       "      <td>3.5</td>\n",
       "    </tr>\n",
       "    <tr>\n",
       "      <th>2</th>\n",
       "      <td>200.0</td>\n",
       "      <td>2.0</td>\n",
       "    </tr>\n",
       "    <tr>\n",
       "      <th>3</th>\n",
       "      <td>175.0</td>\n",
       "      <td>5.5</td>\n",
       "    </tr>\n",
       "    <tr>\n",
       "      <th>4</th>\n",
       "      <td>400.0</td>\n",
       "      <td>7.0</td>\n",
       "    </tr>\n",
       "  </tbody>\n",
       "</table>\n",
       "</div>"
      ],
      "text/plain": [
       "   price  quantity\n",
       "0  100.0       1.0\n",
       "1  275.0       3.5\n",
       "2  200.0       2.0\n",
       "3  175.0       5.5\n",
       "4  400.0       7.0"
      ]
     },
     "execution_count": 214,
     "metadata": {},
     "output_type": "execute_result"
    }
   ],
   "source": [
    "# 4. 위의 3번 문제에서 도시별, 과일별을 인덱스로 처리되지 않게 조회(reference를 조회하여 groupby 함수의 인자를 찾아서 처리)\n",
    "df.groupby([\"city\",\"fruits\"], as_index=False).mean()[[\"price\",\"quantity\"]]"
   ]
  },
  {
   "cell_type": "code",
   "execution_count": 19,
   "id": "51a28eab",
   "metadata": {},
   "outputs": [
    {
     "name": "stdout",
     "output_type": "stream",
     "text": [
      "  city  fruits  price  quantity\n",
      "0   부산   apple  100.0       1.0\n",
      "1   부산  banana  275.0       3.5\n",
      "2   부산  orange  200.0       2.0\n",
      "3   서울   apple  175.0       5.5\n",
      "4   서울  banana  400.0       7.0\n"
     ]
    }
   ],
   "source": [
    "print(df.groupby([\"city\",\"fruits\"], as_index=False).mean()) #강사님 풀이"
   ]
  },
  {
   "cell_type": "code",
   "execution_count": 215,
   "id": "5736e60d",
   "metadata": {},
   "outputs": [],
   "source": [
    "?df.groupby"
   ]
  },
  {
   "cell_type": "code",
   "execution_count": null,
   "id": "5f1f8776",
   "metadata": {},
   "outputs": [],
   "source": []
  },
  {
   "cell_type": "code",
   "execution_count": null,
   "id": "8d05f6f7",
   "metadata": {},
   "outputs": [],
   "source": []
  },
  {
   "cell_type": "markdown",
   "id": "7960dc4a",
   "metadata": {},
   "source": [
    "### (4) pivot_table()\n",
    "\n",
    "- pivot() + groupby()\n",
    "- pivot_table()\n",
    "    - values=None, index=None, columns=None, aggfunc='mean', fill_value=None, margins=False, dropna=True, margins_name='All', observed=False, sort=True\n",
    "    - margins = True : 행과 열에 ALL이라는 인덱스가 생김\n",
    "    - aggfunc = sum : aggfunc의 기본값은 mean이지만 sum으로 써줄 경우 ALL의 값이 모두 Sum으로 바뀜\n",
    "    - fill_value = 0 : NaN이 0으로 채워짐"
   ]
  },
  {
   "cell_type": "code",
   "execution_count": 145,
   "id": "6e15c1e1",
   "metadata": {},
   "outputs": [
    {
     "data": {
      "text/html": [
       "<div>\n",
       "<style scoped>\n",
       "    .dataframe tbody tr th:only-of-type {\n",
       "        vertical-align: middle;\n",
       "    }\n",
       "\n",
       "    .dataframe tbody tr th {\n",
       "        vertical-align: top;\n",
       "    }\n",
       "\n",
       "    .dataframe thead th {\n",
       "        text-align: right;\n",
       "    }\n",
       "</style>\n",
       "<table border=\"1\" class=\"dataframe\">\n",
       "  <thead>\n",
       "    <tr style=\"text-align: right;\">\n",
       "      <th></th>\n",
       "      <th>도시</th>\n",
       "      <th>연도</th>\n",
       "      <th>인구</th>\n",
       "      <th>지역</th>\n",
       "    </tr>\n",
       "  </thead>\n",
       "  <tbody>\n",
       "    <tr>\n",
       "      <th>0</th>\n",
       "      <td>서울</td>\n",
       "      <td>2015</td>\n",
       "      <td>9904312</td>\n",
       "      <td>수도권</td>\n",
       "    </tr>\n",
       "    <tr>\n",
       "      <th>1</th>\n",
       "      <td>서울</td>\n",
       "      <td>2010</td>\n",
       "      <td>9631482</td>\n",
       "      <td>수도권</td>\n",
       "    </tr>\n",
       "    <tr>\n",
       "      <th>2</th>\n",
       "      <td>서울</td>\n",
       "      <td>2005</td>\n",
       "      <td>9762546</td>\n",
       "      <td>수도권</td>\n",
       "    </tr>\n",
       "    <tr>\n",
       "      <th>3</th>\n",
       "      <td>부산</td>\n",
       "      <td>2015</td>\n",
       "      <td>3448737</td>\n",
       "      <td>경상권</td>\n",
       "    </tr>\n",
       "    <tr>\n",
       "      <th>4</th>\n",
       "      <td>부산</td>\n",
       "      <td>2010</td>\n",
       "      <td>3393191</td>\n",
       "      <td>경상권</td>\n",
       "    </tr>\n",
       "    <tr>\n",
       "      <th>5</th>\n",
       "      <td>부산</td>\n",
       "      <td>2005</td>\n",
       "      <td>3512547</td>\n",
       "      <td>경상권</td>\n",
       "    </tr>\n",
       "    <tr>\n",
       "      <th>6</th>\n",
       "      <td>인천</td>\n",
       "      <td>2015</td>\n",
       "      <td>2890451</td>\n",
       "      <td>수도권</td>\n",
       "    </tr>\n",
       "    <tr>\n",
       "      <th>7</th>\n",
       "      <td>인천</td>\n",
       "      <td>2010</td>\n",
       "      <td>263203</td>\n",
       "      <td>수도권</td>\n",
       "    </tr>\n",
       "  </tbody>\n",
       "</table>\n",
       "</div>"
      ],
      "text/plain": [
       "   도시    연도       인구   지역\n",
       "0  서울  2015  9904312  수도권\n",
       "1  서울  2010  9631482  수도권\n",
       "2  서울  2005  9762546  수도권\n",
       "3  부산  2015  3448737  경상권\n",
       "4  부산  2010  3393191  경상권\n",
       "5  부산  2005  3512547  경상권\n",
       "6  인천  2015  2890451  수도권\n",
       "7  인천  2010   263203  수도권"
      ]
     },
     "execution_count": 145,
     "metadata": {},
     "output_type": "execute_result"
    }
   ],
   "source": [
    "##### 각 도시에서 연도별로 인구수를 알고 싶다.\n",
    "data = {\n",
    "    \"도시\": [\"서울\", \"서울\", \"서울\", \"부산\", \"부산\", \"부산\", \"인천\", \"인천\"],\n",
    "    \"연도\": [\"2015\", \"2010\", \"2005\", \"2015\", \"2010\", \"2005\", \"2015\", \"2010\"],\n",
    "    \"인구\": [9904312, 9631482, 9762546, 3448737, 3393191, 3512547, 2890451, 263203],\n",
    "    \"지역\": [\"수도권\", \"수도권\", \"수도권\", \"경상권\", \"경상권\", \"경상권\", \"수도권\", \"수도권\"]\n",
    "}\n",
    "\n",
    "df = pd.DataFrame(data)\n",
    "df"
   ]
  },
  {
   "cell_type": "code",
   "execution_count": 152,
   "id": "057170e2",
   "metadata": {},
   "outputs": [
    {
     "data": {
      "text/html": [
       "<div>\n",
       "<style scoped>\n",
       "    .dataframe tbody tr th:only-of-type {\n",
       "        vertical-align: middle;\n",
       "    }\n",
       "\n",
       "    .dataframe tbody tr th {\n",
       "        vertical-align: top;\n",
       "    }\n",
       "\n",
       "    .dataframe thead th {\n",
       "        text-align: right;\n",
       "    }\n",
       "</style>\n",
       "<table border=\"1\" class=\"dataframe\">\n",
       "  <thead>\n",
       "    <tr style=\"text-align: right;\">\n",
       "      <th>도시</th>\n",
       "      <th>부산</th>\n",
       "      <th>서울</th>\n",
       "      <th>인천</th>\n",
       "    </tr>\n",
       "    <tr>\n",
       "      <th>연도</th>\n",
       "      <th></th>\n",
       "      <th></th>\n",
       "      <th></th>\n",
       "    </tr>\n",
       "  </thead>\n",
       "  <tbody>\n",
       "    <tr>\n",
       "      <th>2005</th>\n",
       "      <td>3512547.0</td>\n",
       "      <td>9762546.0</td>\n",
       "      <td>NaN</td>\n",
       "    </tr>\n",
       "    <tr>\n",
       "      <th>2010</th>\n",
       "      <td>3393191.0</td>\n",
       "      <td>9631482.0</td>\n",
       "      <td>263203.0</td>\n",
       "    </tr>\n",
       "    <tr>\n",
       "      <th>2015</th>\n",
       "      <td>3448737.0</td>\n",
       "      <td>9904312.0</td>\n",
       "      <td>2890451.0</td>\n",
       "    </tr>\n",
       "  </tbody>\n",
       "</table>\n",
       "</div>"
      ],
      "text/plain": [
       "도시           부산         서울         인천\n",
       "연도                                   \n",
       "2005  3512547.0  9762546.0        NaN\n",
       "2010  3393191.0  9631482.0   263203.0\n",
       "2015  3448737.0  9904312.0  2890451.0"
      ]
     },
     "execution_count": 152,
     "metadata": {},
     "output_type": "execute_result"
    }
   ],
   "source": [
    "df.pivot_table(values=\"인구\", columns=\"도시\", index=\"연도\")"
   ]
  },
  {
   "cell_type": "code",
   "execution_count": 155,
   "id": "40ece879",
   "metadata": {},
   "outputs": [
    {
     "data": {
      "text/html": [
       "<div>\n",
       "<style scoped>\n",
       "    .dataframe tbody tr th:only-of-type {\n",
       "        vertical-align: middle;\n",
       "    }\n",
       "\n",
       "    .dataframe tbody tr th {\n",
       "        vertical-align: top;\n",
       "    }\n",
       "\n",
       "    .dataframe thead th {\n",
       "        text-align: right;\n",
       "    }\n",
       "</style>\n",
       "<table border=\"1\" class=\"dataframe\">\n",
       "  <thead>\n",
       "    <tr style=\"text-align: right;\">\n",
       "      <th></th>\n",
       "      <th>인구</th>\n",
       "      <th>263203</th>\n",
       "      <th>2890451</th>\n",
       "      <th>3393191</th>\n",
       "      <th>3448737</th>\n",
       "      <th>3512547</th>\n",
       "      <th>9631482</th>\n",
       "      <th>9762546</th>\n",
       "      <th>9904312</th>\n",
       "    </tr>\n",
       "    <tr>\n",
       "      <th>연도</th>\n",
       "      <th>도시</th>\n",
       "      <th></th>\n",
       "      <th></th>\n",
       "      <th></th>\n",
       "      <th></th>\n",
       "      <th></th>\n",
       "      <th></th>\n",
       "      <th></th>\n",
       "      <th></th>\n",
       "    </tr>\n",
       "  </thead>\n",
       "  <tbody>\n",
       "    <tr>\n",
       "      <th rowspan=\"2\" valign=\"top\">2005</th>\n",
       "      <th>부산</th>\n",
       "      <td>NaN</td>\n",
       "      <td>NaN</td>\n",
       "      <td>NaN</td>\n",
       "      <td>NaN</td>\n",
       "      <td>3512547.0</td>\n",
       "      <td>NaN</td>\n",
       "      <td>NaN</td>\n",
       "      <td>NaN</td>\n",
       "    </tr>\n",
       "    <tr>\n",
       "      <th>서울</th>\n",
       "      <td>NaN</td>\n",
       "      <td>NaN</td>\n",
       "      <td>NaN</td>\n",
       "      <td>NaN</td>\n",
       "      <td>NaN</td>\n",
       "      <td>NaN</td>\n",
       "      <td>9762546.0</td>\n",
       "      <td>NaN</td>\n",
       "    </tr>\n",
       "    <tr>\n",
       "      <th rowspan=\"3\" valign=\"top\">2010</th>\n",
       "      <th>부산</th>\n",
       "      <td>NaN</td>\n",
       "      <td>NaN</td>\n",
       "      <td>3393191.0</td>\n",
       "      <td>NaN</td>\n",
       "      <td>NaN</td>\n",
       "      <td>NaN</td>\n",
       "      <td>NaN</td>\n",
       "      <td>NaN</td>\n",
       "    </tr>\n",
       "    <tr>\n",
       "      <th>서울</th>\n",
       "      <td>NaN</td>\n",
       "      <td>NaN</td>\n",
       "      <td>NaN</td>\n",
       "      <td>NaN</td>\n",
       "      <td>NaN</td>\n",
       "      <td>9631482.0</td>\n",
       "      <td>NaN</td>\n",
       "      <td>NaN</td>\n",
       "    </tr>\n",
       "    <tr>\n",
       "      <th>인천</th>\n",
       "      <td>263203.0</td>\n",
       "      <td>NaN</td>\n",
       "      <td>NaN</td>\n",
       "      <td>NaN</td>\n",
       "      <td>NaN</td>\n",
       "      <td>NaN</td>\n",
       "      <td>NaN</td>\n",
       "      <td>NaN</td>\n",
       "    </tr>\n",
       "    <tr>\n",
       "      <th rowspan=\"3\" valign=\"top\">2015</th>\n",
       "      <th>부산</th>\n",
       "      <td>NaN</td>\n",
       "      <td>NaN</td>\n",
       "      <td>NaN</td>\n",
       "      <td>3448737.0</td>\n",
       "      <td>NaN</td>\n",
       "      <td>NaN</td>\n",
       "      <td>NaN</td>\n",
       "      <td>NaN</td>\n",
       "    </tr>\n",
       "    <tr>\n",
       "      <th>서울</th>\n",
       "      <td>NaN</td>\n",
       "      <td>NaN</td>\n",
       "      <td>NaN</td>\n",
       "      <td>NaN</td>\n",
       "      <td>NaN</td>\n",
       "      <td>NaN</td>\n",
       "      <td>NaN</td>\n",
       "      <td>9904312.0</td>\n",
       "    </tr>\n",
       "    <tr>\n",
       "      <th>인천</th>\n",
       "      <td>NaN</td>\n",
       "      <td>2890451.0</td>\n",
       "      <td>NaN</td>\n",
       "      <td>NaN</td>\n",
       "      <td>NaN</td>\n",
       "      <td>NaN</td>\n",
       "      <td>NaN</td>\n",
       "      <td>NaN</td>\n",
       "    </tr>\n",
       "  </tbody>\n",
       "</table>\n",
       "</div>"
      ],
      "text/plain": [
       "인구        263203     2890451    3393191    3448737    3512547    9631482  \\\n",
       "연도   도시                                                                    \n",
       "2005 부산       NaN        NaN        NaN        NaN  3512547.0        NaN   \n",
       "     서울       NaN        NaN        NaN        NaN        NaN        NaN   \n",
       "2010 부산       NaN        NaN  3393191.0        NaN        NaN        NaN   \n",
       "     서울       NaN        NaN        NaN        NaN        NaN  9631482.0   \n",
       "     인천  263203.0        NaN        NaN        NaN        NaN        NaN   \n",
       "2015 부산       NaN        NaN        NaN  3448737.0        NaN        NaN   \n",
       "     서울       NaN        NaN        NaN        NaN        NaN        NaN   \n",
       "     인천       NaN  2890451.0        NaN        NaN        NaN        NaN   \n",
       "\n",
       "인구         9762546    9904312  \n",
       "연도   도시                        \n",
       "2005 부산        NaN        NaN  \n",
       "     서울  9762546.0        NaN  \n",
       "2010 부산        NaN        NaN  \n",
       "     서울        NaN        NaN  \n",
       "     인천        NaN        NaN  \n",
       "2015 부산        NaN        NaN  \n",
       "     서울        NaN  9904312.0  \n",
       "     인천        NaN        NaN  "
      ]
     },
     "execution_count": 155,
     "metadata": {},
     "output_type": "execute_result"
    }
   ],
   "source": [
    "##### 연도별, 도시별 인구 수를 조회\n",
    "\n",
    "df.pivot(index=[\"연도\", \"도시\"], columns=\"인구\", values=\"인구\")"
   ]
  },
  {
   "cell_type": "code",
   "execution_count": 156,
   "id": "a3d7ae3a",
   "metadata": {},
   "outputs": [
    {
     "data": {
      "text/html": [
       "<div>\n",
       "<style scoped>\n",
       "    .dataframe tbody tr th:only-of-type {\n",
       "        vertical-align: middle;\n",
       "    }\n",
       "\n",
       "    .dataframe tbody tr th {\n",
       "        vertical-align: top;\n",
       "    }\n",
       "\n",
       "    .dataframe thead th {\n",
       "        text-align: right;\n",
       "    }\n",
       "</style>\n",
       "<table border=\"1\" class=\"dataframe\">\n",
       "  <thead>\n",
       "    <tr style=\"text-align: right;\">\n",
       "      <th></th>\n",
       "      <th></th>\n",
       "      <th>인구</th>\n",
       "    </tr>\n",
       "    <tr>\n",
       "      <th>연도</th>\n",
       "      <th>도시</th>\n",
       "      <th></th>\n",
       "    </tr>\n",
       "  </thead>\n",
       "  <tbody>\n",
       "    <tr>\n",
       "      <th rowspan=\"2\" valign=\"top\">2005</th>\n",
       "      <th>부산</th>\n",
       "      <td>3512547.0</td>\n",
       "    </tr>\n",
       "    <tr>\n",
       "      <th>서울</th>\n",
       "      <td>9762546.0</td>\n",
       "    </tr>\n",
       "    <tr>\n",
       "      <th rowspan=\"3\" valign=\"top\">2010</th>\n",
       "      <th>부산</th>\n",
       "      <td>3393191.0</td>\n",
       "    </tr>\n",
       "    <tr>\n",
       "      <th>서울</th>\n",
       "      <td>9631482.0</td>\n",
       "    </tr>\n",
       "    <tr>\n",
       "      <th>인천</th>\n",
       "      <td>263203.0</td>\n",
       "    </tr>\n",
       "    <tr>\n",
       "      <th rowspan=\"3\" valign=\"top\">2015</th>\n",
       "      <th>부산</th>\n",
       "      <td>3448737.0</td>\n",
       "    </tr>\n",
       "    <tr>\n",
       "      <th>서울</th>\n",
       "      <td>9904312.0</td>\n",
       "    </tr>\n",
       "    <tr>\n",
       "      <th>인천</th>\n",
       "      <td>2890451.0</td>\n",
       "    </tr>\n",
       "  </tbody>\n",
       "</table>\n",
       "</div>"
      ],
      "text/plain": [
       "                인구\n",
       "연도   도시           \n",
       "2005 부산  3512547.0\n",
       "     서울  9762546.0\n",
       "2010 부산  3393191.0\n",
       "     서울  9631482.0\n",
       "     인천   263203.0\n",
       "2015 부산  3448737.0\n",
       "     서울  9904312.0\n",
       "     인천  2890451.0"
      ]
     },
     "execution_count": 156,
     "metadata": {},
     "output_type": "execute_result"
    }
   ],
   "source": [
    "df.groupby([\"연도\",\"도시\"])[[\"인구\"]].mean() # 구조를 파악하기가 쉬움"
   ]
  },
  {
   "cell_type": "code",
   "execution_count": 159,
   "id": "de5e5da3",
   "metadata": {},
   "outputs": [
    {
     "data": {
      "text/html": [
       "<div>\n",
       "<style scoped>\n",
       "    .dataframe tbody tr th:only-of-type {\n",
       "        vertical-align: middle;\n",
       "    }\n",
       "\n",
       "    .dataframe tbody tr th {\n",
       "        vertical-align: top;\n",
       "    }\n",
       "\n",
       "    .dataframe thead th {\n",
       "        text-align: right;\n",
       "    }\n",
       "</style>\n",
       "<table border=\"1\" class=\"dataframe\">\n",
       "  <thead>\n",
       "    <tr style=\"text-align: right;\">\n",
       "      <th></th>\n",
       "      <th></th>\n",
       "      <th>인구</th>\n",
       "    </tr>\n",
       "    <tr>\n",
       "      <th>연도</th>\n",
       "      <th>도시</th>\n",
       "      <th></th>\n",
       "    </tr>\n",
       "  </thead>\n",
       "  <tbody>\n",
       "    <tr>\n",
       "      <th rowspan=\"2\" valign=\"top\">2005</th>\n",
       "      <th>부산</th>\n",
       "      <td>3512547</td>\n",
       "    </tr>\n",
       "    <tr>\n",
       "      <th>서울</th>\n",
       "      <td>9762546</td>\n",
       "    </tr>\n",
       "    <tr>\n",
       "      <th rowspan=\"3\" valign=\"top\">2010</th>\n",
       "      <th>부산</th>\n",
       "      <td>3393191</td>\n",
       "    </tr>\n",
       "    <tr>\n",
       "      <th>서울</th>\n",
       "      <td>9631482</td>\n",
       "    </tr>\n",
       "    <tr>\n",
       "      <th>인천</th>\n",
       "      <td>263203</td>\n",
       "    </tr>\n",
       "    <tr>\n",
       "      <th rowspan=\"3\" valign=\"top\">2015</th>\n",
       "      <th>부산</th>\n",
       "      <td>3448737</td>\n",
       "    </tr>\n",
       "    <tr>\n",
       "      <th>서울</th>\n",
       "      <td>9904312</td>\n",
       "    </tr>\n",
       "    <tr>\n",
       "      <th>인천</th>\n",
       "      <td>2890451</td>\n",
       "    </tr>\n",
       "  </tbody>\n",
       "</table>\n",
       "</div>"
      ],
      "text/plain": [
       "              인구\n",
       "연도   도시         \n",
       "2005 부산  3512547\n",
       "     서울  9762546\n",
       "2010 부산  3393191\n",
       "     서울  9631482\n",
       "     인천   263203\n",
       "2015 부산  3448737\n",
       "     서울  9904312\n",
       "     인천  2890451"
      ]
     },
     "execution_count": 159,
     "metadata": {},
     "output_type": "execute_result"
    }
   ],
   "source": [
    "df.pivot_table(values=\"인구\", index=[\"연도\", \"도시\"], aggfunc=\"mean\")\n",
    "# 쓰기는 쉽지만, 코드만 봤을 때 구조를 파악하기 힘듬\n",
    "# aggfunc=\"mean\"이 생략되어 있고 default값임. 평균 외에 다른 sum 등으로 변경가능"
   ]
  },
  {
   "cell_type": "code",
   "execution_count": 164,
   "id": "9f7c59f2",
   "metadata": {},
   "outputs": [
    {
     "data": {
      "text/html": [
       "<div>\n",
       "<style scoped>\n",
       "    .dataframe tbody tr th:only-of-type {\n",
       "        vertical-align: middle;\n",
       "    }\n",
       "\n",
       "    .dataframe tbody tr th {\n",
       "        vertical-align: top;\n",
       "    }\n",
       "\n",
       "    .dataframe thead th {\n",
       "        text-align: right;\n",
       "    }\n",
       "</style>\n",
       "<table border=\"1\" class=\"dataframe\">\n",
       "  <thead>\n",
       "    <tr style=\"text-align: right;\">\n",
       "      <th>연도</th>\n",
       "      <th>2005</th>\n",
       "      <th>2010</th>\n",
       "      <th>2015</th>\n",
       "      <th>합계</th>\n",
       "    </tr>\n",
       "    <tr>\n",
       "      <th>도시</th>\n",
       "      <th></th>\n",
       "      <th></th>\n",
       "      <th></th>\n",
       "      <th></th>\n",
       "    </tr>\n",
       "  </thead>\n",
       "  <tbody>\n",
       "    <tr>\n",
       "      <th>부산</th>\n",
       "      <td>3512547</td>\n",
       "      <td>3393191</td>\n",
       "      <td>3448737</td>\n",
       "      <td>10354475</td>\n",
       "    </tr>\n",
       "    <tr>\n",
       "      <th>서울</th>\n",
       "      <td>9762546</td>\n",
       "      <td>9631482</td>\n",
       "      <td>9904312</td>\n",
       "      <td>29298340</td>\n",
       "    </tr>\n",
       "    <tr>\n",
       "      <th>인천</th>\n",
       "      <td>0</td>\n",
       "      <td>263203</td>\n",
       "      <td>2890451</td>\n",
       "      <td>3153654</td>\n",
       "    </tr>\n",
       "    <tr>\n",
       "      <th>합계</th>\n",
       "      <td>13275093</td>\n",
       "      <td>13287876</td>\n",
       "      <td>16243500</td>\n",
       "      <td>42806469</td>\n",
       "    </tr>\n",
       "  </tbody>\n",
       "</table>\n",
       "</div>"
      ],
      "text/plain": [
       "연도      2005      2010      2015        합계\n",
       "도시                                        \n",
       "부산   3512547   3393191   3448737  10354475\n",
       "서울   9762546   9631482   9904312  29298340\n",
       "인천         0    263203   2890451   3153654\n",
       "합계  13275093  13287876  16243500  42806469"
      ]
     },
     "execution_count": 164,
     "metadata": {},
     "output_type": "execute_result"
    }
   ],
   "source": [
    "df.pivot_table(values=\"인구\", index=\"도시\", columns = \"연도\", aggfunc=\"sum\", margins=True, margins_name=\"합계\", fill_value=0)\n",
    "# margins 총 평균, 총 합계를 아래에 만들어줌\n",
    "# margins_name = margins값의 이름\n",
    "# fill_value = NaN 값을 바꿔주는 펑션"
   ]
  },
  {
   "cell_type": "markdown",
   "id": "b22e9316",
   "metadata": {},
   "source": []
  },
  {
   "cell_type": "markdown",
   "id": "be7ea3cd",
   "metadata": {},
   "source": [
    "### (5) Crosstab()"
   ]
  },
  {
   "cell_type": "code",
   "execution_count": null,
   "id": "cc2e59ef",
   "metadata": {},
   "outputs": [],
   "source": [
    "pd.crosstab(df.c1, df.c2) # c1과 c2를 교차시켜서 뽑아내줘"
   ]
  },
  {
   "cell_type": "code",
   "execution_count": null,
   "id": "0e3a2d72",
   "metadata": {},
   "outputs": [],
   "source": [
    "pd.crosstab(df.c1, df.c2, values=df.c3, aggfunc=sum, margins=True)"
   ]
  },
  {
   "cell_type": "code",
   "execution_count": null,
   "id": "1b33700f",
   "metadata": {},
   "outputs": [],
   "source": []
  },
  {
   "cell_type": "code",
   "execution_count": null,
   "id": "cd995938",
   "metadata": {},
   "outputs": [],
   "source": []
  },
  {
   "cell_type": "code",
   "execution_count": null,
   "id": "44e88227",
   "metadata": {},
   "outputs": [],
   "source": []
  },
  {
   "cell_type": "markdown",
   "id": "ccd1700a",
   "metadata": {},
   "source": [
    "### 중간실습"
   ]
  },
  {
   "cell_type": "code",
   "execution_count": 4,
   "id": "f6a35acf",
   "metadata": {},
   "outputs": [
    {
     "data": {
      "text/html": [
       "<div>\n",
       "<style scoped>\n",
       "    .dataframe tbody tr th:only-of-type {\n",
       "        vertical-align: middle;\n",
       "    }\n",
       "\n",
       "    .dataframe tbody tr th {\n",
       "        vertical-align: top;\n",
       "    }\n",
       "\n",
       "    .dataframe thead th {\n",
       "        text-align: right;\n",
       "    }\n",
       "</style>\n",
       "<table border=\"1\" class=\"dataframe\">\n",
       "  <thead>\n",
       "    <tr style=\"text-align: right;\">\n",
       "      <th></th>\n",
       "      <th>반</th>\n",
       "      <th>번호</th>\n",
       "      <th>국어</th>\n",
       "      <th>영어</th>\n",
       "      <th>수학</th>\n",
       "    </tr>\n",
       "  </thead>\n",
       "  <tbody>\n",
       "    <tr>\n",
       "      <th>0</th>\n",
       "      <td>A</td>\n",
       "      <td>1</td>\n",
       "      <td>79</td>\n",
       "      <td>55</td>\n",
       "      <td>57</td>\n",
       "    </tr>\n",
       "    <tr>\n",
       "      <th>1</th>\n",
       "      <td>A</td>\n",
       "      <td>2</td>\n",
       "      <td>67</td>\n",
       "      <td>77</td>\n",
       "      <td>45</td>\n",
       "    </tr>\n",
       "    <tr>\n",
       "      <th>2</th>\n",
       "      <td>B</td>\n",
       "      <td>1</td>\n",
       "      <td>88</td>\n",
       "      <td>44</td>\n",
       "      <td>76</td>\n",
       "    </tr>\n",
       "    <tr>\n",
       "      <th>3</th>\n",
       "      <td>A</td>\n",
       "      <td>3</td>\n",
       "      <td>68</td>\n",
       "      <td>67</td>\n",
       "      <td>68</td>\n",
       "    </tr>\n",
       "    <tr>\n",
       "      <th>4</th>\n",
       "      <td>B</td>\n",
       "      <td>2</td>\n",
       "      <td>92</td>\n",
       "      <td>86</td>\n",
       "      <td>89</td>\n",
       "    </tr>\n",
       "    <tr>\n",
       "      <th>5</th>\n",
       "      <td>B</td>\n",
       "      <td>3</td>\n",
       "      <td>54</td>\n",
       "      <td>45</td>\n",
       "      <td>67</td>\n",
       "    </tr>\n",
       "    <tr>\n",
       "      <th>6</th>\n",
       "      <td>B</td>\n",
       "      <td>4</td>\n",
       "      <td>67</td>\n",
       "      <td>78</td>\n",
       "      <td>99</td>\n",
       "    </tr>\n",
       "    <tr>\n",
       "      <th>7</th>\n",
       "      <td>A</td>\n",
       "      <td>4</td>\n",
       "      <td>88</td>\n",
       "      <td>58</td>\n",
       "      <td>78</td>\n",
       "    </tr>\n",
       "    <tr>\n",
       "      <th>8</th>\n",
       "      <td>B</td>\n",
       "      <td>5</td>\n",
       "      <td>97</td>\n",
       "      <td>90</td>\n",
       "      <td>89</td>\n",
       "    </tr>\n",
       "    <tr>\n",
       "      <th>9</th>\n",
       "      <td>A</td>\n",
       "      <td>5</td>\n",
       "      <td>85</td>\n",
       "      <td>67</td>\n",
       "      <td>90</td>\n",
       "    </tr>\n",
       "  </tbody>\n",
       "</table>\n",
       "</div>"
      ],
      "text/plain": [
       "   반  번호  국어  영어  수학\n",
       "0  A   1  79  55  57\n",
       "1  A   2  67  77  45\n",
       "2  B   1  88  44  76\n",
       "3  A   3  68  67  68\n",
       "4  B   2  92  86  89\n",
       "5  B   3  54  45  67\n",
       "6  B   4  67  78  99\n",
       "7  A   4  88  58  78\n",
       "8  B   5  97  90  89\n",
       "9  A   5  85  67  90"
      ]
     },
     "execution_count": 4,
     "metadata": {},
     "output_type": "execute_result"
    }
   ],
   "source": [
    "df_score1 = pd.DataFrame({\n",
    "    \"반\":[\"A\", \"A\", \"B\", \"A\", \"B\", \"B\", \"B\", \"A\", \"B\", \"A\"],\n",
    "    \"번호\" : [1, 2, 1, 3, 2, 3, 4, 4, 5, 5],\n",
    "    \"국어\" : [79, 67, 88, 68, 92, 54, 67, 88, 97, 85],\n",
    "    \"영어\" : [55, 77, 44, 67, 86, 45, 78, 58, 90, 67],\n",
    "    \"수학\" : [57, 45, 76, 68, 89, 67, 99, 78, 89, 90]\n",
    "})\n",
    "df_score1"
   ]
  },
  {
   "cell_type": "code",
   "execution_count": 6,
   "id": "b9f78559",
   "metadata": {},
   "outputs": [
    {
     "name": "stdout",
     "output_type": "stream",
     "text": [
      "[79, 67, 88, 68, 92, 54, 67, 88, 97, 85]\n",
      "반    A       B   A   B           A   B   A\n",
      "번호   1   2   1   3   2   3   4   4   5   5\n",
      "국어  79  67  88  68  92  54  67  88  97  85\n",
      "수학  57  45  76  68  89  67  99  78  89  90\n",
      "영어  55  77  44  67  86  45  78  58  90  67\n"
     ]
    },
    {
     "data": {
      "text/html": [
       "<div>\n",
       "<style scoped>\n",
       "    .dataframe tbody tr th:only-of-type {\n",
       "        vertical-align: middle;\n",
       "    }\n",
       "\n",
       "    .dataframe tbody tr th {\n",
       "        vertical-align: top;\n",
       "    }\n",
       "\n",
       "    .dataframe thead tr th {\n",
       "        text-align: left;\n",
       "    }\n",
       "</style>\n",
       "<table border=\"1\" class=\"dataframe\">\n",
       "  <thead>\n",
       "    <tr>\n",
       "      <th>반</th>\n",
       "      <th colspan=\"2\" halign=\"left\">A</th>\n",
       "      <th>B</th>\n",
       "      <th>A</th>\n",
       "      <th colspan=\"3\" halign=\"left\">B</th>\n",
       "      <th>A</th>\n",
       "      <th>B</th>\n",
       "      <th>A</th>\n",
       "    </tr>\n",
       "    <tr>\n",
       "      <th>번호</th>\n",
       "      <th>1</th>\n",
       "      <th>2</th>\n",
       "      <th>1</th>\n",
       "      <th>3</th>\n",
       "      <th>2</th>\n",
       "      <th>3</th>\n",
       "      <th>4</th>\n",
       "      <th>4</th>\n",
       "      <th>5</th>\n",
       "      <th>5</th>\n",
       "    </tr>\n",
       "  </thead>\n",
       "  <tbody>\n",
       "    <tr>\n",
       "      <th>국어</th>\n",
       "      <td>79</td>\n",
       "      <td>67</td>\n",
       "      <td>88</td>\n",
       "      <td>68</td>\n",
       "      <td>92</td>\n",
       "      <td>54</td>\n",
       "      <td>67</td>\n",
       "      <td>88</td>\n",
       "      <td>97</td>\n",
       "      <td>85</td>\n",
       "    </tr>\n",
       "    <tr>\n",
       "      <th>수학</th>\n",
       "      <td>57</td>\n",
       "      <td>45</td>\n",
       "      <td>76</td>\n",
       "      <td>68</td>\n",
       "      <td>89</td>\n",
       "      <td>67</td>\n",
       "      <td>99</td>\n",
       "      <td>78</td>\n",
       "      <td>89</td>\n",
       "      <td>90</td>\n",
       "    </tr>\n",
       "    <tr>\n",
       "      <th>영어</th>\n",
       "      <td>55</td>\n",
       "      <td>77</td>\n",
       "      <td>44</td>\n",
       "      <td>67</td>\n",
       "      <td>86</td>\n",
       "      <td>45</td>\n",
       "      <td>78</td>\n",
       "      <td>58</td>\n",
       "      <td>90</td>\n",
       "      <td>67</td>\n",
       "    </tr>\n",
       "  </tbody>\n",
       "</table>\n",
       "</div>"
      ],
      "text/plain": [
       "반    A       B   A   B           A   B   A\n",
       "번호   1   2   1   3   2   3   4   4   5   5\n",
       "국어  79  67  88  68  92  54  67  88  97  85\n",
       "수학  57  45  76  68  89  67  99  78  89  90\n",
       "영어  55  77  44  67  86  45  78  58  90  67"
      ]
     },
     "execution_count": 6,
     "metadata": {},
     "output_type": "execute_result"
    }
   ],
   "source": [
    "#1. 1차 행 인덱스로 \"반\"을, 2차 행 인덱스로 \"번호\"를 가지는 데이터프레임을 생성\n",
    "\n",
    "kor = [79, 67, 88, 68, 92, 54, 67, 88, 97, 85]\n",
    "eng = [55, 77, 44, 67, 86, 45, 78, 58, 90, 67]\n",
    "mat = [57, 45, 76, 68, 89, 67, 99, 78, 89, 90]\n",
    "print(kor)\n",
    "\n",
    "\n",
    "df2 = pd.DataFrame(np.vstack([list(kor), list(eng), list(mat)]),\n",
    "                columns=[[\"A\", \"A\", \"B\", \"A\", \"B\", \"B\", \"B\", \"A\", \"B\", \"A\"], [1, 2, 1, 3, 2, 3, 4, 4, 5, 5]],\n",
    "                index = [[\"국어\", \"영어\", \"수학\"]])\n",
    "df2.columns.names = [\"반\", \"번호\"]\n",
    "print(df2.sort_index())\n",
    "\n",
    "df3 = df2.sort_index()\n",
    "df3"
   ]
  },
  {
   "cell_type": "code",
   "execution_count": 351,
   "id": "080266b8",
   "metadata": {},
   "outputs": [],
   "source": [
    "?df.div"
   ]
  },
  {
   "cell_type": "code",
   "execution_count": 370,
   "id": "5e45907b",
   "metadata": {},
   "outputs": [
    {
     "data": {
      "text/html": [
       "<div>\n",
       "<style scoped>\n",
       "    .dataframe tbody tr th:only-of-type {\n",
       "        vertical-align: middle;\n",
       "    }\n",
       "\n",
       "    .dataframe tbody tr th {\n",
       "        vertical-align: top;\n",
       "    }\n",
       "\n",
       "    .dataframe thead th {\n",
       "        text-align: right;\n",
       "    }\n",
       "</style>\n",
       "<table border=\"1\" class=\"dataframe\">\n",
       "  <thead>\n",
       "    <tr style=\"text-align: right;\">\n",
       "      <th></th>\n",
       "      <th></th>\n",
       "      <th>국어</th>\n",
       "      <th>영어</th>\n",
       "      <th>수학</th>\n",
       "      <th>StudentAvg</th>\n",
       "    </tr>\n",
       "    <tr>\n",
       "      <th>반</th>\n",
       "      <th>번호</th>\n",
       "      <th></th>\n",
       "      <th></th>\n",
       "      <th></th>\n",
       "      <th></th>\n",
       "    </tr>\n",
       "  </thead>\n",
       "  <tbody>\n",
       "    <tr>\n",
       "      <th rowspan=\"5\" valign=\"top\">A</th>\n",
       "      <th>1</th>\n",
       "      <td>79</td>\n",
       "      <td>55</td>\n",
       "      <td>57</td>\n",
       "      <td>63.67</td>\n",
       "    </tr>\n",
       "    <tr>\n",
       "      <th>2</th>\n",
       "      <td>67</td>\n",
       "      <td>77</td>\n",
       "      <td>45</td>\n",
       "      <td>63.00</td>\n",
       "    </tr>\n",
       "    <tr>\n",
       "      <th>3</th>\n",
       "      <td>68</td>\n",
       "      <td>67</td>\n",
       "      <td>68</td>\n",
       "      <td>67.67</td>\n",
       "    </tr>\n",
       "    <tr>\n",
       "      <th>4</th>\n",
       "      <td>88</td>\n",
       "      <td>58</td>\n",
       "      <td>78</td>\n",
       "      <td>74.67</td>\n",
       "    </tr>\n",
       "    <tr>\n",
       "      <th>5</th>\n",
       "      <td>85</td>\n",
       "      <td>67</td>\n",
       "      <td>90</td>\n",
       "      <td>80.67</td>\n",
       "    </tr>\n",
       "    <tr>\n",
       "      <th rowspan=\"5\" valign=\"top\">B</th>\n",
       "      <th>1</th>\n",
       "      <td>88</td>\n",
       "      <td>44</td>\n",
       "      <td>76</td>\n",
       "      <td>69.33</td>\n",
       "    </tr>\n",
       "    <tr>\n",
       "      <th>2</th>\n",
       "      <td>92</td>\n",
       "      <td>86</td>\n",
       "      <td>89</td>\n",
       "      <td>89.00</td>\n",
       "    </tr>\n",
       "    <tr>\n",
       "      <th>3</th>\n",
       "      <td>54</td>\n",
       "      <td>45</td>\n",
       "      <td>67</td>\n",
       "      <td>55.33</td>\n",
       "    </tr>\n",
       "    <tr>\n",
       "      <th>4</th>\n",
       "      <td>67</td>\n",
       "      <td>78</td>\n",
       "      <td>99</td>\n",
       "      <td>81.33</td>\n",
       "    </tr>\n",
       "    <tr>\n",
       "      <th>5</th>\n",
       "      <td>97</td>\n",
       "      <td>90</td>\n",
       "      <td>89</td>\n",
       "      <td>92.00</td>\n",
       "    </tr>\n",
       "  </tbody>\n",
       "</table>\n",
       "</div>"
      ],
      "text/plain": [
       "      국어  영어  수학  StudentAvg\n",
       "반 번호                        \n",
       "A 1   79  55  57       63.67\n",
       "  2   67  77  45       63.00\n",
       "  3   68  67  68       67.67\n",
       "  4   88  58  78       74.67\n",
       "  5   85  67  90       80.67\n",
       "B 1   88  44  76       69.33\n",
       "  2   92  86  89       89.00\n",
       "  3   54  45  67       55.33\n",
       "  4   67  78  99       81.33\n",
       "  5   97  90  89       92.00"
      ]
     },
     "execution_count": 370,
     "metadata": {},
     "output_type": "execute_result"
    }
   ],
   "source": [
    "#2. 학생의 평균을 나타내는 행을 오른쪽에 추가\n",
    "\n",
    "df3[\"StudentAvg\"] =  df3.mean(axis=1).round(2)\n",
    "df3"
   ]
  },
  {
   "cell_type": "code",
   "execution_count": 371,
   "id": "b490c0d3",
   "metadata": {},
   "outputs": [],
   "source": [
    "#3. 행 인덱스로 \"번호\"를, 1차 열 인덱스로 \"국어\", \"영어\", \"수학\"을,\n",
    "# 2차 열 인덱스로 \"반\"을 가지는 데이터프레임 생성"
   ]
  },
  {
   "cell_type": "code",
   "execution_count": 375,
   "id": "b8bc0a75",
   "metadata": {},
   "outputs": [
    {
     "name": "stdout",
     "output_type": "stream",
     "text": [
      "    국어      영어      수학     StudentAvg       \n",
      "반    A   B   A   B   A   B          A      B\n",
      "번호                                          \n",
      "1   79  88  55  44  57  76      63.67  69.33\n",
      "2   67  92  77  86  45  89      63.00  89.00\n",
      "3   68  54  67  45  68  67      67.67  55.33\n",
      "4   88  67  58  78  78  99      74.67  81.33\n",
      "5   85  97  67  90  90  89      80.67  92.00\n"
     ]
    },
    {
     "data": {
      "text/html": [
       "<div>\n",
       "<style scoped>\n",
       "    .dataframe tbody tr th:only-of-type {\n",
       "        vertical-align: middle;\n",
       "    }\n",
       "\n",
       "    .dataframe tbody tr th {\n",
       "        vertical-align: top;\n",
       "    }\n",
       "\n",
       "    .dataframe thead tr th {\n",
       "        text-align: left;\n",
       "    }\n",
       "\n",
       "    .dataframe thead tr:last-of-type th {\n",
       "        text-align: right;\n",
       "    }\n",
       "</style>\n",
       "<table border=\"1\" class=\"dataframe\">\n",
       "  <thead>\n",
       "    <tr>\n",
       "      <th></th>\n",
       "      <th colspan=\"2\" halign=\"left\">국어</th>\n",
       "      <th colspan=\"2\" halign=\"left\">영어</th>\n",
       "      <th colspan=\"2\" halign=\"left\">수학</th>\n",
       "      <th colspan=\"2\" halign=\"left\">StudentAvg</th>\n",
       "    </tr>\n",
       "    <tr>\n",
       "      <th>반</th>\n",
       "      <th>A</th>\n",
       "      <th>B</th>\n",
       "      <th>A</th>\n",
       "      <th>B</th>\n",
       "      <th>A</th>\n",
       "      <th>B</th>\n",
       "      <th>A</th>\n",
       "      <th>B</th>\n",
       "    </tr>\n",
       "    <tr>\n",
       "      <th>번호</th>\n",
       "      <th></th>\n",
       "      <th></th>\n",
       "      <th></th>\n",
       "      <th></th>\n",
       "      <th></th>\n",
       "      <th></th>\n",
       "      <th></th>\n",
       "      <th></th>\n",
       "    </tr>\n",
       "  </thead>\n",
       "  <tbody>\n",
       "    <tr>\n",
       "      <th>1</th>\n",
       "      <td>79</td>\n",
       "      <td>88</td>\n",
       "      <td>55</td>\n",
       "      <td>44</td>\n",
       "      <td>57</td>\n",
       "      <td>76</td>\n",
       "      <td>63.67</td>\n",
       "      <td>69.33</td>\n",
       "    </tr>\n",
       "    <tr>\n",
       "      <th>2</th>\n",
       "      <td>67</td>\n",
       "      <td>92</td>\n",
       "      <td>77</td>\n",
       "      <td>86</td>\n",
       "      <td>45</td>\n",
       "      <td>89</td>\n",
       "      <td>63.00</td>\n",
       "      <td>89.00</td>\n",
       "    </tr>\n",
       "    <tr>\n",
       "      <th>3</th>\n",
       "      <td>68</td>\n",
       "      <td>54</td>\n",
       "      <td>67</td>\n",
       "      <td>45</td>\n",
       "      <td>68</td>\n",
       "      <td>67</td>\n",
       "      <td>67.67</td>\n",
       "      <td>55.33</td>\n",
       "    </tr>\n",
       "    <tr>\n",
       "      <th>4</th>\n",
       "      <td>88</td>\n",
       "      <td>67</td>\n",
       "      <td>58</td>\n",
       "      <td>78</td>\n",
       "      <td>78</td>\n",
       "      <td>99</td>\n",
       "      <td>74.67</td>\n",
       "      <td>81.33</td>\n",
       "    </tr>\n",
       "    <tr>\n",
       "      <th>5</th>\n",
       "      <td>85</td>\n",
       "      <td>97</td>\n",
       "      <td>67</td>\n",
       "      <td>90</td>\n",
       "      <td>90</td>\n",
       "      <td>89</td>\n",
       "      <td>80.67</td>\n",
       "      <td>92.00</td>\n",
       "    </tr>\n",
       "  </tbody>\n",
       "</table>\n",
       "</div>"
      ],
      "text/plain": [
       "    국어      영어      수학     StudentAvg       \n",
       "반    A   B   A   B   A   B          A      B\n",
       "번호                                          \n",
       "1   79  88  55  44  57  76      63.67  69.33\n",
       "2   67  92  77  86  45  89      63.00  89.00\n",
       "3   68  54  67  45  68  67      67.67  55.33\n",
       "4   88  67  58  78  78  99      74.67  81.33\n",
       "5   85  97  67  90  90  89      80.67  92.00"
      ]
     },
     "execution_count": 375,
     "metadata": {},
     "output_type": "execute_result"
    }
   ],
   "source": [
    "print(df3.unstack(\"반\"))\n",
    "df4 = df3.unstack(\"반\")\n",
    "\n",
    "df4"
   ]
  },
  {
   "cell_type": "code",
   "execution_count": null,
   "id": "09d9646e",
   "metadata": {},
   "outputs": [],
   "source": []
  },
  {
   "cell_type": "code",
   "execution_count": 280,
   "id": "c96337c9",
   "metadata": {},
   "outputs": [],
   "source": [
    "#4. 각 반별 각 과목의 평균을 나타내는 행을 아래에 추가"
   ]
  },
  {
   "cell_type": "code",
   "execution_count": 376,
   "id": "e4398a25",
   "metadata": {},
   "outputs": [],
   "source": [
    "df4.loc[\"SubAvg\", :] = df4.mean(axis=0).round(2)"
   ]
  },
  {
   "cell_type": "code",
   "execution_count": 377,
   "id": "6fe8520b",
   "metadata": {},
   "outputs": [
    {
     "data": {
      "text/html": [
       "<div>\n",
       "<style scoped>\n",
       "    .dataframe tbody tr th:only-of-type {\n",
       "        vertical-align: middle;\n",
       "    }\n",
       "\n",
       "    .dataframe tbody tr th {\n",
       "        vertical-align: top;\n",
       "    }\n",
       "\n",
       "    .dataframe thead tr th {\n",
       "        text-align: left;\n",
       "    }\n",
       "\n",
       "    .dataframe thead tr:last-of-type th {\n",
       "        text-align: right;\n",
       "    }\n",
       "</style>\n",
       "<table border=\"1\" class=\"dataframe\">\n",
       "  <thead>\n",
       "    <tr>\n",
       "      <th></th>\n",
       "      <th colspan=\"2\" halign=\"left\">국어</th>\n",
       "      <th colspan=\"2\" halign=\"left\">영어</th>\n",
       "      <th colspan=\"2\" halign=\"left\">수학</th>\n",
       "      <th colspan=\"2\" halign=\"left\">StudentAvg</th>\n",
       "    </tr>\n",
       "    <tr>\n",
       "      <th>반</th>\n",
       "      <th>A</th>\n",
       "      <th>B</th>\n",
       "      <th>A</th>\n",
       "      <th>B</th>\n",
       "      <th>A</th>\n",
       "      <th>B</th>\n",
       "      <th>A</th>\n",
       "      <th>B</th>\n",
       "    </tr>\n",
       "    <tr>\n",
       "      <th>번호</th>\n",
       "      <th></th>\n",
       "      <th></th>\n",
       "      <th></th>\n",
       "      <th></th>\n",
       "      <th></th>\n",
       "      <th></th>\n",
       "      <th></th>\n",
       "      <th></th>\n",
       "    </tr>\n",
       "  </thead>\n",
       "  <tbody>\n",
       "    <tr>\n",
       "      <th>1</th>\n",
       "      <td>79.0</td>\n",
       "      <td>88.0</td>\n",
       "      <td>55.0</td>\n",
       "      <td>44.0</td>\n",
       "      <td>57.0</td>\n",
       "      <td>76.0</td>\n",
       "      <td>63.67</td>\n",
       "      <td>69.33</td>\n",
       "    </tr>\n",
       "    <tr>\n",
       "      <th>2</th>\n",
       "      <td>67.0</td>\n",
       "      <td>92.0</td>\n",
       "      <td>77.0</td>\n",
       "      <td>86.0</td>\n",
       "      <td>45.0</td>\n",
       "      <td>89.0</td>\n",
       "      <td>63.00</td>\n",
       "      <td>89.00</td>\n",
       "    </tr>\n",
       "    <tr>\n",
       "      <th>3</th>\n",
       "      <td>68.0</td>\n",
       "      <td>54.0</td>\n",
       "      <td>67.0</td>\n",
       "      <td>45.0</td>\n",
       "      <td>68.0</td>\n",
       "      <td>67.0</td>\n",
       "      <td>67.67</td>\n",
       "      <td>55.33</td>\n",
       "    </tr>\n",
       "    <tr>\n",
       "      <th>4</th>\n",
       "      <td>88.0</td>\n",
       "      <td>67.0</td>\n",
       "      <td>58.0</td>\n",
       "      <td>78.0</td>\n",
       "      <td>78.0</td>\n",
       "      <td>99.0</td>\n",
       "      <td>74.67</td>\n",
       "      <td>81.33</td>\n",
       "    </tr>\n",
       "    <tr>\n",
       "      <th>5</th>\n",
       "      <td>85.0</td>\n",
       "      <td>97.0</td>\n",
       "      <td>67.0</td>\n",
       "      <td>90.0</td>\n",
       "      <td>90.0</td>\n",
       "      <td>89.0</td>\n",
       "      <td>80.67</td>\n",
       "      <td>92.00</td>\n",
       "    </tr>\n",
       "    <tr>\n",
       "      <th>SubAvg</th>\n",
       "      <td>77.4</td>\n",
       "      <td>79.6</td>\n",
       "      <td>64.8</td>\n",
       "      <td>68.6</td>\n",
       "      <td>67.6</td>\n",
       "      <td>84.0</td>\n",
       "      <td>69.94</td>\n",
       "      <td>77.40</td>\n",
       "    </tr>\n",
       "  </tbody>\n",
       "</table>\n",
       "</div>"
      ],
      "text/plain": [
       "          국어          영어          수학       StudentAvg       \n",
       "반          A     B     A     B     A     B          A      B\n",
       "번호                                                          \n",
       "1       79.0  88.0  55.0  44.0  57.0  76.0      63.67  69.33\n",
       "2       67.0  92.0  77.0  86.0  45.0  89.0      63.00  89.00\n",
       "3       68.0  54.0  67.0  45.0  68.0  67.0      67.67  55.33\n",
       "4       88.0  67.0  58.0  78.0  78.0  99.0      74.67  81.33\n",
       "5       85.0  97.0  67.0  90.0  90.0  89.0      80.67  92.00\n",
       "SubAvg  77.4  79.6  64.8  68.6  67.6  84.0      69.94  77.40"
      ]
     },
     "execution_count": 377,
     "metadata": {},
     "output_type": "execute_result"
    }
   ],
   "source": [
    "df4"
   ]
  },
  {
   "cell_type": "code",
   "execution_count": null,
   "id": "0fdefca9",
   "metadata": {},
   "outputs": [],
   "source": [
    "df2 = pd.DataFrame(np.random.rand(6,4).round(2),\n",
    "                  columns = [[\"A\", \"A\", \"B\", \"B\"], [\"C\", \"D\", \"C\", \"D\"]],\n",
    "                  index = [[\"M\", \"M\", \"M\", \"F\", \"F\", \"F\"], \n",
    "                           [\"id_\" + str(i+1) for i in range(3)]*2])\n",
    "df2.columns.names = [\"Cidx1\", \"Cidx2\"]\n",
    "df2.index.names = [\"Ridx1\", \"Ridx2\"]\n",
    "df2\n",
    "\n",
    "print(df2)\n",
    "print(\"-----------------------------------------------\")\n",
    "\n",
    "# 1. 첫번째 열에 있는 0.55 ~ 0.02까지를 출력해보시오(5번쨰행까지)\n",
    "print(df2[('A','C')][0:5])\n",
    "print(df2.iloc[:-1,0])\n",
    "print(df2.iloc[0:5, 0])\n",
    "\n",
    "# 2. 첫번째 행의 모든 컬럼 출력\n",
    "print(df2.iloc[0, :])\n",
    "print(df2.iloc[0:, 0])\n",
    "print(df2.loc[(\"M\", \"id_1\")])\n",
    "\n",
    "# 3. 맨 마지막 행에  \"ALL\"이라는 인덱스를 추가하여 각 열의 합을 출력\n",
    "df2.loc[\"ALL\"] = df2[:].sum() # 이렇게 하면 멀티인덱스가 ()로 하나의 각각의 인덱스로 묶여버린다. 필히 확인\n",
    "df2.loc[(\"ALL\", \"ALL\"), :] = df2.sum()\n",
    "df2.loc[('ALL',''),:] = df2.sum()\n",
    "df2\n",
    "\n",
    "# 중간실습\n",
    "\n",
    "df_score1 = pd.DataFrame({\n",
    "    \"반\":[\"A\", \"A\", \"B\", \"A\", \"B\", \"B\", \"B\", \"A\", \"B\", \"A\"],\n",
    "    \"번호\" : [1, 2, 1, 3, 2, 3, 4, 4, 5, 5],\n",
    "    \"국어\" : [79, 67, 88, 68, 92, 54, 67, 88, 97, 85],\n",
    "    \"영어\" : [55, 77, 44, 67, 86, 45, 78, 58, 90, 67],\n",
    "    \"수학\" : [57, 45, 76, 68, 89, 67, 99, 78, 89, 90]\n",
    "})\n",
    "df_score1\n",
    "\n",
    "#1. 1차 행 인덱스로 \"반\"을, 2차 행 인덱스로 \"번호\"를 가지는 데이터프레임을 생성\n",
    "\n",
    "kor = [79, 67, 88, 68, 92, 54, 67, 88, 97, 85]\n",
    "eng = [55, 77, 44, 67, 86, 45, 78, 58, 90, 67]\n",
    "mat = [57, 45, 76, 68, 89, 67, 99, 78, 89, 90]\n",
    "print(kor)\n",
    "\n",
    "df2 = pd.DataFrame(np.vstack([list(kor), list(eng), list(mat)]),\n",
    "                columns=[[\"A\", \"A\", \"B\", \"A\", \"B\", \"B\", \"B\", \"A\", \"B\", \"A\"], [1, 2, 1, 3, 2, 3, 4, 4, 5, 5]],\n",
    "                index = [[\"국어\", \"영어\", \"수학\"]])\n",
    "df2.columns.names = [\"반\", \"번호\"]\n",
    "print(df_score2.sort_index())\n",
    "\n",
    "df3 = df_score2.sort_index()\n",
    "df3\n",
    "\n",
    "print(\"--------------------------------------------\")\n",
    "\n",
    "df2=df2.set_index([\"반\",\"번호\"])\n",
    "df3=df2.sort_index()\n",
    "df3\n",
    "\n",
    "\n",
    "#2. 학생의 평균을 나타내는 행을 오른쪽에 추가\n",
    "\n",
    "df3[\"StudentAvg\"] =  df3.mean(axis=1).round(2)\n",
    "df3\n",
    "\n",
    "print(df3.unstack(\"반\"))\n",
    "df4 = df3.unstack(\"반\")\n",
    "df4\n",
    "\n",
    "#4. 각 반별 각 과목의 평균을 나타내는 행을 아래에 추가\n",
    "df4.loc[\"SubAvg\", :] = df4.mean(axis=0).round(2)\n",
    "df4"
   ]
  },
  {
   "cell_type": "markdown",
   "id": "78cd61e7",
   "metadata": {},
   "source": [
    "## 6. Pandas 실습\n",
    "\n",
    "- 데이터 수집 -> 전처리 -> 분석 -> 시각화\n",
    "\n",
    "### (1) Data Definition"
   ]
  },
  {
   "cell_type": "code",
   "execution_count": 22,
   "id": "c809c024",
   "metadata": {},
   "outputs": [
    {
     "name": "stdout",
     "output_type": "stream",
     "text": [
      "   total_bill   tip     sex smoker  day    time  size\n",
      "0       16.99  1.01  Female     No  Sun  Dinner     2\n",
      "1       10.34  1.66    Male     No  Sun  Dinner     3\n",
      "2       21.01  3.50    Male     No  Sun  Dinner     3\n",
      "3       23.68  3.31    Male     No  Sun  Dinner     2\n",
      "4       24.59  3.61  Female     No  Sun  Dinner     4\n",
      "-------------------------------------------------\n",
      "       total_bill         tip        size\n",
      "count  244.000000  244.000000  244.000000\n",
      "mean    19.785943    2.998279    2.569672\n",
      "std      8.902412    1.383638    0.951100\n",
      "min      3.070000    1.000000    1.000000\n",
      "25%     13.347500    2.000000    2.000000\n",
      "50%     17.795000    2.900000    2.000000\n",
      "75%     24.127500    3.562500    3.000000\n",
      "max     50.810000   10.000000    6.000000\n",
      "-------------------------------------------------\n",
      "<class 'pandas.core.frame.DataFrame'>\n",
      "RangeIndex: 244 entries, 0 to 243\n",
      "Data columns (total 7 columns):\n",
      " #   Column      Non-Null Count  Dtype   \n",
      "---  ------      --------------  -----   \n",
      " 0   total_bill  244 non-null    float64 \n",
      " 1   tip         244 non-null    float64 \n",
      " 2   sex         244 non-null    category\n",
      " 3   smoker      244 non-null    category\n",
      " 4   day         244 non-null    category\n",
      " 5   time        244 non-null    category\n",
      " 6   size        244 non-null    int64   \n",
      "dtypes: category(4), float64(2), int64(1)\n",
      "memory usage: 7.4 KB\n"
     ]
    }
   ],
   "source": [
    "import seaborn as sns\n",
    "\n",
    "tips = sns.load_dataset(\"tips\")\n",
    "print(tips.head()) # 데이터를 처음 손에 넣으면 가볍게 head로 어떤 데이터인지 확인해본다\n",
    "print(\"-------------------------------------------------\")\n",
    "print(tips.describe()) # describe를 통해 기술통계 확인\n",
    "print(\"-------------------------------------------------\")\n",
    "tips.info() # 어떤 데이터인지 확인"
   ]
  },
  {
   "cell_type": "markdown",
   "id": "b17892f5",
   "metadata": {},
   "source": [
    "### (2) EDA(탐색적 데이터 분석)"
   ]
  },
  {
   "cell_type": "markdown",
   "id": "3480218f",
   "metadata": {},
   "source": [
    "#### 1) 파생 변수 추가\n",
    "\n",
    "- 식사대금과 팁의 비율을 나타내는 tip_pct라는 변수 추가\n",
    "- 팁의 비율 : tip / total_bill"
   ]
  },
  {
   "cell_type": "code",
   "execution_count": 23,
   "id": "fc8b7422",
   "metadata": {},
   "outputs": [
    {
     "data": {
      "text/html": [
       "<div>\n",
       "<style scoped>\n",
       "    .dataframe tbody tr th:only-of-type {\n",
       "        vertical-align: middle;\n",
       "    }\n",
       "\n",
       "    .dataframe tbody tr th {\n",
       "        vertical-align: top;\n",
       "    }\n",
       "\n",
       "    .dataframe thead th {\n",
       "        text-align: right;\n",
       "    }\n",
       "</style>\n",
       "<table border=\"1\" class=\"dataframe\">\n",
       "  <thead>\n",
       "    <tr style=\"text-align: right;\">\n",
       "      <th></th>\n",
       "      <th>total_bill</th>\n",
       "      <th>tip</th>\n",
       "      <th>sex</th>\n",
       "      <th>smoker</th>\n",
       "      <th>day</th>\n",
       "      <th>time</th>\n",
       "      <th>size</th>\n",
       "      <th>tip_pct</th>\n",
       "    </tr>\n",
       "  </thead>\n",
       "  <tbody>\n",
       "    <tr>\n",
       "      <th>0</th>\n",
       "      <td>16.99</td>\n",
       "      <td>1.01</td>\n",
       "      <td>Female</td>\n",
       "      <td>No</td>\n",
       "      <td>Sun</td>\n",
       "      <td>Dinner</td>\n",
       "      <td>2</td>\n",
       "      <td>0.06</td>\n",
       "    </tr>\n",
       "    <tr>\n",
       "      <th>1</th>\n",
       "      <td>10.34</td>\n",
       "      <td>1.66</td>\n",
       "      <td>Male</td>\n",
       "      <td>No</td>\n",
       "      <td>Sun</td>\n",
       "      <td>Dinner</td>\n",
       "      <td>3</td>\n",
       "      <td>0.16</td>\n",
       "    </tr>\n",
       "    <tr>\n",
       "      <th>2</th>\n",
       "      <td>21.01</td>\n",
       "      <td>3.50</td>\n",
       "      <td>Male</td>\n",
       "      <td>No</td>\n",
       "      <td>Sun</td>\n",
       "      <td>Dinner</td>\n",
       "      <td>3</td>\n",
       "      <td>0.17</td>\n",
       "    </tr>\n",
       "    <tr>\n",
       "      <th>3</th>\n",
       "      <td>23.68</td>\n",
       "      <td>3.31</td>\n",
       "      <td>Male</td>\n",
       "      <td>No</td>\n",
       "      <td>Sun</td>\n",
       "      <td>Dinner</td>\n",
       "      <td>2</td>\n",
       "      <td>0.14</td>\n",
       "    </tr>\n",
       "    <tr>\n",
       "      <th>4</th>\n",
       "      <td>24.59</td>\n",
       "      <td>3.61</td>\n",
       "      <td>Female</td>\n",
       "      <td>No</td>\n",
       "      <td>Sun</td>\n",
       "      <td>Dinner</td>\n",
       "      <td>4</td>\n",
       "      <td>0.15</td>\n",
       "    </tr>\n",
       "    <tr>\n",
       "      <th>...</th>\n",
       "      <td>...</td>\n",
       "      <td>...</td>\n",
       "      <td>...</td>\n",
       "      <td>...</td>\n",
       "      <td>...</td>\n",
       "      <td>...</td>\n",
       "      <td>...</td>\n",
       "      <td>...</td>\n",
       "    </tr>\n",
       "    <tr>\n",
       "      <th>239</th>\n",
       "      <td>29.03</td>\n",
       "      <td>5.92</td>\n",
       "      <td>Male</td>\n",
       "      <td>No</td>\n",
       "      <td>Sat</td>\n",
       "      <td>Dinner</td>\n",
       "      <td>3</td>\n",
       "      <td>0.20</td>\n",
       "    </tr>\n",
       "    <tr>\n",
       "      <th>240</th>\n",
       "      <td>27.18</td>\n",
       "      <td>2.00</td>\n",
       "      <td>Female</td>\n",
       "      <td>Yes</td>\n",
       "      <td>Sat</td>\n",
       "      <td>Dinner</td>\n",
       "      <td>2</td>\n",
       "      <td>0.07</td>\n",
       "    </tr>\n",
       "    <tr>\n",
       "      <th>241</th>\n",
       "      <td>22.67</td>\n",
       "      <td>2.00</td>\n",
       "      <td>Male</td>\n",
       "      <td>Yes</td>\n",
       "      <td>Sat</td>\n",
       "      <td>Dinner</td>\n",
       "      <td>2</td>\n",
       "      <td>0.09</td>\n",
       "    </tr>\n",
       "    <tr>\n",
       "      <th>242</th>\n",
       "      <td>17.82</td>\n",
       "      <td>1.75</td>\n",
       "      <td>Male</td>\n",
       "      <td>No</td>\n",
       "      <td>Sat</td>\n",
       "      <td>Dinner</td>\n",
       "      <td>2</td>\n",
       "      <td>0.10</td>\n",
       "    </tr>\n",
       "    <tr>\n",
       "      <th>243</th>\n",
       "      <td>18.78</td>\n",
       "      <td>3.00</td>\n",
       "      <td>Female</td>\n",
       "      <td>No</td>\n",
       "      <td>Thur</td>\n",
       "      <td>Dinner</td>\n",
       "      <td>2</td>\n",
       "      <td>0.16</td>\n",
       "    </tr>\n",
       "  </tbody>\n",
       "</table>\n",
       "<p>244 rows × 8 columns</p>\n",
       "</div>"
      ],
      "text/plain": [
       "     total_bill   tip     sex smoker   day    time  size  tip_pct\n",
       "0         16.99  1.01  Female     No   Sun  Dinner     2     0.06\n",
       "1         10.34  1.66    Male     No   Sun  Dinner     3     0.16\n",
       "2         21.01  3.50    Male     No   Sun  Dinner     3     0.17\n",
       "3         23.68  3.31    Male     No   Sun  Dinner     2     0.14\n",
       "4         24.59  3.61  Female     No   Sun  Dinner     4     0.15\n",
       "..          ...   ...     ...    ...   ...     ...   ...      ...\n",
       "239       29.03  5.92    Male     No   Sat  Dinner     3     0.20\n",
       "240       27.18  2.00  Female    Yes   Sat  Dinner     2     0.07\n",
       "241       22.67  2.00    Male    Yes   Sat  Dinner     2     0.09\n",
       "242       17.82  1.75    Male     No   Sat  Dinner     2     0.10\n",
       "243       18.78  3.00  Female     No  Thur  Dinner     2     0.16\n",
       "\n",
       "[244 rows x 8 columns]"
      ]
     },
     "execution_count": 23,
     "metadata": {},
     "output_type": "execute_result"
    }
   ],
   "source": [
    "tips[\"tip_pct\"] = round(tips.tip / tips.total_bill, 2)\n",
    "tips2=tips\n",
    "tips2"
   ]
  },
  {
   "cell_type": "markdown",
   "id": "a3adc813",
   "metadata": {},
   "source": [
    "#### 2) 성별로 인원수 파악"
   ]
  },
  {
   "cell_type": "code",
   "execution_count": 26,
   "id": "59895ea8",
   "metadata": {},
   "outputs": [
    {
     "data": {
      "text/html": [
       "<div>\n",
       "<style scoped>\n",
       "    .dataframe tbody tr th:only-of-type {\n",
       "        vertical-align: middle;\n",
       "    }\n",
       "\n",
       "    .dataframe tbody tr th {\n",
       "        vertical-align: top;\n",
       "    }\n",
       "\n",
       "    .dataframe thead th {\n",
       "        text-align: right;\n",
       "    }\n",
       "</style>\n",
       "<table border=\"1\" class=\"dataframe\">\n",
       "  <thead>\n",
       "    <tr style=\"text-align: right;\">\n",
       "      <th></th>\n",
       "      <th>total_bill</th>\n",
       "      <th>tip</th>\n",
       "      <th>smoker</th>\n",
       "      <th>day</th>\n",
       "      <th>time</th>\n",
       "      <th>size</th>\n",
       "      <th>tip_pct</th>\n",
       "    </tr>\n",
       "    <tr>\n",
       "      <th>sex</th>\n",
       "      <th></th>\n",
       "      <th></th>\n",
       "      <th></th>\n",
       "      <th></th>\n",
       "      <th></th>\n",
       "      <th></th>\n",
       "      <th></th>\n",
       "    </tr>\n",
       "  </thead>\n",
       "  <tbody>\n",
       "    <tr>\n",
       "      <th>Male</th>\n",
       "      <td>157</td>\n",
       "      <td>157</td>\n",
       "      <td>157</td>\n",
       "      <td>157</td>\n",
       "      <td>157</td>\n",
       "      <td>157</td>\n",
       "      <td>157</td>\n",
       "    </tr>\n",
       "    <tr>\n",
       "      <th>Female</th>\n",
       "      <td>87</td>\n",
       "      <td>87</td>\n",
       "      <td>87</td>\n",
       "      <td>87</td>\n",
       "      <td>87</td>\n",
       "      <td>87</td>\n",
       "      <td>87</td>\n",
       "    </tr>\n",
       "  </tbody>\n",
       "</table>\n",
       "</div>"
      ],
      "text/plain": [
       "        total_bill  tip  smoker  day  time  size  tip_pct\n",
       "sex                                                      \n",
       "Male           157  157     157  157   157   157      157\n",
       "Female          87   87      87   87    87    87       87"
      ]
     },
     "execution_count": 26,
     "metadata": {},
     "output_type": "execute_result"
    }
   ],
   "source": [
    "tips2.groupby(\"sex\").count() # 데이터프레임 형식으로 리턴"
   ]
  },
  {
   "cell_type": "code",
   "execution_count": 27,
   "id": "663d7e42",
   "metadata": {},
   "outputs": [
    {
     "data": {
      "text/plain": [
       "sex\n",
       "Male      157\n",
       "Female     87\n",
       "dtype: int64"
      ]
     },
     "execution_count": 27,
     "metadata": {},
     "output_type": "execute_result"
    }
   ],
   "source": [
    "tips2.groupby(\"sex\").size() # 시리즈 형식으로 리턴"
   ]
  },
  {
   "cell_type": "code",
   "execution_count": 25,
   "id": "8e222b7a",
   "metadata": {},
   "outputs": [
    {
     "data": {
      "text/plain": [
       "Male      157\n",
       "Female     87\n",
       "Name: sex, dtype: int64"
      ]
     },
     "execution_count": 25,
     "metadata": {},
     "output_type": "execute_result"
    }
   ],
   "source": [
    "tips[\"sex\"].value_counts() # 시리즈 형식으로 리턴"
   ]
  },
  {
   "cell_type": "code",
   "execution_count": 28,
   "id": "44260261",
   "metadata": {},
   "outputs": [
    {
     "data": {
      "text/plain": [
       "627"
      ]
     },
     "execution_count": 28,
     "metadata": {},
     "output_type": "execute_result"
    }
   ],
   "source": [
    "tips[\"size\"].sum() # 식당에 온 모든 사람"
   ]
  },
  {
   "cell_type": "markdown",
   "id": "b5517407",
   "metadata": {},
   "source": [
    "#### 3) 성별, 흡연 유무별로 인원수 파악"
   ]
  },
  {
   "cell_type": "code",
   "execution_count": 30,
   "id": "14050371",
   "metadata": {},
   "outputs": [
    {
     "data": {
      "text/plain": [
       "sex     smoker\n",
       "Male    Yes       60\n",
       "        No        97\n",
       "Female  Yes       33\n",
       "        No        54\n",
       "Name: size, dtype: int64"
      ]
     },
     "execution_count": 30,
     "metadata": {},
     "output_type": "execute_result"
    }
   ],
   "source": [
    "tips2.groupby([\"sex\",\"smoker\"])[\"size\"].size()"
   ]
  },
  {
   "cell_type": "code",
   "execution_count": 29,
   "id": "36e5f2e0",
   "metadata": {},
   "outputs": [
    {
     "data": {
      "text/plain": [
       "sex     smoker\n",
       "Male    Yes       60\n",
       "        No        97\n",
       "Female  Yes       33\n",
       "        No        54\n",
       "Name: size, dtype: int64"
      ]
     },
     "execution_count": 29,
     "metadata": {},
     "output_type": "execute_result"
    }
   ],
   "source": [
    "tips2.groupby([\"sex\",\"smoker\"])[\"size\"].count()"
   ]
  },
  {
   "cell_type": "markdown",
   "id": "2d9777f7",
   "metadata": {},
   "source": [
    "#### 4) 위의 두 정보를 하나의 테이블로 tip_pct를 조회\n",
    "- pivot_table() 사용"
   ]
  },
  {
   "cell_type": "code",
   "execution_count": 41,
   "id": "c2157267",
   "metadata": {},
   "outputs": [
    {
     "data": {
      "text/plain": [
       "sex     smoker\n",
       "Male    Yes       0.152667\n",
       "        No        0.161031\n",
       "Female  Yes       0.182424\n",
       "        No        0.156852\n",
       "Name: tip_pct, dtype: float64"
      ]
     },
     "execution_count": 41,
     "metadata": {},
     "output_type": "execute_result"
    }
   ],
   "source": [
    "\"\"\"\n",
    "smoker    yes    no\n",
    "sex\n",
    " male     ..\n",
    " female   ..\n",
    "\"\"\"\n",
    "tips2.groupby([\"sex\",\"smoker\"])[\"tip_pct\"].mean()"
   ]
  },
  {
   "cell_type": "code",
   "execution_count": 285,
   "id": "40362ba9",
   "metadata": {},
   "outputs": [
    {
     "data": {
      "text/html": [
       "<div>\n",
       "<style scoped>\n",
       "    .dataframe tbody tr th:only-of-type {\n",
       "        vertical-align: middle;\n",
       "    }\n",
       "\n",
       "    .dataframe tbody tr th {\n",
       "        vertical-align: top;\n",
       "    }\n",
       "\n",
       "    .dataframe thead th {\n",
       "        text-align: right;\n",
       "    }\n",
       "</style>\n",
       "<table border=\"1\" class=\"dataframe\">\n",
       "  <thead>\n",
       "    <tr style=\"text-align: right;\">\n",
       "      <th>smoker</th>\n",
       "      <th>Yes</th>\n",
       "      <th>No</th>\n",
       "    </tr>\n",
       "    <tr>\n",
       "      <th>sex</th>\n",
       "      <th></th>\n",
       "      <th></th>\n",
       "    </tr>\n",
       "  </thead>\n",
       "  <tbody>\n",
       "    <tr>\n",
       "      <th>Male</th>\n",
       "      <td>0.152667</td>\n",
       "      <td>0.161031</td>\n",
       "    </tr>\n",
       "    <tr>\n",
       "      <th>Female</th>\n",
       "      <td>0.182424</td>\n",
       "      <td>0.156852</td>\n",
       "    </tr>\n",
       "  </tbody>\n",
       "</table>\n",
       "</div>"
      ],
      "text/plain": [
       "smoker       Yes        No\n",
       "sex                       \n",
       "Male    0.152667  0.161031\n",
       "Female  0.182424  0.156852"
      ]
     },
     "execution_count": 285,
     "metadata": {},
     "output_type": "execute_result"
    }
   ],
   "source": [
    "tips2.pivot_table(values=\"tip_pct\", columns=\"smoker\", index=\"sex\")"
   ]
  },
  {
   "cell_type": "code",
   "execution_count": 35,
   "id": "2b09aaa0",
   "metadata": {},
   "outputs": [
    {
     "data": {
      "text/html": [
       "<div>\n",
       "<style scoped>\n",
       "    .dataframe tbody tr th:only-of-type {\n",
       "        vertical-align: middle;\n",
       "    }\n",
       "\n",
       "    .dataframe tbody tr th {\n",
       "        vertical-align: top;\n",
       "    }\n",
       "\n",
       "    .dataframe thead th {\n",
       "        text-align: right;\n",
       "    }\n",
       "</style>\n",
       "<table border=\"1\" class=\"dataframe\">\n",
       "  <thead>\n",
       "    <tr style=\"text-align: right;\">\n",
       "      <th></th>\n",
       "      <th></th>\n",
       "      <th>tip_pct</th>\n",
       "    </tr>\n",
       "    <tr>\n",
       "      <th>sex</th>\n",
       "      <th>smoker</th>\n",
       "      <th></th>\n",
       "    </tr>\n",
       "  </thead>\n",
       "  <tbody>\n",
       "    <tr>\n",
       "      <th rowspan=\"2\" valign=\"top\">Male</th>\n",
       "      <th>Yes</th>\n",
       "      <td>0.152667</td>\n",
       "    </tr>\n",
       "    <tr>\n",
       "      <th>No</th>\n",
       "      <td>0.161031</td>\n",
       "    </tr>\n",
       "    <tr>\n",
       "      <th rowspan=\"2\" valign=\"top\">Female</th>\n",
       "      <th>Yes</th>\n",
       "      <td>0.182424</td>\n",
       "    </tr>\n",
       "    <tr>\n",
       "      <th>No</th>\n",
       "      <td>0.156852</td>\n",
       "    </tr>\n",
       "    <tr>\n",
       "      <th>All</th>\n",
       "      <th></th>\n",
       "      <td>0.160943</td>\n",
       "    </tr>\n",
       "  </tbody>\n",
       "</table>\n",
       "</div>"
      ],
      "text/plain": [
       "                tip_pct\n",
       "sex    smoker          \n",
       "Male   Yes     0.152667\n",
       "       No      0.161031\n",
       "Female Yes     0.182424\n",
       "       No      0.156852\n",
       "All            0.160943"
      ]
     },
     "execution_count": 35,
     "metadata": {},
     "output_type": "execute_result"
    }
   ],
   "source": [
    "tips2.pivot_table(values=\"tip_pct\", index=[\"sex\", \"smoker\"], margins=True) # 합계를 추가해주는 margins"
   ]
  },
  {
   "cell_type": "code",
   "execution_count": 37,
   "id": "a64c985a",
   "metadata": {},
   "outputs": [
    {
     "data": {
      "text/html": [
       "<div>\n",
       "<style scoped>\n",
       "    .dataframe tbody tr th:only-of-type {\n",
       "        vertical-align: middle;\n",
       "    }\n",
       "\n",
       "    .dataframe tbody tr th {\n",
       "        vertical-align: top;\n",
       "    }\n",
       "\n",
       "    .dataframe thead th {\n",
       "        text-align: right;\n",
       "    }\n",
       "</style>\n",
       "<table border=\"1\" class=\"dataframe\">\n",
       "  <thead>\n",
       "    <tr style=\"text-align: right;\">\n",
       "      <th></th>\n",
       "      <th></th>\n",
       "      <th>size</th>\n",
       "      <th>tip_pct</th>\n",
       "    </tr>\n",
       "    <tr>\n",
       "      <th>sex</th>\n",
       "      <th>smoker</th>\n",
       "      <th></th>\n",
       "      <th></th>\n",
       "    </tr>\n",
       "  </thead>\n",
       "  <tbody>\n",
       "    <tr>\n",
       "      <th rowspan=\"2\" valign=\"top\">Male</th>\n",
       "      <th>Yes</th>\n",
       "      <td>2.500000</td>\n",
       "      <td>0.152667</td>\n",
       "    </tr>\n",
       "    <tr>\n",
       "      <th>No</th>\n",
       "      <td>2.711340</td>\n",
       "      <td>0.161031</td>\n",
       "    </tr>\n",
       "    <tr>\n",
       "      <th rowspan=\"2\" valign=\"top\">Female</th>\n",
       "      <th>Yes</th>\n",
       "      <td>2.242424</td>\n",
       "      <td>0.182424</td>\n",
       "    </tr>\n",
       "    <tr>\n",
       "      <th>No</th>\n",
       "      <td>2.592593</td>\n",
       "      <td>0.156852</td>\n",
       "    </tr>\n",
       "  </tbody>\n",
       "</table>\n",
       "</div>"
      ],
      "text/plain": [
       "                   size   tip_pct\n",
       "sex    smoker                    \n",
       "Male   Yes     2.500000  0.152667\n",
       "       No      2.711340  0.161031\n",
       "Female Yes     2.242424  0.182424\n",
       "       No      2.592593  0.156852"
      ]
     },
     "execution_count": 37,
     "metadata": {},
     "output_type": "execute_result"
    }
   ],
   "source": [
    "tips2.pivot_table(values=[\"tip_pct\", \"size\"], index=[\"sex\", \"smoker\"])"
   ]
  },
  {
   "cell_type": "code",
   "execution_count": 283,
   "id": "5fa2fb9e",
   "metadata": {},
   "outputs": [],
   "source": [
    "?tips2.groupby"
   ]
  },
  {
   "cell_type": "markdown",
   "id": "50f04c2c",
   "metadata": {},
   "source": [
    "#### 5) 흡연 유무별에 따른 팁 비율을 조회\n",
    "- groupby() 사용"
   ]
  },
  {
   "cell_type": "code",
   "execution_count": 38,
   "id": "88d572f4",
   "metadata": {},
   "outputs": [
    {
     "data": {
      "text/plain": [
       "smoker\n",
       "Yes    0.163226\n",
       "No     0.159536\n",
       "Name: tip_pct, dtype: float64"
      ]
     },
     "execution_count": 38,
     "metadata": {},
     "output_type": "execute_result"
    }
   ],
   "source": [
    "tips2.groupby([\"smoker\"])[\"tip_pct\"].mean()"
   ]
  },
  {
   "cell_type": "code",
   "execution_count": 39,
   "id": "bad84723",
   "metadata": {},
   "outputs": [
    {
     "data": {
      "text/html": [
       "<div>\n",
       "<style scoped>\n",
       "    .dataframe tbody tr th:only-of-type {\n",
       "        vertical-align: middle;\n",
       "    }\n",
       "\n",
       "    .dataframe tbody tr th {\n",
       "        vertical-align: top;\n",
       "    }\n",
       "\n",
       "    .dataframe thead th {\n",
       "        text-align: right;\n",
       "    }\n",
       "</style>\n",
       "<table border=\"1\" class=\"dataframe\">\n",
       "  <thead>\n",
       "    <tr style=\"text-align: right;\">\n",
       "      <th></th>\n",
       "      <th>count</th>\n",
       "      <th>mean</th>\n",
       "      <th>std</th>\n",
       "      <th>min</th>\n",
       "      <th>25%</th>\n",
       "      <th>50%</th>\n",
       "      <th>75%</th>\n",
       "      <th>max</th>\n",
       "    </tr>\n",
       "    <tr>\n",
       "      <th>smoker</th>\n",
       "      <th></th>\n",
       "      <th></th>\n",
       "      <th></th>\n",
       "      <th></th>\n",
       "      <th></th>\n",
       "      <th></th>\n",
       "      <th></th>\n",
       "      <th></th>\n",
       "    </tr>\n",
       "  </thead>\n",
       "  <tbody>\n",
       "    <tr>\n",
       "      <th>Yes</th>\n",
       "      <td>93.0</td>\n",
       "      <td>0.163226</td>\n",
       "      <td>0.085060</td>\n",
       "      <td>0.04</td>\n",
       "      <td>0.11</td>\n",
       "      <td>0.15</td>\n",
       "      <td>0.200</td>\n",
       "      <td>0.71</td>\n",
       "    </tr>\n",
       "    <tr>\n",
       "      <th>No</th>\n",
       "      <td>151.0</td>\n",
       "      <td>0.159536</td>\n",
       "      <td>0.039889</td>\n",
       "      <td>0.06</td>\n",
       "      <td>0.14</td>\n",
       "      <td>0.16</td>\n",
       "      <td>0.185</td>\n",
       "      <td>0.29</td>\n",
       "    </tr>\n",
       "  </tbody>\n",
       "</table>\n",
       "</div>"
      ],
      "text/plain": [
       "        count      mean       std   min   25%   50%    75%   max\n",
       "smoker                                                          \n",
       "Yes      93.0  0.163226  0.085060  0.04  0.11  0.15  0.200  0.71\n",
       "No      151.0  0.159536  0.039889  0.06  0.14  0.16  0.185  0.29"
      ]
     },
     "execution_count": 39,
     "metadata": {},
     "output_type": "execute_result"
    }
   ],
   "source": [
    "tips2.groupby([\"smoker\"])[\"tip_pct\"].describe()"
   ]
  },
  {
   "cell_type": "markdown",
   "id": "c4e2b6d9",
   "metadata": {},
   "source": [
    "#### 6) tip의 비율이 요일과 점심/저녁 여부, 인원수에 어떤 영향을 받는지 살표볼 수 있게 조회\n",
    "\n",
    "- 어떤 요인이 가장 크게 작용하는지 확인"
   ]
  },
  {
   "cell_type": "code",
   "execution_count": 54,
   "id": "1c6d6c32",
   "metadata": {},
   "outputs": [
    {
     "data": {
      "text/html": [
       "<div>\n",
       "<style scoped>\n",
       "    .dataframe tbody tr th:only-of-type {\n",
       "        vertical-align: middle;\n",
       "    }\n",
       "\n",
       "    .dataframe tbody tr th {\n",
       "        vertical-align: top;\n",
       "    }\n",
       "\n",
       "    .dataframe thead th {\n",
       "        text-align: right;\n",
       "    }\n",
       "</style>\n",
       "<table border=\"1\" class=\"dataframe\">\n",
       "  <thead>\n",
       "    <tr style=\"text-align: right;\">\n",
       "      <th></th>\n",
       "      <th></th>\n",
       "      <th></th>\n",
       "      <th>tip_pct</th>\n",
       "    </tr>\n",
       "    <tr>\n",
       "      <th>day</th>\n",
       "      <th>time</th>\n",
       "      <th>size</th>\n",
       "      <th></th>\n",
       "    </tr>\n",
       "  </thead>\n",
       "  <tbody>\n",
       "    <tr>\n",
       "      <th rowspan=\"7\" valign=\"top\">Thur</th>\n",
       "      <th rowspan=\"6\" valign=\"top\">Lunch</th>\n",
       "      <th>1</th>\n",
       "      <td>0.180000</td>\n",
       "    </tr>\n",
       "    <tr>\n",
       "      <th>2</th>\n",
       "      <td>0.163830</td>\n",
       "    </tr>\n",
       "    <tr>\n",
       "      <th>3</th>\n",
       "      <td>0.145000</td>\n",
       "    </tr>\n",
       "    <tr>\n",
       "      <th>4</th>\n",
       "      <td>0.146000</td>\n",
       "    </tr>\n",
       "    <tr>\n",
       "      <th>5</th>\n",
       "      <td>0.120000</td>\n",
       "    </tr>\n",
       "    <tr>\n",
       "      <th>6</th>\n",
       "      <td>0.173333</td>\n",
       "    </tr>\n",
       "    <tr>\n",
       "      <th>Dinner</th>\n",
       "      <th>2</th>\n",
       "      <td>0.160000</td>\n",
       "    </tr>\n",
       "    <tr>\n",
       "      <th rowspan=\"5\" valign=\"top\">Fri</th>\n",
       "      <th rowspan=\"3\" valign=\"top\">Lunch</th>\n",
       "      <th>1</th>\n",
       "      <td>0.220000</td>\n",
       "    </tr>\n",
       "    <tr>\n",
       "      <th>2</th>\n",
       "      <td>0.182000</td>\n",
       "    </tr>\n",
       "    <tr>\n",
       "      <th>3</th>\n",
       "      <td>0.190000</td>\n",
       "    </tr>\n",
       "    <tr>\n",
       "      <th rowspan=\"2\" valign=\"top\">Dinner</th>\n",
       "      <th>2</th>\n",
       "      <td>0.161818</td>\n",
       "    </tr>\n",
       "    <tr>\n",
       "      <th>4</th>\n",
       "      <td>0.120000</td>\n",
       "    </tr>\n",
       "    <tr>\n",
       "      <th rowspan=\"5\" valign=\"top\">Sat</th>\n",
       "      <th rowspan=\"5\" valign=\"top\">Dinner</th>\n",
       "      <th>1</th>\n",
       "      <td>0.235000</td>\n",
       "    </tr>\n",
       "    <tr>\n",
       "      <th>2</th>\n",
       "      <td>0.155660</td>\n",
       "    </tr>\n",
       "    <tr>\n",
       "      <th>3</th>\n",
       "      <td>0.151667</td>\n",
       "    </tr>\n",
       "    <tr>\n",
       "      <th>4</th>\n",
       "      <td>0.139231</td>\n",
       "    </tr>\n",
       "    <tr>\n",
       "      <th>5</th>\n",
       "      <td>0.110000</td>\n",
       "    </tr>\n",
       "    <tr>\n",
       "      <th rowspan=\"5\" valign=\"top\">Sun</th>\n",
       "      <th rowspan=\"5\" valign=\"top\">Dinner</th>\n",
       "      <th>2</th>\n",
       "      <td>0.180769</td>\n",
       "    </tr>\n",
       "    <tr>\n",
       "      <th>3</th>\n",
       "      <td>0.153333</td>\n",
       "    </tr>\n",
       "    <tr>\n",
       "      <th>4</th>\n",
       "      <td>0.153333</td>\n",
       "    </tr>\n",
       "    <tr>\n",
       "      <th>5</th>\n",
       "      <td>0.160000</td>\n",
       "    </tr>\n",
       "    <tr>\n",
       "      <th>6</th>\n",
       "      <td>0.100000</td>\n",
       "    </tr>\n",
       "  </tbody>\n",
       "</table>\n",
       "</div>"
      ],
      "text/plain": [
       "                   tip_pct\n",
       "day  time   size          \n",
       "Thur Lunch  1     0.180000\n",
       "            2     0.163830\n",
       "            3     0.145000\n",
       "            4     0.146000\n",
       "            5     0.120000\n",
       "            6     0.173333\n",
       "     Dinner 2     0.160000\n",
       "Fri  Lunch  1     0.220000\n",
       "            2     0.182000\n",
       "            3     0.190000\n",
       "     Dinner 2     0.161818\n",
       "            4     0.120000\n",
       "Sat  Dinner 1     0.235000\n",
       "            2     0.155660\n",
       "            3     0.151667\n",
       "            4     0.139231\n",
       "            5     0.110000\n",
       "Sun  Dinner 2     0.180769\n",
       "            3     0.153333\n",
       "            4     0.153333\n",
       "            5     0.160000\n",
       "            6     0.100000"
      ]
     },
     "execution_count": 54,
     "metadata": {},
     "output_type": "execute_result"
    }
   ],
   "source": [
    "tips2.groupby([\"day\",\"time\",\"size\"])[[\"tip_pct\"]].mean().dropna() # [[]]으로 tip_pct를 묶으면 데이터프레임, []는 시리즈\n",
    "# dropna()를 끝에 붙여줌으로써 결측치 제거"
   ]
  },
  {
   "cell_type": "code",
   "execution_count": 57,
   "id": "681434eb",
   "metadata": {},
   "outputs": [
    {
     "data": {
      "text/html": [
       "<div>\n",
       "<style scoped>\n",
       "    .dataframe tbody tr th:only-of-type {\n",
       "        vertical-align: middle;\n",
       "    }\n",
       "\n",
       "    .dataframe tbody tr th {\n",
       "        vertical-align: top;\n",
       "    }\n",
       "\n",
       "    .dataframe thead th {\n",
       "        text-align: right;\n",
       "    }\n",
       "</style>\n",
       "<table border=\"1\" class=\"dataframe\">\n",
       "  <thead>\n",
       "    <tr style=\"text-align: right;\">\n",
       "      <th></th>\n",
       "      <th></th>\n",
       "      <th></th>\n",
       "      <th>tip_pct</th>\n",
       "    </tr>\n",
       "    <tr>\n",
       "      <th>day</th>\n",
       "      <th>time</th>\n",
       "      <th>size</th>\n",
       "      <th></th>\n",
       "    </tr>\n",
       "  </thead>\n",
       "  <tbody>\n",
       "    <tr>\n",
       "      <th rowspan=\"7\" valign=\"top\">Thur</th>\n",
       "      <th rowspan=\"6\" valign=\"top\">Lunch</th>\n",
       "      <th>1</th>\n",
       "      <td>0.180000</td>\n",
       "    </tr>\n",
       "    <tr>\n",
       "      <th>2</th>\n",
       "      <td>0.163830</td>\n",
       "    </tr>\n",
       "    <tr>\n",
       "      <th>3</th>\n",
       "      <td>0.145000</td>\n",
       "    </tr>\n",
       "    <tr>\n",
       "      <th>4</th>\n",
       "      <td>0.146000</td>\n",
       "    </tr>\n",
       "    <tr>\n",
       "      <th>5</th>\n",
       "      <td>0.120000</td>\n",
       "    </tr>\n",
       "    <tr>\n",
       "      <th>6</th>\n",
       "      <td>0.173333</td>\n",
       "    </tr>\n",
       "    <tr>\n",
       "      <th>Dinner</th>\n",
       "      <th>2</th>\n",
       "      <td>0.160000</td>\n",
       "    </tr>\n",
       "    <tr>\n",
       "      <th rowspan=\"5\" valign=\"top\">Fri</th>\n",
       "      <th rowspan=\"3\" valign=\"top\">Lunch</th>\n",
       "      <th>1</th>\n",
       "      <td>0.220000</td>\n",
       "    </tr>\n",
       "    <tr>\n",
       "      <th>2</th>\n",
       "      <td>0.182000</td>\n",
       "    </tr>\n",
       "    <tr>\n",
       "      <th>3</th>\n",
       "      <td>0.190000</td>\n",
       "    </tr>\n",
       "    <tr>\n",
       "      <th rowspan=\"2\" valign=\"top\">Dinner</th>\n",
       "      <th>2</th>\n",
       "      <td>0.161818</td>\n",
       "    </tr>\n",
       "    <tr>\n",
       "      <th>4</th>\n",
       "      <td>0.120000</td>\n",
       "    </tr>\n",
       "    <tr>\n",
       "      <th rowspan=\"5\" valign=\"top\">Sat</th>\n",
       "      <th rowspan=\"5\" valign=\"top\">Dinner</th>\n",
       "      <th>1</th>\n",
       "      <td>0.235000</td>\n",
       "    </tr>\n",
       "    <tr>\n",
       "      <th>2</th>\n",
       "      <td>0.155660</td>\n",
       "    </tr>\n",
       "    <tr>\n",
       "      <th>3</th>\n",
       "      <td>0.151667</td>\n",
       "    </tr>\n",
       "    <tr>\n",
       "      <th>4</th>\n",
       "      <td>0.139231</td>\n",
       "    </tr>\n",
       "    <tr>\n",
       "      <th>5</th>\n",
       "      <td>0.110000</td>\n",
       "    </tr>\n",
       "    <tr>\n",
       "      <th rowspan=\"5\" valign=\"top\">Sun</th>\n",
       "      <th rowspan=\"5\" valign=\"top\">Dinner</th>\n",
       "      <th>2</th>\n",
       "      <td>0.180769</td>\n",
       "    </tr>\n",
       "    <tr>\n",
       "      <th>3</th>\n",
       "      <td>0.153333</td>\n",
       "    </tr>\n",
       "    <tr>\n",
       "      <th>4</th>\n",
       "      <td>0.153333</td>\n",
       "    </tr>\n",
       "    <tr>\n",
       "      <th>5</th>\n",
       "      <td>0.160000</td>\n",
       "    </tr>\n",
       "    <tr>\n",
       "      <th>6</th>\n",
       "      <td>0.100000</td>\n",
       "    </tr>\n",
       "  </tbody>\n",
       "</table>\n",
       "</div>"
      ],
      "text/plain": [
       "                   tip_pct\n",
       "day  time   size          \n",
       "Thur Lunch  1     0.180000\n",
       "            2     0.163830\n",
       "            3     0.145000\n",
       "            4     0.146000\n",
       "            5     0.120000\n",
       "            6     0.173333\n",
       "     Dinner 2     0.160000\n",
       "Fri  Lunch  1     0.220000\n",
       "            2     0.182000\n",
       "            3     0.190000\n",
       "     Dinner 2     0.161818\n",
       "            4     0.120000\n",
       "Sat  Dinner 1     0.235000\n",
       "            2     0.155660\n",
       "            3     0.151667\n",
       "            4     0.139231\n",
       "            5     0.110000\n",
       "Sun  Dinner 2     0.180769\n",
       "            3     0.153333\n",
       "            4     0.153333\n",
       "            5     0.160000\n",
       "            6     0.100000"
      ]
     },
     "execution_count": 57,
     "metadata": {},
     "output_type": "execute_result"
    }
   ],
   "source": [
    "tip_mean = tips2.groupby([\"day\",\"time\",\"size\"])[[\"tip_pct\"]].mean()\n",
    "tip_mean[tip_mean.tip_pct.notnull()] # 어렵지만 인덱스에서 결측치를 제거하고자 했을 때 사용법"
   ]
  },
  {
   "cell_type": "code",
   "execution_count": 44,
   "id": "14873c1c",
   "metadata": {},
   "outputs": [
    {
     "name": "stdout",
     "output_type": "stream",
     "text": [
      "                   tip_pct\n",
      "day  time   size          \n",
      "Thur Lunch  1     0.180000\n",
      "            2     0.163830\n",
      "            3     0.145000\n",
      "            4     0.146000\n",
      "            5     0.120000\n",
      "            6     0.173333\n",
      "     Dinner 2     0.160000\n",
      "Fri  Lunch  1     0.220000\n",
      "            2     0.182000\n",
      "            3     0.190000\n",
      "     Dinner 2     0.161818\n",
      "            4     0.120000\n",
      "Sat  Dinner 1     0.235000\n",
      "            2     0.155660\n",
      "            3     0.151667\n",
      "            4     0.139231\n",
      "            5     0.110000\n",
      "Sun  Dinner 2     0.180769\n",
      "            3     0.153333\n",
      "            4     0.153333\n",
      "            5     0.160000\n",
      "            6     0.100000\n"
     ]
    }
   ],
   "source": [
    "tips.pivot_table(\"tip_pct\", [\"day\", \"time\", \"size\"])\n",
    "print(tips.pivot_table(\"tip_pct\", [\"day\", \"time\", \"size\"]))"
   ]
  },
  {
   "cell_type": "code",
   "execution_count": 53,
   "id": "81fe342a",
   "metadata": {},
   "outputs": [],
   "source": [
    "?tips.groupby"
   ]
  },
  {
   "cell_type": "markdown",
   "id": "cd323c2d",
   "metadata": {},
   "source": [
    "#### 7) 성별, 흡연 유무별로 가장 많은 팁과 가장 적은 팁의 차이 조회"
   ]
  },
  {
   "cell_type": "code",
   "execution_count": 284,
   "id": "faa6eb88",
   "metadata": {},
   "outputs": [
    {
     "data": {
      "text/plain": [
       "smoker  sex   \n",
       "Yes     Male      0.04\n",
       "        Female    0.06\n",
       "No      Male      0.07\n",
       "        Female    0.06\n",
       "Name: tip_pct, dtype: float64"
      ]
     },
     "execution_count": 284,
     "metadata": {},
     "output_type": "execute_result"
    }
   ],
   "source": [
    "tipmax = tips2.groupby([\"smoker\",\"sex\"])[\"tip_pct\"].max()\n",
    "tipmin = tips2.groupby([\"smoker\",\"sex\"])[\"tip_pct\"].min()\n",
    "tipmax\n",
    "tipmin\n"
   ]
  },
  {
   "cell_type": "code",
   "execution_count": 274,
   "id": "27f0c362",
   "metadata": {},
   "outputs": [
    {
     "name": "stdout",
     "output_type": "stream",
     "text": [
      "0.6699999999999999\n"
     ]
    }
   ],
   "source": [
    "print(max(tipmax)-min(tipmin))"
   ]
  },
  {
   "cell_type": "code",
   "execution_count": 268,
   "id": "d988ecaf",
   "metadata": {},
   "outputs": [
    {
     "data": {
      "text/plain": [
       "smoker  sex   \n",
       "Yes     Male      0.71\n",
       "        Female    0.42\n",
       "No      Male      0.29\n",
       "        Female    0.25\n",
       "Name: tip_pct, dtype: float64"
      ]
     },
     "execution_count": 268,
     "metadata": {},
     "output_type": "execute_result"
    }
   ],
   "source": [
    "tipmax"
   ]
  },
  {
   "cell_type": "code",
   "execution_count": 60,
   "id": "08492293",
   "metadata": {},
   "outputs": [
    {
     "name": "stdout",
     "output_type": "stream",
     "text": [
      "                tip\n",
      "sex    smoker      \n",
      "Male   Yes     9.00\n",
      "       No      7.75\n",
      "Female Yes     5.50\n",
      "       No      4.20\n"
     ]
    }
   ],
   "source": [
    "def peak_to_pick_ratio(x):\n",
    "    return x.max() - x.min()\n",
    "\n",
    "print(tips.groupby([\"sex\",\"smoker\"])[[\"tip\"]].apply(peak_to_pick_ratio))"
   ]
  },
  {
   "cell_type": "code",
   "execution_count": 61,
   "id": "ff448f40",
   "metadata": {},
   "outputs": [
    {
     "name": "stderr",
     "output_type": "stream",
     "text": [
      "C:\\Users\\acorn\\AppData\\Local\\Temp\\ipykernel_19588\\1396348921.py:1: FutureWarning: Dropping invalid columns in DataFrameGroupBy.max is deprecated. In a future version, a TypeError will be raised. Before calling .max, select only columns which should be valid for the function.\n",
      "  tips.groupby([\"sex\",\"smoker\"]).max() - tips.groupby([\"sex\",\"smoker\"]).min()\n",
      "C:\\Users\\acorn\\AppData\\Local\\Temp\\ipykernel_19588\\1396348921.py:1: FutureWarning: Dropping invalid columns in DataFrameGroupBy.min is deprecated. In a future version, a TypeError will be raised. Before calling .min, select only columns which should be valid for the function.\n",
      "  tips.groupby([\"sex\",\"smoker\"]).max() - tips.groupby([\"sex\",\"smoker\"]).min()\n"
     ]
    },
    {
     "data": {
      "text/html": [
       "<div>\n",
       "<style scoped>\n",
       "    .dataframe tbody tr th:only-of-type {\n",
       "        vertical-align: middle;\n",
       "    }\n",
       "\n",
       "    .dataframe tbody tr th {\n",
       "        vertical-align: top;\n",
       "    }\n",
       "\n",
       "    .dataframe thead th {\n",
       "        text-align: right;\n",
       "    }\n",
       "</style>\n",
       "<table border=\"1\" class=\"dataframe\">\n",
       "  <thead>\n",
       "    <tr style=\"text-align: right;\">\n",
       "      <th></th>\n",
       "      <th></th>\n",
       "      <th>total_bill</th>\n",
       "      <th>tip</th>\n",
       "      <th>size</th>\n",
       "      <th>tip_pct</th>\n",
       "    </tr>\n",
       "    <tr>\n",
       "      <th>sex</th>\n",
       "      <th>smoker</th>\n",
       "      <th></th>\n",
       "      <th></th>\n",
       "      <th></th>\n",
       "      <th></th>\n",
       "    </tr>\n",
       "  </thead>\n",
       "  <tbody>\n",
       "    <tr>\n",
       "      <th rowspan=\"2\" valign=\"top\">Male</th>\n",
       "      <th>Yes</th>\n",
       "      <td>43.56</td>\n",
       "      <td>9.00</td>\n",
       "      <td>4</td>\n",
       "      <td>0.67</td>\n",
       "    </tr>\n",
       "    <tr>\n",
       "      <th>No</th>\n",
       "      <td>40.82</td>\n",
       "      <td>7.75</td>\n",
       "      <td>4</td>\n",
       "      <td>0.22</td>\n",
       "    </tr>\n",
       "    <tr>\n",
       "      <th rowspan=\"2\" valign=\"top\">Female</th>\n",
       "      <th>Yes</th>\n",
       "      <td>41.23</td>\n",
       "      <td>5.50</td>\n",
       "      <td>3</td>\n",
       "      <td>0.36</td>\n",
       "    </tr>\n",
       "    <tr>\n",
       "      <th>No</th>\n",
       "      <td>28.58</td>\n",
       "      <td>4.20</td>\n",
       "      <td>5</td>\n",
       "      <td>0.19</td>\n",
       "    </tr>\n",
       "  </tbody>\n",
       "</table>\n",
       "</div>"
      ],
      "text/plain": [
       "               total_bill   tip  size  tip_pct\n",
       "sex    smoker                                 \n",
       "Male   Yes          43.56  9.00     4     0.67\n",
       "       No           40.82  7.75     4     0.22\n",
       "Female Yes          41.23  5.50     3     0.36\n",
       "       No           28.58  4.20     5     0.19"
      ]
     },
     "execution_count": 61,
     "metadata": {},
     "output_type": "execute_result"
    }
   ],
   "source": [
    "tips.groupby([\"sex\",\"smoker\"]).max() - tips.groupby([\"sex\",\"smoker\"]).min()"
   ]
  },
  {
   "cell_type": "markdown",
   "id": "498619a3",
   "metadata": {},
   "source": [
    "## 7. 시계열 데이터\n",
    "\n",
    "- DateTimeIndex 자료형\n",
    "    - pd.to_datetime() : 문자열을 날짜 타입으로 변환\n",
    "    - pd.date_range() : 특정 범위의 날짜 인덱스를 생성"
   ]
  },
  {
   "cell_type": "markdown",
   "id": "294f4c86",
   "metadata": {},
   "source": [
    "### (1) 날짜 인덱스"
   ]
  },
  {
   "cell_type": "code",
   "execution_count": 73,
   "id": "635329ec",
   "metadata": {},
   "outputs": [],
   "source": [
    "date_str = [\"2023, 1, 1\", \"2023, 1, 4\", \"2023, 1, 6\", \"2023, 1, 9\"]\n",
    "\n",
    "idx = pd.to_datetime(date_str) # 인덱스로 활용하기 위해서 이렇게 묶어줌 # idx라는 변수에 넣어줌(밑에서 쓰려고)"
   ]
  },
  {
   "cell_type": "code",
   "execution_count": 65,
   "id": "07b0b2fa",
   "metadata": {},
   "outputs": [
    {
     "data": {
      "text/plain": [
       "datetime.datetime(2023, 1, 1, 0, 0)"
      ]
     },
     "execution_count": 65,
     "metadata": {},
     "output_type": "execute_result"
    }
   ],
   "source": [
    "import datetime\n",
    "\n",
    "datetime.datetime.strptime(date_str[0], \"%Y, %m, %d\")"
   ]
  },
  {
   "cell_type": "code",
   "execution_count": 72,
   "id": "b1b56a38",
   "metadata": {},
   "outputs": [
    {
     "data": {
      "text/plain": [
       "2023-01-01    1.764052\n",
       "2023-01-04    0.400157\n",
       "2023-01-06    0.978738\n",
       "2023-01-09    2.240893\n",
       "dtype: float64"
      ]
     },
     "execution_count": 72,
     "metadata": {},
     "output_type": "execute_result"
    }
   ],
   "source": [
    "#### 날짜를 인덱스로 활용\n",
    "\n",
    "np.random.seed(0)\n",
    "\n",
    "pd.Series(np.random.randn(4), index=idx)"
   ]
  },
  {
   "cell_type": "markdown",
   "id": "d8239a28",
   "metadata": {},
   "source": [
    "### (2) 날짜 데이터 생성"
   ]
  },
  {
   "cell_type": "code",
   "execution_count": 75,
   "id": "64ba360d",
   "metadata": {},
   "outputs": [
    {
     "data": {
      "text/plain": [
       "DatetimeIndex(['2023-01-01', '2023-01-02', '2023-01-03', '2023-01-04',\n",
       "               '2023-01-05', '2023-01-06', '2023-01-07', '2023-01-08',\n",
       "               '2023-01-09', '2023-01-10', '2023-01-11', '2023-01-12',\n",
       "               '2023-01-13', '2023-01-14', '2023-01-15', '2023-01-16',\n",
       "               '2023-01-17', '2023-01-18', '2023-01-19', '2023-01-20',\n",
       "               '2023-01-21', '2023-01-22', '2023-01-23', '2023-01-24',\n",
       "               '2023-01-25', '2023-01-26', '2023-01-27', '2023-01-28',\n",
       "               '2023-01-29', '2023-01-30'],\n",
       "              dtype='datetime64[ns]', freq='D')"
      ]
     },
     "execution_count": 75,
     "metadata": {},
     "output_type": "execute_result"
    }
   ],
   "source": [
    "#### 날짜 데이터 생성\n",
    "\n",
    "pd.date_range(\"2023-1-1\", \"2023-4-30\")\n",
    "pd.date_range(\"2023-1-1\", periods=30)"
   ]
  },
  {
   "cell_type": "code",
   "execution_count": 76,
   "id": "6e391f35",
   "metadata": {},
   "outputs": [],
   "source": [
    "?pd.date_range"
   ]
  },
  {
   "cell_type": "code",
   "execution_count": 77,
   "id": "d0dafa9b",
   "metadata": {},
   "outputs": [
    {
     "data": {
      "text/plain": [
       "'\\nfreq\\n    S : 초\\n    T : 분\\n    H : 시간\\n    D : 일\\n    B : 주말이 아닌 평일\\n    W : 주(일요일)\\n    W-MON : 주(월요일)\\n    M : 각 달의 마지막 날\\n    MS : 각 달의 첫날\\n    BM : 주말이 아닌 평일중에서 각 달의 마지막 날\\n    BMS : 주말이 아닌 평일중에서 각 달의 첫날\\n    WOM-2THU : 각 달의 두번째 목요일\\n    Q-JAN : 각 분기의 첫 달의 마지막 날\\n    Q-DEC : 각 분기의 마지막 달의 마지막 날\\n'"
      ]
     },
     "execution_count": 77,
     "metadata": {},
     "output_type": "execute_result"
    }
   ],
   "source": [
    "\"\"\"\n",
    "freq\n",
    "    S : 초\n",
    "    T : 분\n",
    "    H : 시간\n",
    "    D : 일\n",
    "    B : 주말이 아닌 평일\n",
    "    W : 주(일요일)\n",
    "    W-MON : 주(월요일)\n",
    "    M : 각 달의 마지막 날\n",
    "    MS : 각 달의 첫날\n",
    "    BM : 주말이 아닌 평일중에서 각 달의 마지막 날\n",
    "    BMS : 주말이 아닌 평일중에서 각 달의 첫날\n",
    "    WOM-2THU : 각 달의 두번째 목요일\n",
    "    Q-JAN : 각 분기의 첫 달의 마지막 날\n",
    "    Q-DEC : 각 분기의 마지막 달의 마지막 날\n",
    "\"\"\""
   ]
  },
  {
   "cell_type": "code",
   "execution_count": 78,
   "id": "8091b324",
   "metadata": {},
   "outputs": [
    {
     "data": {
      "text/plain": [
       "DatetimeIndex(['2023-01-02', '2023-01-03', '2023-01-04', '2023-01-05',\n",
       "               '2023-01-06', '2023-01-09', '2023-01-10', '2023-01-11',\n",
       "               '2023-01-12', '2023-01-13', '2023-01-16', '2023-01-17',\n",
       "               '2023-01-18', '2023-01-19', '2023-01-20', '2023-01-23',\n",
       "               '2023-01-24', '2023-01-25', '2023-01-26', '2023-01-27',\n",
       "               '2023-01-30', '2023-01-31', '2023-02-01', '2023-02-02',\n",
       "               '2023-02-03', '2023-02-06', '2023-02-07', '2023-02-08',\n",
       "               '2023-02-09', '2023-02-10'],\n",
       "              dtype='datetime64[ns]', freq='B')"
      ]
     },
     "execution_count": 78,
     "metadata": {},
     "output_type": "execute_result"
    }
   ],
   "source": [
    "pd.date_range(\"2023-1-1\", periods=30, freq=\"B\") # 주말이 아닌 평일 # 기본 값은 D : 1일"
   ]
  },
  {
   "cell_type": "code",
   "execution_count": 79,
   "id": "868f9cc0",
   "metadata": {},
   "outputs": [
    {
     "data": {
      "text/plain": [
       "DatetimeIndex(['2023-01-01', '2023-01-08', '2023-01-15', '2023-01-22',\n",
       "               '2023-01-29', '2023-02-05', '2023-02-12', '2023-02-19',\n",
       "               '2023-02-26', '2023-03-05', '2023-03-12', '2023-03-19',\n",
       "               '2023-03-26', '2023-04-02', '2023-04-09', '2023-04-16',\n",
       "               '2023-04-23', '2023-04-30', '2023-05-07', '2023-05-14',\n",
       "               '2023-05-21', '2023-05-28', '2023-06-04', '2023-06-11',\n",
       "               '2023-06-18', '2023-06-25', '2023-07-02', '2023-07-09',\n",
       "               '2023-07-16', '2023-07-23'],\n",
       "              dtype='datetime64[ns]', freq='W-SUN')"
      ]
     },
     "execution_count": 79,
     "metadata": {},
     "output_type": "execute_result"
    }
   ],
   "source": [
    "pd.date_range(\"2023-1-1\", periods=30, freq=\"W\") # week\n"
   ]
  },
  {
   "cell_type": "markdown",
   "id": "6a59adc8",
   "metadata": {},
   "source": [
    "### (3) shift 연산"
   ]
  },
  {
   "cell_type": "code",
   "execution_count": 84,
   "id": "e0fe8b73",
   "metadata": {},
   "outputs": [
    {
     "name": "stdout",
     "output_type": "stream",
     "text": [
      "2023-01-31    1.764052\n",
      "2023-02-28    0.400157\n",
      "2023-03-31    0.978738\n",
      "2023-04-30    2.240893\n",
      "Freq: M, dtype: float64\n",
      "--------------------------------------------------------------------------------------\n",
      "2023-01-31         NaN\n",
      "2023-02-28    1.764052\n",
      "2023-03-31    0.400157\n",
      "2023-04-30    0.978738\n",
      "Freq: M, dtype: float64\n",
      "--------------------------------------------------------------------------------------\n",
      "2023-01-31    0.400157\n",
      "2023-02-28    0.978738\n",
      "2023-03-31    2.240893\n",
      "2023-04-30         NaN\n",
      "Freq: M, dtype: float64\n",
      "--------------------------------------------------------------------------------------\n",
      "2023-02-28    1.764052\n",
      "2023-03-31    0.400157\n",
      "2023-04-30    0.978738\n",
      "2023-05-31    2.240893\n",
      "Freq: M, dtype: float64\n",
      "--------------------------------------------------------------------------------------\n",
      "2023-02-05    1.764052\n",
      "2023-03-05    0.400157\n",
      "2023-04-02    0.978738\n",
      "2023-05-07    2.240893\n",
      "dtype: float64\n"
     ]
    }
   ],
   "source": [
    "np.random.seed(0)\n",
    "\n",
    "ts = pd.Series(np.random.randn(4), index=pd.date_range(\"2023-1-1\", periods=4, freq=\"M\"))\n",
    "print(ts)\n",
    "\n",
    "print(\"--------------------------------------------------------------------------------------\")\n",
    "\n",
    "print(ts.shift(1)) # 값이 한칸씩 이동했음\n",
    "\n",
    "print(\"--------------------------------------------------------------------------------------\")\n",
    "\n",
    "print(ts.shift(-1))\n",
    "\n",
    "print(\"--------------------------------------------------------------------------------------\")\n",
    "\n",
    "print(ts.shift(1, freq=\"M\")) # 현재 날짜가 \"M\"이라 각달의 마지막날인데 그 달이 다음 값(다음달 마지막날)로 이동\n",
    "\n",
    "print(\"--------------------------------------------------------------------------------------\")\n",
    "\n",
    "print(ts.shift(1, freq=\"W\"))  # 일요일로 옮겨감"
   ]
  },
  {
   "cell_type": "markdown",
   "id": "0266b107",
   "metadata": {},
   "source": [
    "### (4) resampling\n",
    "\n",
    "- 시간 간격을 다시 재조정\n",
    "- 방법\n",
    "    - 다운 샘플링 : 시간 구간이 커지면서 데이터 양이 감소\n",
    "    - 업 샘플링 : 시간 구간이 작아지면서 데이터 양이 증가"
   ]
  },
  {
   "cell_type": "markdown",
   "id": "f9340e17",
   "metadata": {},
   "source": [
    "#### 1) 다운 샘플링\n",
    "\n",
    "- 데이터가 그룹으로 묶이기 때문에 집계 연산을 해서 대표값을 구해야 한다."
   ]
  },
  {
   "cell_type": "code",
   "execution_count": 87,
   "id": "30f36ff0",
   "metadata": {},
   "outputs": [
    {
     "data": {
      "text/plain": [
       "2023-04-01   -0.135950\n",
       "2023-04-02    1.136891\n",
       "2023-04-03    0.097725\n",
       "2023-04-04    0.582954\n",
       "2023-04-05   -0.399449\n",
       "2023-04-06    0.370056\n",
       "2023-04-07   -1.306527\n",
       "2023-04-08    1.658131\n",
       "2023-04-09   -0.118164\n",
       "2023-04-10   -0.680178\n",
       "Freq: D, dtype: float64"
      ]
     },
     "execution_count": 87,
     "metadata": {},
     "output_type": "execute_result"
    }
   ],
   "source": [
    "ts = pd.Series(np.random.randn(100), \n",
    "         index=pd.date_range(\"2023-1-1\", periods=100, freq=\"D\"))\n",
    "ts.tail(10)"
   ]
  },
  {
   "cell_type": "code",
   "execution_count": 89,
   "id": "65e676a1",
   "metadata": {},
   "outputs": [
    {
     "name": "stdout",
     "output_type": "stream",
     "text": [
      "2023-01-01    0.640132\n",
      "2023-01-08   -0.138592\n",
      "2023-01-15    0.226693\n",
      "2023-01-22   -0.400548\n",
      "2023-01-29   -0.415256\n",
      "2023-02-05    0.081247\n",
      "2023-02-12   -0.328295\n",
      "2023-02-19   -0.204610\n",
      "2023-02-26   -0.412013\n",
      "2023-03-05   -0.327269\n",
      "2023-03-12   -0.127634\n",
      "2023-03-19    0.132875\n",
      "2023-03-26    0.370746\n",
      "2023-04-02    0.348225\n",
      "2023-04-09    0.126389\n",
      "2023-04-16   -0.680178\n",
      "Freq: W-SUN, dtype: float64\n"
     ]
    }
   ],
   "source": [
    "print(ts.resample(\"W\").mean()) # 일주일 단위로 줄였따."
   ]
  },
  {
   "cell_type": "code",
   "execution_count": 90,
   "id": "a58ca3fe",
   "metadata": {},
   "outputs": [
    {
     "name": "stdout",
     "output_type": "stream",
     "text": [
      "2023-01-31   -0.167546\n",
      "2023-02-28   -0.228882\n",
      "2023-03-31    0.092929\n",
      "2023-04-30    0.120549\n",
      "Freq: M, dtype: float64\n"
     ]
    }
   ],
   "source": [
    "print(ts.resample(\"M\").mean()) # 한달 단위로 줄였다."
   ]
  },
  {
   "cell_type": "code",
   "execution_count": 100,
   "id": "8b79f934",
   "metadata": {},
   "outputs": [
    {
     "name": "stdout",
     "output_type": "stream",
     "text": [
      "2023-01-01 00:00:00   -0.824871\n",
      "2023-01-01 00:10:00   -3.453350\n",
      "2023-01-01 00:20:00    0.403739\n",
      "2023-01-01 00:30:00   -3.662432\n",
      "2023-01-01 00:40:00   -4.556258\n",
      "2023-01-01 00:50:00   -2.903870\n",
      "Freq: 10T, dtype: float64\n"
     ]
    }
   ],
   "source": [
    "ts = pd.Series(np.random.randn(60), \n",
    "         index=pd.date_range(\"2023-1-1\", periods=60, freq=\"T\"))\n",
    "ts.tail(10)\n",
    "print(ts.resample(\"10T\").sum())"
   ]
  },
  {
   "cell_type": "markdown",
   "id": "663be323",
   "metadata": {},
   "source": [
    "#### 2) 업 샘플링\n",
    "- forward filling : 앞에서 나온 데이터를 그대로 사용\n",
    "- backward filling : 뒤에서 나온 데이터를 앞에서 미리 사용"
   ]
  },
  {
   "cell_type": "code",
   "execution_count": 107,
   "id": "ceaf5a6e",
   "metadata": {},
   "outputs": [
    {
     "name": "stdout",
     "output_type": "stream",
     "text": [
      "2023-01-01 00:00:00   -0.384645\n",
      "2023-01-01 00:01:00   -0.443836\n",
      "2023-01-01 00:02:00    1.078197\n",
      "2023-01-01 00:03:00   -2.559185\n",
      "2023-01-01 00:04:00    1.181379\n",
      "2023-01-01 00:05:00   -0.631904\n",
      "2023-01-01 00:06:00    0.163929\n",
      "2023-01-01 00:07:00    0.096321\n",
      "2023-01-01 00:08:00    0.942468\n",
      "2023-01-01 00:09:00   -0.267595\n",
      "Freq: T, dtype: float64\n",
      "--------------------------------------------------------------------------------------\n",
      "2023-01-01 00:00:00   -0.384645\n",
      "2023-01-01 00:00:30   -0.384645\n",
      "2023-01-01 00:01:00   -0.443836\n",
      "2023-01-01 00:01:30   -0.443836\n",
      "2023-01-01 00:02:00    1.078197\n",
      "2023-01-01 00:02:30    1.078197\n",
      "2023-01-01 00:03:00   -2.559185\n",
      "2023-01-01 00:03:30   -2.559185\n",
      "2023-01-01 00:04:00    1.181379\n",
      "2023-01-01 00:04:30    1.181379\n",
      "Freq: 30S, dtype: float64\n",
      "--------------------------------------------------------------------------------------\n",
      "2023-01-01 00:00:00   -0.384645\n",
      "2023-01-01 00:00:30   -0.443836\n",
      "2023-01-01 00:01:00   -0.443836\n",
      "2023-01-01 00:01:30    1.078197\n",
      "2023-01-01 00:02:00    1.078197\n",
      "2023-01-01 00:02:30   -2.559185\n",
      "2023-01-01 00:03:00   -2.559185\n",
      "2023-01-01 00:03:30    1.181379\n",
      "2023-01-01 00:04:00    1.181379\n",
      "2023-01-01 00:04:30   -0.631904\n",
      "Freq: 30S, dtype: float64\n"
     ]
    }
   ],
   "source": [
    "print(ts.head(10))\n",
    "print(\"--------------------------------------------------------------------------------------\")\n",
    "print(ts.resample(\"30S\").ffill().head(10))\n",
    "print(\"--------------------------------------------------------------------------------------\")\n",
    "print(ts.resample(\"30S\").bfill().head(10))"
   ]
  },
  {
   "cell_type": "code",
   "execution_count": 102,
   "id": "eff2097d",
   "metadata": {},
   "outputs": [
    {
     "name": "stdout",
     "output_type": "stream",
     "text": [
      "--------------------------------------------------------------------------------------\n"
     ]
    },
    {
     "ename": "AttributeError",
     "evalue": "'Series' object has no attribute 'resamlple'",
     "output_type": "error",
     "traceback": [
      "\u001b[1;31m---------------------------------------------------------------------------\u001b[0m",
      "\u001b[1;31mAttributeError\u001b[0m                            Traceback (most recent call last)",
      "\u001b[1;32m~\\AppData\\Local\\Temp\\ipykernel_19588\\2433817330.py\u001b[0m in \u001b[0;36m<module>\u001b[1;34m\u001b[0m\n\u001b[0;32m      1\u001b[0m \u001b[0mprint\u001b[0m\u001b[1;33m(\u001b[0m\u001b[1;34m\"--------------------------------------------------------------------------------------\"\u001b[0m\u001b[1;33m)\u001b[0m\u001b[1;33m\u001b[0m\u001b[1;33m\u001b[0m\u001b[0m\n\u001b[0;32m      2\u001b[0m \u001b[1;33m\u001b[0m\u001b[0m\n\u001b[1;32m----> 3\u001b[1;33m \u001b[0mprint\u001b[0m\u001b[1;33m(\u001b[0m\u001b[0mts\u001b[0m\u001b[1;33m.\u001b[0m\u001b[0mresamlple\u001b[0m\u001b[1;33m(\u001b[0m\u001b[1;34m\"30S\"\u001b[0m\u001b[1;33m)\u001b[0m\u001b[1;33m.\u001b[0m\u001b[0mffill\u001b[0m\u001b[1;33m(\u001b[0m\u001b[1;33m)\u001b[0m\u001b[1;33m.\u001b[0m\u001b[0mhead\u001b[0m\u001b[1;33m(\u001b[0m\u001b[1;36m10\u001b[0m\u001b[1;33m)\u001b[0m\u001b[1;33m)\u001b[0m\u001b[1;33m\u001b[0m\u001b[1;33m\u001b[0m\u001b[0m\n\u001b[0m",
      "\u001b[1;32m~\\anaconda3\\lib\\site-packages\\pandas\\core\\generic.py\u001b[0m in \u001b[0;36m__getattr__\u001b[1;34m(self, name)\u001b[0m\n\u001b[0;32m   5573\u001b[0m         ):\n\u001b[0;32m   5574\u001b[0m             \u001b[1;32mreturn\u001b[0m \u001b[0mself\u001b[0m\u001b[1;33m[\u001b[0m\u001b[0mname\u001b[0m\u001b[1;33m]\u001b[0m\u001b[1;33m\u001b[0m\u001b[1;33m\u001b[0m\u001b[0m\n\u001b[1;32m-> 5575\u001b[1;33m         \u001b[1;32mreturn\u001b[0m \u001b[0mobject\u001b[0m\u001b[1;33m.\u001b[0m\u001b[0m__getattribute__\u001b[0m\u001b[1;33m(\u001b[0m\u001b[0mself\u001b[0m\u001b[1;33m,\u001b[0m \u001b[0mname\u001b[0m\u001b[1;33m)\u001b[0m\u001b[1;33m\u001b[0m\u001b[1;33m\u001b[0m\u001b[0m\n\u001b[0m\u001b[0;32m   5576\u001b[0m \u001b[1;33m\u001b[0m\u001b[0m\n\u001b[0;32m   5577\u001b[0m     \u001b[1;32mdef\u001b[0m \u001b[0m__setattr__\u001b[0m\u001b[1;33m(\u001b[0m\u001b[0mself\u001b[0m\u001b[1;33m,\u001b[0m \u001b[0mname\u001b[0m\u001b[1;33m:\u001b[0m \u001b[0mstr\u001b[0m\u001b[1;33m,\u001b[0m \u001b[0mvalue\u001b[0m\u001b[1;33m)\u001b[0m \u001b[1;33m->\u001b[0m \u001b[1;32mNone\u001b[0m\u001b[1;33m:\u001b[0m\u001b[1;33m\u001b[0m\u001b[1;33m\u001b[0m\u001b[0m\n",
      "\u001b[1;31mAttributeError\u001b[0m: 'Series' object has no attribute 'resamlple'"
     ]
    }
   ],
   "source": []
  },
  {
   "cell_type": "code",
   "execution_count": null,
   "id": "79eda431",
   "metadata": {},
   "outputs": [],
   "source": []
  }
 ],
 "metadata": {
  "kernelspec": {
   "display_name": "Python 3 (ipykernel)",
   "language": "python",
   "name": "python3"
  },
  "language_info": {
   "codemirror_mode": {
    "name": "ipython",
    "version": 3
   },
   "file_extension": ".py",
   "mimetype": "text/x-python",
   "name": "python",
   "nbconvert_exporter": "python",
   "pygments_lexer": "ipython3",
   "version": "3.9.13"
  }
 },
 "nbformat": 4,
 "nbformat_minor": 5
}
