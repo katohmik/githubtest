{
 "cells": [
  {
   "cell_type": "code",
   "execution_count": 1,
   "id": "11475f46",
   "metadata": {},
   "outputs": [],
   "source": [
    "import numpy as np\n",
    "import pandas as pd\n",
    "import matplotlib.pyplot as plt\n",
    "import seaborn as sns\n",
    "\n",
    "import matplotlib.font_manager as fm\n",
    "font_name = fm.FontProperties(fname=\"C:\\\\Windows\\\\Fonts\\\\malgun.ttf\").get_name()\n",
    "plt.rc(\"font\", family=font_name)\n",
    "\n",
    "import matplotlib as mlp\n",
    "mlp.rcParams[\"axes.unicode_minus\"] = False\n",
    "from PIL import Image"
   ]
  },
  {
   "cell_type": "code",
   "execution_count": 2,
   "id": "6ad0f3ae",
   "metadata": {},
   "outputs": [],
   "source": [
    "import mglearn\n",
    "from sklearn.linear_model import LinearRegression\n",
    "from sklearn.neighbors import KNeighborsClassifier\n",
    "from sklearn.svm import LinearSVC\n",
    "from sklearn.linear_model import LogisticRegression\n",
    "from sklearn.tree import DecisionTreeClassifier\n",
    "from sklearn.ensemble import RandomForestClassifier\n",
    "from sklearn.ensemble import GradientBoostingClassifier\n",
    "from sklearn.ensemble import VotingClassifier\n",
    "from sklearn.svm import SVC\n",
    "\n",
    "from sklearn.model_selection import train_test_split\n",
    "from sklearn.model_selection import cross_val_score, cross_validate\n",
    "from sklearn.model_selection import GridSearchCV, RandomizedSearchCV\n",
    "from sklearn.preprocessing import MinMaxScaler, StandardScaler, LabelEncoder\n",
    "from sklearn.neighbors import KNeighborsClassifier\n",
    "from sklearn.metrics import accuracy_score\n",
    "from sklearn.metrics import confusion_matrix\n",
    "from sklearn.metrics import classification_report, roc_curve\n",
    "\n",
    "\n",
    "from sklearn.datasets import load_iris\n",
    "from sklearn.datasets import load_breast_cancer"
   ]
  },
  {
   "cell_type": "code",
   "execution_count": 3,
   "id": "a2c62889",
   "metadata": {},
   "outputs": [],
   "source": [
    "import warnings\n",
    "warnings.filterwarnings(\"ignore\")\n",
    "# warnings.filterwarnings(\"default\") # 경고문 다시 뜨도록"
   ]
  },
  {
   "cell_type": "code",
   "execution_count": 4,
   "id": "db4416a6",
   "metadata": {},
   "outputs": [],
   "source": [
    "from sklearn.tree import export_graphviz\n",
    "import graphviz"
   ]
  },
  {
   "cell_type": "markdown",
   "id": "5af13d80",
   "metadata": {},
   "source": [
    "# 1. 투표(Voting)의 유형\n",
    "\n",
    "- https://blog.naver.com/fbfbf1/222484365132\n",
    "\n",
    "- Soft Voting\n",
    "    - 각 분류기의 0과 1의 예측 확률을 평균을 내어 그 평균 값으로 최종 결과를 산출\n",
    "    \n",
    "- Hard Voting\n",
    "    - 각 분류기의 예측 결과만을 참고하여 최종 예측 값을 산출"
   ]
  },
  {
   "cell_type": "markdown",
   "id": "50496d55",
   "metadata": {},
   "source": [
    "# 2. 종류\n",
    "- Bagging\n",
    "    - Bootstrap Aggresgating\n",
    "    - 중첩될 수 있는 서로 다른 데이터셋에서 각각의 분류기가 모두 같은 유형의 알고리즘을 기반으로 사용되는 방식\n",
    "    - 학습 데이터에 대해 여러 개의 Bootstrap 데이터를 생성하고 각 부트스트랩 데이터에 여러 알고리즘을 학습시킨 후 산출된 결과 중 투표방식에 의해 최종 결과를 산정\n",
    "    - RandomForest는 일반화된 Bagging 방식이다\n",
    "- Boosting\n",
    "    - 학습기를 순차적으로 학습-예측을 진행한다.\n",
    "    - 여러 개의 분류기가 순차적으로 학습을 하되 학습한 분류기가 틀린 데이터에 대해서 올바르게 예측할 수 있도록 다음 분류기에서 가중치를 부여\n",
    "    - 단점\n",
    "        - 과적합으로 인해 일반화가 어렵다.\n",
    "        - 파라미터 튜닝이 까다롭다\n",
    "        - 수행시간이 오래 걸린다\n",
    "    - 종류\n",
    "        - AdaBoost\n",
    "        - GradientBoost\n",
    "            - GradientBoostMachine(GBM)\n",
    "            - XGBoost\n",
    "            - LightGBM\n",
    "- Stacking\n",
    "    - 여러 학습기에서 예측한 예측값(Predict Value)을 다시 학습 데이터로 하여 일반화된 최종모델을 구성하는 방법\n",
    "    "
   ]
  },
  {
   "cell_type": "markdown",
   "id": "b4afb0cf",
   "metadata": {},
   "source": [
    "# 3. Voting 실습"
   ]
  },
  {
   "cell_type": "markdown",
   "id": "d105dadf",
   "metadata": {},
   "source": [
    "## (1) Classification (분류)"
   ]
  },
  {
   "cell_type": "markdown",
   "id": "429b978a",
   "metadata": {},
   "source": [
    "### 1) 예제1"
   ]
  },
  {
   "cell_type": "code",
   "execution_count": 5,
   "id": "62620dc3",
   "metadata": {},
   "outputs": [],
   "source": [
    "X_train = pd.read_csv(\"data/X_final_C.csv\")\n",
    "X_test = pd.read_csv(\"data/test_final_C.csv\")\n",
    "y_train = pd.read_csv(\"data/y_train_C.csv\")\n",
    "y_test = pd.read_csv(\"data/y_test_C.csv\")"
   ]
  },
  {
   "cell_type": "markdown",
   "id": "668bd033",
   "metadata": {},
   "source": [
    "- hard voting"
   ]
  },
  {
   "cell_type": "code",
   "execution_count": 6,
   "id": "0ddbdfc2",
   "metadata": {},
   "outputs": [],
   "source": [
    "?VotingClassifier"
   ]
  },
  {
   "cell_type": "code",
   "execution_count": 7,
   "id": "73a2333f",
   "metadata": {
    "scrolled": true
   },
   "outputs": [
    {
     "data": {
      "text/plain": [
       "VotingClassifier(estimators=[('lr', LogisticRegression(random_state=42)),\n",
       "                             ('rf', RandomForestClassifier(random_state=42)),\n",
       "                             ('svc', SVC(random_state=42))])"
      ]
     },
     "execution_count": 7,
     "metadata": {},
     "output_type": "execute_result"
    }
   ],
   "source": [
    "logit_model = LogisticRegression(random_state=42)\n",
    "rnf_model = RandomForestClassifier(random_state=42)\n",
    "svm_model = SVC(random_state=42)\n",
    "\n",
    "# KNN, Linear등 아무거나 추가해도 ㄱㅊ\n",
    "\n",
    "voting_hard = VotingClassifier(estimators = [('lr', logit_model),\n",
    "                                             ('rf', rnf_model),\n",
    "                                             ('svc', svm_model)], voting=\"hard\")\n",
    "# estimator = ('임의의 이름', 학습모델)\n",
    "\n",
    "voting_hard.fit(X_train, y_train)"
   ]
  },
  {
   "cell_type": "code",
   "execution_count": 8,
   "id": "74dfb3ca",
   "metadata": {},
   "outputs": [
    {
     "name": "stdout",
     "output_type": "stream",
     "text": [
      "LogisticRegression 0.7638190954773869\n",
      "RandomForestClassifier 0.7721943048576214\n",
      "SVC 0.7688442211055276\n",
      "VotingClassifier 0.7738693467336684\n"
     ]
    }
   ],
   "source": [
    "for clf in (logit_model, rnf_model, svm_model, voting_hard):\n",
    "    clf.fit(X_train, y_train)\n",
    "    \n",
    "    y_pred = clf.predict(X_test)\n",
    "    print(clf.__class__.__name__, accuracy_score(y_test, y_pred))"
   ]
  },
  {
   "cell_type": "code",
   "execution_count": 9,
   "id": "32fd3702",
   "metadata": {},
   "outputs": [
    {
     "name": "stdout",
     "output_type": "stream",
     "text": [
      "[[832  61]\n",
      " [255 242]]\n",
      "----------------------\n",
      "[[354  30]\n",
      " [111 102]]\n"
     ]
    }
   ],
   "source": [
    "##### LogisticRegression 훈련 데이터 오차 행렬\n",
    "\n",
    "print(confusion_matrix(y_train, logit_model.predict(X_train)))\n",
    "\n",
    "print(\"----------------------\")\n",
    "\n",
    "##### LogisticRegression 테스트 데이터 오차 행렬\n",
    "\n",
    "print(confusion_matrix(y_test, logit_model.predict(X_test)))"
   ]
  },
  {
   "cell_type": "code",
   "execution_count": 10,
   "id": "f0577c40",
   "metadata": {},
   "outputs": [
    {
     "name": "stdout",
     "output_type": "stream",
     "text": [
      "[[867  26]\n",
      " [ 74 423]]\n",
      "----------------------\n",
      "[[334  50]\n",
      " [ 86 127]]\n"
     ]
    }
   ],
   "source": [
    "##### RandomForest 훈련 데이터 오차 행렬\n",
    "\n",
    "print(confusion_matrix(y_train, rnf_model.predict(X_train)))\n",
    "\n",
    "print(\"----------------------\")\n",
    "\n",
    "##### RandomForest 테스트 데이터 오차 행렬\n",
    "\n",
    "print(confusion_matrix(y_test, rnf_model.predict(X_test)))"
   ]
  },
  {
   "cell_type": "code",
   "execution_count": 11,
   "id": "8198f736",
   "metadata": {
    "scrolled": true
   },
   "outputs": [
    {
     "name": "stdout",
     "output_type": "stream",
     "text": [
      "[[860  33]\n",
      " [253 244]]\n",
      "----------------------\n",
      "[[362  22]\n",
      " [116  97]]\n"
     ]
    }
   ],
   "source": [
    "##### svm 훈련 데이터 오차 행렬\n",
    "print(confusion_matrix(y_train, svm_model.predict(X_train)))\n",
    "\n",
    "print(\"----------------------\")\n",
    "##### svm 테스트 데이터 오차 행렬\n",
    "print(confusion_matrix(y_test, svm_model.predict(X_test)))"
   ]
  },
  {
   "cell_type": "code",
   "execution_count": null,
   "id": "1396a0ac",
   "metadata": {},
   "outputs": [],
   "source": []
  },
  {
   "cell_type": "markdown",
   "id": "68ebcedf",
   "metadata": {},
   "source": [
    "- soft voting(soft learner라고도 함)"
   ]
  },
  {
   "cell_type": "code",
   "execution_count": 12,
   "id": "0b7f5b41",
   "metadata": {},
   "outputs": [
    {
     "data": {
      "text/plain": [
       "VotingClassifier(estimators=[('lr', LogisticRegression(random_state=42)),\n",
       "                             ('rf', RandomForestClassifier(random_state=42)),\n",
       "                             ('svc', SVC(probability=True, random_state=42))],\n",
       "                 voting='soft')"
      ]
     },
     "execution_count": 12,
     "metadata": {},
     "output_type": "execute_result"
    }
   ],
   "source": [
    "logit_model2 = LogisticRegression(random_state=42)\n",
    "rnf_model2 = RandomForestClassifier(random_state=42)\n",
    "svm_model2 = SVC(probability=True, random_state=42) # soft voting은 probability=True를 켜줘야함, 확률값으로 계산하기 위해\n",
    "\n",
    "# KNN, Linear등 아무거나 추가해도 괜찮다\n",
    "\n",
    "voting_soft = VotingClassifier(estimators = [('lr', logit_model2),\n",
    "                                             ('rf', rnf_model2),\n",
    "                                             ('svc', svm_model2)], voting=\"soft\")\n",
    "# estimator = ('임의의 이름', 학습모델)\n",
    "\n",
    "voting_soft.fit(X_train, y_train)"
   ]
  },
  {
   "cell_type": "code",
   "execution_count": 13,
   "id": "3cf3e03d",
   "metadata": {},
   "outputs": [
    {
     "name": "stdout",
     "output_type": "stream",
     "text": [
      "LogisticRegression 0.7638190954773869\n",
      "RandomForestClassifier 0.7721943048576214\n",
      "SVC 0.7688442211055276\n",
      "VotingClassifier 0.7839195979899497\n"
     ]
    }
   ],
   "source": [
    "for clf in (logit_model2, rnf_model2, svm_model2, voting_soft):\n",
    "    clf.fit(X_train, y_train)\n",
    "    \n",
    "    y_pred = clf.predict(X_test)\n",
    "    print(clf.__class__.__name__, accuracy_score(y_test, y_pred))"
   ]
  },
  {
   "cell_type": "code",
   "execution_count": 14,
   "id": "3d5ba451",
   "metadata": {},
   "outputs": [
    {
     "name": "stdout",
     "output_type": "stream",
     "text": [
      "[[832  61]\n",
      " [255 242]]\n",
      "----------------------\n",
      "[[354  30]\n",
      " [111 102]]\n"
     ]
    }
   ],
   "source": [
    "##### LogisticRegression 훈련 데이터 오차 행렬\n",
    "\n",
    "print(confusion_matrix(y_train, logit_model2.predict(X_train)))\n",
    "\n",
    "print(\"----------------------\")\n",
    "\n",
    "##### LogisticRegression 테스트 데이터 오차 행렬\n",
    "\n",
    "print(confusion_matrix(y_test, logit_model2.predict(X_test)))"
   ]
  },
  {
   "cell_type": "code",
   "execution_count": 15,
   "id": "cfe34ec7",
   "metadata": {},
   "outputs": [
    {
     "name": "stdout",
     "output_type": "stream",
     "text": [
      "[[860  33]\n",
      " [253 244]]\n",
      "----------------------\n",
      "[[362  22]\n",
      " [116  97]]\n"
     ]
    }
   ],
   "source": [
    "##### svm 훈련 데이터 오차 행렬\n",
    "print(confusion_matrix(y_train, svm_model2.predict(X_train)))\n",
    "\n",
    "print(\"----------------------\")\n",
    "##### svm 테스트 데이터 오차 행렬\n",
    "print(confusion_matrix(y_test, svm_model2.predict(X_test)))"
   ]
  },
  {
   "cell_type": "markdown",
   "id": "a82afabe",
   "metadata": {},
   "source": [
    "## (2) Regression (회귀)"
   ]
  },
  {
   "cell_type": "markdown",
   "id": "171ff2bd",
   "metadata": {},
   "source": [
    "### 1) 예제1"
   ]
  },
  {
   "cell_type": "code",
   "execution_count": 16,
   "id": "3e7b227b",
   "metadata": {},
   "outputs": [],
   "source": [
    "X_train = pd.read_csv(\"data/X_final_R.csv\")\n",
    "X_test = pd.read_csv(\"data/test_final_R.csv\")\n",
    "y_train = pd.read_csv(\"data/y_train_R.csv\")\n",
    "y_test = pd.read_csv(\"data/y_test_R.csv\")"
   ]
  },
  {
   "cell_type": "code",
   "execution_count": 17,
   "id": "a674ada6",
   "metadata": {},
   "outputs": [],
   "source": [
    "from sklearn.linear_model import LinearRegression\n",
    "from sklearn.ensemble import RandomForestRegressor\n",
    "from sklearn.ensemble import VotingRegressor"
   ]
  },
  {
   "cell_type": "code",
   "execution_count": 18,
   "id": "8f49f24d",
   "metadata": {},
   "outputs": [
    {
     "data": {
      "text/plain": [
       "VotingRegressor(estimators=[('lr', LinearRegression()),\n",
       "                            ('rf', RandomForestRegressor(random_state=42))])"
      ]
     },
     "execution_count": 18,
     "metadata": {},
     "output_type": "execute_result"
    }
   ],
   "source": [
    "# 회귀는 hard voting, soft voting이 없다\n",
    "# 회귀에서는 분류가 아니기 때문에. 무언가를 선택하는 것이 아니기 때문에.\n",
    "linear_model = LinearRegression()\n",
    "rnf_model = RandomForestRegressor(random_state=42)\n",
    "\n",
    "voting_regressor = VotingRegressor(estimators=[('lr', linear_model), ('rf', rnf_model)])\n",
    "\n",
    "voting_regressor.fit(X_train, y_train)"
   ]
  },
  {
   "cell_type": "code",
   "execution_count": 19,
   "id": "7ad1936c",
   "metadata": {},
   "outputs": [
    {
     "name": "stdout",
     "output_type": "stream",
     "text": [
      "0.8210012955876166\n",
      "0.6239084076325578\n"
     ]
    }
   ],
   "source": [
    "#voting_regressor.predict(X_train)\n",
    "print(voting_regressor.score(X_train, y_train))\n",
    "print(voting_regressor.score(X_test, y_test))"
   ]
  },
  {
   "cell_type": "code",
   "execution_count": 20,
   "id": "5fd2024f",
   "metadata": {},
   "outputs": [
    {
     "name": "stdout",
     "output_type": "stream",
     "text": [
      "훈련 데이터 RMSE :  53.046634874015865\n",
      "훈련 데이터 RMSE :  77.53831029380439\n"
     ]
    }
   ],
   "source": [
    "# RMSE\n",
    "from sklearn.metrics import mean_squared_error\n",
    "\n",
    "pred_train = voting_regressor.predict(X_train)\n",
    "MSE_train = mean_squared_error(y_train, pred_train)\n",
    "print(\"훈련 데이터 RMSE : \", np.sqrt(MSE_train))\n",
    "\n",
    "pred_test = voting_regressor.predict(X_test)\n",
    "MSE_test = mean_squared_error(y_test, pred_test)\n",
    "print(\"훈련 데이터 RMSE : \", np.sqrt(MSE_test))"
   ]
  },
  {
   "cell_type": "markdown",
   "id": "5d9ef07f",
   "metadata": {},
   "source": [
    "# 4. Bagging 실습"
   ]
  },
  {
   "cell_type": "code",
   "execution_count": 21,
   "id": "b4351c8f",
   "metadata": {},
   "outputs": [],
   "source": [
    "X_train = pd.read_csv(\"data/X_final_C.csv\")\n",
    "X_test = pd.read_csv(\"data/test_final_C.csv\")\n",
    "y_train = pd.read_csv(\"data/y_train_C.csv\")\n",
    "y_test = pd.read_csv(\"data/y_test_C.csv\")"
   ]
  },
  {
   "cell_type": "code",
   "execution_count": 22,
   "id": "35c72ad3",
   "metadata": {},
   "outputs": [],
   "source": [
    "from sklearn.svm import SVC\n",
    "from sklearn.ensemble import BaggingClassifier"
   ]
  },
  {
   "cell_type": "code",
   "execution_count": 23,
   "id": "1af9633d",
   "metadata": {},
   "outputs": [
    {
     "data": {
      "text/plain": [
       "BaggingClassifier(base_estimator=SVC(), random_state=0)"
      ]
     },
     "execution_count": 23,
     "metadata": {},
     "output_type": "execute_result"
    }
   ],
   "source": [
    "model = BaggingClassifier(base_estimator=SVC(), n_estimators=10, random_state=0)\n",
    "\n",
    "model.fit(X_train, y_train)"
   ]
  },
  {
   "cell_type": "code",
   "execution_count": 24,
   "id": "432b50e6",
   "metadata": {},
   "outputs": [
    {
     "name": "stdout",
     "output_type": "stream",
     "text": [
      "0.7942446043165468\n",
      "0.7654941373534339\n"
     ]
    }
   ],
   "source": [
    "print(model.score(X_train, y_train))\n",
    "print(model.score(X_test, y_test))"
   ]
  },
  {
   "cell_type": "code",
   "execution_count": 25,
   "id": "f65eb304",
   "metadata": {},
   "outputs": [],
   "source": [
    "pred_train = model.predict(X_train)\n",
    "pred_test = model.predict(X_test)"
   ]
  },
  {
   "cell_type": "code",
   "execution_count": 26,
   "id": "c41aeea2",
   "metadata": {
    "scrolled": true
   },
   "outputs": [
    {
     "name": "stdout",
     "output_type": "stream",
     "text": [
      "훈련 데이터의 오차행렬\n",
      " [[861  32]\n",
      " [254 243]]\n"
     ]
    }
   ],
   "source": [
    "print(\"훈련 데이터의 오차행렬\\n\", confusion_matrix(y_train, pred_train))"
   ]
  },
  {
   "cell_type": "code",
   "execution_count": 27,
   "id": "a61004b7",
   "metadata": {
    "scrolled": true
   },
   "outputs": [
    {
     "name": "stdout",
     "output_type": "stream",
     "text": [
      "테스트 데이터의 오차행렬\n",
      " [[361  23]\n",
      " [117  96]]\n"
     ]
    }
   ],
   "source": [
    "print(\"테스트 데이터의 오차행렬\\n\", confusion_matrix(y_test, pred_test))"
   ]
  },
  {
   "cell_type": "code",
   "execution_count": 28,
   "id": "15aaece0",
   "metadata": {
    "scrolled": true
   },
   "outputs": [
    {
     "name": "stdout",
     "output_type": "stream",
     "text": [
      "훈련데이터의 분류예측 레포트\n",
      "               precision    recall  f1-score   support\n",
      "\n",
      "           0       0.77      0.96      0.86       893\n",
      "           1       0.88      0.49      0.63       497\n",
      "\n",
      "    accuracy                           0.79      1390\n",
      "   macro avg       0.83      0.73      0.74      1390\n",
      "weighted avg       0.81      0.79      0.78      1390\n",
      "\n"
     ]
    }
   ],
   "source": [
    "print(\"훈련데이터의 분류예측 레포트\\n\", classification_report(y_train, pred_train))"
   ]
  },
  {
   "cell_type": "code",
   "execution_count": 29,
   "id": "4bb5667b",
   "metadata": {},
   "outputs": [
    {
     "name": "stdout",
     "output_type": "stream",
     "text": [
      "테스트 데이터의 분류예측 레포트\n",
      "               precision    recall  f1-score   support\n",
      "\n",
      "           0       0.76      0.94      0.84       384\n",
      "           1       0.81      0.45      0.58       213\n",
      "\n",
      "    accuracy                           0.77       597\n",
      "   macro avg       0.78      0.70      0.71       597\n",
      "weighted avg       0.77      0.77      0.75       597\n",
      "\n"
     ]
    }
   ],
   "source": [
    "print(\"테스트 데이터의 분류예측 레포트\\n\", classification_report(y_test, pred_test))"
   ]
  },
  {
   "cell_type": "markdown",
   "id": "924ddfc2",
   "metadata": {},
   "source": [
    "## (2) Regression(회귀)"
   ]
  },
  {
   "cell_type": "code",
   "execution_count": 30,
   "id": "e256b550",
   "metadata": {},
   "outputs": [],
   "source": [
    "X_train = pd.read_csv(\"data/X_final_R.csv\")\n",
    "X_test = pd.read_csv(\"data/test_final_R.csv\")\n",
    "y_train = pd.read_csv(\"data/y_train_R.csv\")\n",
    "y_test = pd.read_csv(\"data/y_test_R.csv\")"
   ]
  },
  {
   "cell_type": "code",
   "execution_count": 31,
   "id": "31642e37",
   "metadata": {},
   "outputs": [],
   "source": [
    "from sklearn.neighbors import KNeighborsRegressor\n",
    "from sklearn.ensemble import BaggingRegressor"
   ]
  },
  {
   "cell_type": "code",
   "execution_count": 32,
   "id": "5b9d2618",
   "metadata": {},
   "outputs": [
    {
     "data": {
      "text/plain": [
       "BaggingRegressor(base_estimator=KNeighborsRegressor(), random_state=0)"
      ]
     },
     "execution_count": 32,
     "metadata": {},
     "output_type": "execute_result"
    }
   ],
   "source": [
    "model = BaggingRegressor(base_estimator=KNeighborsRegressor(), n_estimators=10, random_state=0)\n",
    "\n",
    "model.fit(X_train, y_train)"
   ]
  },
  {
   "cell_type": "code",
   "execution_count": 33,
   "id": "91d3a6de",
   "metadata": {
    "scrolled": true
   },
   "outputs": [
    {
     "name": "stdout",
     "output_type": "stream",
     "text": [
      "0.7096886277992998\n",
      "0.5833223330736411\n"
     ]
    }
   ],
   "source": [
    "print(model.score(X_train, y_train))\n",
    "print(model.score(X_test, y_test))"
   ]
  },
  {
   "cell_type": "code",
   "execution_count": 34,
   "id": "7da4c227",
   "metadata": {},
   "outputs": [
    {
     "name": "stdout",
     "output_type": "stream",
     "text": [
      "훈련 데이터 RMSE :  67.55615433565438\n",
      "훈련 데이터 RMSE :  81.61493370530255\n"
     ]
    }
   ],
   "source": [
    "pred_train = model.predict(X_train)\n",
    "MSE_train = mean_squared_error(y_train, pred_train)\n",
    "print(\"훈련 데이터 RMSE : \", np.sqrt(MSE_train))\n",
    "\n",
    "pred_test = model.predict(X_test)\n",
    "MSE_test = mean_squared_error(y_test, pred_test)\n",
    "print(\"훈련 데이터 RMSE : \", np.sqrt(MSE_test))"
   ]
  },
  {
   "cell_type": "markdown",
   "id": "247aeba7",
   "metadata": {},
   "source": [
    "# 5. Boosting 실습"
   ]
  },
  {
   "cell_type": "markdown",
   "id": "1e27b803",
   "metadata": {},
   "source": [
    "## (1) Classification (분류)"
   ]
  },
  {
   "cell_type": "markdown",
   "id": "cd6d7de5",
   "metadata": {},
   "source": [
    "### 1) AdaBoosting"
   ]
  },
  {
   "cell_type": "code",
   "execution_count": 35,
   "id": "99ca24ca",
   "metadata": {},
   "outputs": [],
   "source": [
    "from sklearn.ensemble import AdaBoostClassifier"
   ]
  },
  {
   "cell_type": "code",
   "execution_count": 36,
   "id": "7f8838b5",
   "metadata": {},
   "outputs": [],
   "source": [
    "X_train = pd.read_csv(\"data/X_final_C.csv\")\n",
    "X_test = pd.read_csv(\"data/test_final_C.csv\")\n",
    "y_train = pd.read_csv(\"data/y_train_C.csv\")\n",
    "y_test = pd.read_csv(\"data/y_test_C.csv\")"
   ]
  },
  {
   "cell_type": "code",
   "execution_count": 37,
   "id": "05c2ab0a",
   "metadata": {},
   "outputs": [
    {
     "data": {
      "text/plain": [
       "AdaBoostClassifier(n_estimators=100, random_state=0)"
      ]
     },
     "execution_count": 37,
     "metadata": {},
     "output_type": "execute_result"
    }
   ],
   "source": [
    "model = AdaBoostClassifier(n_estimators=100, random_state=0)\n",
    "model.fit(X_train, y_train)"
   ]
  },
  {
   "cell_type": "code",
   "execution_count": 38,
   "id": "9b589e07",
   "metadata": {},
   "outputs": [],
   "source": [
    "pred_train = model.predict(X_train)\n",
    "pred_test = model.predict(X_test)"
   ]
  },
  {
   "cell_type": "code",
   "execution_count": 39,
   "id": "3806d030",
   "metadata": {
    "scrolled": true
   },
   "outputs": [
    {
     "name": "stdout",
     "output_type": "stream",
     "text": [
      "훈련 데이터의 오차행렬\n",
      " [[873  20]\n",
      " [230 267]]\n",
      "--------------------------------------------\n",
      "테스트 데이터의 오차행렬\n",
      " [[372  12]\n",
      " [108 105]]\n"
     ]
    }
   ],
   "source": [
    "print(\"훈련 데이터의 오차행렬\\n\", confusion_matrix(y_train, pred_train))\n",
    "print(\"--------------------------------------------\")\n",
    "print(\"테스트 데이터의 오차행렬\\n\", confusion_matrix(y_test, pred_test))"
   ]
  },
  {
   "cell_type": "code",
   "execution_count": 40,
   "id": "a119ab1c",
   "metadata": {},
   "outputs": [
    {
     "name": "stdout",
     "output_type": "stream",
     "text": [
      "훈련데이터의 분류예측 레포트\n",
      "               precision    recall  f1-score   support\n",
      "\n",
      "           0       0.79      0.98      0.87       893\n",
      "           1       0.93      0.54      0.68       497\n",
      "\n",
      "    accuracy                           0.82      1390\n",
      "   macro avg       0.86      0.76      0.78      1390\n",
      "weighted avg       0.84      0.82      0.81      1390\n",
      "\n",
      "--------------------------------------------\n",
      "테스트 데이터의 분류예측 레포트\n",
      "               precision    recall  f1-score   support\n",
      "\n",
      "           0       0.78      0.97      0.86       384\n",
      "           1       0.90      0.49      0.64       213\n",
      "\n",
      "    accuracy                           0.80       597\n",
      "   macro avg       0.84      0.73      0.75       597\n",
      "weighted avg       0.82      0.80      0.78       597\n",
      "\n"
     ]
    }
   ],
   "source": [
    "print(\"훈련데이터의 분류예측 레포트\\n\", classification_report(y_train, pred_train))\n",
    "print(\"--------------------------------------------\")\n",
    "print(\"테스트 데이터의 분류예측 레포트\\n\", classification_report(y_test, pred_test))"
   ]
  },
  {
   "cell_type": "markdown",
   "id": "366ab35a",
   "metadata": {},
   "source": [
    "### 2) GradientBoosting"
   ]
  },
  {
   "cell_type": "code",
   "execution_count": 41,
   "id": "c7e5381c",
   "metadata": {},
   "outputs": [],
   "source": [
    "from sklearn.ensemble import GradientBoostingClassifier"
   ]
  },
  {
   "cell_type": "code",
   "execution_count": 42,
   "id": "075d5ede",
   "metadata": {},
   "outputs": [
    {
     "data": {
      "text/plain": [
       "GradientBoostingClassifier(learning_rate=1.0, max_depth=1, random_state=0)"
      ]
     },
     "execution_count": 42,
     "metadata": {},
     "output_type": "execute_result"
    }
   ],
   "source": [
    "model = GradientBoostingClassifier(n_estimators=100, learning_rate=1.0,\n",
    "                                  max_depth=1, random_state=0)\n",
    "model.fit(X_train, y_train)"
   ]
  },
  {
   "cell_type": "code",
   "execution_count": 43,
   "id": "a37e229d",
   "metadata": {},
   "outputs": [
    {
     "name": "stdout",
     "output_type": "stream",
     "text": [
      "0.8244604316546763\n",
      "0.8056951423785594\n"
     ]
    }
   ],
   "source": [
    "print(model.score(X_train, y_train))\n",
    "print(model.score(X_test, y_test))"
   ]
  },
  {
   "cell_type": "code",
   "execution_count": 44,
   "id": "19f37fe4",
   "metadata": {},
   "outputs": [],
   "source": [
    "pred_train = model.predict(X_train)\n",
    "pred_test = model.predict(X_test)"
   ]
  },
  {
   "cell_type": "code",
   "execution_count": 45,
   "id": "37944d17",
   "metadata": {},
   "outputs": [
    {
     "name": "stdout",
     "output_type": "stream",
     "text": [
      "훈련 데이터의 오차행렬\n",
      " [[871  22]\n",
      " [222 275]]\n",
      "--------------------------------------------\n",
      "테스트 데이터의 오차행렬\n",
      " [[371  13]\n",
      " [103 110]]\n"
     ]
    }
   ],
   "source": [
    "print(\"훈련 데이터의 오차행렬\\n\", confusion_matrix(y_train, pred_train))\n",
    "print(\"--------------------------------------------\")\n",
    "print(\"테스트 데이터의 오차행렬\\n\", confusion_matrix(y_test, pred_test))"
   ]
  },
  {
   "cell_type": "code",
   "execution_count": 46,
   "id": "cb664527",
   "metadata": {},
   "outputs": [
    {
     "name": "stdout",
     "output_type": "stream",
     "text": [
      "훈련데이터의 분류예측 레포트\n",
      "               precision    recall  f1-score   support\n",
      "\n",
      "           0       0.80      0.98      0.88       893\n",
      "           1       0.93      0.55      0.69       497\n",
      "\n",
      "    accuracy                           0.82      1390\n",
      "   macro avg       0.86      0.76      0.78      1390\n",
      "weighted avg       0.84      0.82      0.81      1390\n",
      "\n",
      "--------------------------------------------\n",
      "테스트 데이터의 분류예측 레포트\n",
      "               precision    recall  f1-score   support\n",
      "\n",
      "           0       0.78      0.97      0.86       384\n",
      "           1       0.89      0.52      0.65       213\n",
      "\n",
      "    accuracy                           0.81       597\n",
      "   macro avg       0.84      0.74      0.76       597\n",
      "weighted avg       0.82      0.81      0.79       597\n",
      "\n"
     ]
    }
   ],
   "source": [
    "print(\"훈련데이터의 분류예측 레포트\\n\", classification_report(y_train, pred_train))\n",
    "print(\"--------------------------------------------\")\n",
    "print(\"테스트 데이터의 분류예측 레포트\\n\", classification_report(y_test, pred_test))"
   ]
  },
  {
   "cell_type": "markdown",
   "id": "e93da5e9",
   "metadata": {},
   "source": [
    "## (2) Regression"
   ]
  },
  {
   "cell_type": "code",
   "execution_count": 47,
   "id": "a896e051",
   "metadata": {},
   "outputs": [],
   "source": [
    "X_train = pd.read_csv(\"data/X_final_R.csv\")\n",
    "X_test = pd.read_csv(\"data/test_final_R.csv\")\n",
    "y_train = pd.read_csv(\"data/y_train_R.csv\")\n",
    "y_test = pd.read_csv(\"data/y_test_R.csv\")"
   ]
  },
  {
   "cell_type": "markdown",
   "id": "a08dafdf",
   "metadata": {},
   "source": [
    "### 1) AdaBoosting"
   ]
  },
  {
   "cell_type": "code",
   "execution_count": 48,
   "id": "42f3fe17",
   "metadata": {},
   "outputs": [],
   "source": [
    "from sklearn.ensemble import AdaBoostRegressor"
   ]
  },
  {
   "cell_type": "code",
   "execution_count": 49,
   "id": "dc2caff7",
   "metadata": {},
   "outputs": [
    {
     "data": {
      "text/plain": [
       "AdaBoostRegressor(n_estimators=100, random_state=0)"
      ]
     },
     "execution_count": 49,
     "metadata": {},
     "output_type": "execute_result"
    }
   ],
   "source": [
    "model = AdaBoostRegressor(n_estimators=100, random_state=0)\n",
    "\n",
    "model.fit(X_train, y_train)"
   ]
  },
  {
   "cell_type": "code",
   "execution_count": 50,
   "id": "69451902",
   "metadata": {},
   "outputs": [
    {
     "name": "stdout",
     "output_type": "stream",
     "text": [
      "0.29695728654825215\n",
      "0.27200565799961796\n"
     ]
    }
   ],
   "source": [
    "print(model.score(X_train, y_train))\n",
    "print(model.score(X_test, y_test))"
   ]
  },
  {
   "cell_type": "code",
   "execution_count": 51,
   "id": "e7b6e080",
   "metadata": {},
   "outputs": [
    {
     "name": "stdout",
     "output_type": "stream",
     "text": [
      "훈련 데이터 RMSE :  105.12929466476501\n"
     ]
    }
   ],
   "source": [
    "pred_train = model.predict(X_train)\n",
    "MSE_train = mean_squared_error(y_train, pred_train)\n",
    "print(\"훈련 데이터 RMSE : \", np.sqrt(MSE_train))"
   ]
  },
  {
   "cell_type": "code",
   "execution_count": 52,
   "id": "9e207b20",
   "metadata": {},
   "outputs": [
    {
     "name": "stdout",
     "output_type": "stream",
     "text": [
      "훈련 데이터 RMSE :  107.87815798537731\n"
     ]
    }
   ],
   "source": [
    "pred_test = model.predict(X_test)\n",
    "MSE_test = mean_squared_error(y_test, pred_test)\n",
    "print(\"훈련 데이터 RMSE : \", np.sqrt(MSE_test))"
   ]
  },
  {
   "cell_type": "markdown",
   "id": "02228fc9",
   "metadata": {},
   "source": [
    "### 2) GradientBoosting"
   ]
  },
  {
   "cell_type": "code",
   "execution_count": 53,
   "id": "b1956275",
   "metadata": {},
   "outputs": [],
   "source": [
    "from sklearn.ensemble import GradientBoostingRegressor"
   ]
  },
  {
   "cell_type": "code",
   "execution_count": 54,
   "id": "673d5d85",
   "metadata": {},
   "outputs": [
    {
     "data": {
      "text/plain": [
       "GradientBoostingRegressor(random_state=0)"
      ]
     },
     "execution_count": 54,
     "metadata": {},
     "output_type": "execute_result"
    }
   ],
   "source": [
    "model = GradientBoostingRegressor(random_state=0)\n",
    "\n",
    "model.fit(X_train, y_train)"
   ]
  },
  {
   "cell_type": "code",
   "execution_count": 55,
   "id": "7acdad46",
   "metadata": {},
   "outputs": [
    {
     "name": "stdout",
     "output_type": "stream",
     "text": [
      "0.6971712683907527\n",
      "0.6168063010725628\n"
     ]
    }
   ],
   "source": [
    "print(model.score(X_train, y_train))\n",
    "print(model.score(X_test, y_test))"
   ]
  },
  {
   "cell_type": "code",
   "execution_count": 56,
   "id": "ded27fb5",
   "metadata": {},
   "outputs": [
    {
     "name": "stdout",
     "output_type": "stream",
     "text": [
      "훈련 데이터 RMSE :  68.99719473408665\n"
     ]
    }
   ],
   "source": [
    "pred_train = model.predict(X_train)\n",
    "MSE_train = mean_squared_error(y_train, pred_train)\n",
    "print(\"훈련 데이터 RMSE : \", np.sqrt(MSE_train))"
   ]
  },
  {
   "cell_type": "code",
   "execution_count": 57,
   "id": "9d253ec0",
   "metadata": {},
   "outputs": [
    {
     "name": "stdout",
     "output_type": "stream",
     "text": [
      "훈련 데이터 RMSE :  78.26700222894027\n"
     ]
    }
   ],
   "source": [
    "pred_test = model.predict(X_test)\n",
    "MSE_test = mean_squared_error(y_test, pred_test)\n",
    "print(\"훈련 데이터 RMSE : \", np.sqrt(MSE_test))"
   ]
  },
  {
   "cell_type": "markdown",
   "id": "cce3c93c",
   "metadata": {},
   "source": [
    "## (3) Breast Cancer Sample"
   ]
  },
  {
   "cell_type": "code",
   "execution_count": 94,
   "id": "474ab8a9",
   "metadata": {},
   "outputs": [],
   "source": [
    "cancer = load_breast_cancer()\n",
    "X_train, X_test, y_train, y_test = train_test_split(cancer.data, cancer.target,\n",
    "                                                    random_state=11, test_size=.2)"
   ]
  },
  {
   "cell_type": "code",
   "execution_count": 95,
   "id": "beaececc",
   "metadata": {},
   "outputs": [
    {
     "data": {
      "text/plain": [
       "dict_keys(['data', 'target', 'frame', 'target_names', 'DESCR', 'feature_names', 'filename', 'data_module'])"
      ]
     },
     "execution_count": 95,
     "metadata": {},
     "output_type": "execute_result"
    }
   ],
   "source": [
    "cancer.keys()"
   ]
  },
  {
   "cell_type": "code",
   "execution_count": 96,
   "id": "b27923f1",
   "metadata": {},
   "outputs": [
    {
     "data": {
      "text/plain": [
       "array([[1.969e+01, 2.125e+01, 1.300e+02, ..., 2.430e-01, 3.613e-01,\n",
       "        8.758e-02],\n",
       "       [1.231e+01, 1.652e+01, 7.919e+01, ..., 8.660e-02, 2.618e-01,\n",
       "        7.609e-02],\n",
       "       [1.163e+01, 2.929e+01, 7.487e+01, ..., 6.835e-02, 2.884e-01,\n",
       "        7.220e-02],\n",
       "       ...,\n",
       "       [1.877e+01, 2.143e+01, 1.229e+02, ..., 2.048e-01, 3.679e-01,\n",
       "        9.870e-02],\n",
       "       [1.537e+01, 2.276e+01, 1.002e+02, ..., 1.476e-01, 2.556e-01,\n",
       "        6.828e-02],\n",
       "       [1.145e+01, 2.097e+01, 7.381e+01, ..., 6.127e-02, 2.762e-01,\n",
       "        8.851e-02]])"
      ]
     },
     "execution_count": 96,
     "metadata": {},
     "output_type": "execute_result"
    }
   ],
   "source": [
    "X_train"
   ]
  },
  {
   "cell_type": "code",
   "execution_count": 97,
   "id": "5743eb5d",
   "metadata": {},
   "outputs": [
    {
     "data": {
      "text/plain": [
       "array([0, 1, 1, 0, 1, 0, 0, 1, 0, 1, 0, 1, 1, 1, 0, 1, 1, 1, 1, 1, 0, 0,\n",
       "       0, 1, 0, 1, 0, 1, 1, 0, 1, 0, 1, 1, 1, 0, 1, 0, 0, 0, 0, 1, 1, 1,\n",
       "       0, 1, 1, 1, 0, 1, 1, 1, 0, 1, 1, 0, 1, 0, 1, 1, 1, 1, 0, 0, 1, 1,\n",
       "       0, 1, 1, 0, 0, 1, 1, 1, 1, 0, 0, 1, 1, 1, 1, 1, 1, 1, 1, 1, 0, 1,\n",
       "       0, 1, 0, 1, 1, 1, 1, 0, 0, 1, 1, 0, 0, 1, 1, 1, 0, 0, 1, 1, 1, 0,\n",
       "       0, 1, 0, 1, 1, 1, 1, 1, 1, 1, 0, 0, 1, 0, 1, 1, 0, 0, 1, 1, 0, 0,\n",
       "       1, 1, 1, 1, 1, 0, 0, 1, 0, 0, 1, 0, 1, 0, 1, 0, 1, 1, 1, 0, 1, 1,\n",
       "       0, 1, 1, 0, 0, 0, 1, 1, 1, 1, 0, 0, 1, 0, 1, 0, 1, 0, 1, 1, 1, 1,\n",
       "       1, 1, 1, 0, 0, 1, 0, 1, 1, 0, 1, 1, 1, 0, 1, 1, 1, 0, 1, 1, 0, 1,\n",
       "       0, 1, 0, 0, 1, 1, 1, 0, 1, 1, 0, 1, 0, 0, 1, 1, 0, 1, 1, 0, 1, 1,\n",
       "       1, 0, 1, 1, 1, 0, 1, 0, 0, 1, 1, 0, 1, 0, 0, 1, 0, 0, 1, 1, 1, 0,\n",
       "       1, 1, 0, 0, 1, 0, 1, 1, 0, 1, 0, 1, 1, 0, 1, 0, 0, 0, 0, 1, 1, 0,\n",
       "       1, 1, 1, 0, 1, 0, 1, 1, 1, 1, 1, 1, 1, 1, 1, 1, 1, 1, 1, 0, 1, 0,\n",
       "       1, 1, 1, 0, 1, 1, 1, 1, 1, 1, 0, 0, 1, 1, 1, 1, 0, 0, 1, 1, 1, 1,\n",
       "       1, 0, 1, 0, 1, 0, 1, 0, 0, 0, 0, 0, 1, 1, 0, 1, 1, 0, 1, 0, 1, 0,\n",
       "       0, 0, 0, 1, 1, 1, 1, 1, 1, 1, 0, 0, 0, 0, 1, 1, 1, 1, 0, 1, 0, 1,\n",
       "       1, 0, 0, 1, 0, 1, 1, 1, 1, 1, 1, 1, 1, 0, 0, 1, 0, 1, 0, 1, 0, 0,\n",
       "       1, 1, 0, 0, 1, 0, 1, 1, 1, 1, 1, 1, 1, 1, 0, 1, 0, 1, 1, 0, 0, 0,\n",
       "       1, 0, 0, 1, 1, 1, 1, 1, 1, 0, 0, 0, 1, 1, 1, 1, 1, 0, 1, 0, 0, 1,\n",
       "       1, 1, 0, 1, 0, 1, 0, 1, 1, 0, 0, 0, 1, 1, 0, 1, 1, 1, 0, 1, 1, 0,\n",
       "       0, 1, 0, 1, 0, 1, 1, 1, 0, 1, 1, 1, 0, 0, 1])"
      ]
     },
     "execution_count": 97,
     "metadata": {},
     "output_type": "execute_result"
    }
   ],
   "source": [
    "y_train"
   ]
  },
  {
   "cell_type": "markdown",
   "id": "aff19194",
   "metadata": {},
   "source": [
    "### 1) GradientBoostingClassifier"
   ]
  },
  {
   "cell_type": "code",
   "execution_count": 98,
   "id": "45550910",
   "metadata": {},
   "outputs": [],
   "source": [
    "from sklearn.ensemble import GradientBoostingRegressor\n",
    "from sklearn.ensemble import GradientBoostingClassifier"
   ]
  },
  {
   "cell_type": "code",
   "execution_count": 99,
   "id": "c7f076f5",
   "metadata": {},
   "outputs": [],
   "source": [
    "model = GradientBoostingClassifier(random_state=0).fit(X_train, y_train)"
   ]
  },
  {
   "cell_type": "code",
   "execution_count": 100,
   "id": "f8994e0c",
   "metadata": {},
   "outputs": [
    {
     "name": "stdout",
     "output_type": "stream",
     "text": [
      "1.0\n",
      "0.9912280701754386\n"
     ]
    }
   ],
   "source": [
    "model = GradientBoostingClassifier(random_state=0).fit(X_train, y_train)\n",
    "print(model.score(X_train, y_train))\n",
    "print(model.score(X_test, y_test))"
   ]
  },
  {
   "cell_type": "code",
   "execution_count": 101,
   "id": "f42346b5",
   "metadata": {},
   "outputs": [
    {
     "name": "stdout",
     "output_type": "stream",
     "text": [
      "1.0\n",
      "0.9912280701754386\n"
     ]
    }
   ],
   "source": [
    "model = GradientBoostingClassifier(random_state=42)\n",
    "\n",
    "model.fit(X_train, y_train)\n",
    "print(model.score(X_train, y_train))\n",
    "print(model.score(X_test, y_test))"
   ]
  },
  {
   "cell_type": "code",
   "execution_count": 102,
   "id": "5a2c2e39",
   "metadata": {
    "scrolled": true
   },
   "outputs": [
    {
     "name": "stdout",
     "output_type": "stream",
     "text": [
      "0.989010989010989\n",
      "0.9736842105263158\n"
     ]
    }
   ],
   "source": [
    "model = GradientBoostingClassifier(random_state=0, max_depth=1).fit(X_train, y_train)\n",
    "\n",
    "print(model.score(X_train, y_train))\n",
    "print(model.score(X_test, y_test))"
   ]
  },
  {
   "cell_type": "code",
   "execution_count": 103,
   "id": "ec8c9e99",
   "metadata": {},
   "outputs": [
    {
     "name": "stdout",
     "output_type": "stream",
     "text": [
      "0.6175824175824176\n",
      "0.6666666666666666\n"
     ]
    }
   ],
   "source": [
    "model = GradientBoostingClassifier(random_state=0, max_depth=0.01).fit(X_train, y_train)\n",
    "\n",
    "print(model.score(X_train, y_train))\n",
    "print(model.score(X_test, y_test))"
   ]
  },
  {
   "cell_type": "code",
   "execution_count": 104,
   "id": "8f55117a",
   "metadata": {},
   "outputs": [
    {
     "data": {
      "text/plain": [
       "<AxesSubplot:>"
      ]
     },
     "execution_count": 104,
     "metadata": {},
     "output_type": "execute_result"
    },
    {
     "data": {
      "image/png": "[encoded data removed]",
      "text/plain": [
       "<Figure size 640x480 with 1 Axes>"
      ]
     },
     "metadata": {},
     "output_type": "display_data"
    }
   ],
   "source": [
    "model = GradientBoostingClassifier(random_state=0, max_depth=1).fit(X_train, y_train)\n",
    "\n",
    "sns.barplot(x=model.feature_importances_, y=cancer.feature_names)"
   ]
  },
  {
   "cell_type": "code",
   "execution_count": 106,
   "id": "58b77acb",
   "metadata": {},
   "outputs": [
    {
     "data": {
      "text/plain": [
       "GridSearchCV(cv=3,\n",
       "             estimator=GradientBoostingClassifier(max_depth=1, random_state=0),\n",
       "             n_jobs=-1,\n",
       "             param_grid={'learning_rate': [0.1, 0.01, 0.01, 1.0],\n",
       "                         'max_depth': [2, 3, 4, 5, 6, 7, 8, 9],\n",
       "                         'min_samples_leaf': [1, 2, 3, 4, 5],\n",
       "                         'min_samples_split': [4, 8, 10, 11, 12, 13, 14],\n",
       "                         'n_estimators': [100, 200, 300]})"
      ]
     },
     "execution_count": 106,
     "metadata": {},
     "output_type": "execute_result"
    }
   ],
   "source": [
    "# params = {\n",
    "#     \"n_estimators\" : [100, 200, 300],\n",
    "#     \"max_depth\" : [2,3,4,5,6,7,8,9],\n",
    "#     \"min_samples_leaf\" : [1,2,3,4,5],\n",
    "#     \"min_samples_split\" : [4, 8, 10, 11, 12, 13, 14],\n",
    "#     \"learning_rate\" : [0.1, 0.01, 0.01, 1.0]\n",
    "# }\n",
    "\n",
    "# grid_clf = GridSearchCV(model, param_grid=params, cv=3, n_jobs=-1) # n_jobs = cpu를 몇개 쓸 것이냐 # -1 = 모든cpu\n",
    "# grid_clf.fit(X_train, y_train)"
   ]
  },
  {
   "cell_type": "code",
   "execution_count": 131,
   "id": "3d225058",
   "metadata": {},
   "outputs": [
    {
     "data": {
      "image/png": "[encoded data removed]",
      "text/plain": [
       "<PIL.PngImagePlugin.PngImageFile image mode=RGB size=1078x344>"
      ]
     },
     "execution_count": 131,
     "metadata": {},
     "output_type": "execute_result"
    }
   ],
   "source": [
    "image = Image.open('C:/kimhotak13/PythonWork/AI/data/p1.png')\n",
    "image"
   ]
  },
  {
   "cell_type": "code",
   "execution_count": 107,
   "id": "b1a39625",
   "metadata": {},
   "outputs": [
    {
     "data": {
      "text/plain": [
       "{'learning_rate': 1.0,\n",
       " 'max_depth': 2,\n",
       " 'min_samples_leaf': 5,\n",
       " 'min_samples_split': 13,\n",
       " 'n_estimators': 100}"
      ]
     },
     "execution_count": 107,
     "metadata": {},
     "output_type": "execute_result"
    }
   ],
   "source": [
    "#grid_clf.best_params_"
   ]
  },
  {
   "cell_type": "code",
   "execution_count": 108,
   "id": "87628399",
   "metadata": {},
   "outputs": [
    {
     "name": "stdout",
     "output_type": "stream",
     "text": [
      "0.9934065934065934\n",
      "0.956140350877193\n"
     ]
    }
   ],
   "source": [
    "# print(grid_clf.score(X_train, y_train))\n",
    "# print(grid_clf.score(X_test, y_test))"
   ]
  },
  {
   "cell_type": "code",
   "execution_count": 132,
   "id": "ba56cc51",
   "metadata": {},
   "outputs": [
    {
     "data": {
      "image/png": "[encoded data removed]",
      "text/plain": [
       "<PIL.PngImagePlugin.PngImageFile image mode=RGB size=1072x258>"
      ]
     },
     "execution_count": 132,
     "metadata": {},
     "output_type": "execute_result"
    }
   ],
   "source": [
    "image = Image.open('C:/kimhotak13/PythonWork/AI/data/p2.png')\n",
    "image"
   ]
  },
  {
   "cell_type": "markdown",
   "id": "7e06433a",
   "metadata": {},
   "source": [
    "### 2) XGBoost\n",
    "- 트리 기반의 앙상블 방식\n",
    "- 분류에 있어서는 다른 알고리즘보다 좋은 예측 성능\n",
    "- 병렬 cpu환경에서는 빠르게 학습이 가능\n",
    "- conda install -c anaconda py-xgboost"
   ]
  },
  {
   "cell_type": "code",
   "execution_count": 113,
   "id": "ed969e74",
   "metadata": {},
   "outputs": [],
   "source": [
    "import xgboost as xgb\n",
    "from xgboost import XGBClassifier, XGBRegressor\n",
    "from xgboost import plot_importance, plot_tree"
   ]
  },
  {
   "cell_type": "code",
   "execution_count": 114,
   "id": "ebb480b7",
   "metadata": {},
   "outputs": [
    {
     "name": "stdout",
     "output_type": "stream",
     "text": [
      "1.0\n",
      "0.9824561403508771\n"
     ]
    }
   ],
   "source": [
    "model = XGBClassifier(random_state=0, learning_rate=0.1, max_depth=3).fit(X_train, y_train)\n",
    "\n",
    "print(model.score(X_train, y_train))\n",
    "print(model.score(X_test, y_test))"
   ]
  },
  {
   "cell_type": "code",
   "execution_count": 118,
   "id": "424ee839",
   "metadata": {},
   "outputs": [
    {
     "data": {
      "text/plain": [
       "<AxesSubplot:title={'center':'Feature importance'}, xlabel='F score', ylabel='Features'>"
      ]
     },
     "execution_count": 118,
     "metadata": {},
     "output_type": "execute_result"
    },
    {
     "data": {
      "image/png": "[encoded data removed]",
      "text/plain": [
       "<Figure size 1000x1200 with 1 Axes>"
      ]
     },
     "metadata": {},
     "output_type": "display_data"
    }
   ],
   "source": [
    "_, ax = plt.subplots(figsize=(10, 12))\n",
    "plot_importance(model, ax=ax)"
   ]
  },
  {
   "cell_type": "code",
   "execution_count": 116,
   "id": "5ecd5814",
   "metadata": {},
   "outputs": [
    {
     "name": "stdout",
     "output_type": "stream",
     "text": [
      "0.9626373626373625 0.020381579110979577\n"
     ]
    }
   ],
   "source": [
    "##### 적합도 검정\n",
    "\n",
    "cross_val = cross_validate(estimator=model, X=X_train, y=y_train, cv=5)\n",
    "cross_val\n",
    "\n",
    "print(cross_val[\"test_score\"].mean(), cross_val[\"test_score\"].std())"
   ]
  },
  {
   "cell_type": "markdown",
   "id": "3d2334ac",
   "metadata": {},
   "source": [
    "- California 주택"
   ]
  },
  {
   "cell_type": "code",
   "execution_count": 119,
   "id": "7fb81360",
   "metadata": {},
   "outputs": [],
   "source": [
    "from sklearn.datasets import fetch_california_housing"
   ]
  },
  {
   "cell_type": "code",
   "execution_count": 124,
   "id": "d37cd8e3",
   "metadata": {},
   "outputs": [],
   "source": [
    "california = fetch_california_housing()\n",
    "X_train, X_test, y_train, y_test = train_test_split(california.data, california.target, random_state=42)"
   ]
  },
  {
   "cell_type": "code",
   "execution_count": 125,
   "id": "12d30498",
   "metadata": {},
   "outputs": [
    {
     "name": "stdout",
     "output_type": "stream",
     "text": [
      "<class 'pandas.core.frame.DataFrame'>\n",
      "RangeIndex: 20640 entries, 0 to 20639\n",
      "Data columns (total 8 columns):\n",
      " #   Column  Non-Null Count  Dtype  \n",
      "---  ------  --------------  -----  \n",
      " 0   0       20640 non-null  float64\n",
      " 1   1       20640 non-null  float64\n",
      " 2   2       20640 non-null  float64\n",
      " 3   3       20640 non-null  float64\n",
      " 4   4       20640 non-null  float64\n",
      " 5   5       20640 non-null  float64\n",
      " 6   6       20640 non-null  float64\n",
      " 7   7       20640 non-null  float64\n",
      "dtypes: float64(8)\n",
      "memory usage: 1.3 MB\n"
     ]
    }
   ],
   "source": [
    "pd.DataFrame(california.data).info()"
   ]
  },
  {
   "cell_type": "code",
   "execution_count": 126,
   "id": "de0e4d95",
   "metadata": {},
   "outputs": [
    {
     "name": "stdout",
     "output_type": "stream",
     "text": [
      "0.6098730310529251\n",
      "0.5910509795491355\n"
     ]
    }
   ],
   "source": [
    "model1 = LinearRegression().fit(X_train, y_train)\n",
    "\n",
    "print(model1.score(X_train, y_train))\n",
    "print(model1.score(X_test, y_test))"
   ]
  },
  {
   "cell_type": "code",
   "execution_count": 128,
   "id": "cf092c07",
   "metadata": {},
   "outputs": [
    {
     "name": "stdout",
     "output_type": "stream",
     "text": [
      "0.8055193255064026\n",
      "0.781331812032128\n"
     ]
    }
   ],
   "source": [
    "model2 = XGBRegressor(n_estimators=100, learning_rate=0.1, max_depth=3, objective = \"reg:squarederror\")\n",
    "\n",
    "model2.fit(X_train, y_train)\n",
    "\n",
    "print(model2.score(X_train, y_train))\n",
    "print(model2.score(X_test, y_test))"
   ]
  },
  {
   "cell_type": "markdown",
   "id": "64256ecf",
   "metadata": {},
   "source": [
    "- 당뇨병 샘플"
   ]
  },
  {
   "cell_type": "code",
   "execution_count": 129,
   "id": "660bf264",
   "metadata": {},
   "outputs": [],
   "source": [
    "from sklearn.datasets import load_diabetes"
   ]
  },
  {
   "cell_type": "code",
   "execution_count": 134,
   "id": "a2718be1",
   "metadata": {
    "collapsed": true
   },
   "outputs": [
    {
     "name": "stdout",
     "output_type": "stream",
     "text": [
      "['age', 'sex', 'bmi', 'bp', 's1', 's2', 's3', 's4', 's5', 's6']\n",
      "[151.  75. 141. 206. 135.  97. 138.  63. 110. 310. 101.  69. 179. 185.\n",
      " 118. 171. 166. 144.  97. 168.  68.  49.  68. 245. 184. 202. 137.  85.\n",
      " 131. 283. 129.  59. 341.  87.  65. 102. 265. 276. 252.  90. 100.  55.\n",
      "  61.  92. 259.  53. 190. 142.  75. 142. 155. 225.  59. 104. 182. 128.\n",
      "  52.  37. 170. 170.  61. 144.  52. 128.  71. 163. 150.  97. 160. 178.\n",
      "  48. 270. 202. 111.  85.  42. 170. 200. 252. 113. 143.  51.  52. 210.\n",
      "  65. 141.  55. 134.  42. 111.  98. 164.  48.  96.  90. 162. 150. 279.\n",
      "  92.  83. 128. 102. 302. 198.  95.  53. 134. 144. 232.  81. 104.  59.\n",
      " 246. 297. 258. 229. 275. 281. 179. 200. 200. 173. 180.  84. 121. 161.\n",
      "  99. 109. 115. 268. 274. 158. 107.  83. 103. 272.  85. 280. 336. 281.\n",
      " 118. 317. 235.  60. 174. 259. 178. 128.  96. 126. 288.  88. 292.  71.\n",
      " 197. 186.  25.  84.  96. 195.  53. 217. 172. 131. 214.  59.  70. 220.\n",
      " 268. 152.  47.  74. 295. 101. 151. 127. 237. 225.  81. 151. 107.  64.\n",
      " 138. 185. 265. 101. 137. 143. 141.  79. 292. 178.  91. 116.  86. 122.\n",
      "  72. 129. 142.  90. 158.  39. 196. 222. 277.  99. 196. 202. 155.  77.\n",
      " 191.  70.  73.  49.  65. 263. 248. 296. 214. 185.  78.  93. 252. 150.\n",
      "  77. 208.  77. 108. 160.  53. 220. 154. 259.  90. 246. 124.  67.  72.\n",
      " 257. 262. 275. 177.  71.  47. 187. 125.  78.  51. 258. 215. 303. 243.\n",
      "  91. 150. 310. 153. 346.  63.  89.  50.  39. 103. 308. 116. 145.  74.\n",
      "  45. 115. 264.  87. 202. 127. 182. 241.  66.  94. 283.  64. 102. 200.\n",
      " 265.  94. 230. 181. 156. 233.  60. 219.  80.  68. 332. 248.  84. 200.\n",
      "  55.  85.  89.  31. 129.  83. 275.  65. 198. 236. 253. 124.  44. 172.\n",
      " 114. 142. 109. 180. 144. 163. 147.  97. 220. 190. 109. 191. 122. 230.\n",
      " 242. 248. 249. 192. 131. 237.  78. 135. 244. 199. 270. 164.  72.  96.\n",
      " 306.  91. 214.  95. 216. 263. 178. 113. 200. 139. 139.  88. 148.  88.\n",
      " 243.  71.  77. 109. 272.  60.  54. 221.  90. 311. 281. 182. 321.  58.\n",
      " 262. 206. 233. 242. 123. 167.  63. 197.  71. 168. 140. 217. 121. 235.\n",
      " 245.  40.  52. 104. 132.  88.  69. 219.  72. 201. 110.  51. 277.  63.\n",
      " 118.  69. 273. 258.  43. 198. 242. 232. 175.  93. 168. 275. 293. 281.\n",
      "  72. 140. 189. 181. 209. 136. 261. 113. 131. 174. 257.  55.  84.  42.\n",
      " 146. 212. 233.  91. 111. 152. 120.  67. 310.  94. 183.  66. 173.  72.\n",
      "  49.  64.  48. 178. 104. 132. 220.  57.]\n",
      "dict_keys(['data', 'target', 'frame', 'DESCR', 'feature_names', 'data_filename', 'target_filename', 'data_module'])\n"
     ]
    }
   ],
   "source": [
    "diabets = load_diabetes()\n",
    "print(diabets.feature_names)\n",
    "print(diabets.target)\n",
    "print(diabets.keys())"
   ]
  },
  {
   "cell_type": "code",
   "execution_count": 135,
   "id": "d5ccd845",
   "metadata": {},
   "outputs": [],
   "source": [
    "X_train, X_test, y_train, y_test = train_test_split(diabets.data, diabets.target, random_state=42)"
   ]
  },
  {
   "cell_type": "code",
   "execution_count": 136,
   "id": "00b0800d",
   "metadata": {},
   "outputs": [
    {
     "name": "stdout",
     "output_type": "stream",
     "text": [
      "0.5190348343200994\n",
      "0.48490866359058016\n"
     ]
    }
   ],
   "source": [
    "model1 = LinearRegression().fit(X_train, y_train)\n",
    "\n",
    "print(model1.score(X_train, y_train))\n",
    "print(model1.score(X_test, y_test))"
   ]
  },
  {
   "cell_type": "code",
   "execution_count": 137,
   "id": "7d7b12f2",
   "metadata": {},
   "outputs": [
    {
     "name": "stdout",
     "output_type": "stream",
     "text": [
      "0.8388731097716509\n",
      "0.4462980077909693\n"
     ]
    }
   ],
   "source": [
    "model2 = XGBRegressor(n_estimators=100, learning_rate=0.1, max_depth=3, objective = \"reg:squarederror\")\n",
    "\n",
    "model2.fit(X_train, y_train)\n",
    "\n",
    "print(model2.score(X_train, y_train))\n",
    "print(model2.score(X_test, y_test))"
   ]
  },
  {
   "cell_type": "code",
   "execution_count": 140,
   "id": "7a9dcf0e",
   "metadata": {},
   "outputs": [
    {
     "data": {
      "text/plain": [
       "<AxesSubplot:title={'center':'Feature importance'}, xlabel='F score', ylabel='Features'>"
      ]
     },
     "execution_count": 140,
     "metadata": {},
     "output_type": "execute_result"
    },
    {
     "data": {
      "image/png": "[encoded data removed]",
      "text/plain": [
       "<Figure size 1000x1200 with 1 Axes>"
      ]
     },
     "metadata": {},
     "output_type": "display_data"
    }
   ],
   "source": [
    "_, ax = plt.subplots(figsize=(10, 12))\n",
    "plot_importance(model2, ax=ax)"
   ]
  },
  {
   "cell_type": "code",
   "execution_count": 141,
   "id": "00108318",
   "metadata": {},
   "outputs": [
    {
     "name": "stdout",
     "output_type": "stream",
     "text": [
      "0.35163125058498046 0.14790313234085625\n"
     ]
    }
   ],
   "source": [
    "# 적합도 검정\n",
    "cross_val = cross_validate(estimator=model2, X=X_train, y=y_train, cv=5)\n",
    "cross_val\n",
    "\n",
    "print(cross_val[\"test_score\"].mean(), cross_val[\"test_score\"].std())"
   ]
  },
  {
   "cell_type": "markdown",
   "id": "4a92a623",
   "metadata": {},
   "source": [
    "### 3) LightGBM\n",
    "   - 빠른 학습시간과 예측 시간\n",
    "   - 더 적은 메모리\n",
    "   - pip install lightgbm"
   ]
  },
  {
   "cell_type": "code",
   "execution_count": 144,
   "id": "64746dcd",
   "metadata": {},
   "outputs": [],
   "source": [
    "from lightgbm import LGBMClassifier, LGBMRegressor\n",
    "from lightgbm import plot_importance, plot_metric"
   ]
  },
  {
   "cell_type": "code",
   "execution_count": 163,
   "id": "4c752cb7",
   "metadata": {},
   "outputs": [],
   "source": [
    "iris = load_iris()\n",
    "X_train, X_test, y_train, y_test = train_test_split(iris.data,\n",
    "                                                   iris.target,\n",
    "                                                   random_state=123,\n",
    "                                                   test_size=0.2)"
   ]
  },
  {
   "cell_type": "code",
   "execution_count": 169,
   "id": "72062f7c",
   "metadata": {},
   "outputs": [
    {
     "name": "stdout",
     "output_type": "stream",
     "text": [
      "[1]\tvalid_0's multi_logloss: 0.95847\n",
      "[2]\tvalid_0's multi_logloss: 0.832184\n",
      "[3]\tvalid_0's multi_logloss: 0.731164\n",
      "[4]\tvalid_0's multi_logloss: 0.641056\n",
      "[5]\tvalid_0's multi_logloss: 0.571726\n",
      "[6]\tvalid_0's multi_logloss: 0.507286\n",
      "[7]\tvalid_0's multi_logloss: 0.454933\n",
      "[8]\tvalid_0's multi_logloss: 0.410205\n",
      "[9]\tvalid_0's multi_logloss: 0.372194\n",
      "[10]\tvalid_0's multi_logloss: 0.333919\n"
     ]
    },
    {
     "data": {
      "text/plain": [
       "LGBMClassifier(n_estimators=10)"
      ]
     },
     "execution_count": 169,
     "metadata": {},
     "output_type": "execute_result"
    }
   ],
   "source": [
    "model = LGBMClassifier(n_estimators=10)\n",
    "model.fit(X_train, y_train, early_stopping_rounds=100,\n",
    "          eval_metric=\"logloss\", eval_set=[(X_test, y_test)],\n",
    "         verbose = True)\n",
    "# fit이라는 함수 안에는 사실 반복문처럼 반복실행을 하고 있다\n",
    "# 어느정도 변화가 없을 때 중지를 시키기 위한 옵션 = early_stopping_rounds\n",
    "# early_stopping_rounds=100 : 100번 돌 때까지 변화가 없으면 중지시키겠다"
   ]
  },
  {
   "cell_type": "code",
   "execution_count": 170,
   "id": "d7a2700c",
   "metadata": {},
   "outputs": [
    {
     "name": "stdout",
     "output_type": "stream",
     "text": [
      "0.9666666666666667\n",
      "0.9333333333333333\n"
     ]
    }
   ],
   "source": [
    "print(model.score(X_train, y_train))\n",
    "print(model.score(X_test, y_test))"
   ]
  },
  {
   "cell_type": "code",
   "execution_count": 171,
   "id": "b72fbccb",
   "metadata": {},
   "outputs": [
    {
     "data": {
      "text/plain": [
       "<AxesSubplot:title={'center':'Metric during training'}, xlabel='Iterations', ylabel='multi_logloss'>"
      ]
     },
     "execution_count": 171,
     "metadata": {},
     "output_type": "execute_result"
    },
    {
     "data": {
      "image/png": "[encoded data removed]",
      "text/plain": [
       "<Figure size 640x480 with 1 Axes>"
      ]
     },
     "metadata": {},
     "output_type": "display_data"
    }
   ],
   "source": [
    "plot_metric(model)"
   ]
  },
  {
   "cell_type": "markdown",
   "id": "52fa533b",
   "metadata": {},
   "source": [
    "- California Sample(회귀형 샘플)"
   ]
  },
  {
   "cell_type": "code",
   "execution_count": 172,
   "id": "012c2899",
   "metadata": {},
   "outputs": [],
   "source": [
    "california = fetch_california_housing()\n",
    "X_train, X_test, y_train, y_test = train_test_split(california.data, california.target, random_state=42)"
   ]
  },
  {
   "cell_type": "code",
   "execution_count": 173,
   "id": "65d41025",
   "metadata": {
    "collapsed": true
   },
   "outputs": [
    {
     "name": "stdout",
     "output_type": "stream",
     "text": [
      "[1]\tvalid_0's l2: 1.16283\n",
      "[2]\tvalid_0's l2: 1.02756\n",
      "[3]\tvalid_0's l2: 0.916963\n",
      "[4]\tvalid_0's l2: 0.821253\n",
      "[5]\tvalid_0's l2: 0.746683\n",
      "[6]\tvalid_0's l2: 0.681512\n",
      "[7]\tvalid_0's l2: 0.622827\n",
      "[8]\tvalid_0's l2: 0.574682\n",
      "[9]\tvalid_0's l2: 0.534902\n",
      "[10]\tvalid_0's l2: 0.50245\n",
      "[11]\tvalid_0's l2: 0.472656\n",
      "[12]\tvalid_0's l2: 0.448665\n",
      "[13]\tvalid_0's l2: 0.427001\n",
      "[14]\tvalid_0's l2: 0.407672\n",
      "[15]\tvalid_0's l2: 0.393788\n",
      "[16]\tvalid_0's l2: 0.379775\n",
      "[17]\tvalid_0's l2: 0.3662\n",
      "[18]\tvalid_0's l2: 0.355743\n",
      "[19]\tvalid_0's l2: 0.345494\n",
      "[20]\tvalid_0's l2: 0.337253\n",
      "[21]\tvalid_0's l2: 0.327643\n",
      "[22]\tvalid_0's l2: 0.319412\n",
      "[23]\tvalid_0's l2: 0.311759\n",
      "[24]\tvalid_0's l2: 0.305131\n",
      "[25]\tvalid_0's l2: 0.297484\n",
      "[26]\tvalid_0's l2: 0.292113\n",
      "[27]\tvalid_0's l2: 0.285865\n",
      "[28]\tvalid_0's l2: 0.280194\n",
      "[29]\tvalid_0's l2: 0.275744\n",
      "[30]\tvalid_0's l2: 0.271333\n",
      "[31]\tvalid_0's l2: 0.267862\n",
      "[32]\tvalid_0's l2: 0.265065\n",
      "[33]\tvalid_0's l2: 0.262503\n",
      "[34]\tvalid_0's l2: 0.260544\n",
      "[35]\tvalid_0's l2: 0.259157\n",
      "[36]\tvalid_0's l2: 0.256226\n",
      "[37]\tvalid_0's l2: 0.254265\n",
      "[38]\tvalid_0's l2: 0.252514\n",
      "[39]\tvalid_0's l2: 0.250886\n",
      "[40]\tvalid_0's l2: 0.249102\n",
      "[41]\tvalid_0's l2: 0.246318\n",
      "[42]\tvalid_0's l2: 0.245322\n",
      "[43]\tvalid_0's l2: 0.244199\n",
      "[44]\tvalid_0's l2: 0.241773\n",
      "[45]\tvalid_0's l2: 0.240554\n",
      "[46]\tvalid_0's l2: 0.239985\n",
      "[47]\tvalid_0's l2: 0.239478\n",
      "[48]\tvalid_0's l2: 0.238691\n",
      "[49]\tvalid_0's l2: 0.237911\n",
      "[50]\tvalid_0's l2: 0.236544\n",
      "[51]\tvalid_0's l2: 0.235931\n",
      "[52]\tvalid_0's l2: 0.234666\n",
      "[53]\tvalid_0's l2: 0.232748\n",
      "[54]\tvalid_0's l2: 0.23212\n",
      "[55]\tvalid_0's l2: 0.231392\n",
      "[56]\tvalid_0's l2: 0.230497\n",
      "[57]\tvalid_0's l2: 0.229821\n",
      "[58]\tvalid_0's l2: 0.229223\n",
      "[59]\tvalid_0's l2: 0.228649\n",
      "[60]\tvalid_0's l2: 0.228213\n",
      "[61]\tvalid_0's l2: 0.227908\n",
      "[62]\tvalid_0's l2: 0.227141\n",
      "[63]\tvalid_0's l2: 0.22646\n",
      "[64]\tvalid_0's l2: 0.225836\n",
      "[65]\tvalid_0's l2: 0.22527\n",
      "[66]\tvalid_0's l2: 0.224432\n",
      "[67]\tvalid_0's l2: 0.223384\n",
      "[68]\tvalid_0's l2: 0.222955\n",
      "[69]\tvalid_0's l2: 0.22283\n",
      "[70]\tvalid_0's l2: 0.221819\n",
      "[71]\tvalid_0's l2: 0.22136\n",
      "[72]\tvalid_0's l2: 0.220973\n",
      "[73]\tvalid_0's l2: 0.220824\n",
      "[74]\tvalid_0's l2: 0.220008\n",
      "[75]\tvalid_0's l2: 0.219367\n",
      "[76]\tvalid_0's l2: 0.219139\n",
      "[77]\tvalid_0's l2: 0.218918\n",
      "[78]\tvalid_0's l2: 0.218187\n",
      "[79]\tvalid_0's l2: 0.217988\n",
      "[80]\tvalid_0's l2: 0.217894\n",
      "[81]\tvalid_0's l2: 0.21747\n",
      "[82]\tvalid_0's l2: 0.21745\n",
      "[83]\tvalid_0's l2: 0.216846\n",
      "[84]\tvalid_0's l2: 0.216209\n",
      "[85]\tvalid_0's l2: 0.215929\n",
      "[86]\tvalid_0's l2: 0.21564\n",
      "[87]\tvalid_0's l2: 0.215549\n",
      "[88]\tvalid_0's l2: 0.21548\n",
      "[89]\tvalid_0's l2: 0.215189\n",
      "[90]\tvalid_0's l2: 0.21502\n",
      "[91]\tvalid_0's l2: 0.214264\n",
      "[92]\tvalid_0's l2: 0.21428\n",
      "[93]\tvalid_0's l2: 0.214142\n",
      "[94]\tvalid_0's l2: 0.214241\n",
      "[95]\tvalid_0's l2: 0.213919\n",
      "[96]\tvalid_0's l2: 0.213931\n",
      "[97]\tvalid_0's l2: 0.213916\n",
      "[98]\tvalid_0's l2: 0.213526\n",
      "[99]\tvalid_0's l2: 0.213515\n",
      "[100]\tvalid_0's l2: 0.213293\n"
     ]
    },
    {
     "data": {
      "text/plain": [
       "LGBMRegressor()"
      ]
     },
     "execution_count": 173,
     "metadata": {},
     "output_type": "execute_result"
    }
   ],
   "source": [
    "model = LGBMRegressor(n_estimators=100)\n",
    "model.fit(X_train, y_train, early_stopping_rounds=100,\n",
    "          eval_metric=\"logloss\", eval_set=[(X_test, y_test)],\n",
    "         verbose = True)\n",
    "# fit이라는 함수 안에는 사실 반복문처럼 반복실행을 하고 있다\n",
    "# 어느정도 변화가 없을 때 중지를 시키기 위한 옵션 = early_stopping_rounds\n",
    "# early_stopping_rounds=100 : 100번 돌 때까지 변화가 없으면 중지시키겠다"
   ]
  },
  {
   "cell_type": "code",
   "execution_count": 174,
   "id": "f61e40b5",
   "metadata": {},
   "outputs": [
    {
     "name": "stdout",
     "output_type": "stream",
     "text": [
      "0.8848589288363256\n",
      "0.8388070733850864\n"
     ]
    }
   ],
   "source": [
    "print(model.score(X_train, y_train))\n",
    "print(model.score(X_test, y_test))"
   ]
  },
  {
   "cell_type": "code",
   "execution_count": 175,
   "id": "36d69ca8",
   "metadata": {},
   "outputs": [
    {
     "data": {
      "text/plain": [
       "<AxesSubplot:title={'center':'Metric during training'}, xlabel='Iterations', ylabel='l2'>"
      ]
     },
     "execution_count": 175,
     "metadata": {},
     "output_type": "execute_result"
    },
    {
     "data": {
      "image/png": "[encoded data removed]",
      "text/plain": [
       "<Figure size 640x480 with 1 Axes>"
      ]
     },
     "metadata": {},
     "output_type": "display_data"
    }
   ],
   "source": [
    "plot_metric(model)"
   ]
  },
  {
   "cell_type": "markdown",
   "id": "b211d361",
   "metadata": {},
   "source": [
    "- 당뇨병 샘플(회귀용)"
   ]
  },
  {
   "cell_type": "code",
   "execution_count": 176,
   "id": "74d5906f",
   "metadata": {},
   "outputs": [],
   "source": [
    "diabets = load_diabetes()\n",
    "\n",
    "X_train, X_test, y_train, y_test = train_test_split(diabets.data, diabets.target, random_state=42)"
   ]
  },
  {
   "cell_type": "code",
   "execution_count": 185,
   "id": "66af156c",
   "metadata": {
    "scrolled": true
   },
   "outputs": [
    {
     "name": "stdout",
     "output_type": "stream",
     "text": [
      "[1]\tvalid_0's l2: 5191.36\n",
      "[2]\tvalid_0's l2: 4864.92\n",
      "[3]\tvalid_0's l2: 4511.2\n",
      "[4]\tvalid_0's l2: 4254.74\n",
      "[5]\tvalid_0's l2: 4037.41\n",
      "[6]\tvalid_0's l2: 3811.27\n",
      "[7]\tvalid_0's l2: 3665.43\n",
      "[8]\tvalid_0's l2: 3504.05\n",
      "[9]\tvalid_0's l2: 3417.61\n",
      "[10]\tvalid_0's l2: 3296.34\n",
      "[11]\tvalid_0's l2: 3227.1\n",
      "[12]\tvalid_0's l2: 3133.17\n",
      "[13]\tvalid_0's l2: 3115.54\n",
      "[14]\tvalid_0's l2: 3031.15\n",
      "[15]\tvalid_0's l2: 3014.51\n",
      "[16]\tvalid_0's l2: 2986.93\n",
      "[17]\tvalid_0's l2: 2943.4\n",
      "[18]\tvalid_0's l2: 2909.59\n",
      "[19]\tvalid_0's l2: 2914\n",
      "[20]\tvalid_0's l2: 2914.83\n",
      "[21]\tvalid_0's l2: 2869.06\n",
      "[22]\tvalid_0's l2: 2866.2\n",
      "[23]\tvalid_0's l2: 2837.45\n",
      "[24]\tvalid_0's l2: 2814.37\n",
      "[25]\tvalid_0's l2: 2817.53\n",
      "[26]\tvalid_0's l2: 2820.99\n",
      "[27]\tvalid_0's l2: 2811.85\n",
      "[28]\tvalid_0's l2: 2795.42\n",
      "[29]\tvalid_0's l2: 2780.58\n",
      "[30]\tvalid_0's l2: 2752\n",
      "[31]\tvalid_0's l2: 2755.84\n",
      "[32]\tvalid_0's l2: 2755.21\n",
      "[33]\tvalid_0's l2: 2755.6\n",
      "[34]\tvalid_0's l2: 2743.86\n",
      "[35]\tvalid_0's l2: 2742.14\n",
      "[36]\tvalid_0's l2: 2725.46\n",
      "[37]\tvalid_0's l2: 2720.37\n",
      "[38]\tvalid_0's l2: 2706.03\n",
      "[39]\tvalid_0's l2: 2714.19\n",
      "[40]\tvalid_0's l2: 2704.99\n",
      "[41]\tvalid_0's l2: 2708.24\n",
      "[42]\tvalid_0's l2: 2714.22\n",
      "[43]\tvalid_0's l2: 2702.58\n",
      "[44]\tvalid_0's l2: 2684.2\n",
      "[45]\tvalid_0's l2: 2693.72\n",
      "[46]\tvalid_0's l2: 2696.97\n",
      "[47]\tvalid_0's l2: 2696.24\n",
      "[48]\tvalid_0's l2: 2690.74\n",
      "[49]\tvalid_0's l2: 2668.3\n",
      "[50]\tvalid_0's l2: 2662.26\n",
      "[51]\tvalid_0's l2: 2664.24\n",
      "[52]\tvalid_0's l2: 2657.81\n",
      "[53]\tvalid_0's l2: 2669.74\n",
      "[54]\tvalid_0's l2: 2670.13\n",
      "[55]\tvalid_0's l2: 2661.81\n",
      "[56]\tvalid_0's l2: 2652.19\n",
      "[57]\tvalid_0's l2: 2647.83\n",
      "[58]\tvalid_0's l2: 2667.01\n",
      "[59]\tvalid_0's l2: 2679.26\n",
      "[60]\tvalid_0's l2: 2681.13\n",
      "[61]\tvalid_0's l2: 2684.41\n",
      "[62]\tvalid_0's l2: 2710.98\n",
      "[63]\tvalid_0's l2: 2709.55\n",
      "[64]\tvalid_0's l2: 2712.82\n",
      "[65]\tvalid_0's l2: 2720.91\n",
      "[66]\tvalid_0's l2: 2706.57\n",
      "[67]\tvalid_0's l2: 2703.25\n",
      "[68]\tvalid_0's l2: 2706.7\n",
      "[69]\tvalid_0's l2: 2709.58\n",
      "[70]\tvalid_0's l2: 2709.28\n",
      "[71]\tvalid_0's l2: 2705.7\n",
      "[72]\tvalid_0's l2: 2702.12\n",
      "[73]\tvalid_0's l2: 2708.88\n",
      "[74]\tvalid_0's l2: 2712.36\n",
      "[75]\tvalid_0's l2: 2726.08\n",
      "[76]\tvalid_0's l2: 2742.42\n",
      "[77]\tvalid_0's l2: 2746.39\n",
      "[78]\tvalid_0's l2: 2743.76\n",
      "[79]\tvalid_0's l2: 2753.09\n",
      "[80]\tvalid_0's l2: 2742.38\n",
      "[81]\tvalid_0's l2: 2747.7\n",
      "[82]\tvalid_0's l2: 2751.73\n",
      "[83]\tvalid_0's l2: 2748.37\n",
      "[84]\tvalid_0's l2: 2745.72\n",
      "[85]\tvalid_0's l2: 2744.61\n",
      "[86]\tvalid_0's l2: 2740.38\n",
      "[87]\tvalid_0's l2: 2744.45\n",
      "[88]\tvalid_0's l2: 2735.83\n",
      "[89]\tvalid_0's l2: 2733.46\n",
      "[90]\tvalid_0's l2: 2731.4\n",
      "[91]\tvalid_0's l2: 2731.21\n",
      "[92]\tvalid_0's l2: 2738.26\n",
      "[93]\tvalid_0's l2: 2761.04\n",
      "[94]\tvalid_0's l2: 2769.16\n",
      "[95]\tvalid_0's l2: 2772.05\n",
      "[96]\tvalid_0's l2: 2776.45\n",
      "[97]\tvalid_0's l2: 2780.51\n",
      "[98]\tvalid_0's l2: 2788.46\n",
      "[99]\tvalid_0's l2: 2787.24\n",
      "[100]\tvalid_0's l2: 2786.99\n",
      "[101]\tvalid_0's l2: 2790.62\n",
      "[102]\tvalid_0's l2: 2779.67\n",
      "[103]\tvalid_0's l2: 2783.37\n",
      "[104]\tvalid_0's l2: 2783.4\n",
      "[105]\tvalid_0's l2: 2804.08\n",
      "[106]\tvalid_0's l2: 2808.43\n",
      "[107]\tvalid_0's l2: 2806.1\n",
      "[108]\tvalid_0's l2: 2813.9\n",
      "[109]\tvalid_0's l2: 2812.11\n",
      "[110]\tvalid_0's l2: 2813.23\n",
      "[111]\tvalid_0's l2: 2817.36\n",
      "[112]\tvalid_0's l2: 2821.11\n",
      "[113]\tvalid_0's l2: 2815.87\n",
      "[114]\tvalid_0's l2: 2819.63\n",
      "[115]\tvalid_0's l2: 2829.55\n",
      "[116]\tvalid_0's l2: 2823.6\n",
      "[117]\tvalid_0's l2: 2825.05\n",
      "[118]\tvalid_0's l2: 2828.14\n",
      "[119]\tvalid_0's l2: 2827.47\n",
      "[120]\tvalid_0's l2: 2826.75\n",
      "[121]\tvalid_0's l2: 2827.25\n",
      "[122]\tvalid_0's l2: 2826.32\n",
      "[123]\tvalid_0's l2: 2829.44\n",
      "[124]\tvalid_0's l2: 2838.46\n",
      "[125]\tvalid_0's l2: 2834.67\n",
      "[126]\tvalid_0's l2: 2838.97\n",
      "[127]\tvalid_0's l2: 2842.71\n",
      "[128]\tvalid_0's l2: 2841.74\n",
      "[129]\tvalid_0's l2: 2845.22\n",
      "[130]\tvalid_0's l2: 2856.09\n",
      "[131]\tvalid_0's l2: 2852.73\n",
      "[132]\tvalid_0's l2: 2851\n",
      "[133]\tvalid_0's l2: 2857.25\n",
      "[134]\tvalid_0's l2: 2863\n",
      "[135]\tvalid_0's l2: 2857.98\n",
      "[136]\tvalid_0's l2: 2860.26\n",
      "[137]\tvalid_0's l2: 2879.18\n",
      "[138]\tvalid_0's l2: 2882.34\n",
      "[139]\tvalid_0's l2: 2880.86\n",
      "[140]\tvalid_0's l2: 2883.89\n",
      "[141]\tvalid_0's l2: 2888.33\n",
      "[142]\tvalid_0's l2: 2886.83\n",
      "[143]\tvalid_0's l2: 2886.2\n",
      "[144]\tvalid_0's l2: 2896.38\n",
      "[145]\tvalid_0's l2: 2900.83\n",
      "[146]\tvalid_0's l2: 2891.86\n",
      "[147]\tvalid_0's l2: 2895.33\n",
      "[148]\tvalid_0's l2: 2899.65\n",
      "[149]\tvalid_0's l2: 2898.97\n",
      "[150]\tvalid_0's l2: 2893.18\n",
      "[151]\tvalid_0's l2: 2898.12\n",
      "[152]\tvalid_0's l2: 2900.72\n",
      "[153]\tvalid_0's l2: 2895.33\n",
      "[154]\tvalid_0's l2: 2906.94\n",
      "[155]\tvalid_0's l2: 2923.62\n",
      "[156]\tvalid_0's l2: 2923.26\n",
      "[157]\tvalid_0's l2: 2911.98\n"
     ]
    },
    {
     "data": {
      "text/plain": [
       "LGBMRegressor(max_depth=2, n_estimators=500)"
      ]
     },
     "execution_count": 185,
     "metadata": {},
     "output_type": "execute_result"
    }
   ],
   "source": [
    "model1 = LGBMRegressor(n_estimators=500, max_depth=2, learning_rate=0.1)\n",
    "model1.fit(X_train, y_train, early_stopping_rounds=100,\n",
    "          eval_metric=\"logloss\", eval_set=[(X_test, y_test)],\n",
    "         verbose = True)\n",
    "# fit이라는 함수 안에는 사실 반복문처럼 반복실행을 하고 있다\n",
    "# 어느정도 변화가 없을 때 중지를 시키기 위한 옵션 = early_stopping_rounds\n",
    "# early_stopping_rounds=100 : 100번 돌 때까지 변화가 없으면 중지시키겠다"
   ]
  },
  {
   "cell_type": "code",
   "execution_count": 186,
   "id": "5b942dc0",
   "metadata": {},
   "outputs": [
    {
     "name": "stdout",
     "output_type": "stream",
     "text": [
      "0.6376263350783249\n",
      "0.521161229211471\n"
     ]
    }
   ],
   "source": [
    "print(model1.score(X_train, y_train))\n",
    "print(model1.score(X_test, y_test))"
   ]
  },
  {
   "cell_type": "code",
   "execution_count": 187,
   "id": "4578a905",
   "metadata": {},
   "outputs": [
    {
     "data": {
      "text/plain": [
       "<AxesSubplot:title={'center':'Metric during training'}, xlabel='Iterations', ylabel='l2'>"
      ]
     },
     "execution_count": 187,
     "metadata": {},
     "output_type": "execute_result"
    },
    {
     "data": {
      "image/png": "[encoded data removed]",
      "text/plain": [
       "<Figure size 640x480 with 1 Axes>"
      ]
     },
     "metadata": {},
     "output_type": "display_data"
    }
   ],
   "source": [
    "plot_metric(model1)"
   ]
  },
  {
   "cell_type": "markdown",
   "id": "85d7cb1e",
   "metadata": {},
   "source": [
    "# 6. Stacking 실습"
   ]
  },
  {
   "cell_type": "code",
   "execution_count": 188,
   "id": "f1cd2287",
   "metadata": {},
   "outputs": [],
   "source": [
    "X_train = pd.read_csv(\"data/X_final_C.csv\")\n",
    "X_test = pd.read_csv(\"data/test_final_C.csv\")\n",
    "y_train = pd.read_csv(\"data/y_train_C.csv\")\n",
    "y_test = pd.read_csv(\"data/y_test_C.csv\")"
   ]
  },
  {
   "cell_type": "code",
   "execution_count": 190,
   "id": "a20ee28b",
   "metadata": {},
   "outputs": [],
   "source": [
    "from sklearn.ensemble import RandomForestClassifier\n",
    "from sklearn.svm import SVC\n",
    "from sklearn.linear_model import LogisticRegression\n",
    "from sklearn.ensemble import StackingClassifier"
   ]
  },
  {
   "cell_type": "code",
   "execution_count": 192,
   "id": "9e1c82af",
   "metadata": {},
   "outputs": [
    {
     "data": {
      "text/plain": [
       "StackingClassifier(estimators=[('rf',\n",
       "                                RandomForestClassifier(n_estimators=10,\n",
       "                                                       random_state=42)),\n",
       "                               ('svr', SVC(random_state=42))],\n",
       "                   final_estimator=LogisticRegression())"
      ]
     },
     "execution_count": 192,
     "metadata": {},
     "output_type": "execute_result"
    }
   ],
   "source": [
    "estimators = [(\"rf\", RandomForestClassifier(n_estimators=10, random_state=42)),\n",
    "             (\"svm\", SVC(random_state=42))]\n",
    "\n",
    "model = StackingClassifier(estimators=estimators,\n",
    "                           final_estimator = LogisticRegression())\n",
    "model.fit(X_train, y_train)"
   ]
  },
  {
   "cell_type": "code",
   "execution_count": 194,
   "id": "3ac475a7",
   "metadata": {},
   "outputs": [
    {
     "name": "stdout",
     "output_type": "stream",
     "text": [
      "0.8690647482014389\n",
      "0.7788944723618091\n"
     ]
    }
   ],
   "source": [
    "print(model.score(X_train, y_train))\n",
    "print(model.score(X_test, y_test))"
   ]
  }
 ],
 "metadata": {
  "kernelspec": {
   "display_name": "Python 3 (ipykernel)",
   "language": "python",
   "name": "python3"
  },
  "language_info": {
   "codemirror_mode": {
    "name": "ipython",
    "version": 3
   },
   "file_extension": ".py",
   "mimetype": "text/x-python",
   "name": "python",
   "nbconvert_exporter": "python",
   "pygments_lexer": "ipython3",
   "version": "3.9.13"
  }
 },
 "nbformat": 4,
 "nbformat_minor": 5
}
